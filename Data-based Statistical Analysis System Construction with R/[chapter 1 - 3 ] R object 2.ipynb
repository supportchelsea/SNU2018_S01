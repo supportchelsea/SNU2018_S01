{
 "cells": [
  {
   "cell_type": "code",
   "execution_count": null,
   "metadata": {},
   "outputs": [],
   "source": []
  },
  {
   "cell_type": "markdown",
   "metadata": {},
   "source": [
    "## 3. Casting\n",
    "\n",
    "### class of object\n",
    "\n",
    "1) 벡터와 \n",
    "2) 데이터 프레임과 리스트는 같다\n",
    "\n",
    "데이터 프레임이 가지는 장점\n",
    "=> r c 인덱싱이 가능"
   ]
  },
  {
   "cell_type": "code",
   "execution_count": 23,
   "metadata": {},
   "outputs": [
    {
     "data": {
      "text/html": [
       "'character'"
      ],
      "text/latex": [
       "'character'"
      ],
      "text/markdown": [
       "'character'"
      ],
      "text/plain": [
       "[1] \"character\""
      ]
     },
     "metadata": {},
     "output_type": "display_data"
    },
    {
     "data": {
      "text/html": [
       "<table>\n",
       "<thead><tr><th scope=col>a</th><th scope=col>X1L</th><th scope=col>X2L</th><th scope=col>X3L</th><th scope=col>X4L</th><th scope=col>c</th></tr></thead>\n",
       "<tbody>\n",
       "\t<tr><td>1</td><td>1</td><td>2</td><td>3</td><td>4</td><td>c</td></tr>\n",
       "\t<tr><td>2</td><td>1</td><td>2</td><td>3</td><td>4</td><td>c</td></tr>\n",
       "\t<tr><td>3</td><td>1</td><td>2</td><td>3</td><td>4</td><td>c</td></tr>\n",
       "\t<tr><td>a</td><td>1</td><td>2</td><td>3</td><td>4</td><td>c</td></tr>\n",
       "</tbody>\n",
       "</table>\n"
      ],
      "text/latex": [
       "\\begin{tabular}{r|llllll}\n",
       " a & X1L & X2L & X3L & X4L & c\\\\\n",
       "\\hline\n",
       "\t 1 & 1 & 2 & 3 & 4 & c\\\\\n",
       "\t 2 & 1 & 2 & 3 & 4 & c\\\\\n",
       "\t 3 & 1 & 2 & 3 & 4 & c\\\\\n",
       "\t a & 1 & 2 & 3 & 4 & c\\\\\n",
       "\\end{tabular}\n"
      ],
      "text/markdown": [
       "\n",
       "a | X1L | X2L | X3L | X4L | c | \n",
       "|---|---|---|---|\n",
       "| 1 | 1 | 2 | 3 | 4 | c | \n",
       "| 2 | 1 | 2 | 3 | 4 | c | \n",
       "| 3 | 1 | 2 | 3 | 4 | c | \n",
       "| a | 1 | 2 | 3 | 4 | c | \n",
       "\n",
       "\n"
      ],
      "text/plain": [
       "  a X1L X2L X3L X4L c\n",
       "1 1 1   2   3   4   c\n",
       "2 2 1   2   3   4   c\n",
       "3 3 1   2   3   4   c\n",
       "4 a 1   2   3   4   c"
      ]
     },
     "metadata": {},
     "output_type": "display_data"
    }
   ],
   "source": [
    "a = c(1:3,\"a\")\n",
    "class(a)\n",
    "b = vector('list',length = 4)\n",
    "b[1:4] = 1:4\n",
    "#b = unlist(b)\n",
    "#리스트는 \n",
    "c = c(rep('c',4))\n",
    "\n",
    "data.frame(a,b,c)"
   ]
  },
  {
   "cell_type": "code",
   "execution_count": 18,
   "metadata": {},
   "outputs": [
    {
     "data": {
      "text/html": [
       "<ol class=list-inline>\n",
       "\t<li>'c'</li>\n",
       "\t<li>'c'</li>\n",
       "\t<li>'c'</li>\n",
       "</ol>\n"
      ],
      "text/latex": [
       "\\begin{enumerate*}\n",
       "\\item 'c'\n",
       "\\item 'c'\n",
       "\\item 'c'\n",
       "\\end{enumerate*}\n"
      ],
      "text/markdown": [
       "1. 'c'\n",
       "2. 'c'\n",
       "3. 'c'\n",
       "\n",
       "\n"
      ],
      "text/plain": [
       "[1] \"c\" \"c\" \"c\""
      ]
     },
     "metadata": {},
     "output_type": "display_data"
    }
   ],
   "source": [
    "c = c(rep('c',3))\n",
    "c"
   ]
  },
  {
   "cell_type": "code",
   "execution_count": 7,
   "metadata": {
    "scrolled": true
   },
   "outputs": [
    {
     "name": "stdout",
     "output_type": "stream",
     "text": [
      "     [,1] [,2]\n",
      "[1,]    1    6\n",
      "[2,]    3    8\n",
      "[3,]    5   10\n",
      "     [,1] [,2]\n",
      "[1,]    1    6\n",
      "[2,]    3    8\n",
      "[3,]    5   10\n"
     ]
    }
   ],
   "source": [
    "a = matrix(1:10,5,2)\n",
    "print(a[c(1,3,5),])\n",
    "\n",
    "print(a[c(T,F,T,F,T),])"
   ]
  },
  {
   "cell_type": "markdown",
   "metadata": {},
   "source": [
    "리스트가 데이터 프레임에 비해 가지는 장점\n",
    "\n",
    "\n",
    "데이터 프레임 = 열이 똑같은 길이를 가져야 하고\n",
    "벡터 형태로 표현되어 있어야 하는 단점을 가짐\n",
    "리스트는 뭐든 가능"
   ]
  },
  {
   "cell_type": "code",
   "execution_count": 27,
   "metadata": {},
   "outputs": [
    {
     "name": "stdout",
     "output_type": "stream",
     "text": [
      " int [1:10] 1 2 3 4 5 6 7 8 9 10\n"
     ]
    }
   ],
   "source": [
    "#18페이지\n",
    "# 매트릭스의 구조를 풀고 싶음\n",
    "\n",
    "a = matrix(1:10,5,2)\n",
    "b = c(a)\n",
    "str(b) #매트릭스의 구조가 사라짐"
   ]
  },
  {
   "cell_type": "code",
   "execution_count": 40,
   "metadata": {},
   "outputs": [
    {
     "name": "stdout",
     "output_type": "stream",
     "text": [
      "     [,1]\n",
      "[1,]    6\n",
      "[2,]    7\n",
      "[3,]    8\n",
      "[4,]    9\n",
      "[5,]   10\n",
      "[1]  6  7  8  9 10\n"
     ]
    }
   ],
   "source": [
    "print(a[,-1,drop = F])\n",
    "\n",
    "# col 매트릭스를 바꿀때는 관습적으로 drop 함수를 사용\n",
    "\n",
    "print(drop((a[,-1,drop = F])))"
   ]
  },
  {
   "cell_type": "code",
   "execution_count": 43,
   "metadata": {},
   "outputs": [],
   "source": [
    "?drop"
   ]
  },
  {
   "cell_type": "code",
   "execution_count": 42,
   "metadata": {
    "scrolled": true
   },
   "outputs": [
    {
     "data": {
      "text/html": [
       "'matrix'"
      ],
      "text/latex": [
       "'matrix'"
      ],
      "text/markdown": [
       "'matrix'"
      ],
      "text/plain": [
       "[1] \"matrix\""
      ]
     },
     "metadata": {},
     "output_type": "display_data"
    },
    {
     "data": {
      "text/html": [
       "'integer'"
      ],
      "text/latex": [
       "'integer'"
      ],
      "text/markdown": [
       "'integer'"
      ],
      "text/plain": [
       "[1] \"integer\""
      ]
     },
     "metadata": {},
     "output_type": "display_data"
    },
    {
     "data": {
      "text/html": [
       "<table>\n",
       "<tbody>\n",
       "\t<tr><td> 6</td></tr>\n",
       "\t<tr><td> 7</td></tr>\n",
       "\t<tr><td> 8</td></tr>\n",
       "\t<tr><td> 9</td></tr>\n",
       "\t<tr><td>10</td></tr>\n",
       "</tbody>\n",
       "</table>\n"
      ],
      "text/latex": [
       "\\begin{tabular}{l}\n",
       "\t  6\\\\\n",
       "\t  7\\\\\n",
       "\t  8\\\\\n",
       "\t  9\\\\\n",
       "\t 10\\\\\n",
       "\\end{tabular}\n"
      ],
      "text/markdown": [
       "\n",
       "|  6 | \n",
       "|  7 | \n",
       "|  8 | \n",
       "|  9 | \n",
       "| 10 | \n",
       "\n",
       "\n"
      ],
      "text/plain": [
       "     [,1]\n",
       "[1,]  6  \n",
       "[2,]  7  \n",
       "[3,]  8  \n",
       "[4,]  9  \n",
       "[5,] 10  "
      ]
     },
     "metadata": {},
     "output_type": "display_data"
    },
    {
     "data": {
      "text/html": [
       "<ol class=list-inline>\n",
       "\t<li>6</li>\n",
       "\t<li>7</li>\n",
       "\t<li>8</li>\n",
       "\t<li>9</li>\n",
       "\t<li>10</li>\n",
       "</ol>\n"
      ],
      "text/latex": [
       "\\begin{enumerate*}\n",
       "\\item 6\n",
       "\\item 7\n",
       "\\item 8\n",
       "\\item 9\n",
       "\\item 10\n",
       "\\end{enumerate*}\n"
      ],
      "text/markdown": [
       "1. 6\n",
       "2. 7\n",
       "3. 8\n",
       "4. 9\n",
       "5. 10\n",
       "\n",
       "\n"
      ],
      "text/plain": [
       "[1]  6  7  8  9 10"
      ]
     },
     "metadata": {},
     "output_type": "display_data"
    },
    {
     "data": {
      "text/html": [
       "'integer'"
      ],
      "text/latex": [
       "'integer'"
      ],
      "text/markdown": [
       "'integer'"
      ],
      "text/plain": [
       "[1] \"integer\""
      ]
     },
     "metadata": {},
     "output_type": "display_data"
    },
    {
     "data": {
      "text/html": [
       "'integer'"
      ],
      "text/latex": [
       "'integer'"
      ],
      "text/markdown": [
       "'integer'"
      ],
      "text/plain": [
       "[1] \"integer\""
      ]
     },
     "metadata": {},
     "output_type": "display_data"
    }
   ],
   "source": [
    "ad = a[,-1,drop = F]\n",
    "class(ad)\n",
    "typeof(ad)\n",
    "ad\n",
    "\n",
    "# col 매트릭스를 바꿀때는 관습적으로 drop 함수를 사용\n",
    "add = drop(a[,-1,drop = F]) #drop이라는 함수자체가 매트릭스를 벡터로 바꾸는 함수\n",
    "add\n",
    "class(add)\n",
    "typeof(add)"
   ]
  },
  {
   "cell_type": "markdown",
   "metadata": {},
   "source": [
    "벡터를 펙터로 바꾸기\n",
    "\n",
    "vector → factor: as.factor()"
   ]
  },
  {
   "cell_type": "code",
   "execution_count": 15,
   "metadata": {},
   "outputs": [
    {
     "name": "stdout",
     "output_type": "stream",
     "text": [
      "[1] tommy jimmy jane \n",
      "Levels: jane jimmy tommy\n"
     ]
    },
    {
     "data": {
      "text/html": [
       "<ol class=list-inline>\n",
       "\t<li>3</li>\n",
       "\t<li>2</li>\n",
       "\t<li>1</li>\n",
       "</ol>\n"
      ],
      "text/latex": [
       "\\begin{enumerate*}\n",
       "\\item 3\n",
       "\\item 2\n",
       "\\item 1\n",
       "\\end{enumerate*}\n"
      ],
      "text/markdown": [
       "1. 3\n",
       "2. 2\n",
       "3. 1\n",
       "\n",
       "\n"
      ],
      "text/plain": [
       "[1] 3 2 1"
      ]
     },
     "metadata": {},
     "output_type": "display_data"
    }
   ],
   "source": [
    "a = c(\"tommy\", \"jimmy\", \"jane\")\n",
    "b = as.factor(a) #as.factor로 정할때 입력된 순서대로\n",
    "# 레벨이 정해지는 것이 아닌 사전편찬식으로 유니크 캐릭터 벡터를 정렬\n",
    "\n",
    "print(b) #factor형으로 바꿈\n",
    "\n",
    "# factor -> integer vector(정수형==> 팩터는 정수다!)\n",
    "c(b)"
   ]
  },
  {
   "cell_type": "markdown",
   "metadata": {},
   "source": [
    "as.matrix() #데이터 프레임이 매트릭스로 변환 가능한 경우에는 매트릭스로 변환해줘"
   ]
  },
  {
   "cell_type": "code",
   "execution_count": 50,
   "metadata": {},
   "outputs": [
    {
     "data": {
      "text/html": [
       "<table>\n",
       "<tbody>\n",
       "\t<tr><td>1</td></tr>\n",
       "\t<tr><td>2</td></tr>\n",
       "\t<tr><td>3</td></tr>\n",
       "\t<tr><td>4</td></tr>\n",
       "\t<tr><td>5</td></tr>\n",
       "\t<tr><td>6</td></tr>\n",
       "\t<tr><td>7</td></tr>\n",
       "\t<tr><td>8</td></tr>\n",
       "\t<tr><td>9</td></tr>\n",
       "</tbody>\n",
       "</table>\n"
      ],
      "text/latex": [
       "\\begin{tabular}{l}\n",
       "\t 1\\\\\n",
       "\t 2\\\\\n",
       "\t 3\\\\\n",
       "\t 4\\\\\n",
       "\t 5\\\\\n",
       "\t 6\\\\\n",
       "\t 7\\\\\n",
       "\t 8\\\\\n",
       "\t 9\\\\\n",
       "\\end{tabular}\n"
      ],
      "text/markdown": [
       "\n",
       "| 1 | \n",
       "| 2 | \n",
       "| 3 | \n",
       "| 4 | \n",
       "| 5 | \n",
       "| 6 | \n",
       "| 7 | \n",
       "| 8 | \n",
       "| 9 | \n",
       "\n",
       "\n"
      ],
      "text/plain": [
       "      [,1]\n",
       " [1,] 1   \n",
       " [2,] 2   \n",
       " [3,] 3   \n",
       " [4,] 4   \n",
       " [5,] 5   \n",
       " [6,] 6   \n",
       " [7,] 7   \n",
       " [8,] 8   \n",
       " [9,] 9   "
      ]
     },
     "metadata": {},
     "output_type": "display_data"
    }
   ],
   "source": [
    "a = 1:9\n",
    "b = as.matrix(a,nrow = 3)\n",
    "b"
   ]
  },
  {
   "cell_type": "code",
   "execution_count": 20,
   "metadata": {},
   "outputs": [
    {
     "data": {
      "text/html": [
       "<table>\n",
       "<thead><tr><th scope=col>X1</th><th scope=col>X2</th></tr></thead>\n",
       "<tbody>\n",
       "\t<tr><td>1</td><td>2</td></tr>\n",
       "</tbody>\n",
       "</table>\n"
      ],
      "text/latex": [
       "\\begin{tabular}{ll}\n",
       " X1 & X2\\\\\n",
       "\\hline\n",
       "\t 1 & 2\\\\\n",
       "\\end{tabular}\n"
      ],
      "text/markdown": [
       "\n",
       "X1 | X2 | \n",
       "|---|\n",
       "| 1 | 2 | \n",
       "\n",
       "\n"
      ],
      "text/plain": [
       "     X1 X2\n",
       "[1,] 1  2 "
      ]
     },
     "metadata": {},
     "output_type": "display_data"
    },
    {
     "data": {
      "text/html": [
       "'matrix'"
      ],
      "text/latex": [
       "'matrix'"
      ],
      "text/markdown": [
       "'matrix'"
      ],
      "text/plain": [
       "[1] \"matrix\""
      ]
     },
     "metadata": {},
     "output_type": "display_data"
    }
   ],
   "source": [
    "a = data.frame(1,2)\n",
    "b = as.matrix(a)\n",
    "b\n",
    "class(b)"
   ]
  },
  {
   "cell_type": "code",
   "execution_count": 23,
   "metadata": {},
   "outputs": [
    {
     "name": "stdout",
     "output_type": "stream",
     "text": [
      "     v1  v2 \n",
      "[1,] \"1\" \"a\"\n"
     ]
    },
    {
     "data": {
      "text/html": [
       "'matrix'"
      ],
      "text/latex": [
       "'matrix'"
      ],
      "text/markdown": [
       "'matrix'"
      ],
      "text/plain": [
       "[1] \"matrix\""
      ]
     },
     "metadata": {},
     "output_type": "display_data"
    },
    {
     "ename": "ERROR",
     "evalue": "Error in b[1, 1] + 1: 이항연산자에 수치가 아닌 인수입니다\n",
     "output_type": "error",
     "traceback": [
      "Error in b[1, 1] + 1: 이항연산자에 수치가 아닌 인수입니다\nTraceback:\n"
     ]
    }
   ],
   "source": [
    "a = data.frame(v1 = 1,v2 = 'a')\n",
    "b = as.matrix(a)\n",
    "print(b) \n",
    "class(b)# 데이터 프레임을 매트릭스로 강제로 캐스팅하지만\n",
    "\n",
    "b[1,1] + 1 # 연산은 되지 않음"
   ]
  },
  {
   "cell_type": "code",
   "execution_count": 24,
   "metadata": {
    "scrolled": true
   },
   "outputs": [
    {
     "name": "stdout",
     "output_type": "stream",
     "text": [
      "     v1  v2  v3     \n",
      "[1,] \"1\" \"a\" \"FALSE\"\n"
     ]
    },
    {
     "data": {
      "text/html": [
       "'matrix'"
      ],
      "text/latex": [
       "'matrix'"
      ],
      "text/markdown": [
       "'matrix'"
      ],
      "text/plain": [
       "[1] \"matrix\""
      ]
     },
     "metadata": {},
     "output_type": "display_data"
    },
    {
     "ename": "ERROR",
     "evalue": "Error in b[1, 1] + 1: 이항연산자에 수치가 아닌 인수입니다\n",
     "output_type": "error",
     "traceback": [
      "Error in b[1, 1] + 1: 이항연산자에 수치가 아닌 인수입니다\nTraceback:\n"
     ]
    }
   ],
   "source": [
    "a = data.frame(v1 = 1,v2 = 'a',v3 = FALSE)\n",
    "b = as.matrix(a)\n",
    "print(b) \n",
    "class(b)# 데이터 프레임을 매트릭스로 강제로 캐스팅하지만\n",
    "\n",
    "b[1,1] + 1 # 연산은 되지 않음 \n"
   ]
  },
  {
   "cell_type": "markdown",
   "metadata": {},
   "source": [
    "=> 오브젝트 변환 시 데이터 파일이 어떻게 변환될 것인지 알 수 있어야 함\n",
    "\n",
    "매트릭스는 똑같은형태의 데이터로 바꿀수 밖에 없음\n",
    "\n",
    "가장 메모리 사이즈를 많이 차지하는 캐릭터로 바꾸게 됨\n",
    "\n",
    "\n",
    "코딩상 버그를 나타낼 수 있는 '타입 자동변환'\n",
    "\n",
    "저장/변환/복사 시 타입 유지"
   ]
  },
  {
   "cell_type": "code",
   "execution_count": 34,
   "metadata": {},
   "outputs": [
    {
     "data": {
      "text/html": [
       "<ol class=list-inline>\n",
       "\t<li>1</li>\n",
       "\t<li>2</li>\n",
       "\t<li>3</li>\n",
       "\t<li>4</li>\n",
       "\t<li>5</li>\n",
       "</ol>\n"
      ],
      "text/latex": [
       "\\begin{enumerate*}\n",
       "\\item 1\n",
       "\\item 2\n",
       "\\item 3\n",
       "\\item 4\n",
       "\\item 5\n",
       "\\end{enumerate*}\n"
      ],
      "text/markdown": [
       "1. 1\n",
       "2. 2\n",
       "3. 3\n",
       "4. 4\n",
       "5. 5\n",
       "\n",
       "\n"
      ],
      "text/plain": [
       "[1] 1 2 3 4 5"
      ]
     },
     "metadata": {},
     "output_type": "display_data"
    }
   ],
   "source": [
    "a = list()\n",
    "for (i in 1:5) a[[i]] = i\n",
    "b = unlist(a)\n",
    "b"
   ]
  },
  {
   "cell_type": "markdown",
   "metadata": {},
   "source": [
    "### matrix → data.frame: as.data.frame()\n",
    "\n",
    "매트릭스에서 이름 "
   ]
  },
  {
   "cell_type": "code",
   "execution_count": 39,
   "metadata": {},
   "outputs": [
    {
     "data": {
      "text/html": [
       "<table>\n",
       "<thead><tr><th></th><th scope=col>x1</th><th scope=col>x2</th></tr></thead>\n",
       "<tbody>\n",
       "\t<tr><th scope=row>r1</th><td>1 </td><td> 6</td></tr>\n",
       "\t<tr><th scope=row>r2</th><td>2 </td><td> 7</td></tr>\n",
       "\t<tr><th scope=row>r3</th><td>3 </td><td> 8</td></tr>\n",
       "\t<tr><th scope=row>r4</th><td>4 </td><td> 9</td></tr>\n",
       "\t<tr><th scope=row>r5</th><td>5 </td><td>10</td></tr>\n",
       "</tbody>\n",
       "</table>\n"
      ],
      "text/latex": [
       "\\begin{tabular}{r|ll}\n",
       "  & x1 & x2\\\\\n",
       "\\hline\n",
       "\tr1 & 1  &  6\\\\\n",
       "\tr2 & 2  &  7\\\\\n",
       "\tr3 & 3  &  8\\\\\n",
       "\tr4 & 4  &  9\\\\\n",
       "\tr5 & 5  & 10\\\\\n",
       "\\end{tabular}\n"
      ],
      "text/markdown": [
       "\n",
       "| <!--/--> | x1 | x2 | \n",
       "|---|---|---|---|---|\n",
       "| r1 | 1  |  6 | \n",
       "| r2 | 2  |  7 | \n",
       "| r3 | 3  |  8 | \n",
       "| r4 | 4  |  9 | \n",
       "| r5 | 5  | 10 | \n",
       "\n",
       "\n"
      ],
      "text/plain": [
       "   x1 x2\n",
       "r1 1   6\n",
       "r2 2   7\n",
       "r3 3   8\n",
       "r4 4   9\n",
       "r5 5  10"
      ]
     },
     "metadata": {},
     "output_type": "display_data"
    }
   ],
   "source": [
    "a = matrix(1:10,5,2)\n",
    "colnames(a) = c('x1','x2') # 열의 이름을 붙이는 함수\n",
    "rownames(a) <- c('r1','r2','r3','r4','r5')\n",
    "a"
   ]
  },
  {
   "cell_type": "code",
   "execution_count": 51,
   "metadata": {},
   "outputs": [
    {
     "data": {
      "text/html": [
       "<ol class=list-inline>\n",
       "\t<li>'r1'</li>\n",
       "\t<li>'r2'</li>\n",
       "\t<li>'r3'</li>\n",
       "\t<li>'r4'</li>\n",
       "\t<li>'r5'</li>\n",
       "\t<li>'r6'</li>\n",
       "\t<li>'r7'</li>\n",
       "\t<li>'r8'</li>\n",
       "\t<li>'r9'</li>\n",
       "\t<li>'r10'</li>\n",
       "</ol>\n"
      ],
      "text/latex": [
       "\\begin{enumerate*}\n",
       "\\item 'r1'\n",
       "\\item 'r2'\n",
       "\\item 'r3'\n",
       "\\item 'r4'\n",
       "\\item 'r5'\n",
       "\\item 'r6'\n",
       "\\item 'r7'\n",
       "\\item 'r8'\n",
       "\\item 'r9'\n",
       "\\item 'r10'\n",
       "\\end{enumerate*}\n"
      ],
      "text/markdown": [
       "1. 'r1'\n",
       "2. 'r2'\n",
       "3. 'r3'\n",
       "4. 'r4'\n",
       "5. 'r5'\n",
       "6. 'r6'\n",
       "7. 'r7'\n",
       "8. 'r8'\n",
       "9. 'r9'\n",
       "10. 'r10'\n",
       "\n",
       "\n"
      ],
      "text/plain": [
       " [1] \"r1\"  \"r2\"  \"r3\"  \"r4\"  \"r5\"  \"r6\"  \"r7\"  \"r8\"  \"r9\"  \"r10\""
      ]
     },
     "metadata": {},
     "output_type": "display_data"
    },
    {
     "data": {
      "text/html": [
       "<table>\n",
       "<thead><tr><th></th><th scope=col>x1</th><th scope=col>x2</th></tr></thead>\n",
       "<tbody>\n",
       "\t<tr><th scope=row>r1</th><td>1 </td><td> 6</td></tr>\n",
       "\t<tr><th scope=row>r2</th><td>2 </td><td> 7</td></tr>\n",
       "\t<tr><th scope=row>r3</th><td>3 </td><td> 8</td></tr>\n",
       "\t<tr><th scope=row>r4</th><td>4 </td><td> 9</td></tr>\n",
       "\t<tr><th scope=row>r5</th><td>5 </td><td>10</td></tr>\n",
       "</tbody>\n",
       "</table>\n"
      ],
      "text/latex": [
       "\\begin{tabular}{r|ll}\n",
       "  & x1 & x2\\\\\n",
       "\\hline\n",
       "\tr1 & 1  &  6\\\\\n",
       "\tr2 & 2  &  7\\\\\n",
       "\tr3 & 3  &  8\\\\\n",
       "\tr4 & 4  &  9\\\\\n",
       "\tr5 & 5  & 10\\\\\n",
       "\\end{tabular}\n"
      ],
      "text/markdown": [
       "\n",
       "| <!--/--> | x1 | x2 | \n",
       "|---|---|---|---|---|\n",
       "| r1 | 1  |  6 | \n",
       "| r2 | 2  |  7 | \n",
       "| r3 | 3  |  8 | \n",
       "| r4 | 4  |  9 | \n",
       "| r5 | 5  | 10 | \n",
       "\n",
       "\n"
      ],
      "text/plain": [
       "   x1 x2\n",
       "r1 1   6\n",
       "r2 2   7\n",
       "r3 3   8\n",
       "r4 4   9\n",
       "r5 5  10"
      ]
     },
     "metadata": {},
     "output_type": "display_data"
    },
    {
     "data": {
      "text/html": [
       "<ol class=list-inline>\n",
       "\t<li>'r~1'</li>\n",
       "\t<li>'r~2'</li>\n",
       "\t<li>'r~3'</li>\n",
       "\t<li>'r~4'</li>\n",
       "\t<li>'r~5'</li>\n",
       "</ol>\n"
      ],
      "text/latex": [
       "\\begin{enumerate*}\n",
       "\\item 'r\\textasciitilde{}1'\n",
       "\\item 'r\\textasciitilde{}2'\n",
       "\\item 'r\\textasciitilde{}3'\n",
       "\\item 'r\\textasciitilde{}4'\n",
       "\\item 'r\\textasciitilde{}5'\n",
       "\\end{enumerate*}\n"
      ],
      "text/markdown": [
       "1. 'r~1'\n",
       "2. 'r~2'\n",
       "3. 'r~3'\n",
       "4. 'r~4'\n",
       "5. 'r~5'\n",
       "\n",
       "\n"
      ],
      "text/plain": [
       "[1] \"r~1\" \"r~2\" \"r~3\" \"r~4\" \"r~5\""
      ]
     },
     "metadata": {},
     "output_type": "display_data"
    }
   ],
   "source": [
    "#간단한 이름 - 붙이기 위해 paste 함수\n",
    "paste0('r',1:10) #recycle 작동\n",
    "# 캐릭터 r 벡터가 짧기 때문에 \n",
    "\n",
    "a = matrix(1:10,5,2)\n",
    "colnames(a) = paste0('x',1:2) # 열의 이름을 붙이는 함수\n",
    "rownames(a) <- paste0('r',1:5)\n",
    "a\n",
    "\n",
    "paste('r',1:5,sep=\"~\") # 케릭터 변환문과 비슷"
   ]
  },
  {
   "cell_type": "code",
   "execution_count": 53,
   "metadata": {},
   "outputs": [],
   "source": [
    "?names"
   ]
  },
  {
   "cell_type": "markdown",
   "metadata": {},
   "source": [
    "#### 데이터 프레임의 col name관리\n",
    "names 로"
   ]
  },
  {
   "cell_type": "code",
   "execution_count": 54,
   "metadata": {},
   "outputs": [
    {
     "data": {
      "text/html": [
       "<ol class=list-inline>\n",
       "\t<li>'x1'</li>\n",
       "\t<li>'x2'</li>\n",
       "</ol>\n"
      ],
      "text/latex": [
       "\\begin{enumerate*}\n",
       "\\item 'x1'\n",
       "\\item 'x2'\n",
       "\\end{enumerate*}\n"
      ],
      "text/markdown": [
       "1. 'x1'\n",
       "2. 'x2'\n",
       "\n",
       "\n"
      ],
      "text/plain": [
       "[1] \"x1\" \"x2\""
      ]
     },
     "metadata": {},
     "output_type": "display_data"
    },
    {
     "name": "stdout",
     "output_type": "stream",
     "text": [
      "   v1 v2\n",
      "r1  1  6\n",
      "r2  2  7\n",
      "r3  3  8\n",
      "r4  4  9\n",
      "r5  5 10\n"
     ]
    },
    {
     "data": {
      "text/html": [
       "<ol class=list-inline>\n",
       "\t<li>'v1'</li>\n",
       "\t<li>'v2'</li>\n",
       "</ol>\n"
      ],
      "text/latex": [
       "\\begin{enumerate*}\n",
       "\\item 'v1'\n",
       "\\item 'v2'\n",
       "\\end{enumerate*}\n"
      ],
      "text/markdown": [
       "1. 'v1'\n",
       "2. 'v2'\n",
       "\n",
       "\n"
      ],
      "text/plain": [
       "[1] \"v1\" \"v2\""
      ]
     },
     "metadata": {},
     "output_type": "display_data"
    }
   ],
   "source": [
    "b = as.data.frame(a)\n",
    "colnames(a)\n",
    "b\n",
    "\n",
    "names(b) = paste0('v',1:2)\n",
    "print(b)\n",
    "\n",
    "names(b)"
   ]
  },
  {
   "cell_type": "markdown",
   "metadata": {},
   "source": [
    "names(b) 참조하는 위치에 이 값을 넣어라! / rownames(a) 참조하는 값을 프린트 하여라"
   ]
  },
  {
   "cell_type": "markdown",
   "metadata": {},
   "source": [
    "### data.frame → list: unclass()\n",
    "R에서는 s3. class 를 많이 사용 (리스트와 비슷!)\n",
    "$ 로 인덱싱하는 모든 형식 s3 class\n",
    "자유로운 형태? => 구체적인 형태 지정하지 않아도 ok\n",
    "\n",
    "s4의 경우 @ 로 인덱싱\n",
    "강제적인 형태\n",
    "\n",
    "\"데이터 프레임은 인덱싱을 할 수 있는 기능을 가진 s3. class\"\n",
    "\n",
    "모든 s3 class에 unclass 적용시,\n",
    "리스트로 변환됨"
   ]
  },
  {
   "cell_type": "code",
   "execution_count": 51,
   "metadata": {},
   "outputs": [
    {
     "data": {
      "text/html": [
       "'list'"
      ],
      "text/latex": [
       "'list'"
      ],
      "text/markdown": [
       "'list'"
      ],
      "text/plain": [
       "[1] \"list\""
      ]
     },
     "metadata": {},
     "output_type": "display_data"
    }
   ],
   "source": [
    "a = matrix(1:10,5,2)\n",
    "b = as.data.frame(a)\n",
    "b = unclass(b)\n",
    "class(b)"
   ]
  },
  {
   "cell_type": "code",
   "execution_count": null,
   "metadata": {},
   "outputs": [],
   "source": []
  },
  {
   "cell_type": "code",
   "execution_count": null,
   "metadata": {},
   "outputs": [],
   "source": []
  },
  {
   "cell_type": "code",
   "execution_count": null,
   "metadata": {},
   "outputs": [],
   "source": []
  },
  {
   "cell_type": "code",
   "execution_count": null,
   "metadata": {},
   "outputs": [],
   "source": []
  },
  {
   "cell_type": "code",
   "execution_count": null,
   "metadata": {},
   "outputs": [],
   "source": []
  },
  {
   "cell_type": "code",
   "execution_count": null,
   "metadata": {},
   "outputs": [],
   "source": []
  },
  {
   "cell_type": "code",
   "execution_count": null,
   "metadata": {},
   "outputs": [],
   "source": []
  }
 ],
 "metadata": {
  "kernelspec": {
   "display_name": "R",
   "language": "R",
   "name": "ir"
  },
  "language_info": {
   "codemirror_mode": "r",
   "file_extension": ".r",
   "mimetype": "text/x-r-source",
   "name": "R",
   "pygments_lexer": "r",
   "version": "3.5.0"
  }
 },
 "nbformat": 4,
 "nbformat_minor": 2
}
