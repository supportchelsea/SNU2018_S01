{
 "cells": [
  {
   "cell_type": "code",
   "execution_count": 1,
   "metadata": {
    "scrolled": true
   },
   "outputs": [
    {
     "name": "stderr",
     "output_type": "stream",
     "text": [
      "Loading required package: rvest\n",
      "Loading required package: xml2\n"
     ]
    }
   ],
   "source": [
    "if(!require(rvest)){install.packages('rvest') ; library(rvest)}\n"
   ]
  },
  {
   "cell_type": "markdown",
   "metadata": {},
   "source": [
    "## Wikipedia 테이블 수집\n"
   ]
  },
  {
   "cell_type": "code",
   "execution_count": 2,
   "metadata": {},
   "outputs": [],
   "source": [
    "url_wiki <- \"https://en.wikipedia.org/wiki/Student%27s_t-distribution\"\n",
    "html_wiki <- read_html(x=url_wiki, encoding = 'UFT-8')"
   ]
  },
  {
   "cell_type": "code",
   "execution_count": 3,
   "metadata": {},
   "outputs": [
    {
     "data": {
      "text/html": [
       "<table>\n",
       "<thead><tr><th scope=col>One.sided</th><th scope=col>X75.</th><th scope=col>X80.</th><th scope=col>X85.</th><th scope=col>X90.</th><th scope=col>X95.</th><th scope=col>X97.5.</th><th scope=col>X99.</th><th scope=col>X99.5.</th><th scope=col>X99.75.</th><th scope=col>X99.9.</th><th scope=col>X99.95.</th></tr></thead>\n",
       "<tbody>\n",
       "\t<tr><td>Two-sided</td><td>50%      </td><td>60%      </td><td>70%      </td><td>80%      </td><td>90%      </td><td>95%      </td><td>98%      </td><td>99%      </td><td>99.5%    </td><td>99.8%    </td><td>99.9%    </td></tr>\n",
       "\t<tr><td>1        </td><td>1.000    </td><td>1.376    </td><td>1.963    </td><td>3.078    </td><td>6.314    </td><td>12.71    </td><td>31.82    </td><td>63.66    </td><td>127.3    </td><td>318.3    </td><td>636.6    </td></tr>\n",
       "\t<tr><td>2        </td><td>0.816    </td><td>1.080    </td><td>1.386    </td><td>1.886    </td><td>2.920    </td><td>4.303    </td><td>6.965    </td><td>9.925    </td><td>14.09    </td><td>22.33    </td><td>31.60    </td></tr>\n",
       "</tbody>\n",
       "</table>\n"
      ],
      "text/latex": [
       "\\begin{tabular}{r|llllllllllll}\n",
       " One.sided & X75. & X80. & X85. & X90. & X95. & X97.5. & X99. & X99.5. & X99.75. & X99.9. & X99.95.\\\\\n",
       "\\hline\n",
       "\t Two-sided & 50\\%     & 60\\%     & 70\\%     & 80\\%     & 90\\%     & 95\\%     & 98\\%     & 99\\%     & 99.5\\%   & 99.8\\%   & 99.9\\%  \\\\\n",
       "\t 1         & 1.000     & 1.376     & 1.963     & 3.078     & 6.314     & 12.71     & 31.82     & 63.66     & 127.3     & 318.3     & 636.6    \\\\\n",
       "\t 2         & 0.816     & 1.080     & 1.386     & 1.886     & 2.920     & 4.303     & 6.965     & 9.925     & 14.09     & 22.33     & 31.60    \\\\\n",
       "\\end{tabular}\n"
      ],
      "text/markdown": [
       "\n",
       "One.sided | X75. | X80. | X85. | X90. | X95. | X97.5. | X99. | X99.5. | X99.75. | X99.9. | X99.95. | \n",
       "|---|---|---|\n",
       "| Two-sided | 50%       | 60%       | 70%       | 80%       | 90%       | 95%       | 98%       | 99%       | 99.5%     | 99.8%     | 99.9%     | \n",
       "| 1         | 1.000     | 1.376     | 1.963     | 3.078     | 6.314     | 12.71     | 31.82     | 63.66     | 127.3     | 318.3     | 636.6     | \n",
       "| 2         | 0.816     | 1.080     | 1.386     | 1.886     | 2.920     | 4.303     | 6.965     | 9.925     | 14.09     | 22.33     | 31.60     | \n",
       "\n",
       "\n"
      ],
      "text/plain": [
       "  One.sided X75.  X80.  X85.  X90.  X95.  X97.5. X99.  X99.5. X99.75. X99.9.\n",
       "1 Two-sided 50%   60%   70%   80%   90%   95%    98%   99%    99.5%   99.8% \n",
       "2 1         1.000 1.376 1.963 3.078 6.314 12.71  31.82 63.66  127.3   318.3 \n",
       "3 2         0.816 1.080 1.386 1.886 2.920 4.303  6.965 9.925  14.09   22.33 \n",
       "  X99.95.\n",
       "1 99.9%  \n",
       "2 636.6  \n",
       "3 31.60  "
      ]
     },
     "metadata": {},
     "output_type": "display_data"
    }
   ],
   "source": [
    "html_wiki %>% html_nodes('.wikitable') %>% html_table() %>% \n",
    "  data.frame() %>% head(n=3)\n",
    "# 접속 -> 위치 받기 -> child 받기 -> 연결 -> 처리"
   ]
  },
  {
   "cell_type": "markdown",
   "metadata": {},
   "source": [
    "## MLB 경기기록 수집\n",
    "크롤링이 어려운 이유\n",
    "(1) 페이지에 맞는 태그 정보를 찾아서 가져오기\n",
    "(2) 시간이 지나면 웹페이지의 형태를 바꿈 -> 꾸준한 유지보수가 필요한 작업\n",
    "(3) 접근을 제한하는 경우 왕왕 -> 크롤링을 위하여 우회하여 접근해야 할 수 있음"
   ]
  },
  {
   "cell_type": "code",
   "execution_count": 4,
   "metadata": {},
   "outputs": [],
   "source": [
    "if(!require(rvest)){install.packages(\"rvest\"); library(rvest)}\n",
    "\n",
    "url <- \"http://www.baseball-reference.com/leagues/MLB/2017.shtml\"\n",
    "webpage <- read_html(url)"
   ]
  },
  {
   "cell_type": "code",
   "execution_count": 5,
   "metadata": {},
   "outputs": [
    {
     "data": {
      "text/html": [
       "<table>\n",
       "<thead><tr><th scope=col>Tm</th><th scope=col>X.Bat</th><th scope=col>BatAge</th><th scope=col>R.G</th><th scope=col>G</th><th scope=col>PA</th><th scope=col>AB</th><th scope=col>R</th><th scope=col>H</th><th scope=col>X2B</th><th scope=col>⋯</th><th scope=col>SLG</th><th scope=col>OPS</th><th scope=col>OPS.</th><th scope=col>TB</th><th scope=col>GDP</th><th scope=col>HBP</th><th scope=col>SH</th><th scope=col>SF</th><th scope=col>IBB</th><th scope=col>LOB</th></tr></thead>\n",
       "<tbody>\n",
       "\t<tr><td>ARI </td><td>45  </td><td>28.3</td><td>5.01</td><td>162 </td><td>6224</td><td>5525</td><td>812 </td><td>1405</td><td>314 </td><td>⋯   </td><td>.445</td><td>.774</td><td>94  </td><td>2457</td><td>106 </td><td>54  </td><td>39  </td><td>27  </td><td>44  </td><td>1118</td></tr>\n",
       "\t<tr><td>ATL </td><td>49  </td><td>28.7</td><td>4.52</td><td>162 </td><td>6216</td><td>5584</td><td>732 </td><td>1467</td><td>289 </td><td>⋯   </td><td>.412</td><td>.738</td><td>95  </td><td>2303</td><td>137 </td><td>66  </td><td>59  </td><td>32  </td><td>57  </td><td>1127</td></tr>\n",
       "\t<tr><td>BAL </td><td>50  </td><td>28.6</td><td>4.59</td><td>162 </td><td>6140</td><td>5650</td><td>743 </td><td>1469</td><td>269 </td><td>⋯   </td><td>.435</td><td>.747</td><td>99  </td><td>2458</td><td>138 </td><td>50  </td><td>10  </td><td>37  </td><td>12  </td><td>1041</td></tr>\n",
       "</tbody>\n",
       "</table>\n"
      ],
      "text/latex": [
       "\\begin{tabular}{r|lllllllllllllllllllllllllllll}\n",
       " Tm & X.Bat & BatAge & R.G & G & PA & AB & R & H & X2B & ⋯ & SLG & OPS & OPS. & TB & GDP & HBP & SH & SF & IBB & LOB\\\\\n",
       "\\hline\n",
       "\t ARI  & 45   & 28.3 & 5.01 & 162  & 6224 & 5525 & 812  & 1405 & 314  & ⋯    & .445 & .774 & 94   & 2457 & 106  & 54   & 39   & 27   & 44   & 1118\\\\\n",
       "\t ATL  & 49   & 28.7 & 4.52 & 162  & 6216 & 5584 & 732  & 1467 & 289  & ⋯    & .412 & .738 & 95   & 2303 & 137  & 66   & 59   & 32   & 57   & 1127\\\\\n",
       "\t BAL  & 50   & 28.6 & 4.59 & 162  & 6140 & 5650 & 743  & 1469 & 269  & ⋯    & .435 & .747 & 99   & 2458 & 138  & 50   & 10   & 37   & 12   & 1041\\\\\n",
       "\\end{tabular}\n"
      ],
      "text/markdown": [
       "\n",
       "Tm | X.Bat | BatAge | R.G | G | PA | AB | R | H | X2B | ⋯ | SLG | OPS | OPS. | TB | GDP | HBP | SH | SF | IBB | LOB | \n",
       "|---|---|---|\n",
       "| ARI  | 45   | 28.3 | 5.01 | 162  | 6224 | 5525 | 812  | 1405 | 314  | ⋯    | .445 | .774 | 94   | 2457 | 106  | 54   | 39   | 27   | 44   | 1118 | \n",
       "| ATL  | 49   | 28.7 | 4.52 | 162  | 6216 | 5584 | 732  | 1467 | 289  | ⋯    | .412 | .738 | 95   | 2303 | 137  | 66   | 59   | 32   | 57   | 1127 | \n",
       "| BAL  | 50   | 28.6 | 4.59 | 162  | 6140 | 5650 | 743  | 1469 | 269  | ⋯    | .435 | .747 | 99   | 2458 | 138  | 50   | 10   | 37   | 12   | 1041 | \n",
       "\n",
       "\n"
      ],
      "text/plain": [
       "  Tm  X.Bat BatAge R.G  G   PA   AB   R   H    X2B ⋯ SLG  OPS  OPS. TB   GDP\n",
       "1 ARI 45    28.3   5.01 162 6224 5525 812 1405 314 ⋯ .445 .774 94   2457 106\n",
       "2 ATL 49    28.7   4.52 162 6216 5584 732 1467 289 ⋯ .412 .738 95   2303 137\n",
       "3 BAL 50    28.6   4.59 162 6140 5650 743 1469 269 ⋯ .435 .747 99   2458 138\n",
       "  HBP SH SF IBB LOB \n",
       "1 54  39 27 44  1118\n",
       "2 66  59 32 57  1127\n",
       "3 50  10 37 12  1041"
      ]
     },
     "metadata": {},
     "output_type": "display_data"
    }
   ],
   "source": [
    "webpage %>% html_nodes('div#div_teams_standard_batting table') %>% \n",
    "  html_table() %>% data.frame() %>% head(n = 3)"
   ]
  },
  {
   "cell_type": "markdown",
   "metadata": {},
   "source": [
    "## 기상청 데이터 수집\n"
   ]
  },
  {
   "cell_type": "code",
   "execution_count": 7,
   "metadata": {},
   "outputs": [
    {
     "name": "stderr",
     "output_type": "stream",
     "text": [
      "Warning message in Sys.setlocale(\"LC_ALL\", \"English\"):\n",
      "“OS는 로케일을 \"English\"로 설정하기 위한 요청이 받아들일 수 없다고 보고합니다”"
     ]
    },
    {
     "data": {
      "text/html": [
       "''"
      ],
      "text/latex": [
       "''"
      ],
      "text/markdown": [
       "''"
      ],
      "text/plain": [
       "[1] \"\""
      ]
     },
     "metadata": {},
     "output_type": "display_data"
    },
    {
     "data": {
      "text/plain": [
       "{xml_nodeset (1)}\n",
       "[1] <table class=\"table_develop3\" summary=\"기상실황표로 지점, 날씨, 기온, 강수, 바람, 기압등을 안내 ..."
      ]
     },
     "metadata": {},
     "output_type": "display_data"
    },
    {
     "data": {
      "text/html": [
       "<table>\n",
       "<thead><tr><th scope=col>X1</th><th scope=col>X2</th><th scope=col>X3</th><th scope=col>X4</th><th scope=col>X5</th><th scope=col>X6</th><th scope=col>X7</th><th scope=col>X8</th><th scope=col>X9</th><th scope=col>X10</th><th scope=col>X11</th><th scope=col>X12</th><th scope=col>X13</th></tr></thead>\n",
       "<tbody>\n",
       "\t<tr><td>지점      </td><td>날씨      </td><td>날씨      </td><td>날씨      </td><td>날씨      </td><td>기온(℃)  </td><td>기온(℃)  </td><td>기온(℃)  </td><td>강수      </td><td>강수      </td><td>바람      </td><td>바람      </td><td>기압(hPa) </td></tr>\n",
       "\t<tr><td>지점      </td><td>현재일기  </td><td>시정km    </td><td>운량1/10  </td><td>중하운량  </td><td>현재기온  </td><td>이슬점온도</td><td>불쾌지수  </td><td>일강수mm  </td><td>습도%     </td><td>풍향      </td><td>풍속m/s   </td><td>해면기압  </td></tr>\n",
       "\t<tr><td>서울      </td><td>약한비단속</td><td>11.5      </td><td>10        </td><td>3         </td><td>23.9      </td><td>16.4      </td><td>72        </td><td>0.0       </td><td>63        </td><td>서북서    </td><td>2.3       </td><td>1008.2    </td></tr>\n",
       "\t<tr><td>백령도    </td><td>약한비계속</td><td>20 이상   </td><td>10        </td><td>3         </td><td>20.6      </td><td>19.2      </td><td>69        </td><td>0.4       </td><td>92        </td><td>남서      </td><td>3.6       </td><td>1008.4    </td></tr>\n",
       "\t<tr><td>인천      </td><td>약한비단속</td><td>20 이상   </td><td>10        </td><td>2         </td><td>22.5      </td><td>15.5      </td><td>70        </td><td>0.0       </td><td>65        </td><td>서남서    </td><td>2.6       </td><td>1008.3    </td></tr>\n",
       "\t<tr><td>수원      </td><td>약한비계속</td><td>20 이상   </td><td>10        </td><td>5         </td><td>21.2      </td><td>16.3      </td><td>68        </td><td>0.3       </td><td>74        </td><td>서북서    </td><td>0.5       </td><td>1008.9    </td></tr>\n",
       "</tbody>\n",
       "</table>\n"
      ],
      "text/latex": [
       "\\begin{tabular}{r|lllllllllllll}\n",
       " X1 & X2 & X3 & X4 & X5 & X6 & X7 & X8 & X9 & X10 & X11 & X12 & X13\\\\\n",
       "\\hline\n",
       "\t 지점       & 날씨       & 날씨       & 날씨       & 날씨       & 기온(℃)   & 기온(℃)   & 기온(℃)   & 강수       & 강수       & 바람       & 바람       & 기압(hPa) \\\\\n",
       "\t 지점       & 현재일기   & 시정km     & 운량1/10   & 중하운량   & 현재기온   & 이슬점온도 & 불쾌지수   & 일강수mm   & 습도\\%    & 풍향       & 풍속m/s    & 해면기압  \\\\\n",
       "\t 서울       & 약한비단속 & 11.5       & 10         & 3          & 23.9       & 16.4       & 72         & 0.0        & 63         & 서북서     & 2.3        & 1008.2    \\\\\n",
       "\t 백령도     & 약한비계속 & 20 이상    & 10         & 3          & 20.6       & 19.2       & 69         & 0.4        & 92         & 남서       & 3.6        & 1008.4    \\\\\n",
       "\t 인천       & 약한비단속 & 20 이상    & 10         & 2          & 22.5       & 15.5       & 70         & 0.0        & 65         & 서남서     & 2.6        & 1008.3    \\\\\n",
       "\t 수원       & 약한비계속 & 20 이상    & 10         & 5          & 21.2       & 16.3       & 68         & 0.3        & 74         & 서북서     & 0.5        & 1008.9    \\\\\n",
       "\\end{tabular}\n"
      ],
      "text/markdown": [
       "\n",
       "X1 | X2 | X3 | X4 | X5 | X6 | X7 | X8 | X9 | X10 | X11 | X12 | X13 | \n",
       "|---|---|---|---|---|---|\n",
       "| 지점       | 날씨       | 날씨       | 날씨       | 날씨       | 기온(℃)   | 기온(℃)   | 기온(℃)   | 강수       | 강수       | 바람       | 바람       | 기압(hPa)  | \n",
       "| 지점       | 현재일기   | 시정km     | 운량1/10   | 중하운량   | 현재기온   | 이슬점온도 | 불쾌지수   | 일강수mm   | 습도%      | 풍향       | 풍속m/s    | 해면기압   | \n",
       "| 서울       | 약한비단속 | 11.5       | 10         | 3          | 23.9       | 16.4       | 72         | 0.0        | 63         | 서북서     | 2.3        | 1008.2     | \n",
       "| 백령도     | 약한비계속 | 20 이상    | 10         | 3          | 20.6       | 19.2       | 69         | 0.4        | 92         | 남서       | 3.6        | 1008.4     | \n",
       "| 인천       | 약한비단속 | 20 이상    | 10         | 2          | 22.5       | 15.5       | 70         | 0.0        | 65         | 서남서     | 2.6        | 1008.3     | \n",
       "| 수원       | 약한비계속 | 20 이상    | 10         | 5          | 21.2       | 16.3       | 68         | 0.3        | 74         | 서북서     | 0.5        | 1008.9     | \n",
       "\n",
       "\n"
      ],
      "text/plain": [
       "  X1     X2         X3      X4       X5       X6       X7         X8      \n",
       "1 지점   날씨       날씨    날씨     날씨     기온(℃) 기온(℃)   기온(℃)\n",
       "2 지점   현재일기   시정km  운량1/10 중하운량 현재기온 이슬점온도 불쾌지수\n",
       "3 서울   약한비단속 11.5    10       3        23.9     16.4       72      \n",
       "4 백령도 약한비계속 20 이상 10       3        20.6     19.2       69      \n",
       "5 인천   약한비단속 20 이상 10       2        22.5     15.5       70      \n",
       "6 수원   약한비계속 20 이상 10       5        21.2     16.3       68      \n",
       "  X9       X10   X11    X12     X13      \n",
       "1 강수     강수  바람   바람    기압(hPa)\n",
       "2 일강수mm 습도% 풍향   풍속m/s 해면기압 \n",
       "3 0.0      63    서북서 2.3     1008.2   \n",
       "4 0.4      92    남서   3.6     1008.4   \n",
       "5 0.0      65    서남서 2.6     1008.3   \n",
       "6 0.3      74    서북서 0.5     1008.9   "
      ]
     },
     "metadata": {},
     "output_type": "display_data"
    }
   ],
   "source": [
    "url = \"http://www.weather.go.kr/weather/observation/currentweather.jsp?auto_man=m&type=t99&tm=2017.09.06.13%3A00&x=19&y=3\"\n",
    "webpage <- read_html(url, encoding = \"EUC-KR\")\n",
    "\n",
    "Sys.setlocale(\"LC_ALL\", \"English\")\n",
    "\n",
    "webpage %>% html_nodes(\"table.table_develop3\")\n",
    "tmp <- webpage %>% html_nodes(\"table.table_develop3\") %>% \n",
    "  html_table(header = FALSE, fill=TRUE)%>%\n",
    "  data.frame()\n",
    "head(tmp)"
   ]
  },
  {
   "cell_type": "markdown",
   "metadata": {},
   "source": [
    "#### # 에러 발생\n",
    "\n",
    "1. 파일을 모을 때 인코딩 에러\n",
    "2. 파일을 읽을 때 인코딩 에러\n",
    "\n",
    "==> "
   ]
  },
  {
   "cell_type": "code",
   "execution_count": 9,
   "metadata": {},
   "outputs": [
    {
     "data": {
      "text/html": [
       "'ko_KR.UTF-8/ko_KR.UTF-8/ko_KR.UTF-8/C/ko_KR.UTF-8/ko_KR.UTF-8'"
      ],
      "text/latex": [
       "'ko\\_KR.UTF-8/ko\\_KR.UTF-8/ko\\_KR.UTF-8/C/ko\\_KR.UTF-8/ko\\_KR.UTF-8'"
      ],
      "text/markdown": [
       "'ko_KR.UTF-8/ko_KR.UTF-8/ko_KR.UTF-8/C/ko_KR.UTF-8/ko_KR.UTF-8'"
      ],
      "text/plain": [
       "[1] \"ko_KR.UTF-8/ko_KR.UTF-8/ko_KR.UTF-8/C/ko_KR.UTF-8/ko_KR.UTF-8\""
      ]
     },
     "metadata": {},
     "output_type": "display_data"
    }
   ],
   "source": [
    "Sys.getlocale()"
   ]
  },
  {
   "cell_type": "code",
   "execution_count": null,
   "metadata": {},
   "outputs": [],
   "source": [
    "# 인코딩의 변경: rvest 라이브러리에 있는 repair_encoding 함수의 이용\n",
    "\n",
    "Sys.setlocale(\"LC_ALL\", \"Korean\") #모든것에 대해 바꿔라\n",
    "\n",
    "for(i in 1:ncol(tmp)){\n",
    "  tmp[,i] = rvest::repair_encoding(tmp[,i])\n",
    "}\n",
    "head(tmp)"
   ]
  },
  {
   "cell_type": "code",
   "execution_count": null,
   "metadata": {},
   "outputs": [],
   "source": []
  }
 ],
 "metadata": {
  "kernelspec": {
   "display_name": "R",
   "language": "R",
   "name": "ir"
  },
  "language_info": {
   "codemirror_mode": "r",
   "file_extension": ".r",
   "mimetype": "text/x-r-source",
   "name": "R",
   "pygments_lexer": "r",
   "version": "3.5.0"
  }
 },
 "nbformat": 4,
 "nbformat_minor": 2
}
