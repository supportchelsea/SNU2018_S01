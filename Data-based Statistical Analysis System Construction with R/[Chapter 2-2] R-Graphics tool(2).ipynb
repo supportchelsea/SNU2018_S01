{
 "cells": [
  {
   "cell_type": "markdown",
   "metadata": {},
   "source": [
    "# [Chapter 2-2] R-Graphics tool(2)\n",
    "1.Visualization of K-nearest neighborhood method\n"
   ]
  },
  {
   "cell_type": "markdown",
   "metadata": {},
   "source": [
    "1. Visualization of K-nearest neighborhood method\n",
    " \n",
    " (1) Regression\n"
   ]
  },
  {
   "cell_type": "code",
   "execution_count": 2,
   "metadata": {
    "scrolled": true
   },
   "outputs": [
    {
     "name": "stderr",
     "output_type": "stream",
     "text": [
      "Your code contains a unicode char which cannot be displayed in your\n",
      "current locale and R will silently convert it to an escaped form when the\n",
      "R kernel executes this code. This can lead to subtle errors if you use\n",
      "such chars to do comparisons. For more information, please see\n",
      "https://github.com/IRkernel/repr/wiki/Problems-with-unicode-on-windows"
     ]
    },
    {
     "data": {
      "image/png": "[encoded data removed]",
      "text/plain": [
       "plot without title"
      ]
     },
     "metadata": {},
     "output_type": "display_data"
    }
   ],
   "source": [
    "# Regression\n",
    "\n",
    "# 모델의 형태 yi=3+x2i+ϵi (ϵi∼iid(0,1))\n",
    "set.seed(1)\n",
    "x <- sort(rnorm(100)) #랜덤노말\n",
    "y<- 3+x^2 + rnorm(100)\n",
    "plot(x, y, pch = 20)"
   ]
  },
  {
   "cell_type": "markdown",
   "metadata": {},
   "source": [
    "##### Regression 회귀분석 \n",
    "lm(y ~ x)\n",
    "\n",
    "y는 x로부터 설명된다\n",
    "\n",
    "현재 데이터로부터 직선 모델로 가장 잘 설명되는 직선을 찾아라\n",
    "\n",
    "데이터 포인트\n",
    "\n",
    "    x = predictor\n",
    "    y = response\n",
    "\n",
    "- 가정 1. \n",
    "\n",
    "- 가정 2. "
   ]
  },
  {
   "cell_type": "code",
   "execution_count": 5,
   "metadata": {
    "scrolled": true
   },
   "outputs": [
    {
     "name": "stdout",
     "output_type": "stream",
     "text": [
      "List of 12\n",
      " $ coefficients : Named num [1:2] 3.757 0.149\n",
      "  ..- attr(*, \"names\")= chr [1:2] \"(Intercept)\" \"x\"\n",
      " $ residuals    : Named num [1:100] 3.858 3.539 1.859 1.95 0.971 ...\n",
      "  ..- attr(*, \"names\")= chr [1:100] \"1\" \"2\" \"3\" \"4\" ...\n",
      " $ effects      : Named num [1:100] -37.727 1.33 1.007 1.18 0.217 ...\n",
      "  ..- attr(*, \"names\")= chr [1:100] \"(Intercept)\" \"x\" \"\" \"\" ...\n",
      " $ rank         : int 2\n",
      " $ fitted.values: Named num [1:100] 3.43 3.46 3.49 3.53 3.54 ...\n",
      "  ..- attr(*, \"names\")= chr [1:100] \"1\" \"2\" \"3\" \"4\" ...\n",
      " $ assign       : int [1:2] 0 1\n",
      " $ qr           :List of 5\n",
      "  ..$ qr   : num [1:100, 1:2] -10 0.1 0.1 0.1 0.1 0.1 0.1 0.1 0.1 0.1 ...\n",
      "  .. ..- attr(*, \"dimnames\")=List of 2\n",
      "  .. .. ..$ : chr [1:100] \"1\" \"2\" \"3\" \"4\" ...\n",
      "  .. .. ..$ : chr [1:2] \"(Intercept)\" \"x\"\n",
      "  .. ..- attr(*, \"assign\")= int [1:2] 0 1\n",
      "  ..$ qraux: num [1:2] 1.1 1.21\n",
      "  ..$ pivot: int [1:2] 1 2\n",
      "  ..$ tol  : num 1e-07\n",
      "  ..$ rank : int 2\n",
      "  ..- attr(*, \"class\")= chr \"qr\"\n",
      " $ df.residual  : int 98\n",
      " $ xlevels      : Named list()\n",
      " $ call         : language lm(formula = y ~ x)\n",
      " $ terms        :Classes 'terms', 'formula'  language y ~ x\n",
      "  .. ..- attr(*, \"variables\")= language list(y, x)\n",
      "  .. ..- attr(*, \"factors\")= int [1:2, 1] 0 1\n",
      "  .. .. ..- attr(*, \"dimnames\")=List of 2\n",
      "  .. .. .. ..$ : chr [1:2] \"y\" \"x\"\n",
      "  .. .. .. ..$ : chr \"x\"\n",
      "  .. ..- attr(*, \"term.labels\")= chr \"x\"\n",
      "  .. ..- attr(*, \"order\")= int 1\n",
      "  .. ..- attr(*, \"intercept\")= int 1\n",
      "  .. ..- attr(*, \"response\")= int 1\n",
      "  .. ..- attr(*, \".Environment\")=<environment: R_GlobalEnv> \n",
      "  .. ..- attr(*, \"predvars\")= language list(y, x)\n",
      "  .. ..- attr(*, \"dataClasses\")= Named chr [1:2] \"numeric\" \"numeric\"\n",
      "  .. .. ..- attr(*, \"names\")= chr [1:2] \"y\" \"x\"\n",
      " $ model        :'data.frame':\t100 obs. of  2 variables:\n",
      "  ..$ y: num [1:100] 7.28 7 5.35 5.48 4.51 ...\n",
      "  ..$ x: num [1:100] -2.21 -1.99 -1.8 -1.52 -1.47 ...\n",
      "  ..- attr(*, \"terms\")=Classes 'terms', 'formula'  language y ~ x\n",
      "  .. .. ..- attr(*, \"variables\")= language list(y, x)\n",
      "  .. .. ..- attr(*, \"factors\")= int [1:2, 1] 0 1\n",
      "  .. .. .. ..- attr(*, \"dimnames\")=List of 2\n",
      "  .. .. .. .. ..$ : chr [1:2] \"y\" \"x\"\n",
      "  .. .. .. .. ..$ : chr \"x\"\n",
      "  .. .. ..- attr(*, \"term.labels\")= chr \"x\"\n",
      "  .. .. ..- attr(*, \"order\")= int 1\n",
      "  .. .. ..- attr(*, \"intercept\")= int 1\n",
      "  .. .. ..- attr(*, \"response\")= int 1\n",
      "  .. .. ..- attr(*, \".Environment\")=<environment: R_GlobalEnv> \n",
      "  .. .. ..- attr(*, \"predvars\")= language list(y, x)\n",
      "  .. .. ..- attr(*, \"dataClasses\")= Named chr [1:2] \"numeric\" \"numeric\"\n",
      "  .. .. .. ..- attr(*, \"names\")= chr [1:2] \"y\" \"x\"\n",
      " - attr(*, \"class\")= chr \"lm\"\n"
     ]
    }
   ],
   "source": [
    "fit = lm(y~x) #저장\n",
    "coef = fit$coefficient\n",
    "str(fit)"
   ]
  },
  {
   "cell_type": "markdown",
   "metadata": {},
   "source": [
    "LIST의 형태\n",
    "\n",
    "    리스트에서 원소를 가져오기 위해 체인을 확인해야 함!!\n",
    "    체인의 붙은 객체를 확인해야함 BY $\n"
   ]
  },
  {
   "cell_type": "code",
   "execution_count": 12,
   "metadata": {},
   "outputs": [
    {
     "data": {
      "text/html": [
       "<strong>(Intercept):</strong> 3.75653669391211"
      ],
      "text/latex": [
       "\\textbf{(Intercept):} 3.75653669391211"
      ],
      "text/markdown": [
       "**(Intercept):** 3.75653669391211"
      ],
      "text/plain": [
       "(Intercept) \n",
       "   3.756537 "
      ]
     },
     "metadata": {},
     "output_type": "display_data"
    },
    {
     "data": {
      "text/html": [
       "<strong>x:</strong> 0.14883413431271"
      ],
      "text/latex": [
       "\\textbf{x:} 0.14883413431271"
      ],
      "text/markdown": [
       "**x:** 0.14883413431271"
      ],
      "text/plain": [
       "        x \n",
       "0.1488341 "
      ]
     },
     "metadata": {},
     "output_type": "display_data"
    },
    {
     "data": {
      "image/png": "[encoded data removed]",
      "text/plain": [
       "plot without title"
      ]
     },
     "metadata": {},
     "output_type": "display_data"
    }
   ],
   "source": [
    "coef[1]\n",
    "coef[2]\n",
    "\n",
    "#lm에 fit 한 것을 그릴수 있음 = by abline\n",
    "# a = 절편\n",
    "# b = 기울기\n",
    "plot(x, y, pch=20)\n",
    "abline(a=fit$coefficients[1], b=fit$coefficients[2], col='blue')\n",
    "yTrueMean = 3+x^2\n",
    "lines(x, yTrueMean , lty=2, col='black')"
   ]
  },
  {
   "cell_type": "markdown",
   "metadata": {},
   "source": [
    "#모델 스페이스의 결정\n",
    "    \n",
    "   - 간단한 모델을 활용 -> model bias 발생\n",
    "   - 복잡한 모델을 활용 -> model bias가 없어지지만, 과적합되며 모델의 성능을 떨어뜨림\n"
   ]
  },
  {
   "cell_type": "markdown",
   "metadata": {},
   "source": [
    "##### # k-nearest algorithm\n",
    "    y^(x)=1k∑i∈Nk(x)yi \n",
    "\n",
    "   - y^(x): estimates of y for a given x\n",
    "   - Nk(x): the index set of xi that are k-nearest to x. \n",
    "       (x와 가장 가까운 x값에 대한 인덱스,k개)\n",
    "   - Nk(x) is computed by knnx.indexin FNN library\n",
    "   \n",
    "\n",
    "   "
   ]
  },
  {
   "cell_type": "code",
   "execution_count": 16,
   "metadata": {},
   "outputs": [
    {
     "name": "stderr",
     "output_type": "stream",
     "text": [
      "Installing package into 'C:/Users/renz/Documents/R/win-library/3.5'\n",
      "(as 'lib' is unspecified)\n",
      "Warning message:\n",
      "\"package 'FNN' is in use and will not be installed\""
     ]
    }
   ],
   "source": [
    "install.packages('FNN')\n",
    "library(FNN)"
   ]
  },
  {
   "cell_type": "code",
   "execution_count": 18,
   "metadata": {},
   "outputs": [
    {
     "data": {
      "text/html": [
       "0.00110535163162413"
      ],
      "text/latex": [
       "0.00110535163162413"
      ],
      "text/markdown": [
       "0.00110535163162413"
      ],
      "text/plain": [
       "[1] 0.001105352"
      ]
     },
     "metadata": {},
     "output_type": "display_data"
    },
    {
     "data": {
      "text/html": [
       "-0.0161902630989461"
      ],
      "text/latex": [
       "-0.0161902630989461"
      ],
      "text/markdown": [
       "-0.0161902630989461"
      ],
      "text/plain": [
       "[1] -0.01619026"
      ]
     },
     "metadata": {},
     "output_type": "display_data"
    },
    {
     "data": {
      "text/html": [
       "<ol class=list-inline>\n",
       "\t<li>47</li>\n",
       "\t<li>46</li>\n",
       "\t<li>48</li>\n",
       "\t<li>45</li>\n",
       "\t<li>44</li>\n",
       "\t<li>43</li>\n",
       "\t<li>42</li>\n",
       "\t<li>41</li>\n",
       "\t<li>49</li>\n",
       "\t<li>50</li>\n",
       "</ol>\n"
      ],
      "text/latex": [
       "\\begin{enumerate*}\n",
       "\\item 47\n",
       "\\item 46\n",
       "\\item 48\n",
       "\\item 45\n",
       "\\item 44\n",
       "\\item 43\n",
       "\\item 42\n",
       "\\item 41\n",
       "\\item 49\n",
       "\\item 50\n",
       "\\end{enumerate*}\n"
      ],
      "text/markdown": [
       "1. 47\n",
       "2. 46\n",
       "3. 48\n",
       "4. 45\n",
       "5. 44\n",
       "6. 43\n",
       "7. 42\n",
       "8. 41\n",
       "9. 49\n",
       "10. 50\n",
       "\n",
       "\n"
      ],
      "text/plain": [
       " [1] 47 46 48 45 44 43 42 41 49 50"
      ]
     },
     "metadata": {},
     "output_type": "display_data"
    },
    {
     "data": {
      "text/html": [
       "<ol class=list-inline>\n",
       "\t<li>47</li>\n",
       "\t<li>46</li>\n",
       "\t<li>48</li>\n",
       "\t<li>45</li>\n",
       "\t<li>44</li>\n",
       "\t<li>43</li>\n",
       "\t<li>42</li>\n",
       "\t<li>41</li>\n",
       "\t<li>49</li>\n",
       "\t<li>50</li>\n",
       "</ol>\n"
      ],
      "text/latex": [
       "\\begin{enumerate*}\n",
       "\\item 47\n",
       "\\item 46\n",
       "\\item 48\n",
       "\\item 45\n",
       "\\item 44\n",
       "\\item 43\n",
       "\\item 42\n",
       "\\item 41\n",
       "\\item 49\n",
       "\\item 50\n",
       "\\end{enumerate*}\n"
      ],
      "text/markdown": [
       "1. 47\n",
       "2. 46\n",
       "3. 48\n",
       "4. 45\n",
       "5. 44\n",
       "6. 43\n",
       "7. 42\n",
       "8. 41\n",
       "9. 49\n",
       "10. 50\n",
       "\n",
       "\n"
      ],
      "text/plain": [
       " [1] 47 46 48 45 44 43 42 41 49 50"
      ]
     },
     "metadata": {},
     "output_type": "display_data"
    }
   ],
   "source": [
    "knnx.index(x, 0, k = 10) \n",
    "#x벡터 중에서 x=0에서 가까운 위치의 벡터순서를 알려줌\n",
    "\n",
    "x[47]\n",
    "x[46]\n",
    "\n",
    "idx <- c(knnx.index(x, 0, k = 10))\n",
    "idx\n",
    "\n"
   ]
  },
  {
   "cell_type": "code",
   "execution_count": 32,
   "metadata": {},
   "outputs": [
    {
     "ename": "ERROR",
     "evalue": "Error in int_abline(a = a, b = b, h = h, v = v, untf = untf, ...): 객체 'red'를 찾을 수 없습니다\n",
     "output_type": "error",
     "traceback": [
      "Error in int_abline(a = a, b = b, h = h, v = v, untf = untf, ...): 객체 'red'를 찾을 수 없습니다\nTraceback:\n",
      "1. abline(h = mean(y[idx]), col = red, lty = 2)",
      "2. int_abline(a = a, b = b, h = h, v = v, untf = untf, ...)"
     ]
    },
    {
     "data": {
      "image/png": "[encoded data removed]",
      "text/plain": [
       "plot without title"
      ]
     },
     "metadata": {},
     "output_type": "display_data"
    }
   ],
   "source": [
    "a = knnx.index(x, 0, k = 10) \n",
    "#x벡터 중에서 x=0에서 가까운 위치의 벡터순서를 알려줌\n",
    "\n",
    "idx <- a[1,] #찾고자하는 점의 위치\n",
    "plot(x,y,pch=19)\n",
    "points(y[idx],y[idx],pch = 19,col='red')\n",
    "abline(v=1,h=0)\n",
    "abline(h=mean(y[idx]),col=red,lty = 2) #x=0에서 Y hat^"
   ]
  },
  {
   "cell_type": "code",
   "execution_count": null,
   "metadata": {},
   "outputs": [],
   "source": []
  },
  {
   "cell_type": "code",
   "execution_count": null,
   "metadata": {},
   "outputs": [],
   "source": []
  }
 ],
 "metadata": {
  "kernelspec": {
   "display_name": "R",
   "language": "R",
   "name": "ir"
  },
  "language_info": {
   "codemirror_mode": "r",
   "file_extension": ".r",
   "mimetype": "text/x-r-source",
   "name": "R",
   "pygments_lexer": "r",
   "version": "3.5.0"
  }
 },
 "nbformat": 4,
 "nbformat_minor": 2
}
