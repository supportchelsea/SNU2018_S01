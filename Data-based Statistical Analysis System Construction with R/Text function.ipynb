{
 "cells": [
  {
   "cell_type": "markdown",
   "metadata": {},
   "source": [
    "# Text function"
   ]
  },
  {
   "cell_type": "markdown",
   "metadata": {},
   "source": [
    "정규 표현식만 잘 이해하면 댐\n",
    "### # 문자열 처리함수"
   ]
  },
  {
   "cell_type": "code",
   "execution_count": 2,
   "metadata": {},
   "outputs": [
    {
     "data": {
      "text/html": [
       "'감자로-만든-감자칩'"
      ],
      "text/latex": [
       "'감자로-만든-감자칩'"
      ],
      "text/markdown": [
       "'감자로-만든-감자칩'"
      ],
      "text/plain": [
       "[1] \"감자로-만든-감자칩\""
      ]
     },
     "metadata": {},
     "output_type": "display_data"
    },
    {
     "data": {
      "text/html": [
       "'감자로만든감자칩'"
      ],
      "text/latex": [
       "'감자로만든감자칩'"
      ],
      "text/markdown": [
       "'감자로만든감자칩'"
      ],
      "text/plain": [
       "[1] \"감자로만든감자칩\""
      ]
     },
     "metadata": {},
     "output_type": "display_data"
    },
    {
     "data": {
      "text/html": [
       "'감자로 만든 감자칩'"
      ],
      "text/latex": [
       "'감자로 만든 감자칩'"
      ],
      "text/markdown": [
       "'감자로 만든 감자칩'"
      ],
      "text/plain": [
       "[1] \"감자로 만든 감자칩\""
      ]
     },
     "metadata": {},
     "output_type": "display_data"
    }
   ],
   "source": [
    "#중요\n",
    "#문자열 결합 paste함수\n",
    "\n",
    "paste(\"감자로\",\"만든\",\"감자칩\", sep='-')\n",
    "paste(\"감자로\",\"만든\",\"감자칩\", sep='') #\n",
    "paste(\"감자로\",\"만든\",\"감자칩\") # space"
   ]
  },
  {
   "cell_type": "code",
   "execution_count": 3,
   "metadata": {},
   "outputs": [
    {
     "data": {
      "text/html": [
       "<ol class=list-inline>\n",
       "\t<li>'감자로 만든 감자칩'</li>\n",
       "\t<li>'고구마로 만든 고구마칩'</li>\n",
       "</ol>\n"
      ],
      "text/latex": [
       "\\begin{enumerate*}\n",
       "\\item '감자로 만든 감자칩'\n",
       "\\item '고구마로 만든 고구마칩'\n",
       "\\end{enumerate*}\n"
      ],
      "text/markdown": [
       "1. '감자로 만든 감자칩'\n",
       "2. '고구마로 만든 고구마칩'\n",
       "\n",
       "\n"
      ],
      "text/plain": [
       "[1] \"감자로 만든 감자칩\"     \"고구마로 만든 고구마칩\""
      ]
     },
     "metadata": {},
     "output_type": "display_data"
    }
   ],
   "source": [
    "# 벡터를 붙일 수 있음 (벡터의 인덱스끼리)\n",
    "paste(c(\"감자로 만든\",\"고구마로 만든\"), c(\"감자칩\", \"고구마칩\"), sep=' ')"
   ]
  },
  {
   "cell_type": "code",
   "execution_count": 4,
   "metadata": {},
   "outputs": [
    {
     "data": {
      "text/html": [
       "<ol class=list-inline>\n",
       "\t<li>'1st'</li>\n",
       "\t<li>'2nd'</li>\n",
       "\t<li>'3rd'</li>\n",
       "\t<li>'4th'</li>\n",
       "\t<li>'5th'</li>\n",
       "\t<li>'6th'</li>\n",
       "\t<li>'7th'</li>\n",
       "\t<li>'8th'</li>\n",
       "\t<li>'9th'</li>\n",
       "\t<li>'10th'</li>\n",
       "\t<li>'11th'</li>\n",
       "\t<li>'12th'</li>\n",
       "</ol>\n"
      ],
      "text/latex": [
       "\\begin{enumerate*}\n",
       "\\item '1st'\n",
       "\\item '2nd'\n",
       "\\item '3rd'\n",
       "\\item '4th'\n",
       "\\item '5th'\n",
       "\\item '6th'\n",
       "\\item '7th'\n",
       "\\item '8th'\n",
       "\\item '9th'\n",
       "\\item '10th'\n",
       "\\item '11th'\n",
       "\\item '12th'\n",
       "\\end{enumerate*}\n"
      ],
      "text/markdown": [
       "1. '1st'\n",
       "2. '2nd'\n",
       "3. '3rd'\n",
       "4. '4th'\n",
       "5. '5th'\n",
       "6. '6th'\n",
       "7. '7th'\n",
       "8. '8th'\n",
       "9. '9th'\n",
       "10. '10th'\n",
       "11. '11th'\n",
       "12. '12th'\n",
       "\n",
       "\n"
      ],
      "text/plain": [
       " [1] \"1st\"  \"2nd\"  \"3rd\"  \"4th\"  \"5th\"  \"6th\"  \"7th\"  \"8th\"  \"9th\"  \"10th\"\n",
       "[11] \"11th\" \"12th\""
      ]
     },
     "metadata": {},
     "output_type": "display_data"
    }
   ],
   "source": [
    "paste0(1:12, c(\"st\", \"nd\", \"rd\", rep(\"th\", 9))) #아무런 공백이 없이 붙이는 "
   ]
  },
  {
   "cell_type": "code",
   "execution_count": 10,
   "metadata": {},
   "outputs": [
    {
     "data": {
      "text/html": [
       "'1-2-3-4-5-6-7-8-9-10-11-12'"
      ],
      "text/latex": [
       "'1-2-3-4-5-6-7-8-9-10-11-12'"
      ],
      "text/markdown": [
       "'1-2-3-4-5-6-7-8-9-10-11-12'"
      ],
      "text/plain": [
       "[1] \"1-2-3-4-5-6-7-8-9-10-11-12\""
      ]
     },
     "metadata": {},
     "output_type": "display_data"
    },
    {
     "data": {
      "text/html": [
       "1"
      ],
      "text/latex": [
       "1"
      ],
      "text/markdown": [
       "1"
      ],
      "text/plain": [
       "[1] 1"
      ]
     },
     "metadata": {},
     "output_type": "display_data"
    },
    {
     "data": {
      "text/html": [
       "<ol class=list-inline>\n",
       "\t<li>'1;5'</li>\n",
       "\t<li>'2;6'</li>\n",
       "\t<li>'3;7'</li>\n",
       "\t<li>'4;8'</li>\n",
       "</ol>\n"
      ],
      "text/latex": [
       "\\begin{enumerate*}\n",
       "\\item '1;5'\n",
       "\\item '2;6'\n",
       "\\item '3;7'\n",
       "\\item '4;8'\n",
       "\\end{enumerate*}\n"
      ],
      "text/markdown": [
       "1. '1;5'\n",
       "2. '2;6'\n",
       "3. '3;7'\n",
       "4. '4;8'\n",
       "\n",
       "\n"
      ],
      "text/plain": [
       "[1] \"1;5\" \"2;6\" \"3;7\" \"4;8\""
      ]
     },
     "metadata": {},
     "output_type": "display_data"
    },
    {
     "data": {
      "text/html": [
       "4"
      ],
      "text/latex": [
       "4"
      ],
      "text/markdown": [
       "4"
      ],
      "text/plain": [
       "[1] 4"
      ]
     },
     "metadata": {},
     "output_type": "display_data"
    },
    {
     "data": {
      "text/html": [
       "'1;5-2;6-3;7-4;8'"
      ],
      "text/latex": [
       "'1;5-2;6-3;7-4;8'"
      ],
      "text/markdown": [
       "'1;5-2;6-3;7-4;8'"
      ],
      "text/plain": [
       "[1] \"1;5-2;6-3;7-4;8\""
      ]
     },
     "metadata": {},
     "output_type": "display_data"
    },
    {
     "data": {
      "text/html": [
       "1"
      ],
      "text/latex": [
       "1"
      ],
      "text/markdown": [
       "1"
      ],
      "text/plain": [
       "[1] 1"
      ]
     },
     "metadata": {},
     "output_type": "display_data"
    }
   ],
   "source": [
    "# collapse 옵션의 사용\n",
    "# paste가 만드는 벡터연산 값을 하나로 만들어줌\n",
    "paste0(1:12, collapse = \"-\") # 하나로 잇는\n",
    "length(paste0(1:12, collapse = \"-\"))\n",
    "\n",
    "paste(1:4,5:8, sep = ';')\n",
    "length(paste(1:4,5:8, sep = ';'))\n",
    "\n",
    "paste(1:4,5:8, sep = ';', collapse = '-')\n",
    "length(paste(1:4,5:8, sep = ';', collapse = '-')) # 결과를 -로 collapse 함"
   ]
  },
  {
   "cell_type": "code",
   "execution_count": 16,
   "metadata": {},
   "outputs": [
    {
     "data": {
      "text/html": [
       "<ol class=list-inline>\n",
       "\t<li>'1'</li>\n",
       "\t<li>'2'</li>\n",
       "\t<li>'3'</li>\n",
       "\t<li>'4'</li>\n",
       "\t<li>'5'</li>\n",
       "\t<li>'6'</li>\n",
       "\t<li>'7'</li>\n",
       "\t<li>'8'</li>\n",
       "\t<li>'9'</li>\n",
       "\t<li>'10'</li>\n",
       "\t<li>'11'</li>\n",
       "\t<li>'12'</li>\n",
       "</ol>\n"
      ],
      "text/latex": [
       "\\begin{enumerate*}\n",
       "\\item '1'\n",
       "\\item '2'\n",
       "\\item '3'\n",
       "\\item '4'\n",
       "\\item '5'\n",
       "\\item '6'\n",
       "\\item '7'\n",
       "\\item '8'\n",
       "\\item '9'\n",
       "\\item '10'\n",
       "\\item '11'\n",
       "\\item '12'\n",
       "\\end{enumerate*}\n"
      ],
      "text/markdown": [
       "1. '1'\n",
       "2. '2'\n",
       "3. '3'\n",
       "4. '4'\n",
       "5. '5'\n",
       "6. '6'\n",
       "7. '7'\n",
       "8. '8'\n",
       "9. '9'\n",
       "10. '10'\n",
       "11. '11'\n",
       "12. '12'\n",
       "\n",
       "\n"
      ],
      "text/plain": [
       " [1] \"1\"  \"2\"  \"3\"  \"4\"  \"5\"  \"6\"  \"7\"  \"8\"  \"9\"  \"10\" \"11\" \"12\""
      ]
     },
     "metadata": {},
     "output_type": "display_data"
    },
    {
     "data": {
      "text/html": [
       "'1+2+3+4+5+6+7+8+9+10+11+12'"
      ],
      "text/latex": [
       "'1+2+3+4+5+6+7+8+9+10+11+12'"
      ],
      "text/markdown": [
       "'1+2+3+4+5+6+7+8+9+10+11+12'"
      ],
      "text/plain": [
       "[1] \"1+2+3+4+5+6+7+8+9+10+11+12\""
      ]
     },
     "metadata": {},
     "output_type": "display_data"
    },
    {
     "data": {
      "text/html": [
       "<ol class=list-inline>\n",
       "\t<li>'11'</li>\n",
       "\t<li>'22'</li>\n",
       "</ol>\n"
      ],
      "text/latex": [
       "\\begin{enumerate*}\n",
       "\\item '11'\n",
       "\\item '22'\n",
       "\\end{enumerate*}\n"
      ],
      "text/markdown": [
       "1. '11'\n",
       "2. '22'\n",
       "\n",
       "\n"
      ],
      "text/plain": [
       "[1] \"11\" \"22\""
      ]
     },
     "metadata": {},
     "output_type": "display_data"
    },
    {
     "data": {
      "text/html": [
       "'1122'"
      ],
      "text/latex": [
       "'1122'"
      ],
      "text/markdown": [
       "'1122'"
      ],
      "text/plain": [
       "[1] \"1122\""
      ]
     },
     "metadata": {},
     "output_type": "display_data"
    }
   ],
   "source": [
    "paste(1:12)\n",
    "paste(1:12,collapse = '+')\n",
    "\n",
    "paste0(1:2,1:2)\n",
    "paste0(1:2,1:2,collapse = \"\")\n"
   ]
  },
  {
   "cell_type": "code",
   "execution_count": 20,
   "metadata": {},
   "outputs": [
    {
     "data": {
      "text/html": [
       "<ol class=list-inline>\n",
       "\t<li>3</li>\n",
       "\t<li>4</li>\n",
       "</ol>\n"
      ],
      "text/latex": [
       "\\begin{enumerate*}\n",
       "\\item 3\n",
       "\\item 4\n",
       "\\end{enumerate*}\n"
      ],
      "text/markdown": [
       "1. 3\n",
       "2. 4\n",
       "\n",
       "\n"
      ],
      "text/plain": [
       "[1] 3 4"
      ]
     },
     "metadata": {},
     "output_type": "display_data"
    },
    {
     "data": {
      "text/html": [
       "2"
      ],
      "text/latex": [
       "2"
      ],
      "text/markdown": [
       "2"
      ],
      "text/plain": [
       "[1] 2"
      ]
     },
     "metadata": {},
     "output_type": "display_data"
    }
   ],
   "source": [
    "# grep 함수\n",
    "# 문자열에 위치한 위치\n",
    "# 문자여부에 대해서 몇번째에 위치하는 가에 대한 정보를 반환\n",
    "# = match function\n",
    "\n",
    "grep(\"pole\", c(\"Equator\", \"North Pole\", \"South pole\", \"poles\")) # 대/소문자를 가림\n",
    "\n",
    "grep('a',c('bbbbb','bbabbb')) #a가 뒤 벡터에 있느냐?\n",
    "# 뒤 벡터의 두번째 위치에 있다."
   ]
  },
  {
   "cell_type": "code",
   "execution_count": 21,
   "metadata": {},
   "outputs": [
    {
     "data": {
      "text/html": [
       "<ol class=list-inline>\n",
       "\t<li>10</li>\n",
       "\t<li>6</li>\n",
       "\t<li>&lt;NA&gt;</li>\n",
       "</ol>\n"
      ],
      "text/latex": [
       "\\begin{enumerate*}\n",
       "\\item 10\n",
       "\\item 6\n",
       "\\item <NA>\n",
       "\\end{enumerate*}\n"
      ],
      "text/markdown": [
       "1. 10\n",
       "2. 6\n",
       "3. &lt;NA&gt;\n",
       "\n",
       "\n"
      ],
      "text/plain": [
       "[1] 10  6 NA"
      ]
     },
     "metadata": {},
     "output_type": "display_data"
    }
   ],
   "source": [
    "# nchar 함수\n",
    "# 문자열의 단어갯수\n",
    "\n",
    "nchar(c(\"South Pole\", \"한글 문자열\", NA))\n",
    "\n",
    "# 총 캐릭터 갯수를 알아야\n",
    "# 전체에서 몇개를 가져와야 하는지 알수있는 경우때 많이쓰여\n",
    "\n",
    "#혹은 몇개 이상의 값을 가져오지 안는다는것\n"
   ]
  },
  {
   "cell_type": "code",
   "execution_count": 23,
   "metadata": {},
   "outputs": [
    {
     "data": {
      "text/html": [
       "'qua'"
      ],
      "text/latex": [
       "'qua'"
      ],
      "text/markdown": [
       "'qua'"
      ],
      "text/plain": [
       "[1] \"qua\""
      ]
     },
     "metadata": {},
     "output_type": "display_data"
    },
    {
     "data": {
      "text/html": [
       "'글 문'"
      ],
      "text/latex": [
       "'글 문'"
      ],
      "text/markdown": [
       "'글 문'"
      ],
      "text/plain": [
       "[1] \"글 문\""
      ]
     },
     "metadata": {},
     "output_type": "display_data"
    },
    {
     "data": {
      "text/html": [
       "'글 문자열 추출'"
      ],
      "text/latex": [
       "'글 문자열 추출'"
      ],
      "text/markdown": [
       "'글 문자열 추출'"
      ],
      "text/plain": [
       "[1] \"글 문자열 추출\""
      ]
     },
     "metadata": {},
     "output_type": "display_data"
    }
   ],
   "source": [
    "#substr 함수\n",
    "# 문자열을 빼서 반환\n",
    "# 위치 참조하여 반환\n",
    "substr(\"Equator\", start=2, stop=4) #필수요소 start/ stop\n",
    "substr(\"한글 문자열 추출\", start=2,stop=4)\n",
    "\n",
    "substring(\"한글 문자열 추출\", first=2) #처음부터 끝까지 substring을 이용\n",
    "\n"
   ]
  },
  {
   "cell_type": "code",
   "execution_count": 25,
   "metadata": {},
   "outputs": [
    {
     "data": {
      "text/html": [
       "<ol>\n",
       "\t<li><ol class=list-inline>\n",
       "\t<li>'6'</li>\n",
       "\t<li>'16'</li>\n",
       "\t<li>'2011'</li>\n",
       "</ol>\n",
       "</li>\n",
       "</ol>\n"
      ],
      "text/latex": [
       "\\begin{enumerate}\n",
       "\\item \\begin{enumerate*}\n",
       "\\item '6'\n",
       "\\item '16'\n",
       "\\item '2011'\n",
       "\\end{enumerate*}\n",
       "\n",
       "\\end{enumerate}\n"
      ],
      "text/markdown": [
       "1. 1. '6'\n",
       "2. '16'\n",
       "3. '2011'\n",
       "\n",
       "\n",
       "\n",
       "\n",
       "\n"
      ],
      "text/plain": [
       "[[1]]\n",
       "[1] \"6\"    \"16\"   \"2011\"\n"
      ]
     },
     "metadata": {},
     "output_type": "display_data"
    },
    {
     "data": {
      "text/html": [
       "<ol>\n",
       "\t<li><ol class=list-inline>\n",
       "\t<li>'6'</li>\n",
       "\t<li>'*'</li>\n",
       "\t<li>'1'</li>\n",
       "\t<li>'6'</li>\n",
       "\t<li>'*'</li>\n",
       "\t<li>'2'</li>\n",
       "\t<li>'0'</li>\n",
       "\t<li>'1'</li>\n",
       "\t<li>'1'</li>\n",
       "</ol>\n",
       "</li>\n",
       "</ol>\n"
      ],
      "text/latex": [
       "\\begin{enumerate}\n",
       "\\item \\begin{enumerate*}\n",
       "\\item '6'\n",
       "\\item '*'\n",
       "\\item '1'\n",
       "\\item '6'\n",
       "\\item '*'\n",
       "\\item '2'\n",
       "\\item '0'\n",
       "\\item '1'\n",
       "\\item '1'\n",
       "\\end{enumerate*}\n",
       "\n",
       "\\end{enumerate}\n"
      ],
      "text/markdown": [
       "1. 1. '6'\n",
       "2. '*'\n",
       "3. '1'\n",
       "4. '6'\n",
       "5. '*'\n",
       "6. '2'\n",
       "7. '0'\n",
       "8. '1'\n",
       "9. '1'\n",
       "\n",
       "\n",
       "\n",
       "\n",
       "\n"
      ],
      "text/plain": [
       "[[1]]\n",
       "[1] \"6\" \"*\" \"1\" \"6\" \"*\" \"2\" \"0\" \"1\" \"1\"\n"
      ]
     },
     "metadata": {},
     "output_type": "display_data"
    }
   ],
   "source": [
    "# strsplit 함수\n",
    "# 문자열을 지정한 문자로 분리하는 함수\n",
    "\n",
    "strsplit(\"6-16-2011\", split = '-') # 문자\n",
    "\n",
    "strsplit(\"6*16*2011\", split = '*') #특수문자(의미를 가진)\n",
    "# 지정자에서 문자를 분리하되 지정자까지 문자로 가져오기\n",
    "\n",
    "# 생각할 수 있는 모든 문자로 분리\n",
    "# str에 들어가는 것은 정규표현식\n",
    "\n"
   ]
  },
  {
   "cell_type": "markdown",
   "metadata": {},
   "source": [
    "        tab : \\\\t\n",
    "        enter : \\\\n\n",
    "        숫자 : \\\\d = [0-9]\n",
    "\n",
    "        특수문자가 아닐때 \n",
    "        \\\\* 문자그대로 사용\n"
   ]
  },
  {
   "cell_type": "code",
   "execution_count": 26,
   "metadata": {},
   "outputs": [
    {
     "data": {
      "text/html": [
       "<ol>\n",
       "\t<li><ol class=list-inline>\n",
       "\t<li>'6'</li>\n",
       "\t<li>'16'</li>\n",
       "\t<li>'2011'</li>\n",
       "</ol>\n",
       "</li>\n",
       "</ol>\n"
      ],
      "text/latex": [
       "\\begin{enumerate}\n",
       "\\item \\begin{enumerate*}\n",
       "\\item '6'\n",
       "\\item '16'\n",
       "\\item '2011'\n",
       "\\end{enumerate*}\n",
       "\n",
       "\\end{enumerate}\n"
      ],
      "text/markdown": [
       "1. 1. '6'\n",
       "2. '16'\n",
       "3. '2011'\n",
       "\n",
       "\n",
       "\n",
       "\n",
       "\n"
      ],
      "text/plain": [
       "[[1]]\n",
       "[1] \"6\"    \"16\"   \"2011\"\n"
      ]
     },
     "metadata": {},
     "output_type": "display_data"
    },
    {
     "data": {
      "text/html": [
       "<ol>\n",
       "\t<li><ol class=list-inline>\n",
       "\t<li>'6'</li>\n",
       "\t<li>'16'</li>\n",
       "\t<li>'2011'</li>\n",
       "</ol>\n",
       "</li>\n",
       "\t<li>'1-1-2-2-2-3'</li>\n",
       "</ol>\n"
      ],
      "text/latex": [
       "\\begin{enumerate}\n",
       "\\item \\begin{enumerate*}\n",
       "\\item '6'\n",
       "\\item '16'\n",
       "\\item '2011'\n",
       "\\end{enumerate*}\n",
       "\n",
       "\\item '1-1-2-2-2-3'\n",
       "\\end{enumerate}\n"
      ],
      "text/markdown": [
       "1. 1. '6'\n",
       "2. '16'\n",
       "3. '2011'\n",
       "\n",
       "\n",
       "\n",
       "2. '1-1-2-2-2-3'\n",
       "\n",
       "\n"
      ],
      "text/plain": [
       "[[1]]\n",
       "[1] \"6\"    \"16\"   \"2011\"\n",
       "\n",
       "[[2]]\n",
       "[1] \"1-1-2-2-2-3\"\n"
      ]
     },
     "metadata": {},
     "output_type": "display_data"
    }
   ],
   "source": [
    "strsplit(\"6*16*2011\", split = '*', fixed = TRUE)\n",
    "strsplit(c(\"6*16*2011\",'1-1-2-2-2-3'), split = '*', fixed = TRUE) \n",
    "# 문자그대로의 스타로 파악 (문자로 파악)\n",
    "# 이스케이프 문자를 허용하지 않겠다\n"
   ]
  },
  {
   "cell_type": "code",
   "execution_count": 29,
   "metadata": {},
   "outputs": [
    {
     "data": {
      "text/html": [
       "<ol>\n",
       "\t<li><ol class=list-inline>\n",
       "\t<li>'6'</li>\n",
       "\t<li>'16'</li>\n",
       "\t<li>'2011'</li>\n",
       "</ol>\n",
       "</li>\n",
       "</ol>\n"
      ],
      "text/latex": [
       "\\begin{enumerate}\n",
       "\\item \\begin{enumerate*}\n",
       "\\item '6'\n",
       "\\item '16'\n",
       "\\item '2011'\n",
       "\\end{enumerate*}\n",
       "\n",
       "\\end{enumerate}\n"
      ],
      "text/markdown": [
       "1. 1. '6'\n",
       "2. '16'\n",
       "3. '2011'\n",
       "\n",
       "\n",
       "\n",
       "\n",
       "\n"
      ],
      "text/plain": [
       "[[1]]\n",
       "[1] \"6\"    \"16\"   \"2011\"\n"
      ]
     },
     "metadata": {},
     "output_type": "display_data"
    }
   ],
   "source": [
    "strsplit(\"6*16*2011\", split = '\\\\*') # 문자열 이스케이프를 피하는 방법\n",
    "# 이스케이프 문자를 하나의 문자처름 취급하기 위해서는 위해서는 \\\\ 기호를 사용\n"
   ]
  },
  {
   "cell_type": "code",
   "execution_count": 30,
   "metadata": {},
   "outputs": [
    {
     "data": {
      "text/html": [
       "<ol class=list-inline>\n",
       "\t<li>'[chapter 1 - 3 ] R object 2.ipynb'</li>\n",
       "\t<li>'[chapter 2-1] Basic of R programming.ipynb'</li>\n",
       "\t<li>'[Chapter 2-2] R-Graphics tool(1).ipynb'</li>\n",
       "\t<li>'[Chapter 2-2] R-Graphics tool(2).ipynb'</li>\n",
       "\t<li>'[review] R object 1 .ipynb'</li>\n",
       "\t<li>'[review] R object 2.ipynb'</li>\n",
       "\t<li>'0619_2.txt'</li>\n",
       "\t<li>'0621_1.R'</li>\n",
       "\t<li>'0621_1.txt'</li>\n",
       "\t<li>'0621_2.R'</li>\n",
       "\t<li>'0621_2.txt'</li>\n",
       "\t<li>'CO2.csv'</li>\n",
       "\t<li>'code.zip'</li>\n",
       "\t<li>'data'</li>\n",
       "\t<li>'data.zip'</li>\n",
       "\t<li>'R-Data Processing.ipynb'</li>\n",
       "\t<li>'Text function.ipynb'</li>\n",
       "\t<li>'Untitled.ipynb'</li>\n",
       "\t<li>'Untitled1.ipynb'</li>\n",
       "\t<li>'강의록'</li>\n",
       "</ol>\n"
      ],
      "text/latex": [
       "\\begin{enumerate*}\n",
       "\\item '{[}chapter 1 - 3 {]} R object 2.ipynb'\n",
       "\\item '{[}chapter 2-1{]} Basic of R programming.ipynb'\n",
       "\\item '{[}Chapter 2-2{]} R-Graphics tool(1).ipynb'\n",
       "\\item '{[}Chapter 2-2{]} R-Graphics tool(2).ipynb'\n",
       "\\item '{[}review{]} R object 1 .ipynb'\n",
       "\\item '{[}review{]} R object 2.ipynb'\n",
       "\\item '0619\\_2.txt'\n",
       "\\item '0621\\_1.R'\n",
       "\\item '0621\\_1.txt'\n",
       "\\item '0621\\_2.R'\n",
       "\\item '0621\\_2.txt'\n",
       "\\item 'CO2.csv'\n",
       "\\item 'code.zip'\n",
       "\\item 'data'\n",
       "\\item 'data.zip'\n",
       "\\item 'R-Data Processing.ipynb'\n",
       "\\item 'Text function.ipynb'\n",
       "\\item 'Untitled.ipynb'\n",
       "\\item 'Untitled1.ipynb'\n",
       "\\item '강의록'\n",
       "\\end{enumerate*}\n"
      ],
      "text/markdown": [
       "1. '[chapter 1 - 3 ] R object 2.ipynb'\n",
       "2. '[chapter 2-1] Basic of R programming.ipynb'\n",
       "3. '[Chapter 2-2] R-Graphics tool(1).ipynb'\n",
       "4. '[Chapter 2-2] R-Graphics tool(2).ipynb'\n",
       "5. '[review] R object 1 .ipynb'\n",
       "6. '[review] R object 2.ipynb'\n",
       "7. '0619_2.txt'\n",
       "8. '0621_1.R'\n",
       "9. '0621_1.txt'\n",
       "10. '0621_2.R'\n",
       "11. '0621_2.txt'\n",
       "12. 'CO2.csv'\n",
       "13. 'code.zip'\n",
       "14. 'data'\n",
       "15. 'data.zip'\n",
       "16. 'R-Data Processing.ipynb'\n",
       "17. 'Text function.ipynb'\n",
       "18. 'Untitled.ipynb'\n",
       "19. 'Untitled1.ipynb'\n",
       "20. '강의록'\n",
       "\n",
       "\n"
      ],
      "text/plain": [
       " [1] \"[chapter 1 - 3 ] R object 2.ipynb\"         \n",
       " [2] \"[chapter 2-1] Basic of R programming.ipynb\"\n",
       " [3] \"[Chapter 2-2] R-Graphics tool(1).ipynb\"    \n",
       " [4] \"[Chapter 2-2] R-Graphics tool(2).ipynb\"    \n",
       " [5] \"[review] R object 1 .ipynb\"                \n",
       " [6] \"[review] R object 2.ipynb\"                 \n",
       " [7] \"0619_2.txt\"                                \n",
       " [8] \"0621_1.R\"                                  \n",
       " [9] \"0621_1.txt\"                                \n",
       "[10] \"0621_2.R\"                                  \n",
       "[11] \"0621_2.txt\"                                \n",
       "[12] \"CO2.csv\"                                   \n",
       "[13] \"code.zip\"                                  \n",
       "[14] \"data\"                                      \n",
       "[15] \"data.zip\"                                  \n",
       "[16] \"R-Data Processing.ipynb\"                   \n",
       "[17] \"Text function.ipynb\"                       \n",
       "[18] \"Untitled.ipynb\"                            \n",
       "[19] \"Untitled1.ipynb\"                           \n",
       "[20] \"강의록\"                                    "
      ]
     },
     "metadata": {},
     "output_type": "display_data"
    }
   ],
   "source": [
    "list.files()"
   ]
  },
  {
   "cell_type": "code",
   "execution_count": 37,
   "metadata": {},
   "outputs": [
    {
     "data": {
      "text/plain": [
       "tmp\n",
       "  csv ipynb     R   txt   zip \n",
       "    1    10     2     3     2 "
      ]
     },
     "metadata": {},
     "output_type": "display_data"
    }
   ],
   "source": [
    "# 실습\n",
    "files = list.files()\n",
    "tmp = c()\n",
    "a = strsplit(files,split = '.',fixed = T)\n",
    "for (i in 1:length(a)){\n",
    "    b = a[[i]]\n",
    "    if (length(b)==2){\n",
    "        tmp = c(tmp,tail(b,n=1))} # 누적의 방법은 좋지 않음\n",
    "}\n",
    "table(tmp)"
   ]
  },
  {
   "cell_type": "code",
   "execution_count": 39,
   "metadata": {},
   "outputs": [
    {
     "data": {
      "text/plain": [
       "tmp\n",
       "        csv ipynb     R   txt   zip \n",
       "    2     1    10     2     3     2 "
      ]
     },
     "metadata": {},
     "output_type": "display_data"
    }
   ],
   "source": [
    "# 미리 길이를 알고 있을 때\n",
    "files = list.files()\n",
    "tmp = rep(\"\",length(a))\n",
    "a = strsplit(files,split = '.',fixed = T)\n",
    "for (i in 1:length(a)){\n",
    "    b = a[[i]]\n",
    "    if (length(b)==2){\n",
    "        tmp[i] = tail(b,n=1)} # 누적의 방법은 좋지 않음\n",
    "}\n",
    "table(tmp)"
   ]
  },
  {
   "cell_type": "code",
   "execution_count": 42,
   "metadata": {},
   "outputs": [
    {
     "data": {
      "text/html": [
       "5"
      ],
      "text/latex": [
       "5"
      ],
      "text/markdown": [
       "5"
      ],
      "text/plain": [
       "[1] 5\n",
       "attr(,\"match.length\")\n",
       "[1] 2"
      ]
     },
     "metadata": {},
     "output_type": "display_data"
    }
   ],
   "source": [
    "# regexpr 함수\n",
    "# 어떤 문자열이 몇번째 부터 들어 있는지 알려주고 , 몇개가 매치되는지\n",
    "regexpr(\"감자\", \"맛있는 감자칩\")\n"
   ]
  },
  {
   "cell_type": "code",
   "execution_count": 44,
   "metadata": {},
   "outputs": [
    {
     "name": "stdout",
     "output_type": "stream",
     "text": [
      "[1] 2\n"
     ]
    }
   ],
   "source": [
    "a <- regexpr(\"감자\", \"맛있는 감자칩\")\n",
    "print(attr(a, 'match.length'))"
   ]
  },
  {
   "cell_type": "code",
   "execution_count": 46,
   "metadata": {},
   "outputs": [
    {
     "data": {
      "text/html": [
       "'머리를 고구마마자 고구마칩을 먹었다.'"
      ],
      "text/latex": [
       "'머리를 고구마마자 고구마칩을 먹었다.'"
      ],
      "text/markdown": [
       "'머리를 고구마마자 고구마칩을 먹었다.'"
      ],
      "text/plain": [
       "[1] \"머리를 고구마마자 고구마칩을 먹었다.\""
      ]
     },
     "metadata": {},
     "output_type": "display_data"
    },
    {
     "data": {
      "text/html": [
       "'머리를 감자마자 감자칩을 먹었다.'"
      ],
      "text/latex": [
       "'머리를 감자마자 감자칩을 먹었다.'"
      ],
      "text/markdown": [
       "'머리를 감자마자 감자칩을 먹었다.'"
      ],
      "text/plain": [
       "[1] \"머리를 감자마자 감자칩을 먹었다.\""
      ]
     },
     "metadata": {},
     "output_type": "display_data"
    }
   ],
   "source": [
    "# gregexpr 함수\n",
    "\n",
    "# 중요 \n",
    "# 찾아바꾸기\n",
    "\n",
    "gsub(pattern = \"감자\", replacement='고구마',\n",
    "     x= \"머리를 감자마자 감자칩을 먹었다.\") # 감자를 고구마로 대체\n",
    "# 패턴에 해당하는 문자열을 대치 -> 문자열 처리시 많이 사용\n",
    "\n",
    "gsub(pattern = \"<br>\", replacement='',\n",
    "     x= \"머리를 감자마자 <br>감자칩을 먹었다.\")\n"
   ]
  },
  {
   "cell_type": "markdown",
   "metadata": {},
   "source": [
    "## 정규표현식\n",
    "1. OR (|)\n",
    "2. 시작 (^)\n",
    "3. 끝 ($)\n",
    "4. Any ( [ ] )\n",
    "5. everything except  ( [ ^ ] )\n",
    "6. abbreviation\n",
    "7. 반복\n",
    "\n",
    "예시 문장에서 패턴을 표시해주는 "
   ]
  },
  {
   "cell_type": "code",
   "execution_count": 47,
   "metadata": {},
   "outputs": [
    {
     "data": {
      "text/html": [
       "<ol>\n",
       "\t<li><ol class=list-inline>\n",
       "\t<li>'감자'</li>\n",
       "\t<li>' 고구마'</li>\n",
       "\t<li>' 양파 '</li>\n",
       "\t<li>' 파이어볼'</li>\n",
       "</ol>\n",
       "</li>\n",
       "</ol>\n"
      ],
      "text/latex": [
       "\\begin{enumerate}\n",
       "\\item \\begin{enumerate*}\n",
       "\\item '감자'\n",
       "\\item ' 고구마'\n",
       "\\item ' 양파 '\n",
       "\\item ' 파이어볼'\n",
       "\\end{enumerate*}\n",
       "\n",
       "\\end{enumerate}\n"
      ],
      "text/markdown": [
       "1. 1. '감자'\n",
       "2. ' 고구마'\n",
       "3. ' 양파 '\n",
       "4. ' 파이어볼'\n",
       "\n",
       "\n",
       "\n",
       "\n",
       "\n"
      ],
      "text/plain": [
       "[[1]]\n",
       "[1] \"감자\"      \" 고구마\"   \" 양파 \"    \" 파이어볼\"\n"
      ]
     },
     "metadata": {},
     "output_type": "display_data"
    }
   ],
   "source": [
    "#or\n",
    "strsplit('감자, 고구마, 양파 그리고 파이어볼', split ='(,)|(그리고)') \n",
    "#패턴을 하나로 묶어줘야함\n",
    "# or 연산자와 붙어서 하나의 연산"
   ]
  },
  {
   "cell_type": "code",
   "execution_count": 53,
   "metadata": {},
   "outputs": [
    {
     "data": {
      "text/html": [
       "1"
      ],
      "text/latex": [
       "1"
      ],
      "text/markdown": [
       "1"
      ],
      "text/plain": [
       "[1] 1"
      ]
     },
     "metadata": {},
     "output_type": "display_data"
    },
    {
     "data": {
      "text/html": [
       "<ol class=list-inline>\n",
       "\t<li>1</li>\n",
       "\t<li>2</li>\n",
       "</ol>\n"
      ],
      "text/latex": [
       "\\begin{enumerate*}\n",
       "\\item 1\n",
       "\\item 2\n",
       "\\end{enumerate*}\n"
      ],
      "text/markdown": [
       "1. 1\n",
       "2. 2\n",
       "\n",
       "\n"
      ],
      "text/plain": [
       "[1] 1 2"
      ]
     },
     "metadata": {},
     "output_type": "display_data"
    }
   ],
   "source": [
    "# 시작 : ^\n",
    "\n",
    "# 감자로 시작하는 패턴이 있는가?\n",
    "# 있으면 어디에 있는가?\n",
    "\n",
    "# 시작위치의 소괄호는 하나로 빼줘야함\n",
    "#시작위치에서 같은단어가 있어야함\n",
    "\n",
    "grep(pattern = '^(감자)', x = '감자는 고구마를 좋아해')\n",
    "grep(pattern = '^(감자)', x = c('감자는 고구마를 좋아해', '감자합니다.'))\n"
   ]
  },
  {
   "cell_type": "code",
   "execution_count": 50,
   "metadata": {},
   "outputs": [
    {
     "name": "stdout",
     "output_type": "stream",
     "text": [
      "integer(0)\n"
     ]
    }
   ],
   "source": [
    "print(grep(pattern = '^(감자)', x = '고구마는 감자를 안 좋아해'))"
   ]
  },
  {
   "cell_type": "code",
   "execution_count": 55,
   "metadata": {},
   "outputs": [
    {
     "data": {
      "text/html": [
       "1"
      ],
      "text/latex": [
       "1"
      ],
      "text/markdown": [
       "1"
      ],
      "text/plain": [
       "[1] 1"
      ]
     },
     "metadata": {},
     "output_type": "display_data"
    },
    {
     "data": {
      "text/html": [
       "1"
      ],
      "text/latex": [
       "1"
      ],
      "text/markdown": [
       "1"
      ],
      "text/plain": [
       "[1] 1"
      ]
     },
     "metadata": {},
     "output_type": "display_data"
    }
   ],
   "source": [
    "# 끝 : $\n",
    "# 좋아해로 끝나는 패턴이 있는가?>\n",
    "grep(pattern = '(좋아해)$', x = '감자는 고구마를 좋아해')\n",
    "grep(pattern = '(좋아해)$', x = '고구마는 감자를 안좋아해')\n"
   ]
  },
  {
   "cell_type": "code",
   "execution_count": 58,
   "metadata": {},
   "outputs": [
    {
     "data": {
      "text/html": [
       "<ol>\n",
       "\t<li><ol class=list-inline>\n",
       "\t<li>7</li>\n",
       "\t<li>13</li>\n",
       "</ol>\n",
       "</li>\n",
       "</ol>\n"
      ],
      "text/latex": [
       "\\begin{enumerate}\n",
       "\\item \\begin{enumerate*}\n",
       "\\item 7\n",
       "\\item 13\n",
       "\\end{enumerate*}\n",
       "\n",
       "\\end{enumerate}\n"
      ],
      "text/markdown": [
       "1. 1. 7\n",
       "2. 13\n",
       "\n",
       "\n",
       "\n",
       "\n",
       "\n"
      ],
      "text/plain": [
       "[[1]]\n",
       "[1]  7 13\n",
       "attr(,\"match.length\")\n",
       "[1] 1 1\n"
      ]
     },
     "metadata": {},
     "output_type": "display_data"
    }
   ],
   "source": [
    "# Any : []\n",
    "# 어느 하나라도 해당하는 문자열\n",
    "#하나의 문자가 아,자,차,카 중에서 어떠한 값이든 될 수 있음 \n",
    "#(아자차카중에서 하나가 나온 위치를 반환) 패턴의 위치\n",
    "\n",
    "#[]안은 하나의 문자\n",
    "#{}반복횟수\n",
    "\n",
    "\n",
    "gregexpr(pattern = '[아자차카]', text = '고구마는 감자를 안 좋아해')"
   ]
  },
  {
   "cell_type": "code",
   "execution_count": 59,
   "metadata": {},
   "outputs": [
    {
     "data": {
      "text/html": [
       "<ol>\n",
       "\t<li><ol class=list-inline>\n",
       "\t<li>6</li>\n",
       "\t<li>7</li>\n",
       "</ol>\n",
       "</li>\n",
       "</ol>\n"
      ],
      "text/latex": [
       "\\begin{enumerate}\n",
       "\\item \\begin{enumerate*}\n",
       "\\item 6\n",
       "\\item 7\n",
       "\\end{enumerate*}\n",
       "\n",
       "\\end{enumerate}\n"
      ],
      "text/markdown": [
       "1. 1. 6\n",
       "2. 7\n",
       "\n",
       "\n",
       "\n",
       "\n",
       "\n"
      ],
      "text/plain": [
       "[[1]]\n",
       "[1] 6 7\n",
       "attr(,\"match.length\")\n",
       "[1] 1 1\n"
      ]
     },
     "metadata": {},
     "output_type": "display_data"
    }
   ],
   "source": [
    "# 소괄호 작동하지 않음\n",
    "\n",
    "gregexpr(pattern = '[(사과)(감자)(양파)]', text = '고구마는 감자를 안 좋아해')\n",
    "# 하나의 문자인데 사/과/감/자/양/파/ 브라켓안에서는 소괄호가 작동을 하지않음"
   ]
  },
  {
   "cell_type": "code",
   "execution_count": 60,
   "metadata": {},
   "outputs": [
    {
     "data": {
      "text/html": [
       "<ol>\n",
       "\t<li>-1</li>\n",
       "</ol>\n"
      ],
      "text/latex": [
       "\\begin{enumerate}\n",
       "\\item -1\n",
       "\\end{enumerate}\n"
      ],
      "text/markdown": [
       "1. -1\n",
       "\n",
       "\n"
      ],
      "text/plain": [
       "[[1]]\n",
       "[1] -1\n",
       "attr(,\"match.length\")\n",
       "[1] -1\n"
      ]
     },
     "metadata": {},
     "output_type": "display_data"
    }
   ],
   "source": [
    "gregexpr(pattern = '^[(사과)(감자)(양파)]', text = '고구마는 감자를 안 좋아해')\n",
    "\n",
    "# 시작하는 값이 없어서 -1을 리턴"
   ]
  },
  {
   "cell_type": "code",
   "execution_count": 62,
   "metadata": {},
   "outputs": [
    {
     "data": {
      "text/html": [],
      "text/latex": [],
      "text/markdown": [],
      "text/plain": [
       "integer(0)"
      ]
     },
     "metadata": {},
     "output_type": "display_data"
    },
    {
     "name": "stdout",
     "output_type": "stream",
     "text": [
      "integer(0)\n"
     ]
    }
   ],
   "source": [
    "# everything except\n",
    "# 제외한 모든 것들\n",
    "grep(pattern = '^[^(사과)(감자)(양파)]', x = '감자는 고구마를 좋아해')\n",
    "print(grep(pattern = '^[^(사과)(감자)(양파)]', x = '감자는 고구마를 좋아해'))\n",
    "# 브라켓 안쪽에 사용 cf.밖에서는 시작"
   ]
  },
  {
   "cell_type": "code",
   "execution_count": null,
   "metadata": {},
   "outputs": [],
   "source": [
    "# abbreviation\n",
    "[a-z] 알파벳 소문자 이외의 문자 중 아무것이나 1개\n",
    "[A-Z] 알파벳 대문자 이외의 문자 중 아무것이나 1개\n",
    "[0-9] 숫자 이외의 문자 중 아무것이나 1개\n",
    "[a-zA-Z] 알파벳 소문자나 대문자 중 아무것이나 1개\n",
    "[가-힣] 한글중에 아무거나 1개\n",
    "[^가-힣]"
   ]
  },
  {
   "cell_type": "code",
   "execution_count": 2,
   "metadata": {},
   "outputs": [
    {
     "data": {
      "text/html": [
       "1"
      ],
      "text/latex": [
       "1"
      ],
      "text/markdown": [
       "1"
      ],
      "text/plain": [
       "[1] 1"
      ]
     },
     "metadata": {},
     "output_type": "display_data"
    },
    {
     "data": {
      "text/html": [],
      "text/latex": [],
      "text/markdown": [],
      "text/plain": [
       "integer(0)"
      ]
     },
     "metadata": {},
     "output_type": "display_data"
    },
    {
     "data": {
      "text/html": [],
      "text/latex": [],
      "text/markdown": [],
      "text/plain": [
       "integer(0)"
      ]
     },
     "metadata": {},
     "output_type": "display_data"
    },
    {
     "data": {
      "text/html": [
       "1"
      ],
      "text/latex": [
       "1"
      ],
      "text/markdown": [
       "1"
      ],
      "text/plain": [
       "[1] 1"
      ]
     },
     "metadata": {},
     "output_type": "display_data"
    },
    {
     "data": {
      "text/html": [
       "1"
      ],
      "text/latex": [
       "1"
      ],
      "text/markdown": [
       "1"
      ],
      "text/plain": [
       "[1] 1"
      ]
     },
     "metadata": {},
     "output_type": "display_data"
    }
   ],
   "source": [
    "# 반복 : {}\n",
    "\n",
    "# {from,to} : from 부터 to 까지 바로 앞에 있는 글자 하나에 대한 반복\n",
    "\n",
    "# (ab) {2} ==> abab\n",
    "# ab {2}  ==> abb (중괄호 바로 앞에 있는 것만 반복)\n",
    "\n",
    "# o{2,4} 는 문자 o가 2번에서 4번까지 반복=> 주로 브라켓 문자를 사용\n",
    "grep(pattern = '[ab]{2,4}', x = 'ab')\n",
    "\n",
    "grep(pattern = '^ab{2,3}', x = 'ab') # 시작은 b만 가르킴 a로 시작하고 b가 2번에서 3번 반복\n",
    "grep(pattern = '^ab{2,3}', x = 'abab') \n",
    "grep(pattern = '^ab{2,3}', x = 'abbb')\n",
    "grep(pattern = '^(ab){2,3}', x = 'abab') #반복과 함께 사용되는 소괄호는 하나의 의미"
   ]
  },
  {
   "cell_type": "code",
   "execution_count": 3,
   "metadata": {},
   "outputs": [
    {
     "ename": "ERROR",
     "evalue": "Error in parse(text = x, srcfile = src): <text>:1:1: 예기치 않은 '*'입니다\n1: *\n    ^\n",
     "output_type": "error",
     "traceback": [
      "Error in parse(text = x, srcfile = src): <text>:1:1: 예기치 않은 '*'입니다\n1: *\n    ^\nTraceback:\n"
     ]
    }
   ],
   "source": [
    "*: {0,} #앞 문자가 없어도 되고 반복되어도 상관없음\n",
    "+: {1,} #앞 문자가 한번은 와야되고 반복될 수 있다.\n",
    "?: {0,1} #a가 오든지 안오든지"
   ]
  },
  {
   "cell_type": "code",
   "execution_count": 4,
   "metadata": {},
   "outputs": [
    {
     "ename": "ERROR",
     "evalue": "Error in parse(text = x, srcfile = src): <text>:1:1: 예기치 않은 '^'입니다\n1: ^\n    ^\n",
     "output_type": "error",
     "traceback": [
      "Error in parse(text = x, srcfile = src): <text>:1:1: 예기치 않은 '^'입니다\n1: ^\n    ^\nTraceback:\n"
     ]
    }
   ],
   "source": [
    "^[1-9][0-9]*$\n",
    "\n",
    "# ^[1-9] 처음은 1에서 9로 시작하고\n",
    "# [0-9]* 그 다음은 숫자들이 올 수도 있고 반복될 수도 있고, 안올수도 있다.\n",
    "# $ 그것으로 끝나는 패턴\n",
    "\n",
    "# 0 이라는 패턴은 없음\n",
    "# 124 = ^1/24*"
   ]
  },
  {
   "cell_type": "code",
   "execution_count": null,
   "metadata": {},
   "outputs": [],
   "source": [
    "^(0|([1-9][0-9]*))$\n",
    "# 0을 포함한 자연수\n",
    "\n",
    "^[0-9]+(\\\\.[0-9]{1,2})?$\n",
    "# + 안오는것을 허용하지 않음\n",
    "# 이스케이프기호가 아니라 진짜 . 임\n",
    "\n",
    "3.141592\n",
    "3 # \n",
    ". # \\\\.\n",
    "14 # [0-9]{1,2} . 으로 시작해서 숫자가 1번에서 두번까지 반복\n",
    "# 반복이 안되는 것을 허용\n",
    "올수 있으면 "
   ]
  },
  {
   "cell_type": "code",
   "execution_count": null,
   "metadata": {},
   "outputs": [],
   "source": [
    "# ^\n",
    "# + 안와도 되고 반복이어도 됨\n",
    "# 골뱅이 중간에\n",
    "#[] 많이 반복될 수 있다. + 최소한번은 와야\n",
    "# 반복이 되어도 되고 안와도 됨"
   ]
  },
  {
   "cell_type": "code",
   "execution_count": null,
   "metadata": {},
   "outputs": [],
   "source": [
    "^[_a-z0-9-]+(\\\\.[_a-z0-9-]+)*@[a-z0-9-]+(\\\\.[a-z0-9-]+)*$\n"
   ]
  },
  {
   "cell_type": "markdown",
   "metadata": {},
   "source": [
    "## stringr package"
   ]
  },
  {
   "cell_type": "code",
   "execution_count": 11,
   "metadata": {},
   "outputs": [
    {
     "data": {
      "text/html": [
       "'Hadley'"
      ],
      "text/latex": [
       "'Hadley'"
      ],
      "text/markdown": [
       "'Hadley'"
      ],
      "text/plain": [
       "[1] \"Hadley\""
      ]
     },
     "metadata": {},
     "output_type": "display_data"
    },
    {
     "data": {
      "text/html": [
       "<ol>\n",
       "\t<li><ol class=list-inline>\n",
       "\t<li>'Hadley'</li>\n",
       "\t<li>'Wickham'</li>\n",
       "</ol>\n",
       "</li>\n",
       "</ol>\n"
      ],
      "text/latex": [
       "\\begin{enumerate}\n",
       "\\item \\begin{enumerate*}\n",
       "\\item 'Hadley'\n",
       "\\item 'Wickham'\n",
       "\\end{enumerate*}\n",
       "\n",
       "\\end{enumerate}\n"
      ],
      "text/markdown": [
       "1. 1. 'Hadley'\n",
       "2. 'Wickham'\n",
       "\n",
       "\n",
       "\n",
       "\n",
       "\n"
      ],
      "text/plain": [
       "[[1]]\n",
       "[1] \"Hadley\"  \"Wickham\"\n"
      ]
     },
     "metadata": {},
     "output_type": "display_data"
    },
    {
     "data": {
      "text/html": [
       "'Wickham'"
      ],
      "text/latex": [
       "'Wickham'"
      ],
      "text/markdown": [
       "'Wickham'"
      ],
      "text/plain": [
       "[1] \"Wickham\""
      ]
     },
     "metadata": {},
     "output_type": "display_data"
    },
    {
     "data": {
      "text/html": [
       "'Hadley'"
      ],
      "text/latex": [
       "'Hadley'"
      ],
      "text/markdown": [
       "'Hadley'"
      ],
      "text/plain": [
       "[1] \"Hadley\""
      ]
     },
     "metadata": {},
     "output_type": "display_data"
    },
    {
     "data": {
      "text/html": [
       "'ckham'"
      ],
      "text/latex": [
       "'ckham'"
      ],
      "text/markdown": [
       "'ckham'"
      ],
      "text/plain": [
       "[1] \"ckham\""
      ]
     },
     "metadata": {},
     "output_type": "display_data"
    }
   ],
   "source": [
    "if(!require(stringr)){install.packages(\"stringr\"); library(stringr)}\n",
    "hw <- \"Hadley Wickham\"\n",
    "str_sub(hw, 1, 6)\n",
    "strsplit(hw, ' ')\n",
    "strsplit(hw, ' ')[[1]][2]\n",
    "strsplit(hw, ' ')[[1]][1]\n",
    "\n",
    "str_sub(hw, -5)#끝에서 다섯번째 거꾸로\n",
    "\n",
    "\n"
   ]
  },
  {
   "cell_type": "code",
   "execution_count": 12,
   "metadata": {},
   "outputs": [
    {
     "data": {
      "text/html": [
       "<ol>\n",
       "\t<li><ol class=list-inline>\n",
       "\t<li>'apples'</li>\n",
       "\t<li>'oranges'</li>\n",
       "\t<li>'pears'</li>\n",
       "\t<li>'bananas'</li>\n",
       "</ol>\n",
       "</li>\n",
       "\t<li><ol class=list-inline>\n",
       "\t<li>'pineapples'</li>\n",
       "\t<li>'mangos'</li>\n",
       "\t<li>'guavas'</li>\n",
       "</ol>\n",
       "</li>\n",
       "</ol>\n"
      ],
      "text/latex": [
       "\\begin{enumerate}\n",
       "\\item \\begin{enumerate*}\n",
       "\\item 'apples'\n",
       "\\item 'oranges'\n",
       "\\item 'pears'\n",
       "\\item 'bananas'\n",
       "\\end{enumerate*}\n",
       "\n",
       "\\item \\begin{enumerate*}\n",
       "\\item 'pineapples'\n",
       "\\item 'mangos'\n",
       "\\item 'guavas'\n",
       "\\end{enumerate*}\n",
       "\n",
       "\\end{enumerate}\n"
      ],
      "text/markdown": [
       "1. 1. 'apples'\n",
       "2. 'oranges'\n",
       "3. 'pears'\n",
       "4. 'bananas'\n",
       "\n",
       "\n",
       "\n",
       "2. 1. 'pineapples'\n",
       "2. 'mangos'\n",
       "3. 'guavas'\n",
       "\n",
       "\n",
       "\n",
       "\n",
       "\n"
      ],
      "text/plain": [
       "[[1]]\n",
       "[1] \"apples\"  \"oranges\" \"pears\"   \"bananas\"\n",
       "\n",
       "[[2]]\n",
       "[1] \"pineapples\" \"mangos\"     \"guavas\"    \n"
      ]
     },
     "metadata": {},
     "output_type": "display_data"
    }
   ],
   "source": [
    "fruits <- c(\"apples and oranges and pears and bananas\",\n",
    "    \"pineapples and mangos and guavas\")\n",
    "str_split(fruits, \" and \")"
   ]
  },
  {
   "cell_type": "code",
   "execution_count": 14,
   "metadata": {},
   "outputs": [
    {
     "ename": "ERROR",
     "evalue": "Error in str_split(fruits, split = c(\" and \", \", \")): 사용되지 않은 인자 (split = c(\" and \", \", \"))\n",
     "output_type": "error",
     "traceback": [
      "Error in str_split(fruits, split = c(\" and \", \", \")): 사용되지 않은 인자 (split = c(\" and \", \", \"))\nTraceback:\n"
     ]
    }
   ],
   "source": [
    "fruits <- c(\"apples, oranges, pears and bananas\",\n",
    "    \"pineapples, mangos and guavas\")\n",
    "str_split(fruits, split=c(\" and \",', '))"
   ]
  },
  {
   "cell_type": "code",
   "execution_count": 13,
   "metadata": {},
   "outputs": [
    {
     "data": {
      "text/html": [
       "<ol>\n",
       "\t<li><ol class=list-inline>\n",
       "\t<li>'apples'</li>\n",
       "\t<li>'oranges and pears and bananas'</li>\n",
       "</ol>\n",
       "</li>\n",
       "\t<li><ol class=list-inline>\n",
       "\t<li>'pineapples'</li>\n",
       "\t<li>'mangos and guavas'</li>\n",
       "</ol>\n",
       "</li>\n",
       "</ol>\n"
      ],
      "text/latex": [
       "\\begin{enumerate}\n",
       "\\item \\begin{enumerate*}\n",
       "\\item 'apples'\n",
       "\\item 'oranges and pears and bananas'\n",
       "\\end{enumerate*}\n",
       "\n",
       "\\item \\begin{enumerate*}\n",
       "\\item 'pineapples'\n",
       "\\item 'mangos and guavas'\n",
       "\\end{enumerate*}\n",
       "\n",
       "\\end{enumerate}\n"
      ],
      "text/markdown": [
       "1. 1. 'apples'\n",
       "2. 'oranges and pears and bananas'\n",
       "\n",
       "\n",
       "\n",
       "2. 1. 'pineapples'\n",
       "2. 'mangos and guavas'\n",
       "\n",
       "\n",
       "\n",
       "\n",
       "\n"
      ],
      "text/plain": [
       "[[1]]\n",
       "[1] \"apples\"                        \"oranges and pears and bananas\"\n",
       "\n",
       "[[2]]\n",
       "[1] \"pineapples\"        \"mangos and guavas\"\n"
      ]
     },
     "metadata": {},
     "output_type": "display_data"
    }
   ],
   "source": [
    "str_split(fruits, \" and \", n = 2)\n",
    "#문자열 분할시 최대 개수"
   ]
  },
  {
   "cell_type": "code",
   "execution_count": 18,
   "metadata": {},
   "outputs": [
    {
     "name": "stdout",
     "output_type": "stream",
     "text": [
      "     [,1]                     [,2]      [,3] [,4]\n",
      "[1,] \"apples, oranges, pears\" \"bananas\" \"\"   \"\"  \n",
      "[2,] \"pineapples, mangos\"     \"guavas\"  \"\"   \"\"  \n"
     ]
    },
    {
     "data": {
      "text/html": [
       "<table>\n",
       "<tbody>\n",
       "\t<tr><td>apples, oranges, pears</td><td>bananas               </td><td>                      </td><td>                      </td></tr>\n",
       "\t<tr><td>pineapples, mangos    </td><td>guavas                </td><td>                      </td><td>                      </td></tr>\n",
       "</tbody>\n",
       "</table>\n"
      ],
      "text/latex": [
       "\\begin{tabular}{llll}\n",
       "\t apples, oranges, pears & bananas                &                        &                       \\\\\n",
       "\t pineapples, mangos     & guavas                 &                        &                       \\\\\n",
       "\\end{tabular}\n"
      ],
      "text/markdown": [
       "\n",
       "| apples, oranges, pears | bananas                |                        |                        | \n",
       "| pineapples, mangos     | guavas                 |                        |                        | \n",
       "\n",
       "\n"
      ],
      "text/plain": [
       "     [,1]                   [,2]    [,3] [,4]\n",
       "[1,] apples, oranges, pears bananas          \n",
       "[2,] pineapples, mangos     guavas           "
      ]
     },
     "metadata": {},
     "output_type": "display_data"
    }
   ],
   "source": [
    "# fixed 옵션을 통해서 행렬로 저장 가능\n",
    "print(str_split_fixed(fruits, \" and \", 4))\n",
    "str_split_fixed(fruits, \" and \", 4)\n",
    "# 한문장에서 어떠한 형태로 저장할 것인가에 대한 \n",
    "# 모자른 부분은 비우고 출력"
   ]
  },
  {
   "cell_type": "code",
   "execution_count": 24,
   "metadata": {},
   "outputs": [
    {
     "data": {
      "text/html": [
       "<ol class=list-inline>\n",
       "\t<li>TRUE</li>\n",
       "\t<li>FALSE</li>\n",
       "\t<li>FALSE</li>\n",
       "\t<li>FALSE</li>\n",
       "</ol>\n"
      ],
      "text/latex": [
       "\\begin{enumerate*}\n",
       "\\item TRUE\n",
       "\\item FALSE\n",
       "\\item FALSE\n",
       "\\item FALSE\n",
       "\\end{enumerate*}\n"
      ],
      "text/markdown": [
       "1. TRUE\n",
       "2. FALSE\n",
       "3. FALSE\n",
       "4. FALSE\n",
       "\n",
       "\n"
      ],
      "text/plain": [
       "[1]  TRUE FALSE FALSE FALSE"
      ]
     },
     "metadata": {},
     "output_type": "display_data"
    }
   ],
   "source": [
    "# 현재 일치하는 것이 있으면 T / 없으면 F\n",
    "# str_detect\n",
    "fruit <- c(\"apple\", \"banana\", \"pear\", \"pinapple\")\n",
    "str_detect(fruit, \"^a\") #a로 반드시 시작하는 것을 출력\n",
    "\n",
    "# 언제 사용??\n",
    "# ^R[a-z0-9]*(.exe)+$\n",
    "\n",
    "# R로 시작하고 .exe로 끝나는"
   ]
  },
  {
   "cell_type": "code",
   "execution_count": 29,
   "metadata": {},
   "outputs": [
    {
     "data": {
      "text/html": [
       "<ol class=list-inline>\n",
       "\t<li>1</li>\n",
       "\t<li>1</li>\n",
       "\t<li>1</li>\n",
       "\t<li>3</li>\n",
       "</ol>\n"
      ],
      "text/latex": [
       "\\begin{enumerate*}\n",
       "\\item 1\n",
       "\\item 1\n",
       "\\item 1\n",
       "\\item 3\n",
       "\\end{enumerate*}\n"
      ],
      "text/markdown": [
       "1. 1\n",
       "2. 1\n",
       "3. 1\n",
       "4. 3\n",
       "\n",
       "\n"
      ],
      "text/plain": [
       "[1] 1 1 1 3"
      ]
     },
     "metadata": {},
     "output_type": "display_data"
    },
    {
     "data": {
      "text/html": [
       "<ol class=list-inline>\n",
       "\t<li>1</li>\n",
       "\t<li>1</li>\n",
       "\t<li>1</li>\n",
       "\t<li>1</li>\n",
       "</ol>\n"
      ],
      "text/latex": [
       "\\begin{enumerate*}\n",
       "\\item 1\n",
       "\\item 1\n",
       "\\item 1\n",
       "\\item 1\n",
       "\\end{enumerate*}\n"
      ],
      "text/markdown": [
       "1. 1\n",
       "2. 1\n",
       "3. 1\n",
       "4. 1\n",
       "\n",
       "\n"
      ],
      "text/plain": [
       "[1] 1 1 1 1"
      ]
     },
     "metadata": {},
     "output_type": "display_data"
    },
    {
     "data": {
      "text/html": [
       "<ol class=list-inline>\n",
       "\t<li>1</li>\n",
       "\t<li>1</li>\n",
       "\t<li>0</li>\n",
       "\t<li>2</li>\n",
       "</ol>\n"
      ],
      "text/latex": [
       "\\begin{enumerate*}\n",
       "\\item 1\n",
       "\\item 1\n",
       "\\item 0\n",
       "\\item 2\n",
       "\\end{enumerate*}\n"
      ],
      "text/markdown": [
       "1. 1\n",
       "2. 1\n",
       "3. 0\n",
       "4. 2\n",
       "\n",
       "\n"
      ],
      "text/plain": [
       "[1] 1 1 0 2"
      ]
     },
     "metadata": {},
     "output_type": "display_data"
    }
   ],
   "source": [
    "str_count(fruit, c(\"a\", \"b\", \"p\", \"p\"))\n",
    "str_count(fruit, c(\"a\", \"b\", \"p\", \"^p\"))\n",
    "str_count(fruit, c(\"a\", \"b\", \"p{2,3}\", \"p{1,2}\")) \n",
    "#하나 또는 두개의 길이를 가진 p의 갯수를 세어라\n",
    "# 매칭대상의 맥시멈 길이를 보고 하나또는 두개가 매치되는 부분\n",
    "# 매칭패턴을 중복해서 세지 않음"
   ]
  },
  {
   "cell_type": "code",
   "execution_count": 30,
   "metadata": {},
   "outputs": [
    {
     "data": {
      "text/html": [
       "<table>\n",
       "<thead><tr><th scope=col>start</th><th scope=col>end</th></tr></thead>\n",
       "<tbody>\n",
       "\t<tr><td> 5</td><td> 5</td></tr>\n",
       "\t<tr><td>NA</td><td>NA</td></tr>\n",
       "\t<tr><td> 2</td><td> 2</td></tr>\n",
       "\t<tr><td> 8</td><td> 8</td></tr>\n",
       "</tbody>\n",
       "</table>\n"
      ],
      "text/latex": [
       "\\begin{tabular}{ll}\n",
       " start & end\\\\\n",
       "\\hline\n",
       "\t  5 &  5\\\\\n",
       "\t NA & NA\\\\\n",
       "\t  2 &  2\\\\\n",
       "\t  8 &  8\\\\\n",
       "\\end{tabular}\n"
      ],
      "text/markdown": [
       "\n",
       "start | end | \n",
       "|---|---|---|---|\n",
       "|  5 |  5 | \n",
       "| NA | NA | \n",
       "|  2 |  2 | \n",
       "|  8 |  8 | \n",
       "\n",
       "\n"
      ],
      "text/plain": [
       "     start end\n",
       "[1,]  5     5 \n",
       "[2,] NA    NA \n",
       "[3,]  2     2 \n",
       "[4,]  8     8 "
      ]
     },
     "metadata": {},
     "output_type": "display_data"
    }
   ],
   "source": [
    "# str_locate\n",
    "# 처음으로 매치되는 곳의 start, end 위치를 행렬로 돌려줌.\n",
    "str_locate(fruit, \"e\")\n"
   ]
  },
  {
   "cell_type": "code",
   "execution_count": 45,
   "metadata": {},
   "outputs": [
    {
     "data": {
      "text/html": [
       "<ol class=list-inline>\n",
       "\t<li>1</li>\n",
       "\t<li>0</li>\n",
       "\t<li>0</li>\n",
       "\t<li>1</li>\n",
       "</ol>\n"
      ],
      "text/latex": [
       "\\begin{enumerate*}\n",
       "\\item 1\n",
       "\\item 0\n",
       "\\item 0\n",
       "\\item 1\n",
       "\\end{enumerate*}\n"
      ],
      "text/markdown": [
       "1. 1\n",
       "2. 0\n",
       "3. 0\n",
       "4. 1\n",
       "\n",
       "\n"
      ],
      "text/plain": [
       "[1] 1 0 0 1"
      ]
     },
     "metadata": {},
     "output_type": "display_data"
    },
    {
     "data": {
      "text/html": [
       "<ol class=list-inline>\n",
       "\t<li>'4'</li>\n",
       "\t<li>NA</li>\n",
       "\t<li>NA</li>\n",
       "\t<li>'2'</li>\n",
       "</ol>\n"
      ],
      "text/latex": [
       "\\begin{enumerate*}\n",
       "\\item '4'\n",
       "\\item NA\n",
       "\\item NA\n",
       "\\item '2'\n",
       "\\end{enumerate*}\n"
      ],
      "text/markdown": [
       "1. '4'\n",
       "2. NA\n",
       "3. NA\n",
       "4. '2'\n",
       "\n",
       "\n"
      ],
      "text/plain": [
       "[1] \"4\" NA  NA  \"2\""
      ]
     },
     "metadata": {},
     "output_type": "display_data"
    },
    {
     "data": {
      "text/html": [
       "<ol>\n",
       "\t<li>'4'</li>\n",
       "\t<li></li>\n",
       "\t<li></li>\n",
       "\t<li>'2'</li>\n",
       "</ol>\n"
      ],
      "text/latex": [
       "\\begin{enumerate}\n",
       "\\item '4'\n",
       "\\item \n",
       "\\item \n",
       "\\item '2'\n",
       "\\end{enumerate}\n"
      ],
      "text/markdown": [
       "1. '4'\n",
       "2. \n",
       "3. \n",
       "4. '2'\n",
       "\n",
       "\n"
      ],
      "text/plain": [
       "[[1]]\n",
       "[1] \"4\"\n",
       "\n",
       "[[2]]\n",
       "character(0)\n",
       "\n",
       "[[3]]\n",
       "character(0)\n",
       "\n",
       "[[4]]\n",
       "[1] \"2\"\n"
      ]
     },
     "metadata": {},
     "output_type": "display_data"
    },
    {
     "data": {
      "text/html": [
       "<ol>\n",
       "\t<li>'4'</li>\n",
       "\t<li></li>\n",
       "\t<li></li>\n",
       "\t<li>'2'</li>\n",
       "</ol>\n"
      ],
      "text/latex": [
       "\\begin{enumerate}\n",
       "\\item '4'\n",
       "\\item \n",
       "\\item \n",
       "\\item '2'\n",
       "\\end{enumerate}\n"
      ],
      "text/markdown": [
       "1. '4'\n",
       "2. \n",
       "3. \n",
       "4. '2'\n",
       "\n",
       "\n"
      ],
      "text/plain": [
       "[[1]]\n",
       "[1] \"4\"\n",
       "\n",
       "[[2]]\n",
       "character(0)\n",
       "\n",
       "[[3]]\n",
       "character(0)\n",
       "\n",
       "[[4]]\n",
       "[1] \"2\"\n"
      ]
     },
     "metadata": {},
     "output_type": "display_data"
    }
   ],
   "source": [
    "# str_extract, str_extract_all\n",
    "# 매치된 부분 문자열을 추출. 매치되지 않은 요소는 NA를 반환\n",
    "\n",
    "# #패턴이 있다면 위치를 반환하는 것이 아니라\n",
    "# 직접적으로 가져옴 \n",
    "# 매치되는 것이 없으면 na\n",
    "\n",
    "shopping_list <- c(\"apples x4\", \"flour\", \"sugar\", \"milk x2\")\n",
    "str_count(shopping_list,\"[0-9]+\")\n",
    "str_extract(shopping_list, \"\\\\d\") \n",
    "#쇼핑 리스트에서 \n",
    "# 숫자라면 숫자 한개\n",
    "str_extract_all(shopping_list, \"(\\\\d)+\")\n",
    "str_extract_all(shopping_list, \"[0-9]+\")\n",
    "\n"
   ]
  },
  {
   "cell_type": "code",
   "execution_count": 48,
   "metadata": {},
   "outputs": [
    {
     "data": {
      "text/html": [
       "<ol class=list-inline>\n",
       "\t<li>'멍멍이'</li>\n",
       "\t<li>'ㅋㅋㅋ'</li>\n",
       "</ol>\n"
      ],
      "text/latex": [
       "\\begin{enumerate*}\n",
       "\\item '멍멍이'\n",
       "\\item 'ㅋㅋㅋ'\n",
       "\\end{enumerate*}\n"
      ],
      "text/markdown": [
       "1. '멍멍이'\n",
       "2. 'ㅋㅋㅋ'\n",
       "\n",
       "\n"
      ],
      "text/plain": [
       "[1] \"멍멍이\" \"ㅋㅋㅋ\""
      ]
     },
     "metadata": {},
     "output_type": "display_data"
    }
   ],
   "source": [
    "ani = c('멍멍이','ㅋㅋㅋ')\n",
    "str_extract(ani,\"[ㄱ-힣]+\")"
   ]
  },
  {
   "cell_type": "code",
   "execution_count": 53,
   "metadata": {},
   "outputs": [
    {
     "data": {
      "text/html": [
       "<ol class=list-inline>\n",
       "\t<li>'-ne apple'</li>\n",
       "\t<li>'tw- pears'</li>\n",
       "\t<li>'thr-e bananas'</li>\n",
       "</ol>\n"
      ],
      "text/latex": [
       "\\begin{enumerate*}\n",
       "\\item '-ne apple'\n",
       "\\item 'tw- pears'\n",
       "\\item 'thr-e bananas'\n",
       "\\end{enumerate*}\n"
      ],
      "text/markdown": [
       "1. '-ne apple'\n",
       "2. 'tw- pears'\n",
       "3. 'thr-e bananas'\n",
       "\n",
       "\n"
      ],
      "text/plain": [
       "[1] \"-ne apple\"     \"tw- pears\"     \"thr-e bananas\""
      ]
     },
     "metadata": {},
     "output_type": "display_data"
    },
    {
     "data": {
      "text/html": [
       "<ol class=list-inline>\n",
       "\t<li>'ne apple'</li>\n",
       "\t<li>'tw pears'</li>\n",
       "\t<li>'thre bananas'</li>\n",
       "</ol>\n"
      ],
      "text/latex": [
       "\\begin{enumerate*}\n",
       "\\item 'ne apple'\n",
       "\\item 'tw pears'\n",
       "\\item 'thre bananas'\n",
       "\\end{enumerate*}\n"
      ],
      "text/markdown": [
       "1. 'ne apple'\n",
       "2. 'tw pears'\n",
       "3. 'thre bananas'\n",
       "\n",
       "\n"
      ],
      "text/plain": [
       "[1] \"ne apple\"     \"tw pears\"     \"thre bananas\""
      ]
     },
     "metadata": {},
     "output_type": "display_data"
    }
   ],
   "source": [
    "fruits <- c(\"one apple\", \"two pears\", \"three bananas\")\n",
    "str_replace(fruits, \"[aeiou]\", \"-\")\n",
    "k = str_replace(fruits, \"[aeiou]\", \"\")\n",
    "k"
   ]
  },
  {
   "cell_type": "code",
   "execution_count": null,
   "metadata": {},
   "outputs": [],
   "source": []
  }
 ],
 "metadata": {
  "kernelspec": {
   "display_name": "R",
   "language": "R",
   "name": "ir"
  },
  "language_info": {
   "codemirror_mode": "r",
   "file_extension": ".r",
   "mimetype": "text/x-r-source",
   "name": "R",
   "pygments_lexer": "r",
   "version": "3.5.0"
  }
 },
 "nbformat": 4,
 "nbformat_minor": 2
}
