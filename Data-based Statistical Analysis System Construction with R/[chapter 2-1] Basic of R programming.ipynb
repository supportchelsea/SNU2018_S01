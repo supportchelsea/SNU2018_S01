{
 "cells": [
  {
   "cell_type": "markdown",
   "metadata": {},
   "source": [
    "# Basic of R programming"
   ]
  },
  {
   "cell_type": "markdown",
   "metadata": {},
   "source": [
    "## < Conditional Statement >\n",
    "\n",
    "\n",
    "1. Bitwise opertion\n",
    "2. Conditional statement 1\n",
    "3. Conditional statement 2\n",
    "4. Loop\n",
    "   \n",
    "   => Flow를 관리하는 방법!에서 첫번째 단계\n",
    "\n",
    "< 예시 : 지시문 if >\n",
    "(1)문법적 \n",
    "(2)컨디션 \n",
    "(3)수행해야하는 statement\n"
   ]
  },
  {
   "cell_type": "code",
   "execution_count": 3,
   "metadata": {},
   "outputs": [
    {
     "data": {
      "text/html": [
       "FALSE"
      ],
      "text/latex": [
       "FALSE"
      ],
      "text/markdown": [
       "FALSE"
      ],
      "text/plain": [
       "[1] FALSE"
      ]
     },
     "metadata": {},
     "output_type": "display_data"
    },
    {
     "data": {
      "text/html": [
       "TRUE"
      ],
      "text/latex": [
       "TRUE"
      ],
      "text/markdown": [
       "TRUE"
      ],
      "text/plain": [
       "[1] TRUE"
      ]
     },
     "metadata": {},
     "output_type": "display_data"
    },
    {
     "data": {
      "text/html": [
       "FALSE"
      ],
      "text/latex": [
       "FALSE"
      ],
      "text/markdown": [
       "FALSE"
      ],
      "text/plain": [
       "[1] FALSE"
      ]
     },
     "metadata": {},
     "output_type": "display_data"
    }
   ],
   "source": [
    "#Bitwise operation\n",
    "# And: & #두가지조건이 모두 만족할때만\n",
    "# Or: |\n",
    "# not: !\n",
    "\n",
    "TRUE & FALSE\n",
    "TRUE | FALSE\n",
    "!TRUE"
   ]
  },
  {
   "cell_type": "code",
   "execution_count": 4,
   "metadata": {},
   "outputs": [
    {
     "data": {
      "text/html": [
       "FALSE"
      ],
      "text/latex": [
       "FALSE"
      ],
      "text/markdown": [
       "FALSE"
      ],
      "text/plain": [
       "[1] FALSE"
      ]
     },
     "metadata": {},
     "output_type": "display_data"
    },
    {
     "data": {
      "text/html": [
       "TRUE"
      ],
      "text/latex": [
       "TRUE"
      ],
      "text/markdown": [
       "TRUE"
      ],
      "text/plain": [
       "[1] TRUE"
      ]
     },
     "metadata": {},
     "output_type": "display_data"
    },
    {
     "data": {
      "text/html": [
       "TRUE"
      ],
      "text/latex": [
       "TRUE"
      ],
      "text/markdown": [
       "TRUE"
      ],
      "text/plain": [
       "[1] TRUE"
      ]
     },
     "metadata": {},
     "output_type": "display_data"
    }
   ],
   "source": [
    "(3>2)&(2>3)\n",
    "(3>2)|(2>3)\n",
    "!(2>3)\n"
   ]
  },
  {
   "cell_type": "code",
   "execution_count": 2,
   "metadata": {},
   "outputs": [
    {
     "data": {
      "text/html": [
       "1"
      ],
      "text/latex": [
       "1"
      ],
      "text/markdown": [
       "1"
      ],
      "text/plain": [
       "[1] 1"
      ]
     },
     "metadata": {},
     "output_type": "display_data"
    }
   ],
   "source": [
    "# con'\n",
    "a = 1\n",
    "b = 0\n",
    "if (a<2) # 괄호 안 condition\n",
    "            #괄호 안 값이 True 일때만 중괄호의 값을 실행\n",
    "{\n",
    "  b=b+1 #중괄호 안에 statement\n",
    "} \n",
    "b"
   ]
  },
  {
   "cell_type": "code",
   "execution_count": 9,
   "metadata": {},
   "outputs": [
    {
     "data": {
      "text/html": [
       "1"
      ],
      "text/latex": [
       "1"
      ],
      "text/markdown": [
       "1"
      ],
      "text/plain": [
       "[1] 1"
      ]
     },
     "metadata": {},
     "output_type": "display_data"
    }
   ],
   "source": [
    "# C S - 1 \n",
    "a = 0\n",
    "if (TRUE)\n",
    "    {\n",
    "    a = 1\n",
    "}\n",
    "\n",
    "a"
   ]
  },
  {
   "cell_type": "code",
   "execution_count": 4,
   "metadata": {},
   "outputs": [
    {
     "data": {
      "text/html": [
       "FALSE"
      ],
      "text/latex": [
       "FALSE"
      ],
      "text/markdown": [
       "FALSE"
      ],
      "text/plain": [
       "[1] FALSE"
      ]
     },
     "metadata": {},
     "output_type": "display_data"
    }
   ],
   "source": [
    "a = 0\n",
    "set.seed(1)\n",
    "x = runif(1)\n",
    "x>0.5\n",
    "if (x>0.5){\n",
    "    a = 1\n",
    "}"
   ]
  },
  {
   "cell_type": "code",
   "execution_count": 13,
   "metadata": {},
   "outputs": [],
   "source": [
    "# C S - 2\n",
    "a = 3\n",
    "b = 0\n",
    "if (a<2) #논리 값을 계산해서 그 결과를 TF로 받고 T면 실행 아니면 실행하지 않음\n",
    "{\n",
    "  b = b+1 #TRUE 면 statement1을 실행\n",
    "} else { \n",
    "  b = b-1 #FALSE면 statement2를 실행\n",
    "}"
   ]
  },
  {
   "cell_type": "markdown",
   "metadata": {},
   "source": [
    "R은 인터프리터 언어여서 다른 줄로 바뀌면 다른 문장으로 생각\n",
    "\n",
    "        if 구절은 }으로 완결되었고, else 문은 시작하지 않기 때문에\n",
    "        문법적으로 끝나지 않았다는 측면에서 if 마지막 }와 else 를 이어서 \n",
    "        같은 줄에서 씀"
   ]
  },
  {
   "cell_type": "code",
   "execution_count": 16,
   "metadata": {},
   "outputs": [
    {
     "data": {
      "text/html": [
       "16"
      ],
      "text/latex": [
       "16"
      ],
      "text/markdown": [
       "16"
      ],
      "text/plain": [
       "[1] 16"
      ]
     },
     "metadata": {},
     "output_type": "display_data"
    },
    {
     "data": {
      "text/html": [
       "4"
      ],
      "text/latex": [
       "4"
      ],
      "text/markdown": [
       "4"
      ],
      "text/plain": [
       "[1] 4"
      ]
     },
     "metadata": {},
     "output_type": "display_data"
    },
    {
     "data": {
      "text/html": [
       "4"
      ],
      "text/latex": [
       "4"
      ],
      "text/markdown": [
       "4"
      ],
      "text/plain": [
       "[1] 4"
      ]
     },
     "metadata": {},
     "output_type": "display_data"
    }
   ],
   "source": [
    "1 + 3*\n",
    "\n",
    "5\n",
    "\n",
    "a = 1+ 3 \n",
    "+4 #단일의 숫자로 봄 (x의 딸린 연산이 아니라)\n",
    "a"
   ]
  },
  {
   "cell_type": "markdown",
   "metadata": {},
   "source": [
    "### Loop - for 문\n",
    "\n",
    "< 구성 요소 >\n",
    "1. for 문으로 시작\n",
    "2. (index argument) \n",
    "\n",
    "\n",
    "    1) index argment : (variable in vector) \n",
    "        : in 은 문법적인 요소라 변할 수 없음\n",
    "        vector의 길이만큼 반복(중괄호 안의 스테이트먼트가 반복)\n",
    "        반복마다 variable값이 바뀌게 됨\n",
    "\n",
    "3. {statement} "
   ]
  },
  {
   "cell_type": "code",
   "execution_count": 22,
   "metadata": {},
   "outputs": [
    {
     "data": {
      "text/html": [
       "6"
      ],
      "text/latex": [
       "6"
      ],
      "text/markdown": [
       "6"
      ],
      "text/plain": [
       "[1] 6"
      ]
     },
     "metadata": {},
     "output_type": "display_data"
    },
    {
     "data": {
      "text/html": [
       "3"
      ],
      "text/latex": [
       "3"
      ],
      "text/markdown": [
       "3"
      ],
      "text/plain": [
       "[1] 3"
      ]
     },
     "metadata": {},
     "output_type": "display_data"
    }
   ],
   "source": [
    "#교재 예시 1\n",
    "\n",
    "x = 0 #for문이 시작되기 전 0을 가지고 있었으나\n",
    "for (i in 1:3) \n",
    "{\n",
    "  x = x + i #첫번째 intergration 에서는 1\n",
    "            #두번째 x = 3\n",
    "            #세번째 x = 6\n",
    "}\n",
    "x\n",
    "i #for문 안에서 i는 선언되었고,\n",
    "# 벡터의 길이가 3이기 때문에 3번 반복되어 3이 선언됨"
   ]
  },
  {
   "cell_type": "code",
   "execution_count": 5,
   "metadata": {},
   "outputs": [
    {
     "data": {
      "text/html": [
       "15"
      ],
      "text/latex": [
       "15"
      ],
      "text/markdown": [
       "15"
      ],
      "text/plain": [
       "[1] 15"
      ]
     },
     "metadata": {},
     "output_type": "display_data"
    },
    {
     "data": {
      "text/html": [
       "6"
      ],
      "text/latex": [
       "6"
      ],
      "text/markdown": [
       "6"
      ],
      "text/plain": [
       "[1] 6"
      ]
     },
     "metadata": {},
     "output_type": "display_data"
    }
   ],
   "source": [
    "#교재 예시 1\n",
    "\n",
    "x = 0 #for문이 시작되기 전 0을 가지고 있었으나\n",
    "for (i in 4:6) \n",
    "{\n",
    "  x = x + i #첫번째 intergration 에서는 1\n",
    "            #두번째 x = 3\n",
    "            #세번째 x = 6\n",
    "}\n",
    "x\n",
    "i #for문 안에서 i는 선언되었고,\n",
    "# 벡터의 길이가 3이기 때문에 3번 반복되어 3이 선언됨"
   ]
  },
  {
   "cell_type": "code",
   "execution_count": 24,
   "metadata": {},
   "outputs": [
    {
     "data": {
      "text/html": [
       "20"
      ],
      "text/latex": [
       "20"
      ],
      "text/markdown": [
       "20"
      ],
      "text/plain": [
       "[1] 20"
      ]
     },
     "metadata": {},
     "output_type": "display_data"
    },
    {
     "data": {
      "text/html": [
       "8"
      ],
      "text/latex": [
       "8"
      ],
      "text/markdown": [
       "8"
      ],
      "text/plain": [
       "[1] 8"
      ]
     },
     "metadata": {},
     "output_type": "display_data"
    }
   ],
   "source": [
    "# 교재 예시 2\n",
    "x = 0\n",
    "v = c(2,4,6,8)\n",
    "for (i in v) #순서대로 벡터의 값을 가져옴\n",
    "{\n",
    "  x = x + i\n",
    "}\n",
    "x\n",
    "i"
   ]
  },
  {
   "cell_type": "code",
   "execution_count": 29,
   "metadata": {},
   "outputs": [
    {
     "data": {
      "text/html": [
       "21"
      ],
      "text/latex": [
       "21"
      ],
      "text/markdown": [
       "21"
      ],
      "text/plain": [
       "[1] 21"
      ]
     },
     "metadata": {},
     "output_type": "display_data"
    },
    {
     "data": {
      "text/html": [
       "3"
      ],
      "text/latex": [
       "3"
      ],
      "text/markdown": [
       "3"
      ],
      "text/plain": [
       "[1] 3"
      ]
     },
     "metadata": {},
     "output_type": "display_data"
    },
    {
     "data": {
      "text/html": [
       "2"
      ],
      "text/latex": [
       "2"
      ],
      "text/markdown": [
       "2"
      ],
      "text/plain": [
       "[1] 2"
      ]
     },
     "metadata": {},
     "output_type": "display_data"
    }
   ],
   "source": [
    "# 교재 예시 3 - 더블 루프 \n",
    "# 바깥쪽 상단의 입장에서는 안쪽에 있는 for 문이 하나의 state ment\n",
    "# 바깥 for 문은 3번 반복\n",
    "# 안쪽 for 문은 2회 반복\n",
    "\n",
    "# 총 연산 수 = 2 * 3 =6\n",
    "\n",
    "x = 0\n",
    "for (i in 1:3) \n",
    "{\n",
    "  for (j in 1:2)\n",
    "  {\n",
    "    x = x + i + j\n",
    "  }\n",
    "}\n",
    "\n",
    "x\n",
    "i\n",
    "j"
   ]
  },
  {
   "cell_type": "markdown",
   "metadata": {},
   "source": [
    "outer loop 의 입장에서는 inner loop는 하나의 명령\n",
    "\n",
    "순서 전체 반복\n",
    "1. i = 1일때\n",
    "     1) j = 1일때\n",
    "     2) j = 2일때\n",
    "\n",
    "2. i = 2 일 때\n",
    "     1) j = 1일때\n",
    "     2) j = 2일때\n",
    "\n",
    "3. i = 3 일 때\n",
    "     1) j = 1일때\n",
    "     2) j = 2일때\n",
    " \n",
    "종료"
   ]
  },
  {
   "cell_type": "markdown",
   "metadata": {},
   "source": [
    "##### control the loop - for statement\n",
    "\n",
    "    - break: break 명령을 만나면 반복문을 멈춰라\n",
    "     (단일 루프 -> 자기 자신 명령을 수행하는 가장 작은 루프만 멈추게 됨)\n",
    "\n",
    "    - next: 현재의 명령을 넘어가라\n",
    "     (반복문 내에서 연산을 스킵하라 -> 계산 리소스를 절약할 수 있음)\n",
    "\n",
    "    - stop: 명령을 만나면 모든 반복을 멈춰라 \n",
    "     (모든 루프에 영향-> inner/outter 전체)\n",
    "\n",
    "조건 만족 시에는 결과가 필요없을 경우가 있음\n",
    "조건을 확인하고 특정경우에만 실행시키고 싶은 경우 = if\n",
    "수리계산 식이 길고 복잡한 경우 "
   ]
  },
  {
   "cell_type": "markdown",
   "metadata": {},
   "source": [
    "#### (과제 비슷) break 와 stop을 설명할 수 있는 example 만들기\n",
    "(HW) Make examples to use the control arguments in R."
   ]
  },
  {
   "cell_type": "markdown",
   "metadata": {},
   "source": [
    "##### Loop - while 문\n",
    "    \" 무한반복 \"\n",
    "\n",
    "1. condition확인\n",
    "2. condition == True 면 ~~ 실행하고 1.으로 @@@\n",
    "   \n",
    "   coddition == False 면 ~~ 실행하지 않고 while 종료\n",
    "   \n"
   ]
  },
  {
   "cell_type": "code",
   "execution_count": 30,
   "metadata": {},
   "outputs": [
    {
     "data": {
      "text/html": [
       "1000"
      ],
      "text/latex": [
       "1000"
      ],
      "text/markdown": [
       "1000"
      ],
      "text/plain": [
       "[1] 1000"
      ]
     },
     "metadata": {},
     "output_type": "display_data"
    }
   ],
   "source": [
    "# while 문을 컨트롤하는 방법 - 로지컬로 설정 1\n",
    "conv = TRUE #로지컬 벡터를 만들고 \n",
    "while (conv) # 로지컬 벡터를 입력 -> 실행됨\n",
    "{\n",
    "    i = i + 1\n",
    "    if (i>=1000) conv = FALSE\n",
    "}\n",
    "i\n",
    "\n",
    "#while 문이 받는 input에 \n",
    "#로지컬 벡터를 넣어서 원하는 조건에서 이를 F로 변환하여 컨트롤"
   ]
  },
  {
   "cell_type": "code",
   "execution_count": 38,
   "metadata": {},
   "outputs": [
    {
     "data": {
      "text/html": [
       "1000"
      ],
      "text/latex": [
       "1000"
      ],
      "text/markdown": [
       "1000"
      ],
      "text/plain": [
       "[1] 1000"
      ]
     },
     "metadata": {},
     "output_type": "display_data"
    }
   ],
   "source": [
    "# while 문을 컨트롤하는 방법 2 - break\n",
    "i = 0\n",
    "while (TRUE) # 로지컬 벡터를 입력 -> 실행됨\n",
    "{\n",
    "    i = i + 1\n",
    "    if (i>=1000) break\n",
    "}\n",
    "i\n",
    "\n",
    "#while 문이 받는 input에 \n",
    "#로지컬 벡터를 넣어서 원하는 조건에서 이를 F로 변환하여 컨트롤"
   ]
  },
  {
   "cell_type": "markdown",
   "metadata": {},
   "source": [
    "## < function >\n",
    "    ' 기능을 새로이 만들기 '\n",
    "\n",
    "    - 하고자 하는 작업이 n개 이상이면 loop 연산으로 돌리기 오래 걸림\n",
    "    - 작업의 공통 분모가 있다면 데이터의 관리가 쉽고 간결함\n",
    "    (같은 작업을 반복)\n",
    "\n",
    "==> 코드의 간결성 / 수정의 용이성 "
   ]
  },
  {
   "cell_type": "code",
   "execution_count": 51,
   "metadata": {},
   "outputs": [
    {
     "data": {
      "text/html": [
       "3"
      ],
      "text/latex": [
       "3"
      ],
      "text/markdown": [
       "3"
      ],
      "text/plain": [
       "[1] 3"
      ]
     },
     "metadata": {},
     "output_type": "display_data"
    },
    {
     "name": "stdout",
     "output_type": "stream",
     "text": [
      "function(x1,x2) # 괄호 안 argumrnt(인풋이 어떤 것이 들어온다)\n",
      "{\n",
      "  v = x1^2 + x2\n",
      "  return(v) # 중괄호 안 어떤 기능을 할 것인지에 대한 서술\n",
      "}\n"
     ]
    }
   ],
   "source": [
    "# 교재 예시 1\n",
    "testFunction = function(x1,x2) # 괄호 안 argumrnt(인풋이 어떤 것이 들어온다)\n",
    "{\n",
    "  v = x1^2 + x2\n",
    "  return(v) # 중괄호 안 어떤 기능을 할 것인지에 대한 서술\n",
    "}\n",
    "testFunction(x1=1,x2=2)\n",
    "\n",
    "print(testFunction)"
   ]
  },
  {
   "cell_type": "code",
   "execution_count": 52,
   "metadata": {},
   "outputs": [
    {
     "data": {
      "text/html": [
       "<ol class=list-inline>\n",
       "\t<li>3</li>\n",
       "\t<li>-1</li>\n",
       "</ol>\n"
      ],
      "text/latex": [
       "\\begin{enumerate*}\n",
       "\\item 3\n",
       "\\item -1\n",
       "\\end{enumerate*}\n"
      ],
      "text/markdown": [
       "1. 3\n",
       "2. -1\n",
       "\n",
       "\n"
      ],
      "text/plain": [
       "[1]  3 -1"
      ]
     },
     "metadata": {},
     "output_type": "display_data"
    }
   ],
   "source": [
    "# 교재 예시 2\n",
    "testFunction = function(x1,x2)\n",
    "{\n",
    "  v1 = x1^2 + x2\n",
    "  v2 = x1^2 -x2\n",
    "  return( c(v1,v2) )\n",
    "}\n",
    "testFunction(1,2) #변수 명 없어도 상관 없음"
   ]
  },
  {
   "cell_type": "code",
   "execution_count": 53,
   "metadata": {},
   "outputs": [
    {
     "data": {
      "text/html": [
       "<ol class=list-inline>\n",
       "\t<li>13</li>\n",
       "\t<li>5</li>\n",
       "</ol>\n"
      ],
      "text/latex": [
       "\\begin{enumerate*}\n",
       "\\item 13\n",
       "\\item 5\n",
       "\\end{enumerate*}\n"
      ],
      "text/markdown": [
       "1. 13\n",
       "2. 5\n",
       "\n",
       "\n"
      ],
      "text/plain": [
       "[1] 13  5"
      ]
     },
     "metadata": {},
     "output_type": "display_data"
    },
    {
     "name": "stdout",
     "output_type": "stream",
     "text": [
      "function(x1,x2)\n",
      "{\n",
      "  v1 = x1^2 + x2\n",
      "  v2 = x1^2 -x2\n",
      "  return( c(v1,v2) )\n",
      "}\n",
      "<bytecode: 0x00000000252400b0>\n"
     ]
    },
    {
     "data": {
      "text/html": [
       "<ol class=list-inline>\n",
       "\t<li>5</li>\n",
       "\t<li>3</li>\n",
       "</ol>\n"
      ],
      "text/latex": [
       "\\begin{enumerate*}\n",
       "\\item 5\n",
       "\\item 3\n",
       "\\end{enumerate*}\n"
      ],
      "text/markdown": [
       "1. 5\n",
       "2. 3\n",
       "\n",
       "\n"
      ],
      "text/plain": [
       "[1] 5 3"
      ]
     },
     "metadata": {},
     "output_type": "display_data"
    },
    {
     "data": {
      "text/html": [
       "1"
      ],
      "text/latex": [
       "1"
      ],
      "text/markdown": [
       "1"
      ],
      "text/plain": [
       "[1] 1"
      ]
     },
     "metadata": {},
     "output_type": "display_data"
    },
    {
     "data": {
      "text/html": [
       "2"
      ],
      "text/latex": [
       "2"
      ],
      "text/markdown": [
       "2"
      ],
      "text/plain": [
       "[1] 2"
      ]
     },
     "metadata": {},
     "output_type": "display_data"
    }
   ],
   "source": [
    "x1 = 1\n",
    "x2 = 2\n",
    "testFunction(3,4) \n",
    "print(testFunction)\n",
    "testFunction(x1=x2,x2=x1) \n",
    "# 함수 내부의 x1에는 글로벌 네임 스페이스에 있는 x2를 입력\n",
    "# 함수 내부의 x2에는 글로벌 네임 스페이스에 있는 x1을 입력\n",
    "\n",
    "x1\n",
    "x2 # 무엇때문??"
   ]
  },
  {
   "cell_type": "markdown",
   "metadata": {},
   "source": [
    "< name scope >\n",
    "\n",
    "- function 에서 사용된 이름들은 function 안에서만 관리\n",
    "- 함수에서 정의된 이름들은 앞에서 부를 수 없는 이름 ( = 함수 내에서만 사용됨 )\n",
    "\n",
    "==> Global namespace 와 function namespace는 다른 공간\n"
   ]
  },
  {
   "cell_type": "code",
   "execution_count": 61,
   "metadata": {},
   "outputs": [
    {
     "data": {
      "text/html": [
       "<ol class=list-inline>\n",
       "\t<li>3</li>\n",
       "\t<li>-1</li>\n",
       "</ol>\n"
      ],
      "text/latex": [
       "\\begin{enumerate*}\n",
       "\\item 3\n",
       "\\item -1\n",
       "\\end{enumerate*}\n"
      ],
      "text/markdown": [
       "1. 3\n",
       "2. -1\n",
       "\n",
       "\n"
      ],
      "text/plain": [
       "[1]  3 -1"
      ]
     },
     "metadata": {},
     "output_type": "display_data"
    }
   ],
   "source": [
    "# 교재 예시 2\n",
    "testFunction = function(x,y)\n",
    "{\n",
    "  v1 = x^2 + y\n",
    "  v2 = x^2 - y\n",
    "  return( c(v1,v2) ) # 하나의 벡터화시켜서 리턴하라\n",
    "        # 출력값이 여러개 일때 하나의 벡터화시키지 않은 경우,\n",
    "        #다중인자 반환은 허용되지 않음\n",
    "}\n",
    "testFunction(1,2) #변수 명 없어도 상관 없음\n",
    "#대신 argument의 이름과 중괄호 내부의 연산 대상의 이름이 같아야함"
   ]
  },
  {
   "cell_type": "code",
   "execution_count": 67,
   "metadata": {},
   "outputs": [
    {
     "data": {
      "text/html": [
       "<ol class=list-inline>\n",
       "\t<li>18</li>\n",
       "\t<li>14.9446752686054</li>\n",
       "</ol>\n"
      ],
      "text/latex": [
       "\\begin{enumerate*}\n",
       "\\item 18\n",
       "\\item 14.9446752686054\n",
       "\\end{enumerate*}\n"
      ],
      "text/markdown": [
       "1. 18\n",
       "2. 14.9446752686054\n",
       "\n",
       "\n"
      ],
      "text/plain": [
       "[1] 18.00000 14.94468"
      ]
     },
     "metadata": {},
     "output_type": "display_data"
    }
   ],
   "source": [
    "# function에서 선언되지 않은 변수를 가지고 작업을 하는 경우 - 값들이 변화할 수도 있음\n",
    "x = runif(1)\n",
    "testFunction = function(x1,x2)\n",
    "{\n",
    "  v1 = x1^2 + x2\n",
    "  v2 = x1^2 - x2 + x\n",
    " return( c(v1,v2) )\n",
    "}\n",
    "\n",
    "testFunction(4,2)"
   ]
  },
  {
   "cell_type": "markdown",
   "metadata": {},
   "source": [
    "같은 코드가 실행되고 있을 때 다른 결과가 도출된 경우?\n",
    "\n",
    "=> 함수 바깥의 전역변수를 사용하게 된다면 오류 도출 가능\n",
    "\n",
    "    ' 함수내부의 로컬변수만을 사용할 것 '"
   ]
  },
  {
   "cell_type": "code",
   "execution_count": 2,
   "metadata": {},
   "outputs": [
    {
     "ename": "ERROR",
     "evalue": "Error in testFunction(x): 객체 'y'를 찾을 수 없습니다\n",
     "output_type": "error",
     "traceback": [
      "Error in testFunction(x): 객체 'y'를 찾을 수 없습니다\nTraceback:\n",
      "1. testFunction(x)"
     ]
    }
   ],
   "source": [
    "testFunction = function(x)\n",
    "{\n",
    "  v = x^2 + y\n",
    "  return(v)\n",
    "}\n",
    "testFunction(x)\n",
    "y = 1\n",
    "testFunction(x)\n",
    "y = 10\n",
    "testFunction(x)\n",
    "\n",
    "# 함수 내부에 선언되지 않은 값은 글로벌 환경에서의 변수를 사용\n",
    "# 하지만 이경우 내부에서 잘못 작동할 수 있음\n",
    "# 꼭 사용되는 변수를 직접 만들어 줄 것 \n",
    "\n",
    "# 데이터에 대한 정보가 고정되었을 때는 편하지만.\n",
    "# \n",
    "\n",
    "# 내부 사용변수는 함수 안에서 만들어주기!!"
   ]
  },
  {
   "cell_type": "markdown",
   "metadata": {},
   "source": [
    "#### function의 return 값\n",
    "\n",
    "    'list를 리턴하는 경우가 많음'\n",
    "\n",
    "(*) 리턴 안쪽에 리스트를 만들어 줌\n",
    "- 첫번째 체인 이름 = first\n",
    "- 두번째 체인 이름 = second\n",
    "\n",
    "=> return으로 break 와 같은 결과를 낼 수 있음!!\n",
    "(한번 실행되면 그 함수가 끝남)\n"
   ]
  },
  {
   "cell_type": "code",
   "execution_count": 3,
   "metadata": {},
   "outputs": [
    {
     "data": {
      "text/html": [
       "<dl>\n",
       "\t<dt>$first</dt>\n",
       "\t\t<dd>4</dd>\n",
       "\t<dt>$second</dt>\n",
       "\t\t<dd><table>\n",
       "<tbody>\n",
       "\t<tr><td>1 </td><td>4 </td><td>9 </td><td>16</td><td>25</td></tr>\n",
       "</tbody>\n",
       "</table>\n",
       "</dd>\n",
       "</dl>\n"
      ],
      "text/latex": [
       "\\begin{description}\n",
       "\\item[\\$first] 4\n",
       "\\item[\\$second] \\begin{tabular}{lllll}\n",
       "\t 1  & 4  & 9  & 16 & 25\\\\\n",
       "\\end{tabular}\n",
       "\n",
       "\\end{description}\n"
      ],
      "text/markdown": [
       "$first\n",
       ":   4\n",
       "$second\n",
       ":   \n",
       "| 1  | 4  | 9  | 16 | 25 | \n",
       "\n",
       "\n",
       "\n",
       "\n",
       "\n"
      ],
      "text/plain": [
       "$first\n",
       "[1] 4\n",
       "\n",
       "$second\n",
       "     [,1] [,2] [,3] [,4] [,5]\n",
       "[1,]    1    4    9   16   25\n"
      ]
     },
     "metadata": {},
     "output_type": "display_data"
    }
   ],
   "source": [
    "# 교재 예시 3\n",
    "\n",
    "testFunction = function(x)\n",
    "{\n",
    "  v1 = x^2\n",
    "  v2 = matrix((1:5)^x,1,5)\n",
    "  return(list(first = v1, second = v2)) # 숫자하나와 매트릭스를 리턴하는 함수\n",
    "} #리스트로 내보냄\n",
    "testFunction(2) "
   ]
  },
  {
   "cell_type": "markdown",
   "metadata": {},
   "source": [
    "#### 함수를 만드는 방법\n",
    "    \n",
    "    1. input type 을 체크 \n",
    "    입력 타입이 정해져야 오류없이 작동가능\n",
    "    => 벡터인 경우에 다르게 처리하도록 할 수 도 있음\n",
    "    2.  \n",
    "    3.\n"
   ]
  },
  {
   "cell_type": "code",
   "execution_count": null,
   "metadata": {},
   "outputs": [],
   "source": [
    "# 교재예시\n",
    "s_colMean = function(x)\n",
    "{\n",
    "  if ( class(x) != \"matrix\") stop() #input의 클래스가 매트릭스가 아니면 전체를 멈춤\n",
    "  v = rep(0, ncol(x))   #매트릭스인것만 계산을 하기 때문에 ncol에 대한 오류값이 없음\n",
    "                        #\n",
    "  for ( i in 1:ncol(x)) #열의 갯수동안 반복\n",
    "  {\n",
    "    v[i] = mean( x[,i] ) #매트릭스의 첫번째 열을 가져와서 평균 계산\n",
    "  }\n",
    "  return(v)  \n",
    "}\n",
    "# 내가 생각하는 경우에만 함수가 실행되도록 할 수 있음\n"
   ]
  },
  {
   "cell_type": "markdown",
   "metadata": {},
   "source": [
    "돌아가는 방법\n",
    "- v : _ _ _ _ (각각의 컬럼의 평균을 할당할 칸)\n"
   ]
  },
  {
   "cell_type": "code",
   "execution_count": 7,
   "metadata": {},
   "outputs": [
    {
     "name": "stdout",
     "output_type": "stream",
     "text": [
      "[1] 3 8\n"
     ]
    }
   ],
   "source": [
    "s_colmean = function(x)\n",
    "    {\n",
    "    if (class(x)!='matrix')\n",
    "        stop(\"x is not matrix!!\")\n",
    "    \n",
    "        #실행해야하는 문장이 한줄인 경우 줄바꿈해도 됨 (if문이 끝나지 않앗기 때문에 가능)\n",
    "    v = rep(0, ncol(x)) #저장 공간 확보\n",
    "    for (i in 1:ncol(x)) \n",
    "        {\n",
    "        v[i] = mean(x[,i])\n",
    "    }\n",
    "    return(v)\n",
    "        }\n",
    "\n",
    "x = matrix(1:10,5,2)\n",
    "print(s_colmean(x))"
   ]
  },
  {
   "cell_type": "markdown",
   "metadata": {},
   "source": [
    "#### (과제) row의 평균 구하는 함수를 만들기\n",
    "HW: rowwise average function"
   ]
  },
  {
   "cell_type": "code",
   "execution_count": 1,
   "metadata": {},
   "outputs": [
    {
     "name": "stdout",
     "output_type": "stream",
     "text": [
      "[1] 3.5 4.5 5.5 6.5 7.5\n"
     ]
    }
   ],
   "source": [
    "s_rowmean = function(x)\n",
    "    {\n",
    "    if (class(x)!='matrix')\n",
    "        stop(\"x is not matrix!!\")\n",
    "    \n",
    "        #실행해야하는 문장이 한줄인 경우 줄바꿈해도 됨 (if문이 끝나지 않앗기 때문에 가능)\n",
    "    v = rep(0, nrow(x)) #저장 공간 확보\n",
    "    for (i in 1:nrow(x)) \n",
    "        {\n",
    "        v[i] = mean(x[i,])\n",
    "    }\n",
    "    return(v)\n",
    "        }\n",
    "\n",
    "x = matrix(1:10,5,2)\n",
    "print(s_rowmean(x))"
   ]
  },
  {
   "cell_type": "markdown",
   "metadata": {},
   "source": [
    "## < File >\n",
    "파일 읽기\n"
   ]
  },
  {
   "cell_type": "code",
   "execution_count": 3,
   "metadata": {},
   "outputs": [
    {
     "data": {
      "text/html": [
       "'C:/Users/renz/Desktop/SNU/데이터기반 통계분석 시스템 구축(전종준 교수님)'"
      ],
      "text/latex": [
       "'C:/Users/renz/Desktop/SNU/데이터기반 통계분석 시스템 구축(전종준 교수님)'"
      ],
      "text/markdown": [
       "'C:/Users/renz/Desktop/SNU/데이터기반 통계분석 시스템 구축(전종준 교수님)'"
      ],
      "text/plain": [
       "[1] \"C:/Users/renz/Desktop/SNU/데이터기반 통계분석 시스템 구축(전종준 교수님)\""
      ]
     },
     "metadata": {},
     "output_type": "display_data"
    },
    {
     "name": "stdout",
     "output_type": "stream",
     "text": [
      "[1] \"C:/Users/renz/Desktop/SNU/데이터기반 통계분석 시스템 구축(전종준 교수님)\"\n"
     ]
    },
    {
     "ename": "ERROR",
     "evalue": "Error in setwd(\"./fig\"): 작업디렉토리를 변경할 수 없습니다\n",
     "output_type": "error",
     "traceback": [
      "Error in setwd(\"./fig\"): 작업디렉토리를 변경할 수 없습니다\nTraceback:\n",
      "1. setwd(\"./fig\")"
     ]
    }
   ],
   "source": [
    "# path name\n",
    "getwd() \n",
    "print(getwd())\n",
    "# 절대경로 : \n",
    "# 상대경로 : \n",
    "\n",
    "setwd('./fig') #이 폴더 내에 있는 폴더로 지정하겠다\n",
    "\n"
   ]
  },
  {
   "cell_type": "code",
   "execution_count": 8,
   "metadata": {},
   "outputs": [
    {
     "data": {
      "text/html": [
       "<table>\n",
       "<thead><tr><th scope=col>Plant</th><th scope=col>Type</th><th scope=col>Treatment</th><th scope=col>conc</th><th scope=col>uptake</th></tr></thead>\n",
       "<tbody>\n",
       "\t<tr><td>Qn1       </td><td>Quebec    </td><td>nonchilled</td><td> 95       </td><td>16.0      </td></tr>\n",
       "\t<tr><td>Qn1       </td><td>Quebec    </td><td>nonchilled</td><td>175       </td><td>30.4      </td></tr>\n",
       "\t<tr><td>Qn1       </td><td>Quebec    </td><td>nonchilled</td><td>250       </td><td>34.8      </td></tr>\n",
       "\t<tr><td>Qn1       </td><td>Quebec    </td><td>nonchilled</td><td>350       </td><td>37.2      </td></tr>\n",
       "\t<tr><td>Qn1       </td><td>Quebec    </td><td>nonchilled</td><td>500       </td><td>35.3      </td></tr>\n",
       "\t<tr><td>Qn1       </td><td>Quebec    </td><td>nonchilled</td><td>675       </td><td>39.2      </td></tr>\n",
       "</tbody>\n",
       "</table>\n"
      ],
      "text/latex": [
       "\\begin{tabular}{r|lllll}\n",
       " Plant & Type & Treatment & conc & uptake\\\\\n",
       "\\hline\n",
       "\t Qn1        & Quebec     & nonchilled &  95        & 16.0      \\\\\n",
       "\t Qn1        & Quebec     & nonchilled & 175        & 30.4      \\\\\n",
       "\t Qn1        & Quebec     & nonchilled & 250        & 34.8      \\\\\n",
       "\t Qn1        & Quebec     & nonchilled & 350        & 37.2      \\\\\n",
       "\t Qn1        & Quebec     & nonchilled & 500        & 35.3      \\\\\n",
       "\t Qn1        & Quebec     & nonchilled & 675        & 39.2      \\\\\n",
       "\\end{tabular}\n"
      ],
      "text/markdown": [
       "\n",
       "Plant | Type | Treatment | conc | uptake | \n",
       "|---|---|---|---|---|---|\n",
       "| Qn1        | Quebec     | nonchilled |  95        | 16.0       | \n",
       "| Qn1        | Quebec     | nonchilled | 175        | 30.4       | \n",
       "| Qn1        | Quebec     | nonchilled | 250        | 34.8       | \n",
       "| Qn1        | Quebec     | nonchilled | 350        | 37.2       | \n",
       "| Qn1        | Quebec     | nonchilled | 500        | 35.3       | \n",
       "| Qn1        | Quebec     | nonchilled | 675        | 39.2       | \n",
       "\n",
       "\n"
      ],
      "text/plain": [
       "  Plant Type   Treatment  conc uptake\n",
       "1 Qn1   Quebec nonchilled  95  16.0  \n",
       "2 Qn1   Quebec nonchilled 175  30.4  \n",
       "3 Qn1   Quebec nonchilled 250  34.8  \n",
       "4 Qn1   Quebec nonchilled 350  37.2  \n",
       "5 Qn1   Quebec nonchilled 500  35.3  \n",
       "6 Qn1   Quebec nonchilled 675  39.2  "
      ]
     },
     "metadata": {},
     "output_type": "display_data"
    },
    {
     "name": "stdout",
     "output_type": "stream",
     "text": [
      "Classes 'nfnGroupedData', 'nfGroupedData', 'groupedData' and 'data.frame':\t84 obs. of  5 variables:\n",
      " $ Plant    : Ord.factor w/ 12 levels \"Qn1\"<\"Qn2\"<\"Qn3\"<..: 1 1 1 1 1 1 1 2 2 2 ...\n",
      " $ Type     : Factor w/ 2 levels \"Quebec\",\"Mississippi\": 1 1 1 1 1 1 1 1 1 1 ...\n",
      " $ Treatment: Factor w/ 2 levels \"nonchilled\",\"chilled\": 1 1 1 1 1 1 1 1 1 1 ...\n",
      " $ conc     : num  95 175 250 350 500 675 1000 95 175 250 ...\n",
      " $ uptake   : num  16 30.4 34.8 37.2 35.3 39.2 39.7 13.6 27.3 37.1 ...\n",
      " - attr(*, \"formula\")=Class 'formula'  language uptake ~ conc | Plant\n",
      "  .. ..- attr(*, \".Environment\")=<environment: R_EmptyEnv> \n",
      " - attr(*, \"outer\")=Class 'formula'  language ~Treatment * Type\n",
      "  .. ..- attr(*, \".Environment\")=<environment: R_EmptyEnv> \n",
      " - attr(*, \"labels\")=List of 2\n",
      "  ..$ x: chr \"Ambient carbon dioxide concentration\"\n",
      "  ..$ y: chr \"CO2 uptake rate\"\n",
      " - attr(*, \"units\")=List of 2\n",
      "  ..$ x: chr \"(uL/L)\"\n",
      "  ..$ y: chr \"(umol/m^2 s)\"\n"
     ]
    }
   ],
   "source": [
    "head(CO2)\n",
    "str(CO2)\n",
    "#내장데이터\n",
    "# R스튜디오 에서 view(CO2)하면 똑같이 나옴\n",
    "# 이를 워킹스페이스로 저장하고 싶으면 save.image()\n",
    "# load.image()\n",
    "\n"
   ]
  },
  {
   "cell_type": "markdown",
   "metadata": {},
   "source": [
    "\"\",\"Plant\",\"Type\",\"Treatment\",\"conc\",\"uptake\"\n",
    "\n",
    "\"1\",\"Qn1\",\"Quebec\",\"nonchilled\",95,16\n",
    "\n",
    "\"2\",\"Qn1\",\"Quebec\",\"nonchilled\",175,30.4\n",
    "\n",
    "\"3\",\"Qn1\",\"Quebec\",\"nonchilled\",250,34.8\n",
    "\n",
    "\"4\",\"Qn1\",\"Quebec\",\"nonchilled\",350,37.2\n",
    "\n",
    "\"5\",\"Qn1\",\"Quebec\",\"nonchilled\",500,35.3\n",
    "\n",
    "이런 형식으로 나오기 때문에 쉽게 객체 타입을 알 수 있음"
   ]
  },
  {
   "cell_type": "code",
   "execution_count": 22,
   "metadata": {},
   "outputs": [
    {
     "data": {
      "text/html": [
       "<table>\n",
       "<thead><tr><th scope=col>V1</th><th scope=col>V2</th></tr></thead>\n",
       "<tbody>\n",
       "\t<tr><td>Plant                              </td><td>;\"Type\";\"Treatment\";\"conc\";\"uptake\"</td></tr>\n",
       "\t<tr><td>Qn1                                </td><td>;\"Quebec\";\"nonchilled\";95;16       </td></tr>\n",
       "\t<tr><td>Qn1                                </td><td>;\"Quebec\";\"nonchilled\";175;30.4    </td></tr>\n",
       "\t<tr><td>Qn1                                </td><td>;\"Quebec\";\"nonchilled\";250;34.8    </td></tr>\n",
       "\t<tr><td>Qn1                                </td><td>;\"Quebec\";\"nonchilled\";350;37.2    </td></tr>\n",
       "\t<tr><td>Qn1                                </td><td>;\"Quebec\";\"nonchilled\";500;35.3    </td></tr>\n",
       "\t<tr><td>Qn1                                </td><td>;\"Quebec\";\"nonchilled\";675;39.2    </td></tr>\n",
       "\t<tr><td>Qn1                                </td><td>;\"Quebec\";\"nonchilled\";1000;39.7   </td></tr>\n",
       "\t<tr><td>Qn2                                </td><td>;\"Quebec\";\"nonchilled\";95;13.6     </td></tr>\n",
       "\t<tr><td>Qn2                                </td><td>;\"Quebec\";\"nonchilled\";175;27.3    </td></tr>\n",
       "\t<tr><td>Qn2                                </td><td>;\"Quebec\";\"nonchilled\";250;37.1    </td></tr>\n",
       "\t<tr><td>Qn2                                </td><td>;\"Quebec\";\"nonchilled\";350;41.8    </td></tr>\n",
       "\t<tr><td>Qn2                                </td><td>;\"Quebec\";\"nonchilled\";500;40.6    </td></tr>\n",
       "\t<tr><td>Qn2                                </td><td>;\"Quebec\";\"nonchilled\";675;41.4    </td></tr>\n",
       "\t<tr><td>Qn2                                </td><td>;\"Quebec\";\"nonchilled\";1000;44.3   </td></tr>\n",
       "\t<tr><td>Qn3                                </td><td>;\"Quebec\";\"nonchilled\";95;16.2     </td></tr>\n",
       "\t<tr><td>Qn3                                </td><td>;\"Quebec\";\"nonchilled\";175;32.4    </td></tr>\n",
       "\t<tr><td>Qn3                                </td><td>;\"Quebec\";\"nonchilled\";250;40.3    </td></tr>\n",
       "\t<tr><td>Qn3                                </td><td>;\"Quebec\";\"nonchilled\";350;42.1    </td></tr>\n",
       "\t<tr><td>Qn3                                </td><td>;\"Quebec\";\"nonchilled\";500;42.9    </td></tr>\n",
       "\t<tr><td>Qn3                                </td><td>;\"Quebec\";\"nonchilled\";675;43.9    </td></tr>\n",
       "\t<tr><td>Qn3                                </td><td>;\"Quebec\";\"nonchilled\";1000;45.5   </td></tr>\n",
       "\t<tr><td>Qc1                                </td><td>;\"Quebec\";\"chilled\";95;14.2        </td></tr>\n",
       "\t<tr><td>Qc1                                </td><td>;\"Quebec\";\"chilled\";175;24.1       </td></tr>\n",
       "\t<tr><td>Qc1                                </td><td>;\"Quebec\";\"chilled\";250;30.3       </td></tr>\n",
       "\t<tr><td>Qc1                                </td><td>;\"Quebec\";\"chilled\";350;34.6       </td></tr>\n",
       "\t<tr><td>Qc1                                </td><td>;\"Quebec\";\"chilled\";500;32.5       </td></tr>\n",
       "\t<tr><td>Qc1                                </td><td>;\"Quebec\";\"chilled\";675;35.4       </td></tr>\n",
       "\t<tr><td>Qc1                                </td><td>;\"Quebec\";\"chilled\";1000;38.7      </td></tr>\n",
       "\t<tr><td>Qc2                                </td><td>;\"Quebec\";\"chilled\";95;9.3         </td></tr>\n",
       "\t<tr><td>...</td><td>...</td></tr>\n",
       "\t<tr><td>Mn2                                  </td><td>;\"Mississippi\";\"nonchilled\";675;31.1 </td></tr>\n",
       "\t<tr><td>Mn2                                  </td><td>;\"Mississippi\";\"nonchilled\";1000;31.5</td></tr>\n",
       "\t<tr><td>Mn3                                  </td><td>;\"Mississippi\";\"nonchilled\";95;11.3  </td></tr>\n",
       "\t<tr><td>Mn3                                  </td><td>;\"Mississippi\";\"nonchilled\";175;19.4 </td></tr>\n",
       "\t<tr><td>Mn3                                  </td><td>;\"Mississippi\";\"nonchilled\";250;25.8 </td></tr>\n",
       "\t<tr><td>Mn3                                  </td><td>;\"Mississippi\";\"nonchilled\";350;27.9 </td></tr>\n",
       "\t<tr><td>Mn3                                  </td><td>;\"Mississippi\";\"nonchilled\";500;28.5 </td></tr>\n",
       "\t<tr><td>Mn3                                  </td><td>;\"Mississippi\";\"nonchilled\";675;28.1 </td></tr>\n",
       "\t<tr><td>Mn3                                  </td><td>;\"Mississippi\";\"nonchilled\";1000;27.8</td></tr>\n",
       "\t<tr><td>Mc1                                  </td><td>;\"Mississippi\";\"chilled\";95;10.5     </td></tr>\n",
       "\t<tr><td>Mc1                                  </td><td>;\"Mississippi\";\"chilled\";175;14.9    </td></tr>\n",
       "\t<tr><td>Mc1                                  </td><td>;\"Mississippi\";\"chilled\";250;18.1    </td></tr>\n",
       "\t<tr><td>Mc1                                  </td><td>;\"Mississippi\";\"chilled\";350;18.9    </td></tr>\n",
       "\t<tr><td>Mc1                                  </td><td>;\"Mississippi\";\"chilled\";500;19.5    </td></tr>\n",
       "\t<tr><td>Mc1                                  </td><td>;\"Mississippi\";\"chilled\";675;22.2    </td></tr>\n",
       "\t<tr><td>Mc1                                  </td><td>;\"Mississippi\";\"chilled\";1000;21.9   </td></tr>\n",
       "\t<tr><td>Mc2                                  </td><td>;\"Mississippi\";\"chilled\";95;7.7      </td></tr>\n",
       "\t<tr><td>Mc2                                  </td><td>;\"Mississippi\";\"chilled\";175;11.4    </td></tr>\n",
       "\t<tr><td>Mc2                                  </td><td>;\"Mississippi\";\"chilled\";250;12.3    </td></tr>\n",
       "\t<tr><td>Mc2                                  </td><td>;\"Mississippi\";\"chilled\";350;13      </td></tr>\n",
       "\t<tr><td>Mc2                                  </td><td>;\"Mississippi\";\"chilled\";500;12.5    </td></tr>\n",
       "\t<tr><td>Mc2                                  </td><td>;\"Mississippi\";\"chilled\";675;13.7    </td></tr>\n",
       "\t<tr><td>Mc2                                  </td><td>;\"Mississippi\";\"chilled\";1000;14.4   </td></tr>\n",
       "\t<tr><td>Mc3                                  </td><td>;\"Mississippi\";\"chilled\";95;10.6     </td></tr>\n",
       "\t<tr><td>Mc3                                  </td><td>;\"Mississippi\";\"chilled\";175;18      </td></tr>\n",
       "\t<tr><td>Mc3                                  </td><td>;\"Mississippi\";\"chilled\";250;17.9    </td></tr>\n",
       "\t<tr><td>Mc3                                  </td><td>;\"Mississippi\";\"chilled\";350;17.9    </td></tr>\n",
       "\t<tr><td>Mc3                                  </td><td>;\"Mississippi\";\"chilled\";500;17.9    </td></tr>\n",
       "\t<tr><td>Mc3                                  </td><td>;\"Mississippi\";\"chilled\";675;18.9    </td></tr>\n",
       "\t<tr><td>Mc3                                  </td><td>;\"Mississippi\";\"chilled\";1000;19.9   </td></tr>\n",
       "</tbody>\n",
       "</table>\n"
      ],
      "text/latex": [
       "\\begin{tabular}{r|ll}\n",
       " V1 & V2\\\\\n",
       "\\hline\n",
       "\t Plant                               & ;\"Type\";\"Treatment\";\"conc\";\"uptake\"\\\\\n",
       "\t Qn1                                 & ;\"Quebec\";\"nonchilled\";95;16       \\\\\n",
       "\t Qn1                                 & ;\"Quebec\";\"nonchilled\";175;30.4    \\\\\n",
       "\t Qn1                                 & ;\"Quebec\";\"nonchilled\";250;34.8    \\\\\n",
       "\t Qn1                                 & ;\"Quebec\";\"nonchilled\";350;37.2    \\\\\n",
       "\t Qn1                                 & ;\"Quebec\";\"nonchilled\";500;35.3    \\\\\n",
       "\t Qn1                                 & ;\"Quebec\";\"nonchilled\";675;39.2    \\\\\n",
       "\t Qn1                                 & ;\"Quebec\";\"nonchilled\";1000;39.7   \\\\\n",
       "\t Qn2                                 & ;\"Quebec\";\"nonchilled\";95;13.6     \\\\\n",
       "\t Qn2                                 & ;\"Quebec\";\"nonchilled\";175;27.3    \\\\\n",
       "\t Qn2                                 & ;\"Quebec\";\"nonchilled\";250;37.1    \\\\\n",
       "\t Qn2                                 & ;\"Quebec\";\"nonchilled\";350;41.8    \\\\\n",
       "\t Qn2                                 & ;\"Quebec\";\"nonchilled\";500;40.6    \\\\\n",
       "\t Qn2                                 & ;\"Quebec\";\"nonchilled\";675;41.4    \\\\\n",
       "\t Qn2                                 & ;\"Quebec\";\"nonchilled\";1000;44.3   \\\\\n",
       "\t Qn3                                 & ;\"Quebec\";\"nonchilled\";95;16.2     \\\\\n",
       "\t Qn3                                 & ;\"Quebec\";\"nonchilled\";175;32.4    \\\\\n",
       "\t Qn3                                 & ;\"Quebec\";\"nonchilled\";250;40.3    \\\\\n",
       "\t Qn3                                 & ;\"Quebec\";\"nonchilled\";350;42.1    \\\\\n",
       "\t Qn3                                 & ;\"Quebec\";\"nonchilled\";500;42.9    \\\\\n",
       "\t Qn3                                 & ;\"Quebec\";\"nonchilled\";675;43.9    \\\\\n",
       "\t Qn3                                 & ;\"Quebec\";\"nonchilled\";1000;45.5   \\\\\n",
       "\t Qc1                                 & ;\"Quebec\";\"chilled\";95;14.2        \\\\\n",
       "\t Qc1                                 & ;\"Quebec\";\"chilled\";175;24.1       \\\\\n",
       "\t Qc1                                 & ;\"Quebec\";\"chilled\";250;30.3       \\\\\n",
       "\t Qc1                                 & ;\"Quebec\";\"chilled\";350;34.6       \\\\\n",
       "\t Qc1                                 & ;\"Quebec\";\"chilled\";500;32.5       \\\\\n",
       "\t Qc1                                 & ;\"Quebec\";\"chilled\";675;35.4       \\\\\n",
       "\t Qc1                                 & ;\"Quebec\";\"chilled\";1000;38.7      \\\\\n",
       "\t Qc2                                 & ;\"Quebec\";\"chilled\";95;9.3         \\\\\n",
       "\t ... & ...\\\\\n",
       "\t Mn2                                   & ;\"Mississippi\";\"nonchilled\";675;31.1 \\\\\n",
       "\t Mn2                                   & ;\"Mississippi\";\"nonchilled\";1000;31.5\\\\\n",
       "\t Mn3                                   & ;\"Mississippi\";\"nonchilled\";95;11.3  \\\\\n",
       "\t Mn3                                   & ;\"Mississippi\";\"nonchilled\";175;19.4 \\\\\n",
       "\t Mn3                                   & ;\"Mississippi\";\"nonchilled\";250;25.8 \\\\\n",
       "\t Mn3                                   & ;\"Mississippi\";\"nonchilled\";350;27.9 \\\\\n",
       "\t Mn3                                   & ;\"Mississippi\";\"nonchilled\";500;28.5 \\\\\n",
       "\t Mn3                                   & ;\"Mississippi\";\"nonchilled\";675;28.1 \\\\\n",
       "\t Mn3                                   & ;\"Mississippi\";\"nonchilled\";1000;27.8\\\\\n",
       "\t Mc1                                   & ;\"Mississippi\";\"chilled\";95;10.5     \\\\\n",
       "\t Mc1                                   & ;\"Mississippi\";\"chilled\";175;14.9    \\\\\n",
       "\t Mc1                                   & ;\"Mississippi\";\"chilled\";250;18.1    \\\\\n",
       "\t Mc1                                   & ;\"Mississippi\";\"chilled\";350;18.9    \\\\\n",
       "\t Mc1                                   & ;\"Mississippi\";\"chilled\";500;19.5    \\\\\n",
       "\t Mc1                                   & ;\"Mississippi\";\"chilled\";675;22.2    \\\\\n",
       "\t Mc1                                   & ;\"Mississippi\";\"chilled\";1000;21.9   \\\\\n",
       "\t Mc2                                   & ;\"Mississippi\";\"chilled\";95;7.7      \\\\\n",
       "\t Mc2                                   & ;\"Mississippi\";\"chilled\";175;11.4    \\\\\n",
       "\t Mc2                                   & ;\"Mississippi\";\"chilled\";250;12.3    \\\\\n",
       "\t Mc2                                   & ;\"Mississippi\";\"chilled\";350;13      \\\\\n",
       "\t Mc2                                   & ;\"Mississippi\";\"chilled\";500;12.5    \\\\\n",
       "\t Mc2                                   & ;\"Mississippi\";\"chilled\";675;13.7    \\\\\n",
       "\t Mc2                                   & ;\"Mississippi\";\"chilled\";1000;14.4   \\\\\n",
       "\t Mc3                                   & ;\"Mississippi\";\"chilled\";95;10.6     \\\\\n",
       "\t Mc3                                   & ;\"Mississippi\";\"chilled\";175;18      \\\\\n",
       "\t Mc3                                   & ;\"Mississippi\";\"chilled\";250;17.9    \\\\\n",
       "\t Mc3                                   & ;\"Mississippi\";\"chilled\";350;17.9    \\\\\n",
       "\t Mc3                                   & ;\"Mississippi\";\"chilled\";500;17.9    \\\\\n",
       "\t Mc3                                   & ;\"Mississippi\";\"chilled\";675;18.9    \\\\\n",
       "\t Mc3                                   & ;\"Mississippi\";\"chilled\";1000;19.9   \\\\\n",
       "\\end{tabular}\n"
      ],
      "text/markdown": [
       "\n",
       "V1 | V2 | \n",
       "|---|---|---|---|---|---|---|---|---|---|---|---|---|---|---|---|---|---|---|---|---|---|---|---|---|---|---|---|---|---|---|---|---|---|---|---|---|---|---|---|---|---|---|---|---|---|---|---|---|---|---|---|---|---|---|---|---|---|---|---|---|\n",
       "| Plant                               | ;\"Type\";\"Treatment\";\"conc\";\"uptake\" | \n",
       "| Qn1                                 | ;\"Quebec\";\"nonchilled\";95;16        | \n",
       "| Qn1                                 | ;\"Quebec\";\"nonchilled\";175;30.4     | \n",
       "| Qn1                                 | ;\"Quebec\";\"nonchilled\";250;34.8     | \n",
       "| Qn1                                 | ;\"Quebec\";\"nonchilled\";350;37.2     | \n",
       "| Qn1                                 | ;\"Quebec\";\"nonchilled\";500;35.3     | \n",
       "| Qn1                                 | ;\"Quebec\";\"nonchilled\";675;39.2     | \n",
       "| Qn1                                 | ;\"Quebec\";\"nonchilled\";1000;39.7    | \n",
       "| Qn2                                 | ;\"Quebec\";\"nonchilled\";95;13.6      | \n",
       "| Qn2                                 | ;\"Quebec\";\"nonchilled\";175;27.3     | \n",
       "| Qn2                                 | ;\"Quebec\";\"nonchilled\";250;37.1     | \n",
       "| Qn2                                 | ;\"Quebec\";\"nonchilled\";350;41.8     | \n",
       "| Qn2                                 | ;\"Quebec\";\"nonchilled\";500;40.6     | \n",
       "| Qn2                                 | ;\"Quebec\";\"nonchilled\";675;41.4     | \n",
       "| Qn2                                 | ;\"Quebec\";\"nonchilled\";1000;44.3    | \n",
       "| Qn3                                 | ;\"Quebec\";\"nonchilled\";95;16.2      | \n",
       "| Qn3                                 | ;\"Quebec\";\"nonchilled\";175;32.4     | \n",
       "| Qn3                                 | ;\"Quebec\";\"nonchilled\";250;40.3     | \n",
       "| Qn3                                 | ;\"Quebec\";\"nonchilled\";350;42.1     | \n",
       "| Qn3                                 | ;\"Quebec\";\"nonchilled\";500;42.9     | \n",
       "| Qn3                                 | ;\"Quebec\";\"nonchilled\";675;43.9     | \n",
       "| Qn3                                 | ;\"Quebec\";\"nonchilled\";1000;45.5    | \n",
       "| Qc1                                 | ;\"Quebec\";\"chilled\";95;14.2         | \n",
       "| Qc1                                 | ;\"Quebec\";\"chilled\";175;24.1        | \n",
       "| Qc1                                 | ;\"Quebec\";\"chilled\";250;30.3        | \n",
       "| Qc1                                 | ;\"Quebec\";\"chilled\";350;34.6        | \n",
       "| Qc1                                 | ;\"Quebec\";\"chilled\";500;32.5        | \n",
       "| Qc1                                 | ;\"Quebec\";\"chilled\";675;35.4        | \n",
       "| Qc1                                 | ;\"Quebec\";\"chilled\";1000;38.7       | \n",
       "| Qc2                                 | ;\"Quebec\";\"chilled\";95;9.3          | \n",
       "| ... | ... | \n",
       "| Mn2                                   | ;\"Mississippi\";\"nonchilled\";675;31.1  | \n",
       "| Mn2                                   | ;\"Mississippi\";\"nonchilled\";1000;31.5 | \n",
       "| Mn3                                   | ;\"Mississippi\";\"nonchilled\";95;11.3   | \n",
       "| Mn3                                   | ;\"Mississippi\";\"nonchilled\";175;19.4  | \n",
       "| Mn3                                   | ;\"Mississippi\";\"nonchilled\";250;25.8  | \n",
       "| Mn3                                   | ;\"Mississippi\";\"nonchilled\";350;27.9  | \n",
       "| Mn3                                   | ;\"Mississippi\";\"nonchilled\";500;28.5  | \n",
       "| Mn3                                   | ;\"Mississippi\";\"nonchilled\";675;28.1  | \n",
       "| Mn3                                   | ;\"Mississippi\";\"nonchilled\";1000;27.8 | \n",
       "| Mc1                                   | ;\"Mississippi\";\"chilled\";95;10.5      | \n",
       "| Mc1                                   | ;\"Mississippi\";\"chilled\";175;14.9     | \n",
       "| Mc1                                   | ;\"Mississippi\";\"chilled\";250;18.1     | \n",
       "| Mc1                                   | ;\"Mississippi\";\"chilled\";350;18.9     | \n",
       "| Mc1                                   | ;\"Mississippi\";\"chilled\";500;19.5     | \n",
       "| Mc1                                   | ;\"Mississippi\";\"chilled\";675;22.2     | \n",
       "| Mc1                                   | ;\"Mississippi\";\"chilled\";1000;21.9    | \n",
       "| Mc2                                   | ;\"Mississippi\";\"chilled\";95;7.7       | \n",
       "| Mc2                                   | ;\"Mississippi\";\"chilled\";175;11.4     | \n",
       "| Mc2                                   | ;\"Mississippi\";\"chilled\";250;12.3     | \n",
       "| Mc2                                   | ;\"Mississippi\";\"chilled\";350;13       | \n",
       "| Mc2                                   | ;\"Mississippi\";\"chilled\";500;12.5     | \n",
       "| Mc2                                   | ;\"Mississippi\";\"chilled\";675;13.7     | \n",
       "| Mc2                                   | ;\"Mississippi\";\"chilled\";1000;14.4    | \n",
       "| Mc3                                   | ;\"Mississippi\";\"chilled\";95;10.6      | \n",
       "| Mc3                                   | ;\"Mississippi\";\"chilled\";175;18       | \n",
       "| Mc3                                   | ;\"Mississippi\";\"chilled\";250;17.9     | \n",
       "| Mc3                                   | ;\"Mississippi\";\"chilled\";350;17.9     | \n",
       "| Mc3                                   | ;\"Mississippi\";\"chilled\";500;17.9     | \n",
       "| Mc3                                   | ;\"Mississippi\";\"chilled\";675;18.9     | \n",
       "| Mc3                                   | ;\"Mississippi\";\"chilled\";1000;19.9    | \n",
       "\n",
       "\n"
      ],
      "text/plain": [
       "    V1    V2                                   \n",
       "1   Plant ;\"Type\";\"Treatment\";\"conc\";\"uptake\"  \n",
       "2   Qn1   ;\"Quebec\";\"nonchilled\";95;16         \n",
       "3   Qn1   ;\"Quebec\";\"nonchilled\";175;30.4      \n",
       "4   Qn1   ;\"Quebec\";\"nonchilled\";250;34.8      \n",
       "5   Qn1   ;\"Quebec\";\"nonchilled\";350;37.2      \n",
       "6   Qn1   ;\"Quebec\";\"nonchilled\";500;35.3      \n",
       "7   Qn1   ;\"Quebec\";\"nonchilled\";675;39.2      \n",
       "8   Qn1   ;\"Quebec\";\"nonchilled\";1000;39.7     \n",
       "9   Qn2   ;\"Quebec\";\"nonchilled\";95;13.6       \n",
       "10  Qn2   ;\"Quebec\";\"nonchilled\";175;27.3      \n",
       "11  Qn2   ;\"Quebec\";\"nonchilled\";250;37.1      \n",
       "12  Qn2   ;\"Quebec\";\"nonchilled\";350;41.8      \n",
       "13  Qn2   ;\"Quebec\";\"nonchilled\";500;40.6      \n",
       "14  Qn2   ;\"Quebec\";\"nonchilled\";675;41.4      \n",
       "15  Qn2   ;\"Quebec\";\"nonchilled\";1000;44.3     \n",
       "16  Qn3   ;\"Quebec\";\"nonchilled\";95;16.2       \n",
       "17  Qn3   ;\"Quebec\";\"nonchilled\";175;32.4      \n",
       "18  Qn3   ;\"Quebec\";\"nonchilled\";250;40.3      \n",
       "19  Qn3   ;\"Quebec\";\"nonchilled\";350;42.1      \n",
       "20  Qn3   ;\"Quebec\";\"nonchilled\";500;42.9      \n",
       "21  Qn3   ;\"Quebec\";\"nonchilled\";675;43.9      \n",
       "22  Qn3   ;\"Quebec\";\"nonchilled\";1000;45.5     \n",
       "23  Qc1   ;\"Quebec\";\"chilled\";95;14.2          \n",
       "24  Qc1   ;\"Quebec\";\"chilled\";175;24.1         \n",
       "25  Qc1   ;\"Quebec\";\"chilled\";250;30.3         \n",
       "26  Qc1   ;\"Quebec\";\"chilled\";350;34.6         \n",
       "27  Qc1   ;\"Quebec\";\"chilled\";500;32.5         \n",
       "28  Qc1   ;\"Quebec\";\"chilled\";675;35.4         \n",
       "29  Qc1   ;\"Quebec\";\"chilled\";1000;38.7        \n",
       "30  Qc2   ;\"Quebec\";\"chilled\";95;9.3           \n",
       "... ...   ...                                  \n",
       "56  Mn2   ;\"Mississippi\";\"nonchilled\";675;31.1 \n",
       "57  Mn2   ;\"Mississippi\";\"nonchilled\";1000;31.5\n",
       "58  Mn3   ;\"Mississippi\";\"nonchilled\";95;11.3  \n",
       "59  Mn3   ;\"Mississippi\";\"nonchilled\";175;19.4 \n",
       "60  Mn3   ;\"Mississippi\";\"nonchilled\";250;25.8 \n",
       "61  Mn3   ;\"Mississippi\";\"nonchilled\";350;27.9 \n",
       "62  Mn3   ;\"Mississippi\";\"nonchilled\";500;28.5 \n",
       "63  Mn3   ;\"Mississippi\";\"nonchilled\";675;28.1 \n",
       "64  Mn3   ;\"Mississippi\";\"nonchilled\";1000;27.8\n",
       "65  Mc1   ;\"Mississippi\";\"chilled\";95;10.5     \n",
       "66  Mc1   ;\"Mississippi\";\"chilled\";175;14.9    \n",
       "67  Mc1   ;\"Mississippi\";\"chilled\";250;18.1    \n",
       "68  Mc1   ;\"Mississippi\";\"chilled\";350;18.9    \n",
       "69  Mc1   ;\"Mississippi\";\"chilled\";500;19.5    \n",
       "70  Mc1   ;\"Mississippi\";\"chilled\";675;22.2    \n",
       "71  Mc1   ;\"Mississippi\";\"chilled\";1000;21.9   \n",
       "72  Mc2   ;\"Mississippi\";\"chilled\";95;7.7      \n",
       "73  Mc2   ;\"Mississippi\";\"chilled\";175;11.4    \n",
       "74  Mc2   ;\"Mississippi\";\"chilled\";250;12.3    \n",
       "75  Mc2   ;\"Mississippi\";\"chilled\";350;13      \n",
       "76  Mc2   ;\"Mississippi\";\"chilled\";500;12.5    \n",
       "77  Mc2   ;\"Mississippi\";\"chilled\";675;13.7    \n",
       "78  Mc2   ;\"Mississippi\";\"chilled\";1000;14.4   \n",
       "79  Mc3   ;\"Mississippi\";\"chilled\";95;10.6     \n",
       "80  Mc3   ;\"Mississippi\";\"chilled\";175;18      \n",
       "81  Mc3   ;\"Mississippi\";\"chilled\";250;17.9    \n",
       "82  Mc3   ;\"Mississippi\";\"chilled\";350;17.9    \n",
       "83  Mc3   ;\"Mississippi\";\"chilled\";500;17.9    \n",
       "84  Mc3   ;\"Mississippi\";\"chilled\";675;18.9    \n",
       "85  Mc3   ;\"Mississippi\";\"chilled\";1000;19.9   "
      ]
     },
     "metadata": {},
     "output_type": "display_data"
    },
    {
     "name": "stdout",
     "output_type": "stream",
     "text": [
      "      V1                                    V2\n",
      "1  Plant   ;\"Type\";\"Treatment\";\"conc\";\"uptake\"\n",
      "2    Qn1          ;\"Quebec\";\"nonchilled\";95;16\n",
      "3    Qn1       ;\"Quebec\";\"nonchilled\";175;30.4\n",
      "4    Qn1       ;\"Quebec\";\"nonchilled\";250;34.8\n",
      "5    Qn1       ;\"Quebec\";\"nonchilled\";350;37.2\n",
      "6    Qn1       ;\"Quebec\";\"nonchilled\";500;35.3\n",
      "7    Qn1       ;\"Quebec\";\"nonchilled\";675;39.2\n",
      "8    Qn1      ;\"Quebec\";\"nonchilled\";1000;39.7\n",
      "9    Qn2        ;\"Quebec\";\"nonchilled\";95;13.6\n",
      "10   Qn2       ;\"Quebec\";\"nonchilled\";175;27.3\n",
      "11   Qn2       ;\"Quebec\";\"nonchilled\";250;37.1\n",
      "12   Qn2       ;\"Quebec\";\"nonchilled\";350;41.8\n",
      "13   Qn2       ;\"Quebec\";\"nonchilled\";500;40.6\n",
      "14   Qn2       ;\"Quebec\";\"nonchilled\";675;41.4\n",
      "15   Qn2      ;\"Quebec\";\"nonchilled\";1000;44.3\n",
      "16   Qn3        ;\"Quebec\";\"nonchilled\";95;16.2\n",
      "17   Qn3       ;\"Quebec\";\"nonchilled\";175;32.4\n",
      "18   Qn3       ;\"Quebec\";\"nonchilled\";250;40.3\n",
      "19   Qn3       ;\"Quebec\";\"nonchilled\";350;42.1\n",
      "20   Qn3       ;\"Quebec\";\"nonchilled\";500;42.9\n",
      "21   Qn3       ;\"Quebec\";\"nonchilled\";675;43.9\n",
      "22   Qn3      ;\"Quebec\";\"nonchilled\";1000;45.5\n",
      "23   Qc1           ;\"Quebec\";\"chilled\";95;14.2\n",
      "24   Qc1          ;\"Quebec\";\"chilled\";175;24.1\n",
      "25   Qc1          ;\"Quebec\";\"chilled\";250;30.3\n",
      "26   Qc1          ;\"Quebec\";\"chilled\";350;34.6\n",
      "27   Qc1          ;\"Quebec\";\"chilled\";500;32.5\n",
      "28   Qc1          ;\"Quebec\";\"chilled\";675;35.4\n",
      "29   Qc1         ;\"Quebec\";\"chilled\";1000;38.7\n",
      "30   Qc2            ;\"Quebec\";\"chilled\";95;9.3\n",
      "31   Qc2          ;\"Quebec\";\"chilled\";175;27.3\n",
      "32   Qc2            ;\"Quebec\";\"chilled\";250;35\n",
      "33   Qc2          ;\"Quebec\";\"chilled\";350;38.8\n",
      "34   Qc2          ;\"Quebec\";\"chilled\";500;38.6\n",
      "35   Qc2          ;\"Quebec\";\"chilled\";675;37.5\n",
      "36   Qc2         ;\"Quebec\";\"chilled\";1000;42.4\n",
      "37   Qc3           ;\"Quebec\";\"chilled\";95;15.1\n",
      "38   Qc3            ;\"Quebec\";\"chilled\";175;21\n",
      "39   Qc3          ;\"Quebec\";\"chilled\";250;38.1\n",
      "40   Qc3            ;\"Quebec\";\"chilled\";350;34\n",
      "41   Qc3          ;\"Quebec\";\"chilled\";500;38.9\n",
      "42   Qc3          ;\"Quebec\";\"chilled\";675;39.6\n",
      "43   Qc3         ;\"Quebec\";\"chilled\";1000;41.4\n",
      "44   Mn1   ;\"Mississippi\";\"nonchilled\";95;10.6\n",
      "45   Mn1  ;\"Mississippi\";\"nonchilled\";175;19.2\n",
      "46   Mn1  ;\"Mississippi\";\"nonchilled\";250;26.2\n",
      "47   Mn1    ;\"Mississippi\";\"nonchilled\";350;30\n",
      "48   Mn1  ;\"Mississippi\";\"nonchilled\";500;30.9\n",
      "49   Mn1  ;\"Mississippi\";\"nonchilled\";675;32.4\n",
      "50   Mn1 ;\"Mississippi\";\"nonchilled\";1000;35.5\n",
      "51   Mn2     ;\"Mississippi\";\"nonchilled\";95;12\n",
      "52   Mn2    ;\"Mississippi\";\"nonchilled\";175;22\n",
      "53   Mn2  ;\"Mississippi\";\"nonchilled\";250;30.6\n",
      "54   Mn2  ;\"Mississippi\";\"nonchilled\";350;31.8\n",
      "55   Mn2  ;\"Mississippi\";\"nonchilled\";500;32.4\n",
      "56   Mn2  ;\"Mississippi\";\"nonchilled\";675;31.1\n",
      "57   Mn2 ;\"Mississippi\";\"nonchilled\";1000;31.5\n",
      "58   Mn3   ;\"Mississippi\";\"nonchilled\";95;11.3\n",
      "59   Mn3  ;\"Mississippi\";\"nonchilled\";175;19.4\n",
      "60   Mn3  ;\"Mississippi\";\"nonchilled\";250;25.8\n",
      "61   Mn3  ;\"Mississippi\";\"nonchilled\";350;27.9\n",
      "62   Mn3  ;\"Mississippi\";\"nonchilled\";500;28.5\n",
      "63   Mn3  ;\"Mississippi\";\"nonchilled\";675;28.1\n",
      "64   Mn3 ;\"Mississippi\";\"nonchilled\";1000;27.8\n",
      "65   Mc1      ;\"Mississippi\";\"chilled\";95;10.5\n",
      "66   Mc1     ;\"Mississippi\";\"chilled\";175;14.9\n",
      "67   Mc1     ;\"Mississippi\";\"chilled\";250;18.1\n",
      "68   Mc1     ;\"Mississippi\";\"chilled\";350;18.9\n",
      "69   Mc1     ;\"Mississippi\";\"chilled\";500;19.5\n",
      "70   Mc1     ;\"Mississippi\";\"chilled\";675;22.2\n",
      "71   Mc1    ;\"Mississippi\";\"chilled\";1000;21.9\n",
      "72   Mc2       ;\"Mississippi\";\"chilled\";95;7.7\n",
      "73   Mc2     ;\"Mississippi\";\"chilled\";175;11.4\n",
      "74   Mc2     ;\"Mississippi\";\"chilled\";250;12.3\n",
      "75   Mc2       ;\"Mississippi\";\"chilled\";350;13\n",
      "76   Mc2     ;\"Mississippi\";\"chilled\";500;12.5\n",
      "77   Mc2     ;\"Mississippi\";\"chilled\";675;13.7\n",
      "78   Mc2    ;\"Mississippi\";\"chilled\";1000;14.4\n",
      "79   Mc3      ;\"Mississippi\";\"chilled\";95;10.6\n",
      "80   Mc3       ;\"Mississippi\";\"chilled\";175;18\n",
      "81   Mc3     ;\"Mississippi\";\"chilled\";250;17.9\n",
      "82   Mc3     ;\"Mississippi\";\"chilled\";350;17.9\n",
      "83   Mc3     ;\"Mississippi\";\"chilled\";500;17.9\n",
      "84   Mc3     ;\"Mississippi\";\"chilled\";675;18.9\n",
      "85   Mc3    ;\"Mississippi\";\"chilled\";1000;19.9\n"
     ]
    }
   ],
   "source": [
    "#write.csv(CO2,file='CO2.csv',row.names = F) #csv파일로 저장\n",
    "#write.csv(사용 데이터,file='저장명.csv',rownames = F)\n",
    "#덮어쓸경우 메시지 뜨지 않기 때문에 조심해야함\n",
    "#보통 write,save.image 같은 경우 주석처리하고 사용시에만 블락\n",
    "\n",
    "write.table(CO2,file='CO2.csv',row.names = F,sep = ';')\n",
    "#write.table(사용 데이터,file='저장명.csv',rownames = F,sep = ';')\n",
    "# 구분자를 세미콜론으로 변환\n",
    "#print(read.csv(\"CO2.csv\")\n",
    "\n",
    "read.table(\"CO2.csv\")\n",
    "print(read.table(\"CO2.csv\"))\n",
    "\n"
   ]
  },
  {
   "cell_type": "code",
   "execution_count": 19,
   "metadata": {},
   "outputs": [
    {
     "data": {
      "text/html": [
       "<table>\n",
       "<thead><tr><th scope=col>Plant</th><th scope=col>Type</th><th scope=col>Treatment</th><th scope=col>conc</th><th scope=col>uptake</th></tr></thead>\n",
       "<tbody>\n",
       "\t<tr><td>Qn1       </td><td>Quebec    </td><td>nonchilled</td><td> 95       </td><td>16.0      </td></tr>\n",
       "\t<tr><td>Qn1       </td><td>Quebec    </td><td>nonchilled</td><td>175       </td><td>30.4      </td></tr>\n",
       "\t<tr><td>Qn1       </td><td>Quebec    </td><td>nonchilled</td><td>250       </td><td>34.8      </td></tr>\n",
       "\t<tr><td>Qn1       </td><td>Quebec    </td><td>nonchilled</td><td>350       </td><td>37.2      </td></tr>\n",
       "\t<tr><td>Qn1       </td><td>Quebec    </td><td>nonchilled</td><td>500       </td><td>35.3      </td></tr>\n",
       "\t<tr><td>Qn1       </td><td>Quebec    </td><td>nonchilled</td><td>675       </td><td>39.2      </td></tr>\n",
       "</tbody>\n",
       "</table>\n"
      ],
      "text/latex": [
       "\\begin{tabular}{r|lllll}\n",
       " Plant & Type & Treatment & conc & uptake\\\\\n",
       "\\hline\n",
       "\t Qn1        & Quebec     & nonchilled &  95        & 16.0      \\\\\n",
       "\t Qn1        & Quebec     & nonchilled & 175        & 30.4      \\\\\n",
       "\t Qn1        & Quebec     & nonchilled & 250        & 34.8      \\\\\n",
       "\t Qn1        & Quebec     & nonchilled & 350        & 37.2      \\\\\n",
       "\t Qn1        & Quebec     & nonchilled & 500        & 35.3      \\\\\n",
       "\t Qn1        & Quebec     & nonchilled & 675        & 39.2      \\\\\n",
       "\\end{tabular}\n"
      ],
      "text/markdown": [
       "\n",
       "Plant | Type | Treatment | conc | uptake | \n",
       "|---|---|---|---|---|---|\n",
       "| Qn1        | Quebec     | nonchilled |  95        | 16.0       | \n",
       "| Qn1        | Quebec     | nonchilled | 175        | 30.4       | \n",
       "| Qn1        | Quebec     | nonchilled | 250        | 34.8       | \n",
       "| Qn1        | Quebec     | nonchilled | 350        | 37.2       | \n",
       "| Qn1        | Quebec     | nonchilled | 500        | 35.3       | \n",
       "| Qn1        | Quebec     | nonchilled | 675        | 39.2       | \n",
       "\n",
       "\n"
      ],
      "text/plain": [
       "  Plant Type   Treatment  conc uptake\n",
       "1 Qn1   Quebec nonchilled  95  16.0  \n",
       "2 Qn1   Quebec nonchilled 175  30.4  \n",
       "3 Qn1   Quebec nonchilled 250  34.8  \n",
       "4 Qn1   Quebec nonchilled 350  37.2  \n",
       "5 Qn1   Quebec nonchilled 500  35.3  \n",
       "6 Qn1   Quebec nonchilled 675  39.2  "
      ]
     },
     "metadata": {},
     "output_type": "display_data"
    },
    {
     "name": "stdout",
     "output_type": "stream",
     "text": [
      "Classes 'nfnGroupedData', 'nfGroupedData', 'groupedData' and 'data.frame':\t84 obs. of  5 variables:\n",
      " $ Plant    : Ord.factor w/ 12 levels \"Qn1\"<\"Qn2\"<\"Qn3\"<..: 1 1 1 1 1 1 1 2 2 2 ...\n",
      " $ Type     : Factor w/ 2 levels \"Quebec\",\"Mississippi\": 1 1 1 1 1 1 1 1 1 1 ...\n",
      " $ Treatment: Factor w/ 2 levels \"nonchilled\",\"chilled\": 1 1 1 1 1 1 1 1 1 1 ...\n",
      " $ conc     : num  95 175 250 350 500 675 1000 95 175 250 ...\n",
      " $ uptake   : num  16 30.4 34.8 37.2 35.3 39.2 39.7 13.6 27.3 37.1 ...\n",
      " - attr(*, \"formula\")=Class 'formula'  language uptake ~ conc | Plant\n",
      "  .. ..- attr(*, \".Environment\")=<environment: R_EmptyEnv> \n",
      " - attr(*, \"outer\")=Class 'formula'  language ~Treatment * Type\n",
      "  .. ..- attr(*, \".Environment\")=<environment: R_EmptyEnv> \n",
      " - attr(*, \"labels\")=List of 2\n",
      "  ..$ x: chr \"Ambient carbon dioxide concentration\"\n",
      "  ..$ y: chr \"CO2 uptake rate\"\n",
      " - attr(*, \"units\")=List of 2\n",
      "  ..$ x: chr \"(uL/L)\"\n",
      "  ..$ y: chr \"(umol/m^2 s)\"\n"
     ]
    }
   ],
   "source": [
    "write.csv(CO2,file='CO2.csv',row.names = FALSE) #csv파일로 저장\n",
    "head(CO2)\n",
    "str(CO2)"
   ]
  },
  {
   "cell_type": "code",
   "execution_count": 20,
   "metadata": {},
   "outputs": [
    {
     "name": "stdout",
     "output_type": "stream",
     "text": [
      "'data.frame':\t84 obs. of  5 variables:\n",
      " $ Plant    : Factor w/ 12 levels \"Mc1\",\"Mc2\",\"Mc3\",..: 10 10 10 10 10 10 10 11 11 11 ...\n",
      " $ Type     : Factor w/ 2 levels \"Mississippi\",..: 2 2 2 2 2 2 2 2 2 2 ...\n",
      " $ Treatment: Factor w/ 2 levels \"chilled\",\"nonchilled\": 2 2 2 2 2 2 2 2 2 2 ...\n",
      " $ conc     : int  95 175 250 350 500 675 1000 95 175 250 ...\n",
      " $ uptake   : num  16 30.4 34.8 37.2 35.3 39.2 39.7 13.6 27.3 37.1 ...\n"
     ]
    }
   ],
   "source": [
    "a = read.csv('CO2.csv',header = TRUE)\n",
    "str(a)"
   ]
  },
  {
   "cell_type": "markdown",
   "metadata": {},
   "source": [
    "###### !read.table\n",
    "    숫자형이 아닌 모든 데이터를 팩터형태로 바꾸기 때문에 시간이 오래걸림\n",
    "    \n",
    "    - stringASFactors = 숫자로 읽지 못하는 경우 팩터로 바꿔라\n",
    "    (FALSE로 놓으면 문자열 그대로 가져감)\n",
    "    - nrow = 행 몇개\n",
    "    - skip = 몇번째 행부터\n",
    "==> \n",
    "colclasses = 4\n",
    "(열변수의 형태 4 이기 때문)\n",
    "\n",
    "numeric\n",
    "character\n",
    "factor\n",
    "integer"
   ]
  },
  {
   "cell_type": "code",
   "execution_count": 25,
   "metadata": {},
   "outputs": [
    {
     "name": "stdout",
     "output_type": "stream",
     "text": [
      "'data.frame':\t85 obs. of  5 variables:\n",
      " $ V1: Factor w/ 13 levels \"Mc1\",\"Mc2\",\"Mc3\",..: 7 11 11 11 11 11 11 11 12 12 ...\n",
      " $ V2: Factor w/ 3 levels \"Mississippi\",..: 3 2 2 2 2 2 2 2 2 2 ...\n",
      " $ V3: Factor w/ 3 levels \"chilled\",\"nonchilled\",..: 3 2 2 2 2 2 2 2 2 2 ...\n",
      " $ V4: Factor w/ 8 levels \"1000\",\"175\",\"250\",..: 8 7 2 3 4 5 6 1 7 2 ...\n",
      " $ V5: Factor w/ 77 levels \"10.5\",\"10.6\",..: 77 15 39 49 55 51 62 64 9 32 ...\n"
     ]
    }
   ],
   "source": [
    "a = read.table(\"CO2.csv\",sep=';')\n",
    "str(a) #모조리 팩터"
   ]
  },
  {
   "cell_type": "code",
   "execution_count": 26,
   "metadata": {
    "scrolled": true
   },
   "outputs": [
    {
     "name": "stdout",
     "output_type": "stream",
     "text": [
      "'data.frame':\t85 obs. of  5 variables:\n",
      " $ V1: chr  \"Plant\" \"Qn1\" \"Qn1\" \"Qn1\" ...\n",
      " $ V2: chr  \"Type\" \"Quebec\" \"Quebec\" \"Quebec\" ...\n",
      " $ V3: chr  \"Treatment\" \"nonchilled\" \"nonchilled\" \"nonchilled\" ...\n",
      " $ V4: chr  \"conc\" \"95\" \"175\" \"250\" ...\n",
      " $ V5: chr  \"uptake\" \"16\" \"30.4\" \"34.8\" ...\n"
     ]
    }
   ],
   "source": [
    "a = read.table(\"CO2.csv\",sep=';',stringsAsFactors = F)\n",
    "str(a) #모든 변수열 -> 캐릭터로 변화"
   ]
  },
  {
   "cell_type": "code",
   "execution_count": 31,
   "metadata": {
    "scrolled": true
   },
   "outputs": [
    {
     "name": "stdout",
     "output_type": "stream",
     "text": [
      "'data.frame':\t84 obs. of  5 variables:\n",
      " $ Plant    : chr  \"Qn1\" \"Qn1\" \"Qn1\" \"Qn1\" ...\n",
      " $ Type     : Factor w/ 2 levels \"Mississippi\",..: 2 2 2 2 2 2 2 2 2 2 ...\n",
      " $ Treatment: Factor w/ 2 levels \"chilled\",\"nonchilled\": 2 2 2 2 2 2 2 2 2 2 ...\n",
      " $ conc     : int  95 175 250 350 500 675 1000 95 175 250 ...\n",
      " $ uptake   : num  16 30.4 34.8 37.2 35.3 39.2 39.7 13.6 27.3 37.1 ...\n"
     ]
    }
   ],
   "source": [
    "a = read.table(\"CO2.csv\",sep=';',header = T, stringsAsFactors = F,colClasses = \n",
    "              c(\"character\",\"factor\",\"factor\",\"integer\",\"numeric\"))\n",
    "str(a) #변수열의 데이터 타입 직접 지정"
   ]
  },
  {
   "cell_type": "code",
   "execution_count": 39,
   "metadata": {},
   "outputs": [
    {
     "data": {
      "text/html": [
       "<table>\n",
       "<thead><tr><th scope=col>Plant</th><th scope=col>Type</th><th scope=col>Treatment</th><th scope=col>conc</th><th scope=col>uptake</th></tr></thead>\n",
       "<tbody>\n",
       "\t<tr><td>Qn1       </td><td>Quebec    </td><td>nonchilled</td><td> 95       </td><td>16.0      </td></tr>\n",
       "\t<tr><td>Qn1       </td><td>Quebec    </td><td>nonchilled</td><td>175       </td><td>30.4      </td></tr>\n",
       "\t<tr><td>Qn1       </td><td>Quebec    </td><td>nonchilled</td><td>250       </td><td>34.8      </td></tr>\n",
       "\t<tr><td>Qn1       </td><td>Quebec    </td><td>nonchilled</td><td>350       </td><td>37.2      </td></tr>\n",
       "\t<tr><td>Qn1       </td><td>Quebec    </td><td>nonchilled</td><td>500       </td><td>35.3      </td></tr>\n",
       "\t<tr><td>Qn1       </td><td>Quebec    </td><td>nonchilled</td><td>675       </td><td>39.2      </td></tr>\n",
       "</tbody>\n",
       "</table>\n"
      ],
      "text/latex": [
       "\\begin{tabular}{r|lllll}\n",
       " Plant & Type & Treatment & conc & uptake\\\\\n",
       "\\hline\n",
       "\t Qn1        & Quebec     & nonchilled &  95        & 16.0      \\\\\n",
       "\t Qn1        & Quebec     & nonchilled & 175        & 30.4      \\\\\n",
       "\t Qn1        & Quebec     & nonchilled & 250        & 34.8      \\\\\n",
       "\t Qn1        & Quebec     & nonchilled & 350        & 37.2      \\\\\n",
       "\t Qn1        & Quebec     & nonchilled & 500        & 35.3      \\\\\n",
       "\t Qn1        & Quebec     & nonchilled & 675        & 39.2      \\\\\n",
       "\\end{tabular}\n"
      ],
      "text/markdown": [
       "\n",
       "Plant | Type | Treatment | conc | uptake | \n",
       "|---|---|---|---|---|---|\n",
       "| Qn1        | Quebec     | nonchilled |  95        | 16.0       | \n",
       "| Qn1        | Quebec     | nonchilled | 175        | 30.4       | \n",
       "| Qn1        | Quebec     | nonchilled | 250        | 34.8       | \n",
       "| Qn1        | Quebec     | nonchilled | 350        | 37.2       | \n",
       "| Qn1        | Quebec     | nonchilled | 500        | 35.3       | \n",
       "| Qn1        | Quebec     | nonchilled | 675        | 39.2       | \n",
       "\n",
       "\n"
      ],
      "text/plain": [
       "  Plant Type   Treatment  conc uptake\n",
       "1 Qn1   Quebec nonchilled  95  16.0  \n",
       "2 Qn1   Quebec nonchilled 175  30.4  \n",
       "3 Qn1   Quebec nonchilled 250  34.8  \n",
       "4 Qn1   Quebec nonchilled 350  37.2  \n",
       "5 Qn1   Quebec nonchilled 500  35.3  \n",
       "6 Qn1   Quebec nonchilled 675  39.2  "
      ]
     },
     "metadata": {},
     "output_type": "display_data"
    },
    {
     "data": {
      "text/html": [
       "<table>\n",
       "<thead><tr><th scope=col>Plant</th><th scope=col>Type</th><th scope=col>Treatment</th><th scope=col>conc</th><th scope=col>uptake</th></tr></thead>\n",
       "<tbody>\n",
       "\t<tr><td>Qn1       </td><td>Quebec    </td><td>nonchilled</td><td> 95       </td><td>16.0      </td></tr>\n",
       "\t<tr><td>Qn1       </td><td>Quebec    </td><td>nonchilled</td><td>175       </td><td>30.4      </td></tr>\n",
       "\t<tr><td>Qn1       </td><td>Quebec    </td><td>nonchilled</td><td>250       </td><td>34.8      </td></tr>\n",
       "\t<tr><td>Qn1       </td><td>Quebec    </td><td>nonchilled</td><td>350       </td><td>37.2      </td></tr>\n",
       "\t<tr><td>Qn1       </td><td>Quebec    </td><td>nonchilled</td><td>500       </td><td>35.3      </td></tr>\n",
       "</tbody>\n",
       "</table>\n"
      ],
      "text/latex": [
       "\\begin{tabular}{r|lllll}\n",
       " Plant & Type & Treatment & conc & uptake\\\\\n",
       "\\hline\n",
       "\t Qn1        & Quebec     & nonchilled &  95        & 16.0      \\\\\n",
       "\t Qn1        & Quebec     & nonchilled & 175        & 30.4      \\\\\n",
       "\t Qn1        & Quebec     & nonchilled & 250        & 34.8      \\\\\n",
       "\t Qn1        & Quebec     & nonchilled & 350        & 37.2      \\\\\n",
       "\t Qn1        & Quebec     & nonchilled & 500        & 35.3      \\\\\n",
       "\\end{tabular}\n"
      ],
      "text/markdown": [
       "\n",
       "Plant | Type | Treatment | conc | uptake | \n",
       "|---|---|---|---|---|\n",
       "| Qn1        | Quebec     | nonchilled |  95        | 16.0       | \n",
       "| Qn1        | Quebec     | nonchilled | 175        | 30.4       | \n",
       "| Qn1        | Quebec     | nonchilled | 250        | 34.8       | \n",
       "| Qn1        | Quebec     | nonchilled | 350        | 37.2       | \n",
       "| Qn1        | Quebec     | nonchilled | 500        | 35.3       | \n",
       "\n",
       "\n"
      ],
      "text/plain": [
       "  Plant Type   Treatment  conc uptake\n",
       "1 Qn1   Quebec nonchilled  95  16.0  \n",
       "2 Qn1   Quebec nonchilled 175  30.4  \n",
       "3 Qn1   Quebec nonchilled 250  34.8  \n",
       "4 Qn1   Quebec nonchilled 350  37.2  \n",
       "5 Qn1   Quebec nonchilled 500  35.3  "
      ]
     },
     "metadata": {},
     "output_type": "display_data"
    },
    {
     "data": {
      "text/html": [
       "<pre class=language-r><code>function (path = \".\", pattern = NULL, all.files = FALSE, full.names = FALSE, \n",
       "<span style=white-space:pre-wrap>    recursive = FALSE, ignore.case = FALSE, include.dirs = FALSE, </span>\n",
       "<span style=white-space:pre-wrap>    no.. = FALSE) </span>\n",
       ".Internal(list.files(path, pattern, all.files, full.names, recursive, \n",
       "<span style=white-space:pre-wrap>    ignore.case, include.dirs, no..))</span></code></pre>"
      ],
      "text/latex": [
       "\\begin{minted}{r}\n",
       "function (path = \".\", pattern = NULL, all.files = FALSE, full.names = FALSE, \n",
       "    recursive = FALSE, ignore.case = FALSE, include.dirs = FALSE, \n",
       "    no.. = FALSE) \n",
       ".Internal(list.files(path, pattern, all.files, full.names, recursive, \n",
       "    ignore.case, include.dirs, no..))\n",
       "\\end{minted}"
      ],
      "text/markdown": [
       "```r\n",
       "function (path = \".\", pattern = NULL, all.files = FALSE, full.names = FALSE, \n",
       "    recursive = FALSE, ignore.case = FALSE, include.dirs = FALSE, \n",
       "    no.. = FALSE) \n",
       ".Internal(list.files(path, pattern, all.files, full.names, recursive, \n",
       "    ignore.case, include.dirs, no..))\n",
       "```"
      ],
      "text/plain": [
       "function (path = \".\", pattern = NULL, all.files = FALSE, full.names = FALSE, \n",
       "    recursive = FALSE, ignore.case = FALSE, include.dirs = FALSE, \n",
       "    no.. = FALSE) \n",
       ".Internal(list.files(path, pattern, all.files, full.names, recursive, \n",
       "    ignore.case, include.dirs, no..))\n",
       "<bytecode: 0x000000001a7f5880>\n",
       "<environment: namespace:base>"
      ]
     },
     "metadata": {},
     "output_type": "display_data"
    },
    {
     "data": {
      "text/html": [
       "<ol class=list-inline>\n",
       "\t<li>'./.ipynb_checkpoints'</li>\n",
       "\t<li>'./강의록'</li>\n",
       "</ol>\n"
      ],
      "text/latex": [
       "\\begin{enumerate*}\n",
       "\\item './.ipynb\\_checkpoints'\n",
       "\\item './강의록'\n",
       "\\end{enumerate*}\n"
      ],
      "text/markdown": [
       "1. './.ipynb_checkpoints'\n",
       "2. './강의록'\n",
       "\n",
       "\n"
      ],
      "text/plain": [
       "[1] \"./.ipynb_checkpoints\" \"./강의록\"            "
      ]
     },
     "metadata": {},
     "output_type": "display_data"
    }
   ],
   "source": [
    "head(a)\n",
    "a[1:5,]\n",
    "list.files #현재파일\n",
    "b = list.dirs(recursive = FALSE) #현재 디렉토리 위치\n",
    "b\n",
    "# 문자열 처리 함수를 이용하여"
   ]
  },
  {
   "cell_type": "code",
   "execution_count": 36,
   "metadata": {},
   "outputs": [
    {
     "name": "stderr",
     "output_type": "stream",
     "text": [
      "Installing package into 'C:/Users/renz/Documents/R/win-library/3.5'\n",
      "(as 'lib' is unspecified)\n",
      "also installing the dependency 'xlsxjars'\n",
      "\n"
     ]
    },
    {
     "name": "stdout",
     "output_type": "stream",
     "text": [
      "package 'xlsxjars' successfully unpacked and MD5 sums checked\n",
      "package 'xlsx' successfully unpacked and MD5 sums checked\n",
      "\n",
      "The downloaded binary packages are in\n",
      "\tC:\\Users\\renz\\AppData\\Local\\Temp\\RtmpkvpFT4\\downloaded_packages\n"
     ]
    },
    {
     "ename": "ERROR",
     "evalue": "Error in loadWorkbook(file, password = password): Cannot find CO2.xlsx\n",
     "output_type": "error",
     "traceback": [
      "Error in loadWorkbook(file, password = password): Cannot find CO2.xlsx\nTraceback:\n",
      "1. read.xlsx(\"CO2.xlsx\", header = TRUE, sheetIndex = 1, stringsAsFactors = FALSE)",
      "2. loadWorkbook(file, password = password)",
      "3. stop(\"Cannot find \", path.expand(file))"
     ]
    }
   ],
   "source": [
    "install.packages('xlsx')\n",
    "library(xlsx)\n",
    "A = read.xlsx(\"CO2.xlsx\", header = TRUE, sheetIndex = 1, \n",
    "              stringsAsFactors= FALSE)\n",
    "head(A)\n",
    "class(A$Plant) #sheet 번호가 있음"
   ]
  },
  {
   "cell_type": "code",
   "execution_count": null,
   "metadata": {},
   "outputs": [],
   "source": []
  }
 ],
 "metadata": {
  "kernelspec": {
   "display_name": "R",
   "language": "R",
   "name": "ir"
  },
  "language_info": {
   "codemirror_mode": "r",
   "file_extension": ".r",
   "mimetype": "text/x-r-source",
   "name": "R",
   "pygments_lexer": "r",
   "version": "3.5.0"
  }
 },
 "nbformat": 4,
 "nbformat_minor": 2
}
