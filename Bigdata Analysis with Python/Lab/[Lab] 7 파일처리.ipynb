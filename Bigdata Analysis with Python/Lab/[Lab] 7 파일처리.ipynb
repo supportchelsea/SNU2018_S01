{
 "cells": [
  {
   "cell_type": "markdown",
   "metadata": {},
   "source": [
    "## 정규 표현식"
   ]
  },
  {
   "cell_type": "code",
   "execution_count": 41,
   "metadata": {},
   "outputs": [],
   "source": [
    "from IPython.core.interactiveshell import InteractiveShell\n",
    "InteractiveShell.ast_node_interactivity = \"all\""
   ]
  },
  {
   "cell_type": "code",
   "execution_count": 10,
   "metadata": {},
   "outputs": [],
   "source": [
    "import os\n",
    "os.getcwd()\n",
    "os.chdir('./jupyter')"
   ]
  },
  {
   "cell_type": "code",
   "execution_count": 11,
   "metadata": {},
   "outputs": [
    {
     "data": {
      "text/plain": [
       "'C:\\\\Users\\\\renz\\\\Desktop\\\\SNU\\\\파이썬을 이용한 빅데이터 분석 개론 (박진수교수님)\\\\강의자료\\\\jupyter'"
      ]
     },
     "execution_count": 11,
     "metadata": {},
     "output_type": "execute_result"
    }
   ],
   "source": [
    "os.getcwd()"
   ]
  },
  {
   "cell_type": "code",
   "execution_count": 12,
   "metadata": {},
   "outputs": [
    {
     "name": "stdout",
     "output_type": "stream",
     "text": [
      "'Let It Be' by Beatles\n",
      "Let it be -- -\n",
      "Let it be -- -\n",
      "Let it be - Let it be Let it be - Let it be -\n"
     ]
    }
   ],
   "source": [
    "# 정규표현식\n",
    "#로스트링\n",
    "import re\n",
    "lines = open('beatles.txt').readlines()\n",
    "for line in lines:\n",
    "    if re.search(r'let',line,re.IGNORECASE): #대소문자 무시하고 찾아라!\n",
    "        print(line.rstrip())"
   ]
  },
  {
   "cell_type": "code",
   "execution_count": 20,
   "metadata": {},
   "outputs": [
    {
     "name": "stdout",
     "output_type": "stream",
     "text": [
      "'LET It Be' by Beatles\n",
      "\n",
      "When I find myself in times of trouble,\n",
      "Mother Mary comes to me\n",
      "Speaking words of wisdom\n",
      "LET it be -- -\n",
      "And in my hour of darkness she is standing right in front of me\n",
      "Speaking words of wisdom\n",
      "LET it be -- -\n",
      "LET it be - LET it be LET it be - LET it be -\n"
     ]
    }
   ],
   "source": [
    "# 정규표현식\n",
    "#로스트링\n",
    "import re\n",
    "lines = open('beatles.txt').readlines()\n",
    "for line in lines:\n",
    "    line = re.sub(r'Let','LET',line) #re.sub으로 변환\n",
    "    print(line.rstrip())"
   ]
  },
  {
   "cell_type": "markdown",
   "metadata": {},
   "source": [
    "# 시험 관련 공지\n",
    "- T/F (20문제,20점)\n",
    "- 단답형 (10문제,10점)\n",
    "- 서술형 (2문제,30점)\n",
    "\n",
    "    X의 값을 묻는 문제 ->  결과값을 써라 (ERROR가능)\n",
    "    ==> 코드를 주고 ERROR를 고쳐라\n",
    "\n",
    "### #공부할 부분\n",
    "- 문자열 자료형\n",
    "- 각 자료형의 메소드\n",
    "- 리스트 : sort\n",
    "- 함수 정의DEF ()\n",
    "- join,split()\n",
    "- slicing"
   ]
  },
  {
   "cell_type": "markdown",
   "metadata": {},
   "source": [
    "## 텍스트 파일 읽기\n",
    "\n",
    "read()\n",
    "readline()\n",
    "readlines()\n",
    "\n"
   ]
  },
  {
   "cell_type": "code",
   "execution_count": 26,
   "metadata": {},
   "outputs": [
    {
     "name": "stdout",
     "output_type": "stream",
     "text": [
      "파일 이름을 입력하세요... : 고향의 봄.txt\n",
      "   1 : ======= 고향의 봄 =======\n",
      "\n",
      "   2 : \n",
      "\n",
      "   3 : 나의 살-던 고향은 꽃피는-산골-\n",
      "\n",
      "   4 : 복숭아-꽃 살-구꽃 아-기 진-달래-\n",
      "\n",
      "   5 : 울긋불-긋 꽃 대궐 차리인-동네-\n",
      "\n",
      "   6 : 그 속에서 놀던 때가 그립습니다-\n",
      "\n",
      "   7 : \n",
      "\n",
      "   8 : 꽃-동-네 새 동네 나의 옛-고향-\n",
      "\n",
      "   9 : 파-란-들 남쪽에서 바-람이-불면-\n",
      "\n",
      "  10 : 냇-가에 수양버들 춤추는-동네-\n",
      "\n",
      "  11 : 그 속에서 놀던 때가 그립습니다-\n"
     ]
    }
   ],
   "source": [
    "# Lab 7-1 \n",
    "name=input('파일 이름을 입력하세요... : ')\n",
    "\n",
    "file = open(name,encoding='utf-8')\n",
    "lines = file.readlines()\n",
    "for i,line in enumerate(lines):\n",
    "    print('{:4} : {}'.format(int(i)+1,line)) #첫번째 {} 안에 길이를 4로 만들기 위하여 {:4}를 해줌"
   ]
  },
  {
   "cell_type": "code",
   "execution_count": null,
   "metadata": {},
   "outputs": [],
   "source": [
    "# Lab 7-2 A\n",
    "import sys\n",
    "\n",
    "if len(sys.argv)!=3 or sys.argv[1] == '-help':\n",
    "    print('usage: python head.py number filename')\n",
    "    sys.exit()\n",
    "    \n",
    "number = int(sys.argv[1])\n",
    "name = sys.argv[2]\n",
    "\n",
    "line =open(name,mode='r',encoding='utf-8').readlines()\n",
    "\n",
    "if number > len(line):\n",
    "    number = len(line)\n",
    "\n",
    "for i in range(int(number)):\n",
    "    print(line[i].rstrip())"
   ]
  },
  {
   "cell_type": "code",
   "execution_count": null,
   "metadata": {},
   "outputs": [],
   "source": [
    "# Lab 7-2B\n",
    "import sys\n",
    "\n",
    "if len(sys.argv)!=3 or sys.argv[1] == '-help':\n",
    "    print('usage: python head.py number filename')\n",
    "    sys.exit()\n",
    "    \n",
    "number = int(sys.argv[1])\n",
    "name = sys.argv[2]\n",
    "\n",
    "line =open(name,mode='r',encoding='utf-8').readlines()\n",
    "\n",
    "if number > len(line):\n",
    "    number = len(line)\n",
    "\n",
    "for i in range(len(line)-number,len(line)):\n",
    "    print(line[i].rstrip())"
   ]
  },
  {
   "cell_type": "code",
   "execution_count": null,
   "metadata": {},
   "outputs": [],
   "source": [
    "# Lab 7-2 C\n",
    "import sys\n",
    "\n",
    "# 파이썬 프로그램 실행 옵션수가 4개가 아니거나, -help가 실행옵션이면 \n",
    "if len(sys.argv)!=4 or sys.argv[1] == '-help':\n",
    "    print('usage: python head.py number filename')\n",
    "    sys.exit()\n",
    "    \n",
    "start = int(sys.argv[1]) -1\n",
    "end = int(sys.argv[2])\n",
    "name = sys.argv[3]\n",
    "\n",
    "line =open(name,mode='r',encoding='utf-8').readlines()\n",
    "\n",
    "if end > len(line):\n",
    "    end = len(line)\n",
    "\n",
    "if start < 0:\n",
    "    start = 0\n",
    "\n",
    "for i in range(start,end):\n",
    "    print(line[i].rstrip())\n"
   ]
  },
  {
   "cell_type": "code",
   "execution_count": 9,
   "metadata": {},
   "outputs": [
    {
     "ename": "KeyboardInterrupt",
     "evalue": "",
     "output_type": "error",
     "traceback": [
      "\u001b[0;31m---------------------------------------------------------------------------\u001b[0m",
      "\u001b[0;31mKeyboardInterrupt\u001b[0m                         Traceback (most recent call last)",
      "\u001b[0;32m/Library/Frameworks/Python.framework/Versions/3.6/lib/python3.6/site-packages/ipykernel/kernelbase.py\u001b[0m in \u001b[0;36m_input_request\u001b[0;34m(self, prompt, ident, parent, password)\u001b[0m\n\u001b[1;32m    728\u001b[0m             \u001b[0;32mtry\u001b[0m\u001b[0;34m:\u001b[0m\u001b[0;34m\u001b[0m\u001b[0m\n\u001b[0;32m--> 729\u001b[0;31m                 \u001b[0mident\u001b[0m\u001b[0;34m,\u001b[0m \u001b[0mreply\u001b[0m \u001b[0;34m=\u001b[0m \u001b[0mself\u001b[0m\u001b[0;34m.\u001b[0m\u001b[0msession\u001b[0m\u001b[0;34m.\u001b[0m\u001b[0mrecv\u001b[0m\u001b[0;34m(\u001b[0m\u001b[0mself\u001b[0m\u001b[0;34m.\u001b[0m\u001b[0mstdin_socket\u001b[0m\u001b[0;34m,\u001b[0m \u001b[0;36m0\u001b[0m\u001b[0;34m)\u001b[0m\u001b[0;34m\u001b[0m\u001b[0m\n\u001b[0m\u001b[1;32m    730\u001b[0m             \u001b[0;32mexcept\u001b[0m \u001b[0mException\u001b[0m\u001b[0;34m:\u001b[0m\u001b[0;34m\u001b[0m\u001b[0m\n",
      "\u001b[0;32m/Library/Frameworks/Python.framework/Versions/3.6/lib/python3.6/site-packages/jupyter_client/session.py\u001b[0m in \u001b[0;36mrecv\u001b[0;34m(self, socket, mode, content, copy)\u001b[0m\n\u001b[1;32m    802\u001b[0m         \u001b[0;32mtry\u001b[0m\u001b[0;34m:\u001b[0m\u001b[0;34m\u001b[0m\u001b[0m\n\u001b[0;32m--> 803\u001b[0;31m             \u001b[0mmsg_list\u001b[0m \u001b[0;34m=\u001b[0m \u001b[0msocket\u001b[0m\u001b[0;34m.\u001b[0m\u001b[0mrecv_multipart\u001b[0m\u001b[0;34m(\u001b[0m\u001b[0mmode\u001b[0m\u001b[0;34m,\u001b[0m \u001b[0mcopy\u001b[0m\u001b[0;34m=\u001b[0m\u001b[0mcopy\u001b[0m\u001b[0;34m)\u001b[0m\u001b[0;34m\u001b[0m\u001b[0m\n\u001b[0m\u001b[1;32m    804\u001b[0m         \u001b[0;32mexcept\u001b[0m \u001b[0mzmq\u001b[0m\u001b[0;34m.\u001b[0m\u001b[0mZMQError\u001b[0m \u001b[0;32mas\u001b[0m \u001b[0me\u001b[0m\u001b[0;34m:\u001b[0m\u001b[0;34m\u001b[0m\u001b[0m\n",
      "\u001b[0;32m/Library/Frameworks/Python.framework/Versions/3.6/lib/python3.6/site-packages/zmq/sugar/socket.py\u001b[0m in \u001b[0;36mrecv_multipart\u001b[0;34m(self, flags, copy, track)\u001b[0m\n\u001b[1;32m    465\u001b[0m         \"\"\"\n\u001b[0;32m--> 466\u001b[0;31m         \u001b[0mparts\u001b[0m \u001b[0;34m=\u001b[0m \u001b[0;34m[\u001b[0m\u001b[0mself\u001b[0m\u001b[0;34m.\u001b[0m\u001b[0mrecv\u001b[0m\u001b[0;34m(\u001b[0m\u001b[0mflags\u001b[0m\u001b[0;34m,\u001b[0m \u001b[0mcopy\u001b[0m\u001b[0;34m=\u001b[0m\u001b[0mcopy\u001b[0m\u001b[0;34m,\u001b[0m \u001b[0mtrack\u001b[0m\u001b[0;34m=\u001b[0m\u001b[0mtrack\u001b[0m\u001b[0;34m)\u001b[0m\u001b[0;34m]\u001b[0m\u001b[0;34m\u001b[0m\u001b[0m\n\u001b[0m\u001b[1;32m    467\u001b[0m         \u001b[0;31m# have first part already, only loop while more to receive\u001b[0m\u001b[0;34m\u001b[0m\u001b[0;34m\u001b[0m\u001b[0m\n",
      "\u001b[0;32mzmq/backend/cython/socket.pyx\u001b[0m in \u001b[0;36mzmq.backend.cython.socket.Socket.recv\u001b[0;34m()\u001b[0m\n",
      "\u001b[0;32mzmq/backend/cython/socket.pyx\u001b[0m in \u001b[0;36mzmq.backend.cython.socket.Socket.recv\u001b[0;34m()\u001b[0m\n",
      "\u001b[0;32mzmq/backend/cython/socket.pyx\u001b[0m in \u001b[0;36mzmq.backend.cython.socket._recv_copy\u001b[0;34m()\u001b[0m\n",
      "\u001b[0;32m/Library/Frameworks/Python.framework/Versions/3.6/lib/python3.6/site-packages/zmq/backend/cython/checkrc.pxd\u001b[0m in \u001b[0;36mzmq.backend.cython.checkrc._check_rc\u001b[0;34m()\u001b[0m\n",
      "\u001b[0;31mKeyboardInterrupt\u001b[0m: ",
      "\nDuring handling of the above exception, another exception occurred:\n",
      "\u001b[0;31mKeyboardInterrupt\u001b[0m                         Traceback (most recent call last)",
      "\u001b[0;32m<ipython-input-9-6dfddf800670>\u001b[0m in \u001b[0;36m<module>\u001b[0;34m()\u001b[0m\n\u001b[1;32m      9\u001b[0m \u001b[0mstrip\u001b[0m \u001b[0;34m=\u001b[0m \u001b[0mstring\u001b[0m\u001b[0;34m.\u001b[0m\u001b[0mwhitespace\u001b[0m \u001b[0;34m+\u001b[0m \u001b[0mstring\u001b[0m\u001b[0;34m.\u001b[0m\u001b[0mpunctuation\u001b[0m \u001b[0;34m+\u001b[0m \u001b[0mstring\u001b[0m\u001b[0;34m.\u001b[0m\u001b[0mdigits\u001b[0m\u001b[0;34m\u001b[0m\u001b[0m\n\u001b[1;32m     10\u001b[0m \u001b[0mwords\u001b[0m \u001b[0;34m=\u001b[0m \u001b[0;34m{\u001b[0m\u001b[0;34m}\u001b[0m\u001b[0;34m\u001b[0m\u001b[0m\n\u001b[0;32m---> 11\u001b[0;31m \u001b[0mfilename\u001b[0m \u001b[0;34m=\u001b[0m  \u001b[0minput\u001b[0m\u001b[0;34m(\u001b[0m\u001b[0;34m'파일 이름을 입력하세요...: data/'\u001b[0m\u001b[0;34m)\u001b[0m\u001b[0;34m\u001b[0m\u001b[0m\n\u001b[0m\u001b[1;32m     12\u001b[0m \u001b[0;34m\u001b[0m\u001b[0m\n\u001b[1;32m     13\u001b[0m \u001b[0mfile\u001b[0m \u001b[0;34m=\u001b[0m \u001b[0mopen\u001b[0m\u001b[0;34m(\u001b[0m\u001b[0mfilename\u001b[0m\u001b[0;34m,\u001b[0m\u001b[0mmode\u001b[0m\u001b[0;34m=\u001b[0m\u001b[0;34m'r'\u001b[0m\u001b[0;34m,\u001b[0m\u001b[0mencoding\u001b[0m\u001b[0;34m=\u001b[0m\u001b[0;34m'utf-8'\u001b[0m\u001b[0;34m)\u001b[0m\u001b[0;34m\u001b[0m\u001b[0m\n",
      "\u001b[0;32m/Library/Frameworks/Python.framework/Versions/3.6/lib/python3.6/site-packages/ipykernel/kernelbase.py\u001b[0m in \u001b[0;36mraw_input\u001b[0;34m(self, prompt)\u001b[0m\n\u001b[1;32m    702\u001b[0m             \u001b[0mself\u001b[0m\u001b[0;34m.\u001b[0m\u001b[0m_parent_ident\u001b[0m\u001b[0;34m,\u001b[0m\u001b[0;34m\u001b[0m\u001b[0m\n\u001b[1;32m    703\u001b[0m             \u001b[0mself\u001b[0m\u001b[0;34m.\u001b[0m\u001b[0m_parent_header\u001b[0m\u001b[0;34m,\u001b[0m\u001b[0;34m\u001b[0m\u001b[0m\n\u001b[0;32m--> 704\u001b[0;31m             \u001b[0mpassword\u001b[0m\u001b[0;34m=\u001b[0m\u001b[0;32mFalse\u001b[0m\u001b[0;34m,\u001b[0m\u001b[0;34m\u001b[0m\u001b[0m\n\u001b[0m\u001b[1;32m    705\u001b[0m         )\n\u001b[1;32m    706\u001b[0m \u001b[0;34m\u001b[0m\u001b[0m\n",
      "\u001b[0;32m/Library/Frameworks/Python.framework/Versions/3.6/lib/python3.6/site-packages/ipykernel/kernelbase.py\u001b[0m in \u001b[0;36m_input_request\u001b[0;34m(self, prompt, ident, parent, password)\u001b[0m\n\u001b[1;32m    732\u001b[0m             \u001b[0;32mexcept\u001b[0m \u001b[0mKeyboardInterrupt\u001b[0m\u001b[0;34m:\u001b[0m\u001b[0;34m\u001b[0m\u001b[0m\n\u001b[1;32m    733\u001b[0m                 \u001b[0;31m# re-raise KeyboardInterrupt, to truncate traceback\u001b[0m\u001b[0;34m\u001b[0m\u001b[0;34m\u001b[0m\u001b[0m\n\u001b[0;32m--> 734\u001b[0;31m                 \u001b[0;32mraise\u001b[0m \u001b[0mKeyboardInterrupt\u001b[0m\u001b[0;34m\u001b[0m\u001b[0m\n\u001b[0m\u001b[1;32m    735\u001b[0m             \u001b[0;32melse\u001b[0m\u001b[0;34m:\u001b[0m\u001b[0;34m\u001b[0m\u001b[0m\n\u001b[1;32m    736\u001b[0m                 \u001b[0;32mbreak\u001b[0m\u001b[0;34m\u001b[0m\u001b[0m\n",
      "\u001b[0;31mKeyboardInterrupt\u001b[0m: "
     ]
    }
   ],
   "source": [
    "# Lab 7-3A\n",
    "# 각단어의 출현 횟수 계산\n",
    "# 고향의 봄.txt\n",
    "# 정답\n",
    "\n",
    "import sys\n",
    "import string\n",
    "\n",
    "strip = string.whitespace + string.punctuation + string.digits\n",
    "words = {}\n",
    "filename =  input('파일 이름을 입력하세요...: data/')\n",
    "\n",
    "file = open(filename,mode='r',encoding='utf-8')\n",
    "\n",
    "for line in file:\n",
    "    for word in line.lower().split():\n",
    "#         word = word.translate(None, string.punctuation)\n",
    "        if len(word) == 0: \n",
    "            continue\n",
    "        if word not in words:\n",
    "            words[word] = 1\n",
    "        else:\n",
    "            words[word] += 1\n",
    "\n",
    "    \n",
    "for word in sorted(words):    \n",
    "    print('<{}>  : {}번 출현'.format(word,words[word]))\n",
    "\n",
    "# 화이트 스페이스로 분리\n",
    "# 처음에 있는지 없는지 확인하고.,\n",
    "# 2번째 이후는 중복된 벨류를 더해줘야,,, (업데이트)\n"
   ]
  },
  {
   "cell_type": "code",
   "execution_count": 1,
   "metadata": {},
   "outputs": [],
   "source": [
    "import sys\n",
    "\n",
    "want_to_find = sys.argv[1]\n",
    "file_name = sys.argv[2]\n",
    "\n",
    "lines = open(file_name,mode='r',encoding='utf-8').readlines()\n",
    "\n",
    "for index,line in enumerate(lines, start = 1):\n",
    "    if want_to_find in lines:\n",
    "        print('{:2}: {}'.format(index,line))\n",
    "\n"
   ]
  },
  {
   "cell_type": "code",
   "execution_count": 35,
   "metadata": {},
   "outputs": [
    {
     "name": "stdout",
     "output_type": "stream",
     "text": [
      "파일 이름을 입력하세요...: 고향의 봄.txt\n",
      "=> 고향의 봄.txt 파일은   11줄,  37단어,    0문자로 구성되어 있습니다.\n",
      "['', '고향의', '봄', '', '나의', '살던', '고향은', '꽃피는산골', '복숭아꽃', '살구꽃', '아기', '진달래', '울긋불긋', '꽃', '대궐', '차리인동네', '그', '속에서', '놀던', '떄가', '그립습니다', '꽃동네', '새', '동네', '나의', '옛고향', '파란들', '남쪽에서', '바람이불면', '냇가에', '수양버들', '춤추는동네', '그', '속에서', '놀던', '때가', '그립습니다']\n"
     ]
    }
   ],
   "source": [
    "#고향의 봄.txt\n",
    "import string\n",
    "strip =  string.punctuation\n",
    "\n",
    "file_name = input('파일 이름을 입력하세요...: ')\n",
    "\n",
    "with open(file_name,mode='r') as file:\n",
    "    lines = file.readlines()\n",
    "    count_lines = len(lines)\n",
    "    words = []\n",
    "    spell = 0\n",
    "\n",
    "    for line in lines:\n",
    "        line = line.split() # 다시 하나의 리스트로 만들어ㅕ\n",
    "        for word in line:\n",
    "#             if strip in word:\n",
    "            for t in strip:\n",
    "                word = word.replace(t,'')\n",
    "#                 print(word)\n",
    "            \n",
    "            words.append(word)\n",
    "            \n",
    "    count_words = len(words)\n",
    "    \n",
    "print('=>',file_name,'파일은 {:4}줄,{:4}단어, {:4} 문자로 구성되어 있습니다.'.format(count_lines,count_words,spell))\n",
    "print(words)\n"
   ]
  },
  {
   "cell_type": "code",
   "execution_count": 37,
   "metadata": {},
   "outputs": [
    {
     "name": "stdout",
     "output_type": "stream",
     "text": [
      "=> 고향의 봄.txt 파일은   11 줄,   35 단어,  101 문자로 구성되어 있습니다.\n"
     ]
    }
   ],
   "source": [
    "# 정답\n",
    "lines =  open(file_name,mode='r',encoding='utf-8').readlines()\n",
    "\n",
    "total_words = 0\n",
    "total_lines = len(lines)\n",
    "total_letters = 0\n",
    "\n",
    "for line in lines:\n",
    "    line = line.split()\n",
    "    for word in line:\n",
    "        for t in string.punctuation:\n",
    "            word = word.replace(t,'')\n",
    "        if word:\n",
    "            total_words += 1\n",
    "            total_letters += len(word)\n",
    "\n",
    "            \n",
    "print('=>',file_name,'파일은 {:4} 줄, {:4} 단어, {:4} 문자로 구성되어 있습니다.'.format(total_lines,total_words,total_letters))"
   ]
  },
  {
   "cell_type": "code",
   "execution_count": 42,
   "metadata": {},
   "outputs": [
    {
     "data": {
      "text/plain": [
       "4"
      ]
     },
     "execution_count": 42,
     "metadata": {},
     "output_type": "execute_result"
    },
    {
     "data": {
      "text/plain": [
       "['제이지, 97, A+', '어피치, 80, B+', '무지, 60, C-', '튜브, 95, A0']"
      ]
     },
     "execution_count": 42,
     "metadata": {},
     "output_type": "execute_result"
    }
   ],
   "source": [
    "file = open('grades.txt',mode='r',encoding='utf-8')\n",
    "data = file.read().splitlines()\n",
    "file.close()\n",
    "\n",
    "len(data)\n",
    "data"
   ]
  },
  {
   "cell_type": "code",
   "execution_count": 40,
   "metadata": {},
   "outputs": [
    {
     "data": {
      "text/plain": [
       "[['제이지', ' 97', ' A+'],\n",
       " ['어피치', ' 80', ' B+'],\n",
       " ['무지', ' 60', ' C-'],\n",
       " ['튜브', ' 95', ' A0']]"
      ]
     },
     "execution_count": 40,
     "metadata": {},
     "output_type": "execute_result"
    }
   ],
   "source": [
    "data_parsed = data\n",
    "for i in range(len(data_parsed)):\n",
    "    data_parsed[i] = data_parsed[i].split(',')\n",
    "\n",
    "data_parsed"
   ]
  },
  {
   "cell_type": "code",
   "execution_count": 43,
   "metadata": {},
   "outputs": [
    {
     "data": {
      "text/plain": [
       "[['제이지', 97, ' A+'], ['어피치', 80, ' B+'], ['무지', 60, ' C-'], ['튜브', 95, ' A0']]"
      ]
     },
     "execution_count": 43,
     "metadata": {},
     "output_type": "execute_result"
    }
   ],
   "source": [
    "data_converted = data_parsed\n",
    "for i in range(len(data_converted)):\n",
    "    data_converted[i][1] = int(data_converted[i][1])\n",
    "\n",
    "data_converted"
   ]
  },
  {
   "cell_type": "code",
   "execution_count": 51,
   "metadata": {},
   "outputs": [
    {
     "data": {
      "text/plain": [
       "[['Kershaw', 18, 4, 4.0],\n",
       " ['Jansen', 5, 0, 0.0],\n",
       " ['Wood', 16, 3, 3.0],\n",
       " ['Hill', 12, 8, 8.0]]"
      ]
     },
     "execution_count": 51,
     "metadata": {},
     "output_type": "execute_result"
    }
   ],
   "source": [
    "file = open('data/pitcher_stats.txt',mode='r',encoding='utf-8')\n",
    "data_parsed = file.read().splitlines()\n",
    "file.close()\n",
    "\n",
    "for i in range(len(data_parsed)):\n",
    "    data_parsed[i] = data_parsed[i].split('/')\n",
    "\n",
    "data_converted = data_parsed\n",
    "for i in range(len(data_converted)):\n",
    "#     for j in range(1,len(data_converted)):\n",
    "#         data_converted[i][j] = float(data_converted[i][j])\n",
    "    data_converted[i][1] = int(data_converted[i][1])\n",
    "    data_converted[i][2] = int(data_converted[i][2])\n",
    "    data_converted[i][3] = float(data_converted[i][2])\n",
    "\n",
    "data_converted"
   ]
  },
  {
   "cell_type": "markdown",
   "metadata": {},
   "source": [
    "# 텍스트 파일 쓰기"
   ]
  },
  {
   "cell_type": "code",
   "execution_count": 61,
   "metadata": {
    "collapsed": true
   },
   "outputs": [
    {
     "name": "stdout",
     "output_type": "stream",
     "text": [
      "[['Kershaw', '18', '4', '2.31'], ['Jansen', '5', '0', '1.32'], ['Wood', '16', '3', '2.72'], ['Hill', '12', '8', '3.32']]\n"
     ]
    },
    {
     "data": {
      "text/plain": [
       "['K',\n",
       " '/',\n",
       " 'e',\n",
       " '/',\n",
       " 'r',\n",
       " '/',\n",
       " 's',\n",
       " '/',\n",
       " 'h',\n",
       " '/',\n",
       " 'a',\n",
       " '/',\n",
       " 'w',\n",
       " '1',\n",
       " '/',\n",
       " '8',\n",
       " '4',\n",
       " '2',\n",
       " '/',\n",
       " '.',\n",
       " '/',\n",
       " '3',\n",
       " '/',\n",
       " '1',\n",
       " 'J',\n",
       " '/',\n",
       " 'a',\n",
       " '/',\n",
       " 'n',\n",
       " '/',\n",
       " 's',\n",
       " '/',\n",
       " 'e',\n",
       " '/',\n",
       " 'n',\n",
       " '5',\n",
       " '0',\n",
       " '1',\n",
       " '/',\n",
       " '.',\n",
       " '/',\n",
       " '3',\n",
       " '/',\n",
       " '2',\n",
       " 'W',\n",
       " '/',\n",
       " 'o',\n",
       " '/',\n",
       " 'o',\n",
       " '/',\n",
       " 'd',\n",
       " '1',\n",
       " '/',\n",
       " '6',\n",
       " '3',\n",
       " '2',\n",
       " '/',\n",
       " '.',\n",
       " '/',\n",
       " '7',\n",
       " '/',\n",
       " '2',\n",
       " 'H',\n",
       " '/',\n",
       " 'i',\n",
       " '/',\n",
       " 'l',\n",
       " '/',\n",
       " 'l',\n",
       " '1',\n",
       " '/',\n",
       " '2',\n",
       " '8',\n",
       " '3',\n",
       " '/',\n",
       " '.',\n",
       " '/',\n",
       " '3',\n",
       " '/',\n",
       " '2']"
      ]
     },
     "execution_count": 61,
     "metadata": {},
     "output_type": "execute_result"
    }
   ],
   "source": [
    "file = open('data/pitcher_stats.txt',mode='r',encoding='utf-8')\n",
    "data_parsed = file.read().splitlines()\n",
    "file.close()\n",
    "\n",
    "for i in range(len(data_parsed)):\n",
    "    data_parsed[i] = data_parsed[i].split('/')\n",
    "\n",
    "print(data_parsed)\n",
    "row = []\n",
    "file2 = open('data/pitcher_stats_new.txt',mode='w',encoding='utf-8')\n",
    "for i in range(len(data_parsed)):\n",
    "    for j in range(len(data_parsed[i])):\n",
    "        row += '/'.join(data_parsed[i][j])\n",
    "#     row = data_parsed[i].join('/')\n",
    "#     file2.write(row)\n",
    "row"
   ]
  },
  {
   "cell_type": "code",
   "execution_count": null,
   "metadata": {},
   "outputs": [],
   "source": [
    "# 정답\n",
    "\n",
    "file = open('data/pitcher_stats.txt',mode='r',encoding='utf-8')\n",
    "data = file.read().splitlines()\n",
    "file.close()\n",
    "\n",
    "for i in range(len(data)):\n",
    "    data[i] = data[i].split('/')\n",
    "\n",
    "file2 = open('data/pitcher_stats_new.txt',mode='w',encoding='utf-8')\n",
    "for row in data:\n",
    "    file.write(row +'/n')\n",
    "    "
   ]
  },
  {
   "cell_type": "code",
   "execution_count": 78,
   "metadata": {},
   "outputs": [
    {
     "data": {
      "text/plain": [
       "31"
      ]
     },
     "execution_count": 78,
     "metadata": {},
     "output_type": "execute_result"
    },
    {
     "data": {
      "text/plain": [
       "34"
      ]
     },
     "execution_count": 78,
     "metadata": {},
     "output_type": "execute_result"
    },
    {
     "data": {
      "text/plain": [
       "31"
      ]
     },
     "execution_count": 78,
     "metadata": {},
     "output_type": "execute_result"
    },
    {
     "data": {
      "text/plain": [
       "36"
      ]
     },
     "execution_count": 78,
     "metadata": {},
     "output_type": "execute_result"
    },
    {
     "data": {
      "text/plain": [
       "28"
      ]
     },
     "execution_count": 78,
     "metadata": {},
     "output_type": "execute_result"
    },
    {
     "data": {
      "text/plain": [
       "29"
      ]
     },
     "execution_count": 78,
     "metadata": {},
     "output_type": "execute_result"
    },
    {
     "data": {
      "text/plain": [
       "20"
      ]
     },
     "execution_count": 78,
     "metadata": {},
     "output_type": "execute_result"
    },
    {
     "data": {
      "text/plain": [
       "56"
      ]
     },
     "execution_count": 78,
     "metadata": {},
     "output_type": "execute_result"
    },
    {
     "data": {
      "text/plain": [
       "36"
      ]
     },
     "execution_count": 78,
     "metadata": {},
     "output_type": "execute_result"
    }
   ],
   "source": [
    "# Lab 7-8\n",
    "\n",
    "s = ('''Beautiful is better than ugly. Explicit is better than implicit. Simple is better than complex. Complex is better than complicated. Flat is better than nested. Sparse is better than dense. Readability counts. Special cases aren't special enough to break the rules. Although practicality beats purity. Errors should never pass silently.''')\n",
    "s = s.split('. ')\n",
    "\n",
    "file=open('data/zen_of_python.txt',mode='w',encoding='utf-8')\n",
    "for line in s[:-1]:\n",
    "    file.write(line + '.'+'\\n')\n",
    "\n",
    "file.close()\n",
    "\n"
   ]
  },
  {
   "cell_type": "code",
   "execution_count": null,
   "metadata": {},
   "outputs": [],
   "source": [
    "# 정답\n",
    "s = ('''Beautiful is better than ugly. Explicit is better than implicit. Simple is better than complex. Complex is better than complicated. Flat is better than nested. Sparse is better than dense. Readability counts. Special cases aren't special enough to break the rules. Although practicality beats purity. Errors should never pass silently.''')\n",
    "s = s.split('. ')\n",
    "\n",
    "file=open('data/zen_of_python.txt',mode='w',encoding='utf-8')\n",
    "for line in s:\n",
    "    "
   ]
  },
  {
   "cell_type": "code",
   "execution_count": 80,
   "metadata": {},
   "outputs": [
    {
     "data": {
      "text/plain": [
       "28"
      ]
     },
     "execution_count": 80,
     "metadata": {},
     "output_type": "execute_result"
    },
    {
     "data": {
      "text/plain": [
       "58"
      ]
     },
     "execution_count": 80,
     "metadata": {},
     "output_type": "execute_result"
    },
    {
     "data": {
      "text/plain": [
       "70"
      ]
     },
     "execution_count": 80,
     "metadata": {},
     "output_type": "execute_result"
    },
    {
     "data": {
      "text/plain": [
       "67"
      ]
     },
     "execution_count": 80,
     "metadata": {},
     "output_type": "execute_result"
    },
    {
     "data": {
      "text/plain": [
       "26"
      ]
     },
     "execution_count": 80,
     "metadata": {},
     "output_type": "execute_result"
    },
    {
     "data": {
      "text/plain": [
       "49"
      ]
     },
     "execution_count": 80,
     "metadata": {},
     "output_type": "execute_result"
    },
    {
     "data": {
      "text/plain": [
       "59"
      ]
     },
     "execution_count": 80,
     "metadata": {},
     "output_type": "execute_result"
    },
    {
     "data": {
      "text/plain": [
       "65"
      ]
     },
     "execution_count": 80,
     "metadata": {},
     "output_type": "execute_result"
    },
    {
     "data": {
      "text/plain": [
       "65"
      ]
     },
     "execution_count": 80,
     "metadata": {},
     "output_type": "execute_result"
    }
   ],
   "source": [
    "# Lab 7-8B\n",
    "# 파이썬 선 완성\n",
    "zen = [\n",
    "\"Unless explicitly silenced.\",\n",
    "\"In the face of ambiguity, refuse the temptation to guess.\",\n",
    "\"There should be one-- and preferably only one --obvious way to do it.\",\n",
    "\"Although that way may not be obvious at first unless you're Dutch.\",\n",
    "\"Now is better than never.\",\n",
    "\"Although never is often better than *right* now.\",\n",
    "\"If the implementation is hard to explain, it's a bad idea.\",\n",
    "\"If the implementation is easy to explain, it may be a good idea.\",\n",
    "\"Namespaces are one honking great idea -- let's do more of those!\"\n",
    "]\n",
    "\n",
    "with open('data/zen_of_python.txt',mode='a',encoding='utf-8') as f:\n",
    "    for s in zen:\n",
    "        f.write(s+ '\\n')"
   ]
  },
  {
   "cell_type": "code",
   "execution_count": 92,
   "metadata": {},
   "outputs": [
    {
     "name": "stdout",
     "output_type": "stream",
     "text": [
      "BEAUTIFUL IS BETTER THAN UGLY.\n",
      "EXPLICIT IS BETTER THAN IMPLICIT.\n",
      "SIMPLE IS BETTER THAN COMPLEX.\n",
      "COMPLEX IS BETTER THAN COMPLICATED.\n",
      "FLAT IS BETTER THAN NESTED.\n",
      "SPARSE IS BETTER THAN DENSE.\n",
      "READABILITY COUNTS.\n",
      "SPECIAL CASES AREN'T SPECIAL ENOUGH TO BREAK THE RULES.\n",
      "ALTHOUGH PRACTICALITY BEATS PURITY.\n",
      "UNLESS EXPLICITLY SILENCED.\n",
      "IN THE FACE OF AMBIGUITY, REFUSE THE TEMPTATION TO GUESS.\n",
      "THERE SHOULD BE ONE-- AND PREFERABLY ONLY ONE --OBVIOUS WAY TO DO IT.\n",
      "ALTHOUGH THAT WAY MAY NOT BE OBVIOUS AT FIRST UNLESS YOU'RE DUTCH.\n",
      "NOW IS BETTER THAN NEVER.\n",
      "ALTHOUGH NEVER IS OFTEN BETTER THAN *RIGHT* NOW.\n",
      "IF THE IMPLEMENTATION IS HARD TO EXPLAIN, IT'S A BAD IDEA.\n",
      "IF THE IMPLEMENTATION IS EASY TO EXPLAIN, IT MAY BE A GOOD IDEA.\n",
      "NAMESPACES ARE ONE HONKING GREAT IDEA -- LET'S DO MORE OF THOSE!\n",
      "\n",
      "BEAUTIFUL IS BETTER THAN UGLY.\n",
      "EXPLICIT IS BETTER THAN IMPLICIT.\n",
      "SIMPLE IS BETTER THAN COMPLEX.\n",
      "COMPLEX IS BETTER THAN COMPLICATED.\n",
      "FLAT IS BETTER THAN NESTED.\n",
      "SPARSE IS BETTER THAN DENSE.\n",
      "READABILITY COUNTS.\n",
      "SPECIAL CASES AREN'T SPECIAL ENOUGH TO BREAK THE RULES.\n",
      "ALTHOUGH PRACTICALITY BEATS PURITY.\n",
      "UNLESS EXPLICITLY SILENCED.\n",
      "IN THE FACE OF AMBIGUITY, REFUSE THE TEMPTATION TO GUESS.\n",
      "THERE SHOULD BE ONE-- AND PREFERABLY ONLY ONE --OBVIOUS WAY TO DO IT.\n",
      "ALTHOUGH THAT WAY MAY NOT BE OBVIOUS AT FIRST UNLESS YOU'RE DUTCH.\n",
      "NOW IS BETTER THAN NEVER.\n",
      "ALTHOUGH NEVER IS OFTEN BETTER THAN *RIGHT* NOW.\n",
      "IF THE IMPLEMENTATION IS HARD TO EXPLAIN, IT'S A BAD IDEA.\n",
      "IF THE IMPLEMENTATION IS EASY TO EXPLAIN, IT MAY BE A GOOD IDEA.\n",
      "NAMESPACES ARE ONE HONKING GREAT IDEA -- LET'S DO MORE OF THOSE!\n"
     ]
    }
   ],
   "source": [
    "# lab 7-9A\n",
    "# 파일 안의 영어를 대문자로 변환해서 출력\n",
    "\n",
    "with open('data/zen_of_python.txt',mode='r',encoding='utf-8') as f:\n",
    "    for line in f.readlines():\n",
    "        print(line.upper(),end = '')\n",
    "        \n",
    "print()\n",
    "# 정답\n",
    "\n",
    "with open('data/zen_of_python.txt',mode='r',encoding='utf-8') as f:\n",
    "    for line in f.readlines():\n",
    "        print(line.upper().rstrip())"
   ]
  },
  {
   "cell_type": "code",
   "execution_count": 107,
   "metadata": {
    "scrolled": true
   },
   "outputs": [
    {
     "name": "stdout",
     "output_type": "stream",
     "text": [
      "파일 이름을 입력하세요...: data/zen_of_python.txt\n"
     ]
    },
    {
     "data": {
      "text/plain": [
       "31"
      ]
     },
     "execution_count": 107,
     "metadata": {},
     "output_type": "execute_result"
    },
    {
     "data": {
      "text/plain": [
       "34"
      ]
     },
     "execution_count": 107,
     "metadata": {},
     "output_type": "execute_result"
    },
    {
     "data": {
      "text/plain": [
       "31"
      ]
     },
     "execution_count": 107,
     "metadata": {},
     "output_type": "execute_result"
    },
    {
     "data": {
      "text/plain": [
       "36"
      ]
     },
     "execution_count": 107,
     "metadata": {},
     "output_type": "execute_result"
    },
    {
     "data": {
      "text/plain": [
       "28"
      ]
     },
     "execution_count": 107,
     "metadata": {},
     "output_type": "execute_result"
    },
    {
     "data": {
      "text/plain": [
       "29"
      ]
     },
     "execution_count": 107,
     "metadata": {},
     "output_type": "execute_result"
    },
    {
     "data": {
      "text/plain": [
       "20"
      ]
     },
     "execution_count": 107,
     "metadata": {},
     "output_type": "execute_result"
    },
    {
     "data": {
      "text/plain": [
       "56"
      ]
     },
     "execution_count": 107,
     "metadata": {},
     "output_type": "execute_result"
    },
    {
     "data": {
      "text/plain": [
       "36"
      ]
     },
     "execution_count": 107,
     "metadata": {},
     "output_type": "execute_result"
    },
    {
     "data": {
      "text/plain": [
       "28"
      ]
     },
     "execution_count": 107,
     "metadata": {},
     "output_type": "execute_result"
    },
    {
     "data": {
      "text/plain": [
       "58"
      ]
     },
     "execution_count": 107,
     "metadata": {},
     "output_type": "execute_result"
    },
    {
     "data": {
      "text/plain": [
       "70"
      ]
     },
     "execution_count": 107,
     "metadata": {},
     "output_type": "execute_result"
    },
    {
     "data": {
      "text/plain": [
       "67"
      ]
     },
     "execution_count": 107,
     "metadata": {},
     "output_type": "execute_result"
    },
    {
     "data": {
      "text/plain": [
       "26"
      ]
     },
     "execution_count": 107,
     "metadata": {},
     "output_type": "execute_result"
    },
    {
     "data": {
      "text/plain": [
       "49"
      ]
     },
     "execution_count": 107,
     "metadata": {},
     "output_type": "execute_result"
    },
    {
     "data": {
      "text/plain": [
       "59"
      ]
     },
     "execution_count": 107,
     "metadata": {},
     "output_type": "execute_result"
    },
    {
     "data": {
      "text/plain": [
       "65"
      ]
     },
     "execution_count": 107,
     "metadata": {},
     "output_type": "execute_result"
    },
    {
     "data": {
      "text/plain": [
       "65"
      ]
     },
     "execution_count": 107,
     "metadata": {},
     "output_type": "execute_result"
    },
    {
     "name": "stdout",
     "output_type": "stream",
     "text": [
      "\"UPPERzen_of_python.txt\" 파일이 /Users/baejiwon/SNU/파이썬을 이용한 빅데이터 분석 개론 (박진수교수님)/jupyter/data 디렉토리에 생성되었습니다.\n"
     ]
    }
   ],
   "source": [
    "# Lab 7-9B\n",
    "# data/zen_of_python.txt\n",
    "\n",
    "from os import path\n",
    "\n",
    "filename = input('파일 이름을 입력하세요...: ')\n",
    "f = open(filename,mode='r',encoding='utf-8')\n",
    "filepath = filename.split('/')\n",
    "\n",
    "lines = f.readlines()\n",
    "f.close()\n",
    "\n",
    "newname = path.abspath(filepath[0])+'/UPPER'+filepath[1]\n",
    "\n",
    "file = open(newname,mode='w',encoding='utf-8')\n",
    "\n",
    "for line in lines:\n",
    "    file.write(line.upper())\n",
    "\n",
    "print('\"{}\" 파일이 {} 디렉토리에 생성되었습니다.'.format(newname.split('/')[-1],path.abspath(filepath[0])))\n",
    "\n",
    "file.close()"
   ]
  },
  {
   "cell_type": "code",
   "execution_count": null,
   "metadata": {},
   "outputs": [],
   "source": [
    "# Lab 7-9B\n",
    "# 정답\n",
    "\n",
    "from os import path\n",
    "\n",
    "file = input('파일 이름을 입력하세요...: ')\n",
    "f = open(file,mode='r',encoding='utf-8')\n",
    "\n",
    "if path.isfile(file):\n",
    "    directory, filename = path.split(file)\n",
    "else:\n",
    "    raise FileNotFoundError\n",
    "\n",
    "outfile = path.join(directory,'UPPER'+filename)\n",
    "    \n",
    "with open(outfile,encoding='utf-8') as fin:\n",
    "     "
   ]
  }
 ],
 "metadata": {
  "kernelspec": {
   "display_name": "Python 3",
   "language": "python",
   "name": "python3"
  },
  "language_info": {
   "codemirror_mode": {
    "name": "ipython",
    "version": 3
   },
   "file_extension": ".py",
   "mimetype": "text/x-python",
   "name": "python",
   "nbconvert_exporter": "python",
   "pygments_lexer": "ipython3",
   "version": "3.6.5"
  }
 },
 "nbformat": 4,
 "nbformat_minor": 2
}
