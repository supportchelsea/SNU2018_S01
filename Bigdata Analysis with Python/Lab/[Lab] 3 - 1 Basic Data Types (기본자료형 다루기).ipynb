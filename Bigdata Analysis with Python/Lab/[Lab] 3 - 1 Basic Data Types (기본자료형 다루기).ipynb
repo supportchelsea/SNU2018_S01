{
 "cells": [
  {
   "cell_type": "markdown",
   "metadata": {},
   "source": [
    "# [Lab] 3 - 1 Basic Data Types (기본자료형 다루기)"
   ]
  },
  {
   "cell_type": "markdown",
   "metadata": {},
   "source": [
    "1) 불린\n",
    "2) 숫자형\n",
    "3) 문자열\n",
    "4) 응용"
   ]
  },
  {
   "cell_type": "markdown",
   "metadata": {},
   "source": [
    "# 1) 불린\n",
    "참과 거짓 두가지 값중 한개만 취하는 논리 자료형"
   ]
  },
  {
   "cell_type": "code",
   "execution_count": 2,
   "metadata": {},
   "outputs": [
    {
     "name": "stdout",
     "output_type": "stream",
     "text": [
      "<class 'bool'>\n",
      "True\n",
      "\n",
      "<class 'bool'>\n",
      "False\n",
      "\n",
      "False\n",
      "True\n"
     ]
    }
   ],
   "source": [
    "\n",
    "x = True\n",
    "print(type(x))\n",
    "print(x)\n",
    "print()\n",
    "\n",
    "y = False\n",
    "print(type(y))\n",
    "print(y)\n",
    "print()\n",
    "\n",
    "print(x == y)\n",
    "print(x != y)\n"
   ]
  },
  {
   "cell_type": "code",
   "execution_count": 3,
   "metadata": {},
   "outputs": [
    {
     "name": "stdout",
     "output_type": "stream",
     "text": [
      "False\n",
      "True\n",
      "False\n",
      "True\n"
     ]
    }
   ],
   "source": [
    "#비교연산\n",
    "\n",
    "print(1>2)\n",
    "print(100<1000)\n",
    "print('a'=='b')\n",
    "print('j'!= 'i')\n"
   ]
  },
  {
   "cell_type": "code",
   "execution_count": 4,
   "metadata": {},
   "outputs": [
    {
     "name": "stdout",
     "output_type": "stream",
     "text": [
      "False\n",
      "True\n",
      "False\n",
      "\n",
      "0\n",
      "1\n",
      "False\n",
      "True\n",
      "\n"
     ]
    }
   ],
   "source": [
    "# 논리연산\n",
    "print(True and False)\n",
    "print(True or False)\n",
    "print(not True)\n",
    "print()\n",
    "\n",
    "print(1 and 0)\n",
    "print(1 or 0)\n",
    "print(not 1)\n",
    "print(not 0)\n",
    "print()"
   ]
  },
  {
   "cell_type": "code",
   "execution_count": 7,
   "metadata": {},
   "outputs": [
    {
     "name": "stdout",
     "output_type": "stream",
     "text": [
      "True\n",
      "False\n",
      "True\n"
     ]
    },
    {
     "ename": "NameError",
     "evalue": "name 'a' is not defined",
     "output_type": "error",
     "traceback": [
      "\u001b[1;31m---------------------------------------------------------------------------\u001b[0m",
      "\u001b[1;31mNameError\u001b[0m                                 Traceback (most recent call last)",
      "\u001b[1;32m<ipython-input-7-6529339e3092>\u001b[0m in \u001b[0;36m<module>\u001b[1;34m()\u001b[0m\n\u001b[0;32m      5\u001b[0m \u001b[0mprint\u001b[0m\u001b[1;33m(\u001b[0m\u001b[1;36m1\u001b[0m \u001b[1;32min\u001b[0m \u001b[1;33m[\u001b[0m\u001b[1;34m'1'\u001b[0m\u001b[1;33m,\u001b[0m\u001b[1;34m'2'\u001b[0m\u001b[1;33m,\u001b[0m\u001b[1;34m'3'\u001b[0m\u001b[1;33m]\u001b[0m\u001b[1;33m)\u001b[0m\u001b[1;33m\u001b[0m\u001b[0m\n\u001b[0;32m      6\u001b[0m \u001b[0mprint\u001b[0m\u001b[1;33m(\u001b[0m\u001b[1;34m'a'\u001b[0m\u001b[1;32min\u001b[0m \u001b[1;33m[\u001b[0m\u001b[1;34m'a'\u001b[0m\u001b[1;33m,\u001b[0m\u001b[1;34m'b'\u001b[0m\u001b[1;33m,\u001b[0m\u001b[1;34m'c'\u001b[0m\u001b[1;33m]\u001b[0m\u001b[1;33m)\u001b[0m\u001b[1;33m\u001b[0m\u001b[0m\n\u001b[1;32m----> 7\u001b[1;33m \u001b[0mprint\u001b[0m\u001b[1;33m(\u001b[0m \u001b[0ma\u001b[0m \u001b[1;32min\u001b[0m \u001b[1;33m[\u001b[0m\u001b[1;34m'a'\u001b[0m\u001b[1;33m,\u001b[0m\u001b[1;34m'b'\u001b[0m\u001b[1;33m,\u001b[0m\u001b[1;34m'c'\u001b[0m\u001b[1;33m]\u001b[0m\u001b[1;33m)\u001b[0m\u001b[1;33m\u001b[0m\u001b[0m\n\u001b[0m",
      "\u001b[1;31mNameError\u001b[0m: name 'a' is not defined"
     ]
    }
   ],
   "source": [
    "# 멤버십 연산자\n",
    "# in/ not in\n",
    "# 특정항목이 속해있는지 존재여부 확인 => 복합자료형 리스트에서 다룸\n",
    "\n",
    "print(2 in [1,2,3])\n",
    "print(1 in ['1','2','3'])\n",
    "print('a'in ['a','b','c'])\n",
    "print( a in ['a','b','c'])\n"
   ]
  },
  {
   "cell_type": "markdown",
   "metadata": {},
   "source": [
    "#xor 연산\n",
    "Exclusive OR 연산이란?\n",
    "입력값 a 와 b 중 하나만 참일 경우 참을 반환\n",
    "\n",
    "# Lab 3 - 1  - 1"
   ]
  },
  {
   "cell_type": "code",
   "execution_count": 5,
   "metadata": {},
   "outputs": [
    {
     "name": "stdout",
     "output_type": "stream",
     "text": [
      "x: True, y: True\n",
      "True\n",
      "True\n",
      "False\n",
      "x: True, y: True\n",
      "False\n",
      "True\n",
      "True\n",
      "x: True, y: True\n",
      "False\n",
      "False\n",
      "False\n"
     ]
    }
   ],
   "source": [
    "\n",
    "x=True\n",
    "y=True\n",
    "print('x: True, y: True')\n",
    "print(x and y)\n",
    "print(x or y)\n",
    "print((x!=y)) #????\n",
    "\n",
    "x=True\n",
    "y=False\n",
    "print('x: True, y: True')\n",
    "print(x and y)\n",
    "print(x or y)\n",
    "print( x != y )\n",
    "\n",
    "x=False\n",
    "y=False\n",
    "print('x: True, y: True')\n",
    "print(x and y)\n",
    "print(x or y)\n",
    "print( x != y )"
   ]
  },
  {
   "cell_type": "markdown",
   "metadata": {},
   "source": [
    "# 2) 숫자형\n",
    " 정수와 실수 비교"
   ]
  },
  {
   "cell_type": "code",
   "execution_count": 30,
   "metadata": {},
   "outputs": [
    {
     "name": "stdout",
     "output_type": "stream",
     "text": [
      "True\n",
      "False \n",
      "\n",
      "10\n",
      "8.0\n"
     ]
    }
   ],
   "source": [
    "# 실수형\n",
    "x = 8\n",
    "y = 8.0\n",
    "\n",
    "print(x==y)\n",
    "print(x!=y,'\\n')\n",
    "\n",
    "# 변수값 대체\n",
    "x = x + 2\n",
    "print(x)\n",
    "\n",
    "y = y + 0\n",
    "print(y)"
   ]
  },
  {
   "cell_type": "markdown",
   "metadata": {},
   "source": [
    "# Lab 3 - 1 - 2\n",
    "정수와 실수의 연산"
   ]
  },
  {
   "cell_type": "code",
   "execution_count": 38,
   "metadata": {},
   "outputs": [
    {
     "name": "stdout",
     "output_type": "stream",
     "text": [
      "5.0\n",
      "125.0\n",
      "130.0\n",
      "0.0\n"
     ]
    }
   ],
   "source": [
    "# 정수\n",
    "a = 10\n",
    "a = a / 2\n",
    "print(a)\n",
    "print(a**3)\n",
    "c = a**3\n",
    "print(a + c)\n",
    "\n",
    "# 실수\n",
    "b = 10.0\n",
    "d = (b*3) - 10\n",
    "print(d%4)"
   ]
  },
  {
   "cell_type": "markdown",
   "metadata": {},
   "source": [
    "# 2) 문자열\n",
    "\n",
    "문자열(string)이란?\n",
    "문자 형태의 데이터를 담기 위한 자료형\n",
    "작은 띠옴표 '' 혹은 큰따옴표 \"\" 사용해서 문자열 리터럴을 생성\n",
    "\n"
   ]
  },
  {
   "cell_type": "code",
   "execution_count": 41,
   "metadata": {},
   "outputs": [
    {
     "name": "stdout",
     "output_type": "stream",
     "text": [
      "my dog\n",
      "Ryan's cat\n",
      "ryan's cat\n",
      "my dog \n",
      " Ryan's cat\n"
     ]
    },
    {
     "data": {
      "text/plain": [
       "\"my dog \\n Ryan's cat\""
      ]
     },
     "execution_count": 41,
     "metadata": {},
     "output_type": "execute_result"
    }
   ],
   "source": [
    "# 문자열 이스케이프 \\\n",
    "print('my dog')\n",
    "print(\"Ryan's cat\")\n",
    "print('ryan\\'s cat')\n",
    "print('my dog \\n Ryan\\'s cat')\n",
    "'my dog \\n Ryan\\'s cat'"
   ]
  },
  {
   "cell_type": "code",
   "execution_count": 6,
   "metadata": {},
   "outputs": [
    {
     "name": "stdout",
     "output_type": "stream",
     "text": [
      "<class 'str'>\n",
      "Monty \n",
      "\n",
      "<class 'str'>\n",
      "Python \n",
      "\n",
      "<class 'str'>\n",
      "Python \n",
      "\n",
      "5\n",
      "4\n",
      "6\n"
     ]
    }
   ],
   "source": [
    "# 문자열 다루기 - 1 문자열 생성\n",
    "s1 = 'Monty' #문자열을 작은 따옴표로 생성\n",
    "print(type(s1))\n",
    "print(s1,'\\n')\n",
    "\n",
    "s2 = \"Python\" #문자열은 큰 따옴표로도 생성할 수 있음\n",
    "print(type(s2))\n",
    "print(s2,'\\n')\n",
    "\n",
    "s3 = '    ' #문자열은 문자열 안에 구체적인 내용이 없어도 생성할 수 있음\n",
    "print(type(s2))\n",
    "print(s2,'\\n')\n",
    "\n",
    "#각 문자열의 길이 구하기\n",
    "print(len(s1))\n",
    "print(len(s3))\n",
    "print(len(s2))\n"
   ]
  },
  {
   "cell_type": "code",
   "execution_count": 46,
   "metadata": {},
   "outputs": [
    {
     "name": "stdout",
     "output_type": "stream",
     "text": [
      "MontyPython    \n"
     ]
    }
   ],
   "source": [
    "# 문자열 다루기 - 2 문자열 결합\n",
    "# 덧셈 연산자가 문자열에서 사용될 경우 용도가 다름\n",
    "s = s1 + s2 + s3\n",
    "print(s)"
   ]
  },
  {
   "cell_type": "code",
   "execution_count": 48,
   "metadata": {},
   "outputs": [
    {
     "name": "stdout",
     "output_type": "stream",
     "text": [
      "MontyPython    \n",
      "M\n",
      "o\n",
      "n\n",
      " \n",
      " \n"
     ]
    }
   ],
   "source": [
    "# 문자열 다루기 - 3 인덱스 접근\n",
    "# 인덱스는 문자열뿐만 아니라 리스트나 튜플 등에서도 같은 원리로 작용함\n",
    "# 주의 파이썬의 경우 인덱스는 0부터 시작\n",
    "\n",
    "print(s)\n",
    "print(s[0])\n",
    "print(s[1])\n",
    "print(s[2])\n",
    "print(s[-2])\n",
    "print(s[-1])"
   ]
  },
  {
   "cell_type": "code",
   "execution_count": 51,
   "metadata": {},
   "outputs": [
    {
     "name": "stdout",
     "output_type": "stream",
     "text": [
      "MontyPython    \n",
      "Monty\n",
      "Monty\n",
      "on    \n"
     ]
    }
   ],
   "source": [
    "# 문자열 다루기 - 4 분할\n",
    "print(s)\n",
    "print(s[0:5])\n",
    "print(s[:5])\n",
    "print(s[-6:])\n"
   ]
  },
  {
   "cell_type": "code",
   "execution_count": 53,
   "metadata": {},
   "outputs": [
    {
     "name": "stdout",
     "output_type": "stream",
     "text": [
      "Python is fun! \n",
      "\n",
      "Python,Ruby,and Java are fun!\n"
     ]
    }
   ],
   "source": [
    "# 문자열 다루기 - 5 서식설정\n",
    "s1 = '{} is fun!'.format('Python')\n",
    "print(s1,'\\n')\n",
    "\n",
    "s2 = '{},{},and {} are fun!'.format('Python','Ruby',\"Java\")\n",
    "print(s2)\n"
   ]
  },
  {
   "cell_type": "markdown",
   "metadata": {},
   "source": [
    "## Lab 3-1-3\n"
   ]
  },
  {
   "cell_type": "code",
   "execution_count": 21,
   "metadata": {},
   "outputs": [
    {
     "name": "stdout",
     "output_type": "stream",
     "text": [
      "I love Python\n",
      "I love\n"
     ]
    },
    {
     "ename": "TypeError",
     "evalue": "unsupported operand type(s) for +: 'NoneType' and 'str'",
     "output_type": "error",
     "traceback": [
      "\u001b[1;31m---------------------------------------------------------------------------\u001b[0m",
      "\u001b[1;31mTypeError\u001b[0m                                 Traceback (most recent call last)",
      "\u001b[1;32m<ipython-input-21-082d34f1f614>\u001b[0m in \u001b[0;36m<module>\u001b[1;34m()\u001b[0m\n\u001b[0;32m      8\u001b[0m \u001b[0mstr4\u001b[0m \u001b[1;33m=\u001b[0m \u001b[0mprint\u001b[0m\u001b[1;33m(\u001b[0m\u001b[0mstr4\u001b[0m\u001b[1;33m[\u001b[0m\u001b[1;36m0\u001b[0m\u001b[1;33m:\u001b[0m\u001b[1;36m6\u001b[0m\u001b[1;33m]\u001b[0m\u001b[1;33m)\u001b[0m\u001b[1;33m\u001b[0m\u001b[0m\n\u001b[0;32m      9\u001b[0m \u001b[1;33m\u001b[0m\u001b[0m\n\u001b[1;32m---> 10\u001b[1;33m \u001b[0mstr5\u001b[0m \u001b[1;33m=\u001b[0m \u001b[0mstr4\u001b[0m \u001b[1;33m+\u001b[0m \u001b[1;34m' '\u001b[0m \u001b[1;33m+\u001b[0m \u001b[1;34m'programming'\u001b[0m\u001b[1;33m\u001b[0m\u001b[0m\n\u001b[0m\u001b[0;32m     11\u001b[0m \u001b[0mpritn\u001b[0m\u001b[1;33m(\u001b[0m\u001b[0mstr5\u001b[0m\u001b[1;33m)\u001b[0m\u001b[1;33m\u001b[0m\u001b[0m\n",
      "\u001b[1;31mTypeError\u001b[0m: unsupported operand type(s) for +: 'NoneType' and 'str'"
     ]
    }
   ],
   "source": [
    "str1 = 'I'\n",
    "str2 = 'love'\n",
    "str3 = 'Python'\n",
    "\n",
    "str4 = str1 + ' ' + str2 + ' ' + str3\n",
    "print(str4)\n",
    "\n",
    "str4 = print(str4[0:6])\n",
    "\n",
    "str5 = str4 + ' ' + 'programming'\n",
    "pritn(str5)"
   ]
  },
  {
   "cell_type": "markdown",
   "metadata": {},
   "source": [
    "## 응용 문제\n",
    "## Lab 3 - 1 - 4"
   ]
  },
  {
   "cell_type": "code",
   "execution_count": 35,
   "metadata": {},
   "outputs": [
    {
     "name": "stdout",
     "output_type": "stream",
     "text": [
      "172.15859375\n",
      "172.16\n"
     ]
    }
   ],
   "source": [
    "food_price = 137.50\n",
    "type(food_price)\n",
    "city_tax = food_price * 0.08875\n",
    "type(city_tax)\n",
    "service_charge = (food_price + city_tax)*0.15\n",
    "\n",
    "total_price = (food_price + city_tax + service_charge)\n",
    "print(total_price)\n",
    "\n",
    "print(\"{0:.2f}\".format(round(total_price,2))) "
   ]
  },
  {
   "cell_type": "code",
   "execution_count": null,
   "metadata": {},
   "outputs": [],
   "source": []
  },
  {
   "cell_type": "code",
   "execution_count": null,
   "metadata": {},
   "outputs": [],
   "source": []
  }
 ],
 "metadata": {
  "kernelspec": {
   "display_name": "Python 3",
   "language": "python",
   "name": "python3"
  },
  "language_info": {
   "codemirror_mode": {
    "name": "ipython",
    "version": 3
   },
   "file_extension": ".py",
   "mimetype": "text/x-python",
   "name": "python",
   "nbconvert_exporter": "python",
   "pygments_lexer": "ipython3",
   "version": "3.6.5"
  }
 },
 "nbformat": 4,
 "nbformat_minor": 2
}
