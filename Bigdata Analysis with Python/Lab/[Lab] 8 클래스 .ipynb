{
 "cells": [
  {
   "cell_type": "code",
   "execution_count": 29,
   "metadata": {},
   "outputs": [],
   "source": [
    "from IPython.core.interactiveshell import InteractiveShell\n",
    "InteractiveShell.ast_node_interactivity = \"all\""
   ]
  },
  {
   "cell_type": "code",
   "execution_count": 3,
   "metadata": {},
   "outputs": [],
   "source": [
    "= []\n",
    "_movie = {} \n",
    "\n",
    "class Movie():\n",
    "    _movie = {}\n",
    "    def __init__(self,moviename):\n",
    "        _movie[name] = self.moviename\n",
    "    def getmoviename(self):\n",
    "        return '=== 영화 {} 정보 ======\\n영화 이름: {}'.format(self.moviename)\n",
    "    def __init__(self,year):\n",
    "        self.year = year\n",
    "    def getyear(self):\n",
    "        return '개봉 연도: {}'.format(self.year)\n",
    "    def __int__(self,director):\n",
    "    def __int__(self,,budget):\n",
    "    def __int__(self,stars):"
   ]
  },
  {
   "cell_type": "code",
   "execution_count": null,
   "metadata": {},
   "outputs": [],
   "source": [
    "Movie.getyear()"
   ]
  },
  {
   "cell_type": "code",
   "execution_count": null,
   "metadata": {},
   "outputs": [],
   "source": [
    "= []\n",
    "_movie = {} \n",
    "\n",
    "class Movie():\n",
    "    _movie = {}\n",
    "    append\n",
    "    def __init__(self,moviename):\n",
    "        self.moviename = moviename\n",
    "        _movie[moviename] = \n",
    "    def getmoviename(self):\n",
    "        return '=== 영화 {} 정보 ======\\n영화 이름: {}'.format(self.moviename)\n",
    "    def __init__(self,year):\n",
    "        self.year = year\n",
    "    def getyear(self):\n",
    "        return '개봉 연도: {}'.format(self.year)\n",
    "    def __int__(self,director):\n",
    "    def __int__(self,,budget):\n",
    "    def __int__(self,stars):"
   ]
  },
  {
   "cell_type": "code",
   "execution_count": null,
   "metadata": {},
   "outputs": [],
   "source": [
    "class Movie():\n",
    "    _movie = {}\n",
    "    def __init__(self,moviename):\n",
    "        _movie[name] = self.moviename\n",
    "    def __init__(self,moviename):\n",
    "        _movie[name] = self.moviename\n",
    "    def "
   ]
  },
  {
   "cell_type": "code",
   "execution_count": 12,
   "metadata": {},
   "outputs": [
    {
     "name": "stdout",
     "output_type": "stream",
     "text": [
      "=== 영화 Interstellar 정보 =====\n",
      "영화 이름 :  Interstellar\n",
      "개봉 년도 :  2014\n",
      "감독 :  Christoper Nolan\n",
      "예산 :  $165,000,000\n",
      "주연 :  ['Matthew McConauhey', 'Anne Hathawat', 'Jessica Chastain']\n",
      "\n",
      "=== 영화 Mad Max 정보 =====\n",
      "영화 이름 :  Mad Max\n",
      "개봉 년도 :  2015\n",
      "감독 :  Gerge Miller\n",
      "예산 :  $75,000,000\n",
      "주연 :  ['Tomn Hardy', 'charlize Theron', 'Nicolas Hoult']\n",
      "\n",
      "=== 영화 Lorgan 정보 =====\n",
      "영화 이름 :  Lorgan\n",
      "개봉 년도 :  2017\n",
      "감독 :  James Magold\n",
      "예산 :  $97,000,000\n",
      "주연 :  ['Hugh Hackman', 'Patrick Stewart', 'Dafne Keen']\n",
      "\n"
     ]
    }
   ],
   "source": [
    "# Lab 8-1-1\n",
    "class Movie():\n",
    "    def __init__(self,moviename,year,director,budget,stars):\n",
    "        self.moviename = moviename\n",
    "        self.year = year\n",
    "        self.director = director\n",
    "        self.budget = budget\n",
    "        self.stars = stars\n",
    "    \n",
    "movies = []\n",
    "movies.append(Movie('Interstellar',2014,'Christoper Nolan','$165,000,000',['Matthew McConauhey','Anne Hathawat','Jessica Chastain']))\n",
    "movies.append(Movie('Mad Max',2015,'Gerge Miller','$75,000,000',['Tomn Hardy','charlize Theron','Nicolas Hoult']))\n",
    "movies.append(Movie('Lorgan',2017,'James Magold','$97,000,000',['Hugh Hackman','Patrick Stewart','Dafne Keen']))\n",
    "\n",
    "for movie in movies:\n",
    "    print('='*3,'영화 {} 정보'.format(movie.moviename),'='*5)\n",
    "    print('영화 이름 : ',movie.moviename)\n",
    "    print('개봉 년도 : ',movie.year)\n",
    "    print('감독 : ',movie.director)\n",
    "    print('예산 : ',movie.budget)\n",
    "    print('주연 : ',movie.stars)\n",
    "    print()"
   ]
  },
  {
   "cell_type": "code",
   "execution_count": 14,
   "metadata": {},
   "outputs": [
    {
     "name": "stdout",
     "output_type": "stream",
     "text": [
      "영화 Interstellar의 주연 배우 목록\n",
      "Matthew McConauhey\n",
      "Anne Hathawat\n",
      "Jessica Chastain\n"
     ]
    }
   ],
   "source": [
    "# Lab 8-1-2\n",
    "class Movie():\n",
    "    def __init__(self,moviename,year,director,budget,stars):\n",
    "        self.moviename = moviename\n",
    "        self.year = year\n",
    "        self.director = director\n",
    "        self.budget = budget\n",
    "        self.stars = stars\n",
    "        \n",
    "    def get_stars(self):\n",
    "        print('영화 {}의 주연 배우 목록'.format(self.moviename))\n",
    "        for star in self.stars:\n",
    "            print(star)\n",
    "\n",
    "movie = Movie('Interstellar',2014,'Christoper Nolan','$165,000,000',['Matthew McConauhey','Anne Hathawat','Jessica Chastain'])\n",
    "movie.get_stars()"
   ]
  },
  {
   "cell_type": "code",
   "execution_count": 39,
   "metadata": {},
   "outputs": [],
   "source": [
    "# 아르바이트생 관리\n",
    "\n",
    "class PartTimer:\n",
    "    hour_rate = 7500\n",
    "    total_part_timer = 0   \n",
    "    def __init__(self,*argv): #nickname,workplace):\n",
    "        self.total_wage = 0\n",
    "        workplace = '113동'\n",
    "        self.nickname = nickname\n",
    "        self.workplace = workplace\n",
    "#     def getnickname(self,nickname):\n",
    "#         self.nickname = nickname\n",
    "    def calculate_wage(self,hours):\n",
    "        dail_wage = hour_rate * hours\n",
    "        self.total_wage += daily_wage \n",
    "        return self.total_wage"
   ]
  },
  {
   "cell_type": "code",
   "execution_count": 40,
   "metadata": {},
   "outputs": [
    {
     "ename": "NameError",
     "evalue": "name 'nickname' is not defined",
     "output_type": "error",
     "traceback": [
      "\u001b[0;31m---------------------------------------------------------------------------\u001b[0m",
      "\u001b[0;31mNameError\u001b[0m                                 Traceback (most recent call last)",
      "\u001b[0;32m<ipython-input-40-fe2703744be6>\u001b[0m in \u001b[0;36m<module>\u001b[0;34m()\u001b[0m\n\u001b[0;32m----> 1\u001b[0;31m \u001b[0mpark\u001b[0m \u001b[0;34m=\u001b[0m \u001b[0mPartTimer\u001b[0m\u001b[0;34m(\u001b[0m\u001b[0mnickname\u001b[0m\u001b[0;34m=\u001b[0m\u001b[0;34m'라이언'\u001b[0m\u001b[0;34m)\u001b[0m\u001b[0;34m\u001b[0m\u001b[0m\n\u001b[0m\u001b[1;32m      2\u001b[0m \u001b[0mpark\u001b[0m\u001b[0;34m.\u001b[0m\u001b[0mtotal_wage\u001b[0m\u001b[0;34m\u001b[0m\u001b[0m\n",
      "\u001b[0;32m<ipython-input-39-ec868bd3e4b2>\u001b[0m in \u001b[0;36m__init__\u001b[0;34m(self, **argv)\u001b[0m\n\u001b[1;32m      7\u001b[0m         \u001b[0mself\u001b[0m\u001b[0;34m.\u001b[0m\u001b[0mtotal_wage\u001b[0m \u001b[0;34m=\u001b[0m \u001b[0;36m0\u001b[0m\u001b[0;34m\u001b[0m\u001b[0m\n\u001b[1;32m      8\u001b[0m         \u001b[0mworkplace\u001b[0m \u001b[0;34m=\u001b[0m \u001b[0;34m'113동'\u001b[0m\u001b[0;34m\u001b[0m\u001b[0m\n\u001b[0;32m----> 9\u001b[0;31m         \u001b[0mself\u001b[0m\u001b[0;34m.\u001b[0m\u001b[0mnickname\u001b[0m \u001b[0;34m=\u001b[0m \u001b[0mnickname\u001b[0m\u001b[0;34m\u001b[0m\u001b[0m\n\u001b[0m\u001b[1;32m     10\u001b[0m         \u001b[0mself\u001b[0m\u001b[0;34m.\u001b[0m\u001b[0mworkplace\u001b[0m \u001b[0;34m=\u001b[0m \u001b[0mworkplace\u001b[0m\u001b[0;34m\u001b[0m\u001b[0m\n\u001b[1;32m     11\u001b[0m \u001b[0;31m#     def getnickname(self,nickname):\u001b[0m\u001b[0;34m\u001b[0m\u001b[0;34m\u001b[0m\u001b[0m\n",
      "\u001b[0;31mNameError\u001b[0m: name 'nickname' is not defined"
     ]
    }
   ],
   "source": [
    "park = PartTimer(nickname='라이언')\n",
    "park.total_wage"
   ]
  },
  {
   "cell_type": "code",
   "execution_count": 31,
   "metadata": {},
   "outputs": [
    {
     "data": {
      "text/plain": [
       "0"
      ]
     },
     "execution_count": 31,
     "metadata": {},
     "output_type": "execute_result"
    }
   ],
   "source": [
    "lee = PartTimer('네오','137-1동')\n",
    "lee.total_wage\n",
    "lee.nickname"
   ]
  },
  {
   "cell_type": "code",
   "execution_count": 41,
   "metadata": {},
   "outputs": [],
   "source": [
    "# 아르바이트생 관리\n",
    "\n",
    "class PartTimer:\n",
    "    hour_rate = 7500\n",
    "    total_part_timer = 0   \n",
    "    def __init__(self,nickname,workplace='113동'):\n",
    "        self.total_wage = 0\n",
    "        self.nickname = nickname\n",
    "        self.workplace = workplace\n",
    "        PartTimer.total_part_timer += 1\n",
    "        \n",
    "    def getnickname(self):\n",
    "        return 'My nickname is '+self.nickname\n",
    "    \n",
    "    def calculate_wage(self,hours):\n",
    "        dail_wage = hour_rate * hours\n",
    "        self.total_wage += daily_wage \n",
    "        return self.total_wage"
   ]
  },
  {
   "cell_type": "code",
   "execution_count": 42,
   "metadata": {},
   "outputs": [
    {
     "data": {
      "text/plain": [
       "0"
      ]
     },
     "execution_count": 42,
     "metadata": {},
     "output_type": "execute_result"
    },
    {
     "data": {
      "text/plain": [
       "'네오'"
      ]
     },
     "execution_count": 42,
     "metadata": {},
     "output_type": "execute_result"
    }
   ],
   "source": [
    "lee = PartTimer('네오','137-1동')\n",
    "lee.total_wage\n",
    "lee.nickname"
   ]
  },
  {
   "cell_type": "code",
   "execution_count": null,
   "metadata": {},
   "outputs": [],
   "source": []
  }
 ],
 "metadata": {
  "kernelspec": {
   "display_name": "Python 3",
   "language": "python",
   "name": "python3"
  },
  "language_info": {
   "codemirror_mode": {
    "name": "ipython",
    "version": 3
   },
   "file_extension": ".py",
   "mimetype": "text/x-python",
   "name": "python",
   "nbconvert_exporter": "python",
   "pygments_lexer": "ipython3",
   "version": "3.6.5"
  }
 },
 "nbformat": 4,
 "nbformat_minor": 2
}
