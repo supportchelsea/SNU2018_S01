{
 "cells": [
  {
   "cell_type": "markdown",
   "metadata": {},
   "source": [
    "# My first python program "
   ]
  },
  {
   "cell_type": "code",
   "execution_count": 10,
   "metadata": {},
   "outputs": [
    {
     "name": "stdout",
     "output_type": "stream",
     "text": [
      "# 정수를 실수로 / 실수를 정수로 \n",
      "\n",
      "<class 'int'>\n",
      "<class 'float'>\n",
      "<class 'int'>\n",
      "\n",
      "# 숫자를 문자로 / 문자를 숫자로 \n",
      "\n",
      "<class 'int'>\n",
      "<class 'str'>\n",
      "<class 'float'>\n"
     ]
    }
   ],
   "source": [
    "# 형변환\n",
    "# 정수를 실수로 / 실수를 정수로\n",
    "print('# 정수를 실수로 / 실수를 정수로 \\n')\n",
    "i = 5\n",
    "print(type(i))\n",
    "\n",
    "f = float(i)\n",
    "print(type(f))\n",
    "\n",
    "j = int(f)\n",
    "print(type(j))\n",
    "print()\n",
    "\n",
    "# 숫자를 문자열로 / 문자열을 숫자로 변환\n",
    "print('# 숫자를 문자로 / 문자를 숫자로 \\n')\n",
    "i = 5\n",
    "print(type(i))\n",
    "\n",
    "s = str(i)\n",
    "print(type(s))\n",
    "\n",
    "f = float(s)\n",
    "print(type(f))\n"
   ]
  },
  {
   "cell_type": "code",
   "execution_count": 11,
   "metadata": {},
   "outputs": [
    {
     "name": "stdout",
     "output_type": "stream",
     "text": [
      "<class 'str'>\n"
     ]
    },
    {
     "ename": "ValueError",
     "evalue": "could not convert string to float: 'drum'",
     "output_type": "error",
     "traceback": [
      "\u001b[1;31m---------------------------------------------------------------------------\u001b[0m",
      "\u001b[1;31mValueError\u001b[0m                                Traceback (most recent call last)",
      "\u001b[1;32m<ipython-input-11-992b4d77a668>\u001b[0m in \u001b[0;36m<module>\u001b[1;34m()\u001b[0m\n\u001b[0;32m      3\u001b[0m \u001b[0mprint\u001b[0m\u001b[1;33m(\u001b[0m\u001b[0mtype\u001b[0m\u001b[1;33m(\u001b[0m\u001b[0ms\u001b[0m\u001b[1;33m)\u001b[0m\u001b[1;33m)\u001b[0m\u001b[1;33m\u001b[0m\u001b[0m\n\u001b[0;32m      4\u001b[0m \u001b[1;33m\u001b[0m\u001b[0m\n\u001b[1;32m----> 5\u001b[1;33m \u001b[0mf\u001b[0m\u001b[1;33m=\u001b[0m\u001b[0mfloat\u001b[0m\u001b[1;33m(\u001b[0m\u001b[0ms\u001b[0m\u001b[1;33m)\u001b[0m\u001b[1;33m\u001b[0m\u001b[0m\n\u001b[0m",
      "\u001b[1;31mValueError\u001b[0m: could not convert string to float: 'drum'"
     ]
    }
   ],
   "source": [
    "# 만약에 자료형이 서로 변환 가능한 형태가 아니면 오류가 발생함\n",
    "s = 'drum'\n",
    "print(type(s))\n",
    "\n",
    "f=float(s)"
   ]
  },
  {
   "cell_type": "code",
   "execution_count": 12,
   "metadata": {
    "scrolled": true
   },
   "outputs": [
    {
     "name": "stdout",
     "output_type": "stream",
     "text": [
      "True\n",
      "False\n"
     ]
    }
   ],
   "source": [
    "#Lab 2-3-1\n",
    "#방법 1 \n",
    "i = 1234\n",
    "s = '1234'\n",
    "\n",
    "s = int(s)\n",
    "print(i==s)\n",
    "\n",
    "# 방법 2 - 문자형으로 변환\n",
    "s = str(s)\n",
    "print(i==s)"
   ]
  },
  {
   "cell_type": "code",
   "execution_count": 1,
   "metadata": {
    "scrolled": false
   },
   "outputs": [
    {
     "name": "stdout",
     "output_type": "stream",
     "text": [
      "what is your name?배지원\n",
      "Hi! 배지원\n",
      "The Length of Your name is: \n",
      "3\n",
      "\n",
      "What is your age?25\n",
      "You will be 26 years old in the next year.\n",
      "Bye~~~~~~!\n"
     ]
    }
   ],
   "source": [
    "#Lab 2 - 3 - 2\n",
    "# my first python program\n",
    "\n",
    "name = input('what is your name?')\n",
    "print('Hi!',name)\n",
    "print('The Length of Your name is: ')\n",
    "print(len(name))\n",
    "print()\n",
    "age=input('What is your age?')\n",
    "age = int(age)\n",
    "print('You will be',age + 1,'years old in the next year.')\n",
    "print('Bye~~~~~~!')"
   ]
  },
  {
   "cell_type": "code",
   "execution_count": null,
   "metadata": {},
   "outputs": [],
   "source": []
  },
  {
   "cell_type": "code",
   "execution_count": 13,
   "metadata": {},
   "outputs": [
    {
     "name": "stdout",
     "output_type": "stream",
     "text": [
      "지금 시간이 11시입니다.\n"
     ]
    },
    {
     "ename": "TypeError",
     "evalue": "must be str, not int",
     "output_type": "error",
     "traceback": [
      "\u001b[1;31m---------------------------------------------------------------------------\u001b[0m",
      "\u001b[1;31mTypeError\u001b[0m                                 Traceback (most recent call last)",
      "\u001b[1;32m<ipython-input-13-9862b3d1c4de>\u001b[0m in \u001b[0;36m<module>\u001b[1;34m()\u001b[0m\n\u001b[0;32m      1\u001b[0m \u001b[1;31m#문자열 연산\u001b[0m\u001b[1;33m\u001b[0m\u001b[1;33m\u001b[0m\u001b[0m\n\u001b[0;32m      2\u001b[0m \u001b[0mprint\u001b[0m\u001b[1;33m(\u001b[0m\u001b[1;34m'지금 시간이 '\u001b[0m\u001b[1;33m+\u001b[0m\u001b[0mstr\u001b[0m\u001b[1;33m(\u001b[0m\u001b[1;36m11\u001b[0m\u001b[1;33m)\u001b[0m\u001b[1;33m+\u001b[0m\u001b[1;34m'시입니다.'\u001b[0m\u001b[1;33m)\u001b[0m\u001b[1;33m\u001b[0m\u001b[0m\n\u001b[1;32m----> 3\u001b[1;33m \u001b[1;34m'지금 시간이'\u001b[0m \u001b[1;33m+\u001b[0m \u001b[1;36m11\u001b[0m \u001b[1;33m+\u001b[0m \u001b[1;34m'시입니다.'\u001b[0m \u001b[1;31m#오류\u001b[0m\u001b[1;33m\u001b[0m\u001b[0m\n\u001b[0m",
      "\u001b[1;31mTypeError\u001b[0m: must be str, not int"
     ]
    }
   ],
   "source": [
    "#문자열 연산\n",
    "print('지금 시간이 '+str(11)+'시입니다.')\n",
    "'지금 시간이' + 11 + '시입니다.' #오류"
   ]
  },
  {
   "cell_type": "code",
   "execution_count": 18,
   "metadata": {},
   "outputs": [
    {
     "name": "stdout",
     "output_type": "stream",
     "text": [
      "당신의 나이는? 25\n",
      "당신의 나이는 25\n",
      "당신의 나이는 25살입니다.\n",
      "내년에 당신은 26살입니다.\n"
     ]
    }
   ],
   "source": [
    "# 문자열과 숫자의 간단한 결합. 더 쉬운 방법\n",
    "age = input('당신의 나이는? ')\n",
    "print('당신의 나이는', age)\n",
    "print('당신의 나이는 {0}살입니다.'.format(age))\n",
    "\n",
    "next = int(age)+1\n",
    "print('내년에 당신은 {0}살입니다.'.format(next))"
   ]
  },
  {
   "cell_type": "code",
   "execution_count": 19,
   "metadata": {},
   "outputs": [
    {
     "name": "stdout",
     "output_type": "stream",
     "text": [
      "이름을 입력하세요...: 배지원\n",
      "안녕 배지원\n",
      "The length of your name is 3\n",
      "당신 이름은 3자 입니다.\n",
      "\n",
      "몇 살이세요? 25\n",
      "You will be 26 years old in the next year.\n",
      "내년에 26살이 되시는군요.\n",
      "Bye~~~!\n",
      "\n",
      " 내년에 26살이 되시는군요.\n"
     ]
    }
   ],
   "source": [
    "#Lab 2 - 3 - 3\n",
    "name = input('이름을 입력하세요...: ')\n",
    "print('안녕',name)\n",
    "\n",
    "# 이름을 받는 방법\n",
    "print('The length of your name is',len(name))\n",
    "print('당신 이름은',str(len(name))+'자','입니다.')\n",
    "print()\n",
    "\n",
    "# 사용자로부터 더 나은 값을 받는 방법\n",
    "age = input('몇 살이세요? ')\n",
    "print('You will be',str(int(age)+1),'years old in the next year.')\n",
    "print('내년에',str(int(age)+1)+'살이','되시는군요.')\n",
    "print('Bye~~~!')\n",
    "\n",
    "print('\\n 내년에 {0}살이 되시는군요.'.format(str(int(age)+1)))"
   ]
  },
  {
   "cell_type": "code",
   "execution_count": 25,
   "metadata": {},
   "outputs": [
    {
     "name": "stdout",
     "output_type": "stream",
     "text": [
      "12\n",
      "몇 살이세요? : 25\n",
      "내년에 26살이 되시는 군요. \n",
      "\n",
      "Help on built-in function eval in module builtins:\n",
      "\n",
      "eval(source, globals=None, locals=None, /)\n",
      "    Evaluate the given source in the context of globals and locals.\n",
      "    \n",
      "    The source may be a string representing a Python expression\n",
      "    or a code object as returned by compile().\n",
      "    The globals must be a dictionary and locals can be any mapping,\n",
      "    defaulting to the current globals and locals.\n",
      "    If only globals is given, locals defaults to it.\n",
      "\n"
     ]
    }
   ],
   "source": [
    "#eval함수\n",
    "\n",
    "print(eval(' 5 + 7 '))\n",
    "# eval(5+'7') int와 str이 함께나올수 없음\n",
    "\n",
    "age = eval(input('몇 살이세요? : '))\n",
    "print('내년에 '+ str(age+1) + '살이 되시는 군요. \\n') \n",
    "\n",
    "# print('내년에'+str(age+1)+'살이 되시는 군요.') TypeError: must be str, not int\n",
    "help(eval)"
   ]
  }
 ],
 "metadata": {
  "kernelspec": {
   "display_name": "Python 3",
   "language": "python",
   "name": "python3"
  },
  "language_info": {
   "codemirror_mode": {
    "name": "ipython",
    "version": 3
   },
   "file_extension": ".py",
   "mimetype": "text/x-python",
   "name": "python",
   "nbconvert_exporter": "python",
   "pygments_lexer": "ipython3",
   "version": "3.6.5"
  }
 },
 "nbformat": 4,
 "nbformat_minor": 2
}
