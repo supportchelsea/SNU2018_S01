{
 "cells": [
  {
   "cell_type": "markdown",
   "metadata": {},
   "source": [
    "# [Lab] 3-2 복합자료형 다루기"
   ]
  },
  {
   "cell_type": "code",
   "execution_count": 4,
   "metadata": {},
   "outputs": [],
   "source": [
    "from IPython.core.interactiveshell import InteractiveShell\n",
    "InteractiveShell.ast_node_interactivity = \"all\""
   ]
  },
  {
   "cell_type": "code",
   "execution_count": 9,
   "metadata": {},
   "outputs": [
    {
     "data": {
      "text/plain": [
       "[1, 7, [4, 9], 'f', ('a', 'b'), 'g']"
      ]
     },
     "execution_count": 9,
     "metadata": {},
     "output_type": "execute_result"
    },
    {
     "data": {
      "text/plain": [
       "[('a', 'b'), 'g']"
      ]
     },
     "execution_count": 9,
     "metadata": {},
     "output_type": "execute_result"
    }
   ],
   "source": [
    "# lab 3-2-1\n",
    "#리스트 생성 및 수정\n",
    "\n",
    "list1 = [1,7,[4,9],'f',('a','b')]\n",
    "list1.append('g')\n",
    "list1\n",
    "list1[-2:]"
   ]
  },
  {
   "cell_type": "code",
   "execution_count": 27,
   "metadata": {},
   "outputs": [
    {
     "name": "stdout",
     "output_type": "stream",
     "text": [
      "[['A', 'B', 'C', 'D', 'E', 'F', 'G', 'H', 'I', 'J', 'K', 'L', 'M', 'N', 'O'], ['A', 'B', 'C', 'D', 'E', 'F', 'G', 'H', 'I', 'J', 'K', 'L', 'M', 'N', 'O'], ['A', 'B', 'C', 'D', 'E', 'F', 'G', 'H', 'I', 'J', 'K', 'L', 'M', 'N', 'O']]\n"
     ]
    }
   ],
   "source": [
    "# lab 3-2-2\n",
    "#2차원 리스트\n",
    "\n",
    "list2 =[['a','b','c','d','e'],['f','g','h','i','j'],['k','l','m','n','o']]\n",
    "list3 = []\n",
    "list4 = []\n",
    "\n",
    "for i in range(len(list2)):\n",
    "    for j in range(len(list2[i])):\n",
    "        list3.append(list2[i][j].upper())\n",
    "        if len(list3)%5 == 0:\n",
    "            list4 += [list3]\n",
    "        \n",
    "print(list4)"
   ]
  },
  {
   "cell_type": "code",
   "execution_count": 28,
   "metadata": {},
   "outputs": [
    {
     "data": {
      "text/plain": [
       "True"
      ]
     },
     "execution_count": 28,
     "metadata": {},
     "output_type": "execute_result"
    },
    {
     "data": {
      "text/plain": [
       "False"
      ]
     },
     "execution_count": 28,
     "metadata": {},
     "output_type": "execute_result"
    }
   ],
   "source": [
    "# Lab 3-2-2\n",
    "# 튜플 분할 생성 및 멤버십 연산자\n",
    "atuple = 1,5,(2,3),'green',['드럼','기타']\n",
    "btuple = atuple[-2:]\n",
    "(2,3) in atuple\n",
    "5 in btuple"
   ]
  },
  {
   "cell_type": "code",
   "execution_count": 30,
   "metadata": {},
   "outputs": [
    {
     "data": {
      "text/plain": [
       "{1, 2, 4, 5, 7, 9}"
      ]
     },
     "execution_count": 30,
     "metadata": {},
     "output_type": "execute_result"
    },
    {
     "data": {
      "text/plain": [
       "{2, 7}"
      ]
     },
     "execution_count": 30,
     "metadata": {},
     "output_type": "execute_result"
    }
   ],
   "source": [
    "# lab 3-2-3\n",
    "# 셋 생성 및 연산\n",
    "set1 = {2,4,5,7}\n",
    "set2 = {1,2,7,9}\n",
    "\n",
    "set1 | set2\n",
    "set1 & set2"
   ]
  },
  {
   "cell_type": "code",
   "execution_count": 41,
   "metadata": {},
   "outputs": [
    {
     "data": {
      "text/plain": [
       "{'even': (2, 4, 6, 8, 10),\n",
       " 'odd': (1, 3, 5, 7, 9),\n",
       " 'prime': (2, 3, 5, 7),\n",
       " 'all': (1, 2, 3, 4, 5, 6, 7, 8, 9, 10)}"
      ]
     },
     "execution_count": 41,
     "metadata": {},
     "output_type": "execute_result"
    },
    {
     "data": {
      "text/plain": [
       "{'even': (2, 4, 6, 8, 10),\n",
       " 'prime': (2, 3, 5, 7),\n",
       " 'all': (1, 2, 3, 4, 5, 6, 7, 8, 9, 10)}"
      ]
     },
     "execution_count": 41,
     "metadata": {},
     "output_type": "execute_result"
    }
   ],
   "source": [
    "# lab 3-2-4\n",
    "# 딕셔너리 생성 및 수정\n",
    "\n",
    "d={\n",
    "    'even':(2,4,6,8,10),\n",
    "    'odd': (1,3,5,7,9),\n",
    "    'prime':(2,3,5,7)\n",
    "}\n",
    "\n",
    "d['all'] = (1,2,3,4,5,6,7,8,9,10)\n",
    "d\n",
    "\n",
    "del d['odd']\n",
    "d\n"
   ]
  },
  {
   "cell_type": "code",
   "execution_count": null,
   "metadata": {},
   "outputs": [],
   "source": []
  }
 ],
 "metadata": {
  "kernelspec": {
   "display_name": "Python 3",
   "language": "python",
   "name": "python3"
  },
  "language_info": {
   "codemirror_mode": {
    "name": "ipython",
    "version": 3
   },
   "file_extension": ".py",
   "mimetype": "text/x-python",
   "name": "python",
   "nbconvert_exporter": "python",
   "pygments_lexer": "ipython3",
   "version": "3.6.5"
  }
 },
 "nbformat": 4,
 "nbformat_minor": 2
}
