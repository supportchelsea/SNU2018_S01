{
 "cells": [
  {
   "cell_type": "markdown",
   "metadata": {},
   "source": [
    "# [Lab] 4 제어문\n",
    "1. if 조건문\n",
    "2. while 순환문\n",
    "3. for 순환문\n",
    "4. 예외처리\n"
   ]
  },
  {
   "cell_type": "code",
   "execution_count": 1,
   "metadata": {},
   "outputs": [],
   "source": [
    "from IPython.core.interactiveshell import InteractiveShell\n",
    "InteractiveShell.ast_node_interactivity = \"all\""
   ]
  },
  {
   "cell_type": "markdown",
   "metadata": {},
   "source": [
    "## 1. if 조건문\n"
   ]
  },
  {
   "cell_type": "code",
   "execution_count": 1,
   "metadata": {},
   "outputs": [
    {
     "name": "stdout",
     "output_type": "stream",
     "text": [
      "x를 입력하세요: 7\n",
      "y를 입력하세요: 5\n",
      "x가 y보다 큽니다.\n"
     ]
    }
   ],
   "source": [
    "#Lab 4-1\n",
    "# 두정수비교\n",
    "\n",
    "x=input('x를 입력하세요: ')\n",
    "y=input('y를 입력하세요: ')\n",
    "if x > y:\n",
    "    print('x가 y보다 큽니다.')\n",
    "elif x == y:\n",
    "    print('x와 y가 같습니다.')\n",
    "else:\n",
    "    print('x가 y보다 작습니다.')"
   ]
  },
  {
   "cell_type": "code",
   "execution_count": 1,
   "metadata": {},
   "outputs": [
    {
     "name": "stdout",
     "output_type": "stream",
     "text": [
      "x를 입력하세요.: 7\n",
      "y를 입력하세요.: 5\n",
      "x가 y보다 큽니다.\n"
     ]
    }
   ],
   "source": [
    "# 간편 반복문 - 두개만하고 싶을 때\n",
    "# if 와 else밖에 못함\n",
    "x = input('x를 입력하세요.: ')\n",
    "y = input('y를 입력하세요.: ')\n",
    "s  = '{}가 {}보다 큽니다.'\n",
    "print( s.format('x','y') if x > y else  s.format('y','x'))"
   ]
  },
  {
   "cell_type": "code",
   "execution_count": 2,
   "metadata": {},
   "outputs": [
    {
     "name": "stdout",
     "output_type": "stream",
     "text": [
      "x를 입력하세요: 5\n",
      "y를 입력하세요: 4\n",
      "odd\n"
     ]
    }
   ],
   "source": [
    "#Lab 4-2 \n",
    "#나머지 구하기\n",
    "\n",
    "x=int(input('x를 입력하세요: '))\n",
    "y=int(input('y를 입력하세요: '))\n",
    "if x%y== 0:\n",
    "    print('zero')\n",
    "elif (x % y)%2 == 0:\n",
    "    print('even')\n",
    "else:\n",
    "    print('odd')"
   ]
  },
  {
   "cell_type": "code",
   "execution_count": 3,
   "metadata": {},
   "outputs": [
    {
     "name": "stdout",
     "output_type": "stream",
     "text": [
      "x를 입력하세요: 5\n",
      "y를 입력하세요: 4\n",
      "odd\n"
     ]
    }
   ],
   "source": [
    "#중첩 if 문 이용\n",
    "x=int(input('x를 입력하세요: '))\n",
    "y=int(input('y를 입력하세요: '))\n",
    "\n",
    "if x%y != 0:\n",
    "    if (x%y)%2 == 0:\n",
    "        print('even')\n",
    "    else:\n",
    "        print('odd')\n",
    "else:\n",
    "    print('zero')"
   ]
  },
  {
   "cell_type": "code",
   "execution_count": 9,
   "metadata": {},
   "outputs": [
    {
     "name": "stdout",
     "output_type": "stream",
     "text": [
      "5 is in t\n"
     ]
    }
   ],
   "source": [
    "#Lab 4-3\n",
    "# 항목 검색\n",
    "\n",
    "t = (1,3,5,7,'a','b','c')\n",
    "if 5 in t:\n",
    "    print('5 is in t')\n",
    "elif d in t:\n",
    "    print('d is in t')"
   ]
  },
  {
   "cell_type": "markdown",
   "metadata": {},
   "source": [
    "## 2. while 순환문\n"
   ]
  },
  {
   "cell_type": "code",
   "execution_count": 23,
   "metadata": {},
   "outputs": [
    {
     "name": "stdout",
     "output_type": "stream",
     "text": [
      "1\n",
      "3\n",
      "5\n",
      "7\n",
      "9\n"
     ]
    }
   ],
   "source": [
    "# lab 4-4\n",
    "# 홀수만 출력하는 while문\n",
    "integers = [1,2,3,4,5,6,7,8,9,10]\n",
    "i = 0\n",
    "while i < len(integers):\n",
    "    if integers[i]%2 == 1:\n",
    "        print(integers[i])\n",
    "        i += 1\n",
    "    else:\n",
    "        i += 1"
   ]
  },
  {
   "cell_type": "code",
   "execution_count": 29,
   "metadata": {
    "scrolled": true
   },
   "outputs": [
    {
     "name": "stdout",
     "output_type": "stream",
     "text": [
      "pink\n",
      "purple\n"
     ]
    }
   ],
   "source": [
    "# Lab 4-5\n",
    "#while문과 문자열 출력\n",
    "\n",
    "colors = ['red','blue','pink','green','yellow','purple']\n",
    "k = 0\n",
    "while k <len(colors):\n",
    "    if (colors[k][0])=='p':\n",
    "        print(colors[k])\n",
    "        k += 1\n",
    "    \n",
    "    else:\n",
    "        k += 1\n"
   ]
  },
  {
   "cell_type": "code",
   "execution_count": 16,
   "metadata": {
    "scrolled": true
   },
   "outputs": [
    {
     "name": "stdout",
     "output_type": "stream",
     "text": [
      "pink\n",
      "purple\n"
     ]
    }
   ],
   "source": [
    "# pythonic way\n",
    "\n",
    "colors = ['red','blue','pink','green','yellow','purple']\n",
    "k = 0\n",
    "while k <len(colors):\n",
    "    if colors[k].startswith('p'):\n",
    "        print(colors[k])\n",
    "        k += 1\n",
    "    else:\n",
    "        k += 1"
   ]
  },
  {
   "cell_type": "code",
   "execution_count": 3,
   "metadata": {},
   "outputs": [
    {
     "name": "stdout",
     "output_type": "stream",
     "text": [
      "과일 이름을 입력하세요...: ㅊㅔ리\n",
      "과일 목록에 존재하지 않습니다.\n"
     ]
    }
   ],
   "source": [
    "# Lab 4-6\n",
    "# while 문으로 과일 검색\n",
    "fruits = ['사과','딸기','바나나','블루베리','포도']\n",
    "\n",
    "name = input('과일 이름을 입력하세요...: ')\n",
    "prompt = '과일 목록의 {}번째에 존재합니다.'\n",
    "\n",
    "i = 0\n",
    "\n",
    "while i < len(fruits):\n",
    "    if name in fruits :\n",
    "        if fruits[i] == name:\n",
    "            print(prompt.format((i+1)))\n",
    "            i+=1\n",
    "            continue\n",
    "            \n",
    "        else :\n",
    "            i+=1\n",
    "            continue\n",
    "        \n",
    "    else :\n",
    "        print('과일 목록에 존재하지 않습니다.')\n",
    "        break"
   ]
  },
  {
   "cell_type": "code",
   "execution_count": 51,
   "metadata": {},
   "outputs": [
    {
     "name": "stdout",
     "output_type": "stream",
     "text": [
      "과일 이름을 입력하세요...: 바나나\n",
      "과일 목록에 존재하지 않습니다.\n"
     ]
    }
   ],
   "source": [
    "#정답\n",
    "fruits = ['사과','딸기','바나나','블루베리','포도']\n",
    "\n",
    "name = input('과일 이름을 입력하세요...: ')\n",
    "prompt = '과일 목록의 {}번째에 존재합니다.'\n",
    "index = 0\n",
    "\n",
    "while index < len(fruits):\n",
    "    if fruits[index] == name:\n",
    "        print(prompt.format((index+1)))   \n",
    "        index += 1\n",
    "    \n",
    "    else :\n",
    "        print('과일 목록에 존재하지 않습니다.')\n",
    "        break"
   ]
  },
  {
   "cell_type": "code",
   "execution_count": 57,
   "metadata": {},
   "outputs": [
    {
     "name": "stdout",
     "output_type": "stream",
     "text": [
      "과일 이름을 입력하세요...: 사과\n",
      "과일 목록의 1번째에 존재합니다.\n"
     ]
    }
   ],
   "source": [
    "# Lab 4-6\n",
    "# while 문으로 과일 검색\n",
    "fruits = ['사과','딸기','바나나','블루베리','포도']\n",
    "\n",
    "name = input('과일 이름을 입력하세요...: ')\n",
    "prompt = '과일 목록의 {}번째에 존재합니다.'\n",
    "\n",
    "i = 0\n",
    "\n",
    "while i < len(fruits):\n",
    "    if name in fruits :\n",
    "        if fruits[i] == name:\n",
    "            print(prompt.format((i+1)))\n",
    "            i+=1\n",
    "            continue\n",
    "            \n",
    "        else :\n",
    "            i+=1\n",
    "            continue\n",
    "        \n",
    "    else :\n",
    "        print('과일 목록에 존재하지 않습니다.')\n",
    "        print(prompt.format((index+1)))\n",
    "        break"
   ]
  },
  {
   "cell_type": "markdown",
   "metadata": {},
   "source": [
    "## 3. for 순환문\n"
   ]
  },
  {
   "cell_type": "code",
   "execution_count": 45,
   "metadata": {},
   "outputs": [
    {
     "name": "stdout",
     "output_type": "stream",
     "text": [
      "1\n",
      "3\n",
      "5\n",
      "7\n",
      "9\n"
     ]
    }
   ],
   "source": [
    "# Lab 4-7\n",
    "# 홀수만 출력하는 for\n",
    "integers = [1,2,3,4,5,6,7,8,9,10]\n",
    "for i in range(10):\n",
    "    if integers[i]%2 == 1:\n",
    "        print(integers[i])"
   ]
  },
  {
   "cell_type": "code",
   "execution_count": 58,
   "metadata": {},
   "outputs": [
    {
     "data": {
      "text/plain": [
       "<enumerate at 0x1026c1d80>"
      ]
     },
     "execution_count": 58,
     "metadata": {},
     "output_type": "execute_result"
    },
    {
     "name": "stdout",
     "output_type": "stream",
     "text": [
      "1\n",
      "3\n",
      "5\n",
      "7\n",
      "9\n"
     ]
    }
   ],
   "source": [
    "integers = list(range(1,10))\n",
    "enumerate(integers)\n",
    "\n",
    "for  _ ,i in enumerate(integers):\n",
    "    if i%2 == 1:\n",
    "        print(i)"
   ]
  },
  {
   "cell_type": "code",
   "execution_count": 46,
   "metadata": {},
   "outputs": [
    {
     "name": "stdout",
     "output_type": "stream",
     "text": [
      "pink\n",
      "purple\n"
     ]
    }
   ],
   "source": [
    "# Lab 4 -8\n",
    "#for 문과 문자열 출력\n",
    "\n",
    "colors = ['red','blue','pink','green','yellow','purple']\n",
    "\n",
    "for i in range(len(colors)):\n",
    "    if colors[i][0]=='p':\n",
    "        print(colors[i])"
   ]
  },
  {
   "cell_type": "code",
   "execution_count": 10,
   "metadata": {},
   "outputs": [
    {
     "name": "stdout",
     "output_type": "stream",
     "text": [
      "pink\n",
      "purple\n"
     ]
    }
   ],
   "source": [
    "#pythonic way\n",
    "\n",
    "colors = ['red','blue','pink','green','yellow','purple']\n",
    "\n",
    "for color in colors: #그대로 가져가기!\n",
    "    if color.startswith('p'):\n",
    "        print(color)"
   ]
  },
  {
   "cell_type": "code",
   "execution_count": 16,
   "metadata": {
    "scrolled": true
   },
   "outputs": [
    {
     "name": "stdout",
     "output_type": "stream",
     "text": [
      "['A', 'B', 'C', 'D', 'E', 'F', 'G', 'H', 'I', 'J', 'K', 'L', 'M', 'N', 'O']\n"
     ]
    }
   ],
   "source": [
    "# Lab 4 -9\n",
    "# 2차원 리스트\n",
    "alpabet = [['A','B','C','D','E'],\n",
    "           ['F','G','H','I','J'],\n",
    "           ['K','L','M','N','O']]\n",
    "alpabet_low = []\n",
    "\n",
    "for i in range(len(alpabet)):\n",
    "    for k in range(len(alpabet[i])):\n",
    "        alpabet_low.append(alpabet[i][k])\n",
    "        if al\n",
    "\n",
    "if len(alpabet_low)%5 == 0:\n",
    "    alpabet_low\n",
    "    \n",
    "print(alpabet_low) "
   ]
  },
  {
   "cell_type": "code",
   "execution_count": 23,
   "metadata": {},
   "outputs": [
    {
     "ename": "IndexError",
     "evalue": "list index out of range",
     "output_type": "error",
     "traceback": [
      "\u001b[0;31m---------------------------------------------------------------------------\u001b[0m",
      "\u001b[0;31mIndexError\u001b[0m                                Traceback (most recent call last)",
      "\u001b[0;32m<ipython-input-23-8a25125cbfc7>\u001b[0m in \u001b[0;36m<module>\u001b[0;34m()\u001b[0m\n\u001b[1;32m      7\u001b[0m \u001b[0;32mfor\u001b[0m \u001b[0mi\u001b[0m\u001b[0;34m,\u001b[0m\u001b[0mj\u001b[0m \u001b[0;32min\u001b[0m \u001b[0menumerate\u001b[0m\u001b[0;34m(\u001b[0m\u001b[0malpabet\u001b[0m\u001b[0;34m)\u001b[0m\u001b[0;34m:\u001b[0m\u001b[0;34m\u001b[0m\u001b[0m\n\u001b[1;32m      8\u001b[0m     \u001b[0;32mfor\u001b[0m \u001b[0mk\u001b[0m \u001b[0;32min\u001b[0m \u001b[0mrange\u001b[0m\u001b[0;34m(\u001b[0m\u001b[0mlen\u001b[0m\u001b[0;34m(\u001b[0m\u001b[0malpabet\u001b[0m\u001b[0;34m[\u001b[0m\u001b[0;36m0\u001b[0m\u001b[0;34m]\u001b[0m\u001b[0;34m)\u001b[0m\u001b[0;34m)\u001b[0m\u001b[0;34m:\u001b[0m\u001b[0;34m\u001b[0m\u001b[0m\n\u001b[0;32m----> 9\u001b[0;31m         \u001b[0malpabet_low\u001b[0m\u001b[0;34m[\u001b[0m\u001b[0mk\u001b[0m\u001b[0;34m]\u001b[0m \u001b[0;34m+=\u001b[0m \u001b[0mj\u001b[0m\u001b[0;34m[\u001b[0m\u001b[0mk\u001b[0m\u001b[0;34m]\u001b[0m\u001b[0;34m.\u001b[0m\u001b[0mlower\u001b[0m\u001b[0;34m(\u001b[0m\u001b[0;34m)\u001b[0m\u001b[0;34m\u001b[0m\u001b[0m\n\u001b[0m\u001b[1;32m     10\u001b[0m         \u001b[0;32mif\u001b[0m \u001b[0;34m(\u001b[0m\u001b[0mi\u001b[0m \u001b[0;34m+\u001b[0m \u001b[0;36m1\u001b[0m\u001b[0;34m)\u001b[0m\u001b[0;34m%\u001b[0m\u001b[0;36m5\u001b[0m \u001b[0;34m==\u001b[0m \u001b[0;36m0\u001b[0m\u001b[0;34m:\u001b[0m\u001b[0;34m\u001b[0m\u001b[0m\n\u001b[1;32m     11\u001b[0m             \u001b[0mk\u001b[0m \u001b[0;34m+=\u001b[0m \u001b[0;36m1\u001b[0m\u001b[0;34m\u001b[0m\u001b[0m\n",
      "\u001b[0;31mIndexError\u001b[0m: list index out of range"
     ]
    }
   ],
   "source": [
    "alpabet = [['A','B','C','D','E'],\n",
    "           ['F','G','H','I','J'],\n",
    "           ['K','L','M','N','O']]\n",
    "k = 0\n",
    "alpabet_low = [[]]\n",
    "\n",
    "for i,j in enumerate(alpabet):\n",
    "    for k in range(len(alpabet[0])):\n",
    "        alpabet_low[k] += j[k].lower()\n",
    "        if (i + 1)%5 == 0:\n",
    "            k += 1"
   ]
  },
  {
   "cell_type": "code",
   "execution_count": 79,
   "metadata": {},
   "outputs": [
    {
     "data": {
      "text/plain": [
       "[['A', 'B', 'C', 'D', 'E'],\n",
       " ['F', 'G', 'H', 'I', 'J'],\n",
       " ['K', 'L', 'M', 'N', 'O']]"
      ]
     },
     "execution_count": 79,
     "metadata": {},
     "output_type": "execute_result"
    },
    {
     "data": {
      "text/plain": [
       "3"
      ]
     },
     "execution_count": 79,
     "metadata": {},
     "output_type": "execute_result"
    },
    {
     "data": {
      "text/plain": [
       "5"
      ]
     },
     "execution_count": 79,
     "metadata": {},
     "output_type": "execute_result"
    }
   ],
   "source": [
    "alpabet = [['A','B','C','D','E'],\n",
    "           ['F','G','H','I','J'],\n",
    "           ['K','L','M','N','O']]\n",
    "alpabet\n",
    "len(alpabet)\n",
    "len(alpabet[1])"
   ]
  },
  {
   "cell_type": "code",
   "execution_count": 118,
   "metadata": {
    "scrolled": true
   },
   "outputs": [
    {
     "name": "stdout",
     "output_type": "stream",
     "text": [
      "2 4 6 8 10 12 14 16 18 \n",
      "3 6 9 12 15 18 21 24 27 \n",
      "4 8 12 16 20 24 28 32 36 \n",
      "5 10 15 20 25 30 35 40 45 \n",
      "6 12 18 24 30 36 42 48 54 \n",
      "7 14 21 28 35 42 49 56 63 \n",
      "8 16 24 32 40 48 56 64 72 \n",
      "9 18 27 36 45 54 63 72 81 \n"
     ]
    }
   ],
   "source": [
    "#Lab 4 - 10\n",
    "#구구단 출력\n",
    "for i in range(1,9):\n",
    "    for k in range(1,10):\n",
    "        n=0\n",
    "        n=(i+1)*k\n",
    "        print(n,end=\" \")\n",
    "        k += 1\n",
    "    if k == 8:\n",
    "        n=(i+1)*k\n",
    "        k = 0\n",
    "        print(n)\n",
    "        \n",
    "    print()\n",
    "\n"
   ]
  },
  {
   "cell_type": "code",
   "execution_count": 2,
   "metadata": {},
   "outputs": [
    {
     "name": "stdout",
     "output_type": "stream",
     "text": [
      "구구단을 외자 : 2x1=2\n",
      "구구단을 외자 : 2x2=4\n",
      "구구단을 외자 : 2x3=6\n",
      "구구단을 외자 : 2x4=8\n",
      "구구단을 외자 : 2x5=10\n",
      "구구단을 외자 : 2x6=12\n",
      "구구단을 외자 : 2x7=14\n",
      "구구단을 외자 : 2x8=16\n",
      "구구단을 외자 : 2x9=18\n",
      "\n",
      "구구단을 외자 : 3x1=3\n",
      "구구단을 외자 : 3x2=6\n",
      "구구단을 외자 : 3x3=9\n",
      "구구단을 외자 : 3x4=12\n",
      "구구단을 외자 : 3x5=15\n",
      "구구단을 외자 : 3x6=18\n",
      "구구단을 외자 : 3x7=21\n",
      "구구단을 외자 : 3x8=24\n",
      "구구단을 외자 : 3x9=27\n",
      "\n",
      "구구단을 외자 : 4x1=4\n",
      "구구단을 외자 : 4x2=8\n",
      "구구단을 외자 : 4x3=12\n",
      "구구단을 외자 : 4x4=16\n",
      "구구단을 외자 : 4x5=20\n",
      "구구단을 외자 : 4x6=24\n",
      "구구단을 외자 : 4x7=28\n",
      "구구단을 외자 : 4x8=32\n",
      "구구단을 외자 : 4x9=36\n",
      "\n",
      "구구단을 외자 : 5x1=5\n",
      "구구단을 외자 : 5x2=10\n",
      "구구단을 외자 : 5x3=15\n",
      "구구단을 외자 : 5x4=20\n",
      "구구단을 외자 : 5x5=25\n",
      "구구단을 외자 : 5x6=30\n",
      "구구단을 외자 : 5x7=35\n",
      "구구단을 외자 : 5x8=40\n",
      "구구단을 외자 : 5x9=45\n",
      "\n",
      "구구단을 외자 : 6x1=6\n",
      "구구단을 외자 : 6x2=12\n",
      "구구단을 외자 : 6x3=18\n",
      "구구단을 외자 : 6x4=24\n",
      "구구단을 외자 : 6x5=30\n",
      "구구단을 외자 : 6x6=36\n",
      "구구단을 외자 : 6x7=42\n",
      "구구단을 외자 : 6x8=48\n",
      "구구단을 외자 : 6x9=54\n",
      "\n",
      "구구단을 외자 : 7x1=7\n",
      "구구단을 외자 : 7x2=14\n",
      "구구단을 외자 : 7x3=21\n",
      "구구단을 외자 : 7x4=28\n",
      "구구단을 외자 : 7x5=35\n",
      "구구단을 외자 : 7x6=42\n",
      "구구단을 외자 : 7x7=49\n",
      "구구단을 외자 : 7x8=56\n",
      "구구단을 외자 : 7x9=63\n",
      "\n",
      "구구단을 외자 : 8x1=8\n",
      "구구단을 외자 : 8x2=16\n",
      "구구단을 외자 : 8x3=24\n",
      "구구단을 외자 : 8x4=32\n",
      "구구단을 외자 : 8x5=40\n",
      "구구단을 외자 : 8x6=48\n",
      "구구단을 외자 : 8x7=56\n",
      "구구단을 외자 : 8x8=64\n",
      "구구단을 외자 : 8x9=72\n",
      "\n",
      "구구단을 외자 : 9x1=9\n",
      "구구단을 외자 : 9x2=18\n",
      "구구단을 외자 : 9x3=27\n",
      "구구단을 외자 : 9x4=36\n",
      "구구단을 외자 : 9x5=45\n",
      "구구단을 외자 : 9x6=54\n",
      "구구단을 외자 : 9x7=63\n",
      "구구단을 외자 : 9x8=72\n",
      "구구단을 외자 : 9x9=81\n",
      "\n"
     ]
    }
   ],
   "source": [
    "pairs = dict(((x,y),x*y) for x in range(2,10) for y in range(1,10))\n",
    "# pairs\n",
    "\n",
    "# k = enumerate(pairs)\n",
    "for i,j in pairs.items(): #그냥 pair시에는 디폴트 key\n",
    "#     print(i,j)\n",
    "    print( '구구단을 외자 : {}x{}={}'.format(i[0],i[1],j))\n",
    "    if i[1] == 9:\n",
    "        print()"
   ]
  },
  {
   "cell_type": "code",
   "execution_count": 3,
   "metadata": {},
   "outputs": [
    {
     "name": "stdout",
     "output_type": "stream",
     "text": [
      "2x1=2 3x1=3 4x1=4 5x1=5 6x1=6 7x1=7 8x1=8 9x1=9 \n",
      "2x2=4 3x2=6 4x2=8 5x2=10 6x2=12 7x2=14 8x2=16 9x2=18 \n",
      "2x3=6 3x3=9 4x3=12 5x3=15 6x3=18 7x3=21 8x3=24 9x3=27 \n",
      "2x4=8 3x4=12 4x4=16 5x4=20 6x4=24 7x4=28 8x4=32 9x4=36 \n",
      "2x5=10 3x5=15 4x5=20 5x5=25 6x5=30 7x5=35 8x5=40 9x5=45 \n",
      "2x6=12 3x6=18 4x6=24 5x6=30 6x6=36 7x6=42 8x6=48 9x6=54 \n",
      "2x7=14 3x7=21 4x7=28 5x7=35 6x7=42 7x7=49 8x7=56 9x7=63 \n",
      "2x8=16 3x8=24 4x8=32 5x8=40 6x8=48 7x8=56 8x8=64 9x8=72 \n",
      "2x9=18 3x9=27 4x9=36 5x9=45 6x9=54 7x9=63 8x9=72 9x9=81 \n"
     ]
    }
   ],
   "source": [
    "for y in range(1,10):\n",
    "    for x in range(2,10):\n",
    "        print('{}x{}={}'.format(x,y,x*y), end=' ')\n",
    "        if x == 9:\n",
    "            print()    "
   ]
  },
  {
   "cell_type": "code",
   "execution_count": 27,
   "metadata": {},
   "outputs": [
    {
     "name": "stdout",
     "output_type": "stream",
     "text": [
      "[2000, 2004, 2008, 2012, 2016, 2020, 2024, 2028, 2032, 2036, 2040, 2044, 2048, 2052, 2056, 2060, 2064, 2068, 2072, 2076, 2080, 2084, 2088, 2092, 2096, 2104, 2108, 2112, 2116, 2120, 2124, 2128, 2132, 2136, 2140, 2144, 2148, 2152, 2156, 2160, 2164, 2168, 2172, 2176, 2180, 2184, 2188, 2192, 2196, 2204, 2208, 2212, 2216, 2220, 2224, 2228, 2232, 2236, 2240, 2244, 2248, 2252, 2256, 2260, 2264, 2268, 2272, 2276, 2280, 2284, 2288, 2292, 2296, 2304, 2308, 2312, 2316, 2320, 2324, 2328, 2332, 2336, 2340, 2344, 2348, 2352, 2356, 2360, 2364, 2368, 2372, 2376, 2380, 2384, 2388, 2392, 2396, 2400, 2404, 2408, 2412, 2416, 2420, 2424, 2428, 2432, 2436, 2440, 2444, 2448, 2452, 2456, 2460, 2464, 2468, 2472, 2476, 2480, 2484, 2488, 2492, 2496, 2504, 2508, 2512, 2516, 2520, 2524, 2528, 2532, 2536, 2540, 2544, 2548, 2552, 2556, 2560, 2564, 2568, 2572, 2576, 2580, 2584, 2588, 2592, 2596, 2604, 2608, 2612, 2616, 2620, 2624, 2628, 2632, 2636, 2640, 2644, 2648, 2652, 2656, 2660, 2664, 2668, 2672, 2676, 2680, 2684, 2688, 2692, 2696, 2704, 2708, 2712, 2716, 2720, 2724, 2728, 2732, 2736, 2740, 2744, 2748, 2752, 2756, 2760, 2764, 2768, 2772, 2776, 2780, 2784, 2788, 2792, 2796, 2800, 2804, 2808, 2812, 2816, 2820, 2824, 2828, 2832, 2836, 2840, 2844, 2848, 2852, 2856, 2860, 2864, 2868, 2872, 2876, 2880, 2884, 2888, 2892, 2896, 2904, 2908, 2912, 2916, 2920, 2924, 2928, 2932, 2936, 2940, 2944, 2948, 2952, 2956, 2960, 2964, 2968, 2972, 2976, 2980, 2984, 2988, 2992, 2996]\n"
     ]
    }
   ],
   "source": [
    "# Lab 4 - 11\n",
    "# 윤년 계산기\n",
    "k = 0\n",
    "year = []\n",
    "\n",
    "for i in range(2000,3001):\n",
    "    if ((i%4 == 0) & (i%100 != 0)) :\n",
    "        year.append(i)\n",
    " \n",
    "    elif ((i%400 == 0) & (i%100 == 0)) :\n",
    "        year.append(i)\n",
    "        k += 1\n",
    "        \n",
    "print(year)\n",
    "    \n"
   ]
  },
  {
   "cell_type": "code",
   "execution_count": 33,
   "metadata": {},
   "outputs": [
    {
     "name": "stdout",
     "output_type": "stream",
     "text": [
      "John's salary is 50,000\n",
      "Rita's salary is 70,000\n"
     ]
    }
   ],
   "source": [
    "# Lab 4 -12\n",
    "# 딕셔너리 항목 필터링\n",
    "\n",
    "salary = dict({\n",
    "    'David':30000,\n",
    "    'John':50000,\n",
    "    'Andrew':45000,\n",
    "    'Rita':70000,\n",
    "    'Michael':10000})\n",
    "\n",
    "for key,value in salary.items() :\n",
    "    if int(value) >= 50000:\n",
    "        print ( '{}\\'s salary is {:,}'.format(key,value))"
   ]
  },
  {
   "cell_type": "code",
   "execution_count": 32,
   "metadata": {
    "scrolled": false
   },
   "outputs": [
    {
     "name": "stdout",
     "output_type": "stream",
     "text": [
      "John's salary is 50,000\n",
      "Rita's salary is 70,000\n"
     ]
    }
   ],
   "source": [
    "for key,value in salary.items() :\n",
    "    if int(value) >= 50000:\n",
    "        print ( '{}\\'s salary is {:,}'.format(key,value))"
   ]
  },
  {
   "cell_type": "code",
   "execution_count": 48,
   "metadata": {},
   "outputs": [
    {
     "name": "stdout",
     "output_type": "stream",
     "text": [
      "과일 이름을 입력하세요...: 사과\n",
      "과일 목록의 1번째에 존재합니다.\n"
     ]
    }
   ],
   "source": [
    "# lab 4 -13\n",
    "# for문으로 과일 검색\n",
    "fruits = ['사과','딸기','바나나','블루베리','포도']\n",
    "name = input('과일 이름을 입력하세요...: ')\n",
    "fruits_list = []\n",
    "for i, j in enumerate(fruits) :\n",
    "     if name == j :\n",
    "        fruits_list.append(i+1)\n",
    "        \n",
    "if len(fruits_list) == 0 :\n",
    "    print('과일 목록에 존재하지 않습니다.')\n",
    "    \n",
    "for i in range(len(fruits_list)) :\n",
    "    print('과일 목록의 {}번째에 존재합니다.'.format(fruits_list[i]))"
   ]
  },
  {
   "cell_type": "markdown",
   "metadata": {},
   "source": [
    "## 4. 예외처리"
   ]
  },
  {
   "cell_type": "code",
   "execution_count": 64,
   "metadata": {},
   "outputs": [
    {
     "name": "stdout",
     "output_type": "stream",
     "text": [
      "과일 이름을 입력하세요...: 과자\n",
      "과일 목록에 존재하지 않습니다.\n"
     ]
    }
   ],
   "source": [
    "# lab 4 -14\n",
    "# try / except 문으로 과일 검색\n",
    "\n",
    "fruits = ['사과','딸기','바나나','블루베리','포도']\n",
    "name = input('과일 이름을 입력하세요...: ')\n",
    "fruits_list = []\n",
    "try :\n",
    "    for i in range(len(fruits)):\n",
    "        if fruits[i] == name:\n",
    "            print('과일 목록의 {}번째에 존재합니다.'.format(i+1))\n",
    "            break\n",
    "    else:\n",
    "        raise ValueError\n",
    "except ValueError:\n",
    "    print('과일 목록에 존재하지 않습니다.')"
   ]
  },
  {
   "cell_type": "code",
   "execution_count": null,
   "metadata": {},
   "outputs": [],
   "source": [
    "# lab 4 - 15\n",
    "# 소수 판별\n",
    "i = 1\n",
    "try:\n",
    "    while True:\n",
    "        in_value = input('임의의 양의 정수를 입력하세요: ')\n",
    "        if ( in_value =< 0 | type(in_value) != int ):\n",
    "            raise ValueError\n",
    "            print('ValueError: 1보다 큰 양의 정수를 입력하세요.')\n",
    "        else:\n",
    "            if n < 2\n",
    "            "
   ]
  },
  {
   "cell_type": "code",
   "execution_count": null,
   "metadata": {},
   "outputs": [],
   "source": []
  },
  {
   "cell_type": "code",
   "execution_count": null,
   "metadata": {},
   "outputs": [],
   "source": []
  }
 ],
 "metadata": {
  "kernelspec": {
   "display_name": "Python 3",
   "language": "python",
   "name": "python3"
  },
  "language_info": {
   "codemirror_mode": {
    "name": "ipython",
    "version": 3
   },
   "file_extension": ".py",
   "mimetype": "text/x-python",
   "name": "python",
   "nbconvert_exporter": "python",
   "pygments_lexer": "ipython3",
   "version": "3.6.5"
  }
 },
 "nbformat": 4,
 "nbformat_minor": 2
}
