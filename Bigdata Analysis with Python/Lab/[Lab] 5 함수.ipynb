{
 "cells": [
  {
   "cell_type": "markdown",
   "metadata": {},
   "source": [
    "# [Lab] 5 -1 함수\n",
    "1. 함수와 전달인자\n",
    "2. 내장함수\n",
    "3. 사용자 함수"
   ]
  },
  {
   "cell_type": "code",
   "execution_count": 42,
   "metadata": {},
   "outputs": [],
   "source": [
    "from IPython.core.interactiveshell import InteractiveShell\n",
    "InteractiveShell.ast_node_interactivity = \"all\""
   ]
  },
  {
   "cell_type": "code",
   "execution_count": null,
   "metadata": {},
   "outputs": [],
   "source": []
  },
  {
   "cell_type": "code",
   "execution_count": null,
   "metadata": {},
   "outputs": [],
   "source": []
  },
  {
   "cell_type": "code",
   "execution_count": 7,
   "metadata": {},
   "outputs": [],
   "source": [
    "# lab 5-1-1\n",
    "# 전달인자로 함수조작\n",
    "def listed():\n",
    "    l = list(range(1))\n",
    "    for i in range(1,101) :\n",
    "            k.append(i)\n",
    "    print(k)"
   ]
  },
  {
   "cell_type": "code",
   "execution_count": 8,
   "metadata": {},
   "outputs": [
    {
     "name": "stdout",
     "output_type": "stream",
     "text": [
      "[1, 2, 3, 4, 5, 6, 7, 8, 9, 10, 11, 12, 13, 14, 15, 16, 17, 18, 19, 20, 21, 22, 23, 24, 25, 26, 27, 28, 29, 30, 31, 32, 33, 34, 35, 36, 37, 38, 39, 40, 41, 42, 43, 44, 45, 46, 47, 48, 49, 50, 51, 52, 53, 54, 55, 56, 57, 58, 59, 60, 61, 62, 63, 64, 65, 66, 67, 68, 69, 70, 71, 72, 73, 74, 75, 76, 77, 78, 79, 80, 81, 82, 83, 84, 85, 86, 87, 88, 89, 90, 91, 92, 93, 94, 95, 96, 97, 98, 99, 100]\n"
     ]
    }
   ],
   "source": [
    "listed()"
   ]
  },
  {
   "cell_type": "code",
   "execution_count": 13,
   "metadata": {},
   "outputs": [],
   "source": [
    "# lab 5-1-1\n",
    "# 전달인자로 함수조작\n",
    "def listed():\n",
    "    l = list(range(1,101))\n",
    "    for i in range(len(l)) :\n",
    "            l.append(i)\n",
    "    print(l)"
   ]
  },
  {
   "cell_type": "code",
   "execution_count": 14,
   "metadata": {},
   "outputs": [
    {
     "name": "stdout",
     "output_type": "stream",
     "text": [
      "[1, 2, 3, 4, 5, 6, 7, 8, 9, 10, 11, 12, 13, 14, 15, 16, 17, 18, 19, 20, 21, 22, 23, 24, 25, 26, 27, 28, 29, 30, 31, 32, 33, 34, 35, 36, 37, 38, 39, 40, 41, 42, 43, 44, 45, 46, 47, 48, 49, 50, 51, 52, 53, 54, 55, 56, 57, 58, 59, 60, 61, 62, 63, 64, 65, 66, 67, 68, 69, 70, 71, 72, 73, 74, 75, 76, 77, 78, 79, 80, 81, 82, 83, 84, 85, 86, 87, 88, 89, 90, 91, 92, 93, 94, 95, 96, 97, 98, 99, 100, 0, 1, 2, 3, 4, 5, 6, 7, 8, 9, 10, 11, 12, 13, 14, 15, 16, 17, 18, 19, 20, 21, 22, 23, 24, 25, 26, 27, 28, 29, 30, 31, 32, 33, 34, 35, 36, 37, 38, 39, 40, 41, 42, 43, 44, 45, 46, 47, 48, 49, 50, 51, 52, 53, 54, 55, 56, 57, 58, 59, 60, 61, 62, 63, 64, 65, 66, 67, 68, 69, 70, 71, 72, 73, 74, 75, 76, 77, 78, 79, 80, 81, 82, 83, 84, 85, 86, 87, 88, 89, 90, 91, 92, 93, 94, 95, 96, 97, 98, 99]\n"
     ]
    }
   ],
   "source": [
    "listed()"
   ]
  },
  {
   "cell_type": "code",
   "execution_count": 15,
   "metadata": {},
   "outputs": [
    {
     "name": "stdout",
     "output_type": "stream",
     "text": [
      "[2, 3, 4, 5, 6, 7, 8, 9, 10, 11, 12, 13, 14, 15, 16, 17, 18, 19, 20, 21, 22, 23, 24, 25, 26, 27, 28, 29, 30, 31, 32, 33, 34, 35, 36, 37, 38, 39, 40, 41, 42, 43, 44, 45, 46, 47, 48, 49, 50, 51, 52, 53, 54, 55, 56, 57, 58, 59, 60, 61, 62, 63, 64, 65, 66, 67, 68, 69, 70, 71, 72, 73, 74, 75, 76, 77, 78, 79, 80, 81, 82, 83, 84, 85, 86, 87, 88, 89, 90, 91, 92, 93, 94, 95, 96, 97, 98, 99, 100, 101]\n"
     ]
    }
   ],
   "source": [
    "# lab 5-1-1  정답\n",
    "# 전달인자로 함수조작\n",
    "L = list(range(1,101))\n",
    "for i in range(len(L)):\n",
    "    L[i] += 1\n",
    "print(L)"
   ]
  },
  {
   "cell_type": "markdown",
   "metadata": {},
   "source": [
    "### 내장함수"
   ]
  },
  {
   "cell_type": "code",
   "execution_count": 25,
   "metadata": {},
   "outputs": [
    {
     "name": "stdout",
     "output_type": "stream",
     "text": [
      "1 <class 'str'>\n",
      "3 <class 'str'>\n",
      "5 <class 'str'>\n",
      "7 <class 'str'>\n",
      "9 <class 'str'>\n",
      "x <class 'str'>\n",
      "y <class 'str'>\n",
      "z <class 'str'>\n"
     ]
    }
   ],
   "source": [
    "# lab 5-1-2\n",
    "# 내장함수 다루기\n",
    "T = (1,3,5,7,9)\n",
    "L = list(T)\n",
    "for i in range(len(L)):\n",
    "    L[i] = str(L[i])\n",
    "    \n",
    "L.append('x')\n",
    "L.append('y')\n",
    "L.append('z')\n",
    "\n",
    "for k in range(len(L)):\n",
    "    print(L[k],type(L[k]))"
   ]
  },
  {
   "cell_type": "code",
   "execution_count": 33,
   "metadata": {},
   "outputs": [
    {
     "name": "stdout",
     "output_type": "stream",
     "text": [
      "1 <class 'str'>\n",
      "3 <class 'str'>\n",
      "5 <class 'str'>\n",
      "7 <class 'str'>\n",
      "9 <class 'str'>\n",
      "x <class 'str'>\n",
      "y <class 'str'>\n",
      "z <class 'str'>\n"
     ]
    }
   ],
   "source": [
    "# lab 5-1-2\n",
    "# 내장함수 다루기\n",
    "T = (1,3,5,7,9)\n",
    "L = list(T)\n",
    "add = 'x','y','z'\n",
    "for i in range(len(L)):\n",
    "    L[i] = str(L[i])\n",
    "\n",
    "for n in add:\n",
    "    L.insert(len(L),n)\n",
    "\n",
    "for k in L:\n",
    "    print(k,type(k))"
   ]
  },
  {
   "cell_type": "code",
   "execution_count": null,
   "metadata": {},
   "outputs": [],
   "source": [
    "#리스트 생성자 사용\n",
    "\n",
    "#하나씩 추구!!\n",
    "\n",
    "\n",
    "\n",
    "L += list('xyz')"
   ]
  },
  {
   "cell_type": "code",
   "execution_count": 34,
   "metadata": {},
   "outputs": [
    {
     "name": "stdout",
     "output_type": "stream",
     "text": [
      "1 <class 'str'>\n",
      "3 <class 'str'>\n",
      "5 <class 'str'>\n",
      "7 <class 'str'>\n",
      "9 <class 'str'>\n",
      "x <class 'str'>\n",
      "y <class 'str'>\n",
      "z <class 'str'>\n"
     ]
    }
   ],
   "source": [
    "# lab 5-1-2\n",
    "# 내장함수 다루기\n",
    "T = (1,3,5,7,9)\n",
    "L = list(T)\n",
    "add = 'x','y','z'\n",
    "for i in range(len(L)):\n",
    "    L[i] = str(L[i])\n",
    "\n",
    "L += list('xyz')\n",
    "\n",
    "for k in L:\n",
    "    print(k,type(k))"
   ]
  },
  {
   "cell_type": "code",
   "execution_count": 35,
   "metadata": {},
   "outputs": [
    {
     "name": "stdout",
     "output_type": "stream",
     "text": [
      "1 <class 'str'>\n",
      "3 <class 'str'>\n",
      "5 <class 'str'>\n",
      "7 <class 'str'>\n",
      "9 <class 'str'>\n",
      "x <class 'str'>\n",
      "y <class 'str'>\n",
      "z <class 'str'>\n"
     ]
    }
   ],
   "source": [
    "# 이상적인 파이쏘닉한 방법\n",
    "t = 1,3,5,7,9\n",
    "t = list(t)\n",
    "\n",
    "t = [str(e) for e in t] # 리스트 축약 (생성기법)\n",
    "t.extend(['x','y','z'])\n",
    "# t += ['x','y','z']\n",
    "\n",
    "for k in t:\n",
    "    print(k,type(k))"
   ]
  },
  {
   "cell_type": "markdown",
   "metadata": {},
   "source": [
    "### 사용자 함수"
   ]
  },
  {
   "cell_type": "code",
   "execution_count": 37,
   "metadata": {},
   "outputs": [],
   "source": [
    "# lab 5-1-3\n",
    "# xor 연산함수\n",
    "\n",
    "def xor(x,y):\n",
    "    if x==y:\n",
    "        return False\n",
    "    else:\n",
    "        return True"
   ]
  },
  {
   "cell_type": "code",
   "execution_count": 38,
   "metadata": {},
   "outputs": [
    {
     "data": {
      "text/plain": [
       "False"
      ]
     },
     "execution_count": 38,
     "metadata": {},
     "output_type": "execute_result"
    }
   ],
   "source": [
    "xor(True,True)"
   ]
  },
  {
   "cell_type": "code",
   "execution_count": 39,
   "metadata": {},
   "outputs": [],
   "source": [
    "def xor(x,y):\n",
    "    return x^y #bit wise 연산자"
   ]
  },
  {
   "cell_type": "code",
   "execution_count": 43,
   "metadata": {},
   "outputs": [
    {
     "data": {
      "text/plain": [
       "False"
      ]
     },
     "execution_count": 43,
     "metadata": {},
     "output_type": "execute_result"
    },
    {
     "data": {
      "text/plain": [
       "True"
      ]
     },
     "execution_count": 43,
     "metadata": {},
     "output_type": "execute_result"
    }
   ],
   "source": [
    "xor(True,True)\n",
    "xor(True,False)"
   ]
  },
  {
   "cell_type": "code",
   "execution_count": 47,
   "metadata": {},
   "outputs": [],
   "source": [
    "# lab 5-1-4\n",
    "# 두 직사각형의 면적의 비율을 계산하는 함수\n",
    "def expend_rectangle(w,l):\n",
    "    s = int(w) * int(l)\n",
    "    W = int(w)+5\n",
    "    L = 2*int(l)\n",
    "    S = W * L \n",
    "    ratio = s/S\n",
    "    print('Width =',W)\n",
    "    print('Length =',L)\n",
    "    print('Area Ratio = {:.2f}'.format(ratio))\n"
   ]
  },
  {
   "cell_type": "code",
   "execution_count": 48,
   "metadata": {},
   "outputs": [
    {
     "name": "stdout",
     "output_type": "stream",
     "text": [
      "Width = 12\n",
      "Length = 20\n",
      "Area Ratio = 0.29\n"
     ]
    }
   ],
   "source": [
    "expend_rectangle(7,10)"
   ]
  },
  {
   "cell_type": "code",
   "execution_count": 49,
   "metadata": {},
   "outputs": [
    {
     "name": "stdout",
     "output_type": "stream",
     "text": [
      "Width = 12\n",
      "Length = 20\n",
      "Area Ratio = 0.29\n"
     ]
    }
   ],
   "source": [
    "expend_rectangle(7.5,10.3)"
   ]
  },
  {
   "cell_type": "code",
   "execution_count": 64,
   "metadata": {},
   "outputs": [],
   "source": [
    "# lab 5-1-5\n",
    "def calculator(operator,int1,int2):\n",
    "        if operator == 'add' :\n",
    "            return int1 + int2\n",
    "        elif operator == 'sub':\n",
    "            return int1 - int2\n",
    "        elif operator == 'mul':\n",
    "            return int1 * int2\n",
    "        elif operator == 'div':\n",
    "            return int1/int2\n",
    "        else:\n",
    "            print('{} is not supported.'.format(operator))"
   ]
  },
  {
   "cell_type": "code",
   "execution_count": 65,
   "metadata": {},
   "outputs": [
    {
     "data": {
      "text/plain": [
       "[1, 2, 3, 4, 5, 6]"
      ]
     },
     "execution_count": 65,
     "metadata": {},
     "output_type": "execute_result"
    }
   ],
   "source": [
    "calculator('add',[1,2,3],[4,5,6])"
   ]
  },
  {
   "cell_type": "code",
   "execution_count": 66,
   "metadata": {},
   "outputs": [
    {
     "data": {
      "text/plain": [
       "'53'"
      ]
     },
     "execution_count": 66,
     "metadata": {},
     "output_type": "execute_result"
    }
   ],
   "source": [
    "calculator('add','5','3')"
   ]
  },
  {
   "cell_type": "code",
   "execution_count": 57,
   "metadata": {},
   "outputs": [],
   "source": [
    "# lab 5-1-5\n",
    "def calculator(operator,int1,int2):\n",
    "    s = []\n",
    "    for i in range(len(int1)):\n",
    "        if operator == 'add' :\n",
    "            s += int1[i] + int2[i]\n",
    "        elif operator == 'sub':\n",
    "            s += int1[i] - int2[i]\n",
    "        elif operator == 'mul':\n",
    "            s += int1[i] * int2[i]\n",
    "        elif operator == 'div':\n",
    "            s += int1[i] / int2[i]\n",
    "        if len(s) != 0:\n",
    "            return s\n",
    "        else:\n",
    "            print('{} is not supported.'.format(operator))"
   ]
  },
  {
   "cell_type": "code",
   "execution_count": 58,
   "metadata": {},
   "outputs": [
    {
     "ename": "TypeError",
     "evalue": "'int' object is not iterable",
     "output_type": "error",
     "traceback": [
      "\u001b[1;31m---------------------------------------------------------------------------\u001b[0m",
      "\u001b[1;31mTypeError\u001b[0m                                 Traceback (most recent call last)",
      "\u001b[1;32m<ipython-input-58-7975a459379f>\u001b[0m in \u001b[0;36m<module>\u001b[1;34m()\u001b[0m\n\u001b[1;32m----> 1\u001b[1;33m \u001b[0mcalculator1\u001b[0m\u001b[1;33m(\u001b[0m\u001b[1;34m'add'\u001b[0m\u001b[1;33m,\u001b[0m\u001b[1;33m[\u001b[0m\u001b[1;36m1\u001b[0m\u001b[1;33m,\u001b[0m\u001b[1;36m2\u001b[0m\u001b[1;33m,\u001b[0m\u001b[1;36m3\u001b[0m\u001b[1;33m]\u001b[0m\u001b[1;33m,\u001b[0m\u001b[1;33m[\u001b[0m\u001b[1;36m4\u001b[0m\u001b[1;33m,\u001b[0m\u001b[1;36m5\u001b[0m\u001b[1;33m,\u001b[0m\u001b[1;36m6\u001b[0m\u001b[1;33m]\u001b[0m\u001b[1;33m)\u001b[0m\u001b[1;33m\u001b[0m\u001b[0m\n\u001b[0m",
      "\u001b[1;32m<ipython-input-57-1614b2a5e3d1>\u001b[0m in \u001b[0;36mcalculator1\u001b[1;34m(operator, int1, int2)\u001b[0m\n\u001b[0;32m      4\u001b[0m     \u001b[1;32mfor\u001b[0m \u001b[0mi\u001b[0m \u001b[1;32min\u001b[0m \u001b[0mrange\u001b[0m\u001b[1;33m(\u001b[0m\u001b[0mlen\u001b[0m\u001b[1;33m(\u001b[0m\u001b[0mint1\u001b[0m\u001b[1;33m)\u001b[0m\u001b[1;33m)\u001b[0m\u001b[1;33m:\u001b[0m\u001b[1;33m\u001b[0m\u001b[0m\n\u001b[0;32m      5\u001b[0m         \u001b[1;32mif\u001b[0m \u001b[0moperator\u001b[0m \u001b[1;33m==\u001b[0m \u001b[1;34m'add'\u001b[0m \u001b[1;33m:\u001b[0m\u001b[1;33m\u001b[0m\u001b[0m\n\u001b[1;32m----> 6\u001b[1;33m             \u001b[0ms\u001b[0m \u001b[1;33m+=\u001b[0m \u001b[0mint1\u001b[0m\u001b[1;33m[\u001b[0m\u001b[0mi\u001b[0m\u001b[1;33m]\u001b[0m \u001b[1;33m+\u001b[0m \u001b[0mint2\u001b[0m\u001b[1;33m[\u001b[0m\u001b[0mi\u001b[0m\u001b[1;33m]\u001b[0m\u001b[1;33m\u001b[0m\u001b[0m\n\u001b[0m\u001b[0;32m      7\u001b[0m         \u001b[1;32melif\u001b[0m \u001b[0moperator\u001b[0m \u001b[1;33m==\u001b[0m \u001b[1;34m'sub'\u001b[0m\u001b[1;33m:\u001b[0m\u001b[1;33m\u001b[0m\u001b[0m\n\u001b[0;32m      8\u001b[0m             \u001b[0ms\u001b[0m \u001b[1;33m+=\u001b[0m \u001b[0mint1\u001b[0m\u001b[1;33m[\u001b[0m\u001b[0mi\u001b[0m\u001b[1;33m]\u001b[0m \u001b[1;33m-\u001b[0m \u001b[0mint2\u001b[0m\u001b[1;33m[\u001b[0m\u001b[0mi\u001b[0m\u001b[1;33m]\u001b[0m\u001b[1;33m\u001b[0m\u001b[0m\n",
      "\u001b[1;31mTypeError\u001b[0m: 'int' object is not iterable"
     ]
    }
   ],
   "source": [
    "calculator1('add',[1,2,3],[4,5,6])"
   ]
  },
  {
   "cell_type": "code",
   "execution_count": 62,
   "metadata": {},
   "outputs": [],
   "source": [
    "# lab 5-1-5\n",
    "def calculator2(operator,int1,int2):\n",
    "    s = []\n",
    "    for i in range(len(int1)):\n",
    "        if operator == 'add' :\n",
    "            s.append(int1[i] + int2[i])\n",
    "        elif operator == 'sub':\n",
    "            s.append(int1[i] - int2[i])\n",
    "        elif operator == 'mul':\n",
    "            s.append(int1[i] * int2[i])\n",
    "        elif operator == 'div':\n",
    "            s.append(int1[i] / int2[i])\n",
    "        \n",
    "        if len(s) != 0:\n",
    "            return s\n",
    "        \n",
    "        else:\n",
    "            print('{} is not supported.'.format(operator))"
   ]
  },
  {
   "cell_type": "code",
   "execution_count": 67,
   "metadata": {},
   "outputs": [
    {
     "data": {
      "text/plain": [
       "[5]"
      ]
     },
     "execution_count": 67,
     "metadata": {},
     "output_type": "execute_result"
    }
   ],
   "source": [
    "calculator2('add',[1,2,3],[4,5,6])"
   ]
  },
  {
   "cell_type": "code",
   "execution_count": 86,
   "metadata": {},
   "outputs": [],
   "source": [
    "# lab 5 - 1 - 6\n",
    "# 영어 모음 개수를 계산하는 함수\n",
    "\n",
    "def vowel(words):\n",
    "    count = 0\n",
    "    vowel_list = 'a','e','i','o','u'\n",
    "    \n",
    "    for char in words:\n",
    "        if char in vowel_list:\n",
    "            count += 1\n",
    "            \n",
    "    return count"
   ]
  },
  {
   "cell_type": "code",
   "execution_count": 87,
   "metadata": {},
   "outputs": [
    {
     "data": {
      "text/plain": [
       "1"
      ]
     },
     "execution_count": 87,
     "metadata": {},
     "output_type": "execute_result"
    }
   ],
   "source": [
    "vowel('Apples')"
   ]
  },
  {
   "cell_type": "markdown",
   "metadata": {},
   "source": [
    "# [lab 5-2] 함수 활용하기 2\n",
    "1. 연산\n",
    "2.\n",
    "3. "
   ]
  },
  {
   "cell_type": "code",
   "execution_count": 104,
   "metadata": {},
   "outputs": [],
   "source": [
    "# lab 5-2-1\n",
    "def calculator_int(*kwargs):\n",
    "    count= 0\n",
    "    mean = 0\n",
    "    sum = 0\n",
    "    for i in kwargs:\n",
    "        sum += i\n",
    "        count += 1\n",
    "        mean = round(sum/count)\n",
    "        if i == 0:\n",
    "            break\n",
    "    return sum,mean"
   ]
  },
  {
   "cell_type": "code",
   "execution_count": 105,
   "metadata": {},
   "outputs": [
    {
     "data": {
      "text/plain": [
       "(-1, 0)"
      ]
     },
     "execution_count": 105,
     "metadata": {},
     "output_type": "execute_result"
    }
   ],
   "source": [
    "calculator_int(-3,2,0,4,5)"
   ]
  },
  {
   "cell_type": "code",
   "execution_count": 110,
   "metadata": {},
   "outputs": [],
   "source": [
    "# lab 5-2-1\n",
    "def calculator_int1(*x):\n",
    "    count, mean, sum = 0,0,0\n",
    "    for i in x:\n",
    "        sum += i\n",
    "        count += 1\n",
    "        mean = int(round(sum/count,0))\n",
    "        if i == 0:\n",
    "            break\n",
    "    return sum,mean"
   ]
  },
  {
   "cell_type": "code",
   "execution_count": 111,
   "metadata": {},
   "outputs": [
    {
     "data": {
      "text/plain": [
       "(-1, 0)"
      ]
     },
     "execution_count": 111,
     "metadata": {},
     "output_type": "execute_result"
    }
   ],
   "source": [
    "calculator_int1(-3,2,0,4,5)"
   ]
  },
  {
   "cell_type": "markdown",
   "metadata": {},
   "source": [
    "## 탐색함수"
   ]
  },
  {
   "cell_type": "code",
   "execution_count": 120,
   "metadata": {},
   "outputs": [],
   "source": [
    "# lab 5-2-2\n",
    "#리스트 내의 항목을 찾아 주는 함수\n",
    "mylist = [1,2,3]\n",
    "mytuple = ('a','b','c')\n",
    "\n",
    "def search(x,want_to_find):\n",
    "    if want_to_find in x:\n",
    "        return x.index(want_to_find)\n",
    "    else:\n",
    "        return False\n",
    "    "
   ]
  },
  {
   "cell_type": "code",
   "execution_count": 121,
   "metadata": {},
   "outputs": [
    {
     "data": {
      "text/plain": [
       "1"
      ]
     },
     "execution_count": 121,
     "metadata": {},
     "output_type": "execute_result"
    }
   ],
   "source": [
    "search(mylist,2)"
   ]
  },
  {
   "cell_type": "code",
   "execution_count": 122,
   "metadata": {
    "scrolled": true
   },
   "outputs": [
    {
     "data": {
      "text/plain": [
       "2"
      ]
     },
     "execution_count": 122,
     "metadata": {},
     "output_type": "execute_result"
    }
   ],
   "source": [
    "search(mytuple,'c')"
   ]
  },
  {
   "cell_type": "code",
   "execution_count": 123,
   "metadata": {},
   "outputs": [],
   "source": [
    "# 정답\n",
    "def search(x,want_to_find):\n",
    "    if want_to_find in x:\n",
    "        return x.index(want_to_find)\n",
    "    return False"
   ]
  },
  {
   "cell_type": "code",
   "execution_count": 124,
   "metadata": {},
   "outputs": [
    {
     "data": {
      "text/plain": [
       "2"
      ]
     },
     "execution_count": 124,
     "metadata": {},
     "output_type": "execute_result"
    }
   ],
   "source": [
    "search(mytuple,'c')"
   ]
  },
  {
   "cell_type": "code",
   "execution_count": 125,
   "metadata": {},
   "outputs": [],
   "source": [
    "#lab 5--2-3\n",
    "# 문자열 검색함수\n",
    "def search_chr(x,want_to_find):\n",
    "    if want_to_find in x:\n",
    "        return x.index(want_to_find)\n",
    "    return -1"
   ]
  },
  {
   "cell_type": "code",
   "execution_count": 126,
   "metadata": {},
   "outputs": [
    {
     "data": {
      "text/plain": [
       "2"
      ]
     },
     "execution_count": 126,
     "metadata": {},
     "output_type": "execute_result"
    }
   ],
   "source": [
    "search_chr('chelsea','e')"
   ]
  },
  {
   "cell_type": "code",
   "execution_count": 127,
   "metadata": {},
   "outputs": [
    {
     "data": {
      "text/plain": [
       "-1"
      ]
     },
     "execution_count": 127,
     "metadata": {},
     "output_type": "execute_result"
    }
   ],
   "source": [
    "search_chr('chelsea','k')"
   ]
  },
  {
   "cell_type": "code",
   "execution_count": 134,
   "metadata": {},
   "outputs": [],
   "source": [
    "## 추가 질문\n",
    "\n",
    "def search_chr_all(x,want_to_find):\n",
    "    if want_to_find in x:\n",
    "        for index, value in enumerate(x):\n",
    "            if value == want_to_find:\n",
    "                i.append(index)\n",
    "                return index\n",
    "    return -1"
   ]
  },
  {
   "cell_type": "code",
   "execution_count": 135,
   "metadata": {},
   "outputs": [
    {
     "ename": "AttributeError",
     "evalue": "'int' object has no attribute 'append'",
     "output_type": "error",
     "traceback": [
      "\u001b[1;31m---------------------------------------------------------------------------\u001b[0m",
      "\u001b[1;31mAttributeError\u001b[0m                            Traceback (most recent call last)",
      "\u001b[1;32m<ipython-input-135-ee2cf033898d>\u001b[0m in \u001b[0;36m<module>\u001b[1;34m()\u001b[0m\n\u001b[1;32m----> 1\u001b[1;33m \u001b[0msearch_chr_all\u001b[0m\u001b[1;33m(\u001b[0m\u001b[1;34m'chelsea'\u001b[0m\u001b[1;33m,\u001b[0m\u001b[1;34m'e'\u001b[0m\u001b[1;33m)\u001b[0m\u001b[1;33m\u001b[0m\u001b[0m\n\u001b[0m",
      "\u001b[1;32m<ipython-input-134-1d0c1d9e66db>\u001b[0m in \u001b[0;36msearch_chr_all\u001b[1;34m(x, want_to_find)\u001b[0m\n\u001b[0;32m      5\u001b[0m         \u001b[1;32mfor\u001b[0m \u001b[0mindex\u001b[0m\u001b[1;33m,\u001b[0m \u001b[0mvalue\u001b[0m \u001b[1;32min\u001b[0m \u001b[0menumerate\u001b[0m\u001b[1;33m(\u001b[0m\u001b[0mx\u001b[0m\u001b[1;33m)\u001b[0m\u001b[1;33m:\u001b[0m\u001b[1;33m\u001b[0m\u001b[0m\n\u001b[0;32m      6\u001b[0m             \u001b[1;32mif\u001b[0m \u001b[0mvalue\u001b[0m \u001b[1;33m==\u001b[0m \u001b[0mwant_to_find\u001b[0m\u001b[1;33m:\u001b[0m\u001b[1;33m\u001b[0m\u001b[0m\n\u001b[1;32m----> 7\u001b[1;33m                 \u001b[0mi\u001b[0m\u001b[1;33m.\u001b[0m\u001b[0mappend\u001b[0m\u001b[1;33m(\u001b[0m\u001b[0mindex\u001b[0m\u001b[1;33m)\u001b[0m\u001b[1;33m\u001b[0m\u001b[0m\n\u001b[0m\u001b[0;32m      8\u001b[0m                 \u001b[1;32mreturn\u001b[0m \u001b[0mindex\u001b[0m\u001b[1;33m\u001b[0m\u001b[0m\n\u001b[0;32m      9\u001b[0m     \u001b[1;32mreturn\u001b[0m \u001b[1;33m-\u001b[0m\u001b[1;36m1\u001b[0m\u001b[1;33m\u001b[0m\u001b[0m\n",
      "\u001b[1;31mAttributeError\u001b[0m: 'int' object has no attribute 'append'"
     ]
    }
   ],
   "source": [
    "search_chr_all('chelsea','e')"
   ]
  },
  {
   "cell_type": "code",
   "execution_count": 138,
   "metadata": {},
   "outputs": [
    {
     "ename": "SyntaxError",
     "evalue": "invalid syntax (<ipython-input-138-b1f0107b304e>, line 9)",
     "output_type": "error",
     "traceback": [
      "\u001b[1;36m  File \u001b[1;32m\"<ipython-input-138-b1f0107b304e>\"\u001b[1;36m, line \u001b[1;32m9\u001b[0m\n\u001b[1;33m    else:\u001b[0m\n\u001b[1;37m       ^\u001b[0m\n\u001b[1;31mSyntaxError\u001b[0m\u001b[1;31m:\u001b[0m invalid syntax\n"
     ]
    }
   ],
   "source": [
    "# lab 5-2-4\n",
    "def reverse_odd_text(*x):\n",
    "    count = 0\n",
    "    if len(x) % 2 != 0:\n",
    "        x = x[len(x):0:-1]\n",
    "        print(x)\n",
    "        count += 1\n",
    "        return count\n",
    "    else:\n",
    "        print(x)\n"
   ]
  },
  {
   "cell_type": "code",
   "execution_count": 137,
   "metadata": {},
   "outputs": [
    {
     "name": "stdout",
     "output_type": "stream",
     "text": [
      "('보컬', '키보드', '기타', '베이스')\n"
     ]
    },
    {
     "data": {
      "text/plain": [
       "1"
      ]
     },
     "execution_count": 137,
     "metadata": {},
     "output_type": "execute_result"
    }
   ],
   "source": [
    "odd_count = reverse_odd_count('나는 드러머입니다','베이스','기타','키보드','보컬')\n",
    "odd_count"
   ]
  },
  {
   "cell_type": "code",
   "execution_count": 141,
   "metadata": {},
   "outputs": [],
   "source": [
    "# lab 5-2-4\n",
    "#정답\n",
    "\n",
    "\n",
    "def reverse_odd_text(*words):\n",
    "    count = 0\n",
    "    for i in range(len(words)):\n",
    "        if len(words[i]) % 2 == 1:\n",
    "            print(words[i][::-1])\n",
    "            count += 1\n",
    "        else:\n",
    "            print(words[i])\n",
    "            \n",
    "    return count\n"
   ]
  },
  {
   "cell_type": "code",
   "execution_count": 142,
   "metadata": {},
   "outputs": [
    {
     "name": "stdout",
     "output_type": "stream",
     "text": [
      "('보컬', '키보드', '기타', '베이스')\n"
     ]
    },
    {
     "data": {
      "text/plain": [
       "1"
      ]
     },
     "execution_count": 142,
     "metadata": {},
     "output_type": "execute_result"
    }
   ],
   "source": [
    "odd_count = reverse_odd_count('나는 드러머입니다','베이스','기타','키보드','보컬')\n",
    "odd_count"
   ]
  },
  {
   "cell_type": "code",
   "execution_count": 147,
   "metadata": {},
   "outputs": [],
   "source": [
    "# lab 5-2-5# 점수를 정렬\n",
    "def sort_score(*scores):\n",
    "#     for i in range(len(scores)):\n",
    "#         score_list = sorted(scores,reverse= True)\n",
    "    score_list = sorted(scores,reverse= True)\n",
    "    print(score_list)\n",
    "    "
   ]
  },
  {
   "cell_type": "code",
   "execution_count": 148,
   "metadata": {},
   "outputs": [
    {
     "name": "stdout",
     "output_type": "stream",
     "text": [
      "[100, 97, 88, 75, 65, 53, 46, 27]\n"
     ]
    }
   ],
   "source": [
    "sort_score(100,27,65,88,46,97,75,53)"
   ]
  },
  {
   "cell_type": "code",
   "execution_count": 149,
   "metadata": {},
   "outputs": [],
   "source": [
    "# 간단\n",
    "# sorted사용\n",
    "def sort_score(*scores):\n",
    "    score_list = sorted(scores,reverse= True)\n",
    "    print(score_list)"
   ]
  },
  {
   "cell_type": "code",
   "execution_count": 150,
   "metadata": {},
   "outputs": [
    {
     "name": "stdout",
     "output_type": "stream",
     "text": [
      "[100, 97, 88, 75, 65, 53, 46, 27]\n"
     ]
    }
   ],
   "source": [
    "sort_score(100,27,65,88,46,97,75,53)"
   ]
  },
  {
   "cell_type": "code",
   "execution_count": 157,
   "metadata": {},
   "outputs": [],
   "source": [
    "# 리스트 변환후 sort메소드 사용\n",
    "def sort_score(*scores):\n",
    "    scores = list(scores)\n",
    "    scores.sort(reverse = True)\n",
    "    print(scores)"
   ]
  },
  {
   "cell_type": "code",
   "execution_count": 158,
   "metadata": {},
   "outputs": [
    {
     "name": "stdout",
     "output_type": "stream",
     "text": [
      "[100, 97, 88, 75, 65, 53, 46, 27]\n"
     ]
    }
   ],
   "source": [
    "sort_score(100,27,65,88,46,97,75,53)"
   ]
  },
  {
   "cell_type": "code",
   "execution_count": 161,
   "metadata": {},
   "outputs": [],
   "source": [
    "# lab 5-2-6\n",
    "def sort_by_word_length(*word):\n",
    "    len_of_word = []\n",
    "    for i in word:\n",
    "        len_of_word = len(i)\n",
    "        word = list(word)\n",
    "        word.insert(0,len(i))\n",
    "    word.sort(reverse = True)\n",
    "    print(word)"
   ]
  },
  {
   "cell_type": "code",
   "execution_count": 162,
   "metadata": {},
   "outputs": [
    {
     "ename": "TypeError",
     "evalue": "'<' not supported between instances of 'int' and 'list'",
     "output_type": "error",
     "traceback": [
      "\u001b[1;31m---------------------------------------------------------------------------\u001b[0m",
      "\u001b[1;31mTypeError\u001b[0m                                 Traceback (most recent call last)",
      "\u001b[1;32m<ipython-input-162-b6986e918df2>\u001b[0m in \u001b[0;36m<module>\u001b[1;34m()\u001b[0m\n\u001b[0;32m      1\u001b[0m \u001b[0minstruments\u001b[0m \u001b[1;33m=\u001b[0m \u001b[1;33m[\u001b[0m\u001b[1;34m'피아노'\u001b[0m\u001b[1;33m,\u001b[0m\u001b[1;34m'바이올린'\u001b[0m\u001b[1;33m,\u001b[0m\u001b[1;34m'첼로'\u001b[0m\u001b[1;33m,\u001b[0m\u001b[1;34m'드럼'\u001b[0m\u001b[1;33m,\u001b[0m\u001b[1;34m'기타'\u001b[0m\u001b[1;33m]\u001b[0m\u001b[1;33m\u001b[0m\u001b[0m\n\u001b[1;32m----> 2\u001b[1;33m \u001b[0msort_by_word_length\u001b[0m\u001b[1;33m(\u001b[0m\u001b[0minstruments\u001b[0m\u001b[1;33m)\u001b[0m\u001b[1;33m\u001b[0m\u001b[0m\n\u001b[0m",
      "\u001b[1;32m<ipython-input-161-63e932436ac0>\u001b[0m in \u001b[0;36msort_by_word_length\u001b[1;34m(*word)\u001b[0m\n\u001b[0;32m      6\u001b[0m         \u001b[0mword\u001b[0m \u001b[1;33m=\u001b[0m \u001b[0mlist\u001b[0m\u001b[1;33m(\u001b[0m\u001b[0mword\u001b[0m\u001b[1;33m)\u001b[0m\u001b[1;33m\u001b[0m\u001b[0m\n\u001b[0;32m      7\u001b[0m         \u001b[0mword\u001b[0m\u001b[1;33m.\u001b[0m\u001b[0minsert\u001b[0m\u001b[1;33m(\u001b[0m\u001b[1;36m0\u001b[0m\u001b[1;33m,\u001b[0m\u001b[0mlen\u001b[0m\u001b[1;33m(\u001b[0m\u001b[0mi\u001b[0m\u001b[1;33m)\u001b[0m\u001b[1;33m)\u001b[0m\u001b[1;33m\u001b[0m\u001b[0m\n\u001b[1;32m----> 8\u001b[1;33m     \u001b[0mword\u001b[0m\u001b[1;33m.\u001b[0m\u001b[0msort\u001b[0m\u001b[1;33m(\u001b[0m\u001b[0mreverse\u001b[0m \u001b[1;33m=\u001b[0m \u001b[1;32mTrue\u001b[0m\u001b[1;33m)\u001b[0m\u001b[1;33m\u001b[0m\u001b[0m\n\u001b[0m\u001b[0;32m      9\u001b[0m     \u001b[0mprint\u001b[0m\u001b[1;33m(\u001b[0m\u001b[0mword\u001b[0m\u001b[1;33m)\u001b[0m\u001b[1;33m\u001b[0m\u001b[0m\n",
      "\u001b[1;31mTypeError\u001b[0m: '<' not supported between instances of 'int' and 'list'"
     ]
    }
   ],
   "source": [
    "instruments = ['피아노','바이올린','첼로','드럼','기타']\n",
    "sort_by_word_length(instruments)"
   ]
  },
  {
   "cell_type": "code",
   "execution_count": null,
   "metadata": {},
   "outputs": [],
   "source": [
    "def sort_by_word_length(*word):\n",
    "    want_to_sort = {}\n",
    "    for i in word:\n",
    "        word = list(word)\n",
    "        j = len(i)\n",
    "        word.insert(0,j)"
   ]
  },
  {
   "cell_type": "code",
   "execution_count": 167,
   "metadata": {},
   "outputs": [],
   "source": [
    "def sort_by_word_length(words):\n",
    "    t = []\n",
    "    for w in words:\n",
    "        t.append((len(w),w))\n",
    "        \n",
    "    t.sort(reverse=True)\n",
    "    sorted_words = []\n",
    "    for length, w in t:\n",
    "        sorted_words.append(w)\n",
    "    return sorted_words"
   ]
  },
  {
   "cell_type": "code",
   "execution_count": 168,
   "metadata": {},
   "outputs": [
    {
     "data": {
      "text/plain": [
       "['바이올린', '피아노', '첼로', '드럼', '기타']"
      ]
     },
     "execution_count": 168,
     "metadata": {},
     "output_type": "execute_result"
    }
   ],
   "source": [
    "instruments = ['피아노','바이올린','첼로','드럼','기타']\n",
    "sort_by_word_length(instruments)"
   ]
  },
  {
   "cell_type": "code",
   "execution_count": 170,
   "metadata": {},
   "outputs": [],
   "source": [
    "# 리스트 축약\n",
    "def sort_by_word_length(words):\n",
    "    t = [(len(w),w) for w in words]\n",
    "    \n",
    "    # sort메소드는 먼저 길이를 비교해서 만약 길이가 같다면 단거를 비교해서 정렬\n",
    "    t.sort(reverse=True)\n",
    "    \n",
    "    return [w for length,w in t]"
   ]
  },
  {
   "cell_type": "code",
   "execution_count": 171,
   "metadata": {},
   "outputs": [
    {
     "data": {
      "text/plain": [
       "['바이올린', '피아노', '첼로', '드럼', '기타']"
      ]
     },
     "execution_count": 171,
     "metadata": {},
     "output_type": "execute_result"
    }
   ],
   "source": [
    "instruments = ['피아노','바이올린','첼로','드럼','기타']\n",
    "sort_by_word_length(instruments)"
   ]
  },
  {
   "cell_type": "code",
   "execution_count": null,
   "metadata": {},
   "outputs": [],
   "source": []
  }
 ],
 "metadata": {
  "kernelspec": {
   "display_name": "Python 3",
   "language": "python",
   "name": "python3"
  },
  "language_info": {
   "codemirror_mode": {
    "name": "ipython",
    "version": 3
   },
   "file_extension": ".py",
   "mimetype": "text/x-python",
   "name": "python",
   "nbconvert_exporter": "python",
   "pygments_lexer": "ipython3",
   "version": "3.6.5"
  }
 },
 "nbformat": 4,
 "nbformat_minor": 2
}
