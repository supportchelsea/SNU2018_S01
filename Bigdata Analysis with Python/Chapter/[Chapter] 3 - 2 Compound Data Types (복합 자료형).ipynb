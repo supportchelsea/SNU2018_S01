{
 "cells": [
  {
   "cell_type": "markdown",
   "metadata": {},
   "source": [
    "# 3 - 2 Compound Data Types (복합 자료형)"
   ]
  },
  {
   "cell_type": "markdown",
   "metadata": {},
   "source": [
    "1. 배열형\n",
    "     - 리스트\n",
    "     - 튜플 / 네임드 튜플\n",
    "2. 집합형\n",
    "     - 셋 / 프로즌 셋 \n",
    "3. 맵핑형\n",
    "     - 딕셔너리 / 디폴트 딕셔너리\n",
    "     - 순서가 있는 디셔너리\n",
    "4. 얕은 복사와 깊은 복사\n",
    "5. 순회 연산자와 함수"
   ]
  },
  {
   "cell_type": "markdown",
   "metadata": {},
   "source": [
    "## 1. 배열형\n",
    "\n",
    "배열형이란 \n",
    "\n",
    ": 0개 이상의 객체를 배열형태로 참조하는 자료형\n",
    "(항목(item)은 순서를 가지고 있음)\n",
    "\n",
    "순회형 :  순회할 수 있기 때문에 순화가능한 자료형이며 \n",
    "    - 멤버십 연산자 (in)\n",
    "    - 크기함수 (len)\n",
    "    - 분할 [] 가능\n",
    "\n",
    "가장 많이 사용하는 내장 배열형\n",
    "\n",
    "문자열, 리스트, 튜플, 등등\n"
   ]
  },
  {
   "cell_type": "code",
   "execution_count": 1,
   "metadata": {},
   "outputs": [],
   "source": [
    "from IPython.core.interactiveshell import InteractiveShell\n",
    "InteractiveShell.ast_node_interactivity = \"all\""
   ]
  },
  {
   "cell_type": "markdown",
   "metadata": {},
   "source": [
    "### 1) 리스트\n",
    "가변형 자료형"
   ]
  },
  {
   "cell_type": "code",
   "execution_count": 3,
   "metadata": {},
   "outputs": [
    {
     "name": "stdout",
     "output_type": "stream",
     "text": [
      "\n",
      "[1, 2, 3, 105, -7, -1.23, -753.999]\n",
      "[True, 'Falese', 3.14, 'big data', '프로그래밍']\n",
      "[[], [1, 2, 3, 105, -7, -1.23, -753.999], [True, 'Falese', 3.14, 'big data', '프로그래밍'], ['x', 3, ['a', 'b', 'c', 'python', '홍길동']]]\n",
      "\n",
      "4\n",
      "-651.229\n",
      "\n",
      "[True, 'Falese', 3.14, '빅데이터', '프로그래밍']\n"
     ]
    },
    {
     "data": {
      "text/plain": [
       "'b'"
      ]
     },
     "execution_count": 3,
     "metadata": {},
     "output_type": "execute_result"
    },
    {
     "ename": "TypeError",
     "evalue": "'str' object does not support item assignment",
     "output_type": "error",
     "traceback": [
      "\u001b[0;31m---------------------------------------------------------------------------\u001b[0m",
      "\u001b[0;31mTypeError\u001b[0m                                 Traceback (most recent call last)",
      "\u001b[0;32m<ipython-input-3-9d2174397c94>\u001b[0m in \u001b[0;36m<module>\u001b[0;34m()\u001b[0m\n\u001b[1;32m     19\u001b[0m \u001b[0ms\u001b[0m \u001b[0;34m=\u001b[0m \u001b[0;34m'big data'\u001b[0m\u001b[0;34m\u001b[0m\u001b[0m\n\u001b[1;32m     20\u001b[0m \u001b[0ms\u001b[0m\u001b[0;34m[\u001b[0m\u001b[0;36m0\u001b[0m\u001b[0;34m]\u001b[0m\u001b[0;34m\u001b[0m\u001b[0m\n\u001b[0;32m---> 21\u001b[0;31m \u001b[0ms\u001b[0m\u001b[0;34m[\u001b[0m\u001b[0;36m0\u001b[0m\u001b[0;34m]\u001b[0m \u001b[0;34m=\u001b[0m \u001b[0;34m'B'\u001b[0m\u001b[0;34m\u001b[0m\u001b[0m\n\u001b[0m\u001b[1;32m     22\u001b[0m \u001b[0mprint\u001b[0m\u001b[0;34m(\u001b[0m\u001b[0;34m)\u001b[0m\u001b[0;34m\u001b[0m\u001b[0m\n",
      "\u001b[0;31mTypeError\u001b[0m: 'str' object does not support item assignment"
     ]
    }
   ],
   "source": [
    "number_list = [1,2,3,105,-7,-1.23,-753.999]\n",
    "string_list = ['a','b','c','python','홍길동']\n",
    "mixed_list = [True ,'Falese',3.14,'big data','프로그래밍'] \n",
    "complex_list = [list(),number_list,mixed_list,['x',3,string_list]]\n",
    "print()\n",
    "\n",
    "print(number_list)\n",
    "print(mixed_list)\n",
    "print(complex_list)\n",
    "print()\n",
    "\n",
    "print(len(complex_list))\n",
    "print(sum(number_list))\n",
    "mixed_list[3] = '빅데이터'\n",
    "print()\n",
    "\n",
    "print(mixed_list)\n",
    "\n",
    "s = 'big data'\n",
    "s[0]\n",
    "s[0] = 'B'\n",
    "print()"
   ]
  },
  {
   "cell_type": "markdown",
   "metadata": {},
   "source": [
    "#### 리스트 생성\n",
    "- []\n",
    "- list()"
   ]
  },
  {
   "cell_type": "code",
   "execution_count": 6,
   "metadata": {},
   "outputs": [
    {
     "name": "stdout",
     "output_type": "stream",
     "text": [
      "[]\n",
      "[]\n"
     ]
    }
   ],
   "source": [
    "# 예시 1 - 빈 리스트 생성\n",
    "empty1 = [] #대괄호\n",
    "print(empty1)\n",
    "\n",
    "empty2 = list() #리스트 생성자\n",
    "print(empty2)"
   ]
  },
  {
   "cell_type": "code",
   "execution_count": 8,
   "metadata": {},
   "outputs": [
    {
     "name": "stdout",
     "output_type": "stream",
     "text": [
      "['Python']\n",
      "['뽀빠이', '피카추', '펠릭스', '아톰', '미니']\n"
     ]
    }
   ],
   "source": [
    "# 예시 2 - 리스트 연산자 []로 생성\n",
    "L = ['Python'] #단일 리스트 만드는 경우\n",
    "print(L) \n",
    "# 가능한 small l(엘)을 만들지 않기!! -> I 와 l이 헷갈리기 때문에 사용하지 말 것을 권장\n",
    "\n",
    "name = ['뽀빠이','피카추','펠릭스','아톰','미니']\n",
    "print(name)"
   ]
  },
  {
   "cell_type": "code",
   "execution_count": 9,
   "metadata": {},
   "outputs": [
    {
     "name": "stdout",
     "output_type": "stream",
     "text": [
      "['K', 'o', 'r', 'e', 'a']\n",
      "['Korea']\n"
     ]
    }
   ],
   "source": [
    "# 예시 3 - list 생성자로 생성\n",
    "list1 = list('Korea')\n",
    "print(list1)\n",
    "\n",
    "list2 = ['Korea']\n",
    "print(list2)"
   ]
  },
  {
   "cell_type": "code",
   "execution_count": 11,
   "metadata": {},
   "outputs": [
    {
     "name": "stdout",
     "output_type": "stream",
     "text": [
      "0\n",
      "0\n",
      "1\n",
      "5\n",
      "5\n",
      "1\n"
     ]
    }
   ],
   "source": [
    "# len\n",
    "print(len(empty1))\n",
    "print(len(empty2))\n",
    "print(len(L))\n",
    "print(len(name))\n",
    "print(len(list1))\n",
    "print(len(list2))"
   ]
  },
  {
   "cell_type": "markdown",
   "metadata": {},
   "source": [
    "#### 리스트 항목 접근 : 인덱스\n",
    "리스트는 배열형 자료구조이기 때문에\n",
    "\n",
    "문자열과 마찬가지로 각 항목(객체)에 인덱스로 접근가능"
   ]
  },
  {
   "cell_type": "code",
   "execution_count": 12,
   "metadata": {},
   "outputs": [
    {
     "name": "stdout",
     "output_type": "stream",
     "text": [
      "3\n",
      "네오\n",
      "['라이언', '무지', '어피치']\n",
      "어피치\n",
      "무\n"
     ]
    }
   ],
   "source": [
    "#예시1\n",
    "complex = ['프로도','네오',['라이언','무지','어피치']]\n",
    "print(len(complex))\n",
    "\n",
    "print(complex[1])\n",
    "print(complex[2])\n",
    "print(complex[2][-1])\n",
    "print(complex[-1][1][0])"
   ]
  },
  {
   "cell_type": "markdown",
   "metadata": {},
   "source": [
    "리스트 관련 연산자\n",
    "- (+) : 결합\n",
    "- (*) : 반복결합연산자\n",
    "- (+=) : 확장연산자\n",
    "- [] : 분할연산자\n",
    "- del : 객체에 대한 참조를 제거하는 연산자 (ex 식별자를 제거)\n",
    "- in / not in : 멤버십연산자"
   ]
  },
  {
   "cell_type": "code",
   "execution_count": 3,
   "metadata": {},
   "outputs": [
    {
     "name": "stdout",
     "output_type": "stream",
     "text": [
      "+ 연산자 \n"
     ]
    },
    {
     "data": {
      "text/plain": [
       "[1, 2, 3, 4, 5, 6]"
      ]
     },
     "execution_count": 3,
     "metadata": {},
     "output_type": "execute_result"
    },
    {
     "data": {
      "text/plain": [
       "([1, 2, 3], [4, 5, 6])"
      ]
     },
     "execution_count": 3,
     "metadata": {},
     "output_type": "execute_result"
    },
    {
     "name": "stdout",
     "output_type": "stream",
     "text": [
      "[1, 2, 3, 4, 5, 6]\n"
     ]
    },
    {
     "data": {
      "text/plain": [
       "['a', 'b', 'c', 'd']"
      ]
     },
     "execution_count": 3,
     "metadata": {},
     "output_type": "execute_result"
    },
    {
     "name": "stdout",
     "output_type": "stream",
     "text": [
      "\n",
      "* 연산자 \n",
      "[0, 0, 0, 0, 0]\n",
      "[1, 2, 3, 1, 2, 3, 1, 2, 3]\n",
      "\n"
     ]
    }
   ],
   "source": [
    "## 리스트 결합 / 반복결합 연산자\n",
    "\n",
    "# + 연산자\n",
    "print('+ 연산자 ')\n",
    "\n",
    "a = [1,2,3]\n",
    "b = [4,5,6]\n",
    "\n",
    "c = a + b\n",
    "c\n",
    "\n",
    "d = a,b\n",
    "d\n",
    "print(c)\n",
    "['a','b'] + ['c','d']\n",
    "print()\n",
    "\n",
    "# * 연산자\n",
    "print('* 연산자 ')\n",
    "print([0]*5)\n",
    "print([1,2,3]*3)\n",
    "print()\n"
   ]
  },
  {
   "cell_type": "code",
   "execution_count": 3,
   "metadata": {},
   "outputs": [
    {
     "data": {
      "text/plain": [
       "['프로도', '네오', 307]"
      ]
     },
     "execution_count": 3,
     "metadata": {},
     "output_type": "execute_result"
    },
    {
     "name": "stdout",
     "output_type": "stream",
     "text": [
      "['프로도', '네오', 307, '제', '이', '지']\n",
      "\n",
      "['프로도', '네오', 307, '제이지']\n"
     ]
    },
    {
     "ename": "TypeError",
     "evalue": "'int' object is not iterable",
     "output_type": "error",
     "traceback": [
      "\u001b[0;31m---------------------------------------------------------------------------\u001b[0m",
      "\u001b[0;31mTypeError\u001b[0m                                 Traceback (most recent call last)",
      "\u001b[0;32m<ipython-input-3-3c0348d2b011>\u001b[0m in \u001b[0;36m<module>\u001b[0;34m()\u001b[0m\n\u001b[1;32m     19\u001b[0m \u001b[0mprint\u001b[0m\u001b[0;34m(\u001b[0m\u001b[0mL\u001b[0m\u001b[0;34m)\u001b[0m\u001b[0;34m\u001b[0m\u001b[0m\n\u001b[1;32m     20\u001b[0m \u001b[0;34m\u001b[0m\u001b[0m\n\u001b[0;32m---> 21\u001b[0;31m \u001b[0mL\u001b[0m \u001b[0;34m+=\u001b[0m \u001b[0;36m307\u001b[0m \u001b[0;31m#에러에러\u001b[0m\u001b[0;34m\u001b[0m\u001b[0m\n\u001b[0m",
      "\u001b[0;31mTypeError\u001b[0m: 'int' object is not iterable"
     ]
    }
   ],
   "source": [
    "## 리스트 확장 연산자\n",
    "\n",
    "# += 연산자\n",
    "# 두 리스트 또는 리스트에 순회형을 병합해서 확장\n",
    "# 우변에는 순회형이 와야함\n",
    "\n",
    "L = ['프로도','네오']\n",
    "\n",
    "L += [307] # \n",
    "L\n",
    "\n",
    "\n",
    "L += '제이지'\n",
    "print(L)\n",
    "print() #각 글자마다 분해시켜서 만듦\n",
    "\n",
    "L[3:] = [] #없애고\n",
    "L += ['제이지']\n",
    "print(L)\n",
    "\n",
    "L += 307 #에러에러"
   ]
  },
  {
   "cell_type": "code",
   "execution_count": 2,
   "metadata": {},
   "outputs": [
    {
     "name": "stdout",
     "output_type": "stream",
     "text": [
      "b\n",
      "['c', 'd', ['x', 'y', 'z']]\n",
      "['a', 'b', 'c']\n",
      "[['x', 'y', 'z'], 'e', 'f']\n",
      "['a', 'b', 'c', 'd', ['x', 'y', 'z'], 'e', 'f']\n",
      "['a', 'b', 'c', 'd', ['x', 'y', 'z'], 'e', 'f']\n",
      "\n",
      "['a', 'b', 'i', 'j', ['x', 'y', 'z'], 'e', 'f']\n",
      "\n",
      "['a', 'l', 'm', 'n', 'i', 'j', ['x', 'y', 'z'], 'e', 'f']\n",
      "\n",
      "['a', ['p', 'q'], 'm', 'n', 'i', 'j', ['x', 'y', 'z'], 'e', 'f']\n",
      "\n",
      "['a', 's', 't', 'e', 'f']\n",
      "\n"
     ]
    }
   ],
   "source": [
    "## 리스트 분할 연산자\n",
    "\n",
    "# []\n",
    "# 리스트 분할을 통해 객체 추출\n",
    "\n",
    "s = ['a','b','c','d',['x','y','z'],'e','f']\n",
    "\n",
    "print(s[1])\n",
    "\n",
    "\n",
    "print(s[2:5])\n",
    "print(s[:3])\n",
    "print(s[-3:])\n",
    "print(s[:])\n",
    "print(s)\n",
    "print()\n",
    "\n",
    "s[2:4]=['i','j']\n",
    "print(s)\n",
    "print()\n",
    "\n",
    "s[1:2]=['l','m','n'] # 두번째 요소만 슬라이스\n",
    "print(s)\n",
    "print()\n",
    "\n",
    "\n",
    "s[1]=['p','q'] # 두번째 요소만 슬라이스\n",
    "print(s)\n",
    "print()\n",
    "\n",
    "\n",
    "s[1:7]=['s','t']\n",
    "print(s)\n",
    "print() # 반복되지 않고 입력된 만큼만 바뀜\n"
   ]
  },
  {
   "cell_type": "code",
   "execution_count": 19,
   "metadata": {},
   "outputs": [
    {
     "name": "stdout",
     "output_type": "stream",
     "text": [
      "['a', 'b', 'c', 'd', ['x', 'y'], 'e', 'f']\n",
      "\n",
      "['a', 'b', 'c', 'd', 'e', 'f']\n",
      "\n",
      "['a', 'd', 'e', 'f']\n",
      "\n",
      "[]\n",
      "\n",
      "\n"
     ]
    }
   ],
   "source": [
    "## 리스트 항목 제거 연산자\n",
    "\n",
    "#del 객체\n",
    "\n",
    "s = ['a','b','c','d',['x','y','z'],'e','f']\n",
    "\n",
    "del s[4][-1]\n",
    "print(s)\n",
    "print()\n",
    "\n",
    "del s[4]\n",
    "print(s)\n",
    "print()\n",
    "\n",
    "del s[1:3]\n",
    "print(s)\n",
    "print()\n",
    "\n",
    "del s[:]\n",
    "print(s)\n",
    "print()\n"
   ]
  },
  {
   "cell_type": "code",
   "execution_count": 23,
   "metadata": {},
   "outputs": [
    {
     "name": "stdout",
     "output_type": "stream",
     "text": [
      "True\n",
      "False\n",
      "True\n",
      "False\n",
      "True\n"
     ]
    }
   ],
   "source": [
    "## 멤버십 연산자\n",
    "\n",
    "# in연산자\n",
    "# 특정항목이 속해 있는지 존재여부를 확인\n",
    "# 속해있다면 참을 반환\n",
    "\n",
    "# not in 연산자\n",
    "# 특정 항목이 속해 있지 않을 경우\n",
    "# 참을 반환\n",
    "friends = ['프로도','네오',['콘','무지','어피치']]\n",
    "print('프로도' in friends)\n",
    "print('어피치' in friends)\n",
    "\n",
    "print('어피치' in friends[-1])\n",
    "\n",
    "print('네오' not in friends)\n",
    "print('제이지' not in friends)\n"
   ]
  },
  {
   "cell_type": "code",
   "execution_count": 25,
   "metadata": {},
   "outputs": [
    {
     "name": "stdout",
     "output_type": "stream",
     "text": [
      "True\n",
      "False\n",
      "\n",
      "True\n",
      "\n",
      "False\n",
      "True\n",
      "\n"
     ]
    }
   ],
   "source": [
    "# 특정 단어 / 문자 검색 : 문자열\n",
    "\n",
    "#멤버십 연산자\n",
    "# 부분 문자열이 포함되어 있는지 여부를 확인하고 싶은 경우에도 사용가능'\n",
    "\n",
    "obama = \"Don't just play on your phone, program it\"\n",
    "print('j' in obama)\n",
    "print('b' in obama)\n",
    "print()\n",
    "\n",
    "print('program' in obama)\n",
    "print()\n",
    "\n",
    "python = '맛있는 파이썬을 즐거운 마음으로 배우자'\n",
    "\n",
    "print('즐' not in python)\n",
    "print('파이썬' in python)\n",
    "print()\n"
   ]
  },
  {
   "cell_type": "markdown",
   "metadata": {},
   "source": [
    "### 리스트 메소드 \n",
    "    L.append(x)\n",
    "        - 리스트의 마지막에 항목x을 추가\n",
    "    L.insert(i,x)\n",
    "        - 리스트의 인덱스 i에 항목 x룰 ㅅㅂ압\n",
    "    L.remove(x)\n",
    "        - 리스트 가장 왼쪽에 있는 항목 (첫번째 항목) x를 제거\n",
    "            ==> 항목이 존재하지 않을 경우 value error발생\n",
    "    L.pop()\n",
    "        - 리스트의 가장 오른쪽에  있는 항목을 반환후 제거\n",
    "    L.pop(i)\n",
    "        - 리스트의 인덱스 i에 있는 항목을 반환한 후에 재고ㅓ\n",
    "    L.extend(m)\n",
    "    L += m\n",
    "        - 순회형 m의 모든항목들을 리스트 L의 끝에 추가\n",
    "    L.index(x,start,end)\n",
    "        - 리스트에 있는 항목x중 가장 왼쪽에 있는 항목의 인덱스를 반환\n",
    "        - 리스트의 시작과 끝 인덱스가 정해진 경우에는 인덱스 범위 안에 있는 중 가장 왼쪽에 있는 항목을 반환\n",
    "            ==> 항목이 없을 경우 valueerror 발생\n",
    "    L.count(x)\n",
    "        - 리스트에서 항목x가 몇개 존재하는지 그 개수를 반환\n",
    "           \n",
    "    L.reverse()\n",
    "        - 리스트 내부 순서 거꾸로함\n",
    "    L.sort \n",
    "        - 리스트를 정렬 \n",
    "        - 내장함수 sorted처럼 key와 value를 선택적으로 사용가능"
   ]
  },
  {
   "cell_type": "code",
   "execution_count": 41,
   "metadata": {},
   "outputs": [
    {
     "name": "stdout",
     "output_type": "stream",
     "text": [
      "['콘', '어피치']\n",
      "\n"
     ]
    },
    {
     "data": {
      "text/plain": [
       "['콘', '무지', '어피치']"
      ]
     },
     "execution_count": 41,
     "metadata": {},
     "output_type": "execute_result"
    },
    {
     "name": "stdout",
     "output_type": "stream",
     "text": [
      "\n"
     ]
    },
    {
     "data": {
      "text/plain": [
       "['콘', '무지', '어피치', ['프로도', '네오'], ['제이지']]"
      ]
     },
     "execution_count": 41,
     "metadata": {},
     "output_type": "execute_result"
    },
    {
     "name": "stdout",
     "output_type": "stream",
     "text": [
      "\n"
     ]
    },
    {
     "data": {
      "text/plain": [
       "['제이지']"
      ]
     },
     "execution_count": 41,
     "metadata": {},
     "output_type": "execute_result"
    },
    {
     "data": {
      "text/plain": [
       "['콘', '무지', '어피치', ['프로도', '네오']]"
      ]
     },
     "execution_count": 41,
     "metadata": {},
     "output_type": "execute_result"
    },
    {
     "name": "stdout",
     "output_type": "stream",
     "text": [
      "\n"
     ]
    },
    {
     "data": {
      "text/plain": [
       "['콘', '무지', '콘', '어피치', ['프로도', '네오']]"
      ]
     },
     "execution_count": 41,
     "metadata": {},
     "output_type": "execute_result"
    },
    {
     "name": "stdout",
     "output_type": "stream",
     "text": [
      "\n"
     ]
    },
    {
     "data": {
      "text/plain": [
       "['무지', '콘', '어피치', ['프로도', '네오']]"
      ]
     },
     "execution_count": 41,
     "metadata": {},
     "output_type": "execute_result"
    },
    {
     "name": "stdout",
     "output_type": "stream",
     "text": [
      "\n"
     ]
    },
    {
     "data": {
      "text/plain": [
       "'어피치'"
      ]
     },
     "execution_count": 41,
     "metadata": {},
     "output_type": "execute_result"
    },
    {
     "data": {
      "text/plain": [
       "['무지', '콘', ['프로도', '네오']]"
      ]
     },
     "execution_count": 41,
     "metadata": {},
     "output_type": "execute_result"
    },
    {
     "ename": "ValueError",
     "evalue": "list.remove(x): x not in list",
     "output_type": "error",
     "traceback": [
      "\u001b[0;31m---------------------------------------------------------------------------\u001b[0m",
      "\u001b[0;31mValueError\u001b[0m                                Traceback (most recent call last)",
      "\u001b[0;32m<ipython-input-41-116f634b5966>\u001b[0m in \u001b[0;36m<module>\u001b[0;34m()\u001b[0m\n\u001b[1;32m     35\u001b[0m \u001b[0mfriends\u001b[0m\u001b[0;34m.\u001b[0m\u001b[0mpop\u001b[0m\u001b[0;34m(\u001b[0m\u001b[0;36m2\u001b[0m\u001b[0;34m)\u001b[0m\u001b[0;34m\u001b[0m\u001b[0m\n\u001b[1;32m     36\u001b[0m \u001b[0mfriends\u001b[0m\u001b[0;34m\u001b[0m\u001b[0m\n\u001b[0;32m---> 37\u001b[0;31m \u001b[0mfriends\u001b[0m\u001b[0;34m.\u001b[0m\u001b[0mremove\u001b[0m\u001b[0;34m(\u001b[0m\u001b[0;34m'어피치'\u001b[0m\u001b[0;34m)\u001b[0m\u001b[0;34m\u001b[0m\u001b[0m\n\u001b[0m",
      "\u001b[0;31mValueError\u001b[0m: list.remove(x): x not in list"
     ]
    }
   ],
   "source": [
    "# 예시 : 리스트 항목 추가 및 제거\n",
    "\n",
    "friends = []\n",
    "friends.append('콘')\n",
    "friends.append('어피치')\n",
    "print(friends)\n",
    "print()\n",
    "\n",
    "friends.insert(1,'무지')\n",
    "friends\n",
    "print()\n",
    "\n",
    "friends.append(['프로도','네오'])\n",
    "friends.append(['제이지'])\n",
    "friends\n",
    "print()\n",
    "\n",
    "friends.pop()\n",
    "friends\n",
    "print()\n",
    "\n",
    "friends.insert(2,'콘')\n",
    "friends\n",
    "print()\n",
    "\n",
    "# friends.remove('어피치')\n",
    "# friends\n",
    "# print()\n",
    "\n",
    "friends.remove('콘')\n",
    "friends\n",
    "print()\n",
    "\n",
    "\n",
    "friends.pop(2)\n",
    "friends\n",
    "friends.remove('어피치')\n"
   ]
  },
  {
   "cell_type": "code",
   "execution_count": 42,
   "metadata": {},
   "outputs": [
    {
     "data": {
      "text/plain": [
       "['무지', '콘', ['프로도', '네오']]"
      ]
     },
     "execution_count": 42,
     "metadata": {},
     "output_type": "execute_result"
    },
    {
     "data": {
      "text/plain": [
       "['무지', '콘', ['프로도', '네오'], ['라이언', '튜브']]"
      ]
     },
     "execution_count": 42,
     "metadata": {},
     "output_type": "execute_result"
    }
   ],
   "source": [
    "# 항목 추가 vs. 항목 확장\n",
    "\n",
    "friends\n",
    "boys = ['라이언','튜브']\n",
    "\n",
    "friends.append(boys)\n",
    "friends"
   ]
  },
  {
   "cell_type": "code",
   "execution_count": 43,
   "metadata": {},
   "outputs": [
    {
     "data": {
      "text/plain": [
       "['라이언', '튜브']"
      ]
     },
     "execution_count": 43,
     "metadata": {},
     "output_type": "execute_result"
    }
   ],
   "source": [
    "friends.pop()"
   ]
  },
  {
   "cell_type": "code",
   "execution_count": 44,
   "metadata": {},
   "outputs": [
    {
     "data": {
      "text/plain": [
       "['무지', '콘', ['프로도', '네오'], '라이언', '튜브']"
      ]
     },
     "execution_count": 44,
     "metadata": {},
     "output_type": "execute_result"
    }
   ],
   "source": [
    "friends.extend(boys)\n",
    "friends"
   ]
  },
  {
   "cell_type": "code",
   "execution_count": 45,
   "metadata": {},
   "outputs": [
    {
     "data": {
      "text/plain": [
       "['무지', '콘', ['프로도', '네오'], '무지', '라이언', '튜브']"
      ]
     },
     "execution_count": 45,
     "metadata": {},
     "output_type": "execute_result"
    }
   ],
   "source": [
    "friends.insert(3,'무지')\n",
    "friends"
   ]
  },
  {
   "cell_type": "code",
   "execution_count": 46,
   "metadata": {},
   "outputs": [
    {
     "data": {
      "text/plain": [
       "4"
      ]
     },
     "execution_count": 46,
     "metadata": {},
     "output_type": "execute_result"
    },
    {
     "data": {
      "text/plain": [
       "['튜브', '라이언', '무지', ['프로도', '네오'], '콘', '무지']"
      ]
     },
     "execution_count": 46,
     "metadata": {},
     "output_type": "execute_result"
    }
   ],
   "source": [
    "friends.reverse()\n",
    "friends.index('콘')\n",
    "friends"
   ]
  },
  {
   "cell_type": "code",
   "execution_count": 47,
   "metadata": {},
   "outputs": [
    {
     "data": {
      "text/plain": [
       "1"
      ]
     },
     "execution_count": 47,
     "metadata": {},
     "output_type": "execute_result"
    },
    {
     "data": {
      "text/plain": [
       "['프로도', '네오']"
      ]
     },
     "execution_count": 47,
     "metadata": {},
     "output_type": "execute_result"
    },
    {
     "data": {
      "text/plain": [
       "['라이언', '무지', '무지', '콘', '튜브']"
      ]
     },
     "execution_count": 47,
     "metadata": {},
     "output_type": "execute_result"
    }
   ],
   "source": [
    "#리스트 질의\n",
    "#friends.count['프로도']\n",
    "friends[3].count('프로도')\n",
    "friends.pop(3)\n",
    "friends.sort()3\n",
    "friends"
   ]
  },
  {
   "cell_type": "code",
   "execution_count": 48,
   "metadata": {},
   "outputs": [
    {
     "data": {
      "text/plain": [
       "'라이언,무지,무지,콘,튜브'"
      ]
     },
     "execution_count": 48,
     "metadata": {},
     "output_type": "execute_result"
    }
   ],
   "source": [
    "','.join(friends)"
   ]
  },
  {
   "cell_type": "code",
   "execution_count": 4,
   "metadata": {},
   "outputs": [
    {
     "data": {
      "text/plain": [
       "['1', '2', '3', '4', '5', '6', '7', '8', '9']"
      ]
     },
     "execution_count": 4,
     "metadata": {},
     "output_type": "execute_result"
    },
    {
     "data": {
      "text/plain": [
       "['1', '2', '3', '4', '5', '6', '7', '8', '9']"
      ]
     },
     "execution_count": 4,
     "metadata": {},
     "output_type": "execute_result"
    }
   ],
   "source": [
    "# 일반형식과 리스트 축약\n",
    "int_str1 = []\n",
    "for i in range(1,10):\n",
    "    int_str1.append(str(i))\n",
    "    \n",
    "int_str2 = [str(i) for i in range(1,10)]\n",
    "\n",
    "int_str1\n",
    "int_str2"
   ]
  },
  {
   "cell_type": "code",
   "execution_count": 51,
   "metadata": {},
   "outputs": [
    {
     "data": {
      "text/plain": [
       "['1', '3', '5', '7', '9']"
      ]
     },
     "execution_count": 51,
     "metadata": {},
     "output_type": "execute_result"
    },
    {
     "data": {
      "text/plain": [
       "['1', '3', '5', '7', '9']"
      ]
     },
     "execution_count": 51,
     "metadata": {},
     "output_type": "execute_result"
    }
   ],
   "source": [
    "# 조건문이 있는 일반형식과 리스트 축약\n",
    "int_str_odd1 = []\n",
    "\n",
    "for i in range(1,10): \n",
    "    if i % 2 == 1 :\n",
    "        int_str_odd1.append(str(i))\n",
    "    \n",
    "int_str_odd2 = [str(i) for i in range(1,10) if i % 2 == 1]\n",
    "\n",
    "int_str_odd1\n",
    "int_str_odd2"
   ]
  },
  {
   "cell_type": "code",
   "execution_count": 9,
   "metadata": {},
   "outputs": [
    {
     "data": {
      "text/plain": [
       "[1, 3, 5, 7, 9]"
      ]
     },
     "execution_count": 9,
     "metadata": {},
     "output_type": "execute_result"
    },
    {
     "data": {
      "text/plain": [
       "[1, 9, 25, 49, 81]"
      ]
     },
     "execution_count": 9,
     "metadata": {},
     "output_type": "execute_result"
    }
   ],
   "source": [
    "odd_integers = [i for i in range(10) if i % 2 ==  1]\n",
    "squares =  [pow(i,2) for i in odd_integers]\n",
    "\n",
    "odd_integers\n",
    "squares"
   ]
  },
  {
   "cell_type": "code",
   "execution_count": 55,
   "metadata": {
    "scrolled": true
   },
   "outputs": [
    {
     "ename": "ModuleNotFoundError",
     "evalue": "No module named 'numpy'",
     "output_type": "error",
     "traceback": [
      "\u001b[0;31m---------------------------------------------------------------------------\u001b[0m",
      "\u001b[0;31mModuleNotFoundError\u001b[0m                       Traceback (most recent call last)",
      "\u001b[0;32m<ipython-input-55-2c8c9cc4147a>\u001b[0m in \u001b[0;36m<module>\u001b[0;34m()\u001b[0m\n\u001b[1;32m      1\u001b[0m \u001b[0;31m# 모든 값이 0 인 벡터 생성\u001b[0m\u001b[0;34m\u001b[0m\u001b[0;34m\u001b[0m\u001b[0m\n\u001b[0;32m----> 2\u001b[0;31m \u001b[0;32mimport\u001b[0m \u001b[0mnumpy\u001b[0m\u001b[0;34m\u001b[0m\u001b[0m\n\u001b[0m\u001b[1;32m      3\u001b[0m \u001b[0mzeroes1\u001b[0m \u001b[0;34m=\u001b[0m \u001b[0mlist\u001b[0m\u001b[0;34m(\u001b[0m\u001b[0mnumpy\u001b[0m\u001b[0;34m.\u001b[0m\u001b[0mzeros\u001b[0m\u001b[0;34m(\u001b[0m\u001b[0;36m10\u001b[0m\u001b[0;34m,\u001b[0m \u001b[0mdtype\u001b[0m \u001b[0;34m=\u001b[0m \u001b[0mnumpy\u001b[0m\u001b[0;34m.\u001b[0m\u001b[0mint\u001b[0m\u001b[0;34m)\u001b[0m\u001b[0;34m)\u001b[0m\u001b[0;34m\u001b[0m\u001b[0m\n\u001b[1;32m      4\u001b[0m \u001b[0mzeroes2\u001b[0m \u001b[0;34m=\u001b[0m \u001b[0;34m[\u001b[0m\u001b[0;36m0\u001b[0m\u001b[0;34m]\u001b[0m\u001b[0;34m*\u001b[0m\u001b[0;36m10\u001b[0m\u001b[0;34m\u001b[0m\u001b[0m\n\u001b[1;32m      5\u001b[0m \u001b[0mzeroes3\u001b[0m \u001b[0;34m=\u001b[0m \u001b[0;34m[\u001b[0m\u001b[0;36m0\u001b[0m \u001b[0;32mfor\u001b[0m \u001b[0m_\u001b[0m \u001b[0;32min\u001b[0m \u001b[0mrange\u001b[0m\u001b[0;34m(\u001b[0m\u001b[0;36m10\u001b[0m\u001b[0;34m)\u001b[0m\u001b[0;34m]\u001b[0m\u001b[0;34m\u001b[0m\u001b[0m\n",
      "\u001b[0;31mModuleNotFoundError\u001b[0m: No module named 'numpy'"
     ]
    }
   ],
   "source": [
    "# 모든 값이 0 인 벡터 생성\n",
    "import numpy\n",
    "zeroes1 = list(numpy.zeros(10, dtype = numpy.int))\n",
    "zeroes2 = [0]*10\n",
    "zeroes3 = [0 for _ in range(10)]\n",
    "\n",
    "zeroes1\n",
    "zeroes2\n",
    "zeroes3\n"
   ]
  },
  {
   "cell_type": "code",
   "execution_count": 99,
   "metadata": {
    "scrolled": false
   },
   "outputs": [
    {
     "name": "stdout",
     "output_type": "stream",
     "text": [
      "구구단을 외자 : 2x1=2\n",
      "구구단을 외자 : 2x2=4\n",
      "구구단을 외자 : 2x3=6\n",
      "구구단을 외자 : 2x4=8\n",
      "구구단을 외자 : 2x5=10\n",
      "구구단을 외자 : 2x6=12\n",
      "구구단을 외자 : 2x7=14\n",
      "구구단을 외자 : 2x8=16\n",
      "구구단을 외자 : 2x9=18\n",
      "\n",
      "구구단을 외자 : 3x1=3\n",
      "구구단을 외자 : 3x2=6\n",
      "구구단을 외자 : 3x3=9\n",
      "구구단을 외자 : 3x4=12\n",
      "구구단을 외자 : 3x5=15\n",
      "구구단을 외자 : 3x6=18\n",
      "구구단을 외자 : 3x7=21\n",
      "구구단을 외자 : 3x8=24\n",
      "구구단을 외자 : 3x9=27\n",
      "\n",
      "구구단을 외자 : 4x1=4\n",
      "구구단을 외자 : 4x2=8\n",
      "구구단을 외자 : 4x3=12\n",
      "구구단을 외자 : 4x4=16\n",
      "구구단을 외자 : 4x5=20\n",
      "구구단을 외자 : 4x6=24\n",
      "구구단을 외자 : 4x7=28\n",
      "구구단을 외자 : 4x8=32\n",
      "구구단을 외자 : 4x9=36\n",
      "\n",
      "구구단을 외자 : 5x1=5\n",
      "구구단을 외자 : 5x2=10\n",
      "구구단을 외자 : 5x3=15\n",
      "구구단을 외자 : 5x4=20\n",
      "구구단을 외자 : 5x5=25\n",
      "구구단을 외자 : 5x6=30\n",
      "구구단을 외자 : 5x7=35\n",
      "구구단을 외자 : 5x8=40\n",
      "구구단을 외자 : 5x9=45\n",
      "\n",
      "구구단을 외자 : 6x1=6\n",
      "구구단을 외자 : 6x2=12\n",
      "구구단을 외자 : 6x3=18\n",
      "구구단을 외자 : 6x4=24\n",
      "구구단을 외자 : 6x5=30\n",
      "구구단을 외자 : 6x6=36\n",
      "구구단을 외자 : 6x7=42\n",
      "구구단을 외자 : 6x8=48\n",
      "구구단을 외자 : 6x9=54\n",
      "\n",
      "구구단을 외자 : 7x1=7\n",
      "구구단을 외자 : 7x2=14\n",
      "구구단을 외자 : 7x3=21\n",
      "구구단을 외자 : 7x4=28\n",
      "구구단을 외자 : 7x5=35\n",
      "구구단을 외자 : 7x6=42\n",
      "구구단을 외자 : 7x7=49\n",
      "구구단을 외자 : 7x8=56\n",
      "구구단을 외자 : 7x9=63\n",
      "\n",
      "구구단을 외자 : 8x1=8\n",
      "구구단을 외자 : 8x2=16\n",
      "구구단을 외자 : 8x3=24\n",
      "구구단을 외자 : 8x4=32\n",
      "구구단을 외자 : 8x5=40\n",
      "구구단을 외자 : 8x6=48\n",
      "구구단을 외자 : 8x7=56\n",
      "구구단을 외자 : 8x8=64\n",
      "구구단을 외자 : 8x9=72\n",
      "\n",
      "구구단을 외자 : 9x1=9\n",
      "구구단을 외자 : 9x2=18\n",
      "구구단을 외자 : 9x3=27\n",
      "구구단을 외자 : 9x4=36\n",
      "구구단을 외자 : 9x5=45\n",
      "구구단을 외자 : 9x6=54\n",
      "구구단을 외자 : 9x7=63\n",
      "구구단을 외자 : 9x8=72\n",
      "구구단을 외자 : 9x9=81\n",
      "\n"
     ]
    }
   ],
   "source": [
    "# 예시 중첩리스트 축약\n",
    "pairs = dict(((x,y),x*y) for x in range(2,10) for y in range(1,10))\n",
    "# pairs\n",
    "\n",
    "# k = enumerate(pairs)\n",
    "for i,j in pairs.items(): #그냥 pair시에는 디폴트 key\n",
    "#     print(i,j)\n",
    "    print( '구구단을 외자 : {}x{}={}'.format(i[0],i[1],j))\n",
    "    if i[1] == 9:\n",
    "        print()"
   ]
  },
  {
   "cell_type": "code",
   "execution_count": 107,
   "metadata": {},
   "outputs": [
    {
     "name": "stdout",
     "output_type": "stream",
     "text": [
      "2x1=2 3x1=3 4x1=4 5x1=5 6x1=6 7x1=7 8x1=8 9x1=9 \n",
      "2x2=4 3x2=6 4x2=8 5x2=10 6x2=12 7x2=14 8x2=16 9x2=18 \n",
      "2x3=6 3x3=9 4x3=12 5x3=15 6x3=18 7x3=21 8x3=24 9x3=27 \n",
      "2x4=8 3x4=12 4x4=16 5x4=20 6x4=24 7x4=28 8x4=32 9x4=36 \n",
      "2x5=10 3x5=15 4x5=20 5x5=25 6x5=30 7x5=35 8x5=40 9x5=45 \n",
      "2x6=12 3x6=18 4x6=24 5x6=30 6x6=36 7x6=42 8x6=48 9x6=54 \n",
      "2x7=14 3x7=21 4x7=28 5x7=35 6x7=42 7x7=49 8x7=56 9x7=63 \n",
      "2x8=16 3x8=24 4x8=32 5x8=40 6x8=48 7x8=56 8x8=64 9x8=72 \n",
      "2x9=18 3x9=27 4x9=36 5x9=45 6x9=54 7x9=63 8x9=72 9x9=81 \n"
     ]
    }
   ],
   "source": [
    "# triples = [(x,y,x*y) for x in range(2,10) for y in range(1,10)]\n",
    "# for x,y,z in triples:\n",
    "#     for y in range(1,10):\n",
    "#         print('{}x{}={}'.format(x,y,z), end=' ')\n",
    "#         if y == 9:\n",
    "#             print()]\n",
    "            \n",
    "            \n",
    "for y in range(1,10):\n",
    "    for x in range(2,10):\n",
    "        print('{}x{}={}'.format(x,y,x*y), end=' ')\n",
    "        if x == 9:\n",
    "            print()    \n",
    "    "
   ]
  },
  {
   "cell_type": "code",
   "execution_count": 110,
   "metadata": {},
   "outputs": [
    {
     "data": {
      "text/plain": [
       "[(1, 2, 3),\n",
       " (1, 2, 5),\n",
       " (1, 2, 7),\n",
       " (1, 2, 9),\n",
       " (1, 3, 4),\n",
       " (1, 3, 6),\n",
       " (1, 3, 8),\n",
       " (1, 4, 5),\n",
       " (1, 4, 7),\n",
       " (1, 4, 9),\n",
       " (1, 5, 6),\n",
       " (1, 5, 8),\n",
       " (1, 6, 7),\n",
       " (1, 6, 9),\n",
       " (1, 7, 8),\n",
       " (1, 8, 9),\n",
       " (2, 3, 4),\n",
       " (2, 3, 7),\n",
       " (2, 4, 5),\n",
       " (2, 4, 8),\n",
       " (2, 5, 6),\n",
       " (2, 5, 9),\n",
       " (2, 6, 7),\n",
       " (2, 7, 8),\n",
       " (2, 8, 9),\n",
       " (3, 4, 5),\n",
       " (3, 4, 9),\n",
       " (3, 5, 6),\n",
       " (3, 6, 7),\n",
       " (3, 7, 8),\n",
       " (3, 8, 9),\n",
       " (4, 5, 6),\n",
       " (4, 6, 7),\n",
       " (4, 7, 8),\n",
       " (4, 8, 9),\n",
       " (5, 6, 7),\n",
       " (5, 7, 8),\n",
       " (5, 8, 9),\n",
       " (6, 7, 8),\n",
       " (6, 8, 9),\n",
       " (7, 8, 9)]"
      ]
     },
     "execution_count": 110,
     "metadata": {},
     "output_type": "execute_result"
    }
   ],
   "source": [
    "triples = [(x,y,z) for x in range(1,10)\n",
    "          for y in range(x+1,10)\n",
    "          for z in range(y+1,10,x+1)]\n",
    "triples"
   ]
  },
  {
   "cell_type": "code",
   "execution_count": 22,
   "metadata": {},
   "outputs": [
    {
     "data": {
      "text/plain": [
       "['FSW',\n",
       " 'FSG',\n",
       " 'FSR',\n",
       " 'FSB',\n",
       " 'FMW',\n",
       " 'FMG',\n",
       " 'FMR',\n",
       " 'FMB',\n",
       " 'FLW',\n",
       " 'FLG',\n",
       " 'FLR',\n",
       " 'FLB',\n",
       " 'MSW',\n",
       " 'MSG',\n",
       " 'MSR',\n",
       " 'MSB',\n",
       " 'MMW',\n",
       " 'MMG',\n",
       " 'MMR',\n",
       " 'MMB',\n",
       " 'MLW',\n",
       " 'MLG',\n",
       " 'MLR',\n",
       " 'MLB',\n",
       " 'MXW',\n",
       " 'MXG',\n",
       " 'MXR',\n",
       " 'MXB']"
      ]
     },
     "execution_count": 22,
     "metadata": {},
     "output_type": "execute_result"
    }
   ],
   "source": [
    "sku = [gender + size + color \n",
    "       for gender in 'FM' \n",
    "       for size in 'SMLX' if not( gender == 'F' and size == 'X' )  \n",
    "       for color in 'WGRB']\n",
    "sku"
   ]
  },
  {
   "cell_type": "code",
   "execution_count": 25,
   "metadata": {},
   "outputs": [
    {
     "name": "stdout",
     "output_type": "stream",
     "text": [
      "['FSW', 'FSG', 'FSR', 'FSB', 'FMW', 'FMG', 'FMR', 'FMB', 'FLW', 'FLG', 'FLR', 'FLB', 'MSW', 'MSG', 'MSR', 'MSB', 'MMW', 'MMG', 'MMR', 'MMB', 'MLW', 'MLG', 'MLR', 'MLB', 'MXW', 'MXG', 'MXR', 'MXB']\n"
     ]
    },
    {
     "data": {
      "text/plain": [
       "['FSW',\n",
       " 'FSG',\n",
       " 'FSR',\n",
       " 'FSB',\n",
       " 'FMW',\n",
       " 'FMG',\n",
       " 'FMR',\n",
       " 'FMB',\n",
       " 'FLW',\n",
       " 'FLG',\n",
       " 'FLR',\n",
       " 'FLB',\n",
       " 'MSW',\n",
       " 'MSG',\n",
       " 'MSR',\n",
       " 'MSB',\n",
       " 'MMW',\n",
       " 'MMG',\n",
       " 'MMR',\n",
       " 'MMB',\n",
       " 'MLW',\n",
       " 'MLG',\n",
       " 'MLR',\n",
       " 'MLB',\n",
       " 'MXW',\n",
       " 'MXG',\n",
       " 'MXR',\n",
       " 'MXB']"
      ]
     },
     "execution_count": 25,
     "metadata": {},
     "output_type": "execute_result"
    }
   ],
   "source": [
    "sku = [gender + size + color \n",
    "       for gender in 'FM' \n",
    "       for size in 'SMLX' \n",
    "       for color in 'WGRB' \n",
    "       if not( gender == 'F' and size == 'X' )]\n",
    "print(sku)\n",
    "sku"
   ]
  },
  {
   "cell_type": "markdown",
   "metadata": {},
   "source": [
    "### 2) 튜플\n",
    "#### # 불변자료형\n",
    "생성한 후 담고 있는 객체 변경이 불가\n",
    "\n",
    "순서를 가지는 0개 이상의 배열형\n",
    "\n",
    "각항목은 "
   ]
  },
  {
   "cell_type": "markdown",
   "metadata": {},
   "source": [
    "#튜플생성\n"
   ]
  },
  {
   "cell_type": "code",
   "execution_count": 111,
   "metadata": {},
   "outputs": [
    {
     "data": {
      "text/plain": [
       "()"
      ]
     },
     "execution_count": 111,
     "metadata": {},
     "output_type": "execute_result"
    },
    {
     "data": {
      "text/plain": [
       "()"
      ]
     },
     "execution_count": 111,
     "metadata": {},
     "output_type": "execute_result"
    }
   ],
   "source": [
    "#빈튜플생성\n",
    "\n",
    "empty1=()\n",
    "empty1\n",
    "\n",
    "empty2 = tuple()\n",
    "empty2"
   ]
  },
  {
   "cell_type": "code",
   "execution_count": 112,
   "metadata": {},
   "outputs": [
    {
     "data": {
      "text/plain": [
       "('파이썬',)"
      ]
     },
     "execution_count": 112,
     "metadata": {},
     "output_type": "execute_result"
    },
    {
     "data": {
      "text/plain": [
       "('엄마', '아빠', '나', '동생')"
      ]
     },
     "execution_count": 112,
     "metadata": {},
     "output_type": "execute_result"
    }
   ],
   "source": [
    "#튜플연산자로 ()생성\n",
    "T = ('파이썬',)\n",
    "T\n",
    "\n",
    "family = ('엄마','아빠','나','동생')\n",
    "family"
   ]
  },
  {
   "cell_type": "code",
   "execution_count": 115,
   "metadata": {},
   "outputs": [
    {
     "data": {
      "text/plain": [
       "0"
      ]
     },
     "execution_count": 115,
     "metadata": {},
     "output_type": "execute_result"
    },
    {
     "data": {
      "text/plain": [
       "0"
      ]
     },
     "execution_count": 115,
     "metadata": {},
     "output_type": "execute_result"
    },
    {
     "data": {
      "text/plain": [
       "1"
      ]
     },
     "execution_count": 115,
     "metadata": {},
     "output_type": "execute_result"
    },
    {
     "data": {
      "text/plain": [
       "4"
      ]
     },
     "execution_count": 115,
     "metadata": {},
     "output_type": "execute_result"
    }
   ],
   "source": [
    "len(empty1)\n",
    "len(empty2)\n",
    "len(T)\n",
    "len(family)"
   ]
  },
  {
   "cell_type": "code",
   "execution_count": 117,
   "metadata": {},
   "outputs": [
    {
     "data": {
      "text/plain": [
       "('a', 'b', 'c')"
      ]
     },
     "execution_count": 117,
     "metadata": {},
     "output_type": "execute_result"
    }
   ],
   "source": [
    "t = 'a','b','c',\n",
    "t"
   ]
  },
  {
   "cell_type": "code",
   "execution_count": 4,
   "metadata": {},
   "outputs": [
    {
     "data": {
      "text/plain": [
       "tuple"
      ]
     },
     "execution_count": 4,
     "metadata": {},
     "output_type": "execute_result"
    },
    {
     "data": {
      "text/plain": [
       "str"
      ]
     },
     "execution_count": 4,
     "metadata": {},
     "output_type": "execute_result"
    },
    {
     "data": {
      "text/plain": [
       "tuple"
      ]
     },
     "execution_count": 4,
     "metadata": {},
     "output_type": "execute_result"
    },
    {
     "data": {
      "text/plain": [
       "str"
      ]
     },
     "execution_count": 4,
     "metadata": {},
     "output_type": "execute_result"
    }
   ],
   "source": [
    "# 단일 항목의 경우\n",
    "# 붙은 쉼표가 반드시 있어야 함\n",
    "\n",
    "t1 = ('파이썬',)\n",
    "t2 = ('파이썬')\n",
    "t3 = '파이썬',\n",
    "t4 = '파이썬'\n",
    "\n",
    "type(t1)\n",
    "type(t2)\n",
    "type(t3)\n",
    "type(t4)"
   ]
  },
  {
   "cell_type": "code",
   "execution_count": 8,
   "metadata": {},
   "outputs": [
    {
     "data": {
      "text/plain": [
       "3"
      ]
     },
     "execution_count": 8,
     "metadata": {},
     "output_type": "execute_result"
    },
    {
     "data": {
      "text/plain": [
       "3"
      ]
     },
     "execution_count": 8,
     "metadata": {},
     "output_type": "execute_result"
    },
    {
     "data": {
      "text/plain": [
       "(1, 2, 3)"
      ]
     },
     "execution_count": 8,
     "metadata": {},
     "output_type": "execute_result"
    },
    {
     "data": {
      "text/plain": [
       "('a', 'b', 'c')"
      ]
     },
     "execution_count": 8,
     "metadata": {},
     "output_type": "execute_result"
    }
   ],
   "source": [
    "# 튜플 생성시 주의 사항 : 복수항목의 경우\n",
    "# 마지막 항목에 붙은 쉼표는 불필요\n",
    "\n",
    "t5 = (1,2,3,)\n",
    "len(t5)\n",
    "\n",
    "t6 = (1,2,3)\n",
    "t7 =1,2,3\n",
    "t8 = 'a','b','c'\n",
    "\n",
    "len(t6)\n",
    "\n",
    "# 정의한 튜플을 불렀을 때 아웃풋을 무조건 괄호로 묶음\n",
    "t5\n",
    "t8"
   ]
  },
  {
   "cell_type": "code",
   "execution_count": 13,
   "metadata": {},
   "outputs": [
    {
     "data": {
      "text/plain": [
       "5"
      ]
     },
     "execution_count": 13,
     "metadata": {},
     "output_type": "execute_result"
    },
    {
     "data": {
      "text/plain": [
       "((), [1, -7, 1.23], '드럼', ('토', '일', True), [])"
      ]
     },
     "execution_count": 13,
     "metadata": {},
     "output_type": "execute_result"
    },
    {
     "data": {
      "text/plain": [
       "tuple"
      ]
     },
     "execution_count": 13,
     "metadata": {},
     "output_type": "execute_result"
    },
    {
     "data": {
      "text/plain": [
       "True"
      ]
     },
     "execution_count": 13,
     "metadata": {},
     "output_type": "execute_result"
    },
    {
     "data": {
      "text/plain": [
       "('토', '일', True, '토', '일', True)"
      ]
     },
     "execution_count": 13,
     "metadata": {},
     "output_type": "execute_result"
    }
   ],
   "source": [
    "alist = [1,-7,1.23]\n",
    "atuple = ('토','일',True)\n",
    "comp = (tuple(),alist,'드럼',atuple,[])\n",
    "len(comp)\n",
    "\n",
    "comp\n",
    "\n",
    "type(comp)\n",
    "comp[-2][-1]\n",
    "\n",
    "atuple *2"
   ]
  },
  {
   "cell_type": "code",
   "execution_count": null,
   "metadata": {},
   "outputs": [],
   "source": [
    "# 튜플 대입\n",
    "우변의 값을 좌변의 변수에 할당하는 과정\n",
    "\n",
    "좌변 = 변수튜플\n",
    "우변 = 표현식 투플 문자열과 리스트 강ㅌ은 배열햐ㅕㅇ 자료도 가능\n",
    "\n",
    "두변수 간의 값을 서로 바꿀때 유용"
   ]
  },
  {
   "cell_type": "code",
   "execution_count": 18,
   "metadata": {},
   "outputs": [
    {
     "name": "stdout",
     "output_type": "stream",
     "text": [
      "드럼 기타 피아노\n",
      "기타 드럼 피아노\n"
     ]
    },
    {
     "data": {
      "text/plain": [
       "'bjw419'"
      ]
     },
     "execution_count": 18,
     "metadata": {},
     "output_type": "execute_result"
    },
    {
     "data": {
      "text/plain": [
       "'gmail.com'"
      ]
     },
     "execution_count": 18,
     "metadata": {},
     "output_type": "execute_result"
    }
   ],
   "source": [
    "# 예시 튜플대입\n",
    "i,j,k='드럼','기타','피아노'\n",
    "print(i,j,k)\n",
    "\n",
    "i,j = j,i\n",
    "print(i,j,k)\n",
    "\n",
    "# 갯수 맞지 않으면 error\n",
    "mail='bjw419@gmail.com'\n",
    "username ,domain = mail.split('@')\n",
    "username\n",
    "domain"
   ]
  },
  {
   "cell_type": "code",
   "execution_count": 21,
   "metadata": {},
   "outputs": [
    {
     "data": {
      "text/plain": [
       "1"
      ]
     },
     "execution_count": 21,
     "metadata": {},
     "output_type": "execute_result"
    },
    {
     "data": {
      "text/plain": [
       "3"
      ]
     },
     "execution_count": 21,
     "metadata": {},
     "output_type": "execute_result"
    },
    {
     "data": {
      "text/plain": [
       "4"
      ]
     },
     "execution_count": 21,
     "metadata": {},
     "output_type": "execute_result"
    }
   ],
   "source": [
    "#더미변수와 튜플대입\n",
    "\n",
    "x,_,y,_ = 1,2,3,4\n",
    "\n",
    "x\n",
    "y\n",
    "_"
   ]
  },
  {
   "cell_type": "code",
   "execution_count": 26,
   "metadata": {},
   "outputs": [
    {
     "data": {
      "text/plain": [
       "1"
      ]
     },
     "execution_count": 26,
     "metadata": {},
     "output_type": "execute_result"
    },
    {
     "data": {
      "text/plain": [
       "[2, 2, 'dd']"
      ]
     },
     "execution_count": 26,
     "metadata": {},
     "output_type": "execute_result"
    },
    {
     "data": {
      "text/plain": [
       "{}"
      ]
     },
     "execution_count": 26,
     "metadata": {},
     "output_type": "execute_result"
    },
    {
     "data": {
      "text/plain": [
       "('s',)"
      ]
     },
     "execution_count": 26,
     "metadata": {},
     "output_type": "execute_result"
    }
   ],
   "source": [
    "# 튜플 패킹과 언패킹\n",
    "k = 1,[2,2,'dd'],{},('s',)\n",
    "a,b,c,d = k\n",
    "a\n",
    "b\n",
    "c\n",
    "d"
   ]
  },
  {
   "cell_type": "code",
   "execution_count": 30,
   "metadata": {},
   "outputs": [
    {
     "data": {
      "text/plain": [
       "['d', [1, 2, 3], {}]"
      ]
     },
     "execution_count": 30,
     "metadata": {},
     "output_type": "execute_result"
    },
    {
     "data": {
      "text/plain": [
       "30"
      ]
     },
     "execution_count": 30,
     "metadata": {},
     "output_type": "execute_result"
    },
    {
     "data": {
      "text/plain": [
       "30"
      ]
     },
     "execution_count": 30,
     "metadata": {},
     "output_type": "execute_result"
    }
   ],
   "source": [
    "# 배열형 패킹 언패킹 연산자 \n",
    "\n",
    "# * (패킹)\n",
    "# 대입문의 좌변 변수에 위치\n",
    "# 리스트로 나머지 대입\n",
    "\n",
    "x,y,*z = 3.14,2,'d',[1,2,3],{}\n",
    "z\n",
    "\n",
    "#언패킹 *변수이름 -> 튜플로 대입\n",
    "\n",
    "def multiply(x,y,z):\n",
    "    return x*y*z\n",
    "\n",
    "multiply(2,3,5)\n",
    "numbers = 2,3,5\n",
    "multiply(*numbers)"
   ]
  },
  {
   "cell_type": "markdown",
   "metadata": {},
   "source": [
    "## 네임드튜플\n",
    "collections 모듈에서 불렁호가를 해야함\n",
    "\n",
    "투플내 각항목을 필드이름 또는 인덱스 위치로 참조 가능\n",
    "\n"
   ]
  },
  {
   "cell_type": "code",
   "execution_count": 35,
   "metadata": {},
   "outputs": [
    {
     "data": {
      "text/plain": [
       "__main__.RGB"
      ]
     },
     "execution_count": 35,
     "metadata": {},
     "output_type": "execute_result"
    },
    {
     "data": {
      "text/plain": [
       "RGB(red=0, green=51, blue=204)"
      ]
     },
     "execution_count": 35,
     "metadata": {},
     "output_type": "execute_result"
    }
   ],
   "source": [
    "from collections import namedtuple\n",
    "RGBtuple = namedtuple('RGB',['red','green','blue'])\n",
    "RGBtuple\n",
    "\n",
    "x =  RGBtuple(0,blue=204,green=51)\n",
    "x\n",
    "# x =  RGBtuple(blue=204,red=51,0)\n"
   ]
  },
  {
   "cell_type": "code",
   "execution_count": 36,
   "metadata": {},
   "outputs": [
    {
     "data": {
      "text/plain": [
       "0"
      ]
     },
     "execution_count": 36,
     "metadata": {},
     "output_type": "execute_result"
    }
   ],
   "source": [
    "x[0]"
   ]
  },
  {
   "cell_type": "code",
   "execution_count": 38,
   "metadata": {},
   "outputs": [
    {
     "data": {
      "text/plain": [
       "204"
      ]
     },
     "execution_count": 38,
     "metadata": {},
     "output_type": "execute_result"
    }
   ],
   "source": [
    "x.blue"
   ]
  },
  {
   "cell_type": "code",
   "execution_count": 43,
   "metadata": {},
   "outputs": [
    {
     "data": {
      "text/plain": [
       "__main__.student"
      ]
     },
     "execution_count": 43,
     "metadata": {},
     "output_type": "execute_result"
    },
    {
     "data": {
      "text/plain": [
       "student(id='12345', name='홍', _2='길동', exam=91, _4=95, grade='A0')"
      ]
     },
     "execution_count": 43,
     "metadata": {},
     "output_type": "execute_result"
    }
   ],
   "source": [
    "# %%!네임드 튜플의 선택 전달인자 활용\n",
    "from collections import namedtuple\n",
    "pythoncourse = namedtuple('student',\n",
    "                         'id,name,name,exam,exam,grade',\n",
    "                         rename=True)\n",
    "pythoncourse\n",
    "\n",
    "s = pythoncourse('12345','홍','길동',91,95,'A0')\n",
    "s"
   ]
  },
  {
   "cell_type": "code",
   "execution_count": 46,
   "metadata": {},
   "outputs": [
    {
     "data": {
      "text/plain": [
       "__main__.국경일"
      ]
     },
     "execution_count": 46,
     "metadata": {},
     "output_type": "execute_result"
    },
    {
     "data": {
      "text/plain": [
       "국경일(name='한글날', month='10월', day='9일')"
      ]
     },
     "execution_count": 46,
     "metadata": {},
     "output_type": "execute_result"
    }
   ],
   "source": [
    "# 네임드 튜플의 속성과 메소드 활용\n",
    "from collections import namedtuple\n",
    "National = namedtuple('국경일','name month day')\n",
    "National\n",
    "\n",
    "han = National('한글날','10월','9일')\n",
    "han"
   ]
  },
  {
   "cell_type": "code",
   "execution_count": null,
   "metadata": {},
   "outputs": [],
   "source": []
  }
 ],
 "metadata": {
  "kernelspec": {
   "display_name": "Python 3",
   "language": "python",
   "name": "python3"
  },
  "language_info": {
   "codemirror_mode": {
    "name": "ipython",
    "version": 3
   },
   "file_extension": ".py",
   "mimetype": "text/x-python",
   "name": "python",
   "nbconvert_exporter": "python",
   "pygments_lexer": "ipython3",
   "version": "3.6.5"
  }
 },
 "nbformat": 4,
 "nbformat_minor": 2
}
