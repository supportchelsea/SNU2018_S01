{
 "cells": [
  {
   "cell_type": "markdown",
   "metadata": {},
   "source": [
    "# 3 - 1 Basic data types (기본 자료형)"
   ]
  },
  {
   "cell_type": "markdown",
   "metadata": {},
   "source": [
    "- 식별자와 예약어\n",
    "- 자료형\n",
    "- 불린형\n",
    "- 숫자형\n",
    "- 문자열\n",
    "- 문자열 서식 설정"
   ]
  },
  {
   "cell_type": "code",
   "execution_count": 9,
   "metadata": {},
   "outputs": [],
   "source": [
    "from IPython.core.interactiveshell import InteractiveShell\n",
    "InteractiveShell.ast_node_interactivity = \"all\""
   ]
  },
  {
   "cell_type": "markdown",
   "metadata": {},
   "source": [
    "## 식별자와 예약어"
   ]
  },
  {
   "cell_type": "code",
   "execution_count": 4,
   "metadata": {},
   "outputs": [
    {
     "name": "stdout",
     "output_type": "stream",
     "text": [
      "0x64156c90\n",
      "0x64156c90\n"
     ]
    }
   ],
   "source": [
    "## 식별자와 예약어\n",
    "# identifiers & reserved words\n",
    "\n",
    "#\n",
    "i=5\n",
    "i\n",
    "print(hex(id(i)))\n",
    "print(hex(id(5)))"
   ]
  },
  {
   "cell_type": "code",
   "execution_count": 7,
   "metadata": {},
   "outputs": [
    {
     "name": "stdout",
     "output_type": "stream",
     "text": [
      "0x64157b50\n",
      "0x1442e4cb7a0\n",
      "0x64157b50\n",
      "\n",
      "0x64157b50\n",
      "0x1442e4cb7a0\n"
     ]
    }
   ],
   "source": [
    "# 객체 참조 - object reference\n",
    "s1 = 123\n",
    "s2 = 'python'\n",
    "s3 = s1 \n",
    "#만약 s2 = s3 라는 명령문 추가되면 더이상 'python' 문자열 객체를 참조하는 변수가 없음 -> gc(=garbage collection)의 대상\n",
    "\n",
    "print(hex(id(s1)))\n",
    "print(hex(id(s2)))\n",
    "print(hex(id(s3)))\n",
    "print()\n",
    "\n",
    "print(hex(id(123)))\n",
    "print(hex(id('python')))"
   ]
  },
  {
   "cell_type": "code",
   "execution_count": 11,
   "metadata": {
    "scrolled": true
   },
   "outputs": [
    {
     "name": "stdout",
     "output_type": "stream",
     "text": [
      "['x', 'b', 'c']\n",
      "['a', 'b', 'c']\n",
      "['x', 'b', 'c']\n"
     ]
    }
   ],
   "source": [
    "#mutable object and alias(가변 변수와 별명)\n",
    "list1 = ['a','b','c']\n",
    "list2= ['a','b','c'] #같은 값이지만 독립적\n",
    "list3 = list1 #aliasing\n",
    "\n",
    "list1[0] = 'x'\n",
    "\n",
    "print(list1)\n",
    "print(list2)\n",
    "print(list3) #list 1,3 바뀜"
   ]
  },
  {
   "cell_type": "markdown",
   "metadata": {},
   "source": [
    "#식별자 구성 규칙\n",
    "- 시작 문자 + 0개 혹은 그 이상의 문자 (첫글자 외에 숫자 사용가능) -> 파이썬 키워드와 동일한 이름은 사용 불가 / 단어사이 밑줄가능\n",
    "- 세미콜론, 함수이름 불가능\n",
    "- 한글 가능하지만 유니코드 문제 발생가능"
   ]
  },
  {
   "cell_type": "code",
   "execution_count": 12,
   "metadata": {},
   "outputs": [
    {
     "data": {
      "text/plain": [
       "['ArithmeticError',\n",
       " 'AssertionError',\n",
       " 'AttributeError',\n",
       " 'BaseException',\n",
       " 'BlockingIOError',\n",
       " 'BrokenPipeError',\n",
       " 'BufferError',\n",
       " 'BytesWarning',\n",
       " 'ChildProcessError',\n",
       " 'ConnectionAbortedError',\n",
       " 'ConnectionError',\n",
       " 'ConnectionRefusedError',\n",
       " 'ConnectionResetError',\n",
       " 'DeprecationWarning',\n",
       " 'EOFError',\n",
       " 'Ellipsis',\n",
       " 'EnvironmentError',\n",
       " 'Exception',\n",
       " 'False',\n",
       " 'FileExistsError',\n",
       " 'FileNotFoundError',\n",
       " 'FloatingPointError',\n",
       " 'FutureWarning',\n",
       " 'GeneratorExit',\n",
       " 'IOError',\n",
       " 'ImportError',\n",
       " 'ImportWarning',\n",
       " 'IndentationError',\n",
       " 'IndexError',\n",
       " 'InterruptedError',\n",
       " 'IsADirectoryError',\n",
       " 'KeyError',\n",
       " 'KeyboardInterrupt',\n",
       " 'LookupError',\n",
       " 'MemoryError',\n",
       " 'ModuleNotFoundError',\n",
       " 'NameError',\n",
       " 'None',\n",
       " 'NotADirectoryError',\n",
       " 'NotImplemented',\n",
       " 'NotImplementedError',\n",
       " 'OSError',\n",
       " 'OverflowError',\n",
       " 'PendingDeprecationWarning',\n",
       " 'PermissionError',\n",
       " 'ProcessLookupError',\n",
       " 'RecursionError',\n",
       " 'ReferenceError',\n",
       " 'ResourceWarning',\n",
       " 'RuntimeError',\n",
       " 'RuntimeWarning',\n",
       " 'StopAsyncIteration',\n",
       " 'StopIteration',\n",
       " 'SyntaxError',\n",
       " 'SyntaxWarning',\n",
       " 'SystemError',\n",
       " 'SystemExit',\n",
       " 'TabError',\n",
       " 'TimeoutError',\n",
       " 'True',\n",
       " 'TypeError',\n",
       " 'UnboundLocalError',\n",
       " 'UnicodeDecodeError',\n",
       " 'UnicodeEncodeError',\n",
       " 'UnicodeError',\n",
       " 'UnicodeTranslateError',\n",
       " 'UnicodeWarning',\n",
       " 'UserWarning',\n",
       " 'ValueError',\n",
       " 'Warning',\n",
       " 'WindowsError',\n",
       " 'ZeroDivisionError',\n",
       " '__IPYTHON__',\n",
       " '__build_class__',\n",
       " '__debug__',\n",
       " '__doc__',\n",
       " '__import__',\n",
       " '__loader__',\n",
       " '__name__',\n",
       " '__package__',\n",
       " '__spec__',\n",
       " 'abs',\n",
       " 'all',\n",
       " 'any',\n",
       " 'ascii',\n",
       " 'bin',\n",
       " 'bool',\n",
       " 'bytearray',\n",
       " 'bytes',\n",
       " 'callable',\n",
       " 'chr',\n",
       " 'classmethod',\n",
       " 'compile',\n",
       " 'complex',\n",
       " 'copyright',\n",
       " 'credits',\n",
       " 'delattr',\n",
       " 'dict',\n",
       " 'dir',\n",
       " 'display',\n",
       " 'divmod',\n",
       " 'enumerate',\n",
       " 'eval',\n",
       " 'exec',\n",
       " 'filter',\n",
       " 'float',\n",
       " 'format',\n",
       " 'frozenset',\n",
       " 'get_ipython',\n",
       " 'getattr',\n",
       " 'globals',\n",
       " 'hasattr',\n",
       " 'hash',\n",
       " 'help',\n",
       " 'hex',\n",
       " 'id',\n",
       " 'input',\n",
       " 'int',\n",
       " 'isinstance',\n",
       " 'issubclass',\n",
       " 'iter',\n",
       " 'len',\n",
       " 'license',\n",
       " 'list',\n",
       " 'locals',\n",
       " 'map',\n",
       " 'max',\n",
       " 'memoryview',\n",
       " 'min',\n",
       " 'next',\n",
       " 'object',\n",
       " 'oct',\n",
       " 'open',\n",
       " 'ord',\n",
       " 'pow',\n",
       " 'print',\n",
       " 'property',\n",
       " 'range',\n",
       " 'repr',\n",
       " 'reversed',\n",
       " 'round',\n",
       " 'set',\n",
       " 'setattr',\n",
       " 'slice',\n",
       " 'sorted',\n",
       " 'staticmethod',\n",
       " 'str',\n",
       " 'sum',\n",
       " 'super',\n",
       " 'tuple',\n",
       " 'type',\n",
       " 'vars',\n",
       " 'zip']"
      ]
     },
     "execution_count": 12,
     "metadata": {},
     "output_type": "execute_result"
    }
   ],
   "source": [
    "\n",
    "\n",
    "dir(__builtin__)\n"
   ]
  },
  {
   "cell_type": "code",
   "execution_count": 26,
   "metadata": {},
   "outputs": [
    {
     "name": "stdout",
     "output_type": "stream",
     "text": [
      "4.0\n"
     ]
    },
    {
     "ename": "TypeError",
     "evalue": "unsupported operand type(s) for +: 'int' and 'str'",
     "output_type": "error",
     "traceback": [
      "\u001b[1;31m---------------------------------------------------------------------------\u001b[0m",
      "\u001b[1;31mTypeError\u001b[0m                                 Traceback (most recent call last)",
      "\u001b[1;32m<ipython-input-26-d2e3b5c63496>\u001b[0m in \u001b[0;36m<module>\u001b[1;34m()\u001b[0m\n\u001b[0;32m      2\u001b[0m \u001b[0mprice\u001b[0m \u001b[1;33m=\u001b[0m \u001b[1;36m80\u001b[0m\u001b[1;33m\u001b[0m\u001b[0m\n\u001b[0;32m      3\u001b[0m \u001b[0mprint\u001b[0m\u001b[1;33m(\u001b[0m\u001b[0mprice\u001b[0m \u001b[1;33m*\u001b[0m \u001b[0mtax\u001b[0m\u001b[1;33m)\u001b[0m\u001b[1;33m\u001b[0m\u001b[0m\n\u001b[1;32m----> 4\u001b[1;33m \u001b[0mprice\u001b[0m \u001b[1;33m+\u001b[0m \u001b[0m_\u001b[0m\u001b[1;33m\u001b[0m\u001b[0m\n\u001b[0m",
      "\u001b[1;31mTypeError\u001b[0m: unsupported operand type(s) for +: 'int' and 'str'"
     ]
    }
   ],
   "source": [
    "\n",
    "tax=0.05\n",
    "price = 80\n",
    "print(price * tax)\n",
    "price + _"
   ]
  },
  {
   "cell_type": "code",
   "execution_count": 15,
   "metadata": {},
   "outputs": [
    {
     "data": {
      "text/plain": [
       "['__add__',\n",
       " '__class__',\n",
       " '__contains__',\n",
       " '__delattr__',\n",
       " '__delitem__',\n",
       " '__dir__',\n",
       " '__doc__',\n",
       " '__eq__',\n",
       " '__format__',\n",
       " '__ge__',\n",
       " '__getattribute__',\n",
       " '__getitem__',\n",
       " '__gt__',\n",
       " '__hash__',\n",
       " '__iadd__',\n",
       " '__imul__',\n",
       " '__init__',\n",
       " '__init_subclass__',\n",
       " '__iter__',\n",
       " '__le__',\n",
       " '__len__',\n",
       " '__lt__',\n",
       " '__mul__',\n",
       " '__ne__',\n",
       " '__new__',\n",
       " '__reduce__',\n",
       " '__reduce_ex__',\n",
       " '__repr__',\n",
       " '__reversed__',\n",
       " '__rmul__',\n",
       " '__setattr__',\n",
       " '__setitem__',\n",
       " '__sizeof__',\n",
       " '__str__',\n",
       " '__subclasshook__',\n",
       " 'append',\n",
       " 'clear',\n",
       " 'copy',\n",
       " 'count',\n",
       " 'extend',\n",
       " 'index',\n",
       " 'insert',\n",
       " 'pop',\n",
       " 'remove',\n",
       " 'reverse',\n",
       " 'sort']"
      ]
     },
     "execution_count": 15,
     "metadata": {},
     "output_type": "execute_result"
    }
   ],
   "source": [
    "dir([object])"
   ]
  },
  {
   "cell_type": "code",
   "execution_count": 27,
   "metadata": {},
   "outputs": [
    {
     "data": {
      "text/plain": [
       "['__abs__',\n",
       " '__add__',\n",
       " '__and__',\n",
       " '__bool__',\n",
       " '__ceil__',\n",
       " '__class__',\n",
       " '__delattr__',\n",
       " '__dir__',\n",
       " '__divmod__',\n",
       " '__doc__',\n",
       " '__eq__',\n",
       " '__float__',\n",
       " '__floor__',\n",
       " '__floordiv__',\n",
       " '__format__',\n",
       " '__ge__',\n",
       " '__getattribute__',\n",
       " '__getnewargs__',\n",
       " '__gt__',\n",
       " '__hash__',\n",
       " '__index__',\n",
       " '__init__',\n",
       " '__init_subclass__',\n",
       " '__int__',\n",
       " '__invert__',\n",
       " '__le__',\n",
       " '__lshift__',\n",
       " '__lt__',\n",
       " '__mod__',\n",
       " '__mul__',\n",
       " '__ne__',\n",
       " '__neg__',\n",
       " '__new__',\n",
       " '__or__',\n",
       " '__pos__',\n",
       " '__pow__',\n",
       " '__radd__',\n",
       " '__rand__',\n",
       " '__rdivmod__',\n",
       " '__reduce__',\n",
       " '__reduce_ex__',\n",
       " '__repr__',\n",
       " '__rfloordiv__',\n",
       " '__rlshift__',\n",
       " '__rmod__',\n",
       " '__rmul__',\n",
       " '__ror__',\n",
       " '__round__',\n",
       " '__rpow__',\n",
       " '__rrshift__',\n",
       " '__rshift__',\n",
       " '__rsub__',\n",
       " '__rtruediv__',\n",
       " '__rxor__',\n",
       " '__setattr__',\n",
       " '__sizeof__',\n",
       " '__str__',\n",
       " '__sub__',\n",
       " '__subclasshook__',\n",
       " '__truediv__',\n",
       " '__trunc__',\n",
       " '__xor__',\n",
       " 'bit_length',\n",
       " 'conjugate',\n",
       " 'denominator',\n",
       " 'from_bytes',\n",
       " 'imag',\n",
       " 'numerator',\n",
       " 'real',\n",
       " 'to_bytes']"
      ]
     },
     "execution_count": 27,
     "metadata": {},
     "output_type": "execute_result"
    }
   ],
   "source": [
    "dir(int)"
   ]
  },
  {
   "cell_type": "markdown",
   "metadata": {},
   "source": [
    "## 자료형\n",
    "식별자가 어떤 종류의 값을 저장할 수 있는지에 대한 정보\n",
    "어떤 방식으로 저장될 것인지\n",
    "데이터가 어떤 명령을 실행할 수 있는지\n",
    "\n",
    "- 불변성 : 생성 후 내용의 변경이 불가 (불린,정수,실수,문자열,튜플 등)\n",
    "- 가변성 : 생성 후 변경 가능 (리스트,셋,딕셔너리 등)\n",
    "\n"
   ]
  },
  {
   "cell_type": "markdown",
   "metadata": {},
   "source": [
    "# 파이썬 자료형 분류\n",
    "\n",
    "- 기본 자료형\n",
    "    - 불린형\n",
    "    \n",
    "    - 숫자형\n",
    "         - 정수\n",
    "         - 실수\n",
    "             - 소수\n",
    "             - 분수\n",
    "             - 복소수\n",
    "    \n",
    "    - 문자열 (순서가 있음)\n",
    "\n",
    "- 복합 자료형\n",
    "    - 배열형\n",
    "        - 리스트(가변형)\n",
    "        - 튜플(불변형)  - 네임드 튜플\n",
    "    \n",
    "    - 집합형\n",
    "        - 셋(가변형) - 프로즌 셋(불변형)\n",
    "    \n",
    "    - 맵핑형\n",
    "        - 딕셔너리 \n",
    "            - 디폴트 딕셔너리\n",
    "            - 순서형 딕셔너리\n",
    "    \n",
    "            "
   ]
  },
  {
   "cell_type": "code",
   "execution_count": 23,
   "metadata": {
    "scrolled": true
   },
   "outputs": [
    {
     "name": "stdout",
     "output_type": "stream",
     "text": [
      "<class 'bool'>\n",
      "<class 'int'>\n",
      "<class 'float'>\n",
      "<class 'str'>\n",
      "<class 'str'>\n",
      "<class 'builtin_function_or_method'>\n",
      "<class '_sitebuiltins._Helper'>\n",
      "<class 'type'>\n"
     ]
    }
   ],
   "source": [
    "#####자료형 -  Python data types ####\n",
    "\n",
    "#불변성 : 생성 후 내용변경이 불가 (불린,정수,실수, 문자열,튜플 등) \n",
    "#가변성 : 생성후 변경가능 (리스트, 셋. 딕셔너리 등)\n",
    "\n",
    "print(type(True))\n",
    "print(type(5))\n",
    "print(type(12.345))\n",
    "print(type('12.345'))\n",
    "print(type('안녕 파이썬'))\n",
    "print(type(print))\n",
    "print(type(help))\n",
    "print(type(list))"
   ]
  },
  {
   "cell_type": "markdown",
   "metadata": {},
   "source": [
    "## 불린형"
   ]
  },
  {
   "cell_type": "code",
   "execution_count": 25,
   "metadata": {
    "scrolled": true
   },
   "outputs": [
    {
     "name": "stdout",
     "output_type": "stream",
     "text": [
      "False\n",
      "False\n",
      "True\n",
      "True\n",
      "False\n",
      "False\n",
      "True\n",
      "False\n"
     ]
    }
   ],
   "source": [
    "#Bololean Type\n",
    "\n",
    "#불린 자료형이란? 거짓(0)과 참(1) 중 한개만 취할 수 있는 논리자료형\n",
    "#거짓 : false, 0 ,빈문자열(''), 빈 복합자료형([],(),set(),{})\n",
    "#참 : 그외 나머지, true, 0이 아닌 정수 등\n",
    "\n",
    "print(bool(0))\n",
    "print(bool(0.0))\n",
    "print(bool(1))\n",
    "print(bool(0.1))\n",
    "print(bool(''))\n",
    "print(bool([]))\n",
    "print(bool([1,2]))\n",
    "print(bool())"
   ]
  },
  {
   "cell_type": "code",
   "execution_count": 30,
   "metadata": {},
   "outputs": [],
   "source": [
    "#불린 False\n",
    "if False:\n",
    "    print('Hi False')\n",
    "if 0 or 0.0 :\n",
    "    print('Hi Zero')\n",
    "if None :\n",
    "    print('Hi None')\n",
    "if '':\n",
    "    print('Hi an empty string')\n",
    "if []:\n",
    "    print('Hi an empty list')\n",
    "if ():\n",
    "    print('Hi an empty tuples')\n",
    "if set():\n",
    "    print('Hi an empty set')\n",
    "if {}:\n",
    "    print('Hi an empty dictionary')   \n"
   ]
  },
  {
   "cell_type": "code",
   "execution_count": 32,
   "metadata": {},
   "outputs": [
    {
     "name": "stdout",
     "output_type": "stream",
     "text": [
      "Hi True\n",
      "Hi a negative 15\n",
      "Hi a positive floationg-point number\n",
      "Hi a string\n",
      "Hi a Tuple\n",
      "Hi a set\n",
      "Hi a dictionary\n"
     ]
    }
   ],
   "source": [
    "\n",
    "#불린 True\n",
    "if True : \n",
    "    print('Hi True')\n",
    "if  -15: \n",
    "    print('Hi a negative 15')\n",
    "if  12.345: \n",
    "    print('Hi a positive floationg-point number')\n",
    "if  '안녕 파이썬' : \n",
    "    print('Hi a string')\n",
    "if  [1,2,3] : \n",
    "    print('Hi a Tuple')\n",
    "if  set('abc'): \n",
    "    print('Hi a set')\n",
    "if {'key' : 'value'} : \n",
    "    print('Hi a dictionary')\n",
    "    \n",
    "    "
   ]
  },
  {
   "cell_type": "code",
   "execution_count": 5,
   "metadata": {},
   "outputs": [
    {
     "name": "stdout",
     "output_type": "stream",
     "text": [
      "입력하시오...1\n"
     ]
    },
    {
     "data": {
      "text/plain": [
       "'1'"
      ]
     },
     "execution_count": 5,
     "metadata": {},
     "output_type": "execute_result"
    },
    {
     "name": "stdout",
     "output_type": "stream",
     "text": [
      "hello1\n",
      "입력하시오...2\n"
     ]
    },
    {
     "data": {
      "text/plain": [
       "'2'"
      ]
     },
     "execution_count": 5,
     "metadata": {},
     "output_type": "execute_result"
    }
   ],
   "source": [
    "#boolean operations\n",
    "\n",
    "input('입력하시오...')\n",
    "if True or False : \n",
    "    print('hello1')\n",
    "\n",
    "input('입력하시오...')\n",
    "if False and True: \n",
    "    print('hello2')\n"
   ]
  },
  {
   "cell_type": "code",
   "execution_count": null,
   "metadata": {},
   "outputs": [],
   "source": [
    "0 and 5\n",
    "1 or 3"
   ]
  },
  {
   "cell_type": "markdown",
   "metadata": {},
   "source": [
    "# 숫자형\n",
    "## - 정수"
   ]
  },
  {
   "cell_type": "code",
   "execution_count": 35,
   "metadata": {},
   "outputs": [
    {
     "name": "stdout",
     "output_type": "stream",
     "text": [
      "1.8571428571428572\n",
      "6\n",
      "8\n",
      "1\n",
      "3.0\n",
      "0.0\n",
      "False\n"
     ]
    }
   ],
   "source": [
    "##Numeric Date Type\n",
    "#integer 정수 : 불변자료형, 소수점이 없는 숫자 int()\n",
    "\n",
    "print(13/7) #나누기 - '실수'로 반환\n",
    "print(13%7) #나머지 - 정수\n",
    "print(2**3) #제곱 - 정수\n",
    "print(13//7) #몫 - 정수\n",
    "print(1+2.0) #둘중하나가 실수인 경우 실수로 반환\n",
    "print(3-3.0)\n",
    "print(1*1.0 and False)"
   ]
  },
  {
   "cell_type": "code",
   "execution_count": 36,
   "metadata": {},
   "outputs": [
    {
     "name": "stdout",
     "output_type": "stream",
     "text": [
      "17\n",
      "25\n",
      "-8\n",
      "-8\n",
      "5.0\n",
      "2.0\n",
      "3\n",
      "8.0\n",
      "2.0\n"
     ]
    }
   ],
   "source": [
    "## 연산순서 \n",
    "\n",
    "# 괄호 () - 지수 ** - 곱셈 * - 나눗셈 /  -  (덧셈 + , 뺄셈 -) \n",
    "\n",
    "#우선순위 및 증강 대입 연산\n",
    "x= 2 + 3 * 5 \n",
    "print(x)\n",
    "\n",
    "y = (2 + 3 ) * 5\n",
    "print(y)\n",
    "\n",
    "print(x-y)\n",
    "\n",
    "\n",
    "\n",
    "x-=y #x-y를 x와 연결\n",
    "print(x)\n",
    "\n",
    "y/=5\n",
    "print(y)\n",
    "\n",
    "y//=2 #5.0를 2로 나눈 몫 (실수와 정수 섞였을 때 => 실수)\n",
    "print(y)\n",
    "\n",
    "x+=11\n",
    "print(x)\n",
    "\n",
    "y**=x\n",
    "print(y)\n",
    "\n",
    "y%= x\n",
    "print(y)"
   ]
  },
  {
   "cell_type": "code",
   "execution_count": 39,
   "metadata": {},
   "outputs": [
    {
     "name": "stdout",
     "output_type": "stream",
     "text": [
      "12\n",
      "(1, 6)\n",
      "8\n",
      "3\n",
      "\n",
      "1.2\n",
      "1.23\n",
      "1.235\n",
      "123500\n",
      "124000\n",
      "\n"
     ]
    }
   ],
   "source": [
    "#정수 변환\n",
    "\n",
    "print(abs(-12)) #절댓값\n",
    "print(divmod(13,7)) # 몫과 나머지의 두 정수를 반환-> 튜플\n",
    "print(pow(2,3)) # 2**3과 같음(지수)\n",
    "print(pow(2,3,5))# (2**3)%5와 같음\n",
    "print()\n",
    "\n",
    "print(round(1.23456,1)) # n의 자릿수를 기준으로 반올림하여 출력\n",
    "print(round(1.23456,2))\n",
    "print(round(1.23456,3))\n",
    "print(round(123456,-2)) # 뒤에서 n번째 자릿수까지 버리고 출력 ~~~~00 이렇게\n",
    "print(round(123546,-3))\n",
    "print()\n"
   ]
  },
  {
   "cell_type": "code",
   "execution_count": 43,
   "metadata": {},
   "outputs": [
    {
     "name": "stdout",
     "output_type": "stream",
     "text": [
      "10\n",
      "10\n",
      "2\n",
      "8\n",
      "16\n",
      "\n",
      "11\n",
      "11\n",
      "3\n",
      "9\n",
      "17\n",
      "\n"
     ]
    }
   ],
   "source": [
    "\n",
    "print(int('10'))\n",
    "print(int('10',10))\n",
    "print(int('10',2))\n",
    "print(int('10',8))\n",
    "print(int('10',16)) #16진법으로 보았을때 10(16)의 값\n",
    "print()\n",
    "\n",
    "print(int('00000011'))\n",
    "print(int('00000011',10))\n",
    "print(int('00000011',2))\n",
    "print(int('00000011',8))\n",
    "print(int('00000011',16))\n",
    "print()"
   ]
  },
  {
   "cell_type": "code",
   "execution_count": 44,
   "metadata": {},
   "outputs": [
    {
     "name": "stdout",
     "output_type": "stream",
     "text": [
      "65\n",
      "65\n",
      "65\n",
      "65\n",
      "\n",
      "65\n",
      "0b1000001\n",
      "0o101\n",
      "0x41\n",
      "\n"
     ]
    }
   ],
   "source": [
    "\n",
    "print(int('65',10))\n",
    "print(int('1000001',2))\n",
    "print(int('101',8))\n",
    "print(int('41',16))\n",
    "print()\n",
    "\n",
    "print(int(65)) #10진법\n",
    "print(bin(65)) #2진법\n",
    "print(oct(65)) #8진법\n",
    "print(hex(65)) #16진법\n",
    "print()\n"
   ]
  },
  {
   "cell_type": "code",
   "execution_count": 59,
   "metadata": {},
   "outputs": [
    {
     "name": "stdout",
     "output_type": "stream",
     "text": [
      "123456789\n",
      "7981\n",
      "123456789\n",
      "123456789\n"
     ]
    }
   ],
   "source": [
    "#10진수 외 다른 기수법\n",
    "#숫자 맨처음에\n",
    "# 0b : 2진법\n",
    "# 0o : 8진법\n",
    "#0x : 16진법\n",
    "\n",
    "print(123456789) #decimal\n",
    "print(0b1111100101101) #binary\n",
    "print(0o726746425) #octal\n",
    "print(0x75bcd15) #hexadecimal"
   ]
  },
  {
   "cell_type": "code",
   "execution_count": 61,
   "metadata": {},
   "outputs": [
    {
     "name": "stdout",
     "output_type": "stream",
     "text": [
      "<class 'int'>\n",
      "<class 'str'>\n"
     ]
    }
   ],
   "source": [
    "#글자와 숫자의 구분 - 선언에 따라\n",
    "x = 65\n",
    "print(type(x))\n",
    "\n",
    "y= 'a'\n",
    "print(type(y))"
   ]
  },
  {
   "cell_type": "code",
   "execution_count": 63,
   "metadata": {},
   "outputs": [
    {
     "name": "stdout",
     "output_type": "stream",
     "text": [
      "True\n",
      "1\n",
      "0\n",
      "\n",
      "False\n",
      "0\n",
      "0\n",
      "\n",
      "1\n",
      "False\n",
      "1\n",
      "\n"
     ]
    }
   ],
   "source": [
    "#비트 연산자1\n",
    "\n",
    "#or 연산자\n",
    "x, y = False, True\n",
    "print((x|y))\n",
    "x, y = 1, 0\n",
    "print((x|y))\n",
    "x, y = 0, 0\n",
    "print((x|y))\n",
    "print()\n",
    "\n",
    "#and 연산자\n",
    "x, y = False, True\n",
    "print((x&y))\n",
    "x, y = 0, 1\n",
    "print((x&y))\n",
    "x, y = 0, 0\n",
    "print((x&y))\n",
    "print()\n",
    "\n",
    "#xor 연산자 - 서로가 다른경우 참을 반환\n",
    "x, y = False, 1\n",
    "print((x^y))\n",
    "x, y = True, True\n",
    "print((x^y))\n",
    "x, y = 0, True\n",
    "print((x^y))\n",
    "print()\n"
   ]
  },
  {
   "cell_type": "code",
   "execution_count": 71,
   "metadata": {},
   "outputs": [
    {
     "name": "stdout",
     "output_type": "stream",
     "text": [
      "< 양수 > \n",
      "0b11000000\n",
      "\n",
      "0b110000000\n",
      "384\n",
      "\n",
      "0b1100000\n",
      "96\n",
      "\n",
      "< 음수 >\n",
      "-0b11000000\n",
      "\n",
      "0b110000000\n",
      "384\n",
      "\n",
      "0b1100000\n",
      "96\n",
      "\n"
     ]
    }
   ],
   "source": [
    "#비트 연산자2\n",
    "\n",
    "## 양수\n",
    "print('< 양수 > ')\n",
    "print(bin(192))\n",
    "print()\n",
    "\n",
    "#쉬프트 연산자 - X의 비트값을 Y만큼 왼쪽으로 이동시킴 오른쪽은 0으로 채움\n",
    "x= 192 << 1\n",
    "print(bin(x))\n",
    "print(x)\n",
    "print()\n",
    "\n",
    "#쉬프트 연산자 - X의 비트값을 Y만큼 오른쪽으로 이동시킴 왼쪽은 0으로 채움\n",
    "x= 192 >> 1\n",
    "print(bin(x))\n",
    "print(x)\n",
    "print()\n",
    "\n",
    "## 음수\n",
    "print('< 음수 >')\n",
    "print(bin(-192))\n",
    "print()\n",
    "\n",
    "#쉬프트 연산자 - X의 비트값을 Y만큼 왼쪽으로 이동시킴 오른쪽은 0으로 채움\n",
    "x= 192 << 1\n",
    "print(bin(x))\n",
    "print(x)\n",
    "print()\n",
    "\n",
    "#쉬프트 연산자 - X의 비트값을 Y만큼 오른쪽으로 이동시킴 왼쪽은 0으로 채움\n",
    "x= 192 >> 1\n",
    "print(bin(x))\n",
    "print(x)\n",
    "print()"
   ]
  },
  {
   "cell_type": "markdown",
   "metadata": {},
   "source": [
    "# 실수형\n",
    "-  실수\n",
    "- 소수\n",
    "- 분수\n",
    "- 복소수"
   ]
  },
  {
   "cell_type": "code",
   "execution_count": 9,
   "metadata": {},
   "outputs": [
    {
     "data": {
      "text/plain": [
       "-4.43"
      ]
     },
     "execution_count": 9,
     "metadata": {},
     "output_type": "execute_result"
    },
    {
     "data": {
      "text/plain": [
       "-11.0"
      ]
     },
     "execution_count": 9,
     "metadata": {},
     "output_type": "execute_result"
    },
    {
     "data": {
      "text/plain": [
       "inf"
      ]
     },
     "execution_count": 9,
     "metadata": {},
     "output_type": "execute_result"
    },
    {
     "data": {
      "text/plain": [
       "-31.4"
      ]
     },
     "execution_count": 9,
     "metadata": {},
     "output_type": "execute_result"
    }
   ],
   "source": [
    "#실수형\n",
    "#객체를 실수 변환이 실패할 경우 valueerror\n",
    "float('-4.43')\n",
    "float('-11')\n",
    "\n",
    "float('Inf')\n",
    "\n",
    "float('3.14')/float(-.1)"
   ]
  },
  {
   "cell_type": "code",
   "execution_count": 11,
   "metadata": {},
   "outputs": [
    {
     "name": "stdout",
     "output_type": "stream",
     "text": [
      "20.480854853072127\n",
      "20.48085485307212826035735227\n"
     ]
    }
   ],
   "source": [
    "# 소수- 소수점 28자리 까지 계산\n",
    "# 계산이 오래걸림\n",
    "\n",
    "print(23/1.123)\n",
    "\n",
    "from decimal import Decimal\n",
    "print(Decimal(23)/Decimal(1.123))"
   ]
  },
  {
   "cell_type": "code",
   "execution_count": 14,
   "metadata": {},
   "outputs": [
    {
     "name": "stdout",
     "output_type": "stream",
     "text": [
      "3/7\n"
     ]
    },
    {
     "data": {
      "text/plain": [
       "Fraction(3, 7)"
      ]
     },
     "execution_count": 14,
     "metadata": {},
     "output_type": "execute_result"
    },
    {
     "data": {
      "text/plain": [
       "Fraction(5003499186008621, 2251799813685248)"
      ]
     },
     "execution_count": 14,
     "metadata": {},
     "output_type": "execute_result"
    }
   ],
   "source": [
    "# 분수\n",
    "# 불변 자료형\n",
    "from fractions import Fraction\n",
    "print(Fraction(3,7))\n",
    "Fraction(3,7)\n",
    "Fraction(2.222)"
   ]
  },
  {
   "cell_type": "markdown",
   "metadata": {},
   "source": [
    "## 문자열\n",
    "\n",
    "- 불변자료형\n",
    "\n",
    "    - 내용을 변경할 수 없고 문자의 순서를 바꿀수 없음\n",
    "    - 시작과 끝을 따옴표로 묶어서 만든 순서가 있는 유니코드 글자의 배열\n",
    "    - 배열형 자료구조 중 하나"
   ]
  },
  {
   "cell_type": "code",
   "execution_count": 45,
   "metadata": {},
   "outputs": [
    {
     "name": "stdout",
     "output_type": "stream",
     "text": [
      "문자열 안에 '작은 따옴표'를 사용하려면 큰 따옴표로 묶는다.\n",
      "문자열 안에 \"큰 따옴표\"를 사용하려면 큰 따옴표로 묶는다. \n",
      "\n",
      "문자열 안에 \"같은 따옴표\"를 사용하려면 이스케이프 부호를 사용한다.\n",
      "문자열 안에 '작은따옴표'나 \"큰따옴표\"를 사용할 수 있다.\n",
      "문자열 안에 '작은따옴표'나 \"큰따옴표\"를 사용할 수 있고 여러 줄을 사용할때도 편리하다.\n"
     ]
    }
   ],
   "source": [
    "#문자열 1 - string\n",
    "\n",
    "#중첩 따옴표\n",
    "print(\"문자열 안에 '작은 따옴표'를 사용하려면 큰 따옴표로 묶는다.\")\n",
    "print('문자열 안에 \"큰 따옴표\"를 사용하려면 큰 따옴표로 묶는다.','\\n')\n",
    "\n",
    "print(\"문자열 안에 \\\"같은 따옴표\\\"를 사용하려면 이스케이프 부호를 사용한다.\")\n",
    "\n",
    "#삼중따옴표\n",
    "print('''문자열 안에 '작은따옴표'나 \"큰따옴표\"를 사용할 수 있다.''')\n",
    "print('''문자열 안에 '작은따옴표'나 \\\n",
    "\"큰따옴표\"를 사용할 수 있고 \\\n",
    "여러 줄을 사용할때도 편리하다.''')\n",
    "\n"
   ]
  },
  {
   "cell_type": "code",
   "execution_count": 108,
   "metadata": {},
   "outputs": [
    {
     "name": "stdout",
     "output_type": "stream",
     "text": [
      "시작\n",
      "\n",
      "한줄바꿈\n",
      "\n",
      "\n",
      "두줄바꿈\n",
      "####\n",
      "\n",
      "\t일\n",
      "월\n",
      "화\n",
      "수\n",
      "목\n",
      "금\t토\t\n",
      "kkk \\n\n"
     ]
    }
   ],
   "source": [
    "#이스케이프 문자 - \\역슬래쉬\n",
    "# 원래의 의미가 아닌 다른 의미로 쓰임\n",
    "# \\n : 문자가 아닌 새줄바꿈으로 처리\n",
    "# \\t : 탭 문자로 처리\n",
    "# \\' : 문자의 시작이 아닌 따옴표로 사용하여라\n",
    "# \\\\n : 화이트 스페이스인 새줄 바꿈 문자가 아닌 일반 문자 '\\n'\n",
    "\n",
    "print('시작')\n",
    "print()\n",
    "print('한줄바꿈')\n",
    "print('\\n')\n",
    "print('두줄바꿈')\n",
    "print(\"####\\n\")\n",
    "\n",
    "#화이트 스페이스와 print()\n",
    "\n",
    "y='\\t일\\n월\\n화\\n수\\n목\\n금\\t토\\t'\n",
    "print(y)\n",
    "print('kkk','\\\\n')"
   ]
  },
  {
   "cell_type": "code",
   "execution_count": 55,
   "metadata": {},
   "outputs": [
    {
     "name": "stdout",
     "output_type": "stream",
     "text": [
      "< 삼중 따옴표 >\n",
      "President Barack Obama said,\n",
      " \"Don't just play on your phone,\n",
      "\tprogram it.\"\n",
      "\n",
      "< 작은 따옴표 >\n",
      "President Barack Obama said,\n",
      " \"Don't just play on your phone,\n",
      "\tprogram it.\"\n",
      "\n",
      "< 큰 따옴표 >\n",
      "President Barack Obama said,\n",
      " \"Don't just play on your phone,\n",
      "\tprogram it.\"\n",
      "\n"
     ]
    }
   ],
   "source": [
    "##퀴즈\n",
    "#퀴즈 1 - 삼중따옴표\n",
    "print('< 삼중 따옴표 >')\n",
    "print('''President Barack Obama said,\\n \"Don't just play on your phone,\\n\\tprogram it.\"\\n''')\n",
    "\n",
    "#퀴즈 2 - 작은따옴표\n",
    "print('< 작은 따옴표 >')\n",
    "print('President Barack Obama said,\\n \"Don\\'t just play on your phone,\\n\\tprogram it.\"\\n')\n",
    "\n",
    "#퀴즈 3 - 큰따옴표\n",
    "print('< 큰 따옴표 >')\n",
    "print(\"President Barack Obama said,\\n \\\"Don't just play on your phone,\\n\\tprogram it.\\\"\\n\")"
   ]
  },
  {
   "cell_type": "code",
   "execution_count": 17,
   "metadata": {},
   "outputs": [
    {
     "data": {
      "text/plain": [
       "7"
      ]
     },
     "execution_count": 17,
     "metadata": {},
     "output_type": "execute_result"
    },
    {
     "name": "stdout",
     "output_type": "stream",
     "text": [
      "C:\\home\n",
      "ames\n",
      "C:\\tools\\python\n"
     ]
    }
   ],
   "source": [
    "## 문자열 2 - string\n",
    "\n",
    "\n",
    "#줄계속 - 새줄바꿈방지 \\\n",
    "# 괄호를 이용하여서 합치는 것을 권고\n",
    "\n",
    "1+2\\\n",
    "*3\n",
    "\n"
   ]
  },
  {
   "cell_type": "code",
   "execution_count": 19,
   "metadata": {},
   "outputs": [
    {
     "name": "stdout",
     "output_type": "stream",
     "text": [
      "C:\\home\n",
      "ames\n",
      "C:\\home\\names\n"
     ]
    }
   ],
   "source": [
    "#로스트링\n",
    "\n",
    "# 정규 표현식\n",
    "# 다수의 역슬래시를 사용하여야 할 때,\n",
    "# raw string하여 문제 해결\n",
    "\n",
    "# 첫 문자열이 나타나는 첫 따옴표 앞에 r을 붙여 줌\n",
    "\n",
    "print('C:\\home\\names')\n",
    "print(r'C:\\home\\names')\n"
   ]
  },
  {
   "cell_type": "code",
   "execution_count": 57,
   "metadata": {},
   "outputs": [
    {
     "name": "stdout",
     "output_type": "stream",
     "text": [
      "€\n",
      "8364\n"
     ]
    }
   ],
   "source": [
    "#유니코드 문자\n",
    "# euros = '\\u20AC \\U000020ac \\N{eurosign}'\n",
    "# print( euros)\n",
    "\n",
    "# 유니코드 정수 -> 유니코드 문자\n",
    "print(chr(8364))\n",
    "\n",
    "#유니코드 -> 유니코드 정수\n",
    "print(ord('€'))\n"
   ]
  },
  {
   "cell_type": "markdown",
   "metadata": {},
   "source": [
    "## (중요!!) 문자열 인덱스\n",
    "\n",
    "- 문자열은 배열형 자료 구조\n",
    "    - 각문자의 위치가 정해져 있는 순서가 있는 문자의 배열\n",
    "\n",
    "- 문자열 인덱스\n",
    "    - 인덱스 : 배열 안에서 각 값의 위치\n",
    "    - 첫문자의 인덱스  = 0\n",
    "    - 마지막 문자를 찾기 위해 인덱스 [-1]\n",
    "    "
   ]
  },
  {
   "cell_type": "code",
   "execution_count": 21,
   "metadata": {
    "scrolled": true
   },
   "outputs": [
    {
     "name": "stdout",
     "output_type": "stream",
     "text": [
      "6\n",
      "\n",
      "썬\n",
      " \n",
      "썬\n",
      "안\n",
      "\n"
     ]
    },
    {
     "ename": "IndexError",
     "evalue": "string index out of range",
     "output_type": "error",
     "traceback": [
      "\u001b[1;31m---------------------------------------------------------------------------\u001b[0m",
      "\u001b[1;31mIndexError\u001b[0m                                Traceback (most recent call last)",
      "\u001b[1;32m<ipython-input-21-38c9323259b4>\u001b[0m in \u001b[0;36m<module>\u001b[1;34m()\u001b[0m\n\u001b[0;32m     17\u001b[0m \u001b[0mprint\u001b[0m\u001b[1;33m(\u001b[0m\u001b[1;33m)\u001b[0m\u001b[1;33m\u001b[0m\u001b[0m\n\u001b[0;32m     18\u001b[0m \u001b[1;33m\u001b[0m\u001b[0m\n\u001b[1;32m---> 19\u001b[1;33m \u001b[0mprint\u001b[0m\u001b[1;33m(\u001b[0m\u001b[0ms\u001b[0m\u001b[1;33m[\u001b[0m\u001b[1;36m6\u001b[0m\u001b[1;33m]\u001b[0m\u001b[1;33m)\u001b[0m\u001b[1;33m\u001b[0m\u001b[0m\n\u001b[0m\u001b[0;32m     20\u001b[0m \u001b[0mprint\u001b[0m\u001b[1;33m(\u001b[0m\u001b[0ms\u001b[0m\u001b[1;33m[\u001b[0m\u001b[1;33m-\u001b[0m\u001b[1;36m7\u001b[0m\u001b[1;33m]\u001b[0m\u001b[1;33m)\u001b[0m\u001b[1;33m\u001b[0m\u001b[0m\n",
      "\u001b[1;31mIndexError\u001b[0m: string index out of range"
     ]
    }
   ],
   "source": [
    "#문자열 인덱스\n",
    "# 문자열 = 배열형의 구조\n",
    "# 첫문자의 인덱스 = [0]\n",
    "# 인덱스의 크기 = n - 1 (문자열 범위를 벗어난 인덱스나 빈 문자열에 접근하려고 하면 에러 발생)\n",
    "\n",
    "# 문자열에서 개별 문자 가져오기\n",
    "s='안녕 파이썬'\n",
    "print(len(s))\n",
    "print()\n",
    "\n",
    "\n",
    "print(s[-1])\n",
    "print(s[2])\n",
    "\n",
    "print(s[-1])\n",
    "print(s[-6])\n",
    "\n",
    "print()\n",
    "\n",
    "print(s[6])\n",
    "print(s[-7])\n"
   ]
  },
  {
   "cell_type": "markdown",
   "metadata": {},
   "source": [
    "### 문자열 분할 - []\n",
    "\n",
    "- seq(start:end) - start번째 대상부터 end 번째 앞에 있는 대상 까지 추출\n",
    "- seq(start:end:step) - start번째 대상부터 end번째 앞에 있는 대상 까지 추출하는데 \n",
    "- 모든 대상을 추출하지 않고 step 만큼 건너 뛰어 가며 추출\n",
    "\n",
    "폭이 음수라면 start는 -1 에서 시작\n",
    "(뒤에서 부터 시작한다는 뜻)\n"
   ]
  },
  {
   "cell_type": "code",
   "execution_count": 15,
   "metadata": {},
   "outputs": [
    {
     "name": "stdout",
     "output_type": "stream",
     "text": [
      "11\n",
      "abcde 12345\n",
      "abcde 12345\n",
      "cde 12\n",
      "cde 12345\n",
      "e 12345\n",
      "\n",
      "2\n",
      "ad1\n",
      "531eca\n",
      "531\n",
      "\n",
      "\n",
      "abcd\n",
      "54321 \n"
     ]
    }
   ],
   "source": [
    "#문자열 분할 - []\n",
    "\n",
    "# seq(start:end) - start번째 대상부터 end 번째 앞에 있는 대상 까지 추출\n",
    "# seq(start:end:step) - start번째 대상부터 end번째 앞에 있는 대상 까지 추출하는데 \n",
    "# 모든 대상을 추출하지 않고 step 만큼 건너 뛰어 가며 추출\n",
    "\n",
    "\n",
    "s = 'abcde 12345'\n",
    "print(len(s))\n",
    "print(s[:])\n",
    "print(s[0:len(s)])\n",
    "print(s[2:8])\n",
    "print(s[2:])\n",
    "print(s[-7:])\n",
    "print()\n",
    "\n",
    "print(len(s[1:3]))\n",
    "print(s[:-4:3])\n",
    "print(s[::-2])\n",
    "print(s[:4:-2])\n",
    "print(s[2:4:-2])\n",
    "print()\n",
    "\n",
    "print(s[:4:1])\n",
    "print(s[:4:-1])"
   ]
  },
  {
   "cell_type": "code",
   "execution_count": 2,
   "metadata": {},
   "outputs": [
    {
     "name": "stdout",
     "output_type": "stream",
     "text": [
      "11\n"
     ]
    },
    {
     "ename": "IndexError",
     "evalue": "string index out of range",
     "output_type": "error",
     "traceback": [
      "\u001b[1;31m---------------------------------------------------------------------------\u001b[0m",
      "\u001b[1;31mIndexError\u001b[0m                                Traceback (most recent call last)",
      "\u001b[1;32m<ipython-input-2-e89a5c4d9e82>\u001b[0m in \u001b[0;36m<module>\u001b[1;34m()\u001b[0m\n\u001b[0;32m      4\u001b[0m \u001b[0ms\u001b[0m \u001b[1;33m=\u001b[0m \u001b[1;34m\"초급자를 위한 파이썬\"\u001b[0m\u001b[1;33m\u001b[0m\u001b[0m\n\u001b[0;32m      5\u001b[0m \u001b[0mprint\u001b[0m\u001b[1;33m(\u001b[0m\u001b[0mlen\u001b[0m\u001b[1;33m(\u001b[0m\u001b[0ms\u001b[0m\u001b[1;33m)\u001b[0m\u001b[1;33m)\u001b[0m\u001b[1;33m\u001b[0m\u001b[0m\n\u001b[1;32m----> 6\u001b[1;33m \u001b[0mprint\u001b[0m\u001b[1;33m(\u001b[0m\u001b[0ms\u001b[0m\u001b[1;33m[\u001b[0m\u001b[1;36m11\u001b[0m\u001b[1;33m]\u001b[0m\u001b[1;33m)\u001b[0m\u001b[1;33m\u001b[0m\u001b[0m\n\u001b[0m\u001b[0;32m      7\u001b[0m \u001b[0mprint\u001b[0m\u001b[1;33m(\u001b[0m\u001b[1;33m)\u001b[0m\u001b[1;33m\u001b[0m\u001b[0m\n\u001b[0;32m      8\u001b[0m \u001b[0mprint\u001b[0m\u001b[1;33m(\u001b[0m\u001b[1;33m)\u001b[0m\u001b[1;33m\u001b[0m\u001b[0m\n",
      "\u001b[1;31mIndexError\u001b[0m: string index out of range"
     ]
    }
   ],
   "source": [
    "# 인덱스 접근 - 범위를 벗어난 인덱스에 접근\n",
    "# 에러가 발생하지만 문자열 분할을 하면 오류가 발생하지 않음\n",
    "\n",
    "s = \"초급자를 위한 파이썬\"\n",
    "print(len(s))\n",
    "print(s[11])"
   ]
  },
  {
   "cell_type": "code",
   "execution_count": 3,
   "metadata": {},
   "outputs": [
    {
     "name": "stdout",
     "output_type": "stream",
     "text": [
      "\n",
      "썬\n",
      "파이썬\n",
      "파이썬\n"
     ]
    }
   ],
   "source": [
    "# 인덱스 분할\n",
    "print(s[11:])\n",
    "print(s[10])\n",
    "print(s[8:11])\n",
    "print(s[8:99])"
   ]
  },
  {
   "cell_type": "markdown",
   "metadata": {},
   "source": [
    "## 문자열 수정\n",
    "\n",
    "- 문자열 일부 교체/추가/삭제\n",
    "\n",
    "    - 문자열 일부를 다른 문자로 교체하거나 문자열 안에 추가로 집어 넣을 경우 에러가 발생\n",
    "    - ==> 문자의 불변성 속성 떄문\n",
    "        -즉, 생성 이후 값을 변경할 수 없기 때문에 수정이 불가능\n",
    "        \n",
    "        \n",
    "- 그러나 문자열 분할과 결합 또는 str.replace()메소드를 이용하여 같은 변수에 재할당하면 문제를 해결할 수 있음\n"
   ]
  },
  {
   "cell_type": "code",
   "execution_count": 15,
   "metadata": {},
   "outputs": [
    {
     "name": "stdout",
     "output_type": "stream",
     "text": [
      "중급자를 위한 파이썬\n",
      "초급자를 위한 맛있는 파이썬 \n",
      "\n",
      "초급자를 위한 맛있는 파이썬 \n",
      "\n",
      "진짜 초급자를 위한 맛있는 파이썬 \n",
      "\n"
     ]
    }
   ],
   "source": [
    "## 문자열 수정\n",
    "\n",
    "s = \"초급자를 위한 파이썬\"\n",
    "#s[0] = '중' #오류\n",
    "\n",
    "t = '중' + s[1:]\n",
    "print(t)\n",
    "\n",
    "s\n",
    "\n",
    "s = s[:7] + ' 맛있는 ' +s[8:]\n",
    "print(s,'\\n')\n",
    "\n",
    "s.replace('중','초')\n",
    "print(s,'\\n')\n",
    "\n",
    "s = s.replace('초','진짜 초')\n",
    "print(s,'\\n')"
   ]
  },
  {
   "cell_type": "code",
   "execution_count": 21,
   "metadata": {},
   "outputs": [
    {
     "name": "stdout",
     "output_type": "stream",
     "text": [
      " \t\n",
      "\r",
      "\u000b",
      "\f",
      " \n",
      "\n",
      "abcdefghijklmnopqrstuvwxyzABCDEFGHIJKLMNOPQRSTUVWXYZ \n",
      "\n",
      "abcdefghijklmnopqrstuvwxyz \n",
      "\n",
      "ABCDEFGHIJKLMNOPQRSTUVWXYZ \n",
      "\n",
      "0123456789 \n",
      "\n",
      "0123456789abcdefABCDEF \n",
      "\n",
      "01234567 \n",
      "\n",
      "!\"#$%&'()*+,-./:;<=>?@[\\]^_`{|}~ \n",
      "\n",
      "0123456789abcdefghijklmnopqrstuvwxyzABCDEFGHIJKLMNOPQRSTUVWXYZ!\"#$%&'()*+,-./:;<=>?@[\\]^_`{|}~ \t\n",
      "\r",
      "\u000b",
      "\f",
      " \n",
      "\n"
     ]
    }
   ],
   "source": [
    "## 문자열 클래스 속성\n",
    "\n",
    "#문자열 클래스 속성을 상수로 사용\n",
    "import string\n",
    "print(string.whitespace,'\\n')\n",
    "\n",
    "print(string.ascii_letters,'\\n')\n",
    "print(string.ascii_lowercase,'\\n')\n",
    "print(string.ascii_uppercase,'\\n')\n",
    "print(string.digits,'\\n')\n",
    "print(string.hexdigits,'\\n')\n",
    "print(string.octdigits,'\\n')\n",
    "print(string.punctuation,'\\n')\n",
    "print(string.printable,'\\n')\n"
   ]
  },
  {
   "cell_type": "code",
   "execution_count": 23,
   "metadata": {},
   "outputs": [
    {
     "data": {
      "text/plain": [
       "('배', '지', '원')"
      ]
     },
     "execution_count": 23,
     "metadata": {},
     "output_type": "execute_result"
    },
    {
     "name": "stdout",
     "output_type": "stream",
     "text": [
      "배지원\n",
      "배 지원\n"
     ]
    },
    {
     "data": {
      "text/plain": [
       "'배지원'"
      ]
     },
     "execution_count": 23,
     "metadata": {},
     "output_type": "execute_result"
    }
   ],
   "source": [
    "## 문자열 결합 : + 연산자\n",
    "# 문자열 결합, 따옴표로 묶인 문자열 리터럴 끼리는 연산자 없이도 연결가능\n",
    "# 변수나 표현식에 담긴 문자열은 + 연산자 없이 연결되지 않음\n",
    "# + 연산자 이용시 변수끼리 또는 변수와 문자열 연결가능\n",
    "\n",
    "'배','지','원'\n",
    "\n",
    "first_name = '지원'\n",
    "\n",
    "# \\\\'배'first_name 에러\n",
    "\n",
    "print('배' + first_name)\n",
    "print('배',first_name)\n",
    "\n",
    "'배' + first_name"
   ]
  },
  {
   "cell_type": "code",
   "execution_count": 17,
   "metadata": {},
   "outputs": [
    {
     "name": "stdout",
     "output_type": "stream",
     "text": [
      "jiwonnnnnnn \n",
      "\n",
      "jiwonnnnnnn \n",
      "\n",
      "배지원배지원배지원 \n",
      "\n",
      "==============================\n",
      "배지원\n",
      "배지원\n",
      "배지원\n",
      "\n"
     ]
    }
   ],
   "source": [
    "## 문자열 결합 : * 연산자\n",
    "# 문자열을 반복하여 연결\n",
    "\n",
    "print('jiwo' + 'n' * 7,'\\n')\n",
    "print('jiwo' + 7 * 'n', '\\n')\n",
    "\n",
    "s = '배지원'\n",
    "print(s * 3,'\\n')\n",
    "print('='*30)\n",
    "\n",
    "s = '배지원\\n'\n",
    "print(s * 3)"
   ]
  },
  {
   "cell_type": "markdown",
   "metadata": {},
   "source": [
    "## 문자열 메소드\n",
    "\n",
    "1. 문자열 결함\n",
    "    - join\n",
    "2. 문자열 분할\n",
    "    - split\n",
    "    - partition\n",
    "3. 문자열 제거\n",
    "    - strip\n",
    "4. 문자열 교체\n",
    "    - replace\n",
    "    - 영어 관련 메소드\n",
    "7. 문자열 질의\n",
    "    - count\n",
    "    - find\n",
    "    - index\n",
    "    - startwith /endwith\n",
    "    - is ~\n",
    "    - 영어 관련 메소드\n",
    "    - 문자열 서식"
   ]
  },
  {
   "cell_type": "code",
   "execution_count": 26,
   "metadata": {},
   "outputs": [
    {
     "name": "stdout",
     "output_type": "stream",
     "text": [
      "python java ruby\n",
      "pythonjavaruby\n",
      "python=><=java=><=ruby\n",
      "ruby, java, python\n"
     ]
    },
    {
     "data": {
      "text/plain": [
       "'1+1+1+1+2+2+2'"
      ]
     },
     "execution_count": 26,
     "metadata": {},
     "output_type": "execute_result"
    },
    {
     "data": {
      "text/plain": [
       "'1~~~12'"
      ]
     },
     "execution_count": 26,
     "metadata": {},
     "output_type": "execute_result"
    }
   ],
   "source": [
    "## 문자열 결합 : join 메소드\n",
    "# 문자열로 순회형 문자열 객체(리스트,문자열,튜플,셋, 딕셔너리 등)들을 결합\n",
    "\n",
    "languages = ['python','java','ruby']\n",
    "print(' '.join(languages))\n",
    "print(''.join(languages))\n",
    "print('=><='.join(languages))\n",
    "\n",
    "print(', '.join(reversed(languages)))\n",
    "\n",
    "#print('+'.join([1,2,3]))\n",
    "'+'.join('1111222')\n",
    "'~~~'.join(['1','1''2']) #???"
   ]
  },
  {
   "cell_type": "code",
   "execution_count": 24,
   "metadata": {},
   "outputs": [
    {
     "name": "stdout",
     "output_type": "stream",
     "text": [
      "['파이썬을', '배우면서', '파이썬을', '즐기자!!!']\n",
      "['파이썬을 배우면서 파이썬을', '즐기자!!!']\n",
      "['In', 'roduc', 'ion to python']\n",
      "['Intr', 'ducti', 'n t', ' pyth', 'n']\n",
      "\n",
      "[]\n"
     ]
    }
   ],
   "source": [
    "## 문자열 분할 : split 메소드\n",
    "# str.split (좌측부터) / str.rsplit (우측 부터) \n",
    "# 구분자를 기준으로 나눈후 리스트 형태로 반환\n",
    "\n",
    "# 최대 분할값 (maxsplit)가 주어지면 그 값만큼 분할하고,\n",
    "# 값이 주에지지 않으면 또는 -1이먄 모두 분할\n",
    "\n",
    "# cf. str.splitlines(): 줄단위로 나눈 후 리스트 형식으로 반환\n",
    "\n",
    "eng = 'Introduction to python'\n",
    "kor = '파이썬을 배우면서 파이썬을 즐기자!!!'\n",
    "\n",
    "print(kor.split())\n",
    "print(kor.rsplit(maxsplit=1))\n",
    "print(eng.split('t',2)) #t를 2번 기준으로  (split는 어디에도 포함되지 않음)\n",
    "print(eng.rsplit('o')) #o를 구분자로 순서 없이 나누기 \n",
    "print()\n",
    "\n",
    "print(' \\t \\n \\n\\t \\t '.split()) \n",
    "\n",
    "# 구분자가 지정되지 않앗다면 연속적으로 있는 화이트 스페이스는 하나의 구분자로 취급\n",
    "#\n"
   ]
  },
  {
   "cell_type": "code",
   "execution_count": 27,
   "metadata": {},
   "outputs": [
    {
     "data": {
      "text/plain": [
       "['2', '3', '4']"
      ]
     },
     "execution_count": 27,
     "metadata": {},
     "output_type": "execute_result"
    },
    {
     "name": "stdout",
     "output_type": "stream",
     "text": [
      "['1', '2', '3']\n",
      "['']\n",
      "['1', '', '2']\n",
      "['ab', 'c', 'de', 'fg', 'k']\n"
     ]
    }
   ],
   "source": [
    "'  2  3  4  '.split()\n",
    "print(' \\t 1 \\n 2 \\n\\t \\t3'.split())\n",
    "\n",
    "print(''.split(','))\n",
    "#구분자가 지정되어 잇는데 문자열이 빈 문자열이라면  [''] 반환\n",
    "\n",
    "print('1,,2'.split(','))\n",
    "# 구분자가 지정되어 있고, 문자열 내부에 구분자가 요소로 존재한다면, 빈 요소를 반환\n",
    "\n",
    "print('ab c\\n\\nde fg\\rk\\n'.split())\n",
    "# 구분자에 따라 반환 (화이트 스페이스 연산자 포함)"
   ]
  },
  {
   "cell_type": "code",
   "execution_count": 33,
   "metadata": {},
   "outputs": [
    {
     "name": "stdout",
     "output_type": "stream",
     "text": [
      "['split']\n",
      "['splitlines', '']\n"
     ]
    }
   ],
   "source": [
    "# split(\\n) vs. splitlines()\n",
    "# splitlines() 무조건 한줄씩 주는 것\n",
    "# 차이를 확인할 것\n",
    "\n",
    "print('split\\n\\n'.split())\n",
    "print('splitlines\\n\\n'.splitlines())\n"
   ]
  },
  {
   "cell_type": "code",
   "execution_count": 2,
   "metadata": {},
   "outputs": [
    {
     "data": {
      "text/plain": [
       "('Introduction', ' ', 'to python')"
      ]
     },
     "execution_count": 2,
     "metadata": {},
     "output_type": "execute_result"
    },
    {
     "data": {
      "text/plain": [
       "('Introduction to', ' ', 'python')"
      ]
     },
     "execution_count": 2,
     "metadata": {},
     "output_type": "execute_result"
    },
    {
     "data": {
      "text/plain": [
       "('파이썬을 배우면서 파이썬을 즐기자', '!', '!!')"
      ]
     },
     "execution_count": 2,
     "metadata": {},
     "output_type": "execute_result"
    },
    {
     "data": {
      "text/plain": [
       "('/usr/local/bin', '/', 'python')"
      ]
     },
     "execution_count": 2,
     "metadata": {},
     "output_type": "execute_result"
    },
    {
     "data": {
      "text/plain": [
       "'python'"
      ]
     },
     "execution_count": 2,
     "metadata": {},
     "output_type": "execute_result"
    },
    {
     "data": {
      "text/plain": [
       "('/usr/local/bin/python', '', '')"
      ]
     },
     "execution_count": 2,
     "metadata": {},
     "output_type": "execute_result"
    }
   ],
   "source": [
    "### 문자열 분할 : partition 메소드\n",
    "# 문자열을 특정 구분자가 처음 나온 위치에서 분할해 3등분하여 튜플로 반환\n",
    "# 만약 찾는 구분자가 존재하지 않는 다면 문자열 전체와 빈문자열 2개를 튜플로 반환\n",
    "\n",
    "# ==> 구분자 본인이 사라지지 않음(cf,split의 경우 구분자가 사라짐)\n",
    "\n",
    "eng = 'Introduction to python'\n",
    "kor = '파이썬을 배우면서 파이썬을 즐기자!!!'\n",
    "\n",
    "eng.partition(' ')\n",
    "eng.rpartition(' ')\n",
    "\n",
    "kor.partition('!')\n",
    "\n",
    "\n",
    "s = '/usr/local/bin/python'\n",
    "s.rpartition('/')\n",
    "s.rpartition('/')[2]\n",
    "# 현재의 워킹디렉토리와 분리\n",
    "\n",
    "s.partition('x')\n",
    "# 본인도 파티션이 없는 경우 -> 전체 리턴 후 '',''\n",
    "\n"
   ]
  },
  {
   "cell_type": "code",
   "execution_count": 13,
   "metadata": {},
   "outputs": [
    {
     "name": "stdout",
     "output_type": "stream",
     "text": [
      "troduction of pyth\n",
      "파이썬을 배우면서 파이썬을 즐기자\n",
      "Introduction of python \n",
      "\n",
      "금연!! \t!\n",
      "금연!! \t! \n",
      "\n",
      "\t 금연!! \t!\n"
     ]
    },
    {
     "data": {
      "text/plain": [
       "'파이썬을 배우면서 파이썬을 즐기자!!!'"
      ]
     },
     "execution_count": 13,
     "metadata": {},
     "output_type": "execute_result"
    },
    {
     "name": "stdout",
     "output_type": "stream",
     "text": [
      "vvvvwwwweeeeaaaaaa\n"
     ]
    }
   ],
   "source": [
    "## 문자열 제거 : strip 메소드\n",
    "import string\n",
    "\n",
    "eng = 'Introduction of python'\n",
    "kor = '파이썬을 배우면서 파이썬을 즐기자!!!'\n",
    "\n",
    "print(eng.strip('Inop'))\n",
    "print(kor.rstrip('!'))\n",
    "print(eng.lstrip('ntroduction'),'\\n')\n",
    "\n",
    "s = '\\t 금연!! \\t! \\n'\n",
    "\n",
    "print(s.strip())\n",
    "print(s.lstrip())\n",
    "print(s.rstrip())\n",
    "\n",
    "kk = \"vvvvwwwweeee#@#@#aaaaaa\"\n",
    "strip\n",
    "\n",
    "for i in string.punctuation:\n",
    "    kk = kk.replace(i,'')\n",
    "\n",
    "kor.strip(string.whitespace)\n",
    "print(kk)"
   ]
  },
  {
   "cell_type": "code",
   "execution_count": 35,
   "metadata": {},
   "outputs": [
    {
     "name": "stdout",
     "output_type": "stream",
     "text": [
      "I do love python programming\n",
      "I like python programming\n",
      "I d0 l0ve python programming\n"
     ]
    }
   ],
   "source": [
    "## 문자열 교체: replace 메소드\n",
    "# 문자열 중 대체할 부분 문자열을 모두 새로운 부분문자열로 교체해서 복사본을 반환 -> gc 생김? 원래의 객체는 쓰레기?\n",
    "# 만약 교체 횟수가 주어지면 그 숫자만큼 교체한 새로운 문자열 복사본을 반환\n",
    "\n",
    "s = 'I like python programming'\n",
    "print(s.replace('like','do love'))\n",
    "print(s)\n",
    "\n",
    "s = s.replace('like','do love')\n",
    "\n",
    "s = s.replace('o','0',2)\n",
    "print(s)\n"
   ]
  },
  {
   "cell_type": "code",
   "execution_count": 25,
   "metadata": {},
   "outputs": [
    {
     "name": "stdout",
     "output_type": "stream",
     "text": [
      "Introduction To Python\n"
     ]
    },
    {
     "data": {
      "text/plain": [
       "'Introduction To Python'"
      ]
     },
     "execution_count": 25,
     "metadata": {},
     "output_type": "execute_result"
    },
    {
     "data": {
      "text/plain": [
       "'AamgbbㄱB.Eee K~K E11Eeeeee\\nEe'"
      ]
     },
     "execution_count": 25,
     "metadata": {},
     "output_type": "execute_result"
    },
    {
     "name": "stdout",
     "output_type": "stream",
     "text": [
      "Introduction to python\n",
      "introduction to python\n",
      "INTRODUCTION TO PYTHON\n",
      "iNTRODUCTION TO pYTHON\n",
      "\n"
     ]
    }
   ],
   "source": [
    "## 문자열 교체 : 영어 관련 메소드\n",
    "eng = 'Introduction to Python'\n",
    "print(eng.title())\n",
    "en = 'aamgbbㄱb.eee k~k e11eeeeee\\nee'\n",
    "eng.title()\n",
    "en.title()\n",
    "\n",
    "print(eng.capitalize())\n",
    "print(eng.lower())\n",
    "print(eng.upper())\n",
    "print(eng.swapcase())\n",
    "print()\n",
    "\n",
    "# ?str.title"
   ]
  },
  {
   "cell_type": "code",
   "execution_count": 26,
   "metadata": {},
   "outputs": [
    {
     "name": "stdout",
     "output_type": "stream",
     "text": [
      "4\n",
      "1\n",
      "3 \n",
      "\n",
      "2\n"
     ]
    },
    {
     "data": {
      "text/plain": [
       "3"
      ]
     },
     "execution_count": 26,
     "metadata": {},
     "output_type": "execute_result"
    }
   ],
   "source": [
    "# 문자열 질의 : count 메소드\n",
    "eng = 'Introduction to python'\n",
    "kor = '파이썬을 배우면서 파이썬을 즐기자!!!'\n",
    "\n",
    "print(eng.count('o'))\n",
    "print(eng.count('o',-2))\n",
    "print(eng.count('o',0,-2),'\\n')\n",
    "print(kor.count('파이썬'))"
   ]
  },
  {
   "cell_type": "code",
   "execution_count": 46,
   "metadata": {},
   "outputs": [
    {
     "name": "stdout",
     "output_type": "stream",
     "text": [
      "2\n",
      "18\n",
      "10 \n",
      "\n",
      "-1\n"
     ]
    }
   ],
   "source": [
    "## 문자열 질의 : find 메소드\n",
    "# d위치 반환 =  인덱스 번호로 정해짐 \n",
    "# 부분 문자열이 처음 나온 위치를 반환\n",
    "\n",
    "# 만약 찾는 부분 문자열이 존재하지 않는다면 -1을 반환\n",
    "\n",
    "\n",
    "eng = 'Introduction to python'\n",
    "kor = '파이썬을 배우면서 파이썬을 즐기자!!!'\n",
    "\n",
    "print(eng.find('t'))\n",
    "print(eng.rfind('t'))\n",
    "print(kor.rfind('파'),'\\n')\n",
    "print(kor.find('Python'))"
   ]
  },
  {
   "cell_type": "code",
   "execution_count": 47,
   "metadata": {},
   "outputs": [
    {
     "name": "stdout",
     "output_type": "stream",
     "text": [
      "2\n",
      "18\n"
     ]
    },
    {
     "ename": "ValueError",
     "evalue": "substring not found",
     "output_type": "error",
     "traceback": [
      "\u001b[1;31m---------------------------------------------------------------------------\u001b[0m",
      "\u001b[1;31mValueError\u001b[0m                                Traceback (most recent call last)",
      "\u001b[1;32m<ipython-input-47-785bbad2ef15>\u001b[0m in \u001b[0;36m<module>\u001b[1;34m()\u001b[0m\n\u001b[0;32m      5\u001b[0m \u001b[0mprint\u001b[0m\u001b[1;33m(\u001b[0m\u001b[0meng\u001b[0m\u001b[1;33m.\u001b[0m\u001b[0mindex\u001b[0m\u001b[1;33m(\u001b[0m\u001b[1;34m't'\u001b[0m\u001b[1;33m)\u001b[0m\u001b[1;33m)\u001b[0m\u001b[1;33m\u001b[0m\u001b[0m\n\u001b[0;32m      6\u001b[0m \u001b[0mprint\u001b[0m\u001b[1;33m(\u001b[0m\u001b[0meng\u001b[0m\u001b[1;33m.\u001b[0m\u001b[0mrindex\u001b[0m\u001b[1;33m(\u001b[0m\u001b[1;34m't'\u001b[0m\u001b[1;33m)\u001b[0m\u001b[1;33m)\u001b[0m\u001b[1;33m\u001b[0m\u001b[0m\n\u001b[1;32m----> 7\u001b[1;33m \u001b[0mprint\u001b[0m\u001b[1;33m(\u001b[0m\u001b[1;34m'\\n'\u001b[0m\u001b[1;33m,\u001b[0m\u001b[0mkor\u001b[0m\u001b[1;33m.\u001b[0m\u001b[0mindex\u001b[0m\u001b[1;33m(\u001b[0m\u001b[1;34m'python'\u001b[0m\u001b[1;33m)\u001b[0m\u001b[1;33m)\u001b[0m\u001b[1;33m\u001b[0m\u001b[0m\n\u001b[0m",
      "\u001b[1;31mValueError\u001b[0m: substring not found"
     ]
    }
   ],
   "source": [
    "## 문자열 질의 : index 메소드\n",
    "#문자열 중 부분 문자열이 처음나온 위치를 반환\n",
    "\n",
    "# 없다면 valueerror 발생\n",
    "\n",
    "print(eng.index('t'))\n",
    "print(eng.rindex('t'))\n",
    "print('\\n',kor.index('python'))\n"
   ]
  },
  {
   "cell_type": "code",
   "execution_count": 38,
   "metadata": {},
   "outputs": [
    {
     "name": "stdout",
     "output_type": "stream",
     "text": [
      "found1\n",
      "found2\n",
      "found3\n",
      "found4\n",
      "\n",
      " ==============================\n",
      "\n"
     ]
    },
    {
     "data": {
      "text/plain": [
       "False"
      ]
     },
     "execution_count": 38,
     "metadata": {},
     "output_type": "execute_result"
    }
   ],
   "source": [
    "## 문자열 질의 : startswith / endswith 메소드\n",
    "\n",
    "# startswith 문자열이 접두문자로 시작하면 참반환\n",
    "# endswith 문자열이 접미문자로 시작하면 참반환 아니면 거짓\n",
    "# 문자열 분할을 사용하여 검색하지 말고 이를 사용하는 것을 권장\n",
    "\n",
    "eng = 'Introduction to python'\n",
    "kor = '파이썬을 배우면서 파이썬을 즐기자!!!'\n",
    "\n",
    "if eng[-6:] == 'python' :\n",
    "    print('found1') #별로\n",
    "\n",
    "if kor[:3] == '파이썬' :\n",
    "    print('found2') #별로\n",
    "\n",
    "if eng.endswith('python') :\n",
    "    print('found3') #good\n",
    "\n",
    "if kor.startswith('파이썬') :\n",
    "    print('found4') #굿\n",
    "\n",
    "\n",
    "print('\\n','='*30)\n",
    "\n",
    "eng.startswith('i')\n",
    "eng.endswith('파이썬')\n",
    "print()\n",
    "\n",
    "kor.startswith('파이썬')\n",
    "kor.endswith('자')"
   ]
  },
  {
   "cell_type": "code",
   "execution_count": 2,
   "metadata": {},
   "outputs": [
    {
     "name": "stdout",
     "output_type": "stream",
     "text": [
      "True\n",
      "False\n",
      "\n",
      "True\n",
      "True\n",
      "\n",
      "False\n",
      "False\n",
      "True\n",
      "\n",
      "decimal\n",
      "False\n",
      "False\n",
      "\n",
      "True\n",
      "⅕\n",
      "\n",
      "False\n",
      "False\n",
      "True\n"
     ]
    },
    {
     "data": {
      "text/plain": [
       "True"
      ]
     },
     "execution_count": 2,
     "metadata": {},
     "output_type": "execute_result"
    }
   ],
   "source": [
    "## 문자열 질의 : is ~ 메소드 1\n",
    "print('\\n'.isspace())\n",
    "print(' t'.isspace()) # 모든 문자가 화이트 스페이서면 참\n",
    "print()\n",
    "\n",
    "print('a학'.isalpha()) # 모든 문자가 알파벳이면 참\n",
    "print('a학'.isalpha())\n",
    "print()\n",
    "\n",
    "print('-3'.isdigit()) # 모든 문자가 0,1,2 ...,9 \n",
    "print('-1.23'.isdigit())\n",
    "print('007'.isdigit())\n",
    "print()\n",
    "\n",
    "print('decimal')\n",
    "print('-3'.isdecimal())\n",
    "print('1.23'.isdecimal())\n",
    "print()\n",
    "\n",
    "print('007'.isnumeric())\n",
    "\n",
    "s = chr(8533)\n",
    "print(s)\n",
    "print()\n",
    "?chr\n",
    "print(s.isdigit())\n",
    "print(s.isdecimal())\n",
    "print(s.isnumeric())\n",
    "\n",
    "\n",
    "'1.23'.isnumeric()\n",
    "# 1.23.isnumeric()\n",
    "# 1.isnumeric()\n",
    "\n",
    "'007'.isnumeric()"
   ]
  },
  {
   "cell_type": "code",
   "execution_count": 59,
   "metadata": {},
   "outputs": [
    {
     "name": "stdout",
     "output_type": "stream",
     "text": [
      "False\n",
      "True\n",
      "False\n",
      "False\n",
      "\n",
      "True\n",
      "True\n",
      "True\n",
      "True\n",
      "False\n",
      "False\n",
      "True\n"
     ]
    }
   ],
   "source": [
    "## 문자열 질의 : is ~ 메소드 2\n",
    "print('-3동a'.isalnum())\n",
    "print('3동a'.isalnum())\n",
    "print('-3'.isalnum())\n",
    "print('1.23'.isalnum())\n",
    "print()\n",
    "\n",
    "print('-3'.isprintable())\n",
    "print(' 3'.isprintable())\n",
    "print(''.isprintable())\n",
    "print(' '.isprintable())\n",
    "print('\\n\\t'.isprintable())\n",
    "print('\\n'.isprintable())\n",
    "print('n '.isprintable())"
   ]
  },
  {
   "cell_type": "code",
   "execution_count": 63,
   "metadata": {},
   "outputs": [
    {
     "name": "stdout",
     "output_type": "stream",
     "text": [
      "False\n",
      "False\n",
      "False\n"
     ]
    }
   ],
   "source": [
    "## 문자열 질의 : 영어 관련 메소드 \n",
    "eng = 'Introduction to python'\n",
    "\n",
    "print(eng.istitle())\n",
    "print(eng.islower())\n",
    "print(eng.isupper())\n"
   ]
  },
  {
   "cell_type": "code",
   "execution_count": 65,
   "metadata": {},
   "outputs": [
    {
     "name": "stdout",
     "output_type": "stream",
     "text": [
      "  파이썬을 배우면서 파이썬을 즐기자!!!  \n",
      "##파이썬을 배우면서 파이썬을 즐기자!!!##\n",
      "파이썬을 배우면서 파이썬을 즐기자!!!\n",
      "\n",
      "파이썬을 배우면서 파이썬을 즐기자!!!    \n",
      "파이썬을 배우면서 파이썬을 즐기자!!!!!!!\n",
      "파이썬을 배우면서 파이썬을 즐기자!!!\n",
      "\n",
      "    파이썬을 배우면서 파이썬을 즐기자!!!\n",
      "$$$$파이썬을 배우면서 파이썬을 즐기자!!!\n",
      "파이썬을 배우면서 파이썬을 즐기자!!!\n",
      "\n",
      "파이썬을    배우면서    파이썬을    즐기자!!!\n",
      "파이썬을  배우면서  파이썬을  즐기자!!!\n",
      "파이썬을      배우면서      파이썬을      즐기자!!!\n",
      "\n"
     ]
    }
   ],
   "source": [
    "## 문자열 서식 관련 메소드 \n",
    "\n",
    "kor = '파이썬을 배우면서 파이썬을 즐기자!!!'\n",
    "\n",
    "print(kor.center(25))\n",
    "print(kor.center(25,'#'))\n",
    "print(kor.center(10,'#'))\n",
    "print()\n",
    "\n",
    "print(kor.ljust(25))\n",
    "print(kor.ljust(25,'!'))\n",
    "print(kor.ljust(15,'!'))\n",
    "print()\n",
    "\n",
    "print(kor.rjust(25))\n",
    "print(kor.rjust(25,'$'))\n",
    "print(kor.rjust(15))\n",
    "print()\n",
    "\n",
    "kor = '파이썬을\\t배우면서\\t파이썬을\\t즐기자!!!'\n",
    "\n",
    "print(kor.expandtabs())\n",
    "print(kor.expandtabs(3))\n",
    "print(kor.expandtabs(10))\n",
    "print()"
   ]
  },
  {
   "cell_type": "markdown",
   "metadata": {},
   "source": [
    "# 문자열 서식설정\n",
    "\n",
    "1. 필드명\n",
    "2. 형변환\n",
    "3. 서식명세"
   ]
  },
  {
   "cell_type": "markdown",
   "metadata": {},
   "source": [
    "## 1. 필드명\n",
    "\n",
    "#문자열 서식 설정 - str.format() 메소드\n",
    " \n",
    "(1) 위치 전달 인자\n",
    "(2) 키워드 전달 인자\n",
    "\n",
    "{필드명}\n",
    "{필드명!형변환} \n",
    "{필드명:서식명세}\n",
    "{필드명!형변환:서식명세}\n",
    "\n",
    "#중괄호를 문자열 내에서 사용해야 하는 경우 이중중괄호 {{}}"
   ]
  },
  {
   "cell_type": "code",
   "execution_count": 42,
   "metadata": {},
   "outputs": [
    {
     "name": "stdout",
     "output_type": "stream",
     "text": [
      "드럼:타악기에 속한다.\n",
      "기타:현악기에 속한다.\n",
      "키보드:건반악기에 속한다.\n"
     ]
    }
   ],
   "source": [
    "# 1. 필드명\n",
    "print('{0}:{1}악기에 속한다.'.format('드럼','타'))\n",
    "print('{instrument}:{type}악기에 속한다.'.format(type='현',instrument='기타'))\n",
    "print('{instrument}:{0}악기에 속한다.'.format('건반',instrument = '키보드'))\n",
    "\n",
    "# print('{instrument}:{0}악기에 속한다.'.format(instrument = '키보드', '건반'))\n",
    "# 오류"
   ]
  },
  {
   "cell_type": "code",
   "execution_count": 44,
   "metadata": {},
   "outputs": [
    {
     "name": "stdout",
     "output_type": "stream",
     "text": [
      "1 + 2 = 3 \n",
      "\n",
      "1과 2의 곱은 2입니다.\n",
      "2과 3의 곱은 6입니다.\n",
      "3과 4의 곱은 12입니다.\n",
      "4과 5의 곱은 20입니다.\n",
      "5과 6의 곱은 30입니다.\n",
      "6과 7의 곱은 42입니다.\n",
      "7과 8의 곱은 56입니다.\n",
      "8과 9의 곱은 72입니다.\n",
      "9과 10의 곱은 90입니다.\n",
      "\n",
      "나는 ['사과', '딸기', '바나나', '배', '블루베리']을 좋아해요.\n",
      "나는 ['사과', '딸기', '바나나', '배', '블루베리']을 좋아해요.\n",
      "나는 ['사과', '딸기', '바나나', '배', '블루베리']을 좋아해요.\n",
      "나는 ['사과', '딸기', '바나나', '배', '블루베리']을 좋아해요.\n",
      "나는 ['사과', '딸기', '바나나', '배', '블루베리']을 좋아해요.\n",
      "\n",
      "{ 나는 중괄호 안쪽 };나는 아님 ;-}\n"
     ]
    }
   ],
   "source": [
    "# (1) 필드명 : 위치 전달 인자 설정 ('=' 이 붙지 않으면 위치 전달 인자)\n",
    "\n",
    "# 예시 1\n",
    "s = '1 + 2 = {0}'\n",
    "print(s.format(1 + 2),'\\n')\n",
    "\n",
    "#예시2\n",
    "s = '{0}과 {1}의 곱은 {2}입니다.'\n",
    "for i in range(1,10) : \n",
    "    j = i + 1\n",
    "    print(s.format(i,j,i * j))\n",
    "\n",
    "print()\n",
    "\n",
    "#예시 3\n",
    "fruits = ['사과','딸기','바나나', '배','블루베리']\n",
    "for fruit in fruits : \n",
    "    print('나는 {0}을 좋아해요.'.format(fruits))\n",
    "\n",
    "print()\n",
    "\n",
    "# 예시 4\n",
    "s = '{{ {0} }};{1} ;-}}' #컨텐츠에 괄호 삽입을 위해 이중 중괄호로 괄호 사용 / 마지막 }}이므로 중괄호 하나로 표현\n",
    "print(s.format('나는 중괄호 안쪽','나는 아님')) #이중중괄호"
   ]
  },
  {
   "cell_type": "code",
   "execution_count": 82,
   "metadata": {},
   "outputs": [
    {
     "name": "stdout",
     "output_type": "stream",
     "text": [
      "1 + 2 = 3 \n",
      "\n",
      "1과 2의 곱은 2입니다.\n",
      "2과 3의 곱은 6입니다.\n",
      "3과 4의 곱은 12입니다.\n",
      "4과 5의 곱은 20입니다.\n",
      "5과 6의 곱은 30입니다.\n",
      "6과 7의 곱은 42입니다.\n",
      "7과 8의 곱은 56입니다.\n",
      "8과 9의 곱은 72입니다.\n",
      "9과 10의 곱은 90입니다.\n",
      "\n",
      "나는 ['사과', '딸기', '바나나', '배', '블루베리']을 좋아해요.\n",
      "나는 ['사과', '딸기', '바나나', '배', '블루베리']을 좋아해요.\n",
      "나는 ['사과', '딸기', '바나나', '배', '블루베리']을 좋아해요.\n",
      "나는 ['사과', '딸기', '바나나', '배', '블루베리']을 좋아해요.\n",
      "나는 ['사과', '딸기', '바나나', '배', '블루베리']을 좋아해요.\n",
      "\n",
      "{나는 중괄호 안쪽};나는 아님ㅋㅋ ;-}\n"
     ]
    }
   ],
   "source": [
    "##(2) 필드명 : 키워드 전달 인자 설정 (필드명으로 키(key, 유일) 사용)\n",
    "\n",
    "# 필드명으로 키 이름을 사용하면 키워드 전달인자의 순서에 관계없이 사용할 수 있어 편리\n",
    "\n",
    "#예시 1\n",
    "s = '1 + 2 = {result}'\n",
    "print(s.format(result=1+2),'\\n')\n",
    "\n",
    "#예시 2\n",
    "s = '{좌변}과 {우변}의 곱은 {결과}입니다.'\n",
    "for i in range(1,10) : \n",
    "    j= i + 1\n",
    "    print(s.format(결과=i*j,좌변=i,우변=j))\n",
    "print()\n",
    "\n",
    "#예시 3\n",
    "fruits = ['사과','딸기','바나나', '배','블루베리']\n",
    "for fruit in fruits : \n",
    "    print('나는 {product}을 좋아해요.'.format(product=fruits))\n",
    "print()\n",
    "\n",
    "#예시 4\n",
    "s = '{{{x}}};{y} ;-}}' #컨텐츠에 괄호 삽입을 위해 이중 중괄호로 괄호 사용 / 마지막 }}이므로 중괄호 하나로 표현\n",
    "print(s.format(y='나는 아님ㅋㅋ',x='나는 중괄호 안쪽')) #이중중괄호\n"
   ]
  },
  {
   "cell_type": "code",
   "execution_count": 45,
   "metadata": {},
   "outputs": [
    {
     "name": "stdout",
     "output_type": "stream",
     "text": [
      "우리가 현재 재고로 가지고 있는 품목은 {1},{3}입니다.\n",
      "우리가 현재 재고로 가지고 있는 품목은 연필,클립입니다.\n"
     ]
    },
    {
     "ename": "IndexError",
     "evalue": "tuple index out of range",
     "output_type": "error",
     "traceback": [
      "\u001b[1;31m---------------------------------------------------------------------------\u001b[0m",
      "\u001b[1;31mIndexError\u001b[0m                                Traceback (most recent call last)",
      "\u001b[1;32m<ipython-input-45-8b7d8d164ff3>\u001b[0m in \u001b[0;36m<module>\u001b[1;34m()\u001b[0m\n\u001b[0;32m     12\u001b[0m \u001b[1;33m\u001b[0m\u001b[0m\n\u001b[0;32m     13\u001b[0m \u001b[0mstock\u001b[0m \u001b[1;33m=\u001b[0m \u001b[1;33m[\u001b[0m\u001b[1;34m'펜'\u001b[0m\u001b[1;33m,\u001b[0m\u001b[1;34m'연필'\u001b[0m\u001b[1;33m,\u001b[0m\u001b[1;34m'봉투'\u001b[0m\u001b[1;33m,\u001b[0m\u001b[1;34m'클립'\u001b[0m\u001b[1;33m,\u001b[0m\u001b[1;34m'메모장'\u001b[0m\u001b[1;33m]\u001b[0m\u001b[1;33m\u001b[0m\u001b[0m\n\u001b[1;32m---> 14\u001b[1;33m \u001b[0mprint\u001b[0m\u001b[1;33m(\u001b[0m\u001b[1;34m'우리가 현재 재고로 가지고 있는 품목은 {[1]},{[3]}입니다.'\u001b[0m\u001b[1;33m.\u001b[0m\u001b[0mformat\u001b[0m\u001b[1;33m(\u001b[0m\u001b[0mstock\u001b[0m\u001b[1;33m)\u001b[0m\u001b[1;33m)\u001b[0m\u001b[1;33m\u001b[0m\u001b[0m\n\u001b[0m",
      "\u001b[1;31mIndexError\u001b[0m: tuple index out of range"
     ]
    }
   ],
   "source": [
    "##필드명 예시 : 복합자료형 참조 1\n",
    "\n",
    "# (1) 복합자료형 - tbc\n",
    "# 필드명으로 복합자료형 (리스트,튜플,딕셔너리) 참조가능 \n",
    "# --> 위치 전달인자를 사용할 경우 대체필드{}안의 필드명에 위치 전달인자의 인덱스이 위치 번호를 반드시 입력\n",
    "\n",
    "#리스트 튜플: 정수형 인덱스 사용\n",
    "stock = ['펜','연필','봉투','클립','메모장'] #생략 가능\n",
    "print('우리가 현재 재고로 가지고 있는 품목은 {{1}},{{3}}입니다.'.format(stock))\n",
    "\n",
    "stock = ['펜','연필','봉투','클립','메모장']\n",
    "print('우리가 현재 재고로 가지고 있는 품목은 {0[1]},{0[3]}입니다.'.format(stock))\n",
    "\n",
    "stock = ['펜','연필','봉투','클립','메모장'] #인덱스 에서는 생략 불가능\n",
    "print('우리가 현재 재고로 가지고 있는 품목은 {[1]},{[3]}입니다.'.format(stock))"
   ]
  },
  {
   "cell_type": "code",
   "execution_count": 89,
   "metadata": {
    "scrolled": true
   },
   "outputs": [
    {
     "name": "stdout",
     "output_type": "stream",
     "text": [
      "우리가 현재 재고로 가지고 있는 품목은 ['펜', '봉투'],드럼입니다.\n"
     ]
    },
    {
     "ename": "IndexError",
     "evalue": "tuple index out of range",
     "output_type": "error",
     "traceback": [
      "\u001b[1;31m---------------------------------------------------------------------------\u001b[0m",
      "\u001b[1;31mIndexError\u001b[0m                                Traceback (most recent call last)",
      "\u001b[1;32m<ipython-input-89-e10ff2db20e8>\u001b[0m in \u001b[0;36m<module>\u001b[1;34m()\u001b[0m\n\u001b[0;32m     19\u001b[0m     \u001b[1;34m'instrument'\u001b[0m\u001b[1;33m:\u001b[0m\u001b[0mdict\u001b[0m\u001b[1;33m(\u001b[0m\u001b[0m타악기\u001b[0m\u001b[1;33m=\u001b[0m\u001b[1;34m'드럼'\u001b[0m\u001b[1;33m,\u001b[0m \u001b[0m현악기\u001b[0m\u001b[1;33m=\u001b[0m\u001b[1;33m[\u001b[0m\u001b[1;34m'기타'\u001b[0m\u001b[1;33m,\u001b[0m\u001b[1;34m'베이스'\u001b[0m\u001b[1;33m]\u001b[0m\u001b[1;33m,\u001b[0m\u001b[0m건반악기\u001b[0m\u001b[1;33m=\u001b[0m\u001b[1;34m'키보드'\u001b[0m\u001b[1;33m)\u001b[0m\u001b[1;33m\u001b[0m\u001b[0m\n\u001b[0;32m     20\u001b[0m }\n\u001b[1;32m---> 21\u001b[1;33m \u001b[0mprint\u001b[0m\u001b[1;33m(\u001b[0m\u001b[1;34m'우리가 현재 재고로 가지고 있는 품목은 {[stationery]},{[instrument][타악기]}입니다.'\u001b[0m\u001b[1;33m.\u001b[0m\u001b[0mformat\u001b[0m\u001b[1;33m(\u001b[0m\u001b[0mstock\u001b[0m\u001b[1;33m)\u001b[0m\u001b[1;33m)\u001b[0m\u001b[1;33m\u001b[0m\u001b[0m\n\u001b[0m",
      "\u001b[1;31mIndexError\u001b[0m: tuple index out of range"
     ]
    }
   ],
   "source": [
    "##필드명 예시 : 복합자료형 참조 2\n",
    "\n",
    "# (2) 딕셔너리 : 키 사용\n",
    "# 키의자료형이 문자열인 경우에도 필드명에서 사용될 경우 키를 따옴표로 묶어 표현하징 낳음\n",
    "\n",
    "#예시1\n",
    "stock = {\n",
    "    'fruits' : '블루베리',\n",
    "    'stationery' : ['펜','봉투'],\n",
    "    'instrument':dict(타악기='드럼', 현악기=['기타','베이스'],건반악기='키보드')\n",
    "}\n",
    "print('우리가 현재 재고로 가지고 있는 품목은 {0[stationery]},{0[instrument][타악기]}입니다.'.format(stock))\n",
    "\n",
    "\n",
    "#예시 2\n",
    "stock = {\n",
    "    'fruits' : '블루베리',\n",
    "    'stationery' : ['펜','봉투'],\n",
    "    'instrument':dict(타악기='드럼', 현악기=['기타','베이스'],건반악기='키보드')\n",
    "}\n",
    "print('우리가 현재 재고로 가지고 있는 품목은 {[stationery]},{[instrument][타악기]}입니다.'.format(stock)) # 오류 나는 이유??"
   ]
  },
  {
   "cell_type": "markdown",
   "metadata": {},
   "source": [
    "## 전달인자로 ** 연산자 사용\n",
    "\n",
    "맵핑형 패킹/언패킹 연산자 **\n",
    ": key - value 항목을 함수에서 사용하기 적합한 형태로 만들 수 있음\n",
    "\n",
    "장점 1. locals()함수를 호출해서 지역변수들을 이용하거나 -> 사용하였던 모든 \n",
    "장점 2. 딕셔너리가 반환한 객체를 자동으로 언패킹해서 \n",
    "\n",
    "str.format안에 해당 값을 파이썬이 알아서 할당해 문자열 서식설정을 처리하도록 할 수 있다"
   ]
  },
  {
   "cell_type": "code",
   "execution_count": 46,
   "metadata": {},
   "outputs": [
    {
     "name": "stdout",
     "output_type": "stream",
     "text": [
      "포도의 영어표현은 grape입니다.\n",
      "사과의 영어표현은 apple입니다.\n",
      "\n",
      "우리가 현재 재고로 가지고 있는 품목은 펜,편지봉투입니다.\n"
     ]
    }
   ],
   "source": [
    "#예시 1 \n",
    "kor = '포도'\n",
    "eng = 'grape'\n",
    "d = dict(eng='apple',kor='사과') #사전을 따로 만듦\n",
    "\n",
    "s = '{kor}의 영어표현은 {eng}입니다.'\n",
    "print(s.format(**locals())) #로컬 메모리에 할당되어 있는 값을 불러옴\n",
    "print(s.format(**d)) # 딕셔너리에 정의되어있는 값을 불러옴\n",
    "print()\n",
    "\n",
    "# 예시 2\n",
    "d = {'재고품목':['펜','연필','편지봉투','종이클립','메모장']}\n",
    "print('우리가 현재 재고로 가지고 있는 품목은 {재고품목[0]},{재고품목[2]}입니다.'.format(**d))"
   ]
  },
  {
   "cell_type": "markdown",
   "metadata": {},
   "source": [
    "## 2. 형변환\n",
    "\n",
    "형변환 : 파이썬 객체 출력형식\n",
    "\n",
    "대표형태 : 해당객체를 대표하는 형태\n",
    "대화형 모드에서 객체를 입력하고o enter or return 키를 누르면 대표 형태로 출력됨\n",
    "print() 안씀\n",
    "\n",
    "문자열 형태 : 사람이 읽을 편한 형태\n",
    "대화형 모드나 인터 프리터 모드에서 print() 함수를 사용"
   ]
  },
  {
   "cell_type": "code",
   "execution_count": 4,
   "metadata": {},
   "outputs": [
    {
     "name": "stdout",
     "output_type": "stream",
     "text": [
      "3/7\n"
     ]
    },
    {
     "data": {
      "text/plain": [
       "Fraction(3, 7)"
      ]
     },
     "execution_count": 4,
     "metadata": {},
     "output_type": "execute_result"
    }
   ],
   "source": [
    "#예시 1 - 1\n",
    "import fractions, decimal\n",
    "print(fractions.Fraction(3,7)) # 문자열 형태로 출력\n",
    "fractions.Fraction(3,7) # 대표형태로 출력"
   ]
  },
  {
   "cell_type": "code",
   "execution_count": 5,
   "metadata": {},
   "outputs": [
    {
     "name": "stdout",
     "output_type": "stream",
     "text": [
      "123.456789\n"
     ]
    },
    {
     "data": {
      "text/plain": [
       "Decimal('123.456789')"
      ]
     },
     "execution_count": 5,
     "metadata": {},
     "output_type": "execute_result"
    }
   ],
   "source": [
    "#예시1 - 2\n",
    "print(decimal.Decimal('123.456789')) #문자열 형태로 출력\n",
    "decimal.Decimal('123.456789') # 대표 형태로 출력"
   ]
  },
  {
   "cell_type": "code",
   "execution_count": 6,
   "metadata": {},
   "outputs": [
    {
     "name": "stdout",
     "output_type": "stream",
     "text": [
      "<module 'sys' (built-in)>\n"
     ]
    },
    {
     "data": {
      "text/plain": [
       "<module 'sys' (built-in)>"
      ]
     },
     "execution_count": 6,
     "metadata": {},
     "output_type": "execute_result"
    }
   ],
   "source": [
    "# 예시 2\n",
    "import sys\n",
    "print(sys) #문자열 형태로 표현 할 수 없어 대표 형태로 출력\n",
    "sys #대표형태로 표현할 수 없어 꺽쇠괄호로 둘러쌓인 문자열로 출력"
   ]
  },
  {
   "cell_type": "markdown",
   "metadata": {},
   "source": [
    "##### # 형변환 지정자 {!} \n",
    "\n",
    "파이썬에 내장자료형은  str.format() 을 알고있기 때문에 전달인자로 전달 될때 자신을 표현하기 적합한 문자열로 반환함\n",
    "하지만 서식 설정을 통해 원하는 출력 형태로 변환하는 것의 가능\n",
    "{필드명!형변환}\n",
    "{필드명!형변환:서식명세}\n",
    "\n",
    "    !s : 문자열 형태로 변환\n",
    "    !r : 대표형태로 변환\n",
    "    !a : 아스키 문자만을 사용하는 대표형태로 변환"
   ]
  },
  {
   "cell_type": "code",
   "execution_count": 51,
   "metadata": {},
   "outputs": [
    {
     "data": {
      "text/plain": [
       "'3/7'"
      ]
     },
     "execution_count": 51,
     "metadata": {},
     "output_type": "execute_result"
    }
   ],
   "source": [
    "'{0}'.format(Fraction(3,7))"
   ]
  },
  {
   "cell_type": "code",
   "execution_count": 61,
   "metadata": {},
   "outputs": [
    {
     "name": "stdout",
     "output_type": "stream",
     "text": [
      "3/7\n"
     ]
    },
    {
     "data": {
      "text/plain": [
       "Fraction(3, 7)"
      ]
     },
     "execution_count": 61,
     "metadata": {},
     "output_type": "execute_result"
    }
   ],
   "source": [
    "print(Fraction(3,7))\n",
    "Fraction(3,7)"
   ]
  },
  {
   "cell_type": "code",
   "execution_count": 57,
   "metadata": {},
   "outputs": [
    {
     "name": "stdout",
     "output_type": "stream",
     "text": [
      "3/7\n",
      "Fraction(3, 7)\n"
     ]
    },
    {
     "data": {
      "text/plain": [
       "'Fraction(3, 7)'"
      ]
     },
     "execution_count": 57,
     "metadata": {},
     "output_type": "execute_result"
    }
   ],
   "source": [
    "print('{0}'.format(Fraction(3,7)))# 프린트 함수를 사용하여 문자열 형태로 반환\n",
    "print('{0!r}'.format(Fraction(3,7))) #프린트 함수 내에서 대표형태로 강제화 시켜서 아웃풋을 일치 시킴\n",
    "'{0!r}'.format(Fraction(3,7)) #대표형태로 변환"
   ]
  },
  {
   "cell_type": "code",
   "execution_count": 58,
   "metadata": {},
   "outputs": [
    {
     "name": "stdout",
     "output_type": "stream",
     "text": [
      "3/7 3/7 Fraction(3, 7) Fraction(3, 7)\n",
      "3/7 3/7 Fraction(3, 7) Fraction(3, 7) \n"
     ]
    },
    {
     "data": {
      "text/plain": [
       "'3/7 3/7 Fraction(3, 7) Fraction(3, 7) '"
      ]
     },
     "execution_count": 58,
     "metadata": {},
     "output_type": "execute_result"
    }
   ],
   "source": [
    "# 예시\n",
    "from fractions import Fraction\n",
    "print('{result} {result!s} {result!r} {result!a}'.format(result=Fraction(3,7)) )#키워드 전달 인자\n",
    "print('{0} {0!s} {0!r} {0!a} '.format(Fraction(3,7))) # 위치전달인자 print()\n",
    "'{0} {0!s} {0!r} {0!a} '.format(Fraction(3,7)) #위치 전달 인자"
   ]
  },
  {
   "cell_type": "markdown",
   "metadata": {},
   "source": [
    "## 3. 서식명세 \n",
    "\n",
    "1) 문자열\n",
    "\n",
    "2) 정수\n",
    "    - (1) 정렬 및 채우기(fill)\n",
    "    - (2) 채우기(fill) vs. 덧대기(padding)\n",
    "    - (3) 기호 표시\n",
    "    - (4) type 숫자표현 예시\n",
    "    - (5) 쉼표 그룹화\n",
    "\n",
    "3) 실수\n"
   ]
  },
  {
   "cell_type": "markdown",
   "metadata": {},
   "source": [
    "## 서식명세의 일반 형태\n",
    "\n",
    "서식명세 지정자 {: 여기에 넣어 }\n",
    "\n",
    "{필드명!형변환:서식명세}\n",
    "\n",
    "1. fill \n",
    "    - < (왼쪽) \n",
    "    - > (오른쪽) \n",
    "    - ^ (중앙) \n",
    "    - = (부호ㅘ 숫자 사이를 fill문자로 채움)\n",
    "\n",
    "2. align \n",
    "    - + (양수 음수 부호를 반드시 표시)\n",
    "    - - (양수는 놔두고 음수일 경우 - 표시)\n",
    "    - 공란 (양수일 경우 공백표시, 음수일 경우 - 표시)\n",
    "\n",
    "3. sign    \n",
    "\n",
    "4. #\n",
    "    - 0b,0o,0x와 함깨 쓰이며 진법을 설정할 수 있음\n",
    "\n",
    "5. 0 \n",
    "    - ( 빈칸을 0으로 채움)   \n",
    "\n",
    "6. width \n",
    "    - (최소 길이 설정)  \n",
    "\n",
    "7. , \n",
    "    - (숫자를 3자리씩 콤미로 분리시킴)\n",
    "\n",
    "8. .precision\n",
    "    - 문자열 : 최대길이 설정\n",
    "    - 실수 : 소수점 자릿수 설정\n",
    "    \n",
    "9. type\n",
    "    - 정수 : b,c,d,n,o,x,X\n",
    "    - 실수 : e,E,f,g,G,n,%"
   ]
  },
  {
   "cell_type": "code",
   "execution_count": 3,
   "metadata": {},
   "outputs": [
    {
     "name": "stdout",
     "output_type": "stream",
     "text": [
      "파이썬을 배우면서 파이썬을 즐기자!!!\n",
      "파이썬을 배우면서 파이썬을 즐기자!!!    \n",
      "==파이썬을 배우면서 파이썬을 즐기자!!!==\n",
      "    파이썬을 배우면서 파이썬을 즐기자!!!\n",
      "파이썬을 배우면서 파이썬을 즐기자!!!~~~~\n",
      "파이썬을 배우면서 파이썬을 \n",
      "..파이썬을 배우면서 파이썬을 즐기자!!!..\n",
      "파이썬을 배우면서 파이썬을 즐기자!!!\n"
     ]
    },
    {
     "data": {
      "text/plain": [
       "'파이썬을 배우면서 파이썬을 즐기자!!!    '"
      ]
     },
     "execution_count": 3,
     "metadata": {},
     "output_type": "execute_result"
    }
   ],
   "source": [
    "# 1) 문자열 \n",
    "\n",
    "s = '파이썬을 배우면서 파이썬을 즐기자!!!'\n",
    "\n",
    "print('{}'.format(s)) # 기본값\n",
    "\n",
    "print('{:25}'.format(s)) # 최소길이를 25로 설정 \n",
    "print('{:=^25}'.format(s)) # = 로 채우기, 중앙정렬, 최소길이 25\n",
    "print('{:>25}'.format(s)) #우측 정렬 , 최소길이 25\n",
    "print('{:~<25}'.format(s)) #~로 채우기, 좌측정렬, 최소길이 25\n",
    "print('{:.15}'.format(s)) # 최대길이 15\n",
    "print('{:.^25}'.format(s)) # 최대길이 15\n",
    "print('{:.25}'.format(s)) # 최대길이 15\n",
    "\n",
    "'{:25}'.format(s) # 최소길이를 25로 설정 \n"
   ]
  },
  {
   "cell_type": "code",
   "execution_count": 74,
   "metadata": {},
   "outputs": [
    {
     "name": "stdout",
     "output_type": "stream",
     "text": [
      "123456789\n",
      "-123456789\n",
      "\n",
      "      123456789\n",
      "     -123456789 \n",
      "\n",
      "123456789******\n",
      "$$$$$-123456789\n",
      "###123456789###\n",
      "##-123456789###\n"
     ]
    }
   ],
   "source": [
    "# 2) 정수 \n",
    "# (1) 정렬 및 채우기(fill)\n",
    "pos_int = 123456789\n",
    "neg_int = -123456789\n",
    "\n",
    "print('{}'.format(pos_int)) # 기본값 \n",
    "print('{}'.format(neg_int))\n",
    "print()\n",
    "\n",
    "print('{:15}'.format(pos_int)) # 최소길이를 15로\n",
    "print('{:15}'.format(neg_int),'\\n')\n",
    "\n",
    "print('{:*<15}'.format(pos_int)) # * 로 채우기, 좌측정렬, 최소길이 15\n",
    "print('{:$>15}'.format(neg_int)) # $ 로 채우기, 우측정렬, 최소길이 15\n",
    "print('{:#^15}'.format(pos_int)) # # 로 채우기, 중앙정렬, 최소길이 15\n",
    "print('{:#^15}'.format(neg_int)) # # 로 채우기, 중앙정렬, 최소길이 15\n"
   ]
  },
  {
   "cell_type": "code",
   "execution_count": 7,
   "metadata": {},
   "outputs": [
    {
     "name": "stdout",
     "output_type": "stream",
     "text": [
      "000000123456789\n",
      "-00000123456789 \n",
      "\n",
      "000000123456789\n",
      "-00000123456789\n"
     ]
    },
    {
     "data": {
      "text/plain": [
       "'000000123456789'"
      ]
     },
     "execution_count": 7,
     "metadata": {},
     "output_type": "execute_result"
    }
   ],
   "source": [
    "# 2) 정수\n",
    "#    (2) 채우기(fill) vs. 덧대기(padding)\n",
    "pos_int = 123456789\n",
    "neg_int = -123456789\n",
    "\n",
    "'{:0=15}'.format(pos_int)\n",
    "print('{:0=15}'.format(pos_int))\n",
    "print('{:0=15}'.format(neg_int),'\\n')\n",
    "\n",
    "print('{:015}'.format(pos_int))\n",
    "print('{:015}'.format(neg_int))\n",
    "\n",
    "# '{:015}'.format(neg_int)\n",
    "# '{:015}'.format(pos_int)\n"
   ]
  },
  {
   "cell_type": "code",
   "execution_count": 88,
   "metadata": {},
   "outputs": [
    {
     "name": "stdout",
     "output_type": "stream",
     "text": [
      "+123456789\n",
      "-123456789\n",
      "\n",
      "123456789\n",
      "-123456789\n",
      "\n",
      " 123456789\n",
      "-123456789\n"
     ]
    }
   ],
   "source": [
    "# 2. 정수\n",
    "#    (3) 기호 표시\n",
    "pos_int = 123456789\n",
    "neg_int = -123456789\n",
    "\n",
    "# 양수 음수일때 반드시 표기\n",
    "print('{:+}'.format(pos_int))\n",
    "print('{:+}'.format(neg_int))\n",
    "print()\n",
    "\n",
    "#양수는 놔두고 음수일때만 - 표기\n",
    "print('{:-}'.format(pos_int))\n",
    "print('{:-}'.format(neg_int))\n",
    "print()\n",
    "\n",
    "# size 크기를 똑같이 (양수 부호없이 한칸 띄고)\n",
    "print('{: }'.format(pos_int))\n",
    "print('{: }'.format(neg_int))\n"
   ]
  },
  {
   "cell_type": "code",
   "execution_count": 91,
   "metadata": {},
   "outputs": [
    {
     "name": "stdout",
     "output_type": "stream",
     "text": [
      "<10000010101001> <20251> <20a9> <20A9> <8361> <₩> <8361> \n"
     ]
    },
    {
     "data": {
      "text/plain": [
       "'<0b10000010101001> <0o20251> <0x20a9> <0X20A9> <8361> <₩> <8361> '"
      ]
     },
     "execution_count": 91,
     "metadata": {},
     "output_type": "execute_result"
    }
   ],
   "source": [
    "# 2) 정수\n",
    "#    (4) type 숫자표현 예시\n",
    "\n",
    "int_num = 8361\n",
    "print('<{0:b}> <{0:o}> <{0:x}> <{0:X}> <{0:d}> <{0:c}> <{0:n}> '.format(int_num))\n",
    "\n",
    "'<{0:#b}> <{0:#o}> <{0:#x}> <{0:#X}> <{0:#d}> <{0:c}> <{0:#n}> '.format(int_num)"
   ]
  },
  {
   "cell_type": "code",
   "execution_count": 99,
   "metadata": {
    "scrolled": true
   },
   "outputs": [
    {
     "name": "stdout",
     "output_type": "stream",
     "text": [
      "<123456789> <1234.52> \n",
      "\n",
      "<123,456,789> <1,234.52> \n",
      "\n",
      "<123,456,789> <1,234.52> \n",
      "\n",
      "<123 456 789> <1 234,52> \n",
      "\n"
     ]
    }
   ],
   "source": [
    "# 예시 나라별 표기법\n",
    "import locale\n",
    "post_int = 123456789\n",
    "real = 1234.517\n",
    "\n",
    "locale.setlocale(locale.LC_ALL,'C')\n",
    "print('<{post_int:n}> <{real:n}>'.format(**locals()),'\\n') #기본 국가 표기법\n",
    "locale.setlocale(locale.LC_ALL,'') #대한민국 표기법\n",
    "print('<{post_int:n}> <{real:n}>'.format(**locals()),'\\n')\n",
    "\n",
    "locale.setlocale(locale.LC_ALL,'en_US.UTF-8') #미국 표기법\n",
    "print('<{post_int:n}> <{real:n}>'.format(**locals()),'\\n')\n",
    "\n",
    "locale.setlocale(locale.LC_ALL,'fr_FR.UTF-8') #프랑스 표기법\n",
    "print('<{post_int:n}> <{real:n}>'.format(**locals()),'\\n')\n",
    "\n"
   ]
  },
  {
   "cell_type": "code",
   "execution_count": 101,
   "metadata": {},
   "outputs": [
    {
     "name": "stdout",
     "output_type": "stream",
     "text": [
      "123,456,789\n",
      "-123,456,789 \n",
      "\n",
      "****123,456,789\n",
      "***-123,456,789\n"
     ]
    }
   ],
   "source": [
    "# 2) 정수\n",
    "#    (5) 쉼표 그룹화\n",
    "\n",
    "pos_int = 123456789\n",
    "neg_int = -123456789\n",
    "\n",
    "print('{:,}'.format(pos_int))\n",
    "print('{:,}'.format(neg_int),'\\n')\n",
    "\n",
    "print('{:*>15,}'.format(pos_int))\n",
    "print('{:*>15,}'.format(neg_int))"
   ]
  },
  {
   "cell_type": "code",
   "execution_count": 103,
   "metadata": {},
   "outputs": [
    {
     "name": "stdout",
     "output_type": "stream",
     "text": [
      "       3.14e+03\n",
      "*****3.1416e+03\n",
      "3.142e+03******\n",
      "\n",
      "       3141.593\n",
      "**3141.59265***\n",
      "+3141.5926536**\n"
     ]
    },
    {
     "data": {
      "text/plain": [
       "'       3141.593'"
      ]
     },
     "execution_count": 103,
     "metadata": {},
     "output_type": "execute_result"
    }
   ],
   "source": [
    "# 3) 실수 - 1\n",
    "import math\n",
    "real = 10**3 * math.pi\n",
    "print('{:15.2e}'.format(real))\n",
    "print('{:*>15.4e}'.format(real))\n",
    "print('{:*<15.3e}'.format(real))\n",
    "print()\n",
    "\n",
    "print('{:15.3f}'.format(real))\n",
    "print('{:*^15.5f}'.format(real))\n",
    "print('{:*<+15.7f}'.format(real))\n",
    "\n",
    "'{:15.3f}'.format(real)"
   ]
  },
  {
   "cell_type": "code",
   "execution_count": 12,
   "metadata": {},
   "outputs": [
    {
     "data": {
      "text/plain": [
       "'1234567890.12346'"
      ]
     },
     "execution_count": 12,
     "metadata": {},
     "output_type": "execute_result"
    },
    {
     "data": {
      "text/plain": [
       "'1,234,567,890.12346'"
      ]
     },
     "execution_count": 12,
     "metadata": {},
     "output_type": "execute_result"
    },
    {
     "data": {
      "text/plain": [
       "'1.23457e+9'"
      ]
     },
     "execution_count": 12,
     "metadata": {},
     "output_type": "execute_result"
    },
    {
     "data": {
      "text/plain": [
       "'1.2346E+9'"
      ]
     },
     "execution_count": 12,
     "metadata": {},
     "output_type": "execute_result"
    },
    {
     "data": {
      "text/plain": [
       "'1,234,567,890.123456789'"
      ]
     },
     "execution_count": 12,
     "metadata": {},
     "output_type": "execute_result"
    },
    {
     "data": {
      "text/plain": [
       "'1.23e+9'"
      ]
     },
     "execution_count": 12,
     "metadata": {},
     "output_type": "execute_result"
    }
   ],
   "source": [
    "# 3) 실수 - 2\n",
    "# decimal.decimal의 경우\n",
    "\n",
    "import decimal\n",
    "d = decimal.Decimal('1234567890.123456789')\n",
    "'{:.5f}'.format(d)\n",
    "'{:,.5f}'.format(d)\n",
    "'{:,.5e}'.format(d)\n",
    "'{:,.5}'.format(d)\n",
    "'{:,g}'.format(d)\n",
    "'{:.3g}'.format(d)"
   ]
  },
  {
   "cell_type": "code",
   "execution_count": 13,
   "metadata": {},
   "outputs": [
    {
     "data": {
      "text/plain": [
       "(12345.95743+897654.32j)"
      ]
     },
     "execution_count": 13,
     "metadata": {},
     "output_type": "execute_result"
    },
    {
     "data": {
      "text/plain": [
       "'12,345.96+897,654.32j'"
      ]
     },
     "execution_count": 13,
     "metadata": {},
     "output_type": "execute_result"
    },
    {
     "data": {
      "text/plain": [
       "'1.235e+04+8.977e+05j'"
      ]
     },
     "execution_count": 13,
     "metadata": {},
     "output_type": "execute_result"
    },
    {
     "data": {
      "text/plain": [
       "'12345.9574300000+897654.3199999999j'"
      ]
     },
     "execution_count": 13,
     "metadata": {},
     "output_type": "execute_result"
    }
   ],
   "source": [
    "complex_number = 12345.95743+8.9765432e5j\n",
    "complex_number\n",
    "\n",
    "'{:3,.2f}'.format(complex_number)\n",
    "'{:5,.3e}'.format(complex_number)\n",
    "'{:15.10f}'.format(complex_number)"
   ]
  },
  {
   "cell_type": "code",
   "execution_count": null,
   "metadata": {},
   "outputs": [],
   "source": []
  },
  {
   "cell_type": "code",
   "execution_count": null,
   "metadata": {},
   "outputs": [],
   "source": []
  },
  {
   "cell_type": "code",
   "execution_count": null,
   "metadata": {},
   "outputs": [],
   "source": []
  },
  {
   "cell_type": "code",
   "execution_count": null,
   "metadata": {},
   "outputs": [],
   "source": []
  }
 ],
 "metadata": {
  "kernelspec": {
   "display_name": "Python 3",
   "language": "python",
   "name": "python3"
  },
  "language_info": {
   "codemirror_mode": {
    "name": "ipython",
    "version": 3
   },
   "file_extension": ".py",
   "mimetype": "text/x-python",
   "name": "python",
   "nbconvert_exporter": "python",
   "pygments_lexer": "ipython3",
   "version": "3.6.5"
  }
 },
 "nbformat": 4,
 "nbformat_minor": 2
}
