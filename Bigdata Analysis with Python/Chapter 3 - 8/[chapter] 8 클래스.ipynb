{
 "cells": [
  {
   "cell_type": "code",
   "execution_count": 11,
   "metadata": {},
   "outputs": [],
   "source": [
    "from IPython.core.interactiveshell import InteractiveShell\n",
    "InteractiveShell.ast_node_interactivity = \"all\""
   ]
  },
  {
   "cell_type": "code",
   "execution_count": 16,
   "metadata": {},
   "outputs": [],
   "source": [
    "# 객체지향 프로그래밍 기초\n",
    "\n",
    "# 시간 당 7500원\n",
    "# 시급은 매달 마지막 주 금요일에 한달치 계산\n",
    "# 시급계산 결과를 유지하기 위해 전역변수 사용\n",
    "\n",
    "hour_rate = 7500 # 시급\n",
    "total_wage = 0 # 급여 (시급*근무시간)\n",
    "\n",
    "def albeit(hours):\n",
    "    global total_wage\n",
    "    daily_wage = hour_rate * hours\n",
    "    total_wage += daily_wage\n",
    "    return total_wage\n",
    "\n"
   ]
  },
  {
   "cell_type": "code",
   "execution_count": 18,
   "metadata": {},
   "outputs": [
    {
     "data": {
      "text/plain": [
       "60000"
      ]
     },
     "execution_count": 18,
     "metadata": {},
     "output_type": "execute_result"
    }
   ],
   "source": [
    "albeit(4)\n",
    "\n",
    "del(hour_rate)"
   ]
  },
  {
   "cell_type": "code",
   "execution_count": 12,
   "metadata": {},
   "outputs": [],
   "source": [
    "# 아르바이트  시급 계산기 클래스\n",
    "\n",
    "class Albeit:\n",
    "    hour_rate = 7500\n",
    "    def __init__(self):\n",
    "        self.total_wage = 0\n",
    "    def calculate_wage(self,hours):\n",
    "        daily_wage = Albeit.hour_rate * hours\n",
    "        self.total_wage += daily_wage\n",
    "        return self.total_wage"
   ]
  },
  {
   "cell_type": "code",
   "execution_count": 13,
   "metadata": {},
   "outputs": [
    {
     "data": {
      "text/plain": [
       "30000"
      ]
     },
     "execution_count": 13,
     "metadata": {},
     "output_type": "execute_result"
    },
    {
     "data": {
      "text/plain": [
       "52500"
      ]
     },
     "execution_count": 13,
     "metadata": {},
     "output_type": "execute_result"
    },
    {
     "data": {
      "text/plain": [
       "37500"
      ]
     },
     "execution_count": 13,
     "metadata": {},
     "output_type": "execute_result"
    },
    {
     "data": {
      "text/plain": [
       "75000"
      ]
     },
     "execution_count": 13,
     "metadata": {},
     "output_type": "execute_result"
    },
    {
     "data": {
      "text/plain": [
       "67500"
      ]
     },
     "execution_count": 13,
     "metadata": {},
     "output_type": "execute_result"
    }
   ],
   "source": [
    "albeit1 = Albeit()\n",
    "albeit2 = Albeit()\n",
    "\n",
    "albeit1.calculate_wage(4)\n",
    "albeit1.calculate_wage(3)\n",
    "albeit2.calculate_wage(5)\n",
    "albeit1.calculate_wage(3)\n",
    "albeit2.calculate_wage(4)"
   ]
  },
  {
   "cell_type": "code",
   "execution_count": 21,
   "metadata": {},
   "outputs": [
    {
     "ename": "NameError",
     "evalue": "name 'hour_rate' is not defined",
     "output_type": "error",
     "traceback": [
      "\u001b[0;31m---------------------------------------------------------------------------\u001b[0m",
      "\u001b[0;31mNameError\u001b[0m                                 Traceback (most recent call last)",
      "\u001b[0;32m<ipython-input-21-2fa9a1c19552>\u001b[0m in \u001b[0;36m<module>\u001b[0;34m()\u001b[0m\n\u001b[1;32m     11\u001b[0m \u001b[0;34m\u001b[0m\u001b[0m\n\u001b[1;32m     12\u001b[0m \u001b[0malbiet\u001b[0m\u001b[0;34m=\u001b[0m\u001b[0mAlbeit\u001b[0m\u001b[0;34m(\u001b[0m\u001b[0;34m)\u001b[0m\u001b[0;34m\u001b[0m\u001b[0m\n\u001b[0;32m---> 13\u001b[0;31m \u001b[0malbiet\u001b[0m\u001b[0;34m.\u001b[0m\u001b[0mcalculate_wage\u001b[0m\u001b[0;34m(\u001b[0m\u001b[0;36m5\u001b[0m\u001b[0;34m)\u001b[0m\u001b[0;34m\u001b[0m\u001b[0m\n\u001b[0m",
      "\u001b[0;32m<ipython-input-21-2fa9a1c19552>\u001b[0m in \u001b[0;36mcalculate_wage\u001b[0;34m(self, hours)\u001b[0m\n\u001b[1;32m      6\u001b[0m         \u001b[0mself\u001b[0m\u001b[0;34m.\u001b[0m\u001b[0mtotal_wage\u001b[0m \u001b[0;34m=\u001b[0m \u001b[0;36m0\u001b[0m\u001b[0;34m\u001b[0m\u001b[0m\n\u001b[1;32m      7\u001b[0m     \u001b[0;32mdef\u001b[0m \u001b[0mcalculate_wage\u001b[0m\u001b[0;34m(\u001b[0m\u001b[0mself\u001b[0m\u001b[0;34m,\u001b[0m\u001b[0mhours\u001b[0m\u001b[0;34m)\u001b[0m\u001b[0;34m:\u001b[0m\u001b[0;34m\u001b[0m\u001b[0m\n\u001b[0;32m----> 8\u001b[0;31m         \u001b[0mdaily_wage\u001b[0m \u001b[0;34m=\u001b[0m \u001b[0mhour_rate\u001b[0m \u001b[0;34m*\u001b[0m \u001b[0mhours\u001b[0m\u001b[0;34m\u001b[0m\u001b[0m\n\u001b[0m\u001b[1;32m      9\u001b[0m         \u001b[0mself\u001b[0m\u001b[0;34m.\u001b[0m\u001b[0mtotal_wage\u001b[0m \u001b[0;34m+=\u001b[0m \u001b[0mdaily_wage\u001b[0m\u001b[0;34m\u001b[0m\u001b[0m\n\u001b[1;32m     10\u001b[0m         \u001b[0;32mreturn\u001b[0m \u001b[0mself\u001b[0m\u001b[0;34m.\u001b[0m\u001b[0mtotal_wage\u001b[0m\u001b[0;34m\u001b[0m\u001b[0m\n",
      "\u001b[0;31mNameError\u001b[0m: name 'hour_rate' is not defined"
     ]
    }
   ],
   "source": [
    "# 아르바이트  시급 계산기 클래스\n",
    "\n",
    "class Albeit:\n",
    "    hour_rate = 7500\n",
    "    def __init__(self):\n",
    "        self.total_wage = 0\n",
    "    def calculate_wage(self,hours):\n",
    "        daily_wage = hour_rate * hours\n",
    "        self.total_wage += daily_wage\n",
    "        return self.total_wage\n",
    "    \n",
    "albiet=Albeit()\n",
    "albiet.calculate_wage(5)"
   ]
  },
  {
   "cell_type": "code",
   "execution_count": null,
   "metadata": {},
   "outputs": [],
   "source": [
    "class MyClass:\n",
    "\n",
    "class MyClass():\n",
    "    \n",
    "class MyClass(object): # 부모 클래스를 상속받겠다."
   ]
  },
  {
   "cell_type": "code",
   "execution_count": 6,
   "metadata": {},
   "outputs": [],
   "source": [
    "class PartTimer:\n",
    "    hour_rate = 7500\n",
    "    nickname = None\n"
   ]
  },
  {
   "cell_type": "code",
   "execution_count": 25,
   "metadata": {},
   "outputs": [
    {
     "data": {
      "text/plain": [
       "7500"
      ]
     },
     "execution_count": 25,
     "metadata": {},
     "output_type": "execute_result"
    },
    {
     "data": {
      "text/plain": [
       "7000"
      ]
     },
     "execution_count": 25,
     "metadata": {},
     "output_type": "execute_result"
    },
    {
     "data": {
      "text/plain": [
       "'프로도'"
      ]
     },
     "execution_count": 25,
     "metadata": {},
     "output_type": "execute_result"
    }
   ],
   "source": [
    "# 인스턴스에서 속성에 접근하기\n",
    "kim = PartTimer()\n",
    "kim.hour_rate\n",
    "\n",
    "# 인스턴스에서 속성 값 수정하기\n",
    "lee = PartTimer()\n",
    "lee.hour_rate = 7000\n",
    "lee.hour_rate\n",
    "\n",
    "lee.nickname = '프로도'\n",
    "lee.nickname\n",
    "\n",
    "# print(lee) error"
   ]
  },
  {
   "cell_type": "code",
   "execution_count": 27,
   "metadata": {},
   "outputs": [],
   "source": [
    "# 클래스 메소드\n",
    "\n",
    "class PartTimer:\n",
    "    '''A Simple Class'''\n",
    "    hour_rate = 7500\n",
    "    nickname = None\n",
    "    def setnickname(self,name):\n",
    "        self.nickname = name\n",
    "        \n",
    "    def 넌누구니(self):\n",
    "        return '저는 알바생입니다.'"
   ]
  },
  {
   "cell_type": "code",
   "execution_count": 28,
   "metadata": {},
   "outputs": [
    {
     "data": {
      "text/plain": [
       "'A Simple Class'"
      ]
     },
     "execution_count": 28,
     "metadata": {},
     "output_type": "execute_result"
    }
   ],
   "source": [
    "PartTimer.__doc__"
   ]
  },
  {
   "cell_type": "code",
   "execution_count": 29,
   "metadata": {},
   "outputs": [
    {
     "name": "stdout",
     "output_type": "stream",
     "text": [
      "Help on class PartTimer in module __main__:\n",
      "\n",
      "class PartTimer(builtins.object)\n",
      " |  A Simple Class\n",
      " |  \n",
      " |  Methods defined here:\n",
      " |  \n",
      " |  setnickname(self, name)\n",
      " |  \n",
      " |  넌누구니(self)\n",
      " |  \n",
      " |  ----------------------------------------------------------------------\n",
      " |  Data descriptors defined here:\n",
      " |  \n",
      " |  __dict__\n",
      " |      dictionary for instance variables (if defined)\n",
      " |  \n",
      " |  __weakref__\n",
      " |      list of weak references to the object (if defined)\n",
      " |  \n",
      " |  ----------------------------------------------------------------------\n",
      " |  Data and other attributes defined here:\n",
      " |  \n",
      " |  hour_rate = 7500\n",
      " |  \n",
      " |  nickname = None\n",
      "\n"
     ]
    }
   ],
   "source": [
    "help(PartTimer)"
   ]
  },
  {
   "cell_type": "code",
   "execution_count": 31,
   "metadata": {},
   "outputs": [
    {
     "data": {
      "text/plain": [
       "7500"
      ]
     },
     "execution_count": 31,
     "metadata": {},
     "output_type": "execute_result"
    }
   ],
   "source": [
    "PartTimer.nickname = '네오'\n",
    "PartTimer.hour_rate"
   ]
  },
  {
   "cell_type": "code",
   "execution_count": 32,
   "metadata": {},
   "outputs": [
    {
     "data": {
      "text/plain": [
       "'113동'"
      ]
     },
     "execution_count": 32,
     "metadata": {},
     "output_type": "execute_result"
    }
   ],
   "source": [
    "x = PartTimer()\n",
    "\n",
    "PartTimer.workplace = '113동'\n",
    "x.workplace"
   ]
  },
  {
   "cell_type": "code",
   "execution_count": 33,
   "metadata": {},
   "outputs": [
    {
     "data": {
      "text/plain": [
       "'경영정보'"
      ]
     },
     "execution_count": 33,
     "metadata": {},
     "output_type": "execute_result"
    },
    {
     "ename": "AttributeError",
     "evalue": "type object 'PartTimer' has no attribute 'major'",
     "output_type": "error",
     "traceback": [
      "\u001b[0;31m---------------------------------------------------------------------------\u001b[0m",
      "\u001b[0;31mAttributeError\u001b[0m                            Traceback (most recent call last)",
      "\u001b[0;32m<ipython-input-33-4e4caa7f90bd>\u001b[0m in \u001b[0;36m<module>\u001b[0;34m()\u001b[0m\n\u001b[1;32m      1\u001b[0m \u001b[0mx\u001b[0m\u001b[0;34m.\u001b[0m\u001b[0mmajor\u001b[0m \u001b[0;34m=\u001b[0m \u001b[0;34m'경영정보'\u001b[0m\u001b[0;34m\u001b[0m\u001b[0m\n\u001b[1;32m      2\u001b[0m \u001b[0mx\u001b[0m\u001b[0;34m.\u001b[0m\u001b[0mmajor\u001b[0m\u001b[0;34m\u001b[0m\u001b[0m\n\u001b[0;32m----> 3\u001b[0;31m \u001b[0mPartTimer\u001b[0m\u001b[0;34m.\u001b[0m\u001b[0mmajor\u001b[0m\u001b[0;34m\u001b[0m\u001b[0m\n\u001b[0m",
      "\u001b[0;31mAttributeError\u001b[0m: type object 'PartTimer' has no attribute 'major'"
     ]
    }
   ],
   "source": [
    "x.major = '경영정보'\n",
    "x.major\n",
    "PartTimer.major #영향을 받지 않음"
   ]
  },
  {
   "cell_type": "code",
   "execution_count": 34,
   "metadata": {},
   "outputs": [],
   "source": [
    "# 클래스 메소드\n",
    "\n",
    "class PartTimer:\n",
    "    '''A Simple Class'''\n",
    "    hour_rate = 7500\n",
    "    nickname = None\n",
    "    def setnickname(self,name):\n",
    "        self.nickname = name\n",
    "    def getnickname(self,name):\n",
    "        return '저의 닉네임은 {}입니다.'.format(self.nickname)"
   ]
  },
  {
   "cell_type": "code",
   "execution_count": 41,
   "metadata": {},
   "outputs": [],
   "source": [
    "## 초기화 매소드\n",
    "\n",
    "class PartTimer:\n",
    "    hour_rate = 7500\n",
    "\n",
    "    def __init__(self,name):\n",
    "        self.nickname = name\n",
    "    def getnickname(self):\n",
    "        return '저의 닉네임은 {}입니다.'.format(self.nickname)"
   ]
  },
  {
   "cell_type": "code",
   "execution_count": 43,
   "metadata": {},
   "outputs": [
    {
     "ename": "TypeError",
     "evalue": "__init__() missing 1 required positional argument: 'name'",
     "output_type": "error",
     "traceback": [
      "\u001b[0;31m---------------------------------------------------------------------------\u001b[0m",
      "\u001b[0;31mTypeError\u001b[0m                                 Traceback (most recent call last)",
      "\u001b[0;32m<ipython-input-43-2a276e540fdb>\u001b[0m in \u001b[0;36m<module>\u001b[0;34m()\u001b[0m\n\u001b[0;32m----> 1\u001b[0;31m \u001b[0mkim\u001b[0m \u001b[0;34m=\u001b[0m \u001b[0mPartTimer\u001b[0m\u001b[0;34m(\u001b[0m\u001b[0;34m)\u001b[0m\u001b[0;34m\u001b[0m\u001b[0m\n\u001b[0m",
      "\u001b[0;31mTypeError\u001b[0m: __init__() missing 1 required positional argument: 'name'"
     ]
    }
   ],
   "source": [
    "kim = PartTimer()"
   ]
  },
  {
   "cell_type": "code",
   "execution_count": 42,
   "metadata": {},
   "outputs": [
    {
     "data": {
      "text/plain": [
       "'저의 닉네임은 제이지입니다.'"
      ]
     },
     "execution_count": 42,
     "metadata": {},
     "output_type": "execute_result"
    }
   ],
   "source": [
    "kim = PartTimer('제이지')\n",
    "kim.getnickname()"
   ]
  },
  {
   "cell_type": "code",
   "execution_count": null,
   "metadata": {},
   "outputs": [],
   "source": [
    "# 사용자 정의 클래스\n",
    "class Person:\n",
    "    pass\n",
    "p = Person()\n",
    "x = None\n",
    "\n",
    "L = [False,-5,0,1.0,'블루베리',[1],(1,),{1},{'1':2},p,x]\n",
    "for"
   ]
  },
  {
   "cell_type": "code",
   "execution_count": null,
   "metadata": {},
   "outputs": [],
   "source": []
  }
 ],
 "metadata": {
  "kernelspec": {
   "display_name": "Python 3",
   "language": "python",
   "name": "python3"
  },
  "language_info": {
   "codemirror_mode": {
    "name": "ipython",
    "version": 3
   },
   "file_extension": ".py",
   "mimetype": "text/x-python",
   "name": "python",
   "nbconvert_exporter": "python",
   "pygments_lexer": "ipython3",
   "version": "3.6.5"
  }
 },
 "nbformat": 4,
 "nbformat_minor": 2
}
