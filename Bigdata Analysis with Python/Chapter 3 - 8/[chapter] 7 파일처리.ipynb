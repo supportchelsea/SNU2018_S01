{
 "cells": [
  {
   "cell_type": "markdown",
   "metadata": {},
   "source": [
    "파일 열기 \n",
    "파일 처리\n",
    "파일 닫기"
   ]
  },
  {
   "cell_type": "code",
   "execution_count": 3,
   "metadata": {},
   "outputs": [],
   "source": [
    "from IPython.core.interactiveshell import InteractiveShell\n",
    "InteractiveShell.ast_node_interactivity = \"all\""
   ]
  },
  {
   "cell_type": "code",
   "execution_count": 23,
   "metadata": {},
   "outputs": [
    {
     "data": {
      "text/plain": [
       "21"
      ]
     },
     "execution_count": 23,
     "metadata": {},
     "output_type": "execute_result"
    },
    {
     "data": {
      "text/plain": [
       "18"
      ]
     },
     "execution_count": 23,
     "metadata": {},
     "output_type": "execute_result"
    },
    {
     "data": {
      "text/plain": [
       "<function TextIOWrapper.close()>"
      ]
     },
     "execution_count": 23,
     "metadata": {},
     "output_type": "execute_result"
    },
    {
     "data": {
      "text/plain": [
       "<_io.TextIOWrapper name='song.txt' mode='w' encoding='utf-8'>"
      ]
     },
     "execution_count": 23,
     "metadata": {},
     "output_type": "execute_result"
    }
   ],
   "source": [
    "#파일 쓰기\n",
    "\n",
    "file = open('song.txt',mode = 'w',encoding= 'utf-8')\n",
    "file.write('======= 고향의 봄 =======')\n",
    "file.write('나의 살-던 고향은 꽃피는-산골-')\n",
    "file.close\n",
    "file"
   ]
  },
  {
   "cell_type": "code",
   "execution_count": 1,
   "metadata": {},
   "outputs": [
    {
     "data": {
      "text/plain": [
       "'/Users/baejiwon/SNU/파이썬을 이용한 빅데이터 분석 개론 (박진수교수님)/jupyter'"
      ]
     },
     "execution_count": 1,
     "metadata": {},
     "output_type": "execute_result"
    }
   ],
   "source": [
    "import os\n",
    "os.getcwd() #현재 작업 디렉토리를 반환"
   ]
  },
  {
   "cell_type": "code",
   "execution_count": 14,
   "metadata": {},
   "outputs": [
    {
     "data": {
      "text/plain": [
       "'song.txt'"
      ]
     },
     "execution_count": 14,
     "metadata": {},
     "output_type": "execute_result"
    },
    {
     "data": {
      "text/plain": [
       "'r'"
      ]
     },
     "execution_count": 14,
     "metadata": {},
     "output_type": "execute_result"
    },
    {
     "data": {
      "text/plain": [
       "False"
      ]
     },
     "execution_count": 14,
     "metadata": {},
     "output_type": "execute_result"
    }
   ],
   "source": [
    "file = open('song.txt')\n",
    "file.name\n",
    "file.mode\n",
    "file.closed"
   ]
  },
  {
   "cell_type": "code",
   "execution_count": 21,
   "metadata": {},
   "outputs": [
    {
     "data": {
      "text/plain": [
       "'======= 고향의 봄 =======나의 살-던 고향은 꽃피는-산골-'"
      ]
     },
     "execution_count": 21,
     "metadata": {},
     "output_type": "execute_result"
    },
    {
     "data": {
      "text/plain": [
       "<_io.TextIOWrapper name='song.txt' mode='r' encoding='utf-8'>"
      ]
     },
     "execution_count": 21,
     "metadata": {},
     "output_type": "execute_result"
    },
    {
     "ename": "FileNotFoundError",
     "evalue": "[Errno 2] No such file or directory: '/user/readme.txt'",
     "output_type": "error",
     "traceback": [
      "\u001b[0;31m---------------------------------------------------------------------------\u001b[0m",
      "\u001b[0;31mFileNotFoundError\u001b[0m                         Traceback (most recent call last)",
      "\u001b[0;32m<ipython-input-21-59dfa3719f5d>\u001b[0m in \u001b[0;36m<module>\u001b[0;34m()\u001b[0m\n\u001b[1;32m      3\u001b[0m \u001b[0mfile\u001b[0m\u001b[0;34m\u001b[0m\u001b[0m\n\u001b[1;32m      4\u001b[0m \u001b[0;34m\u001b[0m\u001b[0m\n\u001b[0;32m----> 5\u001b[0;31m \u001b[0mfile2\u001b[0m\u001b[0;34m=\u001b[0m \u001b[0mopen\u001b[0m\u001b[0;34m(\u001b[0m\u001b[0;34m'/user/readme.txt'\u001b[0m\u001b[0;34m)\u001b[0m\u001b[0;34m\u001b[0m\u001b[0m\n\u001b[0m",
      "\u001b[0;31mFileNotFoundError\u001b[0m: [Errno 2] No such file or directory: '/user/readme.txt'"
     ]
    }
   ],
   "source": [
    "file = open('song.txt',mode = 'r',encoding= 'utf-8')\n",
    "file.read() #연결되어 있음, 있는 그대로이기 때문에\n",
    "file\n",
    "\n",
    "file2= open('/user/readme.txt')\n"
   ]
  },
  {
   "cell_type": "code",
   "execution_count": 24,
   "metadata": {},
   "outputs": [
    {
     "data": {
      "text/plain": [
       "23"
      ]
     },
     "execution_count": 24,
     "metadata": {},
     "output_type": "execute_result"
    },
    {
     "data": {
      "text/plain": [
       "19"
      ]
     },
     "execution_count": 24,
     "metadata": {},
     "output_type": "execute_result"
    },
    {
     "data": {
      "text/plain": [
       "20"
      ]
     },
     "execution_count": 24,
     "metadata": {},
     "output_type": "execute_result"
    },
    {
     "data": {
      "text/plain": [
       "19"
      ]
     },
     "execution_count": 24,
     "metadata": {},
     "output_type": "execute_result"
    },
    {
     "data": {
      "text/plain": [
       "19"
      ]
     },
     "execution_count": 24,
     "metadata": {},
     "output_type": "execute_result"
    },
    {
     "name": "stdout",
     "output_type": "stream",
     "text": [
      "======= 고향의 봄 =======\n",
      "\n",
      "나의 살-던 고향은 꽃피는-산골-\n",
      "복숭아-꽃 살-구꽃 아-기 진-달래\n",
      "울긋불-긋 꽃 대궐 차리인-동네-\n",
      "그 속에서 놀던 떄가 그립습니다-\n",
      "\n"
     ]
    }
   ],
   "source": [
    "file = open('고향의 봄.txt',mode = 'w',encoding= 'utf-8')\n",
    "file.write('======= 고향의 봄 =======\\n\\n')\n",
    "file.write('나의 살-던 고향은 꽃피는-산골-\\n')\n",
    "file.write('복숭아-꽃 살-구꽃 아-기 진-달래\\n')\n",
    "file.write('울긋불-긋 꽃 대궐 차리인-동네-\\n')\n",
    "file.write('그 속에서 놀던 떄가 그립습니다-\\n')\n",
    "file.close()\n",
    "file = open('고향의 봄.txt',mode='r',encoding='utf-8')\n",
    "print(file.read())"
   ]
  },
  {
   "cell_type": "code",
   "execution_count": 25,
   "metadata": {},
   "outputs": [
    {
     "data": {
      "text/plain": [
       "20"
      ]
     },
     "execution_count": 25,
     "metadata": {},
     "output_type": "execute_result"
    },
    {
     "data": {
      "text/plain": [
       "38"
      ]
     },
     "execution_count": 25,
     "metadata": {},
     "output_type": "execute_result"
    },
    {
     "data": {
      "text/plain": [
       "18"
      ]
     },
     "execution_count": 25,
     "metadata": {},
     "output_type": "execute_result"
    },
    {
     "name": "stdout",
     "output_type": "stream",
     "text": [
      "======= 고향의 봄 =======\n",
      "\n",
      "나의 살-던 고향은 꽃피는-산골-\n",
      "복숭아-꽃 살-구꽃 아-기 진-달래\n",
      "울긋불-긋 꽃 대궐 차리인-동네-\n",
      "그 속에서 놀던 떄가 그립습니다-\n",
      "\n",
      "꽃-동-네 새 동네 나의 옛-고향\n",
      "파-란-들 남쪽에서 바-람이-불면-\n",
      "냇-가에 수양버들 춤추는-동네-\n",
      "그 속에서 놀던 때가 그립습니다-\n"
     ]
    }
   ],
   "source": [
    "file = file = open('고향의 봄.txt',mode = 'a',encoding= 'utf-8')\n",
    "file.write('\\n꽃-동-네 새 동네 나의 옛-고향\\n')\n",
    "file.write('파-란-들 남쪽에서 바-람이-불면-\\n냇-가에 수양버들 춤추는-동네-\\n')\n",
    "file.write('그 속에서 놀던 때가 그립습니다-')\n",
    "file.close()\n",
    "file = open('고향의 봄.txt',mode='r',encoding='utf-8')\n",
    "print(file.read())"
   ]
  },
  {
   "cell_type": "code",
   "execution_count": 6,
   "metadata": {},
   "outputs": [
    {
     "data": {
      "text/plain": [
       "3"
      ]
     },
     "execution_count": 6,
     "metadata": {},
     "output_type": "execute_result"
    },
    {
     "data": {
      "text/plain": [
       "3"
      ]
     },
     "execution_count": 6,
     "metadata": {},
     "output_type": "execute_result"
    },
    {
     "data": {
      "text/plain": [
       "3"
      ]
     },
     "execution_count": 6,
     "metadata": {},
     "output_type": "execute_result"
    },
    {
     "data": {
      "text/plain": [
       "4"
      ]
     },
     "execution_count": 6,
     "metadata": {},
     "output_type": "execute_result"
    },
    {
     "data": {
      "text/plain": [
       "3"
      ]
     },
     "execution_count": 6,
     "metadata": {},
     "output_type": "execute_result"
    },
    {
     "data": {
      "text/plain": [
       "3"
      ]
     },
     "execution_count": 6,
     "metadata": {},
     "output_type": "execute_result"
    },
    {
     "name": "stdout",
     "output_type": "stream",
     "text": [
      "to\n",
      "be\n",
      "or\n",
      "not\n",
      "to\n",
      "be\n",
      "\n"
     ]
    }
   ],
   "source": [
    "# 리스트의 항목을 파일로 쓰기 : 새줄바꿈\n",
    "\n",
    "alist = ['to','be','or','not','to','be']\n",
    "file = open('data/list_newline.txt',mode= 'w',encoding='utf-8')\n",
    "\n",
    "for word in alist:\n",
    "    file.write(word+'\\n')\n",
    "\n",
    "file.close()\n",
    "\n",
    "file = open('data/list_newline.txt',mode= 'r',encoding='utf-8')\n",
    "print(file.read())\n"
   ]
  },
  {
   "cell_type": "code",
   "execution_count": 5,
   "metadata": {},
   "outputs": [
    {
     "data": {
      "text/plain": [
       "3"
      ]
     },
     "execution_count": 5,
     "metadata": {},
     "output_type": "execute_result"
    },
    {
     "data": {
      "text/plain": [
       "3"
      ]
     },
     "execution_count": 5,
     "metadata": {},
     "output_type": "execute_result"
    },
    {
     "data": {
      "text/plain": [
       "3"
      ]
     },
     "execution_count": 5,
     "metadata": {},
     "output_type": "execute_result"
    },
    {
     "data": {
      "text/plain": [
       "4"
      ]
     },
     "execution_count": 5,
     "metadata": {},
     "output_type": "execute_result"
    },
    {
     "data": {
      "text/plain": [
       "3"
      ]
     },
     "execution_count": 5,
     "metadata": {},
     "output_type": "execute_result"
    },
    {
     "data": {
      "text/plain": [
       "3"
      ]
     },
     "execution_count": 5,
     "metadata": {},
     "output_type": "execute_result"
    },
    {
     "name": "stdout",
     "output_type": "stream",
     "text": [
      "to be or not to be \n"
     ]
    }
   ],
   "source": [
    "# 리스트의 항목을 파일로 쓰기 : 빈칸\n",
    "alist = ['to','be','or','not','to','be']\n",
    "file = open('data/list_space.txt',mode= 'w',encoding='utf-8')\n",
    "for word in alist:\n",
    "    file.write(word+' ')\n",
    "file.close()\n",
    "\n",
    "file = open('data/list_newline.txt',mode= 'r',encoding='utf-8')\n",
    "print(file.read())"
   ]
  },
  {
   "cell_type": "code",
   "execution_count": 15,
   "metadata": {},
   "outputs": [
    {
     "data": {
      "text/plain": [
       "2"
      ]
     },
     "execution_count": 15,
     "metadata": {},
     "output_type": "execute_result"
    },
    {
     "data": {
      "text/plain": [
       "4"
      ]
     },
     "execution_count": 15,
     "metadata": {},
     "output_type": "execute_result"
    },
    {
     "data": {
      "text/plain": [
       "3"
      ]
     },
     "execution_count": 15,
     "metadata": {},
     "output_type": "execute_result"
    },
    {
     "data": {
      "text/plain": [
       "5"
      ]
     },
     "execution_count": 15,
     "metadata": {},
     "output_type": "execute_result"
    },
    {
     "data": {
      "text/plain": [
       "2"
      ]
     },
     "execution_count": 15,
     "metadata": {},
     "output_type": "execute_result"
    },
    {
     "name": "stdout",
     "output_type": "stream",
     "text": [
      "2\n",
      "3.1\n",
      "-7\n",
      "-1.4\n",
      "5\n",
      "\n"
     ]
    }
   ],
   "source": [
    "# 숫자를 파일로 쓰기\n",
    "alist = [2,3.1,-7,-1.4,5]\n",
    "file = open('data/numbers.txt',mode='w',encoding='utf-8')\n",
    "\n",
    "for number in alist:\n",
    "    file.write(str(number)+'\\n')\n",
    "file.close()\n",
    "\n",
    "file = open('data/numbers.txt',mode='r',encoding='utf-8')\n",
    "print(file.read())"
   ]
  },
  {
   "cell_type": "code",
   "execution_count": 10,
   "metadata": {},
   "outputs": [
    {
     "ename": "TypeError",
     "evalue": "unsupported operand type(s) for +: 'int' and 'str'",
     "output_type": "error",
     "traceback": [
      "\u001b[0;31m---------------------------------------------------------------------------\u001b[0m",
      "\u001b[0;31mTypeError\u001b[0m                                 Traceback (most recent call last)",
      "\u001b[0;32m<ipython-input-10-8dd3bd45cd65>\u001b[0m in \u001b[0;36m<module>\u001b[0;34m()\u001b[0m\n\u001b[1;32m      4\u001b[0m \u001b[0;34m\u001b[0m\u001b[0m\n\u001b[1;32m      5\u001b[0m \u001b[0;32mfor\u001b[0m \u001b[0mnumber\u001b[0m \u001b[0;32min\u001b[0m \u001b[0malist\u001b[0m\u001b[0;34m:\u001b[0m\u001b[0;34m\u001b[0m\u001b[0m\n\u001b[0;32m----> 6\u001b[0;31m     \u001b[0mfile\u001b[0m\u001b[0;34m.\u001b[0m\u001b[0mwrite\u001b[0m\u001b[0;34m(\u001b[0m\u001b[0mnumber\u001b[0m\u001b[0;34m+\u001b[0m\u001b[0;34m'\\n'\u001b[0m\u001b[0;34m)\u001b[0m\u001b[0;34m\u001b[0m\u001b[0m\n\u001b[0m\u001b[1;32m      7\u001b[0m \u001b[0mfile\u001b[0m\u001b[0;34m.\u001b[0m\u001b[0mclose\u001b[0m\u001b[0;34m(\u001b[0m\u001b[0;34m)\u001b[0m\u001b[0;34m\u001b[0m\u001b[0m\n\u001b[1;32m      8\u001b[0m \u001b[0;34m\u001b[0m\u001b[0m\n",
      "\u001b[0;31mTypeError\u001b[0m: unsupported operand type(s) for +: 'int' and 'str'"
     ]
    }
   ],
   "source": [
    "# 숫자를 파일로 쓰기\n",
    "alist = [2,3.1,-7,-1.4,5]\n",
    "file = open('data/numbers.txt',mode='w',encoding='utf-8')\n",
    "\n",
    "for number in alist:\n",
    "    file.write(number+'\\n')\n",
    "file.close()\n",
    "\n",
    "file = open('data/numbers.txt',mode='r',encoding='utf-8')\n",
    "print(file.read())"
   ]
  },
  {
   "cell_type": "code",
   "execution_count": 16,
   "metadata": {},
   "outputs": [
    {
     "data": {
      "text/plain": [
       "2"
      ]
     },
     "execution_count": 16,
     "metadata": {},
     "output_type": "execute_result"
    },
    {
     "data": {
      "text/plain": [
       "2"
      ]
     },
     "execution_count": 16,
     "metadata": {},
     "output_type": "execute_result"
    },
    {
     "data": {
      "text/plain": [
       "2"
      ]
     },
     "execution_count": 16,
     "metadata": {},
     "output_type": "execute_result"
    },
    {
     "data": {
      "text/plain": [
       "2"
      ]
     },
     "execution_count": 16,
     "metadata": {},
     "output_type": "execute_result"
    },
    {
     "data": {
      "text/plain": [
       "2"
      ]
     },
     "execution_count": 16,
     "metadata": {},
     "output_type": "execute_result"
    },
    {
     "name": "stdout",
     "output_type": "stream",
     "text": [
      "2\n",
      "3.1\n",
      "-7\n",
      "-1.4\n",
      "5\n",
      "a\n",
      "b\n",
      "ㄱ\n",
      "ㄴ\n",
      "다\n",
      "\n"
     ]
    }
   ],
   "source": [
    "#파일 추가 모드\n",
    "alist= ['a','b','ㄱ','ㄴ','다']\n",
    "file = open('data/numbers.txt',mode='a',encoding='utf-8')\n",
    "\n",
    "for item in alist:\n",
    "    file.write(item+'\\n')\n",
    "file.close()\n",
    "\n",
    "file = open('data/numbers.txt',mode='r',encoding='utf-8')\n",
    "print(file.read())"
   ]
  },
  {
   "cell_type": "code",
   "execution_count": 17,
   "metadata": {},
   "outputs": [
    {
     "data": {
      "text/plain": [
       "<_io.TextIOWrapper name='고향의 봄.txt' mode='r' encoding='utf-8'>"
      ]
     },
     "execution_count": 17,
     "metadata": {},
     "output_type": "execute_result"
    },
    {
     "name": "stdout",
     "output_type": "stream",
     "text": [
      "<_io.TextIOWrapper name='고향의 봄.txt' mode='r' encoding='utf-8'>\n"
     ]
    }
   ],
   "source": [
    "# 파일 읽기 메소드 : 읽기모드로 파일 열기\n",
    "file = open('고향의 봄.txt',mode='r',encoding='utf-8')\n",
    "\n",
    "file\n",
    "print(file)\n",
    "\n",
    "file.close()"
   ]
  },
  {
   "cell_type": "code",
   "execution_count": 18,
   "metadata": {},
   "outputs": [
    {
     "data": {
      "text/plain": [
       "str"
      ]
     },
     "execution_count": 18,
     "metadata": {},
     "output_type": "execute_result"
    },
    {
     "data": {
      "text/plain": [
       "'======= 고향의 봄 =======\\n\\n나의 살-던 고향은 꽃피는-산골-\\n복숭아-꽃 살-구꽃 아-기 진-달래\\n울긋불-긋 꽃 대궐 차리인-동네-\\n그 속에서 놀던 떄가 그립습니다-\\n\\n꽃-동-네 새 동네 나의 옛-고향\\n파-란-들 남쪽에서 바-람이-불면-\\n냇-가에 수양버들 춤추는-동네-\\n그 속에서 놀던 때가 그립습니다-'"
      ]
     },
     "execution_count": 18,
     "metadata": {},
     "output_type": "execute_result"
    },
    {
     "name": "stdout",
     "output_type": "stream",
     "text": [
      "======= 고향의 봄 =======\n",
      "\n",
      "나의 살-던 고향은 꽃피는-산골-\n",
      "복숭아-꽃 살-구꽃 아-기 진-달래\n",
      "울긋불-긋 꽃 대궐 차리인-동네-\n",
      "그 속에서 놀던 떄가 그립습니다-\n",
      "\n",
      "꽃-동-네 새 동네 나의 옛-고향\n",
      "파-란-들 남쪽에서 바-람이-불면-\n",
      "냇-가에 수양버들 춤추는-동네-\n",
      "그 속에서 놀던 때가 그립습니다-\n"
     ]
    }
   ],
   "source": [
    "# read() 함수\n",
    "file =  open('고향의 봄.txt',mode='r',encoding='utf-8')\n",
    "data = file.read()\n",
    "file.close()\n",
    "\n",
    "type(data)\n",
    "data\n",
    "print(data)"
   ]
  },
  {
   "cell_type": "code",
   "execution_count": 19,
   "metadata": {},
   "outputs": [
    {
     "data": {
      "text/plain": [
       "str"
      ]
     },
     "execution_count": 19,
     "metadata": {},
     "output_type": "execute_result"
    },
    {
     "data": {
      "text/plain": [
       "'======= 고향의 봄 =======\\n'"
      ]
     },
     "execution_count": 19,
     "metadata": {},
     "output_type": "execute_result"
    },
    {
     "name": "stdout",
     "output_type": "stream",
     "text": [
      "======= 고향의 봄 =======\n",
      "\n"
     ]
    }
   ],
   "source": [
    "# readline 함수\n",
    "file =  open('고향의 봄.txt',mode='r',encoding='utf-8')\n",
    "data = file.readline()\n",
    "file.close()\n",
    "\n",
    "type(data)\n",
    "data\n",
    "print(data)"
   ]
  },
  {
   "cell_type": "code",
   "execution_count": 21,
   "metadata": {},
   "outputs": [
    {
     "name": "stdout",
     "output_type": "stream",
     "text": [
      "======= 고향의 봄 =======\n",
      "\n",
      "나의 살-던 고향은 꽃피는-산골-\n",
      "복숭아-꽃 살-구꽃 아-기 진-달래\n",
      "울긋불-긋 꽃 대궐 차리인-동네-\n",
      "그 속에서 놀던 떄가 그립습니다-\n",
      "\n",
      "꽃-동-네 새 동네 나의 옛-고향\n",
      "파-란-들 남쪽에서 바-람이-불면-\n",
      "냇-가에 수양버들 춤추는-동네-\n",
      "그 속에서 놀던 때가 그립습니다-"
     ]
    }
   ],
   "source": [
    "# while문으로 파일 전체 읽기\n",
    "file =  open('고향의 봄.txt',mode='r',encoding='utf-8')\n",
    "while True:\n",
    "    line = file.readline()\n",
    "    if not line:\n",
    "        break\n",
    "    print(line,end='')"
   ]
  },
  {
   "cell_type": "code",
   "execution_count": 25,
   "metadata": {},
   "outputs": [
    {
     "name": "stdout",
     "output_type": "stream",
     "text": [
      "======= 고향의 봄 =======\n",
      "\n",
      "나의 살-던 고향은 꽃피는-산골-\n",
      "복숭아-꽃 살-구꽃 아-기 진-달래\n",
      "울긋불-긋 꽃 대궐 차리인-동네-\n",
      "그 속에서 놀던 떄가 그립습니다-\n",
      "\n",
      "꽃-동-네 새 동네 나의 옛-고향\n",
      "파-란-들 남쪽에서 바-람이-불면-\n",
      "냇-가에 수양버들 춤추는-동네-\n",
      "그 속에서 놀던 때가 그립습니다-"
     ]
    }
   ],
   "source": [
    "file =  open('고향의 봄.txt',mode='r',encoding='utf-8')\n",
    "for line in file:\n",
    "    print(line,end='') "
   ]
  },
  {
   "cell_type": "code",
   "execution_count": 26,
   "metadata": {},
   "outputs": [
    {
     "name": "stdout",
     "output_type": "stream",
     "text": [
      "======= 고향의 봄 =======\n",
      "\n",
      "나의 살-던 고향은 꽃피는-산골-\n",
      "복숭아-꽃 살-구꽃 아-기 진-달래\n",
      "울긋불-긋 꽃 대궐 차리인-동네-\n",
      "그 속에서 놀던 떄가 그립습니다-\n",
      "\n",
      "꽃-동-네 새 동네 나의 옛-고향\n",
      "파-란-들 남쪽에서 바-람이-불면-\n",
      "냇-가에 수양버들 춤추는-동네-\n",
      "그 속에서 놀던 때가 그립습니다-"
     ]
    }
   ],
   "source": [
    "# with문으로 팡ㄹ 전체 읽기\n",
    "with open('고향의 봄.txt',encoding='utf-8') as file:\n",
    "    for line in file:\n",
    "        print(line,end='')"
   ]
  },
  {
   "cell_type": "code",
   "execution_count": 27,
   "metadata": {},
   "outputs": [
    {
     "name": "stdout",
     "output_type": "stream",
     "text": [
      "======= 고향의 봄 =======\n",
      "\n",
      "나의 살-던 고향은 꽃피는-산골-\n",
      "복숭아-꽃 살-구꽃 아-기 진-달래\n",
      "울긋불-긋 꽃 대궐 차리인-동네-\n",
      "그 속에서 놀던 떄가 그립습니다-\n",
      "\n",
      "꽃-동-네 새 동네 나의 옛-고향\n",
      "파-란-들 남쪽에서 바-람이-불면-\n",
      "냇-가에 수양버들 춤추는-동네-\n",
      "그 속에서 놀던 때가 그립습니다-\n"
     ]
    }
   ],
   "source": [
    "# with문으로 팡ㄹ 전체 읽기\n",
    "with open('고향의 봄.txt',encoding='utf-8') as file:\n",
    "    for line in file:\n",
    "        print(line.rstrip())"
   ]
  },
  {
   "cell_type": "code",
   "execution_count": 28,
   "metadata": {
    "scrolled": true
   },
   "outputs": [
    {
     "ename": "ValueError",
     "evalue": "I/O operation on closed file.",
     "output_type": "error",
     "traceback": [
      "\u001b[0;31m---------------------------------------------------------------------------\u001b[0m",
      "\u001b[0;31mValueError\u001b[0m                                Traceback (most recent call last)",
      "\u001b[0;32m<ipython-input-28-1ba352a1fd91>\u001b[0m in \u001b[0;36m<module>\u001b[0;34m()\u001b[0m\n\u001b[0;32m----> 1\u001b[0;31m \u001b[0mfile\u001b[0m\u001b[0;34m.\u001b[0m\u001b[0mreadline\u001b[0m\u001b[0;34m(\u001b[0m\u001b[0;34m)\u001b[0m\u001b[0;34m\u001b[0m\u001b[0m\n\u001b[0m",
      "\u001b[0;31mValueError\u001b[0m: I/O operation on closed file."
     ]
    }
   ],
   "source": [
    "file.readline()"
   ]
  },
  {
   "cell_type": "code",
   "execution_count": 2,
   "metadata": {},
   "outputs": [
    {
     "name": "stdout",
     "output_type": "stream",
     "text": [
      "<_io.TextIOWrapper name='고향의 봄.txt' mode='r' encoding='utf-8'>\n"
     ]
    }
   ],
   "source": [
    "# 파일에서 각 줄을 리스트로 읽어오기\n",
    "file = open('고향의 봄.txt',mode = 'r',encoding='utf-8')\n",
    "sentences = []\n",
    "print(file)\n",
    "\n",
    "for line in file:\n",
    "    sentences.append(line)\n",
    "sentences\n",
    "\n",
    "file.close()"
   ]
  },
  {
   "cell_type": "code",
   "execution_count": 31,
   "metadata": {},
   "outputs": [
    {
     "data": {
      "text/plain": [
       "'나의 살-던 고향은 꽃피는-산골-\\n'"
      ]
     },
     "execution_count": 31,
     "metadata": {},
     "output_type": "execute_result"
    },
    {
     "name": "stdout",
     "output_type": "stream",
     "text": [
      "복숭아-꽃 살-구꽃 아-기 진-달래\n",
      "\n"
     ]
    },
    {
     "data": {
      "text/plain": [
       "'울긋불-긋 꽃 대궐 차리인-동네-'"
      ]
     },
     "execution_count": 31,
     "metadata": {},
     "output_type": "execute_result"
    }
   ],
   "source": [
    "sentences[2]\n",
    "print(sentences[3])\n",
    "sentences[4].rstrip()"
   ]
  },
  {
   "cell_type": "code",
   "execution_count": 32,
   "metadata": {},
   "outputs": [
    {
     "data": {
      "text/plain": [
       "list"
      ]
     },
     "execution_count": 32,
     "metadata": {},
     "output_type": "execute_result"
    },
    {
     "name": "stdout",
     "output_type": "stream",
     "text": [
      "['======= 고향의 봄 =======\\n', '\\n', '나의 살-던 고향은 꽃피는-산골-\\n', '복숭아-꽃 살-구꽃 아-기 진-달래\\n', '울긋불-긋 꽃 대궐 차리인-동네-\\n', '그 속에서 놀던 떄가 그립습니다-\\n', '\\n', '꽃-동-네 새 동네 나의 옛-고향\\n', '파-란-들 남쪽에서 바-람이-불면-\\n', '냇-가에 수양버들 춤추는-동네-\\n', '그 속에서 놀던 때가 그립습니다-']\n"
     ]
    }
   ],
   "source": [
    "# readlines 함수\n",
    "file = open('고향의 봄.txt',mode = 'r',encoding='utf-8')\n",
    "data =  file.readlines()\n",
    "file.close()\n",
    "\n",
    "type(data)\n",
    "print(data)"
   ]
  },
  {
   "cell_type": "code",
   "execution_count": 34,
   "metadata": {},
   "outputs": [
    {
     "data": {
      "text/plain": [
       "list"
      ]
     },
     "execution_count": 34,
     "metadata": {},
     "output_type": "execute_result"
    },
    {
     "name": "stdout",
     "output_type": "stream",
     "text": [
      "['======= 고향의 봄 =======\\n', '\\n', '나의 살-던 고향은 꽃피는-산골-\\n', '복숭아-꽃 살-구꽃 아-기 진-달래\\n', '울긋불-긋 꽃 대궐 차리인-동네-\\n', '그 속에서 놀던 떄가 그립습니다-\\n', '\\n', '꽃-동-네 새 동네 나의 옛-고향\\n', '파-란-들 남쪽에서 바-람이-불면-\\n', '냇-가에 수양버들 춤추는-동네-\\n', '그 속에서 놀던 때가 그립습니다-']\n"
     ]
    },
    {
     "data": {
      "text/plain": [
       "list"
      ]
     },
     "execution_count": 34,
     "metadata": {},
     "output_type": "execute_result"
    },
    {
     "name": "stdout",
     "output_type": "stream",
     "text": [
      "['======= 고향의 봄 =======', '', '나의 살-던 고향은 꽃피는-산골-', '복숭아-꽃 살-구꽃 아-기 진-달래', '울긋불-긋 꽃 대궐 차리인-동네-', '그 속에서 놀던 떄가 그립습니다-', '', '꽃-동-네 새 동네 나의 옛-고향', '파-란-들 남쪽에서 바-람이-불면-', '냇-가에 수양버들 춤추는-동네-', '그 속에서 놀던 때가 그립습니다-']\n"
     ]
    },
    {
     "data": {
      "text/plain": [
       "list"
      ]
     },
     "execution_count": 34,
     "metadata": {},
     "output_type": "execute_result"
    },
    {
     "name": "stdout",
     "output_type": "stream",
     "text": [
      "['======= 고향의 봄 =======', '', '나의 살-던 고향은 꽃피는-산골-', '복숭아-꽃 살-구꽃 아-기 진-달래', '울긋불-긋 꽃 대궐 차리인-동네-', '그 속에서 놀던 떄가 그립습니다-', '', '꽃-동-네 새 동네 나의 옛-고향', '파-란-들 남쪽에서 바-람이-불면-', '냇-가에 수양버들 춤추는-동네-', '그 속에서 놀던 때가 그립습니다-']\n"
     ]
    }
   ],
   "source": [
    "# 코드 비교\n",
    "\n",
    "file = open('고향의 봄.txt',mode = 'r',encoding='utf-8')\n",
    "data =  file.readlines()\n",
    "file.close()\n",
    "\n",
    "type(data)\n",
    "print(data)\n",
    "\n",
    "file = open('고향의 봄.txt',mode = 'r',encoding='utf-8')\n",
    "data =  file.read().split('\\n')\n",
    "file.close()\n",
    "\n",
    "type(data)\n",
    "print(data)\n",
    "\n",
    "file = open('고향의 봄.txt',mode = 'r',encoding='utf-8')\n",
    "data =  file.read().splitlines()\n",
    "file.close()\n",
    "\n",
    "type(data)\n",
    "print(data)"
   ]
  },
  {
   "cell_type": "markdown",
   "metadata": {},
   "source": [
    "## 파이썬 프로그램 실행옵션"
   ]
  },
  {
   "cell_type": "code",
   "execution_count": 36,
   "metadata": {},
   "outputs": [
    {
     "name": "stdout",
     "output_type": "stream",
     "text": [
      "['/Library/Frameworks/Python.framework/Versions/3.6/lib/python3.6/site-packages/ipykernel_launcher.py', '-f', '/Users/baejiwon/Library/Jupyter/runtime/kernel-68db3ecc-9dc1-428e-ad72-141ee3464d70.json']\n"
     ]
    }
   ],
   "source": [
    "import sys\n",
    "print(sys.argv)"
   ]
  },
  {
   "cell_type": "code",
   "execution_count": null,
   "metadata": {},
   "outputs": [],
   "source": [
    "import sys\n",
    "\n",
    "if len(sys.argv) != 2 or sys.argv[1] == '-help':\n",
    "    print('usage: python display_commandline_opt.py filename')\n",
    "    sys.exit()\n",
    "\n",
    "with open(sys.argv[1],encoding='utf-8') as file:\n",
    "    lines = file.readlines()\n",
    "    for line in lines:\n",
    "        print(line.rstrip())"
   ]
  },
  {
   "cell_type": "markdown",
   "metadata": {},
   "source": [
    "## 파일 및 경로 탐색과 조작"
   ]
  },
  {
   "cell_type": "code",
   "execution_count": 42,
   "metadata": {},
   "outputs": [
    {
     "data": {
      "text/plain": [
       "0"
      ]
     },
     "execution_count": 42,
     "metadata": {},
     "output_type": "execute_result"
    },
    {
     "data": {
      "text/plain": [
       "8"
      ]
     },
     "execution_count": 42,
     "metadata": {},
     "output_type": "execute_result"
    },
    {
     "data": {
      "text/plain": [
       "'고향의 봄'"
      ]
     },
     "execution_count": 42,
     "metadata": {},
     "output_type": "execute_result"
    },
    {
     "data": {
      "text/plain": [
       "' =======\\n'"
      ]
     },
     "execution_count": 42,
     "metadata": {},
     "output_type": "execute_result"
    },
    {
     "data": {
      "text/plain": [
       "31"
      ]
     },
     "execution_count": 42,
     "metadata": {},
     "output_type": "execute_result"
    }
   ],
   "source": [
    "file = open('고향의 봄.txt',mode='r',encoding='utf-8')\n",
    "file.tell()\n",
    "\n",
    "file.seek(8)\n",
    "file.read(5)\n",
    "\n",
    "file.readline()\n",
    "\n",
    "#####\n",
    "file.seek(file.tell()+1)"
   ]
  },
  {
   "cell_type": "code",
   "execution_count": null,
   "metadata": {},
   "outputs": [],
   "source": []
  }
 ],
 "metadata": {
  "kernelspec": {
   "display_name": "Python 3",
   "language": "python",
   "name": "python3"
  },
  "language_info": {
   "codemirror_mode": {
    "name": "ipython",
    "version": 3
   },
   "file_extension": ".py",
   "mimetype": "text/x-python",
   "name": "python",
   "nbconvert_exporter": "python",
   "pygments_lexer": "ipython3",
   "version": "3.6.5"
  }
 },
 "nbformat": 4,
 "nbformat_minor": 2
}
