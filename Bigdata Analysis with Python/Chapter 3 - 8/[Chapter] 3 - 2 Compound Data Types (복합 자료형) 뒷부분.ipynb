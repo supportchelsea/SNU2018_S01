{
 "cells": [
  {
   "cell_type": "markdown",
   "metadata": {},
   "source": [
    "# 집합형\n",
    "순서없이 중복이 허용되지 ㅇ낳음\n",
    "순회할 경우 임의의 순서대로 항목을 꺼내옴\n",
    "\n",
    "\n",
    "1. 셋\n",
    "2. 프로즌 셋"
   ]
  },
  {
   "cell_type": "markdown",
   "metadata": {},
   "source": [
    "#셋(set)이란?\n",
    "    \" 가변자료형 \"\n",
    "    \n",
    "    1) 담고있는 객체(항목)을 삽입,변경,삭제 가 가능\n",
    "    2) 순서없이 0개 이상의 해시 가능한 객체를 참조\n",
    "    : 각항목 쉼표로 구분\n",
    "    3) 출력형식은 항상 중괄호 {}\n",
    "    : 인덱스의 개념이 없기 때문에 분할하거나 구간 이동을 할 수 없음\n",
    "   \n",
    "    "
   ]
  },
  {
   "cell_type": "code",
   "execution_count": 3,
   "metadata": {},
   "outputs": [],
   "source": [
    "from IPython.core.interactiveshell import InteractiveShell\n",
    "InteractiveShell.ast_node_interactivity = \"all\""
   ]
  },
  {
   "cell_type": "code",
   "execution_count": 5,
   "metadata": {},
   "outputs": [
    {
     "data": {
      "text/plain": [
       "{('엄마', '아빠'), (), -3.14, 5, True, '드럼'}"
      ]
     },
     "execution_count": 5,
     "metadata": {},
     "output_type": "execute_result"
    },
    {
     "data": {
      "text/plain": [
       "6"
      ]
     },
     "execution_count": 5,
     "metadata": {},
     "output_type": "execute_result"
    },
    {
     "data": {
      "text/plain": [
       "5"
      ]
     },
     "execution_count": 5,
     "metadata": {},
     "output_type": "execute_result"
    },
    {
     "data": {
      "text/plain": [
       "{('엄마', '아빠'), -3.14, 5, True, '드럼'}"
      ]
     },
     "execution_count": 5,
     "metadata": {},
     "output_type": "execute_result"
    }
   ],
   "source": [
    "#예시\n",
    "atuple = ('엄마','아빠')\n",
    "mixed_set = {True, tuple(),5 ,'드럼',atuple, -3.14}\n",
    "\n",
    "mixed_set\n",
    "c\n",
    "len(mixed_set)\n",
    "mixed_set.remove(())\n",
    "len(mixed_set)\n",
    "mixed_set"
   ]
  },
  {
   "cell_type": "code",
   "execution_count": 6,
   "metadata": {},
   "outputs": [
    {
     "data": {
      "text/plain": [
       "(3, 3)"
      ]
     },
     "execution_count": 6,
     "metadata": {},
     "output_type": "execute_result"
    },
    {
     "data": {
      "text/plain": [
       "{3, 'a', 'b'}"
      ]
     },
     "execution_count": 6,
     "metadata": {},
     "output_type": "execute_result"
    },
    {
     "data": {
      "text/plain": [
       "{3, 'a', 'b'}"
      ]
     },
     "execution_count": 6,
     "metadata": {},
     "output_type": "execute_result"
    }
   ],
   "source": [
    "set1 = {'a','b',3}\n",
    "set2 = {'a','b',3,'a',3}\n",
    "\n",
    "len(set1),len(set2)\n",
    "\n",
    "set1\n",
    "set2"
   ]
  },
  {
   "cell_type": "code",
   "execution_count": 7,
   "metadata": {},
   "outputs": [
    {
     "data": {
      "text/plain": [
       "6"
      ]
     },
     "execution_count": 7,
     "metadata": {},
     "output_type": "execute_result"
    },
    {
     "data": {
      "text/plain": [
       "6"
      ]
     },
     "execution_count": 7,
     "metadata": {},
     "output_type": "execute_result"
    },
    {
     "data": {
      "text/plain": [
       "{('엄마', '아빠'), -3.14, 5, True, '기타', '드럼'}"
      ]
     },
     "execution_count": 7,
     "metadata": {},
     "output_type": "execute_result"
    }
   ],
   "source": [
    "mixed_set.add('기타')\n",
    "len(mixed_set)\n",
    "mixed_set.add('드럼')\n",
    "len(mixed_set)\n",
    "\n",
    "mixed_set"
   ]
  },
  {
   "cell_type": "markdown",
   "metadata": {},
   "source": [
    "#셋 생성\n"
   ]
  },
  {
   "cell_type": "code",
   "execution_count": 13,
   "metadata": {},
   "outputs": [
    {
     "data": {
      "text/plain": [
       "set()"
      ]
     },
     "execution_count": 13,
     "metadata": {},
     "output_type": "execute_result"
    },
    {
     "data": {
      "text/plain": [
       "{'바나나'}"
      ]
     },
     "execution_count": 13,
     "metadata": {},
     "output_type": "execute_result"
    },
    {
     "data": {
      "text/plain": [
       "{'딸기', '블루베리', '사과', '오렌지', '포도'}"
      ]
     },
     "execution_count": 13,
     "metadata": {},
     "output_type": "execute_result"
    },
    {
     "data": {
      "text/plain": [
       "{'나', '바'}"
      ]
     },
     "execution_count": 13,
     "metadata": {},
     "output_type": "execute_result"
    },
    {
     "data": {
      "text/plain": [
       "{'바나나'}"
      ]
     },
     "execution_count": 13,
     "metadata": {},
     "output_type": "execute_result"
    },
    {
     "name": "stdout",
     "output_type": "stream",
     "text": [
      "0 1 5 2 1\n"
     ]
    }
   ],
   "source": [
    "#빈 셋 생성\n",
    "empty = set()\n",
    "empty\n",
    "\n",
    "#셋 연산자 {}로 생성\n",
    "s = {'바나나'}\n",
    "s\n",
    "\n",
    "fruits = {'사과','딸기','포도','블루베리','오렌지'}\n",
    "fruits\n",
    "\n",
    "#set() 생성자로 생성\n",
    "set1 = set('바나나')\n",
    "set1\n",
    "\n",
    "set2 = set({'바나나'})\n",
    "set2\n",
    "\n",
    "\n",
    "#set3 = set{{'바나나'}}\n",
    "\n",
    "print(len(empty),len(s),len(fruits),len(set1),len(set2))\n"
   ]
  },
  {
   "cell_type": "markdown",
   "metadata": {},
   "source": [
    "#셋 관련 연산자\n"
   ]
  },
  {
   "cell_type": "code",
   "execution_count": 15,
   "metadata": {},
   "outputs": [
    {
     "data": {
      "text/plain": [
       "{1, 2, 3, 4, 5, 6, 7}"
      ]
     },
     "execution_count": 15,
     "metadata": {},
     "output_type": "execute_result"
    },
    {
     "data": {
      "text/plain": [
       "{3, 4, 5}"
      ]
     },
     "execution_count": 15,
     "metadata": {},
     "output_type": "execute_result"
    },
    {
     "data": {
      "text/plain": [
       "{1, 2}"
      ]
     },
     "execution_count": 15,
     "metadata": {},
     "output_type": "execute_result"
    },
    {
     "data": {
      "text/plain": [
       "{6, 7}"
      ]
     },
     "execution_count": 15,
     "metadata": {},
     "output_type": "execute_result"
    },
    {
     "data": {
      "text/plain": [
       "{1, 2, 6, 7}"
      ]
     },
     "execution_count": 15,
     "metadata": {},
     "output_type": "execute_result"
    },
    {
     "data": {
      "text/plain": [
       "{1, 2, 6, 7}"
      ]
     },
     "execution_count": 15,
     "metadata": {},
     "output_type": "execute_result"
    }
   ],
   "source": [
    "# 예시 셋 연산자\n",
    "s = {1,2,3,4,5}\n",
    "t = {3,4,5,6,7}\n",
    "\n",
    "s|t # 셋 결합, 합집합\n",
    "s&t #셋 교차, 교집합\n",
    "s-t #셋 빼기, 차집합\n",
    "t-s#셋 빼기, 차집합\n",
    "s^t  #셋 대칭차, 대칭차집합\n",
    "t^s #셋 대칭차, 대칭차집합\n"
   ]
  },
  {
   "cell_type": "markdown",
   "metadata": {},
   "source": [
    "## # 셋 메소드 \n",
    "\n",
    "    1. s.copy()\n",
    "        - 셋의 얕은 복사본을 반환\n",
    "    2. s.add(x)\n",
    "        - 항목x가 셋에 없다면 x를 셋에 추가\n",
    "    3. s.pop()\n",
    "        - 셋에서 임의의 항목을 반환하고 해당 항목을 셋에서 삭제\n",
    "        - 셋 s가 빈셋이면 error 반환\n",
    "    4. s.remove(x)\n",
    "        - 셋에서 x를 없애라\n",
    "        - 셋에 x가 없으면 \n",
    "    5. s.discard(x)\n",
    "        - 항목이 셋내에 있을 경우 항목을 셋에서 삭제하되, 없어도 예외가 뜨지 않는다\n",
    "    6. s.update(t)\n",
    "        - 셋에 있는 모든항목 중 셋에 \n",
    "    7. s.clear\n",
    "        - 셋의 모든 항목을 삭제\n",
    "    8. s.isdisjoint(t) s^t\n",
    "        - 셋과 셋이 서로 같은 항목을 하나라도 갖고 있지 않은 경우 참을 반환\n",
    "    9. s.issubset(t)\n",
    "        - s가 t의 하위셋일경우 참\n",
    "    10. s.issuperset(t) \n",
    "        - s가 t의 상위셋일경우 참\n"
   ]
  },
  {
   "cell_type": "code",
   "execution_count": 16,
   "metadata": {
    "scrolled": true
   },
   "outputs": [
    {
     "data": {
      "text/plain": [
       "4"
      ]
     },
     "execution_count": 16,
     "metadata": {},
     "output_type": "execute_result"
    },
    {
     "data": {
      "text/plain": [
       "{1, 2, 3, 4, 5}"
      ]
     },
     "execution_count": 16,
     "metadata": {},
     "output_type": "execute_result"
    },
    {
     "data": {
      "text/plain": [
       "{1, 2, 3, 4, 5}"
      ]
     },
     "execution_count": 16,
     "metadata": {},
     "output_type": "execute_result"
    },
    {
     "data": {
      "text/plain": [
       "1"
      ]
     },
     "execution_count": 16,
     "metadata": {},
     "output_type": "execute_result"
    },
    {
     "data": {
      "text/plain": [
       "{2, 3, 4, 5}"
      ]
     },
     "execution_count": 16,
     "metadata": {},
     "output_type": "execute_result"
    },
    {
     "data": {
      "text/plain": [
       "{2, 3, 4, 5}"
      ]
     },
     "execution_count": 16,
     "metadata": {},
     "output_type": "execute_result"
    },
    {
     "ename": "KeyError",
     "evalue": "1",
     "output_type": "error",
     "traceback": [
      "\u001b[0;31m---------------------------------------------------------------------------\u001b[0m",
      "\u001b[0;31mKeyError\u001b[0m                                  Traceback (most recent call last)",
      "\u001b[0;32m<ipython-input-16-e909ef7bdccb>\u001b[0m in \u001b[0;36m<module>\u001b[0;34m()\u001b[0m\n\u001b[1;32m     15\u001b[0m \u001b[0ms\u001b[0m\u001b[0;34m\u001b[0m\u001b[0m\n\u001b[1;32m     16\u001b[0m \u001b[0;34m\u001b[0m\u001b[0m\n\u001b[0;32m---> 17\u001b[0;31m \u001b[0ms\u001b[0m\u001b[0;34m.\u001b[0m\u001b[0mremove\u001b[0m\u001b[0;34m(\u001b[0m\u001b[0;36m1\u001b[0m\u001b[0;34m)\u001b[0m\u001b[0;34m\u001b[0m\u001b[0m\n\u001b[0m",
      "\u001b[0;31mKeyError\u001b[0m: 1"
     ]
    }
   ],
   "source": [
    "#예시 셋메소드\n",
    "s = {1,2,3,4}\n",
    "len(s)\n",
    "\n",
    "s.add(5)\n",
    "s\n",
    "\n",
    "s.add(1)\n",
    "s\n",
    "\n",
    "s.pop()\n",
    "s\n",
    "\n",
    "s.discard(1)\n",
    "s\n",
    "\n",
    "s.remove(1)"
   ]
  },
  {
   "cell_type": "code",
   "execution_count": 18,
   "metadata": {},
   "outputs": [
    {
     "data": {
      "text/plain": [
       "{2, 3}"
      ]
     },
     "execution_count": 18,
     "metadata": {},
     "output_type": "execute_result"
    },
    {
     "data": {
      "text/plain": [
       "{1}"
      ]
     },
     "execution_count": 18,
     "metadata": {},
     "output_type": "execute_result"
    },
    {
     "data": {
      "text/plain": [
       "{1, 4, 5}"
      ]
     },
     "execution_count": 18,
     "metadata": {},
     "output_type": "execute_result"
    },
    {
     "data": {
      "text/plain": [
       "{1, 2, 3, 4, 5}"
      ]
     },
     "execution_count": 18,
     "metadata": {},
     "output_type": "execute_result"
    },
    {
     "ename": "KeyError",
     "evalue": "7",
     "output_type": "error",
     "traceback": [
      "\u001b[0;31m---------------------------------------------------------------------------\u001b[0m",
      "\u001b[0;31mKeyError\u001b[0m                                  Traceback (most recent call last)",
      "\u001b[0;32m<ipython-input-18-bfe580a7e2e3>\u001b[0m in \u001b[0;36m<module>\u001b[0;34m()\u001b[0m\n\u001b[1;32m     21\u001b[0m \u001b[0;34m\u001b[0m\u001b[0m\n\u001b[1;32m     22\u001b[0m \u001b[0ms\u001b[0m\u001b[0;34m.\u001b[0m\u001b[0mdiscard\u001b[0m\u001b[0;34m(\u001b[0m\u001b[0;36m7\u001b[0m\u001b[0;34m)\u001b[0m\u001b[0;34m\u001b[0m\u001b[0m\n\u001b[0;32m---> 23\u001b[0;31m \u001b[0ms\u001b[0m\u001b[0;34m.\u001b[0m\u001b[0mremove\u001b[0m\u001b[0;34m(\u001b[0m\u001b[0;36m7\u001b[0m\u001b[0;34m)\u001b[0m\u001b[0;34m\u001b[0m\u001b[0m\n\u001b[0m",
      "\u001b[0;31mKeyError\u001b[0m: 7"
     ]
    }
   ],
   "source": [
    "# 예시 셋메소드와 연산자\n",
    "s = {1,2,3}\n",
    "t = {2,3,4,5}\n",
    "s &=t\n",
    "s\n",
    "\n",
    "s = {1,2,3}\n",
    "t = {2,3,4,5}\n",
    "s -=t\n",
    "s\n",
    "\n",
    "s = {1,2,3}\n",
    "t = {2,3,4,5}\n",
    "s ^=t\n",
    "s\n",
    "\n",
    "s = {1,2,3}\n",
    "t = {2,3,4,5}\n",
    "s |=t\n",
    "s\n",
    "\n",
    "s.discard(7)\n",
    "s.remove(7)\n"
   ]
  },
  {
   "cell_type": "markdown",
   "metadata": {},
   "source": [
    "### 셋 축약"
   ]
  },
  {
   "cell_type": "code",
   "execution_count": 19,
   "metadata": {},
   "outputs": [
    {
     "data": {
      "text/plain": [
       "[9, 4, 1, 0, 1, 4, 9]"
      ]
     },
     "execution_count": 19,
     "metadata": {},
     "output_type": "execute_result"
    },
    {
     "data": {
      "text/plain": [
       "{0, 1, 4, 9}"
      ]
     },
     "execution_count": 19,
     "metadata": {},
     "output_type": "execute_result"
    }
   ],
   "source": [
    "# 예시 셋 축약\n",
    "x = [i * i for i in (-3,-2,-1,0,1,2,3)] #리스트 축약\n",
    "y = {i * i for i in (-3,-2,-1,0,1,2,3)} #셋 축약\n",
    "\n",
    "x\n",
    "y"
   ]
  },
  {
   "cell_type": "code",
   "execution_count": 20,
   "metadata": {},
   "outputs": [
    {
     "data": {
      "text/plain": [
       "[9, 8, 7, 6, 5, 4, 3, 2, 1, 0, 1, 2, 3, 4, 5, 6, 7, 8, 9]"
      ]
     },
     "execution_count": 20,
     "metadata": {},
     "output_type": "execute_result"
    },
    {
     "data": {
      "text/plain": [
       "{0, 1, 2, 3, 4, 5, 6, 7, 8, 9}"
      ]
     },
     "execution_count": 20,
     "metadata": {},
     "output_type": "execute_result"
    }
   ],
   "source": [
    "x = [abs(i) for i in range(-9,10)]\n",
    "y = {abs(i) for i in range(-9,10)}\n",
    "\n",
    "x\n",
    "y"
   ]
  },
  {
   "cell_type": "code",
   "execution_count": 21,
   "metadata": {},
   "outputs": [
    {
     "data": {
      "text/plain": [
       "['3 - 1 Basic Data Type-Copy1.ipynb',\n",
       " '[Lab] 3 - 1 Basic Data Types (기본자료형 다루기).ipynb',\n",
       " '3 - 1 Basic Data Type.ipynb',\n",
       " '[Chapter] 3 - 2 Compound Data Types (복합 자료형) 뒷부분 예습.ipynb',\n",
       " '[Chapter] 3 - 1 Basic Data Type (기본자료형).ipynb',\n",
       " '[Lab] 2 - 3 My first python program .ipynb',\n",
       " '[Chapter] 3 - 2 Compound Data Types (복합 자료형).ipynb',\n",
       " '.ipynb_checkpoints']"
      ]
     },
     "execution_count": 21,
     "metadata": {},
     "output_type": "execute_result"
    }
   ],
   "source": [
    "#예시 셋축약\n",
    "import os\n",
    "\n",
    "#path 디렉토리에 있는 항목들의 이름을 담은 리스트를 반환\n",
    "file_list = os.listdir() #os.listdir(patg='.')과 같음\n",
    "file_list\n"
   ]
  },
  {
   "cell_type": "code",
   "execution_count": 23,
   "metadata": {},
   "outputs": [
    {
     "data": {
      "text/plain": [
       "set()"
      ]
     },
     "execution_count": 23,
     "metadata": {},
     "output_type": "execute_result"
    }
   ],
   "source": [
    "py_files = {file for file in file_list\n",
    "           if file.lower().endswith(('.py','.pyw'))}\n",
    "py_files"
   ]
  },
  {
   "cell_type": "markdown",
   "metadata": {},
   "source": [
    "#중첩셋 축약"
   ]
  },
  {
   "cell_type": "markdown",
   "metadata": {},
   "source": [
    "### 프로즌셋\n",
    "프로즌 셋이란?\n",
    "(=고정집합)\n",
    "\n",
    "    - 불변자료형\n",
    "    - 일단생성되면 변경할 수 없음, 셋값에 영향을 미치지 않는 메소드와 연산자만 지원\n",
    "    - set 항목이 될 수 있는 해시 가능 조건을 충족 -> 프로즌 셋을 항목으로 담을 수 있음\n",
    "    \n",
    "    -이항 연산자와 사용될경우\n",
    "    : 결과물의 자료형은 왼쪽 피연산자의 자료형을 따라감"
   ]
  },
  {
   "cell_type": "code",
   "execution_count": 24,
   "metadata": {},
   "outputs": [
    {
     "data": {
      "text/plain": [
       "{3, 5}"
      ]
     },
     "execution_count": 24,
     "metadata": {},
     "output_type": "execute_result"
    },
    {
     "data": {
      "text/plain": [
       "set"
      ]
     },
     "execution_count": 24,
     "metadata": {},
     "output_type": "execute_result"
    },
    {
     "data": {
      "text/plain": [
       "frozenset({3, 5})"
      ]
     },
     "execution_count": 24,
     "metadata": {},
     "output_type": "execute_result"
    },
    {
     "data": {
      "text/plain": [
       "frozenset"
      ]
     },
     "execution_count": 24,
     "metadata": {},
     "output_type": "execute_result"
    }
   ],
   "source": [
    "#예시 프로즌셋\n",
    "s = {1,2,3,4,5} #또는 s = set({1,2,3,4,5})\n",
    "t = frozenset({3,5,7,8,9})\n",
    "x = s & t\n",
    "y = t & s\n",
    "\n",
    "x\n",
    "type(x)\n",
    "\n",
    "y\n",
    "type(y)"
   ]
  },
  {
   "cell_type": "markdown",
   "metadata": {},
   "source": [
    "### 맵핑형"
   ]
  },
  {
   "cell_type": "markdown",
   "metadata": {},
   "source": [
    "### 딕셔너리\n",
    "    - 가변자료형\n",
    "    : 담고 있는 객체(항목)을 삽입,삭제,변경 가능\n",
    "    - 순서업이 0개 이상의 키-값 쌍으로 된 객체를 참조하는 맵핑형\n",
    "    각항목은 쉼표로 구분됨(,)\n",
    "    - 출력형식은 항상 중괄호 {} 형태\n",
    "        \n",
    "        키 (key) : 해시 가능한 객체(불변자료형)으로만 가능\n",
    "        값 (value) : 어떤 타입도 가능 \n",
    "        ==> 한쌍 / 1대1로 매핑\n",
    "\n",
    "    순서가 없고 키를 통해 값에 접근할 수 있음\n",
    "    인덱스의 개념이 없기 때문에 분할하거나 구간이동을 할 수 없음"
   ]
  },
  {
   "cell_type": "code",
   "execution_count": 30,
   "metadata": {},
   "outputs": [
    {
     "data": {
      "text/plain": [
       "{1: '엄마', 2: '아빠', 3: '동생'}"
      ]
     },
     "execution_count": 30,
     "metadata": {},
     "output_type": "execute_result"
    },
    {
     "data": {
      "text/plain": [
       "{'악기': ['드럼', '기타', '피리'],\n",
       " '가족': {1: '엄마', 2: '아빠', 3: '동생'},\n",
       " (8, 15): '광복절',\n",
       " 'RGB': [255, 72, 90],\n",
       " 'id': (),\n",
       " 0: 55,\n",
       " -307: None,\n",
       " 'fruits': set()}"
      ]
     },
     "execution_count": 30,
     "metadata": {},
     "output_type": "execute_result"
    },
    {
     "name": "stdout",
     "output_type": "stream",
     "text": [
      "3 8\n"
     ]
    },
    {
     "data": {
      "text/plain": [
       "{1: '엄마', 2: '아빠', 3: '나', 4: '동생'}"
      ]
     },
     "execution_count": 30,
     "metadata": {},
     "output_type": "execute_result"
    },
    {
     "data": {
      "text/plain": [
       "{'악기': ['드럼', '기타', '베이스'],\n",
       " '가족': {1: '엄마', 2: '아빠', 3: '나', 4: '동생'},\n",
       " (8, 15): '광복절',\n",
       " 'RGB': [255, 72, 90],\n",
       " 'id': (),\n",
       " 0: 55,\n",
       " -307: None,\n",
       " 'fruits': set()}"
      ]
     },
     "execution_count": 30,
     "metadata": {},
     "output_type": "execute_result"
    },
    {
     "data": {
      "text/plain": [
       "'광복절'"
      ]
     },
     "execution_count": 30,
     "metadata": {},
     "output_type": "execute_result"
    }
   ],
   "source": [
    " #예시 딕셔너리\n",
    "instrument = ['드럼','기타','피리']\n",
    "simple_dic = {1:'엄마',2:'아빠',3:'동생'}\n",
    "complex_dic = {\n",
    "    '악기':instrument,\n",
    "    '가족':simple_dic,\n",
    "    (8,15):'광복절',\n",
    "    'RGB':[255,72,90],\n",
    "    'id':(),\n",
    "    0:55,\n",
    "    -307:None,\n",
    "    'fruits': set()\n",
    "}\n",
    "\n",
    "simple_dic\n",
    "complex_dic\n",
    "print(len(simple_dic),len(complex_dic))\n",
    "\n",
    "simple_dic[3] = '나'\n",
    "simple_dic[4] = '동생'\n",
    "simple_dic\n",
    "\n",
    "complex_dic['악기'][-1] = '베이스'\n",
    "complex_dic\n",
    "\n",
    "complex_dic[(8,15)]\n"
   ]
  },
  {
   "cell_type": "markdown",
   "metadata": {},
   "source": [
    "#딕셔너리 생성\n",
    "    \n",
    "    {}\n",
    "    dict()\n",
    "    딕셔너리 축약"
   ]
  },
  {
   "cell_type": "code",
   "execution_count": 31,
   "metadata": {},
   "outputs": [
    {
     "data": {
      "text/plain": [
       "{}"
      ]
     },
     "execution_count": 31,
     "metadata": {},
     "output_type": "execute_result"
    },
    {
     "data": {
      "text/plain": [
       "{}"
      ]
     },
     "execution_count": 31,
     "metadata": {},
     "output_type": "execute_result"
    },
    {
     "name": "stdout",
     "output_type": "stream",
     "text": [
      "<class 'dict'> <class 'dict'>\n"
     ]
    },
    {
     "data": {
      "text/plain": [
       "{307: '라이언'}"
      ]
     },
     "execution_count": 31,
     "metadata": {},
     "output_type": "execute_result"
    },
    {
     "name": "stdout",
     "output_type": "stream",
     "text": [
      "0 0 1 3\n"
     ]
    }
   ],
   "source": [
    "#예시 딕셔너리 생성\n",
    "#빈 딕셔너리 생성\n",
    "empty1 = {}\n",
    "empty1\n",
    "\n",
    "empty2 = dict()\n",
    "empty2\n",
    "\n",
    "print(type(empty1),type(empty2))\n",
    "\n",
    "#딕셔너리 연산자 {}로 생성\n",
    "D = {307:'라이언'}\n",
    "D\n",
    "\n",
    "fruit_vote = {'사과':75,'바나나':62,'블루베리':124}\n",
    "\n",
    "print(len(empty1),len(empty2),len(D),len(fruit_vote))\n",
    "\n"
   ]
  },
  {
   "cell_type": "code",
   "execution_count": 36,
   "metadata": {},
   "outputs": [
    {
     "data": {
      "text/plain": [
       "True"
      ]
     },
     "execution_count": 36,
     "metadata": {},
     "output_type": "execute_result"
    },
    {
     "data": {
      "text/plain": [
       "(2, 2, 2, 2, 2)"
      ]
     },
     "execution_count": 36,
     "metadata": {},
     "output_type": "execute_result"
    },
    {
     "data": {
      "text/plain": [
       "{'drum': '드럼', 'guitar': '기타'}"
      ]
     },
     "execution_count": 36,
     "metadata": {},
     "output_type": "execute_result"
    },
    {
     "data": {
      "text/plain": [
       "{'drum': '드럼', 'guitar': '기타'}"
      ]
     },
     "execution_count": 36,
     "metadata": {},
     "output_type": "execute_result"
    }
   ],
   "source": [
    "#dict() 생성자로 생성\n",
    "\n",
    "#영어 사전을 dict() 사용해서 만드는 여러가지 방법\n",
    "\n",
    "d1 = dict(drum = '드럼',guitar = '기타') #키워드 전달인자\n",
    "d2 = dict({'drum' : '드럼','guitar' : '기타'}) #매핑형 전달인자\n",
    "d3 = dict([('drum' , '드럼'),('guitar' , '기타')]) #순회형 전달인자 (list of tuples)\n",
    "d4 = dict((['drum' , '드럼'],['guitar' , '기타'])) #순회형 전달인자 (tuple of lists)\n",
    "d5 = dict([['drum' , '드럼'],['guitar' , '기타']]) #순회형 전달인자 (list of lists)\n",
    "\n",
    "d1 == d2 == d3 == d4 == d5 #모두 같은 키:값?\n",
    "\n",
    "len(d1),len(d2),len(d3),len(d4),len(d5)\n",
    "\n",
    "d1 #키 는 유효한 파이썬 식별자여야 함\n",
    "\n",
    "d3"
   ]
  },
  {
   "cell_type": "code",
   "execution_count": 8,
   "metadata": {},
   "outputs": [
    {
     "data": {
      "text/plain": [
       "{'악기': ['드럼', '기타', '피리'],\n",
       " '가족': {1: '엄마', 2: '아빠', 3: '동생'},\n",
       " (8, 15): '광복절',\n",
       " 'RGB': [255, 72, 90],\n",
       " 'id': (),\n",
       " 0: 55,\n",
       " -307: None,\n",
       " 'fruits': set()}"
      ]
     },
     "execution_count": 8,
     "metadata": {},
     "output_type": "execute_result"
    },
    {
     "data": {
      "text/plain": [
       "['드럼', '기타', '피리']"
      ]
     },
     "execution_count": 8,
     "metadata": {},
     "output_type": "execute_result"
    },
    {
     "data": {
      "text/plain": [
       "55"
      ]
     },
     "execution_count": 8,
     "metadata": {},
     "output_type": "execute_result"
    },
    {
     "data": {
      "text/plain": [
       "'광복절'"
      ]
     },
     "execution_count": 8,
     "metadata": {},
     "output_type": "execute_result"
    },
    {
     "data": {
      "text/plain": [
       "{'악기': ['드럼', '기타', '피리'],\n",
       " '가족': {1: '엄마', 2: '아빠', 3: '동생'},\n",
       " (8, 15): '광복절',\n",
       " 'RGB': [255, 72, 90],\n",
       " 'id': (),\n",
       " 0: 55,\n",
       " -307: None,\n",
       " 'fruits': set()}"
      ]
     },
     "execution_count": 8,
     "metadata": {},
     "output_type": "execute_result"
    }
   ],
   "source": [
    "# 딕셔너리 인덱스 \n",
    "## 항목추가, 접근, 제거, 검색\n",
    "instrument = ['드럼','기타','피리']\n",
    "simple_dic = {1:'엄마',2:'아빠',3:'동생'}\n",
    "complex_dic = {\n",
    "    '악기':instrument,\n",
    "    '가족':simple_dic,\n",
    "    (8,15):'광복절',\n",
    "    'RGB':[255,72,90],\n",
    "    'id':(),\n",
    "    0:55,\n",
    "    -307:None,\n",
    "    'fruits': set()\n",
    "}\n",
    "\n",
    "complex_dic\n",
    "complex_dic['악기']\n",
    "complex_dic[0]\n",
    "complex_dic[(8,15)]\n",
    "\n",
    "complex_dic"
   ]
  },
  {
   "cell_type": "code",
   "execution_count": 9,
   "metadata": {},
   "outputs": [
    {
     "data": {
      "text/plain": [
       "{'악기': ['드럼', '기타', '피리', '베이스'],\n",
       " '가족': {1: '엄마', 2: '아빠', 3: '동생', 4: '동생'},\n",
       " (8, 15): '광복절',\n",
       " 'RGB': [255, 72, 90],\n",
       " 'id': (),\n",
       " 0: 55,\n",
       " -307: None,\n",
       " 'fruits': {'블루베리'},\n",
       " 'X': -258.42}"
      ]
     },
     "execution_count": 9,
     "metadata": {},
     "output_type": "execute_result"
    }
   ],
   "source": [
    "## 추가\n",
    "\n",
    "#key가 문자열 x인 항목 추가\n",
    "complex_dic['X'] = -258.42\n",
    "\n",
    "# key 가 가족(딕셔너리)인 항목에 {4:'동생'} 추가\n",
    "complex_dic['가족'][4] = '동생'\n",
    "\n",
    "# key 가 악기(리스트) 인 항목에 '베이스' 추가\n",
    "complex_dic['악기'].append('베이스')\n",
    "\n",
    "# key 가 fruits (셋) 인 항목에 '블루베리' 추가\n",
    "complex_dic['fruits'].add('블루베리')\n",
    "\n",
    "complex_dic"
   ]
  },
  {
   "cell_type": "code",
   "execution_count": 10,
   "metadata": {},
   "outputs": [
    {
     "data": {
      "text/plain": [
       "{'악기': ['드럼', '기타', '피리', '베이스'],\n",
       " '가족': {1: '엄마', 2: '아빠', 3: '동생', 4: '동생'},\n",
       " (8, 15): '광복절',\n",
       " 'RGB': [255, 72, 90],\n",
       " 0: 55,\n",
       " -307: None,\n",
       " 'fruits': {'블루베리'},\n",
       " 'X': -258.42}"
      ]
     },
     "execution_count": 10,
     "metadata": {},
     "output_type": "execute_result"
    }
   ],
   "source": [
    "## 제거\n",
    "# key가 'id'인 항목 제거\n",
    "del complex_dic['id']\n",
    "complex_dic"
   ]
  },
  {
   "cell_type": "code",
   "execution_count": 11,
   "metadata": {},
   "outputs": [
    {
     "data": {
      "text/plain": [
       "{'악기': ['드럼', '기타', '피리', '베이스'],\n",
       " '가족': {1: '엄마', 2: '아빠', 3: '동생', 4: '동생'},\n",
       " (8, 15): '광복절',\n",
       " 'RGB': [255, 72, 90],\n",
       " 0: 55,\n",
       " -307: '영하',\n",
       " 'fruits': {'블루베리'},\n",
       " 'X': -258.42}"
      ]
     },
     "execution_count": 11,
     "metadata": {},
     "output_type": "execute_result"
    },
    {
     "data": {
      "text/plain": [
       "{'악기': ['드럼', '기타', '피리', '베이스'],\n",
       " '가족': {1: '엄마', 2: '아빠', 3: '동생', 4: '동생'},\n",
       " (8, 15): '광복절',\n",
       " 'RGB': [255, 72, 90],\n",
       " 0: 55,\n",
       " -307: '영하',\n",
       " 'fruits': {'블루베리'},\n",
       " 'X': -258.42,\n",
       " 1: 55,\n",
       " 2: 55}"
      ]
     },
     "execution_count": 11,
     "metadata": {},
     "output_type": "execute_result"
    }
   ],
   "source": [
    "# 갱신(update)\n",
    "\n",
    "# key 가 -307 인 항목의 값(value)을 갱신(update)\n",
    "complex_dic[-307]='영하'\n",
    "complex_dic\n",
    "\n",
    "# key 만 다르면 값(value)은 중복이 가능\n",
    "complex_dic[1] = 55\n",
    "complex_dic[2] = 55\n",
    "complex_dic\n"
   ]
  },
  {
   "cell_type": "markdown",
   "metadata": {},
   "source": [
    "### # 딕셔너리 메소드\n",
    "\n",
    "d.clear\n",
    "    - 딕셔너리의 모든항목을 삭제\n",
    "d.copy\n",
    "    - 딕셔너리의 얕은 복사본을 반환\n",
    "d.keys\n",
    "d.values\n",
    "d.items\n",
    "d.fromkeys\n",
    "    - 키가 배열형 자료s의 항목이고 값이 none또는 v가 주어진 경우는 v인 딕셔너리를 반환\n",
    "\n",
    "d.get(k)\n",
    "d.get(k,v)\n",
    "    - 키의 값을 반환하는데 이때 키가 딕셔너리에 없는 경우 v 반환\n",
    "d.pop(k,v)\n",
    "    - 키의 값을 반환하고 키가 k인 항목을 삭제하는데 키가 없는 경우 keyerror\n",
    "    "
   ]
  },
  {
   "cell_type": "code",
   "execution_count": 12,
   "metadata": {},
   "outputs": [
    {
     "data": {
      "text/plain": [
       "{'악기': ['드럼', '기타', '피리', '베이스'],\n",
       " '가족': {1: '엄마', 2: '아빠', 3: '동생', 4: '동생'},\n",
       " (8, 15): '광복절',\n",
       " 'RGB': [255, 72, 90],\n",
       " 0: 55,\n",
       " -307: '영하',\n",
       " 'fruits': {'블루베리'},\n",
       " 'X': -258.42,\n",
       " 1: 55,\n",
       " 2: 55}"
      ]
     },
     "execution_count": 12,
     "metadata": {},
     "output_type": "execute_result"
    },
    {
     "data": {
      "text/plain": [
       "dict_keys(['악기', '가족', (8, 15), 'RGB', 0, -307, 'fruits', 'X', 1, 2])"
      ]
     },
     "execution_count": 12,
     "metadata": {},
     "output_type": "execute_result"
    },
    {
     "data": {
      "text/plain": [
       "dict_values([['드럼', '기타', '피리', '베이스'], {1: '엄마', 2: '아빠', 3: '동생', 4: '동생'}, '광복절', [255, 72, 90], 55, '영하', {'블루베리'}, -258.42, 55, 55])"
      ]
     },
     "execution_count": 12,
     "metadata": {},
     "output_type": "execute_result"
    },
    {
     "data": {
      "text/plain": [
       "dict_items([('악기', ['드럼', '기타', '피리', '베이스']), ('가족', {1: '엄마', 2: '아빠', 3: '동생', 4: '동생'}), ((8, 15), '광복절'), ('RGB', [255, 72, 90]), (0, 55), (-307, '영하'), ('fruits', {'블루베리'}), ('X', -258.42), (1, 55), (2, 55)])"
      ]
     },
     "execution_count": 12,
     "metadata": {},
     "output_type": "execute_result"
    },
    {
     "data": {
      "text/plain": [
       "('악기', '가족', (8, 15), 'RGB', 0, -307, 'fruits', 'X', 1, 2)"
      ]
     },
     "execution_count": 12,
     "metadata": {},
     "output_type": "execute_result"
    },
    {
     "data": {
      "text/plain": [
       "[('악기', ['드럼', '기타', '피리', '베이스']),\n",
       " ('가족', {1: '엄마', 2: '아빠', 3: '동생', 4: '동생'}),\n",
       " ((8, 15), '광복절'),\n",
       " ('RGB', [255, 72, 90]),\n",
       " (0, 55),\n",
       " (-307, '영하'),\n",
       " ('fruits', {'블루베리'}),\n",
       " ('X', -258.42),\n",
       " (1, 55),\n",
       " (2, 55)]"
      ]
     },
     "execution_count": 12,
     "metadata": {},
     "output_type": "execute_result"
    }
   ],
   "source": [
    "complex_dic\n",
    "complex_dic.keys()\n",
    "complex_dic.values()\n",
    "complex_dic.items()\n",
    "tuple(complex_dic.keys())\n",
    "list(complex_dic.items())"
   ]
  },
  {
   "cell_type": "code",
   "execution_count": 13,
   "metadata": {},
   "outputs": [
    {
     "data": {
      "text/plain": [
       "{'악기': ['드럼', '기타', '피리', '베이스'],\n",
       " '가족': {1: '엄마', 2: '아빠', 3: '동생', 4: '동생'},\n",
       " (8, 15): '광복절',\n",
       " 'RGB': [255, 72, 90],\n",
       " 0: 55,\n",
       " -307: '영하',\n",
       " 'fruits': {'블루베리'},\n",
       " 'X': -258.42,\n",
       " 1: 55,\n",
       " 2: 55}"
      ]
     },
     "execution_count": 13,
     "metadata": {},
     "output_type": "execute_result"
    },
    {
     "data": {
      "text/plain": [
       "[255, 72, 90]"
      ]
     },
     "execution_count": 13,
     "metadata": {},
     "output_type": "execute_result"
    },
    {
     "data": {
      "text/plain": [
       "[255, 72, 90]"
      ]
     },
     "execution_count": 13,
     "metadata": {},
     "output_type": "execute_result"
    }
   ],
   "source": [
    "complex_dic\n",
    "complex_dic['RGB']\n",
    "complex_dic.get('RGB')\n",
    "# complex_dic['Y']\n",
    "complex_dic.get('Y')"
   ]
  },
  {
   "cell_type": "code",
   "execution_count": 14,
   "metadata": {},
   "outputs": [
    {
     "data": {
      "text/plain": [
       "{'악기': ['드럼', '기타', '피리', '베이스'],\n",
       " '가족': {1: '엄마', 2: '아빠', 3: '동생', 4: '동생'},\n",
       " (8, 15): '광복절',\n",
       " 'RGB': [255, 72, 90],\n",
       " 0: 55,\n",
       " -307: '영하',\n",
       " 'fruits': {'블루베리'},\n",
       " 'X': -258.42,\n",
       " 1: 55,\n",
       " 2: 55}"
      ]
     },
     "execution_count": 14,
     "metadata": {},
     "output_type": "execute_result"
    },
    {
     "data": {
      "text/plain": [
       "-258.42"
      ]
     },
     "execution_count": 14,
     "metadata": {},
     "output_type": "execute_result"
    },
    {
     "data": {
      "text/plain": [
       "-258.42"
      ]
     },
     "execution_count": 14,
     "metadata": {},
     "output_type": "execute_result"
    },
    {
     "data": {
      "text/plain": [
       "12345"
      ]
     },
     "execution_count": 14,
     "metadata": {},
     "output_type": "execute_result"
    },
    {
     "data": {
      "text/plain": [
       "{'악기': ['드럼', '기타', '피리', '베이스'],\n",
       " '가족': {1: '엄마', 2: '아빠', 3: '동생', 4: '동생'},\n",
       " (8, 15): '광복절',\n",
       " 'RGB': [255, 72, 90],\n",
       " 0: 55,\n",
       " -307: '영하',\n",
       " 'fruits': {'블루베리'},\n",
       " 'X': -258.42,\n",
       " 1: 55,\n",
       " 2: 55}"
      ]
     },
     "execution_count": 14,
     "metadata": {},
     "output_type": "execute_result"
    }
   ],
   "source": [
    "complex_dic\n",
    "complex_dic.get('X')\n",
    "complex_dic.get('X',12345)\n",
    "complex_dic.get('Y',12345)\n",
    "complex_dic\n",
    "\n",
    "# complex_dic.clear()\n",
    "# complex_dic"
   ]
  },
  {
   "cell_type": "code",
   "execution_count": 60,
   "metadata": {},
   "outputs": [
    {
     "data": {
      "text/plain": [
       "{'악기': ['드럼', '기타', '피리', '베이스'],\n",
       " '가족': {1: '엄마', 2: '아빠', 3: '동생', 4: '동생'},\n",
       " (8, 15): '광복절',\n",
       " 'RGB': [255, 72, 90],\n",
       " 0: 55,\n",
       " -307: '영하',\n",
       " 'fruits': {'블루베리'},\n",
       " 'X': -258.42,\n",
       " 1: 55,\n",
       " 2: 55}"
      ]
     },
     "execution_count": 60,
     "metadata": {},
     "output_type": "execute_result"
    },
    {
     "data": {
      "text/plain": [
       "True"
      ]
     },
     "execution_count": 60,
     "metadata": {},
     "output_type": "execute_result"
    },
    {
     "data": {
      "text/plain": [
       "False"
      ]
     },
     "execution_count": 60,
     "metadata": {},
     "output_type": "execute_result"
    },
    {
     "data": {
      "text/plain": [
       "True"
      ]
     },
     "execution_count": 60,
     "metadata": {},
     "output_type": "execute_result"
    },
    {
     "data": {
      "text/plain": [
       "False"
      ]
     },
     "execution_count": 60,
     "metadata": {},
     "output_type": "execute_result"
    },
    {
     "data": {
      "text/plain": [
       "False"
      ]
     },
     "execution_count": 60,
     "metadata": {},
     "output_type": "execute_result"
    },
    {
     "data": {
      "text/plain": [
       "True"
      ]
     },
     "execution_count": 60,
     "metadata": {},
     "output_type": "execute_result"
    }
   ],
   "source": [
    "#멤버십 연산자\n",
    "# in / not in\n",
    "complex_dic\n",
    "\n",
    "#0이 키에 존재하는지 여부\n",
    "0 in complex_dic\n",
    "\n",
    "#광복절이 키에 존재하는지 여부\n",
    "'광복절' in complex_dic\n",
    "\n",
    "# 광복절이 벨류에 존재하는지 여부\n",
    "'광복절' in complex_dic.values()\n",
    "\n",
    "#가족이 키에 존재하지 않는지 여부\n",
    "'가족' not in complex_dic\n",
    "\n",
    "#드럼이 키에 존재하는지 여부\n",
    "'드럼' in complex_dic\n",
    "\n",
    "# 드럼이 악기에 존재하는지 여부\n",
    "'드럼' in complex_dic['악기']"
   ]
  },
  {
   "cell_type": "markdown",
   "metadata": {},
   "source": [
    "### 딕셔너리 축약\n",
    "    딕셔너리 축약이란?\n",
    "    \n",
    "    - 간결하게 딕셔너리를 생성하는 기법\n",
    "    중괄호로 묶은 표현식 {} 과 순환문을 통해 생성 / 필요에 따라 조건문"
   ]
  },
  {
   "cell_type": "code",
   "execution_count": 65,
   "metadata": {},
   "outputs": [
    {
     "data": {
      "text/plain": [
       "{-9: 81,\n",
       " -8: 64,\n",
       " -7: 49,\n",
       " -6: 36,\n",
       " -5: 25,\n",
       " -4: 16,\n",
       " -3: 9,\n",
       " -2: 4,\n",
       " -1: 1,\n",
       " 0: 0,\n",
       " 1: 1,\n",
       " 2: 4,\n",
       " 3: 9,\n",
       " 4: 16,\n",
       " 5: 25,\n",
       " 6: 36,\n",
       " 7: 49,\n",
       " 8: 64,\n",
       " 9: 81}"
      ]
     },
     "execution_count": 65,
     "metadata": {},
     "output_type": "execute_result"
    },
    {
     "data": {
      "text/plain": [
       "{'사과': 'apple',\n",
       " '블루베리': 'blueberry',\n",
       " '딸기': 'strawberry',\n",
       " '키위': 'kiwi',\n",
       " '바나나': 'banana',\n",
       " '포도': 'grape',\n",
       " '자두': 'plum'}"
      ]
     },
     "execution_count": 65,
     "metadata": {},
     "output_type": "execute_result"
    },
    {
     "data": {
      "text/plain": [
       "['apple', 'banana', 'blueberry', 'grape', 'kiwi', 'plum', 'strawberry']"
      ]
     },
     "execution_count": 65,
     "metadata": {},
     "output_type": "execute_result"
    }
   ],
   "source": [
    "#예시 딕셔너리 축약\n",
    "x = {i : pow(i,2) for i in range(-9,10)} #pow는 i를 2제곱\n",
    "x\n",
    "\n",
    "#한영 사전을 영한 사전으로 변환\n",
    "koreng = dict(사과 = 'apple', 블루베리 = 'blueberry', 딸기 ='strawberry', 키위='kiwi',바나나 = 'banana',포도='grape',자두='plum')\n",
    "koreng\n",
    "\n",
    "engkor = {v:k for k, v in koreng.items()}\n",
    "sorted(engkor)"
   ]
  },
  {
   "cell_type": "markdown",
   "metadata": {},
   "source": [
    "### 디폴트 딕셔너리"
   ]
  },
  {
   "cell_type": "code",
   "execution_count": 66,
   "metadata": {},
   "outputs": [
    {
     "ename": "KeyError",
     "evalue": "'name'",
     "output_type": "error",
     "traceback": [
      "\u001b[0;31m---------------------------------------------------------------------------\u001b[0m",
      "\u001b[0;31mKeyError\u001b[0m                                  Traceback (most recent call last)",
      "\u001b[0;32m<ipython-input-66-840e3769ab9d>\u001b[0m in \u001b[0;36m<module>\u001b[0;34m()\u001b[0m\n\u001b[1;32m      1\u001b[0m \u001b[0;31m#디폴트 딕셔너리의 기본활용\u001b[0m\u001b[0;34m\u001b[0m\u001b[0;34m\u001b[0m\u001b[0m\n\u001b[1;32m      2\u001b[0m \u001b[0md\u001b[0m \u001b[0;34m=\u001b[0m \u001b[0;34m{\u001b[0m\u001b[0;34m}\u001b[0m \u001b[0;31m#일반 딕셔너리\u001b[0m\u001b[0;34m\u001b[0m\u001b[0m\n\u001b[0;32m----> 3\u001b[0;31m \u001b[0mx\u001b[0m \u001b[0;34m=\u001b[0m \u001b[0md\u001b[0m\u001b[0;34m[\u001b[0m\u001b[0;34m'name'\u001b[0m\u001b[0;34m]\u001b[0m\u001b[0;34m\u001b[0m\u001b[0m\n\u001b[0m",
      "\u001b[0;31mKeyError\u001b[0m: 'name'"
     ]
    }
   ],
   "source": [
    "#디폴트 딕셔너리의 기본활용 \n",
    "d = {} #일반 딕셔너리\n",
    "x = d['name']"
   ]
  },
  {
   "cell_type": "code",
   "execution_count": 70,
   "metadata": {},
   "outputs": [
    {
     "data": {
      "text/plain": [
       "''"
      ]
     },
     "execution_count": 70,
     "metadata": {},
     "output_type": "execute_result"
    },
    {
     "data": {
      "text/plain": [
       "defaultdict(str, {'name': ''})"
      ]
     },
     "execution_count": 70,
     "metadata": {},
     "output_type": "execute_result"
    },
    {
     "data": {
      "text/plain": [
       "0"
      ]
     },
     "execution_count": 70,
     "metadata": {},
     "output_type": "execute_result"
    },
    {
     "data": {
      "text/plain": [
       "defaultdict(int, {'name': 0})"
      ]
     },
     "execution_count": 70,
     "metadata": {},
     "output_type": "execute_result"
    }
   ],
   "source": [
    "from collections import defaultdict\n",
    "dd1 = defaultdict(str)\n",
    "dd2 = defaultdict(int)\n",
    "\n",
    "x = dd1['name']\n",
    "x\n",
    "dd1\n",
    "\n",
    "y = dd2['name']\n",
    "y\n",
    "dd2"
   ]
  },
  {
   "cell_type": "code",
   "execution_count": 71,
   "metadata": {},
   "outputs": [
    {
     "data": {
      "text/plain": [
       "-1"
      ]
     },
     "execution_count": 71,
     "metadata": {},
     "output_type": "execute_result"
    },
    {
     "data": {
      "text/plain": [
       "defaultdict(<function __main__.<lambda>()>, {'잔액': -1})"
      ]
     },
     "execution_count": 71,
     "metadata": {},
     "output_type": "execute_result"
    },
    {
     "data": {
      "text/plain": [
       "(0, 0)"
      ]
     },
     "execution_count": 71,
     "metadata": {},
     "output_type": "execute_result"
    },
    {
     "data": {
      "text/plain": [
       "defaultdict(<function __main__.<lambda>()>, {'좌표': (0, 0)})"
      ]
     },
     "execution_count": 71,
     "metadata": {},
     "output_type": "execute_result"
    },
    {
     "data": {
      "text/plain": [
       "'남겨진 메시지가 없습니다.'"
      ]
     },
     "execution_count": 71,
     "metadata": {},
     "output_type": "execute_result"
    },
    {
     "data": {
      "text/plain": [
       "defaultdict(<function __main__.<lambda>()>, {'메시지': '남겨진 메시지가 없습니다.'})"
      ]
     },
     "execution_count": 71,
     "metadata": {},
     "output_type": "execute_result"
    }
   ],
   "source": [
    "# 예시 디폴트 딕셔너리의 활용\n",
    "from collections import defaultdict\n",
    "dd_int = defaultdict(lambda : -1)\n",
    "dd_point = defaultdict(lambda : (0,0))\n",
    "dd_msg = defaultdict(lambda : '남겨진 메시지가 없습니다.')\n",
    "\n",
    "x = dd_int['잔액']\n",
    "x\n",
    "dd_int\n",
    "\n",
    "y = dd_point['좌표']\n",
    "y\n",
    "dd_point\n",
    "\n",
    "z = dd_msg['메시지']\n",
    "z\n",
    "dd_msg"
   ]
  },
  {
   "cell_type": "code",
   "execution_count": 72,
   "metadata": {},
   "outputs": [
    {
     "data": {
      "text/plain": [
       "[('과일', ['블루베리', '사과']), ('악기', ['드럼', '베이스', '기타'])]"
      ]
     },
     "execution_count": 72,
     "metadata": {},
     "output_type": "execute_result"
    }
   ],
   "source": [
    "# 디폴트 딕셔너리의 응용 - 1\n",
    "item_list = [('과일','블루베리'),('악기','드럼'),\n",
    "            ('악기','베이스'),('과일','사과'),('악기','기타')]\n",
    "d = {}\n",
    "for k,v in item_list:\n",
    "    d.setdefault(k,[]).append(v)\n",
    "list(d.items())\n",
    "    "
   ]
  },
  {
   "cell_type": "code",
   "execution_count": 73,
   "metadata": {},
   "outputs": [
    {
     "data": {
      "text/plain": [
       "[('과일', ['블루베리', '사과']), ('악기', ['드럼', '베이스', '기타'])]"
      ]
     },
     "execution_count": 73,
     "metadata": {},
     "output_type": "execute_result"
    }
   ],
   "source": [
    "from collections import defaultdict\n",
    "item_list = [('과일','블루베리'),('악기','드럼'),\n",
    "            ('악기','베이스'),('과일','사과'),('악기','기타')]\n",
    "dd = defaultdict(list)\n",
    "for k,v in item_list:\n",
    "    dd[k].append(v)\n",
    "list(dd.items())"
   ]
  },
  {
   "cell_type": "code",
   "execution_count": 74,
   "metadata": {},
   "outputs": [
    {
     "data": {
      "text/plain": [
       "[('과일', {'블루베리', '사과'}), ('악기', {'기타', '드럼', '베이스'})]"
      ]
     },
     "execution_count": 74,
     "metadata": {},
     "output_type": "execute_result"
    }
   ],
   "source": [
    "# 예시 : 디폴트 딕셔너리의 응용 2\n",
    "from collections import defaultdict\n",
    "item_list = [('과일','블루베리'),('악기','드럼'),\n",
    "            ('악기','베이스'),('과일','사과'),('악기','기타')]\n",
    "dd = defaultdict(set)\n",
    "for k,v in item_list:\n",
    "    dd[k].add(v)\n",
    "list(dd.items())"
   ]
  },
  {
   "cell_type": "code",
   "execution_count": 76,
   "metadata": {},
   "outputs": [
    {
     "data": {
      "text/plain": [
       "[('과일', 2), ('악기', 3)]"
      ]
     },
     "execution_count": 76,
     "metadata": {},
     "output_type": "execute_result"
    }
   ],
   "source": [
    "# 예시 : 디폴트 딕셔너리의 응용 2\n",
    "from collections import defaultdict\n",
    "item_list = [('과일','블루베리'),('악기','드럼'),\n",
    "            ('악기','베이스'),('과일','사과'),('악기','기타')]\n",
    "dd = defaultdict(int)\n",
    "for e1,e2 in item_list:\n",
    "    dd[e1]+=1\n",
    "list(dd.items())"
   ]
  },
  {
   "cell_type": "markdown",
   "metadata": {},
   "source": [
    "### 순서가 있는 딕셔너리\n",
    "순서가 있는 딕셔너리랑?\n",
    "    collection.orderdict([items])\n",
    "    \n",
    "    일반딕셔너리의 차이점\n",
    "    \n",
    "        - 항목을 저장하는 방식\n",
    "        순서가 있는 딕셔너리는 항목이 추가된 순서대로 항목저장\n",
    "        \n",
    "        -popitem\n",
    "        일반딕셔너리와 다르게 작동\n",
    "            last = F 일경우 선입선출 \n",
    "            last = T 일 경우 후입선출 방식으로 (키,값) 반환\n",
    "\n",
    "    언제 사용?\n",
    "        - 여러번에 걸쳐 딕셔너리를 순회하는 경우\n",
    "        - 정렬된 딕셔너리 생성후, 더이상 항목을 추가하지 않거나 \n",
    "        매우 적은 수의 항목만을 추가"
   ]
  },
  {
   "cell_type": "code",
   "execution_count": 78,
   "metadata": {},
   "outputs": [
    {
     "data": {
      "text/plain": [
       "OrderedDict([('기타', 11), ('드럼', 3), ('베이스', 5), ('색소폰', 1), ('키보드', 2)])"
      ]
     },
     "execution_count": 78,
     "metadata": {},
     "output_type": "execute_result"
    },
    {
     "data": {
      "text/plain": [
       "OrderedDict([('드럼', 3), ('기타', 11), ('키보드', 2), ('베이스', 5), ('색소폰', 1)])"
      ]
     },
     "execution_count": 78,
     "metadata": {},
     "output_type": "execute_result"
    },
    {
     "data": {
      "text/plain": [
       "OrderedDict([('색소폰', 1), ('키보드', 2), ('드럼', 3), ('베이스', 5), ('기타', 11)])"
      ]
     },
     "execution_count": 78,
     "metadata": {},
     "output_type": "execute_result"
    }
   ],
   "source": [
    "# 예시 : 순서가 있는 딕셔너리의 활용\n",
    "stock = dict(키보드 =2,드럼=3,기타=11,베이스=5, 색소폰=1 ) #일반딕셔너리\n",
    "\n",
    "from collections import OrderedDict\n",
    "OrderedDict(sorted(stock.items())) #키로 정렬된 순서가 있는 사전생성\n",
    "OrderedDict(sorted(stock.items(),key = lambda e: len(e[0]))) # 키 문자열의 길이로 정렬된 순서가 잇는 사전 생성\n",
    "OrderedDict(sorted(stock.items(),key = lambda e: e[1])) #값으로 정렬된 순서가 있는 사전생성"
   ]
  },
  {
   "cell_type": "code",
   "execution_count": 82,
   "metadata": {},
   "outputs": [
    {
     "data": {
      "text/plain": [
       "OrderedDict([('바나나', 25), ('블루베리', 51), ('사과', 19)])"
      ]
     },
     "execution_count": 82,
     "metadata": {},
     "output_type": "execute_result"
    },
    {
     "data": {
      "text/plain": [
       "OrderedDict([('사과', 19), ('바나나', 25), ('블루베리', 51)])"
      ]
     },
     "execution_count": 82,
     "metadata": {},
     "output_type": "execute_result"
    },
    {
     "data": {
      "text/plain": [
       "OrderedDict([('블루베리', 51), ('바나나', 25), ('사과', 19)])"
      ]
     },
     "execution_count": 82,
     "metadata": {},
     "output_type": "execute_result"
    }
   ],
   "source": [
    "fruit = [('블루베리',51),('사과',19),('바나나',25)] #튜플을 항목으로 가지고 있는 리스트\n",
    "\n",
    "from collections import OrderedDict\n",
    "\n",
    "OrderedDict(sorted(fruit)) #키로 정렬된 순서가 있는 사전생성\n",
    "OrderedDict(sorted(fruit,key = lambda e: len(e[0]))) # 키 문자열의 길이로 정렬된 순서가 잇는 사전 생성\n",
    "OrderedDict(sorted(fruit,key = lambda e: e[1], reverse=True)) #재고가 많은 과일 순으로 정렬된 순서가 있는 사전생성"
   ]
  },
  {
   "cell_type": "code",
   "execution_count": 85,
   "metadata": {},
   "outputs": [
    {
     "data": {
      "text/plain": [
       "[(1, '이메일 확인 및 답변'),\n",
       " (2, '강의준비'),\n",
       " (3, '강의 자료 올리기'),\n",
       " (4, '백업'),\n",
       " (5, '점심'),\n",
       " (6, '강의'),\n",
       " (7, '면담')]"
      ]
     },
     "execution_count": 85,
     "metadata": {},
     "output_type": "execute_result"
    },
    {
     "data": {
      "text/plain": [
       "(7, '면담')"
      ]
     },
     "execution_count": 85,
     "metadata": {},
     "output_type": "execute_result"
    },
    {
     "data": {
      "text/plain": [
       "['이메일 확인 및 답변', '강의준비', '강의 자료 올리기', '백업', '점심', '강의']"
      ]
     },
     "execution_count": 85,
     "metadata": {},
     "output_type": "execute_result"
    },
    {
     "data": {
      "text/plain": [
       "(1, '이메일 확인 및 답변')"
      ]
     },
     "execution_count": 85,
     "metadata": {},
     "output_type": "execute_result"
    },
    {
     "data": {
      "text/plain": [
       "['강의준비', '강의 자료 올리기', '백업', '점심', '강의']"
      ]
     },
     "execution_count": 85,
     "metadata": {},
     "output_type": "execute_result"
    },
    {
     "data": {
      "text/plain": [
       "[(2, '강의준비'), (3, '강의 자료 올리기'), (4, '백업'), (5, '점심'), (6, '강의')]"
      ]
     },
     "execution_count": 85,
     "metadata": {},
     "output_type": "execute_result"
    },
    {
     "data": {
      "text/plain": [
       "['백업', '강의', '점심', '강의준비', '강의 자료 올리기']"
      ]
     },
     "execution_count": 85,
     "metadata": {},
     "output_type": "execute_result"
    }
   ],
   "source": [
    "# 순서가 있는 딕셔너리의 응용 2\n",
    "from collections import OrderedDict\n",
    "task = OrderedDict()\n",
    "\n",
    "task[1] = '이메일 확인 및 답변'\n",
    "task[2] = '강의준비'\n",
    "task[3] = '강의 자료 올리기'\n",
    "task[4] = '백업'\n",
    "task[5] = '점심'\n",
    "task[6] = '강의'\n",
    "task[7] = '면담'\n",
    "\n",
    "list(task.items())\n",
    "task.popitem()\n",
    "list(task.values())\n",
    "\n",
    "task.popitem(last=False)\n",
    "list(task.values())\n",
    "list(task.items())\n",
    "\n",
    "task.move_to_end(4)\n",
    "task.move_to_end(3,last=False)\n",
    "\n",
    "list(reversed(task.values()))\n"
   ]
  },
  {
   "cell_type": "markdown",
   "metadata": {},
   "source": [
    "## 얕은 복사와 깊은 복사\n",
    "복사하는 방법\n",
    "    1. 할당(객체참조)\n",
    "    2. 얕은 복사 (shallow copy)\n",
    "    3. 깊은 복사 (deep copy)\n",
    "    "
   ]
  },
  {
   "cell_type": "markdown",
   "metadata": {},
   "source": [
    "#### 1. 할당\n",
    "\n",
    "실제로 해당 객체 자체를 복사하는 것이 아니라\n",
    "해당 객체에 대한 객체참조를 복사"
   ]
  },
  {
   "cell_type": "code",
   "execution_count": 86,
   "metadata": {},
   "outputs": [
    {
     "data": {
      "text/plain": [
       "['블루베리', '사과', '바나나']"
      ]
     },
     "execution_count": 86,
     "metadata": {},
     "output_type": "execute_result"
    },
    {
     "data": {
      "text/plain": [
       "[1, 2, 3]"
      ]
     },
     "execution_count": 86,
     "metadata": {},
     "output_type": "execute_result"
    },
    {
     "data": {
      "text/plain": [
       "['블루베리', '사과', '바나나']"
      ]
     },
     "execution_count": 86,
     "metadata": {},
     "output_type": "execute_result"
    },
    {
     "data": {
      "text/plain": [
       "['블루베리', '사과', '바나나', '포도']"
      ]
     },
     "execution_count": 86,
     "metadata": {},
     "output_type": "execute_result"
    },
    {
     "data": {
      "text/plain": [
       "[1, 2, 3]"
      ]
     },
     "execution_count": 86,
     "metadata": {},
     "output_type": "execute_result"
    },
    {
     "data": {
      "text/plain": [
       "['블루베리', '사과', '바나나', '포도']"
      ]
     },
     "execution_count": 86,
     "metadata": {},
     "output_type": "execute_result"
    },
    {
     "data": {
      "text/plain": [
       "[1, 2, 3]"
      ]
     },
     "execution_count": 86,
     "metadata": {},
     "output_type": "execute_result"
    },
    {
     "data": {
      "text/plain": [
       "[1, 2, 3]"
      ]
     },
     "execution_count": 86,
     "metadata": {},
     "output_type": "execute_result"
    },
    {
     "data": {
      "text/plain": [
       "['블루베리', '사과', '바나나', '포도']"
      ]
     },
     "execution_count": 86,
     "metadata": {},
     "output_type": "execute_result"
    },
    {
     "data": {
      "text/plain": [
       "[1, 2, 7]"
      ]
     },
     "execution_count": 86,
     "metadata": {},
     "output_type": "execute_result"
    },
    {
     "data": {
      "text/plain": [
       "[1, 2, 7]"
      ]
     },
     "execution_count": 86,
     "metadata": {},
     "output_type": "execute_result"
    },
    {
     "data": {
      "text/plain": [
       "['블루베리', '사과', '바나나', '포도']"
      ]
     },
     "execution_count": 86,
     "metadata": {},
     "output_type": "execute_result"
    }
   ],
   "source": [
    "list1 = ['블루베리','사과','바나나']\n",
    "list2 = [1,2,3]\n",
    "list3 = list1\n",
    "\n",
    "list1\n",
    "list2\n",
    "list3\n",
    "\n",
    "list3.append('포도')\n",
    "list3\n",
    "list2\n",
    "list1\n",
    "\n",
    "list1 = list2\n",
    "list1\n",
    "list2\n",
    "list3\n",
    "\n",
    "list2[-1] = 7\n",
    "list2\n",
    "list1\n",
    "list3"
   ]
  },
  {
   "cell_type": "markdown",
   "metadata": {},
   "source": [
    "#항등연산자\n",
    "    \n",
    "    is /  is not\n",
    "    좌/우변의 변수가 같은 객체를 참조하고 있을때 T\n",
    "\n",
    "    언제 사용?\n",
    "    - 객체가 비어있는지 할당되어 잇는지 여부확인\n",
    "    - 각각의 변수가 동일한 객체를 가리키고 있는지 확인\n",
    "    \n",
    "    장점 : 객체의 메모리 주소값만을 비교 -> 처리속도가 더빠름\n",
    "   \n"
   ]
  },
  {
   "cell_type": "code",
   "execution_count": 88,
   "metadata": {},
   "outputs": [
    {
     "data": {
      "text/plain": [
       "False"
      ]
     },
     "execution_count": 88,
     "metadata": {},
     "output_type": "execute_result"
    },
    {
     "data": {
      "text/plain": [
       "True"
      ]
     },
     "execution_count": 88,
     "metadata": {},
     "output_type": "execute_result"
    },
    {
     "data": {
      "text/plain": [
       "False"
      ]
     },
     "execution_count": 88,
     "metadata": {},
     "output_type": "execute_result"
    },
    {
     "data": {
      "text/plain": [
       "True"
      ]
     },
     "execution_count": 88,
     "metadata": {},
     "output_type": "execute_result"
    },
    {
     "data": {
      "text/plain": [
       "False"
      ]
     },
     "execution_count": 88,
     "metadata": {},
     "output_type": "execute_result"
    },
    {
     "data": {
      "text/plain": [
       "True"
      ]
     },
     "execution_count": 88,
     "metadata": {},
     "output_type": "execute_result"
    },
    {
     "data": {
      "text/plain": [
       "False"
      ]
     },
     "execution_count": 88,
     "metadata": {},
     "output_type": "execute_result"
    },
    {
     "data": {
      "text/plain": [
       "True"
      ]
     },
     "execution_count": 88,
     "metadata": {},
     "output_type": "execute_result"
    },
    {
     "name": "stdout",
     "output_type": "stream",
     "text": [
      "[1, 2, 3, 4] [1, 2, 3] [1, 2, 3, 4]\n"
     ]
    }
   ],
   "source": [
    "#예시 - 항등 연산자\n",
    "s1 = '초급자를 위한 파이썬'\n",
    "s2 = '초급자를 위한 파이썬'\n",
    "s3 = s1\n",
    "\n",
    "s1 is s2\n",
    "s1 is s3\n",
    "\n",
    "n1 = 123456789\n",
    "n2 = 123456789\n",
    "n3 = n1\n",
    "n1 is n2\n",
    "n1 is n3\n",
    "\n",
    "list1 = [1,2,3]\n",
    "list2 = [1,2,3]\n",
    "list3 = list1\n",
    "list1 is list2\n",
    "list1 is list3\n",
    "\n",
    "tuple1 = 1,2,3\n",
    "tuple2 = 1,2,3\n",
    "tuple3 = tuple1\n",
    "tuple1 is tuple2\n",
    "tuple3 is tuple1\n",
    "\n",
    "list3.append(4)\n",
    "print(list1,list2,list3)"
   ]
  },
  {
   "cell_type": "markdown",
   "metadata": {},
   "source": [
    "#### 2. 얕은 복사\n",
    "\n",
    "    불변자료형의 경우\n",
    "\n",
    "    가변자료형의 경우\n",
    "        - 중첩 복합자료형이 아닌 경우\n",
    "\n",
    "    방법\n",
    "        - 분할 [:]\n",
    "        - 복합자료형 .copy()메소드\n",
    "        - 복합자료형 생성자\n",
    "        - copy 함수"
   ]
  },
  {
   "cell_type": "code",
   "execution_count": 5,
   "metadata": {},
   "outputs": [
    {
     "data": {
      "text/plain": [
       "True"
      ]
     },
     "execution_count": 5,
     "metadata": {},
     "output_type": "execute_result"
    },
    {
     "name": "stdout",
     "output_type": "stream",
     "text": [
      "[1, 2, '드럼'] [1, 2, '드럼']\n"
     ]
    },
    {
     "data": {
      "text/plain": [
       "False"
      ]
     },
     "execution_count": 5,
     "metadata": {},
     "output_type": "execute_result"
    },
    {
     "data": {
      "text/plain": [
       "[1, 2, '드럼']"
      ]
     },
     "execution_count": 5,
     "metadata": {},
     "output_type": "execute_result"
    },
    {
     "data": {
      "text/plain": [
       "[1, 2, '드럼']"
      ]
     },
     "execution_count": 5,
     "metadata": {},
     "output_type": "execute_result"
    },
    {
     "name": "stdout",
     "output_type": "stream",
     "text": [
      "[1, 2, '드럼'] [1, 2, '드럼'] ['기타', 2, '드럼']\n"
     ]
    }
   ],
   "source": [
    "# 얕은 복사 : 분할 [:]\n",
    "x = [1,2,3]\n",
    "y = x\n",
    "y is x #할당복사\n",
    "\n",
    "y[-1] = '드럼'\n",
    "print(x,y)\n",
    "\n",
    "z = x[:]\n",
    "z is x\n",
    "z\n",
    "x\n",
    "\n",
    "z[0] = '기타'\n",
    "print(x,y,z)"
   ]
  },
  {
   "cell_type": "code",
   "execution_count": 7,
   "metadata": {},
   "outputs": [
    {
     "data": {
      "text/plain": [
       "True"
      ]
     },
     "execution_count": 7,
     "metadata": {},
     "output_type": "execute_result"
    },
    {
     "name": "stdout",
     "output_type": "stream",
     "text": [
      "[1, 2, [4, 5, '드럼']] [1, 2, [4, 5, '드럼']]\n"
     ]
    },
    {
     "data": {
      "text/plain": [
       "False"
      ]
     },
     "execution_count": 7,
     "metadata": {},
     "output_type": "execute_result"
    },
    {
     "data": {
      "text/plain": [
       "[1, 2, [4, 5, '드럼']]"
      ]
     },
     "execution_count": 7,
     "metadata": {},
     "output_type": "execute_result"
    },
    {
     "data": {
      "text/plain": [
       "[1, 2, [4, 5, '드럼']]"
      ]
     },
     "execution_count": 7,
     "metadata": {},
     "output_type": "execute_result"
    },
    {
     "name": "stdout",
     "output_type": "stream",
     "text": [
      "[1, 2, [4, 5, '기타']] [1, 2, [4, 5, '기타']] [1, 2, [4, 5, '기타']]\n"
     ]
    }
   ],
   "source": [
    "# 얕은 복사 : 분할 [:]\n",
    "x = [1,2,[4,5,6]]\n",
    "y = x\n",
    "y is x #할당복사\n",
    "\n",
    "y[-1][-1] = '드럼'\n",
    "print(x,y)\n",
    "\n",
    "z = x[:]\n",
    "z is x\n",
    "z\n",
    "x\n",
    "\n",
    "z[-1][-1] = '기타'\n",
    "print(x,y,z)"
   ]
  },
  {
   "cell_type": "code",
   "execution_count": 94,
   "metadata": {},
   "outputs": [
    {
     "data": {
      "text/plain": [
       "True"
      ]
     },
     "execution_count": 94,
     "metadata": {},
     "output_type": "execute_result"
    },
    {
     "name": "stdout",
     "output_type": "stream",
     "text": [
      "[1, 2, '드럼'] [1, 2, '드럼']\n"
     ]
    },
    {
     "data": {
      "text/plain": [
       "False"
      ]
     },
     "execution_count": 94,
     "metadata": {},
     "output_type": "execute_result"
    },
    {
     "name": "stdout",
     "output_type": "stream",
     "text": [
      "[1, 2, '드럼'] [1, 2, '드럼'] ['기타', 2, '드럼']\n"
     ]
    }
   ],
   "source": [
    "# 얕은 복사 : 복합자료형 copy()메소드\n",
    "x = [1,2,3]\n",
    "y = x\n",
    "y is x\n",
    "\n",
    "y[-1] = '드럼'\n",
    "print(x,y)\n",
    "\n",
    "z = x.copy() #copy 메소드로 얕은 복사\n",
    "z is x\n",
    "\n",
    "z[0] = '기타'\n",
    "print(x,y,z)\n"
   ]
  },
  {
   "cell_type": "code",
   "execution_count": 96,
   "metadata": {},
   "outputs": [
    {
     "data": {
      "text/plain": [
       "True"
      ]
     },
     "execution_count": 96,
     "metadata": {},
     "output_type": "execute_result"
    },
    {
     "name": "stdout",
     "output_type": "stream",
     "text": [
      "[1, 2, '드럼'] [1, 2, '드럼']\n"
     ]
    },
    {
     "data": {
      "text/plain": [
       "False"
      ]
     },
     "execution_count": 96,
     "metadata": {},
     "output_type": "execute_result"
    },
    {
     "name": "stdout",
     "output_type": "stream",
     "text": [
      "[1, 2, '드럼'] [1, 2, '드럼'] ['기타', 2, '드럼']\n"
     ]
    }
   ],
   "source": [
    "# 얕은 복사 : 복합자료형 생성자\n",
    "x = [1,2,3]\n",
    "y = x\n",
    "y is x\n",
    "\n",
    "y[-1] = '드럼'\n",
    "print(x,y)\n",
    "\n",
    "z = list(x)\n",
    "z is x\n",
    "\n",
    "z[0] = '기타'\n",
    "print(x,y,z)\n"
   ]
  },
  {
   "cell_type": "code",
   "execution_count": 98,
   "metadata": {},
   "outputs": [
    {
     "data": {
      "text/plain": [
       "True"
      ]
     },
     "execution_count": 98,
     "metadata": {},
     "output_type": "execute_result"
    },
    {
     "name": "stdout",
     "output_type": "stream",
     "text": [
      "[1, 2, '드럼'] [1, 2, '드럼']\n"
     ]
    },
    {
     "data": {
      "text/plain": [
       "False"
      ]
     },
     "execution_count": 98,
     "metadata": {},
     "output_type": "execute_result"
    },
    {
     "name": "stdout",
     "output_type": "stream",
     "text": [
      "[1, 2, '드럼'] [1, 2, '드럼'] ['기타', 2, '드럼']\n"
     ]
    }
   ],
   "source": [
    "# 얕은 복사 : copy.copy() 함수\n",
    "import copy\n",
    "x = [1,2,3]\n",
    "y = x\n",
    "y is x #할당복사\n",
    "\n",
    "y[-1] = '드럼'\n",
    "print(x,y)\n",
    "\n",
    "z = copy.copy(x)\n",
    "z is x\n",
    "\n",
    "z[0] = '기타'\n",
    "print(x,y,z)"
   ]
  },
  {
   "cell_type": "markdown",
   "metadata": {},
   "source": [
    "#중첩복합자료형의 얕은 복사\n",
    "    \n",
    "    문제점\n",
    "    - 중첩복합 자료형을 얕은 복사할 중첩된 복합자료형은\n",
    "    원본 복합자료형과 복사되 복합 자료형 모두에 의해 참조됨\n",
    "    \n",
    "    ==> 깊은 복사"
   ]
  },
  {
   "cell_type": "markdown",
   "metadata": {},
   "source": [
    "#### 3. 깊은복사\n",
    "임의 중첩된 복합자료형 전체를 별도의 복사본으로 생성함\n",
    "deepcopy() 사용"
   ]
  },
  {
   "cell_type": "code",
   "execution_count": 99,
   "metadata": {},
   "outputs": [
    {
     "data": {
      "text/plain": [
       "False"
      ]
     },
     "execution_count": 99,
     "metadata": {},
     "output_type": "execute_result"
    },
    {
     "data": {
      "text/plain": [
       "True"
      ]
     },
     "execution_count": 99,
     "metadata": {},
     "output_type": "execute_result"
    }
   ],
   "source": [
    "import copy\n",
    "x = [1,2,['드럼','기타','베이스']]\n",
    "y = copy.deepcopy(x)\n",
    "\n",
    "y is x\n",
    "y == x"
   ]
  },
  {
   "cell_type": "code",
   "execution_count": 100,
   "metadata": {},
   "outputs": [
    {
     "data": {
      "text/plain": [
       "['Python', 2, ['드럼', '기타', '베이스']]"
      ]
     },
     "execution_count": 100,
     "metadata": {},
     "output_type": "execute_result"
    },
    {
     "data": {
      "text/plain": [
       "[1, 2, ['드럼', '기타', '키보드']]"
      ]
     },
     "execution_count": 100,
     "metadata": {},
     "output_type": "execute_result"
    }
   ],
   "source": [
    "x[0] ='Python'\n",
    "y[-1][-1] = '키보드'\n",
    "x\n",
    "y"
   ]
  },
  {
   "cell_type": "markdown",
   "metadata": {},
   "source": [
    "#### 복합자료형 순회연산자와 함수"
   ]
  },
  {
   "cell_type": "code",
   "execution_count": 103,
   "metadata": {},
   "outputs": [
    {
     "data": {
      "text/plain": [
       "(True, True, 5, 25, -2, 9)"
      ]
     },
     "execution_count": 103,
     "metadata": {},
     "output_type": "execute_result"
    },
    {
     "data": {
      "text/plain": [
       "[7, -2, 8, 3, 9, 0]"
      ]
     },
     "execution_count": 103,
     "metadata": {},
     "output_type": "execute_result"
    },
    {
     "data": {
      "text/plain": [
       "(False, True, 6, 25, -2, 9)"
      ]
     },
     "execution_count": 103,
     "metadata": {},
     "output_type": "execute_result"
    }
   ],
   "source": [
    "# 예시 : 순회형 함수\n",
    "# all(x),any(x),len(x),sum(x),min(x),max(x)\n",
    "\n",
    "x = [7,-2,8,3,9]\n",
    "all(x),any(x),len(x),sum(x),min(x),max(x)\n",
    "\n",
    "x.append(0)\n",
    "x\n",
    "\n",
    "all(x),any(x),len(x),sum(x),min(x),max(x)"
   ]
  },
  {
   "cell_type": "code",
   "execution_count": 104,
   "metadata": {},
   "outputs": [
    {
     "data": {
      "text/plain": [
       "[0, 1, 2, 3, 4, 5]"
      ]
     },
     "execution_count": 104,
     "metadata": {},
     "output_type": "execute_result"
    },
    {
     "data": {
      "text/plain": [
       "<list_reverseiterator at 0x10e59be48>"
      ]
     },
     "execution_count": 104,
     "metadata": {},
     "output_type": "execute_result"
    },
    {
     "data": {
      "text/plain": [
       "[5, 4, 3, 2, 1, 0]"
      ]
     },
     "execution_count": 104,
     "metadata": {},
     "output_type": "execute_result"
    }
   ],
   "source": [
    "# 예시 순회형 함수\n",
    "# reversed()\n",
    "\n",
    "L = list(range(6))\n",
    "L\n",
    "\n",
    "reversed(L)\n",
    "\n",
    "list(reversed(L))"
   ]
  },
  {
   "cell_type": "code",
   "execution_count": 106,
   "metadata": {},
   "outputs": [
    {
     "data": {
      "text/plain": [
       "[-9, 0, -7, 2, -5, 4, -3, 6, -1, 8]"
      ]
     },
     "execution_count": 106,
     "metadata": {},
     "output_type": "execute_result"
    },
    {
     "data": {
      "text/plain": [
       "[-9, -7, -5, -3, -1, 0, 2, 4, 6, 8]"
      ]
     },
     "execution_count": 106,
     "metadata": {},
     "output_type": "execute_result"
    },
    {
     "data": {
      "text/plain": [
       "[8, 6, 4, 2, 0, -1, -3, -5, -7, -9]"
      ]
     },
     "execution_count": 106,
     "metadata": {},
     "output_type": "execute_result"
    },
    {
     "data": {
      "text/plain": [
       "[0, -1, 2, -3, 4, -5, 6, -7, 8, -9]"
      ]
     },
     "execution_count": 106,
     "metadata": {},
     "output_type": "execute_result"
    },
    {
     "data": {
      "text/plain": [
       "['Cup', 'Kitchen', 'Soup', 'Yang', 'school']"
      ]
     },
     "execution_count": 106,
     "metadata": {},
     "output_type": "execute_result"
    },
    {
     "data": {
      "text/plain": [
       "['Cup', 'Kitchen', 'school', 'Soup', 'Yang']"
      ]
     },
     "execution_count": 106,
     "metadata": {},
     "output_type": "execute_result"
    }
   ],
   "source": [
    "# 예시 순회형 함수\n",
    "# sorted()\n",
    "x = []\n",
    "for i in zip(range(-9,0,2),range(0,10,2)):\n",
    "    x += i\n",
    "\n",
    "x\n",
    "\n",
    "sorted(x)\n",
    "sorted(x,reverse=True)\n",
    "sorted(x, key=abs)\n",
    "\n",
    "s = ['Soup','Yang','school','Cup','Kitchen']\n",
    "sorted(s)\n",
    "sorted(s, key=str.lower)"
   ]
  },
  {
   "cell_type": "code",
   "execution_count": null,
   "metadata": {},
   "outputs": [],
   "source": []
  },
  {
   "cell_type": "code",
   "execution_count": null,
   "metadata": {},
   "outputs": [],
   "source": []
  },
  {
   "cell_type": "code",
   "execution_count": null,
   "metadata": {},
   "outputs": [],
   "source": []
  }
 ],
 "metadata": {
  "kernelspec": {
   "display_name": "Python 3",
   "language": "python",
   "name": "python3"
  },
  "language_info": {
   "codemirror_mode": {
    "name": "ipython",
    "version": 3
   },
   "file_extension": ".py",
   "mimetype": "text/x-python",
   "name": "python",
   "nbconvert_exporter": "python",
   "pygments_lexer": "ipython3",
   "version": "3.6.5"
  }
 },
 "nbformat": 4,
 "nbformat_minor": 2
}
