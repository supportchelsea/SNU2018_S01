{
 "cells": [
  {
   "cell_type": "markdown",
   "metadata": {},
   "source": [
    "# [chaptetr] 5 함수"
   ]
  },
  {
   "cell_type": "code",
   "execution_count": 2,
   "metadata": {},
   "outputs": [],
   "source": [
    "from IPython.core.interactiveshell import InteractiveShell\n",
    "InteractiveShell.ast_node_interactivity = \"all\""
   ]
  },
  {
   "cell_type": "markdown",
   "metadata": {},
   "source": [
    "## 1. 함수의 기초 개념\n",
    "## 2. 함수의 종류\n",
    "## 3. 재귀함수\n",
    "## 4. 함수의 특성\n",
    "- 보이드함수 vs. 값 반환함수\n",
    "- 전달인자와 매개변수\n",
    "- 범위와 가시성\n",
    "\n",
    "## 5. 함수 문서화"
   ]
  },
  {
   "cell_type": "markdown",
   "metadata": {},
   "source": [
    "## 1. 함수의 기초개념\n",
    "\n",
    "- 함수란?\n",
    "    - 함수란 재사용이 가능한 일련의 명령문 묶음\n",
    "    - 특정 작업을 함수로 정의함으로 코드의 재활용성을 높임\n",
    "            => 프로시저, 메소드 서브루틴등으로도 불림\n",
    "\n",
    "- 사용자 함수란?\n",
    "    - 사용자가 직접 정의한 함수\n",
    "\n",
    "- 함수의 구성요소\n",
    "    - 함수이름 + 일련의 명령문\n",
    "    \n",
    "   => 함수를 사용하면 복잡한 단계를 모듈화"
   ]
  },
  {
   "cell_type": "markdown",
   "metadata": {},
   "source": [
    "- 모듈화\n",
    "    - 모듈화란 ?\n",
    "    - : 하나의 프로그램을 구성하는 단위\n",
    "    \n"
   ]
  },
  {
   "cell_type": "code",
   "execution_count": 18,
   "metadata": {},
   "outputs": [
    {
     "name": "stdout",
     "output_type": "stream",
     "text": [
      "몇 살이세요? 25\n",
      "내년에 26살이 되시는군요.\n",
      "가격을 입력하세요...: 2.99\n"
     ]
    },
    {
     "data": {
      "text/plain": [
       "2.99"
      ]
     },
     "execution_count": 18,
     "metadata": {},
     "output_type": "execute_result"
    }
   ],
   "source": [
    "# 중첩함수 호출\n",
    "age = input('몇 살이세요? ')\n",
    "print('내년에 '+str(int(age)+1)+'살이 되시는군요.')\n",
    "price = float(input('가격을 입력하세요...: '))\n",
    "price\n"
   ]
  },
  {
   "cell_type": "code",
   "execution_count": 3,
   "metadata": {},
   "outputs": [],
   "source": [
    "# 사용자 함수 정의\n",
    "def hi():\n",
    "    print('안녕하세요 교수님')\n",
    "def emily():\n",
    "    print('제 이름은 emily입니다.')\n",
    "def john():\n",
    "    print('제 이름은 john입니다.')\n",
    "def amy():\n",
    "    print('제 이름은 amy입니다.')"
   ]
  },
  {
   "cell_type": "code",
   "execution_count": 4,
   "metadata": {},
   "outputs": [
    {
     "name": "stdout",
     "output_type": "stream",
     "text": [
      "안녕하세요 교수님\n",
      "제 이름은 emily입니다.\n",
      "제 이름은 john입니다.\n",
      "제 이름은 amy입니다.\n"
     ]
    }
   ],
   "source": [
    "hi()\n",
    "emily()\n",
    "john()\n",
    "amy()"
   ]
  },
  {
   "cell_type": "code",
   "execution_count": 9,
   "metadata": {},
   "outputs": [],
   "source": [
    "# 매개변수 일반화하기\n",
    "def hi():\n",
    "    print('안녕하세요 교수님')\n",
    "def person(name):\n",
    "    print('제 이름은 {}입니다.'.format(name))"
   ]
  },
  {
   "cell_type": "code",
   "execution_count": 11,
   "metadata": {},
   "outputs": [
    {
     "name": "stdout",
     "output_type": "stream",
     "text": [
      "안녕하세요 교수님\n",
      "제 이름은 chelsea입니다.\n"
     ]
    }
   ],
   "source": [
    "hi()\n",
    "person('chelsea')"
   ]
  },
  {
   "cell_type": "markdown",
   "metadata": {},
   "source": [
    "## 함수의 종류\n",
    "함수의 4가지 종류\n",
    "\n",
    "1. 전역함수\n",
    "2. 지역함수\n",
    "3. 람다함수\n",
    "4. 메소드"
   ]
  },
  {
   "cell_type": "code",
   "execution_count": 12,
   "metadata": {},
   "outputs": [
    {
     "name": "stdout",
     "output_type": "stream",
     "text": [
      "안녕 블루베리\n"
     ]
    }
   ],
   "source": [
    "#전역함수\n",
    "def say_anything(anything):\n",
    "    print('안녕',anything)\n",
    "\n",
    "say_anything('블루베리')\n",
    "    "
   ]
  },
  {
   "cell_type": "code",
   "execution_count": 19,
   "metadata": {},
   "outputs": [
    {
     "name": "stdout",
     "output_type": "stream",
     "text": [
      "1: 안녕 드럼\n"
     ]
    },
    {
     "ename": "NameError",
     "evalue": "name 'print_num' is not defined",
     "output_type": "error",
     "traceback": [
      "\u001b[1;31m---------------------------------------------------------------------------\u001b[0m",
      "\u001b[1;31mNameError\u001b[0m                                 Traceback (most recent call last)",
      "\u001b[1;32m<ipython-input-19-efdc1e0a47c8>\u001b[0m in \u001b[0;36m<module>\u001b[1;34m()\u001b[0m\n\u001b[0;32m      7\u001b[0m \u001b[1;33m\u001b[0m\u001b[0m\n\u001b[0;32m      8\u001b[0m \u001b[0msay_anything\u001b[0m\u001b[1;33m(\u001b[0m\u001b[1;34m'드럼'\u001b[0m\u001b[1;33m)\u001b[0m\u001b[1;33m\u001b[0m\u001b[0m\n\u001b[1;32m----> 9\u001b[1;33m \u001b[0mprint_num\u001b[0m\u001b[1;33m(\u001b[0m\u001b[1;36m5\u001b[0m\u001b[1;33m)\u001b[0m\u001b[1;33m\u001b[0m\u001b[0m\n\u001b[0m",
      "\u001b[1;31mNameError\u001b[0m: name 'print_num' is not defined"
     ]
    }
   ],
   "source": [
    "# 지역함수\n",
    "def say_anything(anything):\n",
    "    def print_num(number):\n",
    "        print(number,end=': ')\n",
    "    print_num(1)\n",
    "    print('안녕',anything)\n",
    "    \n",
    "say_anything('드럼')\n",
    "print_num(5)"
   ]
  },
  {
   "cell_type": "code",
   "execution_count": 16,
   "metadata": {},
   "outputs": [
    {
     "name": "stdout",
     "output_type": "stream",
     "text": [
      "안녕 초콜릿\n"
     ]
    }
   ],
   "source": [
    "# 람다함수\n",
    "say_anything = lambda anything: print('안녕',anything)\n",
    "say_anything('초콜릿')"
   ]
  },
  {
   "cell_type": "code",
   "execution_count": 17,
   "metadata": {},
   "outputs": [
    {
     "name": "stdout",
     "output_type": "stream",
     "text": [
      "안녕 강아지\n"
     ]
    }
   ],
   "source": [
    "#메소드\n",
    "class SayClass:\n",
    "    def say_anything(self):\n",
    "        print('안녕',self)\n",
    "SayClass.say_anything('강아지')"
   ]
  },
  {
   "cell_type": "code",
   "execution_count": 21,
   "metadata": {},
   "outputs": [
    {
     "name": "stdout",
     "output_type": "stream",
     "text": [
      "1 file  processed.\n"
     ]
    }
   ],
   "source": [
    "# 람다함수 예시\n",
    "x = lambda i: ' ' if i ==1 else 's'\n",
    "count = 1\n",
    "print('{} file{} processed.'.format(count,x(count)))"
   ]
  },
  {
   "cell_type": "code",
   "execution_count": 22,
   "metadata": {},
   "outputs": [
    {
     "name": "stdout",
     "output_type": "stream",
     "text": [
      "5 files processed.\n"
     ]
    }
   ],
   "source": [
    "count = 5\n",
    "print('{} file{} processed.'.format(count,x(count)))"
   ]
  },
  {
   "cell_type": "code",
   "execution_count": 21,
   "metadata": {},
   "outputs": [
    {
     "data": {
      "text/plain": [
       "10.0"
      ]
     },
     "execution_count": 21,
     "metadata": {},
     "output_type": "execute_result"
    }
   ],
   "source": [
    "# 삼각형의 넓이를 구하는 공식\n",
    "def area(b,h):\n",
    "    return 0.5*h*b\n",
    "area(4,5)"
   ]
  },
  {
   "cell_type": "code",
   "execution_count": 22,
   "metadata": {},
   "outputs": [
    {
     "data": {
      "text/plain": [
       "10.0"
      ]
     },
     "execution_count": 22,
     "metadata": {},
     "output_type": "execute_result"
    }
   ],
   "source": [
    "#람다함수로 삼각형의 넓이를 구하는 공식\n",
    "x = lambda b,h :0.5*b*h\n",
    "x(4,5)"
   ]
  },
  {
   "cell_type": "code",
   "execution_count": 29,
   "metadata": {},
   "outputs": [
    {
     "data": {
      "text/plain": [
       "[(1, 'a', 'Banana'),\n",
       " (1, 'b', 'Orange'),\n",
       " (1, 'b', 'grape'),\n",
       " (2, 'a', 'Pineapple'),\n",
       " (2, 'a', 'apple')]"
      ]
     },
     "execution_count": 29,
     "metadata": {},
     "output_type": "execute_result"
    }
   ],
   "source": [
    "# 추가예시 람다함수\n",
    "# 람다함수를 사용하는 주 이유\n",
    "pair = [(2,'a','Pineapple'),(1,'b','Orange'),(1,'a','Banana'),(1,'b','grape'),(2,'a','apple')]\n",
    "pair.sort()\n",
    "pair"
   ]
  },
  {
   "cell_type": "code",
   "execution_count": 30,
   "metadata": {},
   "outputs": [
    {
     "data": {
      "text/plain": [
       "[(2, 'a', 'apple'),\n",
       " (2, 'a', 'Pineapple'),\n",
       " (1, 'b', 'grape'),\n",
       " (1, 'b', 'Orange'),\n",
       " (1, 'a', 'Banana')]"
      ]
     },
     "execution_count": 30,
     "metadata": {},
     "output_type": "execute_result"
    }
   ],
   "source": [
    "pair.sort(reverse=True)\n",
    "pair"
   ]
  },
  {
   "cell_type": "code",
   "execution_count": 31,
   "metadata": {},
   "outputs": [
    {
     "data": {
      "text/plain": [
       "[(1, 'a', 'Banana'),\n",
       " (2, 'a', 'Pineapple'),\n",
       " (2, 'a', 'apple'),\n",
       " (1, 'b', 'Orange'),\n",
       " (1, 'b', 'grape')]"
      ]
     },
     "execution_count": 31,
     "metadata": {},
     "output_type": "execute_result"
    }
   ],
   "source": [
    "pair.sort(key=lambda e : (e[1],e[2]))\n",
    "pair"
   ]
  },
  {
   "cell_type": "code",
   "execution_count": 32,
   "metadata": {},
   "outputs": [
    {
     "data": {
      "text/plain": [
       "[(1, 'b', 'grape'),\n",
       " (1, 'b', 'Orange'),\n",
       " (2, 'a', 'apple'),\n",
       " (2, 'a', 'Pineapple'),\n",
       " (1, 'a', 'Banana')]"
      ]
     },
     "execution_count": 32,
     "metadata": {},
     "output_type": "execute_result"
    }
   ],
   "source": [
    "# 위와 같은 표현식을 분할 연산으로 하면서 반대순서\n",
    "pair.sort(key=lambda e: e[1:3],reverse=True)\n",
    "pair"
   ]
  },
  {
   "cell_type": "code",
   "execution_count": 34,
   "metadata": {},
   "outputs": [
    {
     "data": {
      "text/plain": [
       "[(2, 'a', 'apple'),\n",
       " (1, 'a', 'Banana'),\n",
       " (2, 'a', 'Pineapple'),\n",
       " (1, 'b', 'grape'),\n",
       " (1, 'b', 'Orange')]"
      ]
     },
     "execution_count": 34,
     "metadata": {},
     "output_type": "execute_result"
    }
   ],
   "source": [
    "# 대소문자 구분없이\n",
    "pair.sort(key=lambda e : (e[1],e[2].lower()))\n",
    "pair"
   ]
  },
  {
   "cell_type": "markdown",
   "metadata": {},
   "source": [
    "## 재귀함수\n",
    "\n",
    "스스로를 부르는 함수 \n",
    "(stopping solution있어야!!)"
   ]
  },
  {
   "cell_type": "code",
   "execution_count": 1,
   "metadata": {},
   "outputs": [],
   "source": [
    "def factorial(n):\n",
    "    if n == 0:\n",
    "        return 1\n",
    "    else :\n",
    "        return n*factorial(n-1)"
   ]
  },
  {
   "cell_type": "code",
   "execution_count": 2,
   "metadata": {},
   "outputs": [
    {
     "data": {
      "text/plain": [
       "120"
      ]
     },
     "execution_count": 2,
     "metadata": {},
     "output_type": "execute_result"
    }
   ],
   "source": [
    "factorial(5)"
   ]
  },
  {
   "cell_type": "markdown",
   "metadata": {},
   "source": [
    "# 4. 함수의 특성\n",
    "\n",
    "## 4-(1) 보이드 함수와 값 반환함수"
   ]
  },
  {
   "cell_type": "code",
   "execution_count": 23,
   "metadata": {},
   "outputs": [],
   "source": [
    "#보이드 함수 예시\n",
    "def void_product(i,j):\n",
    "    print('{}와 {}의 곱은 {}'.format(i,j,i*j))"
   ]
  },
  {
   "cell_type": "code",
   "execution_count": 24,
   "metadata": {},
   "outputs": [
    {
     "name": "stdout",
     "output_type": "stream",
     "text": [
      "3와 5의 곱은 15\n"
     ]
    }
   ],
   "source": [
    "void_product(3,5)"
   ]
  },
  {
   "cell_type": "code",
   "execution_count": 25,
   "metadata": {},
   "outputs": [
    {
     "name": "stdout",
     "output_type": "stream",
     "text": [
      "3와 5의 곱은 15\n"
     ]
    }
   ],
   "source": [
    "x = void_product(3,5)"
   ]
  },
  {
   "cell_type": "code",
   "execution_count": 32,
   "metadata": {},
   "outputs": [
    {
     "name": "stdout",
     "output_type": "stream",
     "text": [
      "3와 5의 곱은 15\n",
      "None\n"
     ]
    }
   ],
   "source": [
    "x\n",
    "print(void_product(3,5))"
   ]
  },
  {
   "cell_type": "code",
   "execution_count": 34,
   "metadata": {},
   "outputs": [],
   "source": [
    "# 값 반환 함수\n",
    "def value_returning_product(i,j):\n",
    "    return i*j"
   ]
  },
  {
   "cell_type": "code",
   "execution_count": 35,
   "metadata": {},
   "outputs": [
    {
     "data": {
      "text/plain": [
       "15"
      ]
     },
     "execution_count": 35,
     "metadata": {},
     "output_type": "execute_result"
    }
   ],
   "source": [
    "value_returning_product(3,5)"
   ]
  },
  {
   "cell_type": "code",
   "execution_count": 36,
   "metadata": {},
   "outputs": [],
   "source": [
    "x = value_returning_product(3,5)"
   ]
  },
  {
   "cell_type": "code",
   "execution_count": 40,
   "metadata": {},
   "outputs": [
    {
     "data": {
      "text/plain": [
       "15"
      ]
     },
     "execution_count": 40,
     "metadata": {},
     "output_type": "execute_result"
    },
    {
     "name": "stdout",
     "output_type": "stream",
     "text": [
      "15\n"
     ]
    }
   ],
   "source": [
    "x\n",
    "print(value_returning_product(3,5))"
   ]
  },
  {
   "cell_type": "code",
   "execution_count": 38,
   "metadata": {},
   "outputs": [
    {
     "name": "stdout",
     "output_type": "stream",
     "text": [
      "3와 5의 곱은 15\n",
      "(3, 5, 15)\n"
     ]
    }
   ],
   "source": [
    "# 수업시간에 함\n",
    "def returning_product2(i,j):\n",
    "    print('{}와 {}의 곱은 {}'.format(i,j,i*j))\n",
    "    return i,j,i*j\n",
    "\n",
    "k = returning_product2(3,5)\n",
    "print(k)"
   ]
  },
  {
   "cell_type": "code",
   "execution_count": 46,
   "metadata": {},
   "outputs": [],
   "source": [
    "# 두개 이상의 값을 반환\n",
    "def value_returning_product(i,j):\n",
    "    return i*j\n",
    "    return i-j"
   ]
  },
  {
   "cell_type": "code",
   "execution_count": 47,
   "metadata": {},
   "outputs": [],
   "source": [
    "y = value_returning_product(3,5)"
   ]
  },
  {
   "cell_type": "code",
   "execution_count": 48,
   "metadata": {},
   "outputs": [
    {
     "data": {
      "text/plain": [
       "15"
      ]
     },
     "execution_count": 48,
     "metadata": {},
     "output_type": "execute_result"
    }
   ],
   "source": [
    "y"
   ]
  },
  {
   "cell_type": "code",
   "execution_count": 49,
   "metadata": {},
   "outputs": [],
   "source": [
    "# 반환값으로 튜플 사용\n",
    "def value_returning_product(i,j):\n",
    "    return i*j,i-j"
   ]
  },
  {
   "cell_type": "code",
   "execution_count": 50,
   "metadata": {},
   "outputs": [],
   "source": [
    "y = value_returning_product(3,5)"
   ]
  },
  {
   "cell_type": "code",
   "execution_count": 51,
   "metadata": {},
   "outputs": [
    {
     "data": {
      "text/plain": [
       "(15, -2)"
      ]
     },
     "execution_count": 51,
     "metadata": {},
     "output_type": "execute_result"
    }
   ],
   "source": [
    "y"
   ]
  },
  {
   "cell_type": "code",
   "execution_count": 41,
   "metadata": {},
   "outputs": [],
   "source": [
    "#튜플 반환\n",
    "def min_max(k):\n",
    "    return min(k), max(k)"
   ]
  },
  {
   "cell_type": "code",
   "execution_count": 42,
   "metadata": {},
   "outputs": [],
   "source": [
    "min, max = min_max((12,45,98,38,85,7,49))"
   ]
  },
  {
   "cell_type": "code",
   "execution_count": 43,
   "metadata": {},
   "outputs": [
    {
     "data": {
      "text/plain": [
       "98"
      ]
     },
     "execution_count": 43,
     "metadata": {},
     "output_type": "execute_result"
    }
   ],
   "source": [
    "max"
   ]
  },
  {
   "cell_type": "code",
   "execution_count": 44,
   "metadata": {},
   "outputs": [
    {
     "data": {
      "text/plain": [
       "7"
      ]
     },
     "execution_count": 44,
     "metadata": {},
     "output_type": "execute_result"
    }
   ],
   "source": [
    "min"
   ]
  },
  {
   "cell_type": "code",
   "execution_count": 65,
   "metadata": {},
   "outputs": [
    {
     "data": {
      "text/plain": [
       "(1, 6)"
      ]
     },
     "execution_count": 65,
     "metadata": {},
     "output_type": "execute_result"
    }
   ],
   "source": [
    "i = divmod(13,7)\n",
    "i"
   ]
  },
  {
   "cell_type": "code",
   "execution_count": 66,
   "metadata": {},
   "outputs": [
    {
     "data": {
      "text/plain": [
       "1"
      ]
     },
     "execution_count": 66,
     "metadata": {},
     "output_type": "execute_result"
    },
    {
     "data": {
      "text/plain": [
       "6"
      ]
     },
     "execution_count": 66,
     "metadata": {},
     "output_type": "execute_result"
    }
   ],
   "source": [
    "quot, rem = divmod(13,7)\n",
    "quot\n",
    "rem"
   ]
  },
  {
   "cell_type": "code",
   "execution_count": 68,
   "metadata": {},
   "outputs": [],
   "source": [
    "# 값 반환 외 return 문의 용도\n",
    "# 함수 빠져나가기\n",
    "def positive_product(i,j):\n",
    "        if i<0 or j<0:\n",
    "            return\n",
    "        print('{}와 {}의 곱은 {}입니다.'.format(i,j,i*j))"
   ]
  },
  {
   "cell_type": "code",
   "execution_count": 69,
   "metadata": {},
   "outputs": [
    {
     "name": "stdout",
     "output_type": "stream",
     "text": [
      "5와 7의 곱은 35입니다.\n"
     ]
    }
   ],
   "source": [
    "positive_product(5,7)"
   ]
  },
  {
   "cell_type": "code",
   "execution_count": 70,
   "metadata": {},
   "outputs": [],
   "source": [
    "positive_product(-5,7)"
   ]
  },
  {
   "cell_type": "code",
   "execution_count": 72,
   "metadata": {},
   "outputs": [],
   "source": [
    "positive_product(5,-7)"
   ]
  },
  {
   "cell_type": "markdown",
   "metadata": {},
   "source": [
    "## 4-(2) 전달인자와 매개 변수\n",
    "전달인자\n",
    "매개변수"
   ]
  },
  {
   "cell_type": "code",
   "execution_count": null,
   "metadata": {},
   "outputs": [],
   "source": [
    "## 전달인자란?\n",
    "- 전달인자?\n",
    "- 필수\n",
    "- 선책\n",
    "\n",
    "두종류의 전달인자\n",
    "위치 전달인자\n",
    "키워드 전달인자\n",
    "\n",
    "주의\n",
    "위치전달인자가 항상 먼저와야함\n",
    "\n"
   ]
  },
  {
   "cell_type": "code",
   "execution_count": 47,
   "metadata": {},
   "outputs": [
    {
     "name": "stdout",
     "output_type": "stream",
     "text": [
      "드럼:타악기에 속한다.\n",
      "기타:현악기에 속한다.\n",
      "키보드:건반악기에 속한다.\n"
     ]
    }
   ],
   "source": [
    "# format문자열 서실 예시\n",
    "print('{0}:{1}악기에 속한다.'.format('드럼','타')) # 위치전달인자\n",
    "print('{instrument}:{type}악기에 속한다.'.format(type='현',instrument='기타')) # 키워드는 순서를 바꿔도 괜찮음\n",
    "print('{instrument}:{0}악기에 속한다.'.format('건반',instrument = '키보드')) \n",
    "\n",
    "# print('{instrument}:{0}악기에 속한다.'.format(instrument = '키보드', '건반'))\n",
    "# 오류 : 위치 전달인자가 키워드 앞에 반드시 나와야 함"
   ]
  },
  {
   "cell_type": "markdown",
   "metadata": {},
   "source": [
    "### # 위치 전달 인자"
   ]
  },
  {
   "cell_type": "code",
   "execution_count": 73,
   "metadata": {},
   "outputs": [],
   "source": [
    "# 위치 전달 인자 \n",
    "def string_head(text,length=7,indicator='...'):\n",
    "    if len(text) > length:\n",
    "        text = text[:length -len(indicator)]+indicator\n",
    "    return text"
   ]
  },
  {
   "cell_type": "code",
   "execution_count": 49,
   "metadata": {},
   "outputs": [
    {
     "data": {
      "text/plain": [
       "12"
      ]
     },
     "execution_count": 49,
     "metadata": {},
     "output_type": "execute_result"
    }
   ],
   "source": [
    "s = '파이썬과 빅데이터 분석'\n",
    "len(s)"
   ]
  },
  {
   "cell_type": "code",
   "execution_count": 75,
   "metadata": {},
   "outputs": [
    {
     "data": {
      "text/plain": [
       "'파이썬과...'"
      ]
     },
     "execution_count": 75,
     "metadata": {},
     "output_type": "execute_result"
    }
   ],
   "source": [
    "string_head(s)"
   ]
  },
  {
   "cell_type": "code",
   "execution_count": 76,
   "metadata": {},
   "outputs": [
    {
     "data": {
      "text/plain": [
       "'파이썬과 빅...'"
      ]
     },
     "execution_count": 76,
     "metadata": {},
     "output_type": "execute_result"
    }
   ],
   "source": [
    "string_head(s,9)"
   ]
  },
  {
   "cell_type": "code",
   "execution_count": 77,
   "metadata": {},
   "outputs": [
    {
     "data": {
      "text/plain": [
       "'파이썬과 빅!!!'"
      ]
     },
     "execution_count": 77,
     "metadata": {},
     "output_type": "execute_result"
    }
   ],
   "source": [
    "string_head(s,9,'!!!')"
   ]
  },
  {
   "cell_type": "code",
   "execution_count": 78,
   "metadata": {},
   "outputs": [
    {
     "data": {
      "text/plain": [
       "'파이썬과 빅데이터 분석'"
      ]
     },
     "execution_count": 78,
     "metadata": {},
     "output_type": "execute_result"
    }
   ],
   "source": [
    "string_head(s,20,'!!!')"
   ]
  },
  {
   "cell_type": "code",
   "execution_count": 81,
   "metadata": {},
   "outputs": [
    {
     "ename": "SyntaxError",
     "evalue": "positional argument follows keyword argument (<ipython-input-81-4d677f826519>, line 1)",
     "output_type": "error",
     "traceback": [
      "\u001b[1;36m  File \u001b[1;32m\"<ipython-input-81-4d677f826519>\"\u001b[1;36m, line \u001b[1;32m1\u001b[0m\n\u001b[1;33m    string_head(s,length=20,'!!!')\u001b[0m\n\u001b[1;37m                           ^\u001b[0m\n\u001b[1;31mSyntaxError\u001b[0m\u001b[1;31m:\u001b[0m positional argument follows keyword argument\n"
     ]
    }
   ],
   "source": [
    "string_head(s,length=20,'!!!')"
   ]
  },
  {
   "cell_type": "code",
   "execution_count": 82,
   "metadata": {},
   "outputs": [
    {
     "ename": "TypeError",
     "evalue": "'>' not supported between instances of 'int' and 'str'",
     "output_type": "error",
     "traceback": [
      "\u001b[1;31m---------------------------------------------------------------------------\u001b[0m",
      "\u001b[1;31mTypeError\u001b[0m                                 Traceback (most recent call last)",
      "\u001b[1;32m<ipython-input-82-0bc736b918c8>\u001b[0m in \u001b[0;36m<module>\u001b[1;34m()\u001b[0m\n\u001b[1;32m----> 1\u001b[1;33m \u001b[0mstring_head\u001b[0m\u001b[1;33m(\u001b[0m\u001b[0ms\u001b[0m\u001b[1;33m,\u001b[0m\u001b[1;34m'!!!'\u001b[0m\u001b[1;33m)\u001b[0m\u001b[1;33m\u001b[0m\u001b[0m\n\u001b[0m",
      "\u001b[1;32m<ipython-input-73-0b4fe28a0636>\u001b[0m in \u001b[0;36mstring_head\u001b[1;34m(text, length, indicator)\u001b[0m\n\u001b[0;32m      1\u001b[0m \u001b[1;31m# 위치 전달 인자\u001b[0m\u001b[1;33m\u001b[0m\u001b[1;33m\u001b[0m\u001b[0m\n\u001b[0;32m      2\u001b[0m \u001b[1;32mdef\u001b[0m \u001b[0mstring_head\u001b[0m\u001b[1;33m(\u001b[0m\u001b[0mtext\u001b[0m\u001b[1;33m,\u001b[0m\u001b[0mlength\u001b[0m\u001b[1;33m=\u001b[0m\u001b[1;36m7\u001b[0m\u001b[1;33m,\u001b[0m\u001b[0mindicator\u001b[0m\u001b[1;33m=\u001b[0m\u001b[1;34m'...'\u001b[0m\u001b[1;33m)\u001b[0m\u001b[1;33m:\u001b[0m\u001b[1;33m\u001b[0m\u001b[0m\n\u001b[1;32m----> 3\u001b[1;33m     \u001b[1;32mif\u001b[0m \u001b[0mlen\u001b[0m\u001b[1;33m(\u001b[0m\u001b[0mtext\u001b[0m\u001b[1;33m)\u001b[0m \u001b[1;33m>\u001b[0m \u001b[0mlength\u001b[0m\u001b[1;33m:\u001b[0m\u001b[1;33m\u001b[0m\u001b[0m\n\u001b[0m\u001b[0;32m      4\u001b[0m         \u001b[0mtext\u001b[0m \u001b[1;33m=\u001b[0m \u001b[0mtext\u001b[0m\u001b[1;33m[\u001b[0m\u001b[1;33m:\u001b[0m\u001b[0mlength\u001b[0m \u001b[1;33m-\u001b[0m\u001b[0mlen\u001b[0m\u001b[1;33m(\u001b[0m\u001b[0mindicator\u001b[0m\u001b[1;33m)\u001b[0m\u001b[1;33m]\u001b[0m\u001b[1;33m+\u001b[0m\u001b[0mindicator\u001b[0m\u001b[1;33m\u001b[0m\u001b[0m\n\u001b[0;32m      5\u001b[0m     \u001b[1;32mreturn\u001b[0m \u001b[0mtext\u001b[0m\u001b[1;33m\u001b[0m\u001b[0m\n",
      "\u001b[1;31mTypeError\u001b[0m: '>' not supported between instances of 'int' and 'str'"
     ]
    }
   ],
   "source": [
    "string_head(s,'!!!')"
   ]
  },
  {
   "cell_type": "code",
   "execution_count": 51,
   "metadata": {},
   "outputs": [],
   "source": [
    "## 수업시간에 - return이 없을때\n",
    "def string_head2(text,length=7,indicator='000'):\n",
    "    if len(text) > length:\n",
    "        text = text[:length-len(indicator)] + indicator\n",
    "    print(text)"
   ]
  },
  {
   "cell_type": "code",
   "execution_count": 54,
   "metadata": {},
   "outputs": [
    {
     "data": {
      "text/plain": [
       "12"
      ]
     },
     "execution_count": 54,
     "metadata": {},
     "output_type": "execute_result"
    }
   ],
   "source": [
    "s = '파이썬과 빅데이터 분석'\n",
    "len(s)"
   ]
  },
  {
   "cell_type": "code",
   "execution_count": 52,
   "metadata": {},
   "outputs": [
    {
     "name": "stdout",
     "output_type": "stream",
     "text": [
      "파이썬과000\n"
     ]
    }
   ],
   "source": [
    "string_head2(s)"
   ]
  },
  {
   "cell_type": "code",
   "execution_count": 53,
   "metadata": {},
   "outputs": [
    {
     "name": "stdout",
     "output_type": "stream",
     "text": [
      "파이썬과000\n",
      "None\n"
     ]
    }
   ],
   "source": [
    "print(string_head2(s))"
   ]
  },
  {
   "cell_type": "code",
   "execution_count": 55,
   "metadata": {},
   "outputs": [
    {
     "name": "stdout",
     "output_type": "stream",
     "text": [
      "파이썬과 빅~~~\n"
     ]
    }
   ],
   "source": [
    "string_head2(s,9,'~~~')"
   ]
  },
  {
   "cell_type": "code",
   "execution_count": 56,
   "metadata": {},
   "outputs": [
    {
     "ename": "SyntaxError",
     "evalue": "positional argument follows keyword argument (<ipython-input-56-9401273a4413>, line 1)",
     "output_type": "error",
     "traceback": [
      "\u001b[1;36m  File \u001b[1;32m\"<ipython-input-56-9401273a4413>\"\u001b[1;36m, line \u001b[1;32m1\u001b[0m\n\u001b[1;33m    string_head2(s,length=20,'!!!!')\u001b[0m\n\u001b[1;37m                            ^\u001b[0m\n\u001b[1;31mSyntaxError\u001b[0m\u001b[1;31m:\u001b[0m positional argument follows keyword argument\n"
     ]
    }
   ],
   "source": [
    "string_head2(s,length=20,'!!!!')"
   ]
  },
  {
   "cell_type": "markdown",
   "metadata": {},
   "source": [
    "### # 키워드 전달인자"
   ]
  },
  {
   "cell_type": "code",
   "execution_count": 83,
   "metadata": {},
   "outputs": [],
   "source": [
    "#키워드 전달인자\n",
    "def string_head(text,length=7,indicator='...'):\n",
    "    if len(text) > length:\n",
    "        text = text[:length -len(indicator)]+indicator\n",
    "    return text"
   ]
  },
  {
   "cell_type": "code",
   "execution_count": 84,
   "metadata": {},
   "outputs": [
    {
     "data": {
      "text/plain": [
       "'파이썬과 빅...'"
      ]
     },
     "execution_count": 84,
     "metadata": {},
     "output_type": "execute_result"
    }
   ],
   "source": [
    "string_head(length=9,text=s)"
   ]
  },
  {
   "cell_type": "code",
   "execution_count": 85,
   "metadata": {},
   "outputs": [
    {
     "data": {
      "text/plain": [
       "'파이썬과~~~'"
      ]
     },
     "execution_count": 85,
     "metadata": {},
     "output_type": "execute_result"
    }
   ],
   "source": [
    "string_head(s,indicator='~~~')"
   ]
  },
  {
   "cell_type": "code",
   "execution_count": 86,
   "metadata": {},
   "outputs": [
    {
     "data": {
      "text/plain": [
       "'파이썬과 빅데이터 분석'"
      ]
     },
     "execution_count": 86,
     "metadata": {},
     "output_type": "execute_result"
    }
   ],
   "source": [
    "string_head(s,indicator='~~~',length=15)"
   ]
  },
  {
   "cell_type": "code",
   "execution_count": 57,
   "metadata": {},
   "outputs": [
    {
     "data": {
      "text/plain": [
       "'파이썬^^^^^^^'"
      ]
     },
     "execution_count": 57,
     "metadata": {},
     "output_type": "execute_result"
    }
   ],
   "source": [
    "string_head(indicator='^^^^^^^',length=10,text=s)"
   ]
  },
  {
   "cell_type": "markdown",
   "metadata": {},
   "source": [
    "### # 매개변수"
   ]
  },
  {
   "cell_type": "code",
   "execution_count": 90,
   "metadata": {},
   "outputs": [],
   "source": [
    "# 매개변수 *\n",
    "# 매개변수 * 뒤에는 위치전달인자가 올수 없고, 키워드 전달인자만 올 수 있음\n",
    "def product_in_units(i,j,k,*,units='square meters'):\n",
    "    result = i*j*k\n",
    "    return '{} {}'.format(result,units)"
   ]
  },
  {
   "cell_type": "code",
   "execution_count": 91,
   "metadata": {},
   "outputs": [
    {
     "data": {
      "text/plain": [
       "'24 square meters'"
      ]
     },
     "execution_count": 91,
     "metadata": {},
     "output_type": "execute_result"
    }
   ],
   "source": [
    "product_in_units(2,3,4)"
   ]
  },
  {
   "cell_type": "code",
   "execution_count": 92,
   "metadata": {},
   "outputs": [
    {
     "data": {
      "text/plain": [
       "'24 square inches'"
      ]
     },
     "execution_count": 92,
     "metadata": {},
     "output_type": "execute_result"
    }
   ],
   "source": [
    "product_in_units(2,3,4,units='square inches')"
   ]
  },
  {
   "cell_type": "code",
   "execution_count": 93,
   "metadata": {},
   "outputs": [
    {
     "ename": "TypeError",
     "evalue": "product_in_units() takes 3 positional arguments but 4 were given",
     "output_type": "error",
     "traceback": [
      "\u001b[1;31m---------------------------------------------------------------------------\u001b[0m",
      "\u001b[1;31mTypeError\u001b[0m                                 Traceback (most recent call last)",
      "\u001b[1;32m<ipython-input-93-238d1ba0ea19>\u001b[0m in \u001b[0;36m<module>\u001b[1;34m()\u001b[0m\n\u001b[1;32m----> 1\u001b[1;33m \u001b[0mproduct_in_units\u001b[0m\u001b[1;33m(\u001b[0m\u001b[1;36m2\u001b[0m\u001b[1;33m,\u001b[0m\u001b[1;36m3\u001b[0m\u001b[1;33m,\u001b[0m\u001b[1;36m4\u001b[0m\u001b[1;33m,\u001b[0m\u001b[1;34m'square inches'\u001b[0m\u001b[1;33m)\u001b[0m\u001b[1;33m\u001b[0m\u001b[0m\n\u001b[0m",
      "\u001b[1;31mTypeError\u001b[0m: product_in_units() takes 3 positional arguments but 4 were given"
     ]
    }
   ],
   "source": [
    "product_in_units(2,3,4,'square inches')"
   ]
  },
  {
   "cell_type": "code",
   "execution_count": 58,
   "metadata": {},
   "outputs": [],
   "source": [
    "#매개변수가 맨처음에 위치\n",
    "# 모든 매개변수는 위치전달인자만을 사용\n",
    "def print_setup(*,paper='A4',copies=1,color=False):\n",
    "    print('프린터 셋팅: paper={}, copies={} color={}'.format(paper,copies,color))"
   ]
  },
  {
   "cell_type": "code",
   "execution_count": 59,
   "metadata": {},
   "outputs": [
    {
     "name": "stdout",
     "output_type": "stream",
     "text": [
      "프린터 셋팅: paper=A4, copies=1 color=False\n"
     ]
    }
   ],
   "source": [
    "print_setup()"
   ]
  },
  {
   "cell_type": "code",
   "execution_count": 96,
   "metadata": {},
   "outputs": [
    {
     "name": "stdout",
     "output_type": "stream",
     "text": [
      "프린터 셋팅: paper=Letter, copies=1 color=True\n"
     ]
    }
   ],
   "source": [
    "print_setup(paper='Letter',color='True')"
   ]
  },
  {
   "cell_type": "code",
   "execution_count": 97,
   "metadata": {},
   "outputs": [
    {
     "ename": "TypeError",
     "evalue": "print_setup() takes 0 positional arguments but 1 was given",
     "output_type": "error",
     "traceback": [
      "\u001b[1;31m---------------------------------------------------------------------------\u001b[0m",
      "\u001b[1;31mTypeError\u001b[0m                                 Traceback (most recent call last)",
      "\u001b[1;32m<ipython-input-97-268d1d6def57>\u001b[0m in \u001b[0;36m<module>\u001b[1;34m()\u001b[0m\n\u001b[1;32m----> 1\u001b[1;33m \u001b[0mprint_setup\u001b[0m\u001b[1;33m(\u001b[0m\u001b[1;34m'Letter'\u001b[0m\u001b[1;33m)\u001b[0m\u001b[1;33m\u001b[0m\u001b[0m\n\u001b[0m",
      "\u001b[1;31mTypeError\u001b[0m: print_setup() takes 0 positional arguments but 1 was given"
     ]
    }
   ],
   "source": [
    "print_setup('Letter')"
   ]
  },
  {
   "cell_type": "markdown",
   "metadata": {},
   "source": [
    "### # 위치 전달인자 패킹/언패킹 연산자"
   ]
  },
  {
   "cell_type": "code",
   "execution_count": 60,
   "metadata": {},
   "outputs": [],
   "source": [
    "# 위치 전달 인자 패킹/언패킹 연산자\n",
    "# *\n",
    "# 몇개의 위치전달인자를 넘겨 받을지 모르는 함수를 정의할 때\n",
    "\n",
    "def product(*args):\n",
    "    result = 1\n",
    "    for arg in args:\n",
    "        result *= arg\n",
    "    return result"
   ]
  },
  {
   "cell_type": "code",
   "execution_count": 99,
   "metadata": {},
   "outputs": [
    {
     "data": {
      "text/plain": [
       "15"
      ]
     },
     "execution_count": 99,
     "metadata": {},
     "output_type": "execute_result"
    }
   ],
   "source": [
    "product(15)"
   ]
  },
  {
   "cell_type": "code",
   "execution_count": 100,
   "metadata": {},
   "outputs": [
    {
     "data": {
      "text/plain": [
       "24"
      ]
     },
     "execution_count": 100,
     "metadata": {},
     "output_type": "execute_result"
    }
   ],
   "source": [
    "product(2,3,4)"
   ]
  },
  {
   "cell_type": "code",
   "execution_count": 101,
   "metadata": {},
   "outputs": [
    {
     "data": {
      "text/plain": [
       "1680"
      ]
     },
     "execution_count": 101,
     "metadata": {},
     "output_type": "execute_result"
    }
   ],
   "source": [
    "product(5,6,7,8)"
   ]
  },
  {
   "cell_type": "code",
   "execution_count": 62,
   "metadata": {},
   "outputs": [],
   "source": [
    "def sum_of_powers(*args,power=1):\n",
    "    result = 0\n",
    "    for arg in args:\n",
    "        result += arg ** power\n",
    "    return result"
   ]
  },
  {
   "cell_type": "code",
   "execution_count": 103,
   "metadata": {},
   "outputs": [
    {
     "data": {
      "text/plain": [
       "9"
      ]
     },
     "execution_count": 103,
     "metadata": {},
     "output_type": "execute_result"
    }
   ],
   "source": [
    "sum_of_powers(1,3,5)"
   ]
  },
  {
   "cell_type": "code",
   "execution_count": 104,
   "metadata": {},
   "outputs": [
    {
     "data": {
      "text/plain": [
       "35"
      ]
     },
     "execution_count": 104,
     "metadata": {},
     "output_type": "execute_result"
    }
   ],
   "source": [
    "sum_of_powers(1,3,5,power=2)"
   ]
  },
  {
   "cell_type": "code",
   "execution_count": 105,
   "metadata": {
    "scrolled": false
   },
   "outputs": [
    {
     "data": {
      "text/plain": [
       "84"
      ]
     },
     "execution_count": 105,
     "metadata": {},
     "output_type": "execute_result"
    }
   ],
   "source": [
    "sum_of_powers(1,3,5,7,power=2)"
   ]
  },
  {
   "cell_type": "code",
   "execution_count": 63,
   "metadata": {},
   "outputs": [
    {
     "data": {
      "text/plain": [
       "18"
      ]
     },
     "execution_count": 63,
     "metadata": {},
     "output_type": "execute_result"
    }
   ],
   "source": [
    "sum_of_powers(1,3,5,7,2) # power에 대한 키워드 전달인자로 전달해야함"
   ]
  },
  {
   "cell_type": "code",
   "execution_count": 106,
   "metadata": {},
   "outputs": [
    {
     "name": "stdout",
     "output_type": "stream",
     "text": [
      "프린터 셋팅: paper=Letter, copies=1 color=True\n"
     ]
    }
   ],
   "source": [
    "#맵핑형/패킹 언패킹 연산자\n",
    "# **\n",
    "\n",
    "def print_setup(*,paper='A4',copies=1,color=False):\n",
    "    print('프린터 셋팅: paper={}, copies={} color={}'.format(paper,copies,color))\n",
    "\n",
    "options = dict(paper='Letter',color=True)\n",
    "print_setup(**options)"
   ]
  },
  {
   "cell_type": "code",
   "execution_count": 107,
   "metadata": {},
   "outputs": [],
   "source": [
    "def add_fruit_detail(fruit_name,date_produced,**kwargs):\n",
    "    print('과일종류 = ',fruit_name)\n",
    "    print('생산일자 = ',date_produced)\n",
    "    for key in sorted(kwargs):\n",
    "        print('{}={}'.format(key,kwargs[key]))"
   ]
  },
  {
   "cell_type": "code",
   "execution_count": 108,
   "metadata": {},
   "outputs": [
    {
     "name": "stdout",
     "output_type": "stream",
     "text": [
      "과일종류 =  블루베리\n",
      "생산일자 =  9일\n"
     ]
    }
   ],
   "source": [
    "add_fruit_detail('블루베리','9일')"
   ]
  },
  {
   "cell_type": "code",
   "execution_count": 109,
   "metadata": {},
   "outputs": [
    {
     "name": "stdout",
     "output_type": "stream",
     "text": [
      "과일종류 =  바나나\n",
      "생산일자 =  11일\n",
      "원산지=필리핀\n"
     ]
    }
   ],
   "source": [
    "add_fruit_detail('바나나','11일',원산지='필리핀')"
   ]
  },
  {
   "cell_type": "code",
   "execution_count": 110,
   "metadata": {},
   "outputs": [
    {
     "name": "stdout",
     "output_type": "stream",
     "text": [
      "과일종류 =  오렌지\n",
      "생산일자 =  11일\n",
      "수량=55\n",
      "원산지=제주도\n"
     ]
    }
   ],
   "source": [
    "add_fruit_detail('오렌지','11일',원산지='제주도',수량=55)"
   ]
  },
  {
   "cell_type": "code",
   "execution_count": 111,
   "metadata": {},
   "outputs": [],
   "source": [
    "# *와 **연산자를 매개변수로 활용\n",
    "def print_args(*args,**kwargs):\n",
    "    for i ,args in enumerate(args):\n",
    "        print('위치 전달인자 {} = {}'.format(i,args))\n",
    "    for key in kwargs:\n",
    "        print('키워드 전달인자 {} = {}'.format(key,kwargs[key]))"
   ]
  },
  {
   "cell_type": "code",
   "execution_count": 112,
   "metadata": {},
   "outputs": [
    {
     "name": "stdout",
     "output_type": "stream",
     "text": [
      "위치 전달인자 0 = 라이언\n",
      "위치 전달인자 1 = -7\n",
      "위치 전달인자 2 = 2.5\n",
      "키워드 전달인자 age = 19\n",
      "키워드 전달인자 email = ryan@korea.kr\n"
     ]
    }
   ],
   "source": [
    "print_args('라이언',-7,2.5,age=19,email='ryan@korea.kr')"
   ]
  },
  {
   "cell_type": "code",
   "execution_count": 66,
   "metadata": {},
   "outputs": [],
   "source": [
    "## 수업에서\n",
    "def print_args2(*args,**kwargs):\n",
    "    for i, arg in enumerate(args):\n",
    "        print('{} = {}'.format(i,arg))\n",
    "    for kward in kwargs:\n",
    "        print('{} = {}'.format(kward,kwargs[kward]))"
   ]
  },
  {
   "cell_type": "code",
   "execution_count": 69,
   "metadata": {},
   "outputs": [
    {
     "name": "stdout",
     "output_type": "stream",
     "text": [
      "0 = 지온\n",
      "1 = 25\n",
      "2 = 살\n",
      "age = 25\n",
      "englishname = cheslea\n"
     ]
    }
   ],
   "source": [
    "print_args2('지온',25,'살', age=25,englishname = 'cheslea') #next = age+1,"
   ]
  },
  {
   "cell_type": "markdown",
   "metadata": {},
   "source": [
    "## 4-(3) 범위와 가시성"
   ]
  },
  {
   "cell_type": "code",
   "execution_count": 5,
   "metadata": {},
   "outputs": [
    {
     "name": "stdout",
     "output_type": "stream",
     "text": [
      "안녕~~!!\n",
      "드럼은 밴드에서 필수 악기입니다.\n",
      "베이스 기타도 밴드에서 반드시 필요한 악기입니다.\n"
     ]
    }
   ],
   "source": [
    "#실제 코드로 보는 범위와 가시성\n",
    "hi = '안녕~~!!'\n",
    "\n",
    "def drum():\n",
    "    print('드럼은 밴드에서 필수 악기입니다.')\n",
    "\n",
    "def bass():\n",
    "    print('베이스 기타도 밴드에서 반드시 필요한 악기입니다.')\n",
    "    \n",
    "def main():\n",
    "    print(hi)\n",
    "    drum()\n",
    "    bass()\n",
    "    \n",
    "main()"
   ]
  },
  {
   "cell_type": "code",
   "execution_count": 6,
   "metadata": {},
   "outputs": [
    {
     "name": "stdout",
     "output_type": "stream",
     "text": [
      "안녕~~!!\n",
      "드럼은 밴드에서 필수 악기입니다.\n",
      "베이스 기타도 밴드에서 반드시 필요한 악기입니다.\n"
     ]
    },
    {
     "ename": "NameError",
     "evalue": "name 'yeah' is not defined",
     "output_type": "error",
     "traceback": [
      "\u001b[1;31m---------------------------------------------------------------------------\u001b[0m",
      "\u001b[1;31mNameError\u001b[0m                                 Traceback (most recent call last)",
      "\u001b[1;32m<ipython-input-6-c49ee70b9aca>\u001b[0m in \u001b[0;36m<module>\u001b[1;34m()\u001b[0m\n\u001b[0;32m     14\u001b[0m     \u001b[0mprint\u001b[0m\u001b[1;33m(\u001b[0m\u001b[0myeah\u001b[0m\u001b[1;33m)\u001b[0m\u001b[1;33m\u001b[0m\u001b[0m\n\u001b[0;32m     15\u001b[0m \u001b[1;33m\u001b[0m\u001b[0m\n\u001b[1;32m---> 16\u001b[1;33m \u001b[0mmain\u001b[0m\u001b[1;33m(\u001b[0m\u001b[1;33m)\u001b[0m\u001b[1;33m\u001b[0m\u001b[0m\n\u001b[0m",
      "\u001b[1;32m<ipython-input-6-c49ee70b9aca>\u001b[0m in \u001b[0;36mmain\u001b[1;34m()\u001b[0m\n\u001b[0;32m     12\u001b[0m     \u001b[0mdrum\u001b[0m\u001b[1;33m(\u001b[0m\u001b[1;33m)\u001b[0m\u001b[1;33m\u001b[0m\u001b[0m\n\u001b[0;32m     13\u001b[0m     \u001b[0mbass\u001b[0m\u001b[1;33m(\u001b[0m\u001b[1;33m)\u001b[0m\u001b[1;33m\u001b[0m\u001b[0m\n\u001b[1;32m---> 14\u001b[1;33m     \u001b[0mprint\u001b[0m\u001b[1;33m(\u001b[0m\u001b[0myeah\u001b[0m\u001b[1;33m)\u001b[0m\u001b[1;33m\u001b[0m\u001b[0m\n\u001b[0m\u001b[0;32m     15\u001b[0m \u001b[1;33m\u001b[0m\u001b[0m\n\u001b[0;32m     16\u001b[0m \u001b[0mmain\u001b[0m\u001b[1;33m(\u001b[0m\u001b[1;33m)\u001b[0m\u001b[1;33m\u001b[0m\u001b[0m\n",
      "\u001b[1;31mNameError\u001b[0m: name 'yeah' is not defined"
     ]
    }
   ],
   "source": [
    "#특정함수에서 선언된 변수를 다른 함수에서 접근하기\n",
    "\n",
    "hi = '안녕~~!!'\n",
    "\n",
    "def drum():\n",
    "    print('드럼은 밴드에서 필수 악기입니다.')\n",
    "\n",
    "def bass():\n",
    "    print('베이스 기타도 밴드에서 반드시 필요한 악기입니다.')\n",
    "    \n",
    "def main():\n",
    "    print(hi)\n",
    "    drum()\n",
    "    bass()\n",
    "    print(yeah)\n",
    "    \n",
    "main()"
   ]
  },
  {
   "cell_type": "markdown",
   "metadata": {},
   "source": [
    "#### #전역변수와 지역변수"
   ]
  },
  {
   "cell_type": "code",
   "execution_count": 70,
   "metadata": {},
   "outputs": [],
   "source": [
    "#전역변수와 지역변수\n",
    "x = '안녕 파이썬' #전역변수\n",
    "def func():\n",
    "    y = '나는 파이썬을 사랑합니다.' # 지역변수\n",
    "    print(x)\n",
    "    print(y)"
   ]
  },
  {
   "cell_type": "code",
   "execution_count": 71,
   "metadata": {},
   "outputs": [
    {
     "name": "stdout",
     "output_type": "stream",
     "text": [
      "안녕 파이썬\n",
      "나는 파이썬을 사랑합니다.\n"
     ]
    }
   ],
   "source": [
    "func()"
   ]
  },
  {
   "cell_type": "code",
   "execution_count": 72,
   "metadata": {},
   "outputs": [
    {
     "data": {
      "text/plain": [
       "'안녕 파이썬'"
      ]
     },
     "execution_count": 72,
     "metadata": {},
     "output_type": "execute_result"
    }
   ],
   "source": [
    "x"
   ]
  },
  {
   "cell_type": "code",
   "execution_count": 73,
   "metadata": {},
   "outputs": [
    {
     "ename": "NameError",
     "evalue": "name 'y' is not defined",
     "output_type": "error",
     "traceback": [
      "\u001b[1;31m---------------------------------------------------------------------------\u001b[0m",
      "\u001b[1;31mNameError\u001b[0m                                 Traceback (most recent call last)",
      "\u001b[1;32m<ipython-input-73-9063a9f0e032>\u001b[0m in \u001b[0;36m<module>\u001b[1;34m()\u001b[0m\n\u001b[1;32m----> 1\u001b[1;33m \u001b[0my\u001b[0m\u001b[1;33m\u001b[0m\u001b[0m\n\u001b[0m",
      "\u001b[1;31mNameError\u001b[0m: name 'y' is not defined"
     ]
    }
   ],
   "source": [
    "y"
   ]
  },
  {
   "cell_type": "code",
   "execution_count": 10,
   "metadata": {},
   "outputs": [],
   "source": [
    "#global문\n",
    "# 전역변수에 접근하기\n",
    "\n",
    "x = '안녕 파이썬'\n",
    "\n",
    "def func():\n",
    "    x = 'hi python'\n",
    "    print(x)\n"
   ]
  },
  {
   "cell_type": "code",
   "execution_count": 11,
   "metadata": {},
   "outputs": [
    {
     "name": "stdout",
     "output_type": "stream",
     "text": [
      "hi python\n"
     ]
    }
   ],
   "source": [
    "func()"
   ]
  },
  {
   "cell_type": "code",
   "execution_count": 12,
   "metadata": {},
   "outputs": [
    {
     "data": {
      "text/plain": [
       "'안녕 파이썬'"
      ]
     },
     "execution_count": 12,
     "metadata": {},
     "output_type": "execute_result"
    }
   ],
   "source": [
    "x"
   ]
  },
  {
   "cell_type": "code",
   "execution_count": 13,
   "metadata": {},
   "outputs": [],
   "source": [
    "#global문\n",
    "# 전역변수에 접근하기\n",
    "x = '안녕 파이썬'\n",
    "\n",
    "def func():\n",
    "    global x\n",
    "    x = 'hi python'\n",
    "    print(x)\n"
   ]
  },
  {
   "cell_type": "code",
   "execution_count": 14,
   "metadata": {},
   "outputs": [
    {
     "name": "stdout",
     "output_type": "stream",
     "text": [
      "hi python\n"
     ]
    }
   ],
   "source": [
    "func()"
   ]
  },
  {
   "cell_type": "code",
   "execution_count": 15,
   "metadata": {},
   "outputs": [
    {
     "data": {
      "text/plain": [
       "'hi python'"
      ]
     },
     "execution_count": 15,
     "metadata": {},
     "output_type": "execute_result"
    }
   ],
   "source": [
    "x"
   ]
  },
  {
   "cell_type": "code",
   "execution_count": 16,
   "metadata": {},
   "outputs": [],
   "source": [
    "# nonlocal문\n",
    "# 상위변수 접근하기\n",
    "\n",
    "x = '안녕 파이썬'\n",
    "\n",
    "def func():\n",
    "    x = 'Hi python'\n",
    "    def localfunc():\n",
    "        nonlocal x\n",
    "        x = '코딩'\n",
    "        print(x)\n",
    "    print(x)\n",
    "    localfunc()\n",
    "    print(x)"
   ]
  },
  {
   "cell_type": "code",
   "execution_count": 17,
   "metadata": {
    "scrolled": true
   },
   "outputs": [
    {
     "name": "stdout",
     "output_type": "stream",
     "text": [
      "Hi python\n",
      "코딩\n",
      "코딩\n"
     ]
    }
   ],
   "source": [
    "func()"
   ]
  },
  {
   "cell_type": "code",
   "execution_count": 82,
   "metadata": {},
   "outputs": [
    {
     "name": "stdout",
     "output_type": "stream",
     "text": [
      "Hi python\n",
      "1\n",
      "Hi python\n",
      "2\n",
      "Hi python\n",
      "3\n",
      "Hi python\n",
      "4\n",
      "코딩\n",
      "코딩\n",
      "Hi python\n",
      "5\n",
      "안녕 파이썬\n"
     ]
    }
   ],
   "source": [
    "# nonlocal문\n",
    "# 상위변수 접근하기\n",
    "## 혼자 궁금한거\n",
    "\n",
    "x = '안녕 파이썬'\n",
    "\n",
    "def func():\n",
    "    i = 0\n",
    "    while i <5:\n",
    "        x = 'Hi python'\n",
    "        def localfunc():\n",
    "            nonlocal x\n",
    "            x = '코딩'\n",
    "            print(x)\n",
    "        print(x)\n",
    "        i+=1\n",
    "        print(i)\n",
    "        if i == 4: \n",
    "            localfunc()\n",
    "            print(x)\n",
    "\n",
    "func()\n",
    "print(x)"
   ]
  },
  {
   "cell_type": "markdown",
   "metadata": {},
   "source": [
    "## 5. 함수 문서화"
   ]
  },
  {
   "cell_type": "code",
   "execution_count": null,
   "metadata": {},
   "outputs": [],
   "source": []
  },
  {
   "cell_type": "code",
   "execution_count": null,
   "metadata": {},
   "outputs": [],
   "source": []
  },
  {
   "cell_type": "code",
   "execution_count": null,
   "metadata": {},
   "outputs": [],
   "source": []
  },
  {
   "cell_type": "code",
   "execution_count": null,
   "metadata": {},
   "outputs": [],
   "source": []
  },
  {
   "cell_type": "code",
   "execution_count": null,
   "metadata": {},
   "outputs": [],
   "source": []
  },
  {
   "cell_type": "code",
   "execution_count": null,
   "metadata": {},
   "outputs": [],
   "source": []
  }
 ],
 "metadata": {
  "kernelspec": {
   "display_name": "Python 3",
   "language": "python",
   "name": "python3"
  },
  "language_info": {
   "codemirror_mode": {
    "name": "ipython",
    "version": 3
   },
   "file_extension": ".py",
   "mimetype": "text/x-python",
   "name": "python",
   "nbconvert_exporter": "python",
   "pygments_lexer": "ipython3",
   "version": "3.6.5"
  }
 },
 "nbformat": 4,
 "nbformat_minor": 2
}
