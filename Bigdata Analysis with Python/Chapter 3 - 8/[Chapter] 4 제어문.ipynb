{
 "cells": [
  {
   "cell_type": "markdown",
   "metadata": {},
   "source": [
    "# [Chapter] 4 제어문\n"
   ]
  },
  {
   "cell_type": "markdown",
   "metadata": {},
   "source": [
    "## 1. 조건문\n",
    "- 조건문을 사용하면 조건의 참과 거짓 여부에 따라 무슨 명령문을 실행할지 결정\n",
    "- 주로 두개 이상의 대안 -> 조건문에 따라 둘중 하나를 선택해서 실행"
   ]
  },
  {
   "cell_type": "code",
   "execution_count": 5,
   "metadata": {},
   "outputs": [],
   "source": [
    "from IPython.core.interactiveshell import InteractiveShell\n",
    "InteractiveShell.ast_node_interactivity = \"all\""
   ]
  },
  {
   "cell_type": "code",
   "execution_count": 3,
   "metadata": {},
   "outputs": [
    {
     "name": "stdout",
     "output_type": "stream",
     "text": [
      "숫자(정수)를 입력하세요: 3\n",
      "입력한 숫자는 양의 정수입니다.\n"
     ]
    }
   ],
   "source": [
    "# 조건문 기본형식\n",
    "# if 불린-표현식 :\n",
    "# if - 명령문\n",
    "\n",
    "number = input('숫자(정수)를 입력하세요: ')\n",
    "if int(number)>0:\n",
    "    print('입력한 숫자는 양의 정수입니다.')"
   ]
  },
  {
   "cell_type": "code",
   "execution_count": 4,
   "metadata": {},
   "outputs": [
    {
     "name": "stdout",
     "output_type": "stream",
     "text": [
      "숫자(정수)를 입력하세요: -5\n",
      "입력한 숫자는 양의 정수가 아닙니다.\n"
     ]
    }
   ],
   "source": [
    "# 조건문 기본형식\n",
    "# if 불린-표현식 :\n",
    "# if - 명령문\n",
    "\n",
    "number = input('숫자(정수)를 입력하세요: ')\n",
    "if int(number)>0:\n",
    "    print('입력한 숫자는 양의 정수입니다.')\n",
    "else :\n",
    "    print('입력한 숫자는 양의 정수가 아닙니다.')"
   ]
  },
  {
   "cell_type": "markdown",
   "metadata": {},
   "source": [
    "##### 조건문 일반형식 - 조건문 작성방법\n",
    "\n",
    "    if 불린표현식1\n",
    "        if 명령문\n",
    "    elif 불란 표현식2 #elseif 문은 선택사항\n",
    "    ...\n",
    "    elif 불린표현식n\n",
    "        elif 명령문n\n",
    "    else:\n",
    "        else 명령문 \n",
    "    #else 문은 선택사항이며 항상 마지막에 위치\n",
    "    \n",
    "- 조건문은 어떤 조건에 따라 프로그램의 논리가 특정한 방향으로 진행되어야 하는 경우 사용\n",
    "- if - then - else\n",
    "- 불린표현식 : 값이 참 또는 거짓\n",
    "\n"
   ]
  },
  {
   "cell_type": "code",
   "execution_count": 5,
   "metadata": {},
   "outputs": [
    {
     "name": "stdout",
     "output_type": "stream",
     "text": [
      "첫 번째 숫자(정수)를 입력하세요: 5\n",
      "두 번째 숫자(정수)를 입력하세요: 7\n",
      "둘 중 더 큰 수는 7입니다\n"
     ]
    }
   ],
   "source": [
    "#예시 : 조건문\n",
    "prompt = '{} 숫자(정수)를 입력하세요: '\n",
    "result = '둘 중 더 큰 수는 {}입니다'\n",
    "\n",
    "x = input(prompt.format('첫 번째'))\n",
    "y = input(prompt.format('두 번째'))\n",
    "\n",
    "if int(x) > int(y):\n",
    "    print(result.format(x))\n",
    "\n",
    "elif int(x) < int(y):\n",
    "    print(result.format(y))\n",
    "\n",
    "else :\n",
    "    print('둘은 같은 숫자군요.')"
   ]
  },
  {
   "cell_type": "code",
   "execution_count": 13,
   "metadata": {},
   "outputs": [
    {
     "name": "stdout",
     "output_type": "stream",
     "text": [
      "첫 번째 숫자(정수)를 입력하세요: 11\n",
      "두 번째 숫자(정수)를 입력하세요: 11\n",
      "둘은 같은 숫자군요.\n"
     ]
    }
   ],
   "source": [
    "#중첩 조건문\n",
    "prompt = '{} 숫자(정수)를 입력하세요: '\n",
    "result = '둘 중 더 큰 수는 {}입니다'\n",
    "\n",
    "x = input(prompt.format('첫 번째'))\n",
    "y = input(prompt.format('두 번째'))\n",
    "\n",
    "if x == y:\n",
    "    print('둘은 같은 숫자군요.')\n",
    "\n",
    "else:\n",
    "    if x > y:\n",
    "        print(result.format(x))\n",
    "    \n",
    "    else :\n",
    "        print(result.format(y))\n"
   ]
  },
  {
   "cell_type": "code",
   "execution_count": 17,
   "metadata": {},
   "outputs": [
    {
     "data": {
      "text/plain": [
       "100"
      ]
     },
     "execution_count": 17,
     "metadata": {},
     "output_type": "execute_result"
    }
   ],
   "source": [
    "# 간편 조건문 - 예시\n",
    "margin = False\n",
    "if margin :\n",
    "    width = 100 +10\n",
    "else:\n",
    "    width = 100 + 0\n",
    "    width"
   ]
  },
  {
   "cell_type": "code",
   "execution_count": 20,
   "metadata": {},
   "outputs": [
    {
     "data": {
      "text/plain": [
       "0"
      ]
     },
     "execution_count": 20,
     "metadata": {},
     "output_type": "execute_result"
    },
    {
     "data": {
      "text/plain": [
       "100"
      ]
     },
     "execution_count": 20,
     "metadata": {},
     "output_type": "execute_result"
    }
   ],
   "source": [
    "# 간편 조건문 - 예시1\n",
    "margin = False\n",
    "width = 100+10 if margin else 0\n",
    "width = 100+10 if margin else 0\n",
    "width\n",
    "\n",
    "margin = False\n",
    "width = 100+10 if margin else 0\n",
    "width = 100+ (10 if margin else 0)\n",
    "width"
   ]
  },
  {
   "cell_type": "markdown",
   "metadata": {},
   "source": [
    "###### # 추가예시 : 간편 조건문\n",
    "\n",
    "print('{}file{}'.format((count if count != 0 else 'No'),('s' if count != 1 else ' ')))\n",
    "\n",
    "{}대체필드1 / 문자열file / {대체필드2} /문자열서식.format / 전달인자\n"
   ]
  },
  {
   "cell_type": "code",
   "execution_count": 6,
   "metadata": {},
   "outputs": [
    {
     "name": "stdout",
     "output_type": "stream",
     "text": [
      "2files\n"
     ]
    }
   ],
   "source": [
    "count= 2\n",
    "print('{}file{}'.format((count if count != 0 else 'No'),('s' if count != 1 else ' ')))"
   ]
  },
  {
   "cell_type": "markdown",
   "metadata": {},
   "source": [
    "## 2. 순환문(loop)\n",
    "\n",
    "순환문이란\n",
    "특정조건에 도달할때까지 계속 반복 (=반복문)\n",
    "\n",
    "   - for 문 : 주어진 조건이 참인 동안 반복 실행\n",
    "   - while : 주어진 조건이 참인 동안 반복 실행"
   ]
  },
  {
   "cell_type": "markdown",
   "metadata": {},
   "source": [
    "### 1) while 문"
   ]
  },
  {
   "cell_type": "code",
   "execution_count": 23,
   "metadata": {},
   "outputs": [
    {
     "name": "stdout",
     "output_type": "stream",
     "text": [
      "안녕 파이썬\n",
      "안녕 파이썬\n",
      "안녕 파이썬\n",
      "안녕 파이썬\n",
      "안녕 파이썬\n"
     ]
    }
   ],
   "source": [
    "# while 문\n",
    "x = 0\n",
    "while x < 5 :\n",
    "    print('안녕 파이썬')\n",
    "    x += 1"
   ]
  },
  {
   "cell_type": "markdown",
   "metadata": {},
   "source": [
    "###### # while 문 일반형식 - 작성방법\n",
    "- while 정상적으로 종료되었다면 # else 문은 반드시 실행됨 #\n",
    "- else 문 실행 규칙은 아래 명령문에 모두 적용\n",
    "    - while \n",
    "    - for in\n",
    "    - try except \n",
    "    \n",
    "    \n",
    "- else 문이 실행되지 않는 경우\n",
    "    - while 문이 break 또는 return 에 의해 종료\n",
    "    - while 문 실행중 예외 발생"
   ]
  },
  {
   "cell_type": "code",
   "execution_count": 24,
   "metadata": {},
   "outputs": [
    {
     "name": "stdout",
     "output_type": "stream",
     "text": [
      "1부터 10까지의 합은 55입니다.\n"
     ]
    }
   ],
   "source": [
    "# 예시 : while문\n",
    "total = 0\n",
    "i = 0\n",
    "while i < 10 :\n",
    "    i +=1\n",
    "    total += i\n",
    "else:\n",
    "    print('1부터 10까지의 합은 {}입니다.'.format(total))"
   ]
  },
  {
   "cell_type": "code",
   "execution_count": 26,
   "metadata": {},
   "outputs": [
    {
     "name": "stdout",
     "output_type": "stream",
     "text": [
      "리스트에 들어있는 숫자의 합은 0입니다.\n"
     ]
    }
   ],
   "source": [
    "integers = [1,2,3,4,5,6,7,8,9,10]\n",
    "total = 0\n",
    "while i < len(integers):\n",
    "    total += integers[i]\n",
    "    i += 1\n",
    "else:\n",
    "    print('리스트에 들어있는 숫자의 합은 {}입니다.'.format(total))"
   ]
  },
  {
   "cell_type": "code",
   "execution_count": 7,
   "metadata": {},
   "outputs": [
    {
     "name": "stdout",
     "output_type": "stream",
     "text": [
      "1. 학생 추가\n",
      "2. 학생 삭제\n",
      "3. 학생 목록 보기\n",
      "4. 종료\n",
      "메뉴 번호를 입력하세요: 5\n",
      "5번 메뉴를 선택했습니다.\n",
      "\n",
      "1. 학생 추가\n",
      "2. 학생 삭제\n",
      "3. 학생 목록 보기\n",
      "4. 종료\n",
      "메뉴 번호를 입력하세요: 2\n",
      "2번 메뉴를 선택했습니다.\n",
      "\n",
      "1. 학생 추가\n",
      "2. 학생 삭제\n",
      "3. 학생 목록 보기\n",
      "4. 종료\n",
      "메뉴 번호를 입력하세요: 4\n",
      "4번 메뉴를 선택했습니다.\n",
      "\n",
      "Bye~~~~\n"
     ]
    }
   ],
   "source": [
    "menu = '''1. 학생 추가\n",
    "2. 학생 삭제\n",
    "3. 학생 목록 보기\n",
    "4. 종료'''\n",
    "\n",
    "number = 0\n",
    "while number!=4:\n",
    "    print(menu)\n",
    "    number = int(input('메뉴 번호를 입력하세요: '))\n",
    "    print('{}번 메뉴를 선택했습니다.\\n'.format(number))\n",
    "else:\n",
    "    print('Bye~~~~')"
   ]
  },
  {
   "cell_type": "code",
   "execution_count": 13,
   "metadata": {},
   "outputs": [
    {
     "name": "stdout",
     "output_type": "stream",
     "text": [
      "블루베리\n",
      "블루베리가 선택되어 프로그램을 종료합니다.\n"
     ]
    }
   ],
   "source": [
    "# 예시 : while문\n",
    "import random\n",
    "fruits = ['사과','바나나','블루베리','포도']\n",
    "fruit = ''\n",
    "while fruit != '블루베리':\n",
    "    fruit = random.choice(fruits)\n",
    "    print(fruit)\n",
    "else :\n",
    "    print('블루베리가 선택되어 프로그램을 종료합니다.')"
   ]
  },
  {
   "cell_type": "code",
   "execution_count": 14,
   "metadata": {},
   "outputs": [
    {
     "name": "stdout",
     "output_type": "stream",
     "text": [
      "포도\n",
      "딸기\n",
      "바나나\n",
      "포도\n"
     ]
    }
   ],
   "source": [
    "# 예시 : while문\n",
    "import random\n",
    "fruits = ['사과','딸기','바나나','블루베리','포도']\n",
    "fruit = ''\n",
    "while fruit != '블루베리':\n",
    "    fruit = random.choice(fruits)\n",
    "    if fruit == '블루베리':\n",
    "        break\n",
    "    print(fruit)\n",
    "else :\n",
    "    print('블루베리가 선택되어 프로그램을 종료합니다.')"
   ]
  },
  {
   "cell_type": "markdown",
   "metadata": {},
   "source": [
    "### 2) for 문"
   ]
  },
  {
   "cell_type": "code",
   "execution_count": 36,
   "metadata": {},
   "outputs": [
    {
     "name": "stdout",
     "output_type": "stream",
     "text": [
      "안녕 파이썬\n",
      "안녕 파이썬\n",
      "안녕 파이썬\n",
      "안녕 파이썬\n",
      "안녕 파이썬\n"
     ]
    }
   ],
   "source": [
    "#for 문 기본형식\n",
    "\n",
    "for i in range(5):\n",
    "    print('안녕 파이썬')"
   ]
  },
  {
   "cell_type": "code",
   "execution_count": 37,
   "metadata": {},
   "outputs": [
    {
     "name": "stdout",
     "output_type": "stream",
     "text": [
      "안녕 파이썬\n",
      "안녕 파이썬\n",
      "안녕 파이썬\n",
      "안녕 파이썬\n",
      "안녕 파이썬\n"
     ]
    }
   ],
   "source": [
    "x = 0\n",
    "while x < 5 :\n",
    "    print('안녕 파이썬')\n",
    "    x += 1"
   ]
  },
  {
   "cell_type": "markdown",
   "metadata": {},
   "source": [
    "###### # for문 작성방법\n",
    "- 항목은 하나의 변수일수도 잇고 복합변수가능\n",
    "- 정상적으로 종료되었다면 else 문은 반드시 실행됨\n",
    "\n",
    "\n",
    "- range()함수\n",
    "    - 범위 안의 정수를 담은 순회자를 반환\n",
    "        ( 0 ~ n-1까지 반환)\n",
    "- enumerate(iterable,start = 0)\n",
    "    - 순회형 자료를 입력받아 인덱스와 객체를 포함하는 열거형객체를 반환"
   ]
  },
  {
   "cell_type": "code",
   "execution_count": 38,
   "metadata": {},
   "outputs": [],
   "source": [
    "#range(iterable,statr,end)"
   ]
  },
  {
   "cell_type": "code",
   "execution_count": 39,
   "metadata": {},
   "outputs": [
    {
     "data": {
      "text/plain": [
       "range(0, 10)"
      ]
     },
     "execution_count": 39,
     "metadata": {},
     "output_type": "execute_result"
    },
    {
     "data": {
      "text/plain": [
       "[0, 1, 2, 3, 4, 5, 6, 7, 8, 9]"
      ]
     },
     "execution_count": 39,
     "metadata": {},
     "output_type": "execute_result"
    },
    {
     "data": {
      "text/plain": [
       "[3, 4, 5, 6, 7, 8, 9]"
      ]
     },
     "execution_count": 39,
     "metadata": {},
     "output_type": "execute_result"
    },
    {
     "data": {
      "text/plain": [
       "[3, 5, 7, 9]"
      ]
     },
     "execution_count": 39,
     "metadata": {},
     "output_type": "execute_result"
    },
    {
     "data": {
      "text/plain": [
       "[10, 8, 6, 4]"
      ]
     },
     "execution_count": 39,
     "metadata": {},
     "output_type": "execute_result"
    },
    {
     "data": {
      "text/plain": [
       "[]"
      ]
     },
     "execution_count": 39,
     "metadata": {},
     "output_type": "execute_result"
    },
    {
     "data": {
      "text/plain": [
       "[]"
      ]
     },
     "execution_count": 39,
     "metadata": {},
     "output_type": "execute_result"
    },
    {
     "data": {
      "text/plain": [
       "(15, 10, 5, 0, -5, -10, -15, -20)"
      ]
     },
     "execution_count": 39,
     "metadata": {},
     "output_type": "execute_result"
    }
   ],
   "source": [
    "# 예시 : range함수\n",
    "range(10)\n",
    "list(range(10))\n",
    "list(range(3,10))\n",
    "list(range(3,10,2))\n",
    "list(range(10,3,-2))\n",
    "list(range(3,10,-2))#반환하는 것이 없음\n",
    "list(range(10,3)) #반환하는 것이 없음\n",
    "\n",
    "\n",
    "tuple(range(15,-21,-5))\n",
    "\n"
   ]
  },
  {
   "cell_type": "code",
   "execution_count": 42,
   "metadata": {},
   "outputs": [
    {
     "data": {
      "text/plain": [
       "[45, 12, 7, 0, 38, 8]"
      ]
     },
     "execution_count": 42,
     "metadata": {},
     "output_type": "execute_result"
    }
   ],
   "source": [
    "#예시 :range함수와 리스트\n",
    "#리스트의 모든 음수를 양수로 변환\n",
    "L = [45,-12,7,0,-38,-8]\n",
    "\n",
    "i = 0\n",
    "while i <len(L):\n",
    "    L[i] = abs(L[i])\n",
    "    i += 1\n",
    "L\n"
   ]
  },
  {
   "cell_type": "code",
   "execution_count": 1,
   "metadata": {},
   "outputs": [
    {
     "data": {
      "text/plain": [
       "[45, 12, 7, 0, 38, 8]"
      ]
     },
     "execution_count": 1,
     "metadata": {},
     "output_type": "execute_result"
    }
   ],
   "source": [
    "# for 문에서 range 함수를 사용하면 코드가 훨씬 간결해 진다\n",
    "L = [45,-12,7,0,-38,-8]\n",
    "for i in range(len(L)):\n",
    "    L[i] = abs(L[i])\n",
    "L"
   ]
  },
  {
   "cell_type": "code",
   "execution_count": 2,
   "metadata": {},
   "outputs": [
    {
     "name": "stdout",
     "output_type": "stream",
     "text": [
      "1부터 10까지의 합은 55입니다.\n"
     ]
    }
   ],
   "source": [
    "# 예시 :for\n",
    "total = 0\n",
    "for i in range(1,11):\n",
    "    total+=i\n",
    "else :\n",
    "    print('1부터 10까지의 합은 {}입니다.'.format(total))\n"
   ]
  },
  {
   "cell_type": "code",
   "execution_count": 47,
   "metadata": {},
   "outputs": [
    {
     "name": "stdout",
     "output_type": "stream",
     "text": [
      "리스트에 들어있는 숫자의 합은 55입니다.\n"
     ]
    }
   ],
   "source": [
    "# 예시 :for\n",
    "\n",
    "integers = [1,2,3,4,5,6,7,8,9,10]\n",
    "total = 0\n",
    "for item in integers: #리스트의 모든 항목을 처리한 후 종료\n",
    "    total += item\n",
    "else :\n",
    "    print('리스트에 들어있는 숫자의 합은 {}입니다.'.format(total))"
   ]
  },
  {
   "cell_type": "markdown",
   "metadata": {},
   "source": [
    "##### enumerate()함수\n",
    "    \n",
    "- 순회형 전달인자를 입력받아 인덱스와 객체를 쌍으로 담은 열거형 객체를 반환  \n",
    "   => 즉, 2-튜플(인덱스,객체)을 반환"
   ]
  },
  {
   "cell_type": "code",
   "execution_count": 3,
   "metadata": {},
   "outputs": [
    {
     "name": "stdout",
     "output_type": "stream",
     "text": [
      "1 : 사과\n",
      "2 : 딸기\n",
      "3 : 바나나\n",
      "4 : 블루베리\n",
      "5 : 포도\n",
      "\n",
      "11 : 사과\n",
      "12 : 딸기\n",
      "13 : 바나나\n",
      "14 : 블루베리\n",
      "15 : 포도\n"
     ]
    }
   ],
   "source": [
    "fruits = ['사과','딸기','바나나','블루베리','포도']\n",
    "enumerate(fruits)\n",
    "\n",
    "for number, fruit in enumerate(fruits):\n",
    "    print(number+1,':',fruit)\n",
    "    # 튜플의 인덱스 : 객체\n",
    "\n",
    "print()\n",
    "\n",
    "for number, fruit in enumerate(fruits,11):\n",
    "    print(number,':',fruit)\n",
    "    "
   ]
  },
  {
   "cell_type": "code",
   "execution_count": 58,
   "metadata": {},
   "outputs": [
    {
     "name": "stdout",
     "output_type": "stream",
     "text": [
      "--- range 사용\n"
     ]
    },
    {
     "data": {
      "text/plain": [
       "[45, 12, 7, 0, 38, 8]"
      ]
     },
     "execution_count": 58,
     "metadata": {},
     "output_type": "execute_result"
    },
    {
     "data": {
      "text/plain": [
       "[45, 12, 7, 0, 38, 8]"
      ]
     },
     "execution_count": 58,
     "metadata": {},
     "output_type": "execute_result"
    }
   ],
   "source": [
    "# 예시 : for 문과 enumerate 함수\n",
    "# --- range 사용\n",
    "print('--- range 사용')\n",
    "L = [45,-12,7,0,-38,-8]\n",
    "for i in range(len(L)):\n",
    "    L[i] = abs(L[i])\n",
    "L\n",
    "\n",
    "# --- enumerate 사용\n",
    "L = [45,-12,7,0,-38,-8]\n",
    "for i , _ in enumerate(L) :\n",
    "    L[i] = abs(L[i])\n",
    "L\n",
    "# 더미변수 사용 --> pythonic way\n"
   ]
  },
  {
   "cell_type": "code",
   "execution_count": 60,
   "metadata": {},
   "outputs": [
    {
     "name": "stdout",
     "output_type": "stream",
     "text": [
      "21 사과\n",
      "27 바나나\n",
      "35 블루베리\n",
      "29 딸기\n",
      "38 포도\n"
     ]
    }
   ],
   "source": [
    "# for 문과 튜플대입(언패킹)\n",
    "display_stand = [\n",
    "    ('사과',21),\n",
    "    ('바나나',27),\n",
    "    ('블루베리',35),\n",
    "    ('딸기',29),\n",
    "    ('포도',38)\n",
    "]\n",
    "\n",
    "#튜플 대입으로 과일 진열대 번호에 진열할 과일 목록\n",
    "for fruit, number in display_stand:\n",
    "    print(number,fruit)"
   ]
  },
  {
   "cell_type": "code",
   "execution_count": 61,
   "metadata": {},
   "outputs": [
    {
     "name": "stdout",
     "output_type": "stream",
     "text": [
      "('악기', ['기타', '베이스'])\n",
      "('가족', {1: '엄마', 2: '아빠', 3: '나'})\n",
      "((8, 15), '광복절')\n",
      "('RGB', [255, 72, 90])\n",
      "('id', ())\n",
      "(0, 55)\n",
      "(-307, None)\n",
      "('fruits', set())\n"
     ]
    }
   ],
   "source": [
    "#for문과 딕셔너리 순회\n",
    "instrument = ['기타','베이스']\n",
    "simple_dic= {1:'엄마',2:'아빠',3:'나'}\n",
    "complex_dic = {\n",
    "    '악기':instrument,\n",
    "    '가족':simple_dic,\n",
    "    (8,15):'광복절',\n",
    "    'RGB':[255,72,90],\n",
    "    'id':(),\n",
    "    0:55,\n",
    "    -307:None,\n",
    "    'fruits': set()\n",
    "}\n",
    "\n",
    "for e in complex_dic.items():\n",
    "    print(e)"
   ]
  },
  {
   "cell_type": "code",
   "execution_count": 62,
   "metadata": {},
   "outputs": [
    {
     "name": "stdout",
     "output_type": "stream",
     "text": [
      "악기 : ['기타', '베이스']\n",
      "가족 : {1: '엄마', 2: '아빠', 3: '나'}\n",
      "(8, 15) : 광복절\n",
      "RGB : [255, 72, 90]\n",
      "id : ()\n",
      "0 : 55\n",
      "-307 : None\n",
      "fruits : set()\n"
     ]
    }
   ],
   "source": [
    "for key, value in complex_dic.items():\n",
    "    print(key,':',value)"
   ]
  },
  {
   "cell_type": "markdown",
   "metadata": {},
   "source": [
    "차이점??\n",
    "리스트 형식으로 \n",
    "튜플형식 반환"
   ]
  },
  {
   "cell_type": "markdown",
   "metadata": {},
   "source": [
    "##### # zip 함수\n",
    "\n",
    "- 두개 이상의 순회형을 받음\n",
    "- 튜플의 순회자(즉,항목이 튜플인 리스트)를 반환하는데 , i번째 튜플은 각 배열형 또는 순회형 인자의 i 번째 항목을 담고 있음\n",
    "- 가장 짧은 인자의 항목이 전부사용되면 순회자가 멈춤\n",
    "         \n",
    "         len(가장짧은 인자)"
   ]
  },
  {
   "cell_type": "code",
   "execution_count": 9,
   "metadata": {},
   "outputs": [
    {
     "data": {
      "text/plain": [
       "<zip at 0x107be8d48>"
      ]
     },
     "execution_count": 9,
     "metadata": {},
     "output_type": "execute_result"
    },
    {
     "data": {
      "text/plain": [
       "[('a', 'i', '1'), ('b', 'j', '2'), ('c', 'k', '3')]"
      ]
     },
     "execution_count": 9,
     "metadata": {},
     "output_type": "execute_result"
    }
   ],
   "source": [
    "x = ('a','b','c') #튜플(길이=3)\n",
    "y = ['i','j','k','l'] #리스트(길이=4)\n",
    "z = '12345' #문자열 (길이=5)\n",
    "\n",
    "zip(x,y,z)\n",
    "k = list(zip(x,y,z))\n",
    "k"
   ]
  },
  {
   "cell_type": "code",
   "execution_count": 64,
   "metadata": {},
   "outputs": [
    {
     "name": "stdout",
     "output_type": "stream",
     "text": [
      "('a', 'i', '1')\n",
      "('b', 'j', '2')\n",
      "('c', 'k', '3')\n"
     ]
    }
   ],
   "source": [
    "for t in zip(x,y,z):\n",
    "    print(t) #튜플형태로 반환"
   ]
  },
  {
   "cell_type": "code",
   "execution_count": 65,
   "metadata": {},
   "outputs": [
    {
     "data": {
      "text/plain": [
       "[('a', 1), ('b', 2), ('c', 3)]"
      ]
     },
     "execution_count": 65,
     "metadata": {},
     "output_type": "execute_result"
    }
   ],
   "source": [
    "# 예시 : zip 함수\n",
    "x = 'abc'\n",
    "y = [1,2,3]\n",
    "list(zip(x,y))"
   ]
  },
  {
   "cell_type": "code",
   "execution_count": 66,
   "metadata": {},
   "outputs": [
    {
     "data": {
      "text/plain": [
       "('엄마', '아빠', '나')"
      ]
     },
     "execution_count": 66,
     "metadata": {},
     "output_type": "execute_result"
    },
    {
     "data": {
      "text/plain": [
       "('드럼', '베이스', '기타')"
      ]
     },
     "execution_count": 66,
     "metadata": {},
     "output_type": "execute_result"
    }
   ],
   "source": [
    "musicians= [('엄마','드럼'),('아빠','베이스'),('나','기타')]\n",
    "member, instrument = zip(*musicians) #%%!배열형 전달인자 언패킹\n",
    "\n",
    "member\n",
    "instrument"
   ]
  },
  {
   "cell_type": "markdown",
   "metadata": {},
   "source": [
    "###### # 무한루프\n",
    "프로그램이 끝없이 동작\n",
    "루프문에 종료 조건이 없거나 종료조건과 만나지 않을때\n",
    "\n",
    "무한루프의 종료 : ctrl + c"
   ]
  },
  {
   "cell_type": "code",
   "execution_count": 67,
   "metadata": {},
   "outputs": [
    {
     "name": "stdout",
     "output_type": "stream",
     "text": [
      "운동을 시킵시다. 체력이 1 감소합니다.\n",
      "운동을 시킵시다. 체력이 1 감소합니다.\n",
      "운동을 시킵시다. 체력이 1 감소합니다.\n",
      "운동을 시킵시다. 체력이 1 감소합니다.\n",
      "운동을 시킵시다. 체력이 1 감소합니다.\n",
      "운동을 시킵시다. 체력이 1 감소합니다.\n",
      "운동을 시킵시다. 체력이 1 감소합니다.\n",
      "운동을 시킵시다. 체력이 1 감소합니다.\n",
      "운동을 시킵시다. 체력이 1 감소합니다.\n",
      "운동을 시킵시다. 체력이 1 감소합니다.\n",
      "체력이 고갈되었습니다. 더 이상 운동을 할 수 없습니다.\n"
     ]
    }
   ],
   "source": [
    "# 무한루프 종료하기\n",
    "status = True\n",
    "stamina = 10\n",
    "while status : \n",
    "    print('운동을 시킵시다. 체력이 1 감소합니다.')\n",
    "    stamina -= 1\n",
    "    if stamina == 0:\n",
    "        print('체력이 고갈되었습니다. 더 이상 운동을 할 수 없습니다.')\n",
    "        status = False\n",
    "        \n",
    "#무한루프처럼 보이지만 10회후 멈춤\n",
    "# while 문이 한번돌아갈 때마다 stamina가 1씩 감소해 \n",
    "# stamina가 0이 되는 순간 False되어 종료"
   ]
  },
  {
   "cell_type": "code",
   "execution_count": 68,
   "metadata": {},
   "outputs": [
    {
     "name": "stdout",
     "output_type": "stream",
     "text": [
      "운동을 시킵시다. 체력이 1 감소합니다.\n",
      "운동을 시킵시다. 체력이 1 감소합니다.\n",
      "운동을 시킵시다. 체력이 1 감소합니다.\n",
      "운동을 시킵시다. 체력이 1 감소합니다.\n",
      "운동을 시킵시다. 체력이 1 감소합니다.\n",
      "운동을 시킵시다. 체력이 1 감소합니다.\n",
      "운동을 시킵시다. 체력이 1 감소합니다.\n",
      "운동을 시킵시다. 체력이 1 감소합니다.\n",
      "운동을 시킵시다. 체력이 1 감소합니다.\n",
      "운동을 시킵시다. 체력이 1 감소합니다.\n",
      "체력이 고갈되었습니다. 더 이상 운동을 할 수 없습니다.\n"
     ]
    }
   ],
   "source": [
    "# 무한루프 종료하기 - break문 활용\n",
    "status = True\n",
    "stamina = 10\n",
    "while status : \n",
    "    print('운동을 시킵시다. 체력이 1 감소합니다.')\n",
    "    stamina -= 1\n",
    "    if stamina == 0:\n",
    "        print('체력이 고갈되었습니다. 더 이상 운동을 할 수 없습니다.')\n",
    "        break\n",
    "\n",
    "#if 문에서 조건문이 stamina가 0이 아닌 이상 참이므로 계속 돌아감\n",
    "#stamina 가 0이 되는 순간 False"
   ]
  },
  {
   "cell_type": "markdown",
   "metadata": {},
   "source": [
    "###### # break와 continue\n",
    "\n",
    "순환문의 흐름을 제어하는데 사용\n",
    "\n",
    "- break\n",
    "     - break이후의 모든코드 건너뛰고 break가 속한 순환문 종료하고 빠져나옴중첩순환문 안에 있으면 가장 안쪽 순환문만을 종료하고 빠져나옴\n",
    "    \n",
    "- continue\n",
    "    - continue이후 모든 코드를 건너뛰고 순환문의 첫명령문으로 되돌아가 다음 반복을 진행"
   ]
  },
  {
   "cell_type": "code",
   "execution_count": 72,
   "metadata": {},
   "outputs": [
    {
     "name": "stdout",
     "output_type": "stream",
     "text": [
      "1\n",
      "continue문이 실행됨\n",
      "7\n",
      "3\n",
      "continue문이 실행됨\n",
      "continue문이 실행됨\n",
      "9\n",
      "5\n",
      "continue문이 실행됨\n",
      "continue문이 실행됨\n",
      "7\n",
      "break문이 실행됨\n"
     ]
    }
   ],
   "source": [
    "#홀수면 출력하고 짝수면 건너뛰고 음수면 즉시 for 문을 종료함\n",
    "data = [1,4,7,3,8,6,9,5,0,2,7,-1,22,31]\n",
    "\n",
    "for i in data:\n",
    "    if i < 0:\n",
    "        print('break문이 실행됨')\n",
    "        break\n",
    "    elif i%2 == 1:\n",
    "        print(i)\n",
    "    else:\n",
    "        print('continue문이 실행됨')\n",
    "        continue\n",
    "else :\n",
    "    print('for문이 정상적으로 종료되면 이 문장이 반드시 출력됨.')"
   ]
  },
  {
   "cell_type": "code",
   "execution_count": 1,
   "metadata": {},
   "outputs": [
    {
     "name": "stdout",
     "output_type": "stream",
     "text": [
      "\n",
      "무언가를 입력하세요. 마치려면 그냥 <Enter> 키를 누르세요.\n",
      "입력하세요:  \n",
      " \n",
      "입력하세요: 11\n",
      "11\n",
      "입력하세요: \n"
     ]
    }
   ],
   "source": [
    "# 예시 : break와 continue 명령어와 무한루프\n",
    "print('\\n무언가를 입력하세요. 마치려면 그냥 <Enter> 키를 누르세요.')\n",
    "\n",
    "while True:\n",
    "    answer = input('입력하세요: ')\n",
    "    if not answer:\n",
    "        break\n",
    "    print(answer)\n",
    "    continue"
   ]
  },
  {
   "cell_type": "markdown",
   "metadata": {},
   "source": [
    "## 2. 예외처리\n",
    "    런타임 오류(runtime error)\n",
    "    -> 예외처리"
   ]
  },
  {
   "cell_type": "code",
   "execution_count": 75,
   "metadata": {},
   "outputs": [
    {
     "ename": "ZeroDivisionError",
     "evalue": "division by zero",
     "output_type": "error",
     "traceback": [
      "\u001b[0;31m---------------------------------------------------------------------------\u001b[0m",
      "\u001b[0;31mZeroDivisionError\u001b[0m                         Traceback (most recent call last)",
      "\u001b[0;32m<ipython-input-75-2b6d1f295330>\u001b[0m in \u001b[0;36m<module>\u001b[0;34m()\u001b[0m\n\u001b[1;32m      1\u001b[0m \u001b[0;31m# 예외\u001b[0m\u001b[0;34m\u001b[0m\u001b[0;34m\u001b[0m\u001b[0m\n\u001b[0;32m----> 2\u001b[0;31m \u001b[0;36m15\u001b[0m\u001b[0;34m/\u001b[0m\u001b[0;36m0\u001b[0m\u001b[0;34m\u001b[0m\u001b[0m\n\u001b[0m\u001b[1;32m      3\u001b[0m \u001b[0mf\u001b[0m \u001b[0;34m=\u001b[0m \u001b[0mopen\u001b[0m\u001b[0;34m(\u001b[0m\u001b[0;34m'hw1.py'\u001b[0m\u001b[0;34m)\u001b[0m\u001b[0;34m\u001b[0m\u001b[0m\n",
      "\u001b[0;31mZeroDivisionError\u001b[0m: division by zero"
     ]
    }
   ],
   "source": [
    "# 예외\n",
    "# (1) 예상치 못한 값이나 에러가 발생\n",
    "15/0"
   ]
  },
  {
   "cell_type": "code",
   "execution_count": 76,
   "metadata": {},
   "outputs": [
    {
     "ename": "FileNotFoundError",
     "evalue": "[Errno 2] No such file or directory: 'hw1.py'",
     "output_type": "error",
     "traceback": [
      "\u001b[0;31m---------------------------------------------------------------------------\u001b[0m",
      "\u001b[0;31mFileNotFoundError\u001b[0m                         Traceback (most recent call last)",
      "\u001b[0;32m<ipython-input-76-f7759b0cae25>\u001b[0m in \u001b[0;36m<module>\u001b[0;34m()\u001b[0m\n\u001b[0;32m----> 1\u001b[0;31m \u001b[0mf\u001b[0m \u001b[0;34m=\u001b[0m \u001b[0mopen\u001b[0m\u001b[0;34m(\u001b[0m\u001b[0;34m'hw1.py'\u001b[0m\u001b[0;34m)\u001b[0m\u001b[0;34m\u001b[0m\u001b[0m\n\u001b[0m",
      "\u001b[0;31mFileNotFoundError\u001b[0m: [Errno 2] No such file or directory: 'hw1.py'"
     ]
    }
   ],
   "source": [
    "# 흔치 않은 상황\n",
    "f = open('hw1.py')"
   ]
  },
  {
   "cell_type": "markdown",
   "metadata": {},
   "source": [
    "    예외처리를 하지 않거나 실패할 경우\n",
    "    프로그램 실행중 갑작스럽게 종료\n",
    "    예외방지\n",
    "    추적\n",
    "    \n",
    "    용어\n",
    "    - try() : 오류발생가능이 있는코드실행\n",
    "    -예외전달 : 예외객체를 명령문,/ 운영체제로 넘겨줌\n",
    "    - 예외상황 처리코드가 적절한 조치를 취함\n",
    "    "
   ]
  },
  {
   "cell_type": "markdown",
   "metadata": {},
   "source": [
    "###### # 예외처리 \n",
    "\n",
    "- 작성방법\n",
    "\n",
    "        try:\n",
    "            명령문\n",
    "        except 예외그룹 as 변수 :\n",
    "            명령문\n",
    "        else: \n",
    "            명령문\n",
    "        finally:\n",
    "            명령문\n",
    "\n",
    "- 예외처리\n",
    "    - 예외객체\n",
    "        예외가 발생하면 예외객체 생성 = 해당예외와 관련된 디폴트 오류 메시지\n",
    "        \n",
    "    ==> 각 except 문의 예외그룹은\n",
    "        - 하나의 예외처리\n",
    "        -튜플형채의 예외목록을 한번에 처리가능"
   ]
  },
  {
   "cell_type": "code",
   "execution_count": 77,
   "metadata": {},
   "outputs": [
    {
     "name": "stdout",
     "output_type": "stream",
     "text": [
      "뭔가 잘못되었습니다.\n"
     ]
    }
   ],
   "source": [
    "try:\n",
    "    15/0\n",
    "except ArithmeticError:\n",
    "    print('뭔가 잘못되었습니다.')"
   ]
  },
  {
   "cell_type": "code",
   "execution_count": 78,
   "metadata": {},
   "outputs": [
    {
     "name": "stdout",
     "output_type": "stream",
     "text": [
      "뭔가 잘못되었습니다.\n"
     ]
    }
   ],
   "source": [
    "try:\n",
    "    15/0\n",
    "except (ArithmeticError, ValueError, RuntimeError):\n",
    "    print('뭔가 잘못되었습니다.')"
   ]
  },
  {
   "cell_type": "markdown",
   "metadata": {},
   "source": [
    "###### # AS 변수\n",
    "예외가 하나의 예외객체/튜플형태 그룹경우 모두 \n",
    "발생한 예외객체를 출력!! \n"
   ]
  },
  {
   "cell_type": "code",
   "execution_count": 82,
   "metadata": {},
   "outputs": [
    {
     "name": "stdout",
     "output_type": "stream",
     "text": [
      "뭔가 잘못되었습니다. division by zero\n",
      "뭔가 잘못되었습니다. division by zero\n"
     ]
    }
   ],
   "source": [
    "try:\n",
    "    15/0\n",
    "except ArithmeticError as err:\n",
    "    print('뭔가 잘못되었습니다.',err)\n",
    "    \n",
    "try:\n",
    "    15/0\n",
    "except (ArithmeticError, ValueError, RuntimeError) as err:\n",
    "    print('뭔가 잘못되었습니다.',err)"
   ]
  },
  {
   "cell_type": "markdown",
   "metadata": {},
   "source": [
    "##### # except\n",
    "처리할 예외그룹을 정하지 않았을 경우\n",
    "발생하는 모든 에외를 처리\n",
    "가능한 발생할 수 있는 세부적인 목록을 정하는 것이 권장\n"
   ]
  },
  {
   "cell_type": "code",
   "execution_count": 83,
   "metadata": {},
   "outputs": [
    {
     "name": "stdout",
     "output_type": "stream",
     "text": [
      "뭔가 잘못된 것 같아요ㅠㅠ\n"
     ]
    }
   ],
   "source": [
    "k=5\n",
    "n=0\n",
    "try:\n",
    "    x = (k/n)\n",
    "except: #모든예외처리\n",
    "    print('뭔가 잘못된 것 같아요ㅠㅠ')"
   ]
  },
  {
   "cell_type": "code",
   "execution_count": 84,
   "metadata": {},
   "outputs": [
    {
     "name": "stdout",
     "output_type": "stream",
     "text": [
      "division by zero\n"
     ]
    }
   ],
   "source": [
    "k=5\n",
    "n=0\n",
    "try:\n",
    "    x = (k/n)\n",
    "except Exception as e: #ArithmeticError가 더 바람직\n",
    "    print(e)"
   ]
  },
  {
   "cell_type": "code",
   "execution_count": 86,
   "metadata": {},
   "outputs": [
    {
     "name": "stdout",
     "output_type": "stream",
     "text": [
      "ArithmeticError가 발생했습니다.\n"
     ]
    }
   ],
   "source": [
    "# 실행순서 = 세부적인 예외클래스를 먼저 작성후 범위를 넓혀야\n",
    "try:\n",
    "    15/0\n",
    "except ArithmeticError:\n",
    "    print('ArithmeticError가 발생했습니다.')\n",
    "except ZeroDivisionError:\n",
    "    print('ZeroDivisionError가 발생했습니다.')"
   ]
  },
  {
   "cell_type": "code",
   "execution_count": 87,
   "metadata": {},
   "outputs": [
    {
     "name": "stdout",
     "output_type": "stream",
     "text": [
      "ZeroDivisionError가 발생했습니다.\n"
     ]
    }
   ],
   "source": [
    "try:\n",
    "    15/0\n",
    "except ZeroDivisionError:\n",
    "    print('ZeroDivisionError가 발생했습니다.')\n",
    "except ArithmeticError:\n",
    "    print('ArithmeticError가 발생했습니다.')"
   ]
  },
  {
   "cell_type": "code",
   "execution_count": 90,
   "metadata": {},
   "outputs": [
    {
     "name": "stdout",
     "output_type": "stream",
     "text": [
      "LookupError 예외가 발생했습니다.\n"
     ]
    }
   ],
   "source": [
    "# 예시 ; 예외 클래스 계층\n",
    "d = {}\n",
    "try:\n",
    "    x = d[5]\n",
    "except LookupError: #순서 잘못\n",
    "    print('LookupError 예외가 발생했습니다.')\n",
    "except KeyError: #원래 위\n",
    "    print('딕셔너리 키(key) 값을 찾을 수 없습니다.')"
   ]
  },
  {
   "cell_type": "code",
   "execution_count": 89,
   "metadata": {},
   "outputs": [
    {
     "name": "stdout",
     "output_type": "stream",
     "text": [
      "딕셔너리 키(key) 값을 찾을 수 없습니다.\n"
     ]
    }
   ],
   "source": [
    "# 예시 ; 예외 클래스 계층\n",
    "d = {}\n",
    "try:\n",
    "    x = d[5]\n",
    "\n",
    "except KeyError: #원래 위\n",
    "    print('딕셔너리 키(key) 값을 찾을 수 없습니다.')\n",
    "except LookupError: #순서 잘못\n",
    "    print('LookupError 예외가 발생했습니다.')"
   ]
  },
  {
   "cell_type": "markdown",
   "metadata": {},
   "source": [
    "##### # try finally문\n",
    "try 문에서 예외발생 여부와 관련없이 finally 문은 반드시 실행됨"
   ]
  },
  {
   "cell_type": "markdown",
   "metadata": {},
   "source": [
    "##### # 예외회피\n",
    "- pass 명령어\n",
    "\n",
    "    - 오류발생시 처리하지 않고 그냥통과\n",
    "    - 이럴때 except문에 pass 명령어 추가"
   ]
  },
  {
   "cell_type": "code",
   "execution_count": 94,
   "metadata": {},
   "outputs": [
    {
     "ename": "NameError",
     "evalue": "name 'StreamListner' is not defined",
     "output_type": "error",
     "traceback": [
      "\u001b[0;31m---------------------------------------------------------------------------\u001b[0m",
      "\u001b[0;31mNameError\u001b[0m                                 Traceback (most recent call last)",
      "\u001b[0;32m<ipython-input-94-b392655c14b1>\u001b[0m in \u001b[0;36m<module>\u001b[0;34m()\u001b[0m\n\u001b[0;32m----> 1\u001b[0;31m \u001b[0;32mclass\u001b[0m \u001b[0mListner\u001b[0m\u001b[0;34m(\u001b[0m\u001b[0mStreamListner\u001b[0m\u001b[0;34m)\u001b[0m\u001b[0;34m:\u001b[0m\u001b[0;34m\u001b[0m\u001b[0m\n\u001b[0m\u001b[1;32m      2\u001b[0m     \u001b[0;32mdef\u001b[0m \u001b[0mon_data\u001b[0m\u001b[0;34m(\u001b[0m\u001b[0mself\u001b[0m\u001b[0;34m,\u001b[0m\u001b[0mdata\u001b[0m\u001b[0;34m)\u001b[0m\u001b[0;34m:\u001b[0m\u001b[0;34m\u001b[0m\u001b[0m\n\u001b[1;32m      3\u001b[0m         \u001b[0;32mwhile\u001b[0m\u001b[0;34m(\u001b[0m\u001b[0;32mTrue\u001b[0m\u001b[0;34m)\u001b[0m\u001b[0;34m:\u001b[0m\u001b[0;34m\u001b[0m\u001b[0m\n\u001b[1;32m      4\u001b[0m             \u001b[0;32mtry\u001b[0m\u001b[0;34m:\u001b[0m\u001b[0;34m\u001b[0m\u001b[0m\n\u001b[1;32m      5\u001b[0m                 \u001b[0mtweet_stream\u001b[0m\u001b[0;34m.\u001b[0m\u001b[0mwrite\u001b[0m\u001b[0;34m(\u001b[0m\u001b[0mdata\u001b[0m\u001b[0;34m)\u001b[0m\u001b[0;34m\u001b[0m\u001b[0m\n",
      "\u001b[0;31mNameError\u001b[0m: name 'StreamListner' is not defined"
     ]
    }
   ],
   "source": [
    "class Listner (StreamListner):\n",
    "    def on_data(self,data):\n",
    "        while(True):\n",
    "            try:\n",
    "                tweet_stream.write(data)\n",
    "                tweet_stream.write('\\n')\n",
    "                return True\n",
    "            except Exception:\n",
    "                pass"
   ]
  },
  {
   "cell_type": "markdown",
   "metadata": {},
   "source": [
    "##### # 예외 생성\n",
    "raise 예외객체 [(argu)]\n",
    "- 파이썬 기본 예외객체\n",
    "- 사용자가 직접정의한 예외객체 : 반드시 Exception 클래스를 상속해야한다\n",
    "\n",
    "raise 예외객체 [(argu)] from 근원예외객체\n",
    "- 근원예외객체부터 예외객체까지 연결된 연쇄예외객체 생성\n",
    "- except 문 내부에서 사용\n",
    "\n",
    "raise \n",
    "현재 발생한 예외를 재발행"
   ]
  },
  {
   "cell_type": "code",
   "execution_count": 96,
   "metadata": {},
   "outputs": [
    {
     "name": "stdout",
     "output_type": "stream",
     "text": [
      "merge()함수는 다음 버전에서 구현될 예정입니다.\n"
     ]
    }
   ],
   "source": [
    "# NotImplementedError\n",
    "# 고의로 예외발생\n",
    "\n",
    "class Ontology : pass\n",
    "\n",
    "o1 = Ontology()\n",
    "o2 = Ontology()\n",
    "\n",
    "def merge(ontology1,ontology2):\n",
    "    raise NotImplementedError('merge()함수는 다음 버전에서 구현될 예정입니다.')\n",
    "\n",
    "try:\n",
    "    merge(o1,o2)\n",
    "except NotImplementedError as e:\n",
    "    print(e)\n",
    "    pass"
   ]
  },
  {
   "cell_type": "code",
   "execution_count": 99,
   "metadata": {},
   "outputs": [
    {
     "name": "stdout",
     "output_type": "stream",
     "text": [
      "0-9 사이 숫자를 입력하세요... : 11\n",
      "ValueError: 1-9 사이의 숫자를 입력하세요!!!\n",
      "0-9 사이 숫자를 입력하세요... : 44\n",
      "ValueError: 1-9 사이의 숫자를 입력하세요!!!\n",
      "0-9 사이 숫자를 입력하세요... : 2\n",
      "통과하였습니다.\n"
     ]
    }
   ],
   "source": [
    "# 무한 루프와 예외처리 - 예외처리로 사용자 입력확인\n",
    "while True:\n",
    "    try:\n",
    "        i = int(input('0-9 사이 숫자를 입력하세요... : '))\n",
    "        if type(i) == int and 0<i<10:\n",
    "            print('통과하였습니다.')\n",
    "            break\n",
    "        else:\n",
    "            raise ValueError\n",
    "    except ValueError:\n",
    "        print('ValueError: 1-9 사이의 숫자를 입력하세요!!!')\n"
   ]
  },
  {
   "cell_type": "markdown",
   "metadata": {},
   "source": [
    "##### # 가정설정문\n",
    "작성방법 assert 불린표현식,[추가표현식]\n",
    "- 불린이 False인경우 AssertionError 발생\n",
    "\n",
    "언제사용?\n",
    "- 사전조건/사후조건 설정\n",
    "- 코드 테스트 디버깅할때 유용\n",
    "\n",
    "가정설정문 비활성화\n",
    "- 테스트/디버깅 아닐대 비활성\n",
    "\n",
    "    - 방법1 콘솔창에서 -O(대문자) 입력\n",
    "    - 방법2 PYTHONOPTIMIZE 변수를 0으로 설정\n",
    "    - 방법3 모든 assert 문을 주석처리\n"
   ]
  },
  {
   "cell_type": "code",
   "execution_count": 102,
   "metadata": {
    "scrolled": true
   },
   "outputs": [
    {
     "ename": "AssertionError",
     "evalue": "0(zero) 전달인자",
     "output_type": "error",
     "traceback": [
      "\u001b[0;31m---------------------------------------------------------------------------\u001b[0m",
      "\u001b[0;31mAssertionError\u001b[0m                            Traceback (most recent call last)",
      "\u001b[0;32m<ipython-input-102-f5334ac4891e>\u001b[0m in \u001b[0;36m<module>\u001b[0;34m()\u001b[0m\n\u001b[1;32m      8\u001b[0m     \u001b[0;32mreturn\u001b[0m \u001b[0mresult\u001b[0m\u001b[0;34m\u001b[0m\u001b[0m\n\u001b[1;32m      9\u001b[0m \u001b[0;34m\u001b[0m\u001b[0m\n\u001b[0;32m---> 10\u001b[0;31m \u001b[0mproduct\u001b[0m\u001b[0;34m(\u001b[0m\u001b[0;36m2\u001b[0m\u001b[0;34m,\u001b[0m\u001b[0;36m3\u001b[0m\u001b[0;34m,\u001b[0m\u001b[0;36m0\u001b[0m\u001b[0;34m,\u001b[0m\u001b[0;36m5\u001b[0m\u001b[0;34m)\u001b[0m\u001b[0;34m\u001b[0m\u001b[0m\n\u001b[0m",
      "\u001b[0;32m<ipython-input-102-f5334ac4891e>\u001b[0m in \u001b[0;36mproduct\u001b[0;34m(*args)\u001b[0m\n\u001b[1;32m      2\u001b[0m \u001b[0;31m# Pessimistic approach\u001b[0m\u001b[0;34m\u001b[0m\u001b[0;34m\u001b[0m\u001b[0m\n\u001b[1;32m      3\u001b[0m \u001b[0;32mdef\u001b[0m \u001b[0mproduct\u001b[0m\u001b[0;34m(\u001b[0m\u001b[0;34m*\u001b[0m\u001b[0margs\u001b[0m\u001b[0;34m)\u001b[0m\u001b[0;34m:\u001b[0m\u001b[0;34m\u001b[0m\u001b[0m\n\u001b[0;32m----> 4\u001b[0;31m     \u001b[0;32massert\u001b[0m \u001b[0mall\u001b[0m\u001b[0;34m(\u001b[0m\u001b[0margs\u001b[0m\u001b[0;34m)\u001b[0m\u001b[0;34m,\u001b[0m\u001b[0;34m'0(zero) 전달인자'\u001b[0m\u001b[0;34m\u001b[0m\u001b[0m\n\u001b[0m\u001b[1;32m      5\u001b[0m     \u001b[0mresult\u001b[0m \u001b[0;34m=\u001b[0m \u001b[0;36m1\u001b[0m\u001b[0;34m\u001b[0m\u001b[0m\n\u001b[1;32m      6\u001b[0m     \u001b[0;32mfor\u001b[0m \u001b[0marg\u001b[0m \u001b[0;32min\u001b[0m \u001b[0margs\u001b[0m\u001b[0;34m:\u001b[0m\u001b[0;34m\u001b[0m\u001b[0m\n",
      "\u001b[0;31mAssertionError\u001b[0m: 0(zero) 전달인자"
     ]
    }
   ],
   "source": [
    "# 예시 : 가정 설정문\n",
    "# Pessimistic approach\n",
    "def product(*args):\n",
    "    assert all(args),'0(zero) 전달인자'\n",
    "    result = 1\n",
    "    for arg in args:\n",
    "        result *= arg\n",
    "    return result\n",
    "\n",
    "product(2,3,0,5)"
   ]
  },
  {
   "cell_type": "code",
   "execution_count": 103,
   "metadata": {
    "scrolled": true
   },
   "outputs": [
    {
     "ename": "AssertionError",
     "evalue": "0(zero) 전달인자",
     "output_type": "error",
     "traceback": [
      "\u001b[0;31m---------------------------------------------------------------------------\u001b[0m",
      "\u001b[0;31mAssertionError\u001b[0m                            Traceback (most recent call last)",
      "\u001b[0;32m<ipython-input-103-38250031f5b9>\u001b[0m in \u001b[0;36m<module>\u001b[0;34m()\u001b[0m\n\u001b[1;32m      8\u001b[0m     \u001b[0;32mreturn\u001b[0m \u001b[0mresult\u001b[0m\u001b[0;34m\u001b[0m\u001b[0m\n\u001b[1;32m      9\u001b[0m \u001b[0;34m\u001b[0m\u001b[0m\n\u001b[0;32m---> 10\u001b[0;31m \u001b[0mproduct\u001b[0m\u001b[0;34m(\u001b[0m\u001b[0;36m2\u001b[0m\u001b[0;34m,\u001b[0m\u001b[0;36m3\u001b[0m\u001b[0;34m,\u001b[0m\u001b[0;36m0\u001b[0m\u001b[0;34m,\u001b[0m\u001b[0;36m5\u001b[0m\u001b[0;34m)\u001b[0m\u001b[0;34m\u001b[0m\u001b[0m\n\u001b[0m",
      "\u001b[0;32m<ipython-input-103-38250031f5b9>\u001b[0m in \u001b[0;36mproduct\u001b[0;34m(*args)\u001b[0m\n\u001b[1;32m      5\u001b[0m     \u001b[0;32mfor\u001b[0m \u001b[0marg\u001b[0m \u001b[0;32min\u001b[0m \u001b[0margs\u001b[0m\u001b[0;34m:\u001b[0m\u001b[0;34m\u001b[0m\u001b[0m\n\u001b[1;32m      6\u001b[0m         \u001b[0mresult\u001b[0m \u001b[0;34m*=\u001b[0m \u001b[0marg\u001b[0m\u001b[0;34m\u001b[0m\u001b[0m\n\u001b[0;32m----> 7\u001b[0;31m     \u001b[0;32massert\u001b[0m \u001b[0mresult\u001b[0m\u001b[0;34m,\u001b[0m \u001b[0;34m'0(zero) 전달인자'\u001b[0m\u001b[0;34m\u001b[0m\u001b[0m\n\u001b[0m\u001b[1;32m      8\u001b[0m     \u001b[0;32mreturn\u001b[0m \u001b[0mresult\u001b[0m\u001b[0;34m\u001b[0m\u001b[0m\n\u001b[1;32m      9\u001b[0m \u001b[0;34m\u001b[0m\u001b[0m\n",
      "\u001b[0;31mAssertionError\u001b[0m: 0(zero) 전달인자"
     ]
    }
   ],
   "source": [
    "# 예시 : 가정 설정문\n",
    "# optiistic approach\n",
    "def product(*args):\n",
    "    result = 1\n",
    "    for arg in args:\n",
    "        result *= arg\n",
    "    assert result, '0(zero) 전달인자'\n",
    "    return result\n",
    "\n",
    "product(2,3,0,5)"
   ]
  },
  {
   "cell_type": "markdown",
   "metadata": {},
   "source": [
    "#사용자 예외클래스\n",
    "        \n",
    "    class 예외이름(상위예외) : pass\n",
    "\n",
    "사용자예외는 상위예외 계층 아래 속함\n",
    "상위예외는 다음중 선택가능\n",
    "- Exception\n",
    "- Exception을 상속받는 하위 예외클래스"
   ]
  },
  {
   "cell_type": "code",
   "execution_count": null,
   "metadata": {},
   "outputs": [],
   "source": [
    "# 예시 : 사용자 예외 클래스가 없는 경우\n",
    "found = False\n",
    "for row, record in enumerate(table):\n",
    "    for column, field in enumerate(record):\n",
    "        for index, element in enumerate(field):\n",
    "            if element == target:\n",
    "                found = True\n",
    "                break\n",
    "        if found:\n",
    "            break\n",
    "    if found:\n",
    "        break\n",
    "if found:\n",
    "    print('Found at ({},{},{})'.format(row,column,index))\n",
    "else:\n",
    "    print('Not found')"
   ]
  },
  {
   "cell_type": "code",
   "execution_count": null,
   "metadata": {},
   "outputs": [],
   "source": [
    "# 예시 : 사용자 예외클래스가 있는 경우\n",
    "class FoundException(Exception): pass\n",
    "for row, record in enumerate(table):\n",
    "    for column, field in enumerate(record):\n",
    "        for index, element in enumerate(field):\n",
    "            if element == target:\n",
    "                raise FoundException()\n",
    "        if found:\n",
    "            break\n",
    "    if found:\n",
    "        break\n",
    "if found:\n",
    "    print('Found at ({},{},{})'.format(row,column,index))\n",
    "else:\n",
    "    print('Not found')"
   ]
  },
  {
   "cell_type": "code",
   "execution_count": null,
   "metadata": {},
   "outputs": [],
   "source": []
  }
 ],
 "metadata": {
  "kernelspec": {
   "display_name": "Python 3",
   "language": "python",
   "name": "python3"
  },
  "language_info": {
   "codemirror_mode": {
    "name": "ipython",
    "version": 3
   },
   "file_extension": ".py",
   "mimetype": "text/x-python",
   "name": "python",
   "nbconvert_exporter": "python",
   "pygments_lexer": "ipython3",
   "version": "3.6.5"
  }
 },
 "nbformat": 4,
 "nbformat_minor": 2
}
